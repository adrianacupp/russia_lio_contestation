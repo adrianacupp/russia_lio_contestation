{
 "cells": [
  {
   "attachments": {},
   "cell_type": "markdown",
   "metadata": {},
   "source": [
    "## Import Modules"
   ]
  },
  {
   "cell_type": "code",
   "execution_count": 1,
   "metadata": {},
   "outputs": [],
   "source": [
    "import pandas as pd\n",
    "import numpy as np\n",
    "import os, random, codecs, json, pickle\n",
    "seed = 99\n",
    "random.seed(seed)\n",
    "np.random.seed(seed)\n",
    "from collections import Counter\n",
    "\n",
    "from ast import literal_eval\n",
    "from pprint import pprint\n",
    "import gensim\n",
    "import gensim.corpora as corpora\n",
    "from gensim.utils import simple_preprocess\n",
    "from gensim.models import CoherenceModel\n",
    "import gensim.test.utils \n",
    "import bitermplus\n",
    "import tqdm\n",
    "import itertools\n",
    "\n",
    "%matplotlib inline\n",
    "import matplotlib.pyplot as plt\n",
    "from pyvis.network import Network\n",
    "\n",
    "import tomotopy as tp\n",
    "from tomotopy.utils import Corpus\n",
    "import tmplot as tmp\n",
    "import altair\n",
    "import ipywidgets\n",
    "\n",
    "from imp import reload\n",
    "import pyLDAvis\n",
    "import pyLDAvis.gensim_models\n",
    "import warnings\n",
    "warnings.filterwarnings(\"ignore\", category=DeprecationWarning)\n",
    "warnings.filterwarnings(\"ignore\", category=FutureWarning)"
   ]
  },
  {
   "cell_type": "code",
   "execution_count": null,
   "metadata": {},
   "outputs": [],
   "source": [
    "print(tp.isa)"
   ]
  },
  {
   "attachments": {},
   "cell_type": "markdown",
   "metadata": {},
   "source": [
    "## Text Cleaning"
   ]
  },
  {
   "cell_type": "code",
   "execution_count": 2,
   "metadata": {},
   "outputs": [
    {
     "name": "stdout",
     "output_type": "stream",
     "text": [
      "<class 'pandas.core.frame.DataFrame'>\n",
      "RangeIndex: 33189 entries, 0 to 33188\n",
      "Data columns (total 7 columns):\n",
      " #   Column        Non-Null Count  Dtype \n",
      "---  ------        --------------  ----- \n",
      " 0   date          33189 non-null  object\n",
      " 1   URL           33189 non-null  object\n",
      " 2   description   30316 non-null  object\n",
      " 3   introduction  30316 non-null  object\n",
      " 4   id            33189 non-null  int64 \n",
      " 5   speaker       33189 non-null  object\n",
      " 6   text          33189 non-null  object\n",
      "dtypes: int64(1), object(6)\n",
      "memory usage: 1.8+ MB\n"
     ]
    }
   ],
   "source": [
    "#read the dataframe\n",
    "kremlin = pd.read_excel('data/putin_corpus.xlsx')\n",
    "kremlin.rename(columns = {'p':'text'}, inplace = True)\n",
    "kremlin.info()"
   ]
  },
  {
   "cell_type": "code",
   "execution_count": 4,
   "metadata": {},
   "outputs": [
    {
     "data": {
      "text/html": [
       "<div>\n",
       "<style scoped>\n",
       "    .dataframe tbody tr th:only-of-type {\n",
       "        vertical-align: middle;\n",
       "    }\n",
       "\n",
       "    .dataframe tbody tr th {\n",
       "        vertical-align: top;\n",
       "    }\n",
       "\n",
       "    .dataframe thead th {\n",
       "        text-align: right;\n",
       "    }\n",
       "</style>\n",
       "<table border=\"1\" class=\"dataframe\">\n",
       "  <thead>\n",
       "    <tr style=\"text-align: right;\">\n",
       "      <th></th>\n",
       "      <th>date</th>\n",
       "      <th>URL</th>\n",
       "      <th>description</th>\n",
       "      <th>introduction</th>\n",
       "      <th>id</th>\n",
       "      <th>speaker</th>\n",
       "      <th>text</th>\n",
       "    </tr>\n",
       "  </thead>\n",
       "  <tbody>\n",
       "    <tr>\n",
       "      <th>0</th>\n",
       "      <td>2012-05-07</td>\n",
       "      <td>http://kremlin.ru/events/president/news/15224</td>\n",
       "      <td>В Большом Кремлёвском дворце состоялась торжес...</td>\n",
       "      <td>В Большом Кремлёвском дворце состоялась торжес...</td>\n",
       "      <td>1</td>\n",
       "      <td>Д.Медведев</td>\n",
       "      <td>Уважаемые граждане России! Дорогие друзья!</td>\n",
       "    </tr>\n",
       "    <tr>\n",
       "      <th>1</th>\n",
       "      <td>2012-05-07</td>\n",
       "      <td>http://kremlin.ru/events/president/news/15224</td>\n",
       "      <td>В Большом Кремлёвском дворце состоялась торжес...</td>\n",
       "      <td>В Большом Кремлёвском дворце состоялась торжес...</td>\n",
       "      <td>2</td>\n",
       "      <td>Д.Медведев</td>\n",
       "      <td>Вступление избранного Президента в должность –...</td>\n",
       "    </tr>\n",
       "    <tr>\n",
       "      <th>2</th>\n",
       "      <td>2012-05-07</td>\n",
       "      <td>http://kremlin.ru/events/president/news/15224</td>\n",
       "      <td>В Большом Кремлёвском дворце состоялась торжес...</td>\n",
       "      <td>В Большом Кремлёвском дворце состоялась торжес...</td>\n",
       "      <td>3</td>\n",
       "      <td>Д.Медведев</td>\n",
       "      <td>Последовательность государственного курса – эт...</td>\n",
       "    </tr>\n",
       "    <tr>\n",
       "      <th>3</th>\n",
       "      <td>2012-05-07</td>\n",
       "      <td>http://kremlin.ru/events/president/news/15224</td>\n",
       "      <td>В Большом Кремлёвском дворце состоялась торжес...</td>\n",
       "      <td>В Большом Кремлёвском дворце состоялась торжес...</td>\n",
       "      <td>4</td>\n",
       "      <td>Д.Медведев</td>\n",
       "      <td>Именно эти задачи были приоритетными для меня ...</td>\n",
       "    </tr>\n",
       "    <tr>\n",
       "      <th>4</th>\n",
       "      <td>2012-05-07</td>\n",
       "      <td>http://kremlin.ru/events/president/news/15224</td>\n",
       "      <td>В Большом Кремлёвском дворце состоялась торжес...</td>\n",
       "      <td>В Большом Кремлёвском дворце состоялась торжес...</td>\n",
       "      <td>5</td>\n",
       "      <td>Д.Медведев</td>\n",
       "      <td>Нам многое удалось – даже в непростой период г...</td>\n",
       "    </tr>\n",
       "  </tbody>\n",
       "</table>\n",
       "</div>"
      ],
      "text/plain": [
       "         date                                            URL  \\\n",
       "0  2012-05-07  http://kremlin.ru/events/president/news/15224   \n",
       "1  2012-05-07  http://kremlin.ru/events/president/news/15224   \n",
       "2  2012-05-07  http://kremlin.ru/events/president/news/15224   \n",
       "3  2012-05-07  http://kremlin.ru/events/president/news/15224   \n",
       "4  2012-05-07  http://kremlin.ru/events/president/news/15224   \n",
       "\n",
       "                                         description  \\\n",
       "0  В Большом Кремлёвском дворце состоялась торжес...   \n",
       "1  В Большом Кремлёвском дворце состоялась торжес...   \n",
       "2  В Большом Кремлёвском дворце состоялась торжес...   \n",
       "3  В Большом Кремлёвском дворце состоялась торжес...   \n",
       "4  В Большом Кремлёвском дворце состоялась торжес...   \n",
       "\n",
       "                                        introduction  id     speaker  \\\n",
       "0  В Большом Кремлёвском дворце состоялась торжес...   1  Д.Медведев   \n",
       "1  В Большом Кремлёвском дворце состоялась торжес...   2  Д.Медведев   \n",
       "2  В Большом Кремлёвском дворце состоялась торжес...   3  Д.Медведев   \n",
       "3  В Большом Кремлёвском дворце состоялась торжес...   4  Д.Медведев   \n",
       "4  В Большом Кремлёвском дворце состоялась торжес...   5  Д.Медведев   \n",
       "\n",
       "                                                text  \n",
       "0         Уважаемые граждане России! Дорогие друзья!  \n",
       "1  Вступление избранного Президента в должность –...  \n",
       "2  Последовательность государственного курса – эт...  \n",
       "3  Именно эти задачи были приоритетными для меня ...  \n",
       "4  Нам многое удалось – даже в непростой период г...  "
      ]
     },
     "execution_count": 4,
     "metadata": {},
     "output_type": "execute_result"
    }
   ],
   "source": [
    "kremlin.head()"
   ]
  },
  {
   "cell_type": "code",
   "execution_count": 3,
   "metadata": {},
   "outputs": [
    {
     "data": {
      "text/plain": [
       "0        2012-05-07\n",
       "1        2012-05-07\n",
       "2        2012-05-07\n",
       "3        2012-05-07\n",
       "4        2012-05-07\n",
       "            ...    \n",
       "33184    2022-08-16\n",
       "33185    2022-08-16\n",
       "33186    2022-08-16\n",
       "33187    2022-08-16\n",
       "33188    2022-08-16\n",
       "Name: date, Length: 33189, dtype: object"
      ]
     },
     "execution_count": 3,
     "metadata": {},
     "output_type": "execute_result"
    }
   ],
   "source": [
    "kremlin['date']"
   ]
  },
  {
   "cell_type": "code",
   "execution_count": null,
   "metadata": {},
   "outputs": [],
   "source": [
    "# words like НАТО and Евросоюз are in the dataset\n",
    "kremlin[kremlin['text'].str.contains('Евросоюз')]"
   ]
  },
  {
   "cell_type": "code",
   "execution_count": null,
   "metadata": {},
   "outputs": [],
   "source": [
    "#delete entries with less than 15 words (mostly greetings)\n",
    "kremlin['word_count'] = kremlin['text'].str.split().str.len()\n",
    "kremlin['word_count'].sort_values(ascending=False)\n"
   ]
  },
  {
   "cell_type": "code",
   "execution_count": null,
   "metadata": {},
   "outputs": [],
   "source": [
    "short_text = kremlin[kremlin['word_count'] < 15]"
   ]
  },
  {
   "cell_type": "code",
   "execution_count": null,
   "metadata": {},
   "outputs": [],
   "source": [
    "short_text[short_text['text'].str.contains('Евросоюз')]"
   ]
  },
  {
   "cell_type": "code",
   "execution_count": null,
   "metadata": {},
   "outputs": [],
   "source": [
    "df = kremlin[kremlin['word_count'] > 15].reset_index(drop=True)"
   ]
  },
  {
   "cell_type": "code",
   "execution_count": null,
   "metadata": {},
   "outputs": [],
   "source": [
    "df[df['text'].str.contains('Евросоюз')].sort_values(by= 'word_count', ascending=False).head()"
   ]
  },
  {
   "cell_type": "code",
   "execution_count": null,
   "metadata": {},
   "outputs": [],
   "source": [
    "#Identify Noise with Regular Expression\n",
    "import re \n",
    "RE_SUSPICIOUS = re.compile(r'[Äô&#<>{}\\[\\]\\\\]')\n",
    "\n",
    "def impurity(text, min_len=10): \n",
    "    \"\"\"returns the share of suspicious characters in a text\"\"\" \n",
    "    if text == None or len(text) < min_len: \n",
    "        return 0 \n",
    "    else: \n",
    "        return len(RE_SUSPICIOUS.findall(text))/len(text)"
   ]
  },
  {
   "cell_type": "code",
   "execution_count": null,
   "metadata": {},
   "outputs": [],
   "source": [
    "# add new column to data frame\n",
    "df['impurity'] = df['text'].apply(impurity, min_len=10)\n",
    "df['impurity'].sort_values().value_counts()"
   ]
  },
  {
   "cell_type": "code",
   "execution_count": null,
   "metadata": {},
   "outputs": [],
   "source": [
    "# get the top 3 records \n",
    "#critical part is just []...I will leave as it is for the moment\n",
    "df[['text', 'impurity']].sort_values(by='impurity', ascending=False).head(3)"
   ]
  },
  {
   "cell_type": "code",
   "execution_count": null,
   "metadata": {},
   "outputs": [],
   "source": [
    "#create a function to clean the text\n",
    "def clean(text):\n",
    "     # everything non-alpahnumeric with a space\n",
    "     text = re.sub(r'\\W+',' ', text)\n",
    "     # Two or more dots with one\n",
    "     text = re.sub(r'\\.{2,}', ' ', text)\n",
    "     # this code made several words to disappear\n",
    "     #convert text to lowercase             \n",
    "     text = text.lower()\n",
    "     #match all digits\n",
    "     text = re.sub(r'\\d+',' ', text)\n",
    "     # sequences of white spaces\n",
    "     text = re.sub(r'\\s+', ' ', text) \n",
    "     return text.strip()"
   ]
  },
  {
   "cell_type": "code",
   "execution_count": null,
   "metadata": {},
   "outputs": [],
   "source": [
    "#apply the function\n",
    "df['text'] = df['text'].map(clean)"
   ]
  },
  {
   "cell_type": "code",
   "execution_count": null,
   "metadata": {},
   "outputs": [],
   "source": [
    "# get the top 3 records \n",
    "#critical part is just []...I will leave as it is for the moment\n",
    "df[['text', 'impurity']].sort_values(by='impurity', ascending=False).head(3)"
   ]
  },
  {
   "cell_type": "code",
   "execution_count": null,
   "metadata": {},
   "outputs": [],
   "source": [
    "df.drop(columns=['impurity'], inplace=True)"
   ]
  },
  {
   "cell_type": "code",
   "execution_count": null,
   "metadata": {},
   "outputs": [],
   "source": [
    "df[df['text'].str.contains('евросоюз')]"
   ]
  },
  {
   "attachments": {},
   "cell_type": "markdown",
   "metadata": {},
   "source": [
    "## Text Preprocessing"
   ]
  },
  {
   "cell_type": "code",
   "execution_count": null,
   "metadata": {},
   "outputs": [],
   "source": [
    "import spacy\n",
    "from spacy.tokenizer import Tokenizer\n",
    "from spacy.lang.ru.stop_words import STOP_WORDS"
   ]
  },
  {
   "cell_type": "code",
   "execution_count": null,
   "metadata": {},
   "outputs": [],
   "source": [
    "nlp_spacy = spacy.load('ru_core_news_sm', exclude=[\"ner\"])\n",
    "nlp_spacy.disable_pipe(\"parser\")\n",
    "nlp_spacy.enable_pipe(\"senter\")"
   ]
  },
  {
   "cell_type": "code",
   "execution_count": null,
   "metadata": {},
   "outputs": [],
   "source": [
    "#let’s build phrase models that we can clean and use to create the corpus for our analysis\n",
    "bigram = gensim.models.Phrases(df['text'], min_count = 5,\n",
    "                               threshold = 100)"
   ]
  },
  {
   "cell_type": "code",
   "execution_count": null,
   "metadata": {},
   "outputs": [],
   "source": [
    "bigram_mod = gensim.models.phrases.Phraser(bigram)"
   ]
  },
  {
   "cell_type": "code",
   "execution_count": null,
   "metadata": {},
   "outputs": [],
   "source": [
    "#Customise Stopwords\n",
    "from spacy.lang.ru import stop_words\n",
    "nlp_spacy.Defaults.stop_words |= {'делать', 'день', 'дорогой','думать', 'добрый', 'два', 'коллега','знать','год','господин','миллиард', 'новый',\n",
    "                                    'раз', 'ни', 'понимать','президент','процент','путин', 'сегодня','слово','спасибо', 'уважаемый', 'уважаемыe','владимир','владимирович', 'видеть','хотеть'}\n",
    "stop_words = stop_words.STOP_WORDS\n",
    "#custom_stop_words = [word for word in nlp_spacy.Defaults.stop_words if word not in [\"eвросоюз\", \"нато\"]]"
   ]
  },
  {
   "cell_type": "raw",
   "metadata": {},
   "source": [
    "#remove stopwords\n",
    "def remove_stopwords(texts):\n",
    "    return[[word for word in simple_preprocess(str(doc)) if word not in custom_stop_words]\n",
    "            for doc in texts]\n",
    "\n",
    "def make_bigrams(texts):\n",
    "    return [bigram_mod[doc] for doc in texts]\n",
    "\n",
    "#Turn words into lemmas\n",
    "def lemmatization(texts, allowed_postags=['NOUN', 'ADJ', 'VERB', 'ADV']):\n",
    "    \"\"\"https://spacy.io/api/annotation\"\"\"\n",
    "    texts_out = []\n",
    "    for sent in texts:\n",
    "        doc = nlp_spacy(\" \".join(sent))\n",
    "        texts_out.append([token.lemma_.lower() for token in doc if token.pos_ in allowed_postags])\n",
    "    return texts_out"
   ]
  },
  {
   "cell_type": "code",
   "execution_count": null,
   "metadata": {},
   "outputs": [],
   "source": [
    "lemma = []\n",
    "#Turn words into lemmas\n",
    "for doc in nlp_spacy.pipe(df['text'].astype('unicode').values, batch_size=50):\n",
    "    lemma.append([n.lemma_.lower() for n in doc\n",
    "                if n.lemma_.lower() not in stop_words])\n",
    "\n",
    "df['lemma'] = lemma"
   ]
  },
  {
   "cell_type": "code",
   "execution_count": null,
   "metadata": {},
   "outputs": [],
   "source": [
    "df[df['text'].str.contains('евросоюз')]"
   ]
  },
  {
   "cell_type": "raw",
   "metadata": {},
   "source": [
    "data_words_nostops = remove_stopwords(df['text'])"
   ]
  },
  {
   "cell_type": "raw",
   "metadata": {},
   "source": [
    "data_words_bigram = make_bigrams(data_words_nostops)"
   ]
  },
  {
   "cell_type": "raw",
   "metadata": {},
   "source": [
    "data_lemma = lemmatization(data_words_bigram, \n",
    "                           allowed_postags=['NOUN', 'ADJ', 'VERB', 'ADV'])"
   ]
  },
  {
   "cell_type": "raw",
   "metadata": {},
   "source": [
    "lemma = pd.DataFrame({'lemma': data_lemma})"
   ]
  },
  {
   "cell_type": "raw",
   "metadata": {},
   "source": [
    "lemma.to_pickle('data/lemma_2.pkl')"
   ]
  },
  {
   "cell_type": "code",
   "execution_count": null,
   "metadata": {},
   "outputs": [],
   "source": [
    "df.to_pickle('data/df_lemma.pkl')"
   ]
  },
  {
   "attachments": {},
   "cell_type": "markdown",
   "metadata": {},
   "source": [
    "### Read saved lemma corpus"
   ]
  },
  {
   "cell_type": "code",
   "execution_count": 10,
   "metadata": {},
   "outputs": [],
   "source": [
    "#read and transform the preprocessed data in a list\n",
    "read_lemma = pd.read_pickle('data/df_lemma.pkl')\n",
    "data_lemma = read_lemma['lemma'].tolist()"
   ]
  },
  {
   "cell_type": "code",
   "execution_count": 3,
   "metadata": {},
   "outputs": [
    {
     "data": {
      "text/html": [
       "<div>\n",
       "<style scoped>\n",
       "    .dataframe tbody tr th:only-of-type {\n",
       "        vertical-align: middle;\n",
       "    }\n",
       "\n",
       "    .dataframe tbody tr th {\n",
       "        vertical-align: top;\n",
       "    }\n",
       "\n",
       "    .dataframe thead th {\n",
       "        text-align: right;\n",
       "    }\n",
       "</style>\n",
       "<table border=\"1\" class=\"dataframe\">\n",
       "  <thead>\n",
       "    <tr style=\"text-align: right;\">\n",
       "      <th></th>\n",
       "      <th>date</th>\n",
       "      <th>URL</th>\n",
       "      <th>description</th>\n",
       "      <th>introduction</th>\n",
       "      <th>id</th>\n",
       "      <th>speaker</th>\n",
       "      <th>text</th>\n",
       "      <th>word_count</th>\n",
       "      <th>lemma</th>\n",
       "    </tr>\n",
       "  </thead>\n",
       "  <tbody>\n",
       "    <tr>\n",
       "      <th>12</th>\n",
       "      <td>2012-05-07</td>\n",
       "      <td>http://kremlin.ru/events/president/news/15224</td>\n",
       "      <td>В Большом Кремлёвском дворце состоялась торжес...</td>\n",
       "      <td>В Большом Кремлёвском дворце состоялась торжес...</td>\n",
       "      <td>19</td>\n",
       "      <td>В.Путин</td>\n",
       "      <td>мы вместе прошли большой и сложный путь повери...</td>\n",
       "      <td>100</td>\n",
       "      <td>[вместе, пройти, большой, сложный, путь, повер...</td>\n",
       "    </tr>\n",
       "    <tr>\n",
       "      <th>120</th>\n",
       "      <td>2012-05-26</td>\n",
       "      <td>http://kremlin.ru/events/president/news/15445</td>\n",
       "      <td>Участники съезда единогласно избрали на пост п...</td>\n",
       "      <td>Участники съезда единогласно избрали на пост п...</td>\n",
       "      <td>9</td>\n",
       "      <td>В.Путин</td>\n",
       "      <td>поэтому считаю правильным чтобы во главе парти...</td>\n",
       "      <td>50</td>\n",
       "      <td>[считать, правильный, глава, партия, стоять, д...</td>\n",
       "    </tr>\n",
       "    <tr>\n",
       "      <th>132</th>\n",
       "      <td>2012-05-26</td>\n",
       "      <td>http://kremlin.ru/events/president/news/15445</td>\n",
       "      <td>Участники съезда единогласно избрали на пост п...</td>\n",
       "      <td>Участники съезда единогласно избрали на пост п...</td>\n",
       "      <td>21</td>\n",
       "      <td>В.Путин</td>\n",
       "      <td>предлагаю съезду партии кандидатуру дмитрия ан...</td>\n",
       "      <td>22</td>\n",
       "      <td>[предлагать, съезд, партия, кандидатура, дмитр...</td>\n",
       "    </tr>\n",
       "    <tr>\n",
       "      <th>133</th>\n",
       "      <td>2012-05-26</td>\n",
       "      <td>http://kremlin.ru/events/president/news/15445</td>\n",
       "      <td>Участники съезда единогласно избрали на пост п...</td>\n",
       "      <td>Участники съезда единогласно избрали на пост п...</td>\n",
       "      <td>22</td>\n",
       "      <td>В.Путин</td>\n",
       "      <td>прежде всего хочу поздравить дмитрия анатольев...</td>\n",
       "      <td>19</td>\n",
       "      <td>[поздравить, дмитрий, анатолиевич, избрание, п...</td>\n",
       "    </tr>\n",
       "    <tr>\n",
       "      <th>240</th>\n",
       "      <td>2012-06-15</td>\n",
       "      <td>http://kremlin.ru/events/president/transcripts...</td>\n",
       "      <td>NaN</td>\n",
       "      <td>NaN</td>\n",
       "      <td>6</td>\n",
       "      <td>В.Путин</td>\n",
       "      <td>это всё говорит о том что эта территория польз...</td>\n",
       "      <td>49</td>\n",
       "      <td>[говорить, территория, пользоваться, особый, в...</td>\n",
       "    </tr>\n",
       "    <tr>\n",
       "      <th>...</th>\n",
       "      <td>...</td>\n",
       "      <td>...</td>\n",
       "      <td>...</td>\n",
       "      <td>...</td>\n",
       "      <td>...</td>\n",
       "      <td>...</td>\n",
       "      <td>...</td>\n",
       "      <td>...</td>\n",
       "      <td>...</td>\n",
       "    </tr>\n",
       "    <tr>\n",
       "      <th>25681</th>\n",
       "      <td>2022-06-18</td>\n",
       "      <td>http://kremlin.ru/events/president/news/68673</td>\n",
       "      <td>Накануне Дня медицинского работника Владимир П...</td>\n",
       "      <td>Накануне Дня медицинского работника Владимир П...</td>\n",
       "      <td>76</td>\n",
       "      <td>А.Попов</td>\n",
       "      <td>сегодня мы открываем новую инфекционную больни...</td>\n",
       "      <td>59</td>\n",
       "      <td>[открывать, инфекционный, больница, одновремен...</td>\n",
       "    </tr>\n",
       "    <tr>\n",
       "      <th>25768</th>\n",
       "      <td>2022-06-18</td>\n",
       "      <td>http://kremlin.ru/events/president/news/68673</td>\n",
       "      <td>Накануне Дня медицинского работника Владимир П...</td>\n",
       "      <td>Накануне Дня медицинского работника Владимир П...</td>\n",
       "      <td>285</td>\n",
       "      <td>М.Мурашко</td>\n",
       "      <td>полностью отечественное оборудование непосредс...</td>\n",
       "      <td>52</td>\n",
       "      <td>[полностью, отечественный, оборудование, непос...</td>\n",
       "    </tr>\n",
       "    <tr>\n",
       "      <th>25874</th>\n",
       "      <td>2022-06-30</td>\n",
       "      <td>http://kremlin.ru/events/president/news/68790</td>\n",
       "      <td>Глава государства возложил цветы к подножию мо...</td>\n",
       "      <td>Глава государства возложил цветы к подножию мо...</td>\n",
       "      <td>27</td>\n",
       "      <td>С.Нарышкин</td>\n",
       "      <td>мы в полной мере осознаём возрастающую значимо...</td>\n",
       "      <td>58</td>\n",
       "      <td>[полный, мера, осознаём, возрастать, значимост...</td>\n",
       "    </tr>\n",
       "    <tr>\n",
       "      <th>25923</th>\n",
       "      <td>2022-08-16</td>\n",
       "      <td>http://kremlin.ru/events/president/news/69166</td>\n",
       "      <td>NaN</td>\n",
       "      <td>NaN</td>\n",
       "      <td>7</td>\n",
       "      <td>В.Путин</td>\n",
       "      <td>вот почему коллективный запад так называемый к...</td>\n",
       "      <td>76</td>\n",
       "      <td>[коллективный, запад, называть, коллективный, ...</td>\n",
       "    </tr>\n",
       "    <tr>\n",
       "      <th>25928</th>\n",
       "      <td>2022-08-16</td>\n",
       "      <td>http://kremlin.ru/events/president/news/69166</td>\n",
       "      <td>NaN</td>\n",
       "      <td>NaN</td>\n",
       "      <td>12</td>\n",
       "      <td>В.Путин</td>\n",
       "      <td>мы также видим что коллективный запад стремитс...</td>\n",
       "      <td>32</td>\n",
       "      <td>[коллективный, запад, стремиться, распространи...</td>\n",
       "    </tr>\n",
       "  </tbody>\n",
       "</table>\n",
       "<p>295 rows × 9 columns</p>\n",
       "</div>"
      ],
      "text/plain": [
       "             date                                                URL  \\\n",
       "12     2012-05-07      http://kremlin.ru/events/president/news/15224   \n",
       "120    2012-05-26      http://kremlin.ru/events/president/news/15445   \n",
       "132    2012-05-26      http://kremlin.ru/events/president/news/15445   \n",
       "133    2012-05-26      http://kremlin.ru/events/president/news/15445   \n",
       "240    2012-06-15  http://kremlin.ru/events/president/transcripts...   \n",
       "...           ...                                                ...   \n",
       "25681  2022-06-18      http://kremlin.ru/events/president/news/68673   \n",
       "25768  2022-06-18      http://kremlin.ru/events/president/news/68673   \n",
       "25874  2022-06-30      http://kremlin.ru/events/president/news/68790   \n",
       "25923  2022-08-16      http://kremlin.ru/events/president/news/69166   \n",
       "25928  2022-08-16      http://kremlin.ru/events/president/news/69166   \n",
       "\n",
       "                                             description  \\\n",
       "12     В Большом Кремлёвском дворце состоялась торжес...   \n",
       "120    Участники съезда единогласно избрали на пост п...   \n",
       "132    Участники съезда единогласно избрали на пост п...   \n",
       "133    Участники съезда единогласно избрали на пост п...   \n",
       "240                                                  NaN   \n",
       "...                                                  ...   \n",
       "25681  Накануне Дня медицинского работника Владимир П...   \n",
       "25768  Накануне Дня медицинского работника Владимир П...   \n",
       "25874  Глава государства возложил цветы к подножию мо...   \n",
       "25923                                                NaN   \n",
       "25928                                                NaN   \n",
       "\n",
       "                                            introduction   id     speaker  \\\n",
       "12     В Большом Кремлёвском дворце состоялась торжес...   19     В.Путин   \n",
       "120    Участники съезда единогласно избрали на пост п...    9     В.Путин   \n",
       "132    Участники съезда единогласно избрали на пост п...   21     В.Путин   \n",
       "133    Участники съезда единогласно избрали на пост п...   22     В.Путин   \n",
       "240                                                  NaN    6     В.Путин   \n",
       "...                                                  ...  ...         ...   \n",
       "25681  Накануне Дня медицинского работника Владимир П...   76     А.Попов   \n",
       "25768  Накануне Дня медицинского работника Владимир П...  285   М.Мурашко   \n",
       "25874  Глава государства возложил цветы к подножию мо...   27  С.Нарышкин   \n",
       "25923                                                NaN    7     В.Путин   \n",
       "25928                                                NaN   12     В.Путин   \n",
       "\n",
       "                                                    text  word_count  \\\n",
       "12     мы вместе прошли большой и сложный путь повери...         100   \n",
       "120    поэтому считаю правильным чтобы во главе парти...          50   \n",
       "132    предлагаю съезду партии кандидатуру дмитрия ан...          22   \n",
       "133    прежде всего хочу поздравить дмитрия анатольев...          19   \n",
       "240    это всё говорит о том что эта территория польз...          49   \n",
       "...                                                  ...         ...   \n",
       "25681  сегодня мы открываем новую инфекционную больни...          59   \n",
       "25768  полностью отечественное оборудование непосредс...          52   \n",
       "25874  мы в полной мере осознаём возрастающую значимо...          58   \n",
       "25923  вот почему коллективный запад так называемый к...          76   \n",
       "25928  мы также видим что коллективный запад стремитс...          32   \n",
       "\n",
       "                                                   lemma  \n",
       "12     [вместе, пройти, большой, сложный, путь, повер...  \n",
       "120    [считать, правильный, глава, партия, стоять, д...  \n",
       "132    [предлагать, съезд, партия, кандидатура, дмитр...  \n",
       "133    [поздравить, дмитрий, анатолиевич, избрание, п...  \n",
       "240    [говорить, территория, пользоваться, особый, в...  \n",
       "...                                                  ...  \n",
       "25681  [открывать, инфекционный, больница, одновремен...  \n",
       "25768  [полностью, отечественный, оборудование, непос...  \n",
       "25874  [полный, мера, осознаём, возрастать, значимост...  \n",
       "25923  [коллективный, запад, называть, коллективный, ...  \n",
       "25928  [коллективный, запад, стремиться, распространи...  \n",
       "\n",
       "[295 rows x 9 columns]"
      ]
     },
     "execution_count": 3,
     "metadata": {},
     "output_type": "execute_result"
    }
   ],
   "source": [
    "read_lemma[read_lemma['text'].str.contains('нато')]"
   ]
  },
  {
   "cell_type": "code",
   "execution_count": 4,
   "metadata": {},
   "outputs": [
    {
     "name": "stdout",
     "output_type": "stream",
     "text": [
      "мы также видим что коллективный запад стремится распространить на азиатско тихоокеанский регион свою блоковую систему по аналогии с нато в европе с этой целью формируются агрессивные военно политические союзы такие как aukus и другие\n"
     ]
    }
   ],
   "source": [
    "print(read_lemma.iloc[25928][\"text\"])"
   ]
  },
  {
   "cell_type": "raw",
   "metadata": {},
   "source": [
    "### it works\n",
    "word_to_search ='евросоюз'\n",
    "for sublist in data_lemma:\n",
    "    if word_to_search in sublist:\n",
    "        print(\"Found '{}' in sublist: {}\".format(word_to_search, sublist))"
   ]
  },
  {
   "cell_type": "code",
   "execution_count": 6,
   "metadata": {},
   "outputs": [
    {
     "data": {
      "text/plain": [
       "25936"
      ]
     },
     "execution_count": 6,
     "metadata": {},
     "output_type": "execute_result"
    }
   ],
   "source": [
    "len(data_lemma)"
   ]
  },
  {
   "cell_type": "code",
   "execution_count": 26,
   "metadata": {},
   "outputs": [],
   "source": [
    "docs = data_lemma\n",
    "# Add bigrams\n",
    "from gensim.models.phrases import Phrases\n",
    "# Add bigrams to docs (only ones that appear several times or more).\n",
    "bigram = Phrases(docs, min_count=100)\n",
    "for idx in range(len(docs)):\n",
    "    for token in bigram[docs[idx]]:\n",
    "        if '_' in token:\n",
    "            # Token is a bigram, add to document.\n",
    "            docs[idx].append(token)"
   ]
  },
  {
   "cell_type": "code",
   "execution_count": 27,
   "metadata": {},
   "outputs": [],
   "source": [
    "# Remove rare and common tokens.\n",
    "# Filter out words that occur too frequently or too rarely.\n",
    "# Filter out words that occur less than in 5 documents, or more than 50% of the documents.\n",
    "max_freq = 0.5\n",
    "min_wordcount = 5"
   ]
  },
  {
   "cell_type": "code",
   "execution_count": 28,
   "metadata": {},
   "outputs": [
    {
     "name": "stdout",
     "output_type": "stream",
     "text": [
      "Number of unique tokens: 8731\n",
      "Number of docs: 25936 (25936)\n"
     ]
    }
   ],
   "source": [
    "# Create a dictionary representation of the documents, and filter out frequent and rare words.\n",
    "from gensim.corpora import Dictionary\n",
    "dictionary = Dictionary(docs)\n",
    "dictionary.filter_extremes(no_below=min_wordcount, no_above=max_freq)\n",
    "\n",
    "# Bag-of-words representation of the documents.\n",
    "corpus = [dictionary.doc2bow(doc) for doc in docs]\n",
    "#MmCorpus.serialize(\"models/corpus.mm\", corpus)\n",
    "\n",
    "print('Number of unique tokens: %d' % len(dictionary))\n",
    "print('Number of docs: %d (%d)' % (len(corpus),len(docs)))"
   ]
  },
  {
   "cell_type": "raw",
   "metadata": {},
   "source": [
    "word_to_search ='евросоюз'\n",
    "for sublist in docs:\n",
    "    if word_to_search in sublist:\n",
    "        print(\"Found '{}' in sublist: {}\".format(word_to_search, sublist))"
   ]
  },
  {
   "cell_type": "raw",
   "metadata": {},
   "source": [
    "#filter out single words that are present more than twice in the list of lists\n",
    "from collections import Counter\n",
    "sublist_word_counts = [Counter(sublist) for sublist in docs]\n",
    "filtered_sublists = [[word for word, count in sublist_word_counts.items() if count <= 3] for sublist_word_counts in sublist_word_counts]\n",
    "filtered_sublists[20]\n",
    "docs = filtered_sublists"
   ]
  },
  {
   "cell_type": "code",
   "execution_count": 29,
   "metadata": {},
   "outputs": [
    {
     "data": {
      "text/plain": [
       "[('тоталитаризм', 1),\n",
       " ('подчиниться', 1),\n",
       " ('разваливать', 1),\n",
       " ('сколачивать', 1),\n",
       " ('хаотизации', 1),\n",
       " ('деиндустриализация', 1),\n",
       " ('aukus', 1),\n",
       " ('цепляться', 1),\n",
       " ('бенефициары', 1),\n",
       " ('глобалистской', 1)]"
      ]
     },
     "execution_count": 29,
     "metadata": {},
     "output_type": "execute_result"
    }
   ],
   "source": [
    "from collections import Counter\n",
    "c = Counter()\n",
    "for d in docs:\n",
    "    c.update(d)\n",
    "\n",
    "# 10 least common words in the corpus, by frequency\n",
    "c.most_common()[-10:]"
   ]
  },
  {
   "cell_type": "code",
   "execution_count": 30,
   "metadata": {},
   "outputs": [
    {
     "data": {
      "text/plain": [
       "[('россия', 6442),\n",
       " ('страна', 6274),\n",
       " ('человек', 4116),\n",
       " ('развитие', 3443),\n",
       " ('работа', 3368)]"
      ]
     },
     "execution_count": 30,
     "metadata": {},
     "output_type": "execute_result"
    }
   ],
   "source": [
    "c = Counter()\n",
    "for d in docs:\n",
    "    c.update(d)\n",
    "\n",
    "# 10 most common words in the corpus, by frequency\n",
    "c.most_common(min_wordcount)"
   ]
  },
  {
   "cell_type": "code",
   "execution_count": 10,
   "metadata": {},
   "outputs": [
    {
     "name": "stdout",
     "output_type": "stream",
     "text": [
      "The word 'нато' appears 126 times in the list of lists.\n"
     ]
    }
   ],
   "source": [
    "from itertools import chain\n",
    "c = Counter(chain.from_iterable(docs))\n",
    "#for d in docs:\n",
    "    #c.update(d)\n",
    "word = 'нато'\n",
    "print(\"The word '{}' appears {} times in the list of lists.\".format(word, c[word]))"
   ]
  },
  {
   "cell_type": "code",
   "execution_count": 11,
   "metadata": {},
   "outputs": [
    {
     "data": {
      "text/plain": [
       "4509"
      ]
     },
     "execution_count": 11,
     "metadata": {},
     "output_type": "execute_result"
    }
   ],
   "source": [
    "dictionary.token2id['нато']"
   ]
  },
  {
   "attachments": {},
   "cell_type": "markdown",
   "metadata": {},
   "source": [
    "## Correlated Topic Model 15 topics"
   ]
  },
  {
   "cell_type": "code",
   "execution_count": 32,
   "metadata": {},
   "outputs": [],
   "source": [
    "import tomotopy as tp\n",
    "\n",
    "# CTM model with 15 topics, removal of words appearing in fewer than 0.5% of the documents, \n",
    "# minimum word count, remove the 5 most common words\n",
    "params = {'num_topics': 15, 'min_cf': 100, 'min_df': int(len(docs)*0.005), 'rm_top': 5, 'random_state': seed}"
   ]
  },
  {
   "cell_type": "code",
   "execution_count": 24,
   "metadata": {},
   "outputs": [],
   "source": [
    "ctm = tp.CTModel(k=params['num_topics'],min_cf=params['min_cf'],min_df=params['min_df'],\n",
    "        seed=params['random_state'],rm_top=params['rm_top'])"
   ]
  },
  {
   "cell_type": "code",
   "execution_count": 25,
   "metadata": {},
   "outputs": [],
   "source": [
    "# Since we have more than ten thousand of documents, \n",
    "# setting the `num_beta_sample` smaller value will not cause an inaccurate result.\n",
    "ctm.num_beta_sample = 5"
   ]
  },
  {
   "cell_type": "code",
   "execution_count": 26,
   "metadata": {},
   "outputs": [
    {
     "name": "stderr",
     "output_type": "stream",
     "text": [
      "/var/folders/mm/gw92vpys6rggjz_4z42s244w0000gn/T/ipykernel_2376/3222773177.py:5: RuntimeWarning: The training result may differ even with fixed seed if `workers` != 1.\n",
      "  ctm.train(10)\n"
     ]
    },
    {
     "name": "stdout",
     "output_type": "stream",
     "text": [
      "Iteration: 0\tLog-likelihood: -8.537414039599726\n",
      "Iteration: 100\tLog-likelihood: -7.691137502400132\n",
      "Iteration: 200\tLog-likelihood: -7.376247053716817\n",
      "Iteration: 300\tLog-likelihood: -7.279474955197985\n",
      "Iteration: 400\tLog-likelihood: -7.240710953830579\n",
      "Iteration: 500\tLog-likelihood: -7.218669976717852\n",
      "Iteration: 600\tLog-likelihood: -7.225569427978337\n",
      "Iteration: 700\tLog-likelihood: -7.230497656081447\n",
      "Iteration: 800\tLog-likelihood: -7.219651593461853\n",
      "Iteration: 900\tLog-likelihood: -7.211487754846329\n",
      "Iteration: 1000\tLog-likelihood: -7.205283663462073\n"
     ]
    }
   ],
   "source": [
    "for doc in docs:\n",
    "    ctm.add_doc(doc)\n",
    "\n",
    "for i in range(0, 1001, 100):\n",
    "    ctm.train(10)\n",
    "    print('Iteration: {}\\tLog-likelihood: {}'.format(i, ctm.ll_per_word))"
   ]
  },
  {
   "cell_type": "code",
   "execution_count": 18,
   "metadata": {},
   "outputs": [
    {
     "name": "stdout",
     "output_type": "stream",
     "text": [
      "Num docs:25936, Num Vocabs:999, Total Words:398102\n"
     ]
    }
   ],
   "source": [
    "print('Num docs:{}, Num Vocabs:{}, Total Words:{}'.format(\n",
    "    len(ctm.docs), len(ctm.used_vocabs), ctm.num_words\n",
    "))"
   ]
  },
  {
   "cell_type": "code",
   "execution_count": 19,
   "metadata": {},
   "outputs": [
    {
     "name": "stdout",
     "output_type": "stream",
     "text": [
      "Removed Top words:  россия страна человек развитие работа\n"
     ]
    }
   ],
   "source": [
    "print('Removed Top words: ', *ctm.removed_top_words)"
   ]
  },
  {
   "cell_type": "code",
   "execution_count": 27,
   "metadata": {},
   "outputs": [
    {
     "name": "stdout",
     "output_type": "stream",
     "text": [
      "Topic #0\n",
      "\t\tэкономика\t0.05787384882569313\n",
      "\t\tрынок\t0.05543635040521622\n",
      "\t\tрост\t0.03677208349108696\n",
      "\t\tгаз\t0.03447387367486954\n",
      "\t\tкомпания\t0.03294173255562782\n",
      "\t\tмировой\t0.032175660133361816\n",
      "\t\tречь\t0.02674352377653122\n",
      "\t\tидти\t0.023957813158631325\n",
      "\t\tпроизводство\t0.023470314219594002\n",
      "\t\tэнергетика\t0.022356029599905014\n",
      "Topic #1\n",
      "\t\tпервый\t0.08366795629262924\n",
      "\t\tтерритория\t0.0450720340013504\n",
      "\t\tмера\t0.04098239913582802\n",
      "\t\tполный\t0.04064159467816353\n",
      "\t\tхарактер\t0.036637160927057266\n",
      "\t\tочередь\t0.029139498248696327\n",
      "\t\tбюджет\t0.027520684525370598\n",
      "\t\tотноситься\t0.022238239645957947\n",
      "\t\tзначение\t0.021130628883838654\n",
      "\t\tхозяйство\t0.020534224808216095\n",
      "Topic #2\n",
      "\t\tрешение\t0.04331524297595024\n",
      "\t\tэкономика\t0.037095777690410614\n",
      "\t\tсфера\t0.03587409481406212\n",
      "\t\tтехнология\t0.03531878814101219\n",
      "\t\tцифровой\t0.032542239874601364\n",
      "\t\tсреда\t0.031875867396593094\n",
      "\t\tздравоохранение\t0.03143162280321121\n",
      "\t\tсоциальный\t0.029321445152163506\n",
      "\t\tрубль\t0.0272112675011158\n",
      "\t\tповышение\t0.023657288402318954\n",
      "Topic #3\n",
      "\t\tучастие\t0.031893711537122726\n",
      "\t\tпринимать\t0.031023332849144936\n",
      "\t\tпринять\t0.029096070677042007\n",
      "\t\tспорт\t0.02878522127866745\n",
      "\t\tштат\t0.02679578959941864\n",
      "\t\tбольшой\t0.02318994328379631\n",
      "\t\tмероприятие\t0.022568246349692345\n",
      "\t\tбоевой\t0.02238173596560955\n",
      "\t\tмир\t0.020640982314944267\n",
      "\t\tпровести\t0.020454473793506622\n",
      "Topic #4\n",
      "\t\tвосток\t0.0752340778708458\n",
      "\t\tдальний\t0.05547960475087166\n",
      "\t\tдальний_восток\t0.050494831055402756\n",
      "\t\tрегион\t0.04707933962345123\n",
      "\t\tдоллар\t0.045786987990140915\n",
      "\t\tточка\t0.042002253234386444\n",
      "\t\tинвестиция\t0.040063731372356415\n",
      "\t\tфонд\t0.0372944138944149\n",
      "\t\tзрение\t0.03037111647427082\n",
      "\t\tточка_зрение\t0.029632631689310074\n",
      "Topic #5\n",
      "\t\tвеликий\t0.059536829590797424\n",
      "\t\tвойна\t0.054168254137039185\n",
      "\t\tрусский\t0.05072685703635216\n",
      "\t\tнарод\t0.04762960225343704\n",
      "\t\tистория\t0.03661713749170303\n",
      "\t\tкультура\t0.035860028117895126\n",
      "\t\tпобеда\t0.030216140672564507\n",
      "\t\tотечественный\t0.02925254963338375\n",
      "\t\tмировой\t0.02278272621333599\n",
      "\t\tпамять\t0.021750308573246002\n",
      "Topic #6\n",
      "\t\tроссийский\t0.07378003001213074\n",
      "\t\tфедерация\t0.04877312108874321\n",
      "\t\tцентр\t0.0451875738799572\n",
      "\t\tроссийский_федерация\t0.03888987749814987\n",
      "\t\tтехнология\t0.02873082086443901\n",
      "\t\tмедицинский\t0.02440977469086647\n",
      "\t\tнаучный\t0.023214591667056084\n",
      "\t\tгород\t0.022387158125638962\n",
      "\t\tпомощь\t0.02234118990600109\n",
      "\t\tрабочий\t0.021283911541104317\n",
      "Topic #7\n",
      "\t\tмолодой\t0.03903934359550476\n",
      "\t\tпервый\t0.0363997183740139\n",
      "\t\tзаниматься\t0.03445473313331604\n",
      "\t\tсказать\t0.03348224237561226\n",
      "\t\tговорить\t0.020561976358294487\n",
      "\t\tзнание\t0.019520020112395287\n",
      "\t\tпетербург\t0.018547525629401207\n",
      "\t\tкоманда\t0.018478062003850937\n",
      "\t\tпрофессия\t0.016602538526058197\n",
      "\t\tнаверное\t0.016324684023857117\n",
      "Topic #8\n",
      "\t\tорган\t0.034842465072870255\n",
      "\t\tсоюз\t0.03262188658118248\n",
      "\t\tзакон\t0.03235752880573273\n",
      "\t\tбезопасность\t0.02495560236275196\n",
      "\t\tправо\t0.02484985999763012\n",
      "\t\tвласть\t0.024585505947470665\n",
      "\t\tгосударственный\t0.02368669956922531\n",
      "\t\tпринять\t0.021254638209939003\n",
      "\t\tрешение\t0.02035583183169365\n",
      "\t\tсовет\t0.019562767818570137\n",
      "Topic #9\n",
      "\t\tуспех\t0.03475657105445862\n",
      "\t\tвысокий\t0.028592679649591446\n",
      "\t\tпраздник\t0.026158202439546585\n",
      "\t\tнаграда\t0.02532944455742836\n",
      "\t\tпоколение\t0.024086307734251022\n",
      "\t\tвклад\t0.02367192879319191\n",
      "\t\tпоздравлять\t0.022325195372104645\n",
      "\t\tтруд\t0.022169804200530052\n",
      "\t\tдруг\t0.02211800590157509\n",
      "\t\tпоблагодарить\t0.020512286573648453\n",
      "Topic #10\n",
      "\t\tпроект\t0.06745723634958267\n",
      "\t\tвнимание\t0.036558911204338074\n",
      "\t\tреализация\t0.023640215396881104\n",
      "\t\tкомпания\t0.02184225246310234\n",
      "\t\tпрограмма\t0.02117634005844593\n",
      "\t\tбизнес\t0.020976567640900612\n",
      "\t\tдеятельность\t0.01874576136469841\n",
      "\t\tреспублика\t0.016148703172802925\n",
      "\t\tсовместный\t0.015183131210505962\n",
      "\t\tсотрудничество\t0.013818010687828064\n",
      "Topic #11\n",
      "\t\tэкономический\t0.045439712703228\n",
      "\t\tмеждународный\t0.038360562175512314\n",
      "\t\tсотрудничество\t0.03493599221110344\n",
      "\t\tвопрос\t0.0324825681746006\n",
      "\t\tотношение\t0.027141259983181953\n",
      "\t\tпартнёр\t0.021237706765532494\n",
      "\t\tорганизация\t0.01993432641029358\n",
      "\t\tпроблема\t0.01975543051958084\n",
      "\t\tполитика\t0.017889805138111115\n",
      "\t\tбезопасность\t0.016969772055745125\n",
      "Topic #12\n",
      "\t\tмир\t0.04610690474510193\n",
      "\t\tдело\t0.029651375487446785\n",
      "\t\tобщий\t0.024732286110520363\n",
      "\t\tжизнь\t0.02285834774374962\n",
      "\t\tгосударство\t0.021335771307349205\n",
      "\t\tсила\t0.018153980374336243\n",
      "\t\tинтерес\t0.017861176282167435\n",
      "\t\tвремя\t0.016768045723438263\n",
      "\t\tбудущее\t0.016065318137407303\n",
      "\t\tребёнок\t0.015811555087566376\n",
      "Topic #13\n",
      "\t\tчисло\t0.024079496040940285\n",
      "\t\tзадача\t0.02397710271179676\n",
      "\t\tуровень\t0.022082841023802757\n",
      "\t\tсистема\t0.017645828425884247\n",
      "\t\tнеобходимый\t0.01757756620645523\n",
      "\t\tусловие\t0.0170314721763134\n",
      "\t\tсвязь\t0.015068947337567806\n",
      "\t\tнаправление\t0.01389143243432045\n",
      "\t\tсфера\t0.013533058576285839\n",
      "\t\tцель\t0.013055226765573025\n",
      "Topic #14\n",
      "\t\tговорить\t0.040046971291303635\n",
      "\t\tважный\t0.034428417682647705\n",
      "\t\tсказать\t0.03328714892268181\n",
      "\t\tработать\t0.027536911889910698\n",
      "\t\tсделать\t0.024552054703235626\n",
      "\t\tхороший\t0.02013329602777958\n",
      "\t\tвозможность\t0.019767506048083305\n",
      "\t\tрегион\t0.01887497492134571\n",
      "\t\tвопрос\t0.018640868365764618\n",
      "\t\tявляться\t0.01616811938583851\n"
     ]
    }
   ],
   "source": [
    "for k in range(ctm.k):\n",
    "        print('Topic #{}'.format(k))\n",
    "        for word, prob in ctm.get_topic_words(k):\n",
    "            print('\\t', word, prob, sep='\\t')"
   ]
  },
  {
   "cell_type": "code",
   "execution_count": 28,
   "metadata": {},
   "outputs": [
    {
     "name": "stdout",
     "output_type": "stream",
     "text": [
      "Topic #0 экономика рынок рост газ компания мировой\n",
      "Topic #1 первый территория мера полный характер очередь\n",
      "Topic #2 решение экономика сфера технология цифровой среда\n",
      "Topic #3 участие принимать принять спорт штат большой\n",
      "Topic #4 восток дальний дальний_восток регион доллар точка\n",
      "Topic #5 великий война русский народ история культура\n",
      "Topic #6 российский федерация центр российский_федерация технология медицинский\n",
      "Topic #7 молодой первый заниматься сказать говорить знание\n",
      "Topic #8 орган союз закон безопасность право власть\n",
      "Topic #9 успех высокий праздник награда поколение вклад\n",
      "Topic #10 проект внимание реализация компания программа бизнес\n",
      "Topic #11 экономический международный сотрудничество вопрос отношение партнёр\n",
      "Topic #12 мир дело общий жизнь государство сила\n",
      "Topic #13 число задача уровень система необходимый условие\n",
      "Topic #14 говорить важный сказать работать сделать хороший\n"
     ]
    }
   ],
   "source": [
    "# Let's visualize the result\n",
    "g = Network(width=800, height=800, font_color=\"#333\")\n",
    "correl = ctm.get_correlations().reshape([-1])\n",
    "correl.sort()\n",
    "top_tenth = ctm.k * (ctm.k - 1) // 10\n",
    "top_tenth = correl[-ctm.k - top_tenth]\n",
    "\n",
    "for k in range(ctm.k):\n",
    "    label = \"#{}\".format(k)\n",
    "    title= ' '.join(word for word, _ in ctm.get_topic_words(k, top_n=6))\n",
    "    print('Topic', label, title)\n",
    "    g.add_node(k, label=label, title=title, shape='ellipse')\n",
    "    for l, correlation in zip(range(k - 1), ctm.get_correlations(k)):\n",
    "        if correlation < top_tenth: continue\n",
    "        g.add_edge(k, l, value=float(correlation), title='{:.02}'.format(correlation))\n",
    "\n",
    "g.barnes_hut(gravity=-1000, spring_length=20)\n",
    "g.show_buttons()\n",
    "g.show(\"topic_network.html\")"
   ]
  },
  {
   "cell_type": "code",
   "execution_count": 32,
   "metadata": {},
   "outputs": [
    {
     "name": "stdout",
     "output_type": "stream",
     "text": [
      "==== Coherence : u_mass ====\n",
      "Average: -3.3218638274429586 \n",
      "Per Topic: [-3.010987803874249, -4.590648481360642, -4.176651226311114, -3.0913748728826995, -3.1635150074530487, -3.3169076071159482, -2.902765027233643, -3.451080690080684, -3.5348266456284105, -4.553656104674068, -2.7807152719518857, -2.9961596493457394, -2.96037472341257, -2.711391028946181, -2.5869032713734907]\n",
      "\n",
      "==== Coherence : c_uci ====\n",
      "Average: -0.31536439796076243 \n",
      "Per Topic: [0.6396654288947707, -1.783060681198974, -0.8890272180670318, -0.2334448192375141, -1.0204479120932617, -0.9616379867334968, 0.09979149490053207, 0.6806266718278278, -1.013700372652914, -1.0153208827088902, 0.6167445135741266, -0.03575309411234966, 0.2021306149871979, -0.02307864962005996, 0.006046922828601739]\n",
      "\n",
      "==== Coherence : c_npmi ====\n",
      "Average: 0.03263858646731498 \n",
      "Per Topic: [0.1248669505045296, -0.012481495584977869, 0.017783469454871685, 0.05923375353451323, 0.0489353486075446, -0.007019179965756599, 0.05654984632551459, 0.08999055913584594, -0.01915010740221213, 0.004472917835299562, 0.08794250424333751, 0.0012637790126507913, 0.03310003777812926, -0.0007946401972446251, 0.004885053727679157]\n",
      "\n",
      "==== Coherence : c_v ====\n",
      "Average: 0.5579294285674888 \n",
      "Per Topic: [0.7005092412233352, 0.433005790412426, 0.48805061280727385, 0.5979932129383088, 0.6410322189331055, 0.4608309417963028, 0.6871859639883041, 0.6395891219377517, 0.5442639768123627, 0.49710613414645194, 0.6369334638118744, 0.48105700612068175, 0.5971233576536179, 0.43811326622962954, 0.5261471197009087]\n",
      "\n"
     ]
    }
   ],
   "source": [
    "# calculate coherence using preset\n",
    "for preset in ('u_mass', 'c_uci', 'c_npmi', 'c_v'):\n",
    "    coh = tp.coherence.Coherence(ctm, coherence=preset)\n",
    "    average_coherence = coh.get_score()\n",
    "    coherence_per_topic = [coh.get_score(topic_id=k) for k in range(ctm.k)]\n",
    "    print('==== Coherence : {} ===='.format(preset))\n",
    "    print('Average:', average_coherence, '\\nPer Topic:', coherence_per_topic)\n",
    "    print()"
   ]
  },
  {
   "cell_type": "code",
   "execution_count": null,
   "metadata": {},
   "outputs": [],
   "source": [
    "ctm.save('models/ctm_15_topics_reduced_corpus.bin')"
   ]
  },
  {
   "cell_type": "code",
   "execution_count": 31,
   "metadata": {},
   "outputs": [
    {
     "name": "stdout",
     "output_type": "stream",
     "text": [
      "Top 10 words of topic #0\n",
      "[('война', 0.042973872274160385), ('великий', 0.0391751267015934), ('народ', 0.038462862372398376), ('сила', 0.031280867755413055), ('победа', 0.030806023627519608), ('желать', 0.020774967968463898), ('вооружённый', 0.02065625786781311), ('отечество', 0.01964721642434597), ('родина', 0.01881624199450016), ('память', 0.018756886944174767)]\n",
      "Top 10 words of topic #1\n",
      "[('семья', 0.0767105221748352), ('высокий', 0.05734938755631447), ('рабочий', 0.05649161711335182), ('ребёнок', 0.05575638264417648), ('следующий', 0.054530996829271317), ('труд', 0.0504872128367424), ('место', 0.04717866703867912), ('награда', 0.04693358764052391), ('оценка', 0.027940072119235992), ('рабочий_место', 0.02512167952954769)]\n",
      "Top 10 words of topic #2\n",
      "[('принять', 0.0969354435801506), ('идти', 0.08539339154958725), ('союз', 0.057148195803165436), ('выбор', 0.04701370745897293), ('соглашение', 0.04053889587521553), ('решение', 0.03838062286376953), ('речь', 0.03594084084033966), ('советский', 0.03462710976600647), ('евразийский', 0.027495432645082474), ('свободный', 0.026744728907942772)]\n",
      "Top 10 words of topic #3\n",
      "[('орган', 0.03955414146184921), ('восток', 0.03696933388710022), ('дальний', 0.03612776845693588), ('закон', 0.0360676571726799), ('федеральный', 0.032340727746486664), ('бизнес', 0.029034582898020744), ('государственный', 0.0274115651845932), ('власть', 0.02735145203769207), ('дальний_восток', 0.024826759472489357), ('просить', 0.022662736475467682)]\n",
      "Top 10 words of topic #4\n",
      "[('процент', 0.07097005844116211), ('последний', 0.052754562348127365), ('миллиард', 0.04305540397763252), ('господин', 0.038856375962495804), ('прошлый', 0.03601759672164917), ('доллар', 0.029157215729355812), ('прошлый_год', 0.027087273076176643), ('последний_год', 0.025253893807530403), ('министр', 0.024780765175819397), ('рубль', 0.024011928588151932)]\n",
      "Top 10 words of topic #5\n",
      "[('коллега', 0.053978659212589264), ('центр', 0.04007827118039131), ('друг', 0.03886071592569351), ('будущее', 0.03013492561876774), ('наука', 0.029475418850779533), ('успех', 0.028866643086075783), ('уверенный', 0.025974955409765244), ('уважаемые', 0.02592422440648079), ('научный', 0.025772031396627426), ('технология', 0.025670567527413368)]\n",
      "Top 10 words of topic #6\n",
      "[('экономика', 0.07522254437208176), ('компания', 0.046584438532590866), ('рынок', 0.04239502176642418), ('рост', 0.038080547004938126), ('технология', 0.03220285847783089), ('производство', 0.027950914576649666), ('газ', 0.025574825704097748), ('мировой', 0.024949541315436363), ('бизнес', 0.024011611938476562), ('цена', 0.019384494051337242)]\n",
      "Top 10 words of topic #7\n",
      "[('культура', 0.04581296443939209), ('русский', 0.04049601033329964), ('традиция', 0.029429331421852112), ('город', 0.021824853494763374), ('ребёнок', 0.01792987622320652), ('язык', 0.01762075163424015), ('гордиться', 0.017249802127480507), ('искусство', 0.016940675675868988), ('дом', 0.01601330004632473), ('культурный', 0.015580524690449238)]\n",
      "Top 10 words of topic #8\n",
      "[('делать', 0.0628548115491867), ('думать', 0.0538756288588047), ('происходить', 0.030107202008366585), ('помощь', 0.026726802811026573), ('нужный', 0.02218439243733883), ('достаточно', 0.020916743203997612), ('знать', 0.020758287981152534), ('повод', 0.018592718988656998), ('вещь', 0.01780043914914131), ('собственный', 0.017166614532470703)]\n",
      "Top 10 words of topic #9\n",
      "[('тысяча', 0.05929941311478615), ('спорт', 0.05853917822241783), ('молодой', 0.04311726987361908), ('миллион', 0.03899028152227402), ('игра', 0.03323421627283096), ('медицинский', 0.032473981380462646), ('олимпийский', 0.02910722605884075), ('спортивный', 0.028346991166472435), ('мир', 0.026826519519090652), ('молодой_человек', 0.024654418230056763)]\n",
      "Top 10 words of topic #10\n",
      "[('сотрудничество', 0.0647382065653801), ('экономический', 0.05965639650821686), ('безопасность', 0.045736655592918396), ('отношение', 0.03012298047542572), ('международный', 0.02968108467757702), ('взаимодействие', 0.02478339709341526), ('политика', 0.02198472060263157), ('укрепление', 0.02161647193133831), ('обеспечение', 0.01988571137189865), ('потенциал', 0.01789717748761177)]\n",
      "Top 10 words of topic #11\n",
      "[('президент', 0.034297309815883636), ('больший', 0.023967444896697998), ('организация', 0.02370380610227585), ('международный', 0.021115347743034363), ('совместный', 0.020108725875616074), ('сторона', 0.02008475735783577), ('форум', 0.019221939146518707), ('область', 0.018478956073522568), ('мировой', 0.018023578450083733), ('создать', 0.016849184408783913)]\n",
      "Top 10 words of topic #12\n",
      "[('проект', 0.05170894414186478), ('задача', 0.03700444474816322), ('система', 0.03209442272782326), ('современный', 0.023757610470056534), ('программа', 0.023629745468497276), ('качество', 0.01923118345439434), ('создание', 0.01866857521235943), ('обеспечить', 0.01833612658083439), ('план', 0.018233833834528923), ('реализация', 0.0181571152061224)]\n",
      "Top 10 words of topic #13\n",
      "[('сделать', 0.02928718365728855), ('знать', 0.026959851384162903), ('первый', 0.026161424815654755), ('хороший', 0.024020958691835403), ('жизнь', 0.023834092542529106), ('дело', 0.023579275235533714), ('работать', 0.022135309875011444), ('гражданин', 0.020470501855015755), ('время', 0.02036857418715954), ('результат', 0.019315330311655998)]\n",
      "Top 10 words of topic #14\n",
      "[('вопрос', 0.03679439425468445), ('мир', 0.035556573420763016), ('регион', 0.02774282731115818), ('государство', 0.02707749791443348), ('возможность', 0.02472563646733761), ('число', 0.023580651730298996), ('решение', 0.020764607936143875), ('проблема', 0.02016117051243782), ('являться', 0.01960415206849575), ('уровень', 0.01923280395567417)]\n"
     ]
    },
    {
     "data": {
      "text/plain": [
       "<tomotopy.CTModel at 0x133256470>"
      ]
     },
     "execution_count": 31,
     "metadata": {},
     "output_type": "execute_result"
    }
   ],
   "source": [
    "ctm = tp.CTModel.load('models/ctm_15_topics_reduced_corpus.bin')\n",
    "for k in range(ctm.k):\n",
    "    #if not mdl.is_live_topic(k): continue\n",
    "    print('Top 10 words of topic #{}'.format(k))\n",
    "    print(ctm.get_topic_words(k, top_n=10))\n",
    "\n",
    "ctm.load('models/ctm_15_topics_reduced_corpus.bin')"
   ]
  },
  {
   "cell_type": "code",
   "execution_count": null,
   "metadata": {},
   "outputs": [],
   "source": [
    "#theta(topics vs documents probability) matrices\n",
    "#tmp.get_theta(ctm).head()"
   ]
  },
  {
   "cell_type": "code",
   "execution_count": null,
   "metadata": {},
   "outputs": [],
   "source": [
    "#get documents with maximum probabilities for each topic\n",
    "#tmp.get_top_docs(docs, model=ctm)"
   ]
  },
  {
   "cell_type": "code",
   "execution_count": null,
   "metadata": {},
   "outputs": [],
   "source": [
    "# topic correlations\n",
    "\n",
    "topics_correlations = np.zeros((ctm.k,ctm.k))\n",
    "\n",
    "for k in range(ctm.k):\n",
    "    for m,c in enumerate(ctm.get_correlations(k)):\n",
    "        topics_correlations[k][m] = c"
   ]
  },
  {
   "cell_type": "code",
   "execution_count": null,
   "metadata": {},
   "outputs": [],
   "source": [
    "fig = plt.figure(figsize=(8, 6))\n",
    "plt.pcolor(topics_correlations, norm=None, cmap='RdBu_r')\n",
    "plt.yticks(np.arange(ctm.k)+0.5, [\"Topic #\"+str(n) for n in range(ctm.k)])\n",
    "plt.xticks(np.arange(ctm.k)+0.5, [\"Topic #\"+str(n) for n in range(ctm.k)], rotation = 45)\n",
    "plt.colorbar(cmap='Blues')  # plot colorbar\n",
    "plt.tick_params(labelsize=13)\n",
    "plt.tight_layout()  # fixes margins\n",
    "#plt.savefig(\"figures/corr_topic_model_correlations_15_ctm.pdf\")\n",
    "\n",
    "#no significant correlation among topics. suspicious"
   ]
  },
  {
   "attachments": {},
   "cell_type": "markdown",
   "metadata": {},
   "source": [
    "## LDA 10 topics"
   ]
  },
  {
   "cell_type": "code",
   "execution_count": 12,
   "metadata": {},
   "outputs": [],
   "source": [
    "import tomotopy as tp\n",
    "\n",
    "# LDA model with 10 topics, removal of words appearing in fewer than 0.5% of the documents, \n",
    "# minimum word count, remove the 5 most common words\n",
    "params = {'num_topics': 10, 'min_cf': 100, 'min_df': int(len(docs)*0.005), 'rm_top': 5, 'random_state': seed, 'dic': Dictionary}"
   ]
  },
  {
   "cell_type": "code",
   "execution_count": 27,
   "metadata": {},
   "outputs": [],
   "source": [
    "lda = tp.LDAModel(k=params['num_topics'],min_cf=params['min_cf'],min_df=params['min_df'],seed=params['random_state'],rm_top=params['rm_top'])"
   ]
  },
  {
   "cell_type": "code",
   "execution_count": 14,
   "metadata": {},
   "outputs": [
    {
     "name": "stderr",
     "output_type": "stream",
     "text": [
      "/var/folders/mm/gw92vpys6rggjz_4z42s244w0000gn/T/ipykernel_5792/4240426511.py:5: RuntimeWarning: The training result may differ even with fixed seed if `workers` != 1.\n",
      "  lda.train(10)\n"
     ]
    },
    {
     "name": "stdout",
     "output_type": "stream",
     "text": [
      "Iteration: 0\tLog-likelihood: -7.699524474071943\n",
      "Iteration: 10\tLog-likelihood: -7.320708220462861\n",
      "Iteration: 20\tLog-likelihood: -7.147249022549305\n",
      "Iteration: 30\tLog-likelihood: -7.084948027070882\n",
      "Iteration: 40\tLog-likelihood: -7.05573382273293\n",
      "Iteration: 50\tLog-likelihood: -7.037393859051244\n",
      "Iteration: 60\tLog-likelihood: -7.028930919733438\n",
      "Iteration: 70\tLog-likelihood: -7.022507864348734\n",
      "Iteration: 80\tLog-likelihood: -7.013745230305558\n",
      "Iteration: 90\tLog-likelihood: -7.0057422524979565\n",
      "Iteration: 100\tLog-likelihood: -6.997790733584532\n",
      "Iteration: 110\tLog-likelihood: -6.993979351055193\n",
      "Iteration: 120\tLog-likelihood: -6.992813763574912\n",
      "Iteration: 130\tLog-likelihood: -6.989633365047926\n",
      "Iteration: 140\tLog-likelihood: -6.984811440966991\n",
      "Iteration: 150\tLog-likelihood: -6.984489094014092\n",
      "Iteration: 160\tLog-likelihood: -6.985069161707389\n",
      "Iteration: 170\tLog-likelihood: -6.983929499429367\n",
      "Iteration: 180\tLog-likelihood: -6.978884228898201\n",
      "Iteration: 190\tLog-likelihood: -6.982609579763721\n",
      "Iteration: 200\tLog-likelihood: -6.980254389361928\n",
      "Iteration: 210\tLog-likelihood: -6.97957948166343\n",
      "Iteration: 220\tLog-likelihood: -6.977973386792269\n",
      "Iteration: 230\tLog-likelihood: -6.9785185355748816\n",
      "Iteration: 240\tLog-likelihood: -6.9728637284150015\n",
      "Iteration: 250\tLog-likelihood: -6.970203866862395\n",
      "Iteration: 260\tLog-likelihood: -6.970090739449471\n",
      "Iteration: 270\tLog-likelihood: -6.968517456076005\n",
      "Iteration: 280\tLog-likelihood: -6.965984440361873\n",
      "Iteration: 290\tLog-likelihood: -6.963917352508484\n",
      "Iteration: 300\tLog-likelihood: -6.964327182434566\n",
      "Iteration: 310\tLog-likelihood: -6.962356737948185\n",
      "Iteration: 320\tLog-likelihood: -6.959407680694349\n",
      "Iteration: 330\tLog-likelihood: -6.96236057700605\n",
      "Iteration: 340\tLog-likelihood: -6.9604286308775345\n",
      "Iteration: 350\tLog-likelihood: -6.960194697962682\n",
      "Iteration: 360\tLog-likelihood: -6.9600028228162465\n",
      "Iteration: 370\tLog-likelihood: -6.957383374973678\n",
      "Iteration: 380\tLog-likelihood: -6.959685244475756\n",
      "Iteration: 390\tLog-likelihood: -6.959285935177769\n",
      "Iteration: 400\tLog-likelihood: -6.956908930974333\n",
      "Iteration: 410\tLog-likelihood: -6.956277966401111\n",
      "Iteration: 420\tLog-likelihood: -6.9563558371817\n",
      "Iteration: 430\tLog-likelihood: -6.955422948469224\n",
      "Iteration: 440\tLog-likelihood: -6.959117485449883\n",
      "Iteration: 450\tLog-likelihood: -6.957989380762174\n",
      "Iteration: 460\tLog-likelihood: -6.959861932406255\n",
      "Iteration: 470\tLog-likelihood: -6.95543623266357\n",
      "Iteration: 480\tLog-likelihood: -6.957557443601702\n",
      "Iteration: 490\tLog-likelihood: -6.957791430706202\n",
      "Iteration: 500\tLog-likelihood: -6.956740082417093\n",
      "Iteration: 510\tLog-likelihood: -6.959099109345774\n",
      "Iteration: 520\tLog-likelihood: -6.958917646761057\n",
      "Iteration: 530\tLog-likelihood: -6.956256819773467\n",
      "Iteration: 540\tLog-likelihood: -6.960631583743832\n",
      "Iteration: 550\tLog-likelihood: -6.954941624838571\n",
      "Iteration: 560\tLog-likelihood: -6.956170076726098\n",
      "Iteration: 570\tLog-likelihood: -6.959358963639134\n",
      "Iteration: 580\tLog-likelihood: -6.957343263555289\n",
      "Iteration: 590\tLog-likelihood: -6.958433150445302\n",
      "Iteration: 600\tLog-likelihood: -6.959942180544112\n",
      "Iteration: 610\tLog-likelihood: -6.959273285085097\n",
      "Iteration: 620\tLog-likelihood: -6.957218573905429\n",
      "Iteration: 630\tLog-likelihood: -6.955478584278863\n",
      "Iteration: 640\tLog-likelihood: -6.9594399851888875\n",
      "Iteration: 650\tLog-likelihood: -6.958442819956434\n",
      "Iteration: 660\tLog-likelihood: -6.955687459128003\n",
      "Iteration: 670\tLog-likelihood: -6.960796263231419\n",
      "Iteration: 680\tLog-likelihood: -6.960096959475575\n",
      "Iteration: 690\tLog-likelihood: -6.961808858317107\n",
      "Iteration: 700\tLog-likelihood: -6.95974954486749\n",
      "Iteration: 710\tLog-likelihood: -6.960365158475423\n",
      "Iteration: 720\tLog-likelihood: -6.9591406840598244\n",
      "Iteration: 730\tLog-likelihood: -6.959131253397048\n",
      "Iteration: 740\tLog-likelihood: -6.958615956469742\n",
      "Iteration: 750\tLog-likelihood: -6.957970584714236\n",
      "Iteration: 760\tLog-likelihood: -6.960355796034021\n",
      "Iteration: 770\tLog-likelihood: -6.961725523589487\n",
      "Iteration: 780\tLog-likelihood: -6.9612790710707575\n",
      "Iteration: 790\tLog-likelihood: -6.958195985593747\n",
      "Iteration: 800\tLog-likelihood: -6.962600407858686\n",
      "Iteration: 810\tLog-likelihood: -6.959149661241107\n",
      "Iteration: 820\tLog-likelihood: -6.95624433238546\n",
      "Iteration: 830\tLog-likelihood: -6.954497756770843\n",
      "Iteration: 840\tLog-likelihood: -6.9579445825788016\n",
      "Iteration: 850\tLog-likelihood: -6.957372265589626\n",
      "Iteration: 860\tLog-likelihood: -6.954192480581275\n",
      "Iteration: 870\tLog-likelihood: -6.954644428532757\n",
      "Iteration: 880\tLog-likelihood: -6.958632065116978\n",
      "Iteration: 890\tLog-likelihood: -6.9586648855060655\n",
      "Iteration: 900\tLog-likelihood: -6.955364206368122\n",
      "Iteration: 910\tLog-likelihood: -6.954524150006605\n",
      "Iteration: 920\tLog-likelihood: -6.952640139232645\n",
      "Iteration: 930\tLog-likelihood: -6.952925185030365\n",
      "Iteration: 940\tLog-likelihood: -6.953715345387346\n",
      "Iteration: 950\tLog-likelihood: -6.9555999071471835\n",
      "Iteration: 960\tLog-likelihood: -6.956132173198189\n",
      "Iteration: 970\tLog-likelihood: -6.956859470186248\n",
      "Iteration: 980\tLog-likelihood: -6.955173869436162\n",
      "Iteration: 990\tLog-likelihood: -6.956195437980519\n"
     ]
    }
   ],
   "source": [
    "for doc in docs:\n",
    "    lda.add_doc(doc)\n",
    "\n",
    "for i in range(0, 1000, 10):\n",
    "    lda.train(10)\n",
    "    print('Iteration: {}\\tLog-likelihood: {}'.format(i, lda.ll_per_word))"
   ]
  },
  {
   "cell_type": "code",
   "execution_count": 42,
   "metadata": {},
   "outputs": [
    {
     "name": "stdout",
     "output_type": "stream",
     "text": [
      "Topic #0\n",
      "\t\tтехнология\t0.02200279012322426\n",
      "\t\tцентр\t0.018115753307938576\n",
      "\t\tсовременный\t0.014300697483122349\n",
      "\t\tнаучный\t0.012117238715291023\n",
      "\t\tработать\t0.012045256793498993\n",
      "\t\tнаука\t0.011805315501987934\n",
      "\t\tобразование\t0.011757328175008297\n",
      "\t\tсфера\t0.011661351658403873\n",
      "\t\tобласть\t0.01096552424132824\n",
      "\t\tмедицинский\t0.009717833250761032\n",
      "Topic #1\n",
      "\t\tвосток\t0.05383401736617088\n",
      "\t\tдальний\t0.04303818196058273\n",
      "\t\tрегион\t0.04077689349651337\n",
      "\t\tдальний_восток\t0.039901554584503174\n",
      "\t\tсеверный\t0.0321694016456604\n",
      "\t\tминистр\t0.021300621330738068\n",
      "\t\tкорея\t0.02057117223739624\n",
      "\t\tпроект\t0.020425282418727875\n",
      "\t\tроссийский\t0.018820496276021004\n",
      "\t\tпремьер\t0.01794515736401081\n",
      "Topic #2\n",
      "\t\tсила\t0.03461212292313576\n",
      "\t\tвоенный\t0.03366386145353317\n",
      "\t\tзадача\t0.02589997462928295\n",
      "\t\tбоевой\t0.02151426672935486\n",
      "\t\tвооружённый\t0.020447472110390663\n",
      "\t\tслужба\t0.01997334323823452\n",
      "\t\tфлот\t0.0183731522411108\n",
      "\t\tбезопасность\t0.017247091978788376\n",
      "\t\tвооружённый_сила\t0.017247091978788376\n",
      "\t\tармия\t0.016772961243987083\n",
      "Topic #3\n",
      "\t\tговорить\t0.035610396414995193\n",
      "\t\tсказать\t0.03334233537316322\n",
      "\t\tвопрос\t0.022846339270472527\n",
      "\t\tсделать\t0.017896335572004318\n",
      "\t\tвремя\t0.013376765884459019\n",
      "\t\tпроблема\t0.011009372770786285\n",
      "\t\tработать\t0.010496160946786404\n",
      "\t\tхороший\t0.010247833095490932\n",
      "\t\tпервый\t0.009486294351518154\n",
      "\t\tдело\t0.008824086748063564\n",
      "Topic #4\n",
      "\t\tрешение\t0.015835171565413475\n",
      "\t\tгражданин\t0.013052158057689667\n",
      "\t\tпринять\t0.012101001106202602\n",
      "\t\tгосударственный\t0.012030545622110367\n",
      "\t\tвнимание\t0.010533354245126247\n",
      "\t\tправительство\t0.010427670553326607\n",
      "\t\tзакон\t0.010304372757673264\n",
      "\t\tважный\t0.010251530446112156\n",
      "\t\tфедерация\t0.010093004442751408\n",
      "\t\tподдержка\t0.00963503960520029\n",
      "Topic #5\n",
      "\t\tмир\t0.02188924141228199\n",
      "\t\tмеждународный\t0.020683297887444496\n",
      "\t\tбезопасность\t0.017634307965636253\n",
      "\t\tгосударство\t0.013970970176160336\n",
      "\t\tпроблема\t0.013265606947243214\n",
      "\t\tинтерес\t0.011968648992478848\n",
      "\t\tглобальный\t0.011104010045528412\n",
      "\t\tвопрос\t0.010580675676465034\n",
      "\t\tполитический\t0.010102849453687668\n",
      "\t\tугроза\t0.00978429801762104\n",
      "Topic #6\n",
      "\t\tсотрудничество\t0.035521700978279114\n",
      "\t\tэкономический\t0.024107471108436584\n",
      "\t\tсовместный\t0.017547840252518654\n",
      "\t\tотношение\t0.016742687672376633\n",
      "\t\tвзаимодействие\t0.013237902894616127\n",
      "\t\tфорум\t0.01295373123139143\n",
      "\t\tпроект\t0.01274060271680355\n",
      "\t\tсвязь\t0.012574835680425167\n",
      "\t\tмеждународный\t0.011438149027526379\n",
      "\t\tгосударство\t0.011390786617994308\n",
      "Topic #7\n",
      "\t\tэкономика\t0.024323845282197\n",
      "\t\tкомпания\t0.019597863778471947\n",
      "\t\tрынок\t0.018622316420078278\n",
      "\t\tроссийский\t0.015262100845575333\n",
      "\t\tрост\t0.014004729688167572\n",
      "\t\tпроект\t0.012400497682392597\n",
      "\t\tинвестиция\t0.012205388396978378\n",
      "\t\tбизнес\t0.010839623399078846\n",
      "\t\tдоллар\t0.010752907954156399\n",
      "\t\tгаз\t0.009452179074287415\n",
      "Topic #8\n",
      "\t\tроссийский\t0.021856781095266342\n",
      "\t\tпоблагодарить\t0.021182017400860786\n",
      "\t\tвысокий\t0.01707475818693638\n",
      "\t\tуспех\t0.01704542152583599\n",
      "\t\tспорт\t0.015490529127418995\n",
      "\t\tмир\t0.014082326553761959\n",
      "\t\tбольшой\t0.013407561928033829\n",
      "\t\tнаграда\t0.01282081101089716\n",
      "\t\tфедерация\t0.011940684169530869\n",
      "\t\tдруг\t0.011383269913494587\n",
      "Topic #9\n",
      "\t\tнарод\t0.02411823719739914\n",
      "\t\tвеликий\t0.019351273775100708\n",
      "\t\tжизнь\t0.01899729110300541\n",
      "\t\tистория\t0.01878490298986435\n",
      "\t\tрусский\t0.016519414260983467\n",
      "\t\tвойна\t0.016377821564674377\n",
      "\t\tкультура\t0.012602009810507298\n",
      "\t\tпоколение\t0.012602009810507298\n",
      "\t\tпобеда\t0.011422067880630493\n",
      "\t\tтрадиция\t0.010430917143821716\n"
     ]
    }
   ],
   "source": [
    "for k in range(lda.k):\n",
    "        print('Topic #{}'.format(k))\n",
    "        for word, prob in lda.get_topic_words(k):\n",
    "            print('\\t', word, prob, sep='\\t')"
   ]
  },
  {
   "cell_type": "code",
   "execution_count": 16,
   "metadata": {},
   "outputs": [
    {
     "name": "stdout",
     "output_type": "stream",
     "text": [
      "Num docs:25936, Num Vocabs:999, Total Words:398102\n"
     ]
    }
   ],
   "source": [
    "print('Num docs:{}, Num Vocabs:{}, Total Words:{}'.format(\n",
    "    len(lda.docs), len(lda.used_vocabs), lda.num_words\n",
    "))"
   ]
  },
  {
   "cell_type": "code",
   "execution_count": 17,
   "metadata": {},
   "outputs": [
    {
     "name": "stdout",
     "output_type": "stream",
     "text": [
      "Removed Top words:  россия страна человек развитие работа\n"
     ]
    }
   ],
   "source": [
    "print('Removed Top words: ', *lda.removed_top_words)"
   ]
  },
  {
   "cell_type": "code",
   "execution_count": null,
   "metadata": {},
   "outputs": [],
   "source": [
    "#lda.summary()"
   ]
  },
  {
   "cell_type": "code",
   "execution_count": 18,
   "metadata": {},
   "outputs": [],
   "source": [
    "lda.save('models/lda_tomotopy_10t.bin')"
   ]
  },
  {
   "cell_type": "code",
   "execution_count": 2,
   "metadata": {},
   "outputs": [
    {
     "name": "stdout",
     "output_type": "stream",
     "text": [
      "Top 10 words of topic #0\n",
      "[('технология', 0.02200279012322426), ('центр', 0.018115753307938576), ('современный', 0.014300697483122349), ('научный', 0.012117238715291023), ('работать', 0.012045256793498993), ('наука', 0.011805315501987934), ('образование', 0.011757328175008297), ('сфера', 0.011661351658403873), ('область', 0.01096552424132824), ('медицинский', 0.009717833250761032)]\n",
      "Top 10 words of topic #1\n",
      "[('восток', 0.05383401736617088), ('дальний', 0.04303818196058273), ('регион', 0.04077689349651337), ('дальний_восток', 0.039901554584503174), ('северный', 0.0321694016456604), ('министр', 0.021300621330738068), ('корея', 0.02057117223739624), ('проект', 0.020425282418727875), ('российский', 0.018820496276021004), ('премьер', 0.01794515736401081)]\n",
      "Top 10 words of topic #2\n",
      "[('сила', 0.03461212292313576), ('военный', 0.03366386145353317), ('задача', 0.02589997462928295), ('боевой', 0.02151426672935486), ('вооружённый', 0.020447472110390663), ('служба', 0.01997334323823452), ('флот', 0.0183731522411108), ('безопасность', 0.017247091978788376), ('вооружённый_сила', 0.017247091978788376), ('армия', 0.016772961243987083)]\n",
      "Top 10 words of topic #3\n",
      "[('говорить', 0.035610396414995193), ('сказать', 0.03334233537316322), ('вопрос', 0.022846339270472527), ('сделать', 0.017896335572004318), ('время', 0.013376765884459019), ('проблема', 0.011009372770786285), ('работать', 0.010496160946786404), ('хороший', 0.010247833095490932), ('первый', 0.009486294351518154), ('дело', 0.008824086748063564)]\n",
      "Top 10 words of topic #4\n",
      "[('решение', 0.015835171565413475), ('гражданин', 0.013052158057689667), ('принять', 0.012101001106202602), ('государственный', 0.012030545622110367), ('внимание', 0.010533354245126247), ('правительство', 0.010427670553326607), ('закон', 0.010304372757673264), ('важный', 0.010251530446112156), ('федерация', 0.010093004442751408), ('поддержка', 0.00963503960520029)]\n",
      "Top 10 words of topic #5\n",
      "[('мир', 0.02188924141228199), ('международный', 0.020683297887444496), ('безопасность', 0.017634307965636253), ('государство', 0.013970970176160336), ('проблема', 0.013265606947243214), ('интерес', 0.011968648992478848), ('глобальный', 0.011104010045528412), ('вопрос', 0.010580675676465034), ('политический', 0.010102849453687668), ('угроза', 0.00978429801762104)]\n",
      "Top 10 words of topic #6\n",
      "[('сотрудничество', 0.035521700978279114), ('экономический', 0.024107471108436584), ('совместный', 0.017547840252518654), ('отношение', 0.016742687672376633), ('взаимодействие', 0.013237902894616127), ('форум', 0.01295373123139143), ('проект', 0.01274060271680355), ('связь', 0.012574835680425167), ('международный', 0.011438149027526379), ('государство', 0.011390786617994308)]\n",
      "Top 10 words of topic #7\n",
      "[('экономика', 0.024323845282197), ('компания', 0.019597863778471947), ('рынок', 0.018622316420078278), ('российский', 0.015262100845575333), ('рост', 0.014004729688167572), ('проект', 0.012400497682392597), ('инвестиция', 0.012205388396978378), ('бизнес', 0.010839623399078846), ('доллар', 0.010752907954156399), ('газ', 0.009452179074287415)]\n",
      "Top 10 words of topic #8\n",
      "[('российский', 0.021856781095266342), ('поблагодарить', 0.021182017400860786), ('высокий', 0.01707475818693638), ('успех', 0.01704542152583599), ('спорт', 0.015490529127418995), ('мир', 0.014082326553761959), ('большой', 0.013407561928033829), ('награда', 0.01282081101089716), ('федерация', 0.011940684169530869), ('друг', 0.011383269913494587)]\n",
      "Top 10 words of topic #9\n",
      "[('народ', 0.02411823719739914), ('великий', 0.019351273775100708), ('жизнь', 0.01899729110300541), ('история', 0.01878490298986435), ('русский', 0.016519414260983467), ('война', 0.016377821564674377), ('культура', 0.012602009810507298), ('поколение', 0.012602009810507298), ('победа', 0.011422067880630493), ('традиция', 0.010430917143821716)]\n"
     ]
    },
    {
     "data": {
      "text/plain": [
       "<tomotopy.LDAModel at 0x10dfe0e70>"
      ]
     },
     "execution_count": 2,
     "metadata": {},
     "output_type": "execute_result"
    }
   ],
   "source": [
    "lda = tp.LDAModel.load('models/lda_tomotopy_10t.bin')\n",
    "for k in range(lda.k):\n",
    "    #if not mdl.is_live_topic(k): continue\n",
    "    print('Top 10 words of topic #{}'.format(k))\n",
    "    print(lda.get_topic_words(k, top_n=10))\n",
    "\n",
    "lda.load('models/lda_tomotopy_10t.bin')"
   ]
  },
  {
   "cell_type": "code",
   "execution_count": 21,
   "metadata": {},
   "outputs": [],
   "source": [
    "topic_term_dists = np.stack([lda.get_topic_word_dist(k) for k in range(lda.k)])\n",
    "doc_topic_dists = np.stack([doc.get_topic_dist() for doc in lda.docs])\n",
    "doc_topic_dists /= doc_topic_dists.sum(axis=1, keepdims=True)\n",
    "doc_lengths = np.array([len(doc.words) for doc in lda.docs])\n",
    "counter = Counter(doc_lengths)\n",
    "vocab = list(lda.used_vocabs)\n",
    "term_frequency = lda.used_vocab_freq"
   ]
  },
  {
   "cell_type": "code",
   "execution_count": 22,
   "metadata": {},
   "outputs": [],
   "source": [
    "pyLDAvis.enable_notebook()"
   ]
  },
  {
   "cell_type": "code",
   "execution_count": 23,
   "metadata": {},
   "outputs": [
    {
     "name": "stderr",
     "output_type": "stream",
     "text": [
      "/opt/anaconda3/envs/nlp/lib/python3.9/site-packages/past/builtins/misc.py:45: DeprecationWarning: the imp module is deprecated in favour of importlib; see the module's documentation for alternative uses\n",
      "  from imp import reload\n",
      "/opt/anaconda3/envs/nlp/lib/python3.9/site-packages/past/builtins/misc.py:45: DeprecationWarning: the imp module is deprecated in favour of importlib; see the module's documentation for alternative uses\n",
      "  from imp import reload\n",
      "/opt/anaconda3/envs/nlp/lib/python3.9/site-packages/past/builtins/misc.py:45: DeprecationWarning: the imp module is deprecated in favour of importlib; see the module's documentation for alternative uses\n",
      "  from imp import reload\n",
      "/opt/anaconda3/envs/nlp/lib/python3.9/site-packages/past/builtins/misc.py:45: DeprecationWarning: the imp module is deprecated in favour of importlib; see the module's documentation for alternative uses\n",
      "  from imp import reload\n"
     ]
    }
   ],
   "source": [
    "prepared_data = pyLDAvis.prepare(\n",
    "    topic_term_dists, \n",
    "    doc_topic_dists, \n",
    "    doc_lengths, \n",
    "    vocab, \n",
    "    term_frequency,\n",
    "    start_index=0, # tomotopy starts topic ids with 0, pyLDAvis with 1\n",
    "    sort_topics=False # IMPORTANT: otherwise the topic_ids between pyLDAvis and tomotopy are not matching!\n",
    ")"
   ]
  },
  {
   "cell_type": "code",
   "execution_count": 24,
   "metadata": {},
   "outputs": [
    {
     "data": {
      "text/html": [
       "\n",
       "<link rel=\"stylesheet\" type=\"text/css\" href=\"https://cdn.jsdelivr.net/gh/bmabey/pyLDAvis@3.3.1/pyLDAvis/js/ldavis.v1.0.0.css\">\n",
       "\n",
       "\n",
       "<div id=\"ldavis_el579250803947684039780749\"></div>\n",
       "<script type=\"text/javascript\">\n",
       "\n",
       "var ldavis_el579250803947684039780749_data = {\"mdsDat\": {\"x\": [-0.019264856365467965, -0.21631090766238711, 0.15403798516246062, -0.01671072810820064, -0.033710448599457724, -0.03558222401737437, -0.13806705057218221, -0.16288754058681357, 0.21159449878492506, 0.25690127196449797], \"y\": [0.04487562387930224, -0.2655713122987479, 0.1695020023216007, 0.03290838328089428, 0.14956096372779545, 0.1452966319111334, -0.04549922736160887, 0.06607913709991646, -0.19623499160634522, -0.10091721095393999], \"topics\": [0, 1, 2, 3, 4, 5, 6, 7, 8, 9], \"cluster\": [1, 1, 1, 1, 1, 1, 1, 1, 1, 1], \"Freq\": [10.29858926203755, 3.4423718608362344, 4.229971803630611, 15.805372868825687, 14.066220846396963, 10.823455658318823, 9.875501138745385, 11.379317149432058, 8.506976622084157, 11.572222789692528]}, \"tinfo\": {\"Term\": [\"\\u0441\\u043e\\u0442\\u0440\\u0443\\u0434\\u043d\\u0438\\u0447\\u0435\\u0441\\u0442\\u0432\\u043e\", \"\\u0440\\u0435\\u0433\\u0438\\u043e\\u043d\", \"\\u0432\\u043e\\u0441\\u0442\\u043e\\u043a\", \"\\u0441\\u0438\\u043b\\u0430\", \"\\u0433\\u043e\\u0432\\u043e\\u0440\\u0438\\u0442\\u044c\", \"\\u0441\\u043a\\u0430\\u0437\\u0430\\u0442\\u044c\", \"\\u044d\\u043a\\u043e\\u043d\\u043e\\u043c\\u0438\\u0447\\u0435\\u0441\\u043a\\u0438\\u0439\", \"\\u0437\\u0430\\u0434\\u0430\\u0447\\u0430\", \"\\u043f\\u0440\\u043e\\u0435\\u043a\\u0442\", \"\\u044d\\u043a\\u043e\\u043d\\u043e\\u043c\\u0438\\u043a\\u0430\", \"\\u0431\\u0435\\u0437\\u043e\\u043f\\u0430\\u0441\\u043d\\u043e\\u0441\\u0442\\u044c\", \"\\u0440\\u043e\\u0441\\u0441\\u0438\\u0439\\u0441\\u043a\\u0438\\u0439\", \"\\u0434\\u0430\\u043b\\u044c\\u043d\\u0438\\u0439\", \"\\u0432\\u043e\\u0435\\u043d\\u043d\\u044b\\u0439\", \"\\u0442\\u0435\\u0445\\u043d\\u043e\\u043b\\u043e\\u0433\\u0438\\u044f\", \"\\u043d\\u0430\\u0440\\u043e\\u0434\", \"\\u043c\\u0435\\u0436\\u0434\\u0443\\u043d\\u0430\\u0440\\u043e\\u0434\\u043d\\u044b\\u0439\", \"\\u0434\\u0430\\u043b\\u044c\\u043d\\u0438\\u0439_\\u0432\\u043e\\u0441\\u0442\\u043e\\u043a\", \"\\u0432\\u043e\\u043f\\u0440\\u043e\\u0441\", \"\\u0432\\u0435\\u043b\\u0438\\u043a\\u0438\\u0439\", \"\\u043c\\u0438\\u0440\", \"\\u0440\\u044b\\u043d\\u043e\\u043a\", \"\\u043a\\u043e\\u043c\\u043f\\u0430\\u043d\\u0438\\u044f\", \"\\u043f\\u043e\\u0431\\u043b\\u0430\\u0433\\u043e\\u0434\\u0430\\u0440\\u0438\\u0442\\u044c\", \"\\u0438\\u0441\\u0442\\u043e\\u0440\\u0438\\u044f\", \"\\u0440\\u0443\\u0441\\u0441\\u043a\\u0438\\u0439\", \"\\u0432\\u043e\\u0439\\u043d\\u0430\", \"\\u0441\\u0435\\u0432\\u0435\\u0440\\u043d\\u044b\\u0439\", \"\\u0444\\u0435\\u0434\\u0435\\u0440\\u0430\\u0446\\u0438\\u044f\", \"\\u0441\\u043e\\u0432\\u0440\\u0435\\u043c\\u0435\\u043d\\u043d\\u044b\\u0439\", \"\\u043d\\u0430\\u0443\\u0447\\u043d\\u044b\\u0439\", \"\\u0438\\u0441\\u043a\\u0443\\u0441\\u0441\\u0442\\u0432\\u0435\\u043d\\u043d\\u044b\\u0439\", \"\\u0438\\u043d\\u0442\\u0435\\u043b\\u043b\\u0435\\u043a\\u0442\", \"\\u0438\\u0441\\u043a\\u0443\\u0441\\u0441\\u0442\\u0432\\u0435\\u043d\\u043d\\u044b\\u0439_\\u0438\\u043d\\u0442\\u0435\\u043b\\u043b\\u0435\\u043a\\u0442\", \"\\u0438\\u0441\\u0441\\u043b\\u0435\\u0434\\u043e\\u0432\\u0430\\u043d\\u0438\\u0435\", \"\\u0445\\u043e\\u0437\\u044f\\u0439\\u0441\\u0442\\u0432\\u043e\", \"\\u0441\\u0435\\u043b\\u044c\\u0441\\u043a\\u0438\\u0439\", \"\\u0432\\u043d\\u0435\\u0434\\u0440\\u0435\\u043d\\u0438\\u0435\", \"\\u0441\\u0435\\u043b\\u044c\\u0441\\u043a\\u0438\\u0439_\\u0445\\u043e\\u0437\\u044f\\u0439\\u0441\\u0442\\u0432\\u043e\", \"\\u043c\\u0435\\u0434\\u0438\\u0446\\u0438\\u043d\\u0430\", \"\\u043a\\u0430\\u0434\\u0440\", \"\\u0446\\u0438\\u0444\\u0440\\u043e\\u0432\\u043e\\u0439\", \"\\u0432\\u0443\\u0437\", \"\\u0442\\u0435\\u0445\\u043d\\u043e\\u043b\\u043e\\u0433\\u0438\\u044f\", \"\\u043e\\u0431\\u0440\\u0430\\u0437\\u043e\\u0432\\u0430\\u0442\\u0435\\u043b\\u044c\\u043d\\u044b\\u0439\", \"\\u0443\\u043d\\u0438\\u0432\\u0435\\u0440\\u0441\\u0438\\u0442\\u0435\\u0442\", \"\\u0443\\u0447\\u0451\\u043d\\u044b\\u0439\", \"\\u043d\\u0430\\u0443\\u0447\\u043d\\u043e\", \"\\u0441\\u0442\\u0443\\u0434\\u0435\\u043d\\u0442\", \"\\u043f\\u0435\\u0440\\u0435\\u0434\\u043e\\u0432\\u043e\\u0439\", \"\\u043e\\u0431\\u0440\\u0430\\u0437\\u043e\\u0432\\u0430\\u043d\\u0438\\u0435\", \"\\u043d\\u0430\\u0443\\u043a\\u0430\", \"\\u0442\\u0435\\u0445\\u043d\\u043e\\u043b\\u043e\\u0433\\u0438\\u0447\\u0435\\u0441\\u043a\\u0438\\u0439\", \"\\u043e\\u0431\\u043e\\u0440\\u0443\\u0434\\u043e\\u0432\\u0430\\u043d\\u0438\\u0435\", \"\\u0446\\u0435\\u043d\\u0442\\u0440\", \"\\u043c\\u0435\\u0434\\u0438\\u0446\\u0438\\u043d\\u0441\\u043a\\u0438\\u0439\", \"\\u0437\\u0434\\u0440\\u0430\\u0432\\u043e\\u043e\\u0445\\u0440\\u0430\\u043d\\u0435\\u043d\\u0438\\u0435\", \"\\u0432\\u0440\\u0430\\u0447\", \"\\u0441\\u043f\\u0435\\u0446\\u0438\\u0430\\u043b\\u0438\\u0441\\u0442\", \"\\u0440\\u0430\\u0437\\u0440\\u0430\\u0431\\u043e\\u0442\\u043a\\u0430\", \"\\u0441\\u043e\\u0432\\u0440\\u0435\\u043c\\u0435\\u043d\\u043d\\u044b\\u0439\", \"\\u043e\\u0442\\u0440\\u0430\\u0441\\u043b\\u044c\", \"\\u0448\\u043a\\u043e\\u043b\\u0430\", \"\\u043c\\u043e\\u043b\\u043e\\u0434\\u043e\\u0439\", \"\\u043e\\u0431\\u043b\\u0430\\u0441\\u0442\\u044c\", \"\\u0441\\u043e\\u0437\\u0434\\u0430\\u043d\\u0438\\u0435\", \"\\u0441\\u0444\\u0435\\u0440\\u0430\", \"\\u0440\\u0430\\u0431\\u043e\\u0442\\u0430\\u0442\\u044c\", \"\\u0441\\u0438\\u0441\\u0442\\u0435\\u043c\\u0430\", \"\\u043f\\u0440\\u043e\\u0433\\u0440\\u0430\\u043c\\u043c\\u0430\", \"\\u0432\\u043e\\u0437\\u043c\\u043e\\u0436\\u043d\\u043e\\u0441\\u0442\\u044c\", \"\\u0441\\u043e\\u0437\\u0434\\u0430\\u0442\\u044c\", \"\\u0432\\u0430\\u0436\\u043d\\u044b\\u0439\", \"\\u0437\\u0430\\u0434\\u0430\\u0447\\u0430\", \"\\u043f\\u0440\\u043e\\u0435\\u043a\\u0442\", \"\\u0436\\u0438\\u0437\\u043d\\u044c\", \"\\u0445\\u043e\\u0440\\u043e\\u0448\\u0438\\u0439\", \"\\u0447\\u0438\\u0441\\u043b\\u043e\", \"\\u0434\\u0430\\u043b\\u044c\\u043d\\u0438\\u0439_\\u0432\\u043e\\u0441\\u0442\\u043e\\u043a\", \"\\u043f\\u0440\\u0435\\u043c\\u044c\\u0435\\u0440_\\u043c\\u0438\\u043d\\u0438\\u0441\\u0442\\u0440\", \"\\u043f\\u0440\\u0435\\u043c\\u044c\\u0435\\u0440\", \"\\u0434\\u0430\\u043b\\u044c\\u043d\\u0438\\u0439\", \"\\u0441\\u0435\\u0432\\u0435\\u0440\\u043d\\u044b\\u0439\", \"\\u043a\\u043e\\u0440\\u0435\\u044f\", \"\\u0430\\u0440\\u043a\\u0442\\u0438\\u0447\\u0435\\u0441\\u043a\\u0438\\u0439\", \"\\u0432\\u043e\\u0441\\u0442\\u043e\\u043a\", \"\\u0430\\u0440\\u043a\\u0442\\u0438\\u043a\\u0430\", \"\\u0432\\u043b\\u0430\\u0434\\u0438\\u0432\\u043e\\u0441\\u0442\\u043e\\u043a\", \"\\u0432\\u043e\\u0441\\u0442\\u043e\\u0447\\u043d\\u044b\\u0439\", \"\\u043c\\u0438\\u043d\\u0438\\u0441\\u0442\\u0440\", \"\\u043c\\u043e\\u0440\\u0435\", \"\\u0442\\u0438\\u0445\\u043e\\u043e\\u043a\\u0435\\u0430\\u043d\\u0441\\u043a\\u0438\\u0439\", \"\\u044f\\u043f\\u043e\\u043d\\u0441\\u043a\\u0438\\u0439\", \"\\u044f\\u043f\\u043e\\u043d\\u0438\\u044f\", \"\\u0431\\u043b\\u0438\\u0436\\u043d\\u0438\\u0439\", \"\\u0430\\u0437\\u0438\\u044f\", \"\\u0442\\u0440\\u0430\\u043d\\u0441\\u043f\\u043e\\u0440\\u0442\\u043d\\u044b\\u0439\", \"\\u043f\\u043e\\u0442\\u043e\\u043a\", \"\\u043c\\u043e\\u043d\\u0433\\u043e\\u043b\\u0438\\u044f\", \"\\u043e\\u0441\\u0432\\u043e\\u0435\\u043d\\u0438\\u0435\", \"\\u043c\\u043e\\u0440\\u0441\\u043a\\u043e\\u0439\", \"\\u0438\\u043d\\u0434\\u0438\\u044f\", \"\\u043f\\u0440\\u0438\\u0440\\u043e\\u0434\\u043d\\u044b\\u0439\", \"\\u0437\\u0430\\u043f\\u0430\\u0434\\u043d\\u044b\\u0439\", \"\\u0430\\u0444\\u0440\\u0438\\u043a\\u0430\", \"\\u0441\\u043e\\u0441\\u0435\\u0434\", \"\\u0431\\u043e\\u0433\\u0430\\u0442\\u044b\\u0439\", \"\\u0440\\u0435\\u0433\\u0438\\u043e\\u043d\", \"\\u0442\\u0435\\u0440\\u0440\\u0438\\u0442\\u043e\\u0440\\u0438\\u044f\", \"\\u0438\\u043d\\u0444\\u0440\\u0430\\u0441\\u0442\\u0440\\u0443\\u043a\\u0442\\u0443\\u0440\\u0430\", \"\\u0435\\u0432\\u0440\\u043e\\u043f\\u0430\", \"\\u043a\\u0438\\u0442\\u0430\\u0439\", \"\\u043f\\u0443\\u0442\\u044c\", \"\\u043f\\u0440\\u043e\\u0435\\u043a\\u0442\", \"\\u0440\\u043e\\u0441\\u0441\\u0438\\u0439\\u0441\\u043a\\u0438\\u0439\", \"\\u0432\\u043e\\u0437\\u043c\\u043e\\u0436\\u043d\\u043e\\u0441\\u0442\\u044c\", \"\\u044f\\u0432\\u043b\\u044f\\u0442\\u044c\\u0441\\u044f\", \"\\u0447\\u0430\\u0441\\u0442\\u044c\", \"\\u043c\\u0438\\u0440\", \"\\u0441\\u043e\\u0442\\u0440\\u0443\\u0434\\u043d\\u0438\\u0447\\u0435\\u0441\\u0442\\u0432\\u043e\", \"\\u0432\\u043e\\u043e\\u0440\\u0443\\u0436\\u0451\\u043d\\u043d\\u044b\\u0439\", \"\\u0432\\u043e\\u043e\\u0440\\u0443\\u0436\\u0451\\u043d\\u043d\\u044b\\u0439_\\u0441\\u0438\\u043b\\u0430\", \"\\u0444\\u043b\\u043e\\u0442\", \"\\u0431\\u043e\\u0435\\u0432\\u043e\\u0439\", \"\\u0432\\u043e\\u0439\\u0441\\u043a\\u043e\", \"\\u0432\\u043e\\u0435\\u043d\\u043d\\u043e\\u0441\\u043b\\u0443\\u0436\\u0430\\u0449\\u0438\\u0439\", \"\\u0432\\u043e\\u043e\\u0440\\u0443\\u0436\\u0435\\u043d\\u0438\\u0435\", \"\\u0430\\u0440\\u043c\\u0438\\u044f\", \"\\u043e\\u0444\\u0438\\u0446\\u0435\\u0440\", \"\\u043e\\u043f\\u0435\\u0440\\u0430\\u0446\\u0438\\u044f\", \"\\u0432\\u043e\\u0435\\u043d\\u043d\\u043e\", \"\\u0442\\u0435\\u0445\\u043d\\u0438\\u043a\\u0430\", \"\\u0432\\u043e\\u0435\\u043d\\u043d\\u044b\\u0439\", \"\\u0442\\u043e\\u0432\\u0430\\u0440\\u0438\\u0449\", \"\\u043e\\u0431\\u043e\\u0440\\u043e\\u043d\\u0430\", \"\\u0441\\u043b\\u0443\\u0436\\u0431\\u0430\", \"\\u0432\\u043e\\u0438\\u043d\\u0441\\u043a\\u0438\\u0439\", \"\\u0432\\u044b\\u043f\\u043e\\u043b\\u043d\\u044f\\u0442\\u044c\", \"\\u043e\\u0440\\u0443\\u0436\\u0438\\u0435\", \"\\u0432\\u044b\\u043f\\u043e\\u043b\\u043d\\u0438\\u0442\\u044c\", \"\\u043c\\u043e\\u0440\\u0441\\u043a\\u043e\\u0439\", \"\\u0441\\u043e\\u0441\\u0442\\u0430\\u0432\", \"\\u0432\\u044b\\u043f\\u043e\\u043b\\u043d\\u0435\\u043d\\u0438\\u0435\", \"\\u0441\\u0438\\u0440\\u0438\\u044f\", \"\\u0441\\u043e\\u0442\\u0440\\u0443\\u0434\\u043d\\u0438\\u043a\", \"\\u0441\\u0438\\u043b\\u0430\", \"\\u0441\\u043f\\u0435\\u0446\\u0438\\u0430\\u043b\\u044c\\u043d\\u044b\\u0439\", \"\\u043b\\u0438\\u0447\\u043d\\u044b\\u0439\", \"\\u0433\\u043e\\u0442\\u043e\\u0432\\u043d\\u043e\\u0441\\u0442\\u044c\", \"\\u043a\\u043e\\u0441\\u043c\\u0438\\u0447\\u0435\\u0441\\u043a\\u0438\\u0439\", \"\\u043d\\u0430\\u0434\\u0451\\u0436\\u043d\\u044b\\u0439\", \"\\u043f\\u043e\\u0441\\u0442\\u0430\\u0432\\u0438\\u0442\\u044c\", \"\\u0437\\u0430\\u0434\\u0430\\u0447\\u0430\", \"\\u0431\\u0435\\u0437\\u043e\\u043f\\u0430\\u0441\\u043d\\u043e\\u0441\\u0442\\u044c\", \"\\u0441\\u043e\\u0432\\u0440\\u0435\\u043c\\u0435\\u043d\\u043d\\u044b\\u0439\", \"\\u043e\\u0431\\u0435\\u0441\\u043f\\u0435\\u0447\\u0435\\u043d\\u0438\\u0435\", \"\\u0432\\u044b\\u0441\\u043e\\u043a\\u0438\\u0439\", \"\\u0440\\u043e\\u0441\\u0441\\u0438\\u0439\\u0441\\u043a\\u0438\\u0439\", \"\\u0432\\u0435\\u0449\\u044c\", \"\\u0442\\u043e\\u0447\\u043a\\u0430_\\u0437\\u0440\\u0435\\u043d\\u0438\\u0435\", \"\\u0447\\u0440\\u0435\\u0437\\u0432\\u044b\\u0447\\u0430\\u0439\\u043d\\u043e\", \"\\u043f\\u043e\\u0433\\u043e\\u0432\\u043e\\u0440\\u0438\\u0442\\u044c\", \"\\u0447\\u0440\\u0435\\u0437\\u0432\\u044b\\u0447\\u0430\\u0439\\u043d\\u043e_\\u0432\\u0430\\u0436\\u043d\\u044b\\u0439\", \"\\u043f\\u043e\\u043b\\u0443\\u0447\\u0438\\u0442\\u044c\\u0441\\u044f\", \"\\u0437\\u0430\\u0434\\u0430\\u0442\\u044c\", \"\\u0437\\u0440\\u0435\\u043d\\u0438\\u0435\", \"\\u043f\\u043e\\u0432\\u043e\\u0434\", \"\\u043d\\u0430\\u0432\\u0435\\u0440\\u043d\\u043e\\u0435\", \"\\u043f\\u0440\\u043e\\u0438\\u0437\\u043e\\u0439\\u0442\\u0438\", \"\\u043f\\u043e\\u043d\\u044f\\u0442\\u044c\", \"\\u0442\\u043e\\u0447\\u043a\\u0430\", \"\\u043f\\u043e\\u0441\\u043c\\u043e\\u0442\\u0440\\u0435\\u0442\\u044c\", \"\\u0441\\u043c\\u043e\\u0442\\u0440\\u0435\\u0442\\u044c\", \"\\u0447\\u0435\\u0441\\u0442\\u043d\\u043e\", \"\\u0441\\u043b\\u044b\\u0448\\u0430\\u0442\\u044c\", \"\\u0430\\u0431\\u0441\\u043e\\u043b\\u044e\\u0442\\u043d\\u043e\", \"\\u043f\\u0440\\u0438\\u0445\\u043e\\u0434\\u0438\\u0442\\u044c\", \"\\u0434\\u0438\\u0441\\u043a\\u0443\\u0441\\u0441\\u0438\\u044f\", \"\\u0441\\u043e\\u0432\\u0435\\u0440\\u0448\\u0435\\u043d\\u043d\\u043e\", \"\\u043f\\u0440\\u0438\\u0439\\u0442\\u0438\", \"\\u043f\\u0440\\u0430\\u0432\\u0438\\u043b\\u044c\\u043d\\u044b\\u0439\", \"\\u0441\\u043e\\u0433\\u043b\\u0430\\u0441\\u043d\\u044b\\u0439\", \"\\u0443\\u043a\\u0440\\u0430\\u0438\\u043d\\u0430\", \"\\u043b\\u0443\\u0447\\u0448\\u0435\", \"\\u0432\\u0435\\u0440\\u043d\\u0443\\u0442\\u044c\\u0441\\u044f\", \"\\u0441\\u043e\\u043c\\u043d\\u0435\\u043d\\u0438\\u0435\", \"\\u0441\\u043e\\u0431\\u0438\\u0440\\u0430\\u0442\\u044c\\u0441\\u044f\", \"\\u0432\\u0437\\u0433\\u043b\\u044f\\u0434\", \"\\u0433\\u043e\\u0432\\u043e\\u0440\\u0438\\u0442\\u044c\", \"\\u0441\\u043a\\u0430\\u0437\\u0430\\u0442\\u044c\", \"\\u0434\\u0430\\u0432\\u0430\\u0442\\u044c\", \"\\u043f\\u0440\\u043e\\u0438\\u0441\\u0445\\u043e\\u0434\\u0438\\u0442\\u044c\", \"\\u0441\\u0434\\u0435\\u043b\\u0430\\u0442\\u044c\", \"\\u0432\\u043e\\u043f\\u0440\\u043e\\u0441\", \"\\u0442\\u0435\\u043c\\u0430\", \"\\u0432\\u0440\\u0435\\u043c\\u044f\", \"\\u0438\\u0434\\u0442\\u0438\", \"\\u043f\\u0440\\u043e\\u0431\\u043b\\u0435\\u043c\\u0430\", \"\\u0445\\u043e\\u0440\\u043e\\u0448\\u0438\\u0439\", \"\\u0441\\u043b\\u0443\\u0447\\u0430\\u0439\", \"\\u0445\\u043e\\u0442\\u0435\\u0442\\u044c\\u0441\\u044f\", \"\\u0440\\u0430\\u0431\\u043e\\u0442\\u0430\\u0442\\u044c\", \"\\u043f\\u0435\\u0440\\u0432\\u044b\\u0439\", \"\\u0434\\u0435\\u043b\\u043e\", \"\\u0441\\u0438\\u0442\\u0443\\u0430\\u0446\\u0438\\u044f\", \"\\u0432\\u0438\\u0434\", \"\\u0441\\u0442\\u043e\\u0440\\u043e\\u043d\\u0430\", \"\\u043a\\u0430\\u0441\\u0430\\u0442\\u044c\\u0441\\u044f\", \"\\u043e\\u0442\\u043d\\u043e\\u0448\\u0435\\u043d\\u0438\\u0435\", \"\\u0440\\u0435\\u0448\\u0435\\u043d\\u0438\\u0435\", \"\\u0432\\u0430\\u0436\\u043d\\u044b\\u0439\", \"\\u0440\\u0435\\u0437\\u0443\\u043b\\u044c\\u0442\\u0430\\u0442\", \"\\u0441\\u0447\\u0438\\u0442\\u0430\\u0442\\u044c\", \"\\u0432\\u043e\\u0437\\u043c\\u043e\\u0436\\u043d\\u043e\\u0441\\u0442\\u044c\", \"\\u043a\\u043e\\u043d\\u0441\\u0442\\u0438\\u0442\\u0443\\u0446\\u0438\\u044f\", \"\\u043f\\u0440\\u043e\\u043a\\u0443\\u0440\\u043e\\u0440\", \"\\u0441\\u0443\\u0434\", \"\\u043f\\u0430\\u043b\\u0430\\u0442\\u0430\", \"\\u0437\\u0430\\u043a\\u043e\\u043d\\u043e\\u0434\\u0430\\u0442\\u0435\\u043b\\u044c\\u043d\\u044b\\u0439\", \"\\u0437\\u0430\\u043a\\u043e\\u043d\\u043e\\u0434\\u0430\\u0442\\u0435\\u043b\\u044c\\u0441\\u0442\\u0432\\u043e\", \"\\u0434\\u0443\\u043c\\u0430\", \"\\u043e\\u0441\\u043e\\u0431\\u044b\\u0439_\\u0432\\u043d\\u0438\\u043c\\u0430\\u043d\\u0438\\u0435\", \"\\u0433\\u043e\\u0441\\u0443\\u0434\\u0430\\u0440\\u0441\\u0442\\u0432\\u0435\\u043d\\u043d\\u044b\\u0439_\\u0434\\u0443\\u043c\\u0430\", \"\\u0438\\u0441\\u043f\\u043e\\u043b\\u043d\\u0435\\u043d\\u0438\\u0435\", \"\\u0437\\u0430\\u043a\\u043e\\u043d\", \"\\u0441\\u0443\\u0431\\u044a\\u0435\\u043a\\u0442\", \"\\u043d\\u0430\\u0440\\u0443\\u0448\\u0435\\u043d\\u0438\\u0435\", \"\\u043f\\u0430\\u0440\\u0442\\u0438\\u044f\", \"\\u043f\\u0440\\u043e\\u0446\\u0435\\u0434\\u0443\\u0440\\u0430\", \"\\u043f\\u0440\\u0435\\u0441\\u0442\\u0443\\u043f\\u043b\\u0435\\u043d\\u0438\\u0435\", \"\\u043f\\u043e\\u0440\\u0443\\u0447\\u0435\\u043d\\u0438\\u0435\", \"\\u043f\\u0440\\u0435\\u0434\\u0443\\u0441\\u043c\\u043e\\u0442\\u0440\\u0435\\u0442\\u044c\", \"\\u043f\\u0440\\u0438\\u043d\\u044f\\u0442\\u0438\\u0435\", \"\\u043a\\u043e\\u043d\\u0442\\u0440\\u043e\\u043b\\u044c\", \"\\u0444\\u0435\\u0434\\u0435\\u0440\\u0430\\u043b\\u044c\\u043d\\u044b\\u0439\", \"\\u0432\\u0435\\u0434\\u043e\\u043c\\u0441\\u0442\\u0432\\u043e\", \"\\u043e\\u0440\\u0433\\u0430\\u043d\", \"\\u043f\\u0440\\u043e\\u0441\\u0438\\u0442\\u044c\", \"\\u043f\\u0440\\u0438\\u043d\\u044f\\u0442\\u044c_\\u0440\\u0435\\u0448\\u0435\\u043d\\u0438\\u0435\", \"\\u0443\\u0441\\u0442\\u0430\\u043d\\u043e\\u0432\\u0438\\u0442\\u044c\", \"\\u043a\\u043e\\u043c\\u0438\\u0441\\u0441\\u0438\\u044f\", \"\\u043e\\u0431\\u0440\\u0430\\u0449\\u0430\\u0442\\u044c\", \"\\u0431\\u044e\\u0434\\u0436\\u0435\\u0442\\u043d\\u044b\\u0439\", \"\\u043f\\u0440\\u0430\\u0432\\u043e\\u043e\\u0445\\u0440\\u0430\\u043d\\u0438\\u0442\\u0435\\u043b\\u044c\\u043d\\u044b\\u0439\", \"\\u043e\\u0431\\u0449\\u0435\\u0441\\u0442\\u0432\\u0435\\u043d\\u043d\\u044b\\u0439\", \"\\u0432\\u043b\\u0430\\u0441\\u0442\\u044c\", \"\\u043f\\u0440\\u0438\\u043d\\u044f\\u0442\\u044c\", \"\\u043f\\u0440\\u0430\\u0432\\u0438\\u0442\\u0435\\u043b\\u044c\\u0441\\u0442\\u0432\\u043e\", \"\\u0433\\u043e\\u0441\\u0443\\u0434\\u0430\\u0440\\u0441\\u0442\\u0432\\u0435\\u043d\\u043d\\u044b\\u0439\", \"\\u043c\\u0435\\u0440\\u0430\", \"\\u0432\\u043d\\u0438\\u043c\\u0430\\u043d\\u0438\\u0435\", \"\\u0433\\u0440\\u0430\\u0436\\u0434\\u0430\\u043d\\u0438\\u043d\", \"\\u0444\\u0435\\u0434\\u0435\\u0440\\u0430\\u0446\\u0438\\u044f\", \"\\u0440\\u0435\\u0448\\u0435\\u043d\\u0438\\u0435\", \"\\u043f\\u043e\\u0434\\u0434\\u0435\\u0440\\u0436\\u043a\\u0430\", \"\\u0441\\u043e\\u0446\\u0438\\u0430\\u043b\\u044c\\u043d\\u044b\\u0439\", \"\\u043d\\u0435\\u043e\\u0431\\u0445\\u043e\\u0434\\u0438\\u043c\\u044b\\u0439\", \"\\u043f\\u0440\\u0430\\u0432\\u043e\", \"\\u043f\\u0440\\u043e\\u0433\\u0440\\u0430\\u043c\\u043c\\u0430\", \"\\u0434\\u0435\\u044f\\u0442\\u0435\\u043b\\u044c\\u043d\\u043e\\u0441\\u0442\\u044c\", \"\\u0440\\u043e\\u0441\\u0441\\u0438\\u0439\\u0441\\u043a\\u0438\\u0439_\\u0444\\u0435\\u0434\\u0435\\u0440\\u0430\\u0446\\u0438\\u044f\", \"\\u043c\\u0438\\u043d\\u0438\\u0441\\u0442\\u0435\\u0440\\u0441\\u0442\\u0432\\u043e\", \"\\u0437\\u0430\\u0434\\u0430\\u0447\\u0430\", \"\\u0441\\u0440\\u0435\\u0434\\u0441\\u0442\\u0432\\u043e\", \"\\u0440\\u0435\\u0433\\u0438\\u043e\\u043d\\u0430\\u043b\\u044c\\u043d\\u044b\\u0439\", \"\\u0447\\u0438\\u0441\\u043b\\u043e\", \"\\u0432\\u0430\\u0436\\u043d\\u044b\\u0439\", \"\\u0440\\u0435\\u0433\\u0438\\u043e\\u043d\", \"\\u0435\\u0434\\u0438\\u043d\\u044b\\u0439\", \"\\u0440\\u043e\\u0441\\u0441\\u0438\\u0439\\u0441\\u043a\\u0438\\u0439\", \"\\u0441\\u0438\\u0441\\u0442\\u0435\\u043c\\u0430\", \"\\u0432\\u043e\\u043f\\u0440\\u043e\\u0441\", \"\\u0441\\u0444\\u0435\\u0440\\u0430\", \"\\u043e\\u0440\\u0433\\u0430\\u043d\\u0438\\u0437\\u0430\\u0446\\u0438\\u044f\", \"\\u043a\\u043e\\u043d\\u0444\\u043b\\u0438\\u043a\\u0442\", \"\\u0434\\u0440\\u0443\\u0433\\u0430\", \"\\u0434\\u0440\\u0443\\u0433_\\u0434\\u0440\\u0443\\u0433\\u0430\", \"\\u0441\\u043e\\u0435\\u0434\\u0438\\u043d\\u0438\\u0442\\u044c_\\u0448\\u0442\\u0430\\u0442\", \"\\u0443\\u0441\\u0442\\u043e\\u0439\\u0447\\u0438\\u0432\\u044b\\u0439_\\u0440\\u0430\\u0437\\u0432\\u0438\\u0442\\u0438\\u0435\", \"\\u0442\\u0435\\u0440\\u0440\\u043e\\u0440\\u0438\\u0437\\u043c\", \"\\u0441\\u043e\\u0435\\u0434\\u0438\\u043d\\u0438\\u0442\\u044c\", \"\\u0430\\u0444\\u0433\\u0430\\u043d\\u0438\\u0441\\u0442\\u0430\\u043d\", \"\\u0443\\u0440\\u0435\\u0433\\u0443\\u043b\\u0438\\u0440\\u043e\\u0432\\u0430\\u043d\\u0438\\u0435\", \"\\u0443\\u0433\\u0440\\u043e\\u0437\\u0430\", \"\\u043e\\u043e\\u043d\", \"\\u043c\\u043e\\u0434\\u0435\\u043b\\u044c\", \"\\u0443\\u0441\\u0442\\u043e\\u0439\\u0447\\u0438\\u0432\\u044b\\u0439\", \"\\u0441\\u0442\\u0430\\u0431\\u0438\\u043b\\u044c\\u043d\\u043e\\u0441\\u0442\\u044c\", \"\\u0432\\u044b\\u0437\\u043e\\u0432\", \"\\u0442\\u0435\\u0440\\u0440\\u043e\\u0440\\u0438\\u0441\\u0442\\u0438\\u0447\\u0435\\u0441\\u043a\\u0438\\u0439\", \"\\u0441\\u0443\\u0432\\u0435\\u0440\\u0435\\u043d\\u0438\\u0442\\u0435\\u0442\", \"\\u0433\\u043b\\u043e\\u0431\\u0430\\u043b\\u044c\\u043d\\u044b\\u0439\", \"\\u0441\\u043f\\u0440\\u0430\\u0432\\u0435\\u0434\\u043b\\u0438\\u0432\\u044b\\u0439\", \"\\u0438\\u0440\\u0430\\u043d\", \"\\u0442\\u0435\\u0440\\u0440\\u043e\\u0440\\u0438\\u0441\\u0442\", \"\\u0448\\u0442\\u0430\\u0442\", \"\\u043e\\u0431\\u0435\\u0441\\u043f\\u0435\\u0447\\u0435\\u043d\\u0438\\u0435_\\u0431\\u0435\\u0437\\u043e\\u043f\\u0430\\u0441\\u043d\\u043e\\u0441\\u0442\\u044c\", \"\\u0431\\u043e\\u0440\\u043e\\u0442\\u044c\\u0441\\u044f\", \"\\u043d\\u0430\\u0446\\u0438\\u044f\", \"\\u0441\\u0442\\u0430\\u043b\\u043a\\u0438\\u0432\\u0430\\u0442\\u044c\\u0441\\u044f\", \"\\u043a\\u0440\\u0438\\u0437\\u0438\\u0441\", \"\\u043f\\u043e\\u043f\\u044b\\u0442\\u043a\\u0430\", \"\\u0431\\u0435\\u0437\\u043e\\u043f\\u0430\\u0441\\u043d\\u043e\\u0441\\u0442\\u044c\", \"\\u043f\\u0440\\u043e\\u0442\\u0438\\u0432\", \"\\u0431\\u043e\\u0440\\u044c\\u0431\\u0430\", \"\\u043c\\u0435\\u0436\\u0434\\u0443\\u043d\\u0430\\u0440\\u043e\\u0434\\u043d\\u044b\\u0439\", \"\\u043f\\u043e\\u043b\\u0438\\u0442\\u0438\\u0447\\u0435\\u0441\\u043a\\u0438\\u0439\", \"\\u043f\\u0440\\u0438\\u043d\\u0446\\u0438\\u043f\", \"\\u0438\\u043d\\u0442\\u0435\\u0440\\u0435\\u0441\", \"\\u043c\\u0438\\u0440\", \"\\u043f\\u043e\\u043b\\u0438\\u0442\\u0438\\u043a\\u0430\", \"\\u043f\\u0440\\u043e\\u0431\\u043b\\u0435\\u043c\\u0430\", \"\\u0441\\u0438\\u0440\\u0438\\u044f\", \"\\u0441\\u0438\\u0442\\u0443\\u0430\\u0446\\u0438\\u044f\", \"\\u0433\\u043e\\u0441\\u0443\\u0434\\u0430\\u0440\\u0441\\u0442\\u0432\\u043e\", \"\\u043f\\u0440\\u0430\\u0432\\u043e\", \"\\u0440\\u043e\\u043b\\u044c\", \"\\u043c\\u0438\\u0440\\u043e\\u0432\\u043e\\u0439\", \"\\u0443\\u0441\\u0438\\u043b\\u0438\\u0435\", \"\\u043e\\u0431\\u0449\\u0438\\u0439\", \"\\u044d\\u043a\\u043e\\u043d\\u043e\\u043c\\u0438\\u043a\\u0430\", \"\\u0432\\u043e\\u043f\\u0440\\u043e\\u0441\", \"\\u044d\\u043a\\u043e\\u043d\\u043e\\u043c\\u0438\\u0447\\u0435\\u0441\\u043a\\u0438\\u0439\", \"\\u0440\\u0435\\u0448\\u0435\\u043d\\u0438\\u0435\", \"\\u043e\\u0442\\u043d\\u043e\\u0448\\u0435\\u043d\\u0438\\u0435\", \"\\u043e\\u0431\\u0435\\u0441\\u043f\\u0435\\u0447\\u0435\\u043d\\u0438\\u0435\", \"\\u0446\\u0435\\u043b\\u044c\", \"\\u043e\\u0440\\u0433\\u0430\\u043d\\u0438\\u0437\\u0430\\u0446\\u0438\\u044f\", \"\\u0432\\u0430\\u0436\\u043d\\u044b\\u0439\", \"\\u0434\\u0432\\u0443\\u0441\\u0442\\u043e\\u0440\\u043e\\u043d\\u043d\\u0438\\u0439\", \"\\u0441\\u043e\\u0432\\u043c\\u0435\\u0441\\u0442\\u043d\\u044b\\u0439_\\u0440\\u0430\\u0431\\u043e\\u0442\\u0430\", \"\\u0442\\u043e\\u0440\\u0433\\u043e\\u0432\\u043e\", \"\\u0442\\u043e\\u0440\\u0433\\u043e\\u0432\\u043e_\\u044d\\u043a\\u043e\\u043d\\u043e\\u043c\\u0438\\u0447\\u0435\\u0441\\u043a\\u0438\\u0439\", \"\\u0435\\u0432\\u0440\\u0430\\u0437\\u0438\\u0439\\u0441\\u043a\\u0438\\u0439_\\u044d\\u043a\\u043e\\u043d\\u043e\\u043c\\u0438\\u0447\\u0435\\u0441\\u043a\\u0438\\u0439\", \"\\u0432\\u0437\\u0430\\u0438\\u043c\\u043e\\u0432\\u044b\\u0433\\u043e\\u0434\\u043d\\u044b\\u0439\", \"\\u0435\\u0432\\u0440\\u0430\\u0437\\u0438\\u0439\\u0441\\u043a\\u0438\\u0439\", \"\\u0432\\u0438\\u0437\\u0438\\u0442\", \"\\u0440\\u043e\\u0441\\u0441\\u0438\\u0439\\u0441\\u043a\\u043e\", \"\\u0441\\u0430\\u043c\\u043c\\u0438\\u0442\", \"\\u0448\\u043e\\u0441\", \"\\u0431\\u0440\\u0438\\u043a\\u0441\", \"\\u0442\\u0435\\u0441\\u043d\\u044b\\u0439\", \"\\u0441\\u043e\\u0432\\u043c\\u0435\\u0441\\u0442\\u043d\\u044b\\u0439\", \"\\u0441\\u043e\\u0442\\u0440\\u0443\\u0434\\u043d\\u0438\\u0447\\u0435\\u0441\\u0442\\u0432\\u043e\", \"\\u043f\\u0430\\u0440\\u0442\\u043d\\u0451\\u0440\\u0441\\u0442\\u0432\\u043e\", \"\\u043e\\u0431\\u043c\\u0435\\u043d\", \"\\u043a\\u0438\\u0442\\u0430\\u0439\\u0441\\u043a\\u0438\\u0439\", \"\\u043a\\u043e\\u043d\\u0442\\u0430\\u043a\\u0442\", \"\\u0432\\u0437\\u0430\\u0438\\u043c\\u043e\\u0434\\u0435\\u0439\\u0441\\u0442\\u0432\\u0438\\u0435\", \"\\u043f\\u043e\\u0434\\u043f\\u0438\\u0441\\u0430\\u0442\\u044c\", \"\\u043f\\u0440\\u043e\\u0434\\u0432\\u0438\\u0436\\u0435\\u043d\\u0438\\u0435\", \"\\u0440\\u0430\\u0441\\u0448\\u0438\\u0440\\u0435\\u043d\\u0438\\u0435\", \"\\u043a\\u043e\\u043d\\u0441\\u0442\\u0440\\u0443\\u043a\\u0442\\u0438\\u0432\\u043d\\u044b\\u0439\", \"\\u043f\\u0435\\u0440\\u0435\\u0433\\u043e\\u0432\\u043e\\u0440\\u044b\", \"\\u0437\\u0430\\u0438\\u043d\\u0442\\u0435\\u0440\\u0435\\u0441\\u043e\\u0432\\u0430\\u043d\\u044b\", \"\\u043a\\u0440\\u0443\\u0433\", \"\\u0444\\u043e\\u0440\\u043c\\u0430\\u0442\", \"\\u0444\\u043e\\u0440\\u0443\\u043c\", \"\\u043a\\u0430\\u0437\\u0430\\u0445\\u0441\\u0442\\u0430\\u043d\", \"\\u0441\\u043e\\u0433\\u043b\\u0430\\u0448\\u0435\\u043d\\u0438\\u0435\", \"\\u0440\\u0435\\u0441\\u043f\\u0443\\u0431\\u043b\\u0438\\u043a\\u0430\", \"\\u044d\\u043a\\u043e\\u043d\\u043e\\u043c\\u0438\\u0447\\u0435\\u0441\\u043a\\u0438\\u0439\", \"\\u0433\\u0443\\u043c\\u0430\\u043d\\u0438\\u0442\\u0430\\u0440\\u043d\\u044b\\u0439\", \"\\u0440\\u0430\\u043c\\u043a\\u0430\", \"\\u043e\\u0442\\u043d\\u043e\\u0448\\u0435\\u043d\\u0438\\u0435\", \"\\u043f\\u0430\\u0440\\u0442\\u043d\\u0451\\u0440\", \"\\u0441\\u0432\\u044f\\u0437\\u044c\", \"\\u043e\\u0440\\u0433\\u0430\\u043d\\u0438\\u0437\\u0430\\u0446\\u0438\\u044f\", \"\\u0441\\u043e\\u044e\\u0437\", \"\\u043a\\u0438\\u0442\\u0430\\u0439\", \"\\u043f\\u0440\\u043e\\u0435\\u043a\\u0442\", \"\\u043c\\u0435\\u0436\\u0434\\u0443\\u043d\\u0430\\u0440\\u043e\\u0434\\u043d\\u044b\\u0439\", \"\\u043e\\u0431\\u043b\\u0430\\u0441\\u0442\\u044c\", \"\\u0433\\u043e\\u0441\\u0443\\u0434\\u0430\\u0440\\u0441\\u0442\\u0432\\u043e\", \"\\u0441\\u0442\\u0440\\u0430\\u0442\\u0435\\u0433\\u0438\\u0447\\u0435\\u0441\\u043a\\u0438\\u0439\", \"\\u0443\\u0447\\u0430\\u0441\\u0442\\u0438\\u0435\", \"\\u0434\\u0438\\u0430\\u043b\\u043e\\u0433\", \"\\u0441\\u0444\\u0435\\u0440\\u0430\", \"\\u0440\\u043e\\u0441\\u0441\\u0438\\u0439\\u0441\\u043a\\u0438\\u0439\", \"\\u0432\\u0430\\u0436\\u043d\\u044b\\u0439\", \"\\u043d\\u0430\\u043f\\u0440\\u0430\\u0432\\u043b\\u0435\\u043d\\u0438\\u0435\", \"\\u0432\\u043e\\u043f\\u0440\\u043e\\u0441\", \"\\u0440\\u0435\\u0433\\u0438\\u043e\\u043d\", \"\\u0434\\u043e\\u043b\\u043b\\u0430\\u0440\", \"\\u0442\\u043e\\u0432\\u0430\\u0440\", \"\\u044d\\u043a\\u0441\\u043f\\u043e\\u0440\\u0442\", \"\\u0441\\u043e\\u0441\\u0442\\u0430\\u0432\\u0438\\u0442\\u044c\", \"\\u043e\\u0431\\u044a\\u0451\\u043c\", \"\\u0434\\u043e\\u0431\\u044b\\u0447\\u0430\", \"\\u0440\\u044b\\u043d\\u043e\\u043a\", \"\\u043d\\u0435\\u0444\\u0442\\u044c\", \"\\u0438\\u043d\\u0432\\u0435\\u0441\\u0442\\u0438\\u0446\\u0438\\u044f\", \"\\u0442\\u0435\\u043c\\u043f\", \"\\u043a\\u0430\\u043f\\u0438\\u0442\\u0430\\u043b\", \"\\u0446\\u0435\\u043d\\u0430\", \"\\u0433\\u0430\\u0437\", \"\\u043f\\u043e\\u043a\\u0430\\u0437\\u0430\\u0442\\u0435\\u043b\\u044c\", \"\\u0438\\u043d\\u0432\\u0435\\u0441\\u0442\\u043e\\u0440\", \"\\u043f\\u0440\\u043e\\u0434\\u0443\\u043a\\u0446\\u0438\\u044f\", \"\\u0443\\u0432\\u0435\\u043b\\u0438\\u0447\\u0438\\u0442\\u044c\\u0441\\u044f\", \"\\u0447\\u0430\\u0441\\u0442\\u043d\\u044b\\u0439\", \"\\u0441\\u0435\\u043a\\u0442\\u043e\\u0440\", \"\\u043a\\u043e\\u043c\\u043f\\u0430\\u043d\\u0438\\u044f\", \"\\u0434\\u043e\\u043b\\u044f\", \"\\u0431\\u0430\\u043d\\u043a\", \"\\u043f\\u0440\\u043e\\u0434\\u0443\\u043a\\u0442\", \"\\u043f\\u043e\\u0441\\u0442\\u0430\\u0432\\u043a\\u0430\", \"\\u0443\\u0432\\u0435\\u043b\\u0438\\u0447\\u0435\\u043d\\u0438\\u0435\", \"\\u0440\\u043e\\u0441\\u0442\", \"\\u0444\\u043e\\u043d\\u0434\", \"\\u0434\\u043e\\u0445\\u043e\\u0434\", \"\\u0440\\u0430\\u0431\\u043e\\u0447\\u0438\\u0439_\\u043c\\u0435\\u0441\\u0442\\u043e\", \"\\u0441\\u0440\\u0435\\u0434\\u043d\\u0438\\u0439\", \"\\u0440\\u0443\\u0431\\u043b\\u044c\", \"\\u044d\\u043a\\u043e\\u043d\\u043e\\u043c\\u0438\\u043a\\u0430\", \"\\u043f\\u0440\\u0435\\u0434\\u043f\\u0440\\u0438\\u044f\\u0442\\u0438\\u0435\", \"\\u043f\\u0440\\u043e\\u0438\\u0437\\u0432\\u043e\\u0434\\u0441\\u0442\\u0432\\u043e\", \"\\u044d\\u043d\\u0435\\u0440\\u0433\\u0435\\u0442\\u0438\\u043a\\u0430\", \"\\u0431\\u0438\\u0437\\u043d\\u0435\\u0441\", \"\\u0444\\u0438\\u043d\\u0430\\u043d\\u0441\\u043e\\u0432\\u044b\\u0439\", \"\\u043f\\u0440\\u043e\\u0435\\u043a\\u0442\", \"\\u0440\\u043e\\u0441\\u0441\\u0438\\u0439\\u0441\\u043a\\u0438\\u0439\", \"\\u043a\\u0440\\u0443\\u043f\\u043d\\u044b\\u0439\", \"\\u043c\\u0438\\u043b\\u043b\\u0438\\u043e\\u043d\", \"\\u043c\\u0438\\u0440\\u043e\\u0432\\u043e\\u0439\", \"\\u0447\\u0438\\u0441\\u043b\\u043e\", \"\\u044d\\u043a\\u043e\\u043d\\u043e\\u043c\\u0438\\u0447\\u0435\\u0441\\u043a\\u0438\\u0439\", \"\\u043f\\u043e\\u0441\\u043b\\u0435\\u0434\\u043d\\u0438\\u0439\", \"\\u0433\\u043e\\u0432\\u043e\\u0440\\u0438\\u0442\\u044c\", \"\\u0443\\u0440\\u043e\\u0432\\u0435\\u043d\\u044c\", \"\\u043f\\u0435\\u0440\\u0432\\u044b\\u0439\", \"\\u0440\\u0430\\u0431\\u043e\\u0442\\u0430\\u0442\\u044c\", \"\\u0432\\u0430\\u0436\\u043d\\u044b\\u0439\", \"\\u0441\\u043a\\u0430\\u0437\\u0430\\u0442\\u044c\", \"\\u0436\\u0435\\u043b\\u0430\\u0442\\u044c\", \"\\u043f\\u043e\\u0437\\u0434\\u0440\\u0430\\u0432\\u0438\\u0442\\u044c\", \"\\u043f\\u043e\\u0436\\u0435\\u043b\\u0430\\u0442\\u044c\", \"\\u043e\\u043b\\u0438\\u043c\\u043f\\u0438\\u0439\\u0441\\u043a\\u0438\\u0439\", \"\\u043f\\u0435\\u0442\\u0435\\u0440\\u0431\\u0443\\u0440\\u0433\", \"\\u0441\\u0430\\u043d\\u043a\\u0442\", \"\\u0441\\u0430\\u043d\\u043a\\u0442_\\u043f\\u0435\\u0442\\u0435\\u0440\\u0431\\u0443\\u0440\\u0433\", \"\\u0447\\u0435\\u043c\\u043f\\u0438\\u043e\\u043d\\u0430\\u0442_\\u043c\\u0438\\u0440\", \"\\u0441\\u043e\\u0440\\u0435\\u0432\\u043d\\u043e\\u0432\\u0430\\u043d\\u0438\\u0435\", \"\\u0441\\u0435\\u0440\\u0434\\u0435\\u0447\\u043d\\u043e\", \"\\u0432\\u044b\\u0441\\u043e\\u043a\\u0438\\u0439_\\u043d\\u0430\\u0433\\u0440\\u0430\\u0434\\u0430\", \"\\u0447\\u0435\\u043c\\u043f\\u0438\\u043e\\u043d\\u0430\\u0442\", \"\\u0441\\u043f\\u043e\\u0440\\u0442\\u0441\\u043c\\u0435\\u043d\", \"\\u0441\\u043f\\u043e\\u0440\\u0442\\u0438\\u0432\\u043d\\u044b\\u0439\", \"\\u0441\\u043f\\u043e\\u0440\\u0442\", \"\\u0438\\u0433\\u0440\\u0430\", \"\\u0432\\u044b\\u0440\\u0430\\u0437\\u0438\\u0442\\u044c\", \"\\u0446\\u0435\\u0440\\u0435\\u043c\\u043e\\u043d\\u0438\\u044f\", \"\\u043d\\u0430\\u0433\\u0440\\u0430\\u0434\\u0430\", \"\\u0431\\u043b\\u0430\\u0433\\u043e\\u0434\\u0430\\u0440\\u0438\\u0442\\u044c\", \"\\u0433\\u043e\\u0441\\u0442\\u044c\", \"\\u043f\\u043e\\u0431\\u043b\\u0430\\u0433\\u043e\\u0434\\u0430\\u0440\\u0438\\u0442\\u044c\", \"\\u043f\\u043e\\u0437\\u0434\\u0440\\u0430\\u0432\\u043b\\u044f\\u0442\\u044c\", \"\\u0431\\u043b\\u0430\\u0433\\u043e\\u0434\\u0430\\u0440\\u043d\\u043e\\u0441\\u0442\\u044c\", \"\\u043f\\u0440\\u0438\\u043d\\u0438\\u043c\\u0430\\u0442\\u044c_\\u0443\\u0447\\u0430\\u0441\\u0442\\u0438\\u0435\", \"\\u0438\\u0441\\u043a\\u0440\\u0435\\u043d\\u043d\\u0435\", \"\\u043f\\u0440\\u0435\\u043c\\u0438\\u044f\", \"\\u0441\\u0442\\u043e\\u043b\\u044c\", \"\\u0440\\u0430\\u0434\", \"\\u0441\\u043e\\u0447\\u0438\", \"\\u0437\\u0434\\u043e\\u0440\\u043e\\u0432\\u044c\\u0435\", \"\\u0443\\u0441\\u043f\\u0435\\u0445\", \"\\u0442\\u0435\\u0430\\u0442\\u0440\", \"\\u043f\\u0440\\u0430\\u0437\\u0434\\u043d\\u0438\\u043a\", \"\\u0432\\u044b\\u0441\\u043e\\u043a\\u0438\\u0439\", \"\\u0431\\u043e\\u043b\\u044c\\u0448\\u043e\\u0439\", \"\\u0440\\u043e\\u0441\\u0441\\u0438\\u0439\\u0441\\u043a\\u0438\\u0439_\\u0444\\u0435\\u0434\\u0435\\u0440\\u0430\\u0446\\u0438\\u044f\", \"\\u0440\\u043e\\u0441\\u0441\\u0438\\u0439\\u0441\\u043a\\u0438\\u0439\", \"\\u0444\\u0435\\u0434\\u0435\\u0440\\u0430\\u0446\\u0438\\u044f\", \"\\u0434\\u0440\\u0443\\u0433\", \"\\u0443\\u0447\\u0430\\u0441\\u0442\\u0438\\u0435\", \"\\u043e\\u0433\\u0440\\u043e\\u043c\\u043d\\u044b\\u0439\", \"\\u043c\\u0438\\u0440\", \"\\u0443\\u0447\\u0430\\u0441\\u0442\\u043d\\u0438\\u043a\", \"\\u043c\\u0435\\u0440\\u043e\\u043f\\u0440\\u0438\\u044f\\u0442\\u0438\\u0435\", \"\\u0431\\u043e\\u043b\\u044c\\u0448\\u0438\\u0439\", \"\\u0441\\u043a\\u0430\\u0437\\u0430\\u0442\\u044c\", \"\\u0433\\u043e\\u0440\\u043e\\u0434\", \"\\u0441\\u043e\\u0432\\u0435\\u0442\\u0441\\u043a\\u0438\\u0439_\\u0441\\u043e\\u044e\\u0437\", \"\\u0432\\u0435\\u043b\\u0438\\u043a\\u0438\\u0439_\\u043e\\u0442\\u0435\\u0447\\u0435\\u0441\\u0442\\u0432\\u0435\\u043d\\u043d\\u044b\\u0439\", \"\\u0446\\u0435\\u0440\\u043a\\u043e\\u0432\\u044c\", \"\\u043f\\u043e\\u0434\\u0432\\u0438\\u0433\", \"\\u043d\\u0440\\u0430\\u0432\\u0441\\u0442\\u0432\\u0435\\u043d\\u043d\\u044b\\u0439\", \"\\u043c\\u0438\\u0440\\u043e\\u0432\\u043e\\u0439_\\u0432\\u043e\\u0439\\u043d\\u0430\", \"\\u0434\\u0443\\u0445\\u043e\\u0432\\u043d\\u044b\\u0439\", \"\\u044f\\u0437\\u044b\\u043a\", \"\\u043d\\u0430\\u0441\\u043b\\u0435\\u0434\\u0438\\u0435\", \"\\u0435\\u0434\\u0438\\u043d\\u0441\\u0442\\u0432\\u043e\", \"\\u0440\\u0443\\u0441\\u0441\\u043a\\u0438\\u0439\", \"\\u0432\\u0435\\u043b\\u0438\\u043a\\u0438\\u0439\", \"\\u043f\\u0430\\u043c\\u044f\\u0442\\u044c\", \"\\u0438\\u0441\\u0442\\u043e\\u0440\\u0438\\u0447\\u0435\\u0441\\u043a\\u0438\\u0439\", \"\\u0441\\u043e\\u0432\\u0435\\u0442\\u0441\\u043a\\u0438\\u0439\", \"\\u0447\\u0443\\u0432\\u0441\\u0442\\u0432\\u043e\", \"\\u043b\\u044e\\u0431\\u043e\\u0432\\u044c\", \"\\u0432\\u043e\\u0439\\u043d\\u0430\", \"\\u0441\\u0443\\u0434\\u044c\\u0431\\u0430\", \"\\u0446\\u0435\\u043d\\u043d\\u043e\\u0441\\u0442\\u044c\", \"\\u043b\\u0438\\u0442\\u0435\\u0440\\u0430\\u0442\\u0443\\u0440\\u0430\", \"\\u043f\\u043e\\u043a\\u043e\\u043b\\u0435\\u043d\\u0438\\u0435\", \"\\u043e\\u0442\\u0435\\u0447\\u0435\\u0441\\u0442\\u0432\\u043e\", \"\\u0433\\u0435\\u0440\\u043e\\u0439\", \"\\u0440\\u043e\\u0434\\u0438\\u043d\\u0430\", \"\\u0440\\u043e\\u0434\\u043d\\u044b\\u0439\", \"\\u0441\\u043b\\u0430\\u0432\\u0430\", \"\\u043f\\u043e\\u0431\\u0435\\u0434\\u0430\", \"\\u0438\\u0441\\u0442\\u043e\\u0440\\u0438\\u044f\", \"\\u043c\\u0443\\u0436\\u0435\\u0441\\u0442\\u0432\\u043e\", \"\\u0437\\u0435\\u043c\\u043b\\u044f\", \"\\u043d\\u0430\\u0440\\u043e\\u0434\", \"\\u043a\\u0443\\u043b\\u044c\\u0442\\u0443\\u0440\\u0430\", \"\\u0442\\u0440\\u0430\\u0434\\u0438\\u0446\\u0438\\u044f\", \"\\u0436\\u0438\\u0437\\u043d\\u044c\", \"\\u043e\\u0442\\u0435\\u0447\\u0435\\u0441\\u0442\\u0432\\u0435\\u043d\\u043d\\u044b\\u0439\", \"\\u043e\\u0431\\u0449\\u0435\\u0441\\u0442\\u0432\\u043e\", \"\\u0432\\u0435\\u043a\", \"\\u0441\\u0438\\u043b\\u0430\", \"\\u0440\\u0435\\u0431\\u0451\\u043d\\u043e\\u043a\", \"\\u043c\\u0438\\u0440\", \"\\u0432\\u0440\\u0435\\u043c\\u044f\", \"\\u0441\\u043e\\u044e\\u0437\", \"\\u043e\\u0433\\u0440\\u043e\\u043c\\u043d\\u044b\\u0439\", \"\\u043e\\u0431\\u0449\\u0438\\u0439\", \"\\u0440\\u043e\\u0441\\u0441\\u0438\\u0439\\u0441\\u043a\\u0438\\u0439\", \"\\u043c\\u0438\\u0440\\u043e\\u0432\\u043e\\u0439\", \"\\u0441\\u0435\\u043c\\u044c\\u044f\", \"\\u0432\\u0430\\u0436\\u043d\\u044b\\u0439\"], \"Freq\": [2780.0, 3208.0, 1348.0, 2246.0, 5184.0, 5007.0, 2902.0, 2614.0, 3269.0, 3038.0, 2086.0, 5406.0, 995.0, 1280.0, 1666.0, 2539.0, 2705.0, 906.0, 4345.0, 1551.0, 4498.0, 1479.0, 1838.0, 1372.0, 1831.0, 1322.0, 1401.0, 755.0, 1743.0, 1812.0, 823.4224055506749, 507.10402026077384, 479.3854106134955, 458.18881745856567, 397.86003041803144, 392.9684943158917, 383.18545375545006, 288.6160405752891, 275.57200759059214, 228.28728517859273, 344.0532915136836, 448.40577689812403, 347.3143155817767, 1495.1913383722433, 247.853366299476, 474.4938745113558, 331.00922688514873, 198.9381793191868, 242.96184601925518, 322.8566983587537, 798.9648199714896, 802.2257807519071, 560.9107591651217, 278.83300001484747, 1231.0492115964814, 660.3717084474224, 363.6193726345668, 251.11439036756914, 544.6057021123316, 303.29061723787044, 971.7985259913459, 536.4531735859366, 477.75489857944893, 521.7785969233552, 745.1580810671418, 601.673401797097, 792.4427718353033, 818.5309010923729, 644.0665881069566, 494.059955632239, 580.476840286005, 495.6904676662856, 627.7615310541665, 544.6057021123316, 547.8667261804247, 536.4531735859366, 490.7989632079837, 467.9718580190073, 906.3352642576677, 374.47362419526746, 407.61141040787555, 977.581510961073, 730.7049423295973, 467.25945943749167, 256.8344598707501, 1222.8011881664856, 318.13937917210325, 352.9340568107744, 404.29762755574956, 483.82837369812165, 245.23624104263507, 152.4504269547368, 197.1864531497859, 404.29762755574956, 139.19530612339577, 289.97224608335824, 233.63800106019406, 139.19530612339577, 154.1073183807998, 122.6264130170917, 313.16870489391425, 230.32421820806806, 109.37129218575068, 89.48860565015765, 72.91971254385359, 74.57660396991659, 79.54727295952411, 926.2179613704238, 308.1980517700512, 256.8344598707501, 225.353565084205, 227.010456510268, 266.77580842712814, 463.9456765853657, 427.49410752063153, 246.89313246869807, 230.32421820806806, 198.8433445758489, 223.696673658142, 210.44156340396395, 570.7138022117896, 481.3873024093203, 512.8170131510731, 600.489336805073, 358.97683773359313, 271.3045140795933, 349.05167686539545, 468.15373725549324, 218.37027945863045, 289.50065966751913, 309.35098140391443, 372.2104028874201, 939.5992944044051, 238.22060119502578, 274.61289237087743, 557.480289046653, 195.21155343660575, 218.37027945863045, 284.53807923342026, 162.12765354921086, 357.3226355907784, 306.0426031126303, 129.04375366181594, 228.2954403268281, 216.71607731581577, 966.0664247120591, 200.1741338707046, 228.2954403268281, 95.95984727583473, 104.2308254969766, 201.82833601351928, 216.71607731581577, 722.8997754864549, 481.3873024093203, 368.90199860179075, 266.34193364549446, 284.53807923342026, 282.8838770906056, 583.5928729910814, 554.2414043771371, 305.61748960404367, 269.3598287899, 253.8208417047365, 253.8208417047365, 245.1880711018679, 566.3273317853442, 595.6787518350975, 590.4990894733763, 433.38256737278556, 347.0548127799085, 706.1782641160066, 486.905793674762, 493.8120101570569, 226.19595149346145, 262.4536123076051, 519.7103219656627, 221.01628913174028, 328.062693171502, 372.9531245885143, 395.3983524380682, 240.00840874014673, 215.83665105211466, 583.5928729910814, 224.46939737288773, 276.2660452721949, 169.2196533734809, 176.12588199682355, 448.92155445794907, 3713.836950516969, 3477.299035998369, 682.0065064279745, 676.8268440662533, 1866.4232644760307, 2382.6631407843374, 569.7804400264916, 1395.0736981742587, 856.3885211701114, 1148.1763618038344, 1068.754775129061, 692.3658311514168, 474.8199148307459, 1094.653086937667, 989.33328558267, 920.2711207597212, 742.4359006480547, 637.1160507288668, 671.6471817045323, 616.3974012819821, 802.8653434323261, 799.4122351911786, 899.5523741844544, 637.1160507288668, 599.1318600762448, 609.4911847996872, 340.0644019012267, 326.98562603050857, 304.09776285420105, 299.1932408116095, 297.55838572394356, 289.3841535060201, 289.3841535060201, 286.11446494089137, 255.0523695466604, 276.30537763530197, 956.4015500310195, 330.2553145956373, 268.13114541737855, 485.56574834638576, 196.19791054373354, 320.4462272900479, 255.0523695466604, 188.0236783258101, 251.78268098153166, 428.34612282092166, 781.4729200588891, 300.8280742890723, 889.372837199966, 662.1291469653695, 225.62515085029855, 181.4843011955526, 223.9902957626326, 189.65853341347605, 299.1932408116095, 232.16452798055604, 649.0503927048545, 752.0457013625273, 1123.1558181240077, 967.8454492038686, 1116.6164842141563, 776.5684412367038, 977.6544932890517, 1211.4375606539058, 936.7833754198408, 1469.743281452124, 894.2773160221514, 667.0337122283673, 814.1698489305829, 709.5396851852441, 680.1124664888823, 675.2079444462908, 613.0837536578289, 431.6158329962536, 815.8047040182489, 536.2459967415923, 536.2459967415923, 802.7259497577339, 951.4969847680217, 791.2820505848848, 464.3127618679473, 841.9622989800914, 613.0837536578289, 689.9215537944717, 586.9262019163926, 559.1338383076967, 370.52047361252454, 321.7699116368219, 316.89486541622034, 248.64408530154913, 269.7693354756661, 500.5220054709606, 269.7693354756661, 234.0189133831821, 212.89367983734633, 698.7742509309431, 433.8962407631566, 216.1437106510807, 448.5214126815236, 420.89608425165676, 495.6469259937967, 208.0186169884636, 238.89397623206483, 793.0253440686141, 160.89310367619052, 221.01877349996343, 191.76844629151057, 472.89667704109377, 156.01804082730777, 221.01877349996343, 208.0186169884636, 170.6432127456748, 234.0189133831821, 212.89367983734633, 1259.40566376668, 276.2693971031348, 638.6485811071702, 1477.1581938787558, 721.5245331402085, 456.6464897158595, 854.7760625558166, 1563.2841767255284, 531.3973647145618, 947.4021070300579, 297.39464727725175, 669.5239070942091, 997.7776844126278, 617.5233475613345, 430.6462099494222, 651.6487043621078, 419.27106884478957, 580.1478934337022, 674.398986571373, 755.6498899409818, 607.7732551201314, 589.89805238803, 541.147457155765, 425.7711304722583, 453.3964589021252, 448.5214126815236, 472.89667704109377, 462.95179742867884, 410.4856878053861, 339.5020670391312, 268.5185069605586, 234.5698477925457, 226.85422826425852, 442.89121093020515, 197.5349317100655, 319.44151088449865, 310.18278565685875, 436.7187274451119, 274.6909904456519, 265.432265218012, 1143.4682078636554, 2314.69714639507, 432.0893800032125, 300.92406042921886, 515.4179373958127, 401.2269625777462, 862.6201789480706, 299.38092438602496, 162.04315167077925, 320.9846165838514, 203.70741519515877, 154.32754731441267, 158.95690992823262, 149.69818470059272, 216.0523821653453, 844.1027284927908, 358.01954783825215, 441.3481052308524, 617.2639452436928, 1570.912795409808, 316.355269141952, 600.2896004877657, 1091.0021285842038, 634.2382293119375, 819.4127945524177, 700.5924419486107, 493.8142148541451, 475.2967643988653, 830.2146558232515, 745.3429927312986, 589.4877392169319, 742.2567206449108, 405.85631001964555, 486.0986256696992, 399.6838265345523, 558.6253217914656, 632.6951236125848, 567.8840166752643, 447.5205887159457, 462.95179742867884, 439.8049691876585, 807.390079098304, 346.7312223612018, 293.0148227109798, 286.50374661432585, 669.0296552270576, 279.99265303541017, 1398.2704577684847, 449.28073644198264, 916.450651793477, 395.56431930949884, 398.8198660989567, 472.06952900366406, 709.72388520171, 343.475675571744, 426.4919438803013, 395.56431930949884, 190.4653435947225, 257.20387795599055, 367.8922415281543, 1471.5201556377156, 203.48749578803032, 476.95281422332727, 192.0931169894514, 283.24819982486804, 201.8597223933014, 1051.5555288752657, 516.0193057677743, 333.70907016789397, 255.5761220435234, 366.26446813342534, 485.0916811969719, 1826.3739864691026, 638.1019956917315, 620.196523314237, 415.0975650817224, 813.9011726772197, 398.8198660989567, 931.1005773815137, 1145.9661759824019, 574.6190081199213, 540.435836759661, 698.3295064031311, 605.5465977262002, 559.9690825318845, 470.4417556089351, 572.9912347251924, 475.32504082859833, 485.0916811969719, 476.95281422332727, 485.0916811969719, 446.02518965252483, 591.2173746896909, 492.4093972670764, 457.82663914968003, 444.6522351896353, 439.71183370461847, 337.6102814308534, 278.3255158883731, 265.15111192832836, 243.7427316321162, 225.62792618705467, 217.39394985088728, 372.1930656871103, 311.26149964962445, 413.36305192338955, 869.5263969570306, 464.4138411297024, 416.65662677454014, 199.2791705446863, 719.667708744685, 419.95022776455136, 337.6102814308534, 1189.00543159951, 597.8045766697132, 507.2306017221267, 177.87077717904387, 365.6058637070879, 278.3255158883731, 192.69196856466394, 423.24385489342313, 194.33876905966954, 403.48224895335596, 956.8068231923271, 284.9127178683955, 512.1710032071435, 958.4535714096115, 752.6036663670757, 596.1577761747077, 1226.8817907069176, 670.2637461722383, 638.974536767132, 548.4006140972666, 566.515367264607, 790.4800777522044, 454.5330381596688, 423.24385489342313, 497.34979875209314, 561.5749657795901, 443.0054346946297, 427.0858080801252, 416.2739497812674, 371.2246172434075, 331.5811960763501, 299.14565673702947, 279.32394615350074, 400.0561801116071, 500.9667390434375, 255.89829465610373, 345.9969952890763, 1261.399658602517, 1477.6365401216513, 531.600307925824, 762.2529886576843, 738.8273016030346, 336.98710744715265, 414.47197932433323, 1250.587835860912, 418.0759202382016, 610.8871858171915, 290.1357866737322, 962.2720649499054, 625.302949472665, 423.4818671662569, 711.7976736345164, 309.9575150358873, 300.9476271939636, 872.1733287596801, 1434.3892491552313, 295.5417158231611, 461.3233178763801, 1841.63528356741, 962.2720649499054, 796.4904273394336, 1450.6069121531332, 654.1345478981173, 733.421390232232, 432.49171945092775, 747.8371538877054, 600.0752919610809, 774.8667818562236, 632.5108313004016, 486.5509753879641, 518.986479170032, 537.0062192966266, 585.6595283056075, 511.7785973422953, 466.7292648044354, 522.5904556411531], \"Total\": [2780.0, 3208.0, 1348.0, 2246.0, 5184.0, 5007.0, 2902.0, 2614.0, 3269.0, 3038.0, 2086.0, 5406.0, 995.0, 1280.0, 1666.0, 2539.0, 2705.0, 906.0, 4345.0, 1551.0, 4498.0, 1479.0, 1838.0, 1372.0, 1831.0, 1322.0, 1401.0, 755.0, 1743.0, 1812.0, 823.5715772335423, 507.25319194364147, 479.5345822963631, 458.3379891414333, 398.0092021008991, 393.1176659987593, 383.3346254383177, 288.76521225815674, 275.72117927345977, 228.43645686146027, 349.16504789376074, 477.98218313943255, 372.26901580458843, 1666.2563301803682, 278.9566872242013, 537.2214122177855, 379.7515694312077, 229.9497746457486, 288.3504681956648, 395.4662635265191, 981.0600471211345, 994.8254170539221, 701.0041115500441, 358.7428827641634, 1612.3738166713101, 866.8940172309411, 484.7471829581483, 336.72977739835613, 753.372616234628, 438.71322132196525, 1812.732329471706, 954.4507158983566, 830.5063720554168, 967.9308714506406, 1771.1919596415528, 1422.0233807663549, 2465.1376485777278, 3338.2720653943366, 2167.6556113776874, 1500.0375061737163, 2634.191279624687, 1680.3501274256757, 4799.585066794179, 2614.6432008223983, 3269.3997746063974, 2930.346630025117, 2590.8475945878304, 2880.02922453428, 906.4841721152998, 374.6225320528997, 409.4868733034776, 995.9265646081251, 755.5558374992386, 489.01206381468825, 274.04508693907025, 1348.0765357362714, 389.789101917304, 433.24568382131633, 558.4852643390774, 696.8894167388512, 360.58787136788527, 239.01411740786293, 316.9445207928275, 662.5952784183436, 243.34541183320545, 509.36505395879055, 453.6781658958376, 272.92542881750137, 307.10987037041207, 259.90814365196394, 670.6237063924191, 540.0797233598004, 292.4781747361683, 278.3749969645803, 244.65476738790468, 251.74389941198402, 272.0280466791519, 3208.064510037123, 1120.3474141181487, 942.3532143606086, 946.7481322458605, 994.7626234858984, 1281.7798913204329, 3269.3997746063974, 5406.104360896156, 2634.191279624687, 2104.7902923870793, 1105.2971432843353, 4498.323782750241, 2780.4000998172996, 570.8627370154938, 481.5362372130247, 530.985686981059, 657.5255624316985, 405.80013589539374, 317.2291478775855, 415.8263720219262, 562.0053036164124, 279.78631981419875, 372.74249572596, 403.71768941266794, 494.64737575720403, 1280.6874280077611, 336.21150482985576, 416.6956933295292, 890.1723843793931, 317.8947093336641, 370.8159126946295, 484.5643038055591, 295.72385030349346, 670.6237063924191, 575.9169457282483, 256.87794584483237, 525.8227722220909, 503.4337836138765, 2246.363736455297, 521.8975959905011, 597.3569657632775, 260.93856762298844, 285.4475173621977, 563.0079972103978, 652.294256215295, 2614.6432008223983, 2086.849270702452, 1812.732329471706, 1133.2387472938372, 2573.8205956536585, 5406.104360896156, 583.7410841951267, 554.3896155811824, 305.76570080808915, 269.5080399939455, 253.96905290878195, 253.96905290878195, 245.33628230591336, 568.1223420565216, 618.5772242651493, 626.8768816523973, 462.82788197436565, 382.95343340731966, 797.404207869829, 561.9314132433307, 570.1658276900129, 267.2270721683933, 312.977400696313, 633.785461319335, 270.0714993706688, 408.0566478498747, 475.6506609165587, 514.5575397743488, 313.58711841473036, 285.90193166870864, 777.4100585277688, 305.9806486626777, 377.9204415514332, 232.74358580247772, 243.87243931589995, 625.0087043272332, 5184.543098483765, 5007.15372631371, 979.1114099445223, 976.1215228383231, 3128.291427344217, 4345.002961230307, 859.5168048727751, 3029.6499175957765, 1577.8595648719283, 2588.03391413936, 2590.8475945878304, 1303.8419365106272, 733.5155679919952, 3338.2720653943366, 2877.758310540753, 2571.140710502211, 1781.0504616702033, 1371.2468861041093, 1552.9502584928262, 1365.8326007930202, 2746.5122048786207, 3221.733937900142, 4799.585066794179, 1943.5173637974249, 1628.4830165917597, 2634.191279624687, 340.2135301905908, 327.1347543198727, 304.24689114356516, 299.3423691009736, 297.7075140133077, 289.5332817953842, 289.5332817953842, 286.2635932302555, 255.20149783602452, 278.10870085652505, 1005.203972895082, 349.9376803898565, 286.1554783194718, 528.8787499172837, 219.49385622393527, 362.84583910145733, 291.2147806931445, 219.15244172500678, 295.6234425271977, 503.68644744043127, 938.652000254041, 361.82536755393187, 1079.754396541931, 814.017540832288, 279.2974862504248, 226.77488877635992, 284.4289345414377, 248.35101509842573, 392.12524110186064, 306.7524247194667, 875.8242806959169, 1059.7259782665474, 1697.2182665015237, 1517.198061412496, 1913.6485906802645, 1271.3678802288866, 1812.4972029317742, 2397.0724333943103, 1743.0447362656328, 3221.733937900142, 1850.6582464904102, 1201.6559761270632, 1970.7996737215672, 1583.0761857681882, 1500.0375061737163, 1483.5131052235515, 1389.8614110152093, 666.3648159406946, 2614.6432008223983, 1076.5211716841152, 1100.8488026655714, 2880.02922453428, 4799.585066794179, 3208.064510037123, 828.9783388590013, 5406.104360896156, 2167.6556113776874, 4345.002961230307, 2465.1376485777278, 1896.850968476341, 370.66970018044134, 321.9191382047387, 317.04409198413714, 248.7933118694659, 271.54906916804475, 563.5306374774115, 309.68391419026904, 270.5604280791517, 257.7934216833974, 852.7636173756094, 536.0025402858463, 274.97203123927153, 595.4001819520591, 565.1938715192385, 668.457028199953, 282.14225304970205, 331.44445872643814, 1115.8504564123702, 236.1145638312532, 324.55711983334095, 286.2791419348695, 714.396746394924, 238.87701406591296, 347.90181598671745, 327.60582154768156, 269.8321210107988, 372.7305099570062, 345.98365805975345, 2086.849270702452, 475.25180334270965, 1117.6515147061923, 2705.4380030345396, 1401.0769168090383, 891.3867565022839, 1991.7381477642023, 4498.323782750241, 1141.0826165008452, 2588.03391413936, 525.8227722220909, 1781.0504616702033, 3344.3484799926455, 1583.0761857681882, 941.9647894666488, 2117.338702215534, 1060.6520976226782, 2127.696171572814, 3038.0033453275632, 4345.002961230307, 2902.6283888274547, 3221.733937900142, 2746.5122048786207, 1133.2387472938372, 1509.474554305289, 1896.850968476341, 4799.585066794179, 463.10184297131667, 410.6357333480239, 339.652112581769, 268.66855250319645, 234.71989333518349, 228.6611634795673, 454.6394847858017, 207.5657723622531, 343.96683513854526, 341.7229210124324, 483.9943110445372, 305.7686610328546, 303.1837775370142, 1307.8221676805813, 2780.4000998172996, 524.9496265172329, 367.5430105503882, 634.8640442074383, 496.4133286336031, 1092.6386449748347, 410.2323098246396, 224.61388118035643, 445.3002312775964, 289.98344754373215, 225.2663411735498, 233.32796001367186, 230.32564303064487, 332.7414260652481, 1308.9932017356894, 555.894117293771, 688.1149197389403, 993.5785487991282, 2902.6283888274547, 512.7642199358421, 1210.4066611576911, 2746.5122048786207, 1326.2372168153533, 1987.0095221528547, 1896.850968476341, 1027.1142006045256, 994.7626234858984, 3269.3997746063974, 2705.4380030345396, 1771.1919596415528, 3344.3484799926455, 781.4076375478049, 1327.4768402935815, 775.3612770690726, 2465.1376485777278, 5406.104360896156, 4799.585066794179, 1744.7589889096269, 4345.002961230307, 3208.064510037123, 807.5392781546726, 346.88042141757046, 293.16402176734846, 286.6529456706945, 675.7182405225742, 287.85745839927074, 1479.7570999380787, 484.22461865543, 1001.4715125740663, 436.47619601388163, 444.74476414961316, 537.0897834150782, 807.6295781425735, 395.8878876473173, 494.5736175949382, 464.19480961663965, 231.485703395135, 316.20754647481436, 455.3599120483455, 1838.9256217451878, 254.74260142952323, 597.2551229820799, 241.15753013118865, 356.2520400361906, 254.3240029767661, 1337.9549770252397, 658.3610956130793, 427.0445118409759, 338.8811811022861, 500.24109202872467, 665.0739887020828, 3038.0033453275632, 1010.8122009039699, 996.9928545629648, 635.3908618307449, 1653.2098198023825, 669.7052748041775, 3269.3997746063974, 5406.104360896156, 1322.654634032012, 1179.1938154112772, 2117.338702215534, 2880.02922453428, 2902.6283888274547, 1489.4640950356147, 5184.543098483765, 2147.10213900422, 2877.758310540753, 3338.2720653943366, 4799.585066794179, 5007.15372631371, 591.3663834521988, 492.5584060295843, 457.975647912188, 444.80124395214324, 439.8608424671264, 337.7592901933613, 278.47452465088105, 265.3001206908363, 243.89174039462415, 225.77693494956262, 217.54295861339523, 373.9698442207045, 314.8636183294914, 429.81713198845785, 926.7431522867819, 511.6883879489978, 463.09927168645567, 222.6867123837658, 813.5193490644077, 475.9604262634641, 386.73373201089515, 1372.9626675575494, 715.3155345883433, 631.7158109242359, 225.8565429622327, 468.25727296352096, 363.1672861447986, 257.860663017563, 566.5924698510806, 265.4713517049383, 559.1561289116312, 1365.6079832953244, 396.7840983147127, 861.9029284344313, 2573.8205956536585, 2049.690371800759, 1389.8614110152093, 5406.104360896156, 1743.0447362656328, 1824.7453794814903, 1327.4768402935815, 1578.8935244199847, 4498.323782750241, 934.0338174513577, 810.9251996094587, 1947.2230797674251, 5007.15372631371, 1481.801408149323, 427.2332650955705, 416.4214067967127, 371.3720742588528, 331.7286530917954, 299.29311375247477, 279.47140316894604, 406.7908341055289, 516.6531912701895, 265.92654678109886, 360.769619867911, 1322.4887703241843, 1551.8899535562678, 566.3305454212394, 812.2464681528453, 792.497965729242, 365.13014949726085, 457.4362127600615, 1401.8620206690891, 475.4032014878854, 700.4106604523067, 333.4471169707115, 1116.3267664137563, 739.4567343326955, 502.6756820858901, 877.0909797255894, 382.6159024170424, 373.6282049328556, 1083.1110656548883, 1831.4868995681559, 391.63247816453554, 613.795443529593, 2539.910272567518, 1305.8242482928788, 1119.7590836359923, 2930.346630025117, 1087.7634100910511, 1431.9337902029833, 618.6406108175645, 2246.363736455297, 1385.8100753765873, 4498.323782750241, 3029.6499175957765, 1027.1142006045256, 1578.8935244199847, 2127.696171572814, 5406.104360896156, 2117.338702215534, 1161.7488857192307, 4799.585066794179], \"Category\": [\"Default\", \"Default\", \"Default\", \"Default\", \"Default\", \"Default\", \"Default\", \"Default\", \"Default\", \"Default\", \"Default\", \"Default\", \"Default\", \"Default\", \"Default\", \"Default\", \"Default\", \"Default\", \"Default\", \"Default\", \"Default\", \"Default\", \"Default\", \"Default\", \"Default\", \"Default\", \"Default\", \"Default\", \"Default\", \"Default\", \"Topic0\", \"Topic0\", \"Topic0\", \"Topic0\", \"Topic0\", \"Topic0\", \"Topic0\", \"Topic0\", \"Topic0\", \"Topic0\", \"Topic0\", \"Topic0\", \"Topic0\", \"Topic0\", \"Topic0\", \"Topic0\", \"Topic0\", \"Topic0\", \"Topic0\", \"Topic0\", \"Topic0\", \"Topic0\", \"Topic0\", \"Topic0\", \"Topic0\", \"Topic0\", \"Topic0\", \"Topic0\", \"Topic0\", \"Topic0\", \"Topic0\", \"Topic0\", \"Topic0\", \"Topic0\", \"Topic0\", \"Topic0\", \"Topic0\", \"Topic0\", \"Topic0\", \"Topic0\", \"Topic0\", \"Topic0\", \"Topic0\", \"Topic0\", \"Topic0\", \"Topic0\", \"Topic0\", \"Topic0\", \"Topic1\", \"Topic1\", \"Topic1\", \"Topic1\", \"Topic1\", \"Topic1\", \"Topic1\", \"Topic1\", \"Topic1\", \"Topic1\", \"Topic1\", \"Topic1\", \"Topic1\", \"Topic1\", \"Topic1\", \"Topic1\", \"Topic1\", \"Topic1\", \"Topic1\", \"Topic1\", \"Topic1\", \"Topic1\", \"Topic1\", \"Topic1\", \"Topic1\", \"Topic1\", \"Topic1\", \"Topic1\", \"Topic1\", \"Topic1\", \"Topic1\", \"Topic1\", \"Topic1\", \"Topic1\", \"Topic1\", \"Topic1\", \"Topic1\", \"Topic1\", \"Topic1\", \"Topic1\", \"Topic1\", \"Topic1\", \"Topic2\", \"Topic2\", \"Topic2\", \"Topic2\", \"Topic2\", \"Topic2\", \"Topic2\", \"Topic2\", \"Topic2\", \"Topic2\", \"Topic2\", \"Topic2\", \"Topic2\", \"Topic2\", \"Topic2\", \"Topic2\", \"Topic2\", \"Topic2\", \"Topic2\", \"Topic2\", \"Topic2\", \"Topic2\", \"Topic2\", \"Topic2\", \"Topic2\", \"Topic2\", \"Topic2\", \"Topic2\", \"Topic2\", \"Topic2\", \"Topic2\", \"Topic2\", \"Topic2\", \"Topic2\", \"Topic2\", \"Topic2\", \"Topic2\", \"Topic2\", \"Topic3\", \"Topic3\", \"Topic3\", \"Topic3\", \"Topic3\", \"Topic3\", \"Topic3\", \"Topic3\", \"Topic3\", \"Topic3\", \"Topic3\", \"Topic3\", \"Topic3\", \"Topic3\", \"Topic3\", \"Topic3\", \"Topic3\", \"Topic3\", \"Topic3\", \"Topic3\", \"Topic3\", \"Topic3\", \"Topic3\", \"Topic3\", \"Topic3\", \"Topic3\", \"Topic3\", \"Topic3\", \"Topic3\", \"Topic3\", \"Topic3\", \"Topic3\", \"Topic3\", \"Topic3\", \"Topic3\", \"Topic3\", \"Topic3\", \"Topic3\", \"Topic3\", \"Topic3\", \"Topic3\", \"Topic3\", \"Topic3\", \"Topic3\", \"Topic3\", \"Topic3\", \"Topic3\", \"Topic3\", \"Topic3\", \"Topic3\", \"Topic3\", \"Topic3\", \"Topic3\", \"Topic3\", \"Topic3\", \"Topic3\", \"Topic4\", \"Topic4\", \"Topic4\", \"Topic4\", \"Topic4\", \"Topic4\", \"Topic4\", \"Topic4\", \"Topic4\", \"Topic4\", \"Topic4\", \"Topic4\", \"Topic4\", \"Topic4\", \"Topic4\", \"Topic4\", \"Topic4\", \"Topic4\", \"Topic4\", \"Topic4\", \"Topic4\", \"Topic4\", \"Topic4\", \"Topic4\", \"Topic4\", \"Topic4\", \"Topic4\", \"Topic4\", \"Topic4\", \"Topic4\", \"Topic4\", \"Topic4\", \"Topic4\", \"Topic4\", \"Topic4\", \"Topic4\", \"Topic4\", \"Topic4\", \"Topic4\", \"Topic4\", \"Topic4\", \"Topic4\", \"Topic4\", \"Topic4\", \"Topic4\", \"Topic4\", \"Topic4\", \"Topic4\", \"Topic4\", \"Topic4\", \"Topic4\", \"Topic4\", \"Topic4\", \"Topic4\", \"Topic4\", \"Topic4\", \"Topic4\", \"Topic4\", \"Topic4\", \"Topic4\", \"Topic5\", \"Topic5\", \"Topic5\", \"Topic5\", \"Topic5\", \"Topic5\", \"Topic5\", \"Topic5\", \"Topic5\", \"Topic5\", \"Topic5\", \"Topic5\", \"Topic5\", \"Topic5\", \"Topic5\", \"Topic5\", \"Topic5\", \"Topic5\", \"Topic5\", \"Topic5\", \"Topic5\", \"Topic5\", \"Topic5\", \"Topic5\", \"Topic5\", \"Topic5\", \"Topic5\", \"Topic5\", \"Topic5\", \"Topic5\", \"Topic5\", \"Topic5\", \"Topic5\", \"Topic5\", \"Topic5\", \"Topic5\", \"Topic5\", \"Topic5\", \"Topic5\", \"Topic5\", \"Topic5\", \"Topic5\", \"Topic5\", \"Topic5\", \"Topic5\", \"Topic5\", \"Topic5\", \"Topic5\", \"Topic5\", \"Topic5\", \"Topic5\", \"Topic5\", \"Topic5\", \"Topic5\", \"Topic5\", \"Topic6\", \"Topic6\", \"Topic6\", \"Topic6\", \"Topic6\", \"Topic6\", \"Topic6\", \"Topic6\", \"Topic6\", \"Topic6\", \"Topic6\", \"Topic6\", \"Topic6\", \"Topic6\", \"Topic6\", \"Topic6\", \"Topic6\", \"Topic6\", \"Topic6\", \"Topic6\", \"Topic6\", \"Topic6\", \"Topic6\", \"Topic6\", \"Topic6\", \"Topic6\", \"Topic6\", \"Topic6\", \"Topic6\", \"Topic6\", \"Topic6\", \"Topic6\", \"Topic6\", \"Topic6\", \"Topic6\", \"Topic6\", \"Topic6\", \"Topic6\", \"Topic6\", \"Topic6\", \"Topic6\", \"Topic6\", \"Topic6\", \"Topic6\", \"Topic6\", \"Topic6\", \"Topic6\", \"Topic6\", \"Topic6\", \"Topic6\", \"Topic6\", \"Topic6\", \"Topic6\", \"Topic6\", \"Topic7\", \"Topic7\", \"Topic7\", \"Topic7\", \"Topic7\", \"Topic7\", \"Topic7\", \"Topic7\", \"Topic7\", \"Topic7\", \"Topic7\", \"Topic7\", \"Topic7\", \"Topic7\", \"Topic7\", \"Topic7\", \"Topic7\", \"Topic7\", \"Topic7\", \"Topic7\", \"Topic7\", \"Topic7\", \"Topic7\", \"Topic7\", \"Topic7\", \"Topic7\", \"Topic7\", \"Topic7\", \"Topic7\", \"Topic7\", \"Topic7\", \"Topic7\", \"Topic7\", \"Topic7\", \"Topic7\", \"Topic7\", \"Topic7\", \"Topic7\", \"Topic7\", \"Topic7\", \"Topic7\", \"Topic7\", \"Topic7\", \"Topic7\", \"Topic7\", \"Topic7\", \"Topic7\", \"Topic7\", \"Topic7\", \"Topic7\", \"Topic7\", \"Topic8\", \"Topic8\", \"Topic8\", \"Topic8\", \"Topic8\", \"Topic8\", \"Topic8\", \"Topic8\", \"Topic8\", \"Topic8\", \"Topic8\", \"Topic8\", \"Topic8\", \"Topic8\", \"Topic8\", \"Topic8\", \"Topic8\", \"Topic8\", \"Topic8\", \"Topic8\", \"Topic8\", \"Topic8\", \"Topic8\", \"Topic8\", \"Topic8\", \"Topic8\", \"Topic8\", \"Topic8\", \"Topic8\", \"Topic8\", \"Topic8\", \"Topic8\", \"Topic8\", \"Topic8\", \"Topic8\", \"Topic8\", \"Topic8\", \"Topic8\", \"Topic8\", \"Topic8\", \"Topic8\", \"Topic8\", \"Topic8\", \"Topic8\", \"Topic8\", \"Topic8\", \"Topic8\", \"Topic8\", \"Topic9\", \"Topic9\", \"Topic9\", \"Topic9\", \"Topic9\", \"Topic9\", \"Topic9\", \"Topic9\", \"Topic9\", \"Topic9\", \"Topic9\", \"Topic9\", \"Topic9\", \"Topic9\", \"Topic9\", \"Topic9\", \"Topic9\", \"Topic9\", \"Topic9\", \"Topic9\", \"Topic9\", \"Topic9\", \"Topic9\", \"Topic9\", \"Topic9\", \"Topic9\", \"Topic9\", \"Topic9\", \"Topic9\", \"Topic9\", \"Topic9\", \"Topic9\", \"Topic9\", \"Topic9\", \"Topic9\", \"Topic9\", \"Topic9\", \"Topic9\", \"Topic9\", \"Topic9\", \"Topic9\", \"Topic9\", \"Topic9\", \"Topic9\", \"Topic9\", \"Topic9\", \"Topic9\", \"Topic9\", \"Topic9\"], \"logprob\": [30.0, 29.0, 28.0, 27.0, 26.0, 25.0, 24.0, 23.0, 22.0, 21.0, 20.0, 19.0, 18.0, 17.0, 16.0, 15.0, 14.0, 13.0, 12.0, 11.0, 10.0, 9.0, 8.0, 7.0, 6.0, 5.0, 4.0, 3.0, 2.0, 1.0, -4.4131, -4.8979, -4.9541, -4.9993, -5.1405, -5.1529, -5.1781, -5.4615, -5.5077, -5.696, -5.2858, -5.0209, -5.2764, -3.8166, -5.6138, -4.9643, -5.3244, -5.8336, -5.6337, -5.3494, -4.4433, -4.4392, -4.797, -5.496, -4.011, -4.6338, -5.2305, -5.6007, -4.8265, -5.4119, -4.2474, -4.8416, -4.9575, -4.8694, -4.513, -4.7269, -4.4515, -4.4191, -4.6588, -4.9239, -4.7627, -4.9206, -4.6844, -4.8265, -4.8206, -4.8416, -4.9306, -4.9782, -3.2213, -4.1052, -4.0204, -3.1457, -3.4367, -3.8839, -4.4823, -2.9218, -4.2683, -4.1645, -4.0286, -3.849, -4.5285, -5.0039, -4.7466, -4.0286, -5.0949, -4.361, -4.577, -5.0949, -4.9931, -5.2216, -4.284, -4.5913, -5.336, -5.5366, -5.7414, -5.7189, -5.6544, -3.1996, -4.3, -4.4823, -4.6131, -4.6058, -4.4443, -3.891, -3.9728, -4.5218, -4.5913, -4.7382, -4.6205, -4.6815, -3.8899, -4.0601, -3.9969, -3.839, -4.3535, -4.6335, -4.3816, -4.088, -4.8506, -4.5686, -4.5023, -4.3173, -3.3913, -4.7636, -4.6214, -3.9134, -4.9627, -4.8506, -4.5859, -5.1484, -4.3581, -4.5131, -5.3766, -4.8061, -4.8582, -3.3636, -4.9376, -4.8061, -5.6729, -5.5902, -4.9294, -4.8582, -3.6535, -4.0601, -4.3263, -4.652, -4.5859, -4.5917, -5.1857, -5.2373, -5.8326, -5.9589, -6.0183, -6.0183, -6.0529, -5.2158, -5.1652, -5.174, -5.4833, -5.7055, -4.9951, -5.3669, -5.3528, -6.1335, -5.9849, -5.3017, -6.1567, -5.7617, -5.6335, -5.575, -6.0743, -6.1804, -5.1857, -6.1412, -5.9336, -6.4237, -6.3837, -5.4481, -3.3351, -3.4009, -5.0299, -5.0375, -4.0232, -3.779, -5.2097, -4.3142, -4.8022, -4.509, -4.5807, -5.0148, -5.392, -4.5567, -4.6579, -4.7303, -4.945, -5.098, -5.0452, -5.131, -4.8668, -4.8711, -4.753, -5.098, -5.1595, -5.1423, -5.6092, -5.6484, -5.721, -5.7373, -5.7428, -5.7706, -5.7706, -5.782, -5.8969, -5.8169, -4.5752, -5.6385, -5.8469, -5.2531, -6.1592, -5.6687, -5.8969, -6.2018, -5.9098, -5.3784, -4.7772, -5.7318, -4.6478, -4.9429, -6.0195, -6.2372, -6.0268, -6.1931, -5.7373, -5.9909, -4.9629, -4.8156, -4.4145, -4.5633, -4.4203, -4.7835, -4.5532, -4.3388, -4.5959, -4.1455, -4.6423, -4.9355, -4.7362, -4.8737, -4.9161, -4.9233, -5.0199, -5.3708, -4.7342, -5.1538, -5.1538, -4.7504, -4.5803, -4.7647, -5.2978, -4.7026, -5.0199, -4.9018, -5.0635, -5.112, -5.2614, -5.4025, -5.4177, -5.6603, -5.5787, -4.9607, -5.5787, -5.7209, -5.8155, -4.627, -5.1035, -5.8004, -5.0703, -5.1339, -4.9704, -5.8387, -5.7003, -4.5004, -6.0956, -5.7781, -5.92, -5.0174, -6.1263, -5.7781, -5.8387, -6.0367, -5.7209, -5.8155, -4.0379, -5.5549, -4.7169, -3.8784, -4.5949, -5.0524, -4.4255, -3.8218, -4.9008, -4.3226, -5.4812, -4.6697, -4.2708, -4.7506, -5.111, -4.6968, -5.1378, -4.813, -4.6625, -4.5487, -4.7665, -4.7964, -4.8826, -5.1224, -5.0595, -5.0703, -5.0174, -4.947, -5.0673, -5.2572, -5.4917, -5.6269, -5.6603, -4.9913, -5.7987, -5.3181, -5.3475, -5.0054, -5.469, -5.5033, -4.0428, -3.3376, -5.016, -5.3778, -4.8397, -5.0901, -4.3247, -5.3829, -5.9968, -5.3133, -5.768, -6.0456, -6.016, -6.076, -5.7091, -4.3464, -5.2041, -4.9948, -4.6593, -3.7252, -5.3278, -4.6872, -4.0898, -4.6322, -4.3761, -4.5327, -4.8825, -4.9207, -4.363, -4.4708, -4.7054, -4.475, -5.0786, -4.8982, -5.094, -4.7592, -4.6347, -4.7427, -4.9809, -4.947, -4.9983, -4.5326, -5.3778, -5.5462, -5.5686, -4.7206, -5.5916, -3.9834, -5.1187, -4.4059, -5.2461, -5.2379, -5.0693, -4.6615, -5.3873, -5.1708, -5.2461, -5.9769, -5.6765, -5.3186, -3.9323, -5.9108, -5.059, -5.9684, -5.5801, -5.9188, -4.2684, -4.9802, -5.4161, -5.6829, -5.323, -5.042, -3.7163, -4.7679, -4.7963, -5.1979, -4.5245, -5.2379, -4.39, -4.1824, -4.8727, -4.934, -4.6777, -4.8203, -4.8985, -5.0727, -4.8755, -5.0624, -5.042, -5.059, -5.042, -5.126, -4.5533, -4.7362, -4.809, -4.8382, -4.8494, -5.1136, -5.3067, -5.3552, -5.4394, -5.5166, -5.5538, -5.0161, -5.1948, -4.9111, -4.1675, -4.7947, -4.9032, -5.6408, -4.3567, -4.8953, -5.1136, -3.8546, -4.5422, -4.7065, -5.7544, -5.0339, -5.3067, -5.6744, -4.8875, -5.6659, -4.9353, -4.0719, -5.2833, -4.6968, -4.0702, -4.3119, -4.545, -3.8232, -4.4278, -4.4756, -4.6285, -4.596, -4.2628, -4.8162, -4.8875, -4.7262, -4.6047, -4.8419, -5.1862, -5.2119, -5.3264, -5.4393, -5.5423, -5.6108, -5.2516, -5.0267, -5.6984, -5.3968, -4.1032, -3.945, -4.9673, -4.6069, -4.6381, -5.4232, -5.2162, -4.1118, -5.2075, -4.8283, -5.5728, -4.3739, -4.805, -5.1947, -4.6754, -5.5068, -5.5363, -4.4722, -3.9747, -5.5544, -5.1091, -3.7248, -4.3739, -4.563, -3.9635, -4.7599, -4.6455, -5.1736, -4.626, -4.8461, -4.5905, -4.7935, -5.0559, -4.9913, -4.9572, -4.8705, -5.0053, -5.0974, -4.9844], \"loglift\": [30.0, 29.0, 28.0, 27.0, 26.0, 25.0, 24.0, 23.0, 22.0, 21.0, 20.0, 19.0, 18.0, 17.0, 16.0, 15.0, 14.0, 13.0, 12.0, 11.0, 10.0, 9.0, 8.0, 7.0, 6.0, 5.0, 4.0, 3.0, 2.0, 1.0, 2.273, 2.2729, 2.2729, 2.2728, 2.2728, 2.2728, 2.2728, 2.2726, 2.2726, 2.2725, 2.2584, 2.2093, 2.2038, 2.1648, 2.1549, 2.149, 2.1358, 2.1283, 2.1019, 2.0703, 2.0678, 2.058, 2.0502, 2.0212, 2.0033, 2.001, 1.9856, 1.9798, 1.9487, 1.904, 1.6497, 1.697, 1.7202, 1.6552, 1.4074, 1.413, 1.1383, 0.8675, 1.0596, 1.1626, 0.7607, 1.0524, 0.239, 0.7043, 0.4868, 0.5753, 0.6095, 0.456, 3.3688, 3.3686, 3.3644, 3.3504, 3.3356, 3.3235, 3.3041, 3.2715, 3.1659, 3.164, 3.0459, 3.0041, 2.9835, 2.9193, 2.8944, 2.875, 2.8104, 2.8056, 2.7054, 2.6957, 2.6795, 2.6178, 2.6075, 2.5168, 2.3854, 2.2342, 2.1585, 2.1524, 2.1395, 2.1267, 2.0784, 2.0691, 1.9336, 1.8915, 1.7994, 1.4164, 0.8317, 1.0016, 1.1565, 1.6537, 0.3678, 0.7879, 3.1627, 3.1627, 3.1282, 3.0722, 3.0404, 3.0066, 2.9879, 2.9803, 2.9151, 2.9102, 2.8967, 2.8786, 2.8533, 2.8184, 2.746, 2.695, 2.6753, 2.6335, 2.6306, 2.5619, 2.5334, 2.5307, 2.4745, 2.3287, 2.3201, 2.3191, 2.2047, 2.2011, 2.1626, 2.1555, 2.1371, 2.0611, 1.8774, 1.6962, 1.5709, 1.7149, 0.9607, 0.2127, 1.8446, 1.8446, 1.8443, 1.8443, 1.8442, 1.8442, 1.8442, 1.8417, 1.8071, 1.785, 1.7791, 1.7464, 1.7233, 1.7015, 1.701, 1.6781, 1.6688, 1.6464, 1.6444, 1.6266, 1.6016, 1.5814, 1.5774, 1.5637, 1.5581, 1.535, 1.5315, 1.5261, 1.5194, 1.5139, 1.5112, 1.4802, 1.4832, 1.4786, 1.3284, 1.244, 1.4337, 1.0693, 1.2337, 1.0321, 0.9593, 1.2119, 1.4099, 0.7298, 0.7771, 0.8174, 0.9698, 1.0783, 1.0066, 1.0492, 0.6149, 0.451, 0.1704, 0.7295, 0.8449, 0.3811, 1.961, 1.9609, 1.9609, 1.9609, 1.9609, 1.9609, 1.9609, 1.9609, 1.9608, 1.9549, 1.9116, 1.9035, 1.8963, 1.8759, 1.8492, 1.8371, 1.8288, 1.8082, 1.8009, 1.7994, 1.7781, 1.7768, 1.7674, 1.7549, 1.748, 1.7386, 1.7225, 1.6918, 1.6909, 1.6828, 1.6617, 1.6184, 1.5485, 1.5118, 1.4227, 1.4684, 1.3441, 1.279, 1.3405, 1.1766, 1.2341, 1.3728, 1.0774, 1.1589, 1.1704, 1.1742, 1.1429, 1.5271, 0.7967, 1.2645, 1.2422, 0.6839, 0.3431, 0.5616, 1.3818, 0.1018, 0.6985, 0.1212, 0.5263, 0.7398, 2.2231, 2.223, 2.223, 2.2229, 2.2169, 2.1049, 2.0855, 2.0784, 2.0321, 2.0243, 2.0121, 1.9827, 1.9402, 1.9287, 1.9243, 1.9187, 1.896, 1.8819, 1.8399, 1.8392, 1.8228, 1.8109, 1.7975, 1.7698, 1.7693, 1.7652, 1.758, 1.7379, 1.7184, 1.681, 1.6638, 1.6183, 1.5598, 1.5546, 1.3775, 1.1665, 1.4592, 1.2185, 1.6536, 1.2451, 1.014, 1.282, 1.4408, 1.045, 1.2953, 0.9239, 0.7183, 0.4743, 0.6599, 0.5257, 0.5991, 1.2445, 1.0207, 0.7815, -0.094, 2.3148, 2.3147, 2.3147, 2.3146, 2.3145, 2.3072, 2.2889, 2.2656, 2.2411, 2.2183, 2.2123, 2.2079, 2.1821, 2.1808, 2.1318, 2.1204, 2.1151, 2.1067, 2.1022, 2.0787, 2.0001, 1.9886, 1.9878, 1.962, 1.9369, 1.9313, 1.8842, 1.8833, 1.8764, 1.8751, 1.871, 1.8391, 1.7012, 1.8322, 1.6138, 1.3919, 1.5774, 1.4293, 1.3191, 1.5828, 1.5765, 0.9444, 1.0259, 1.215, 0.8098, 1.66, 1.3105, 1.6525, 0.8306, 0.1698, 0.1807, 0.9545, 0.076, 0.328, 2.1732, 2.1729, 2.1729, 2.1729, 2.1634, 2.1457, 2.1167, 2.0985, 2.0847, 2.075, 2.0644, 2.0443, 2.0441, 2.0314, 2.0253, 2.0134, 1.9783, 1.9668, 1.9601, 1.9505, 1.9487, 1.9484, 1.9459, 1.9441, 1.9423, 1.9325, 1.9298, 1.9268, 1.8912, 1.8616, 1.8578, 1.6645, 1.7134, 1.6987, 1.7476, 1.4647, 1.655, 0.9174, 0.6221, 1.3397, 1.3932, 1.0641, 0.6139, 0.5279, 1.0209, -0.0292, 0.6655, 0.3929, 0.2276, -0.1186, -0.2449, 2.464, 2.464, 2.464, 2.4639, 2.4639, 2.4638, 2.4637, 2.4637, 2.4637, 2.4636, 2.4636, 2.4595, 2.4528, 2.4253, 2.4006, 2.3673, 2.3586, 2.3532, 2.3417, 2.3391, 2.3284, 2.3204, 2.2848, 2.2448, 2.2254, 2.2168, 2.1982, 2.173, 2.1726, 2.1524, 2.138, 2.1085, 2.1331, 1.9438, 1.4765, 1.4624, 1.6178, 0.9812, 1.5086, 1.415, 1.5803, 1.4393, 0.7255, 1.744, 1.8141, 1.0994, 0.2764, 1.2569, 2.1562, 2.1562, 2.1562, 2.1561, 2.1561, 2.156, 2.1399, 2.1257, 2.1181, 2.1148, 2.1093, 2.1075, 2.0933, 2.093, 2.0864, 2.0764, 2.0579, 2.0424, 2.0281, 2.0198, 2.0174, 2.0081, 1.9889, 1.9851, 1.9477, 1.946, 1.9402, 1.94, 1.9122, 1.875, 1.871, 1.8351, 1.8513, 1.8159, 1.4534, 1.648, 1.4875, 1.7986, 1.0567, 1.3196, 0.3978, 0.5901, 1.4094, 1.044, 0.7798, -0.066, 0.7365, 1.2446, -0.0609]}, \"token.table\": {\"Topic\": [0, 3, 5, 1, 5, 6, 1, 5, 0, 1, 6, 2, 9, 2, 5, 1, 6, 7, 4, 6, 7, 2, 4, 5, 6, 0, 4, 6, 7, 8, 9, 8, 9, 1, 5, 1, 6, 7, 8, 9, 2, 8, 9, 0, 1, 3, 4, 5, 6, 7, 8, 9, 0, 1, 3, 4, 6, 7, 8, 9, 4, 5, 9, 2, 4, 5, 8, 9, 6, 7, 4, 7, 0, 2, 3, 4, 5, 6, 7, 8, 9, 2, 4, 6, 0, 1, 5, 9, 8, 9, 9, 3, 4, 9, 3, 1, 6, 0, 4, 5, 6, 1, 3, 4, 5, 1, 2, 3, 4, 5, 7, 8, 6, 8, 1, 6, 8, 3, 4, 5, 0, 0, 3, 4, 6, 8, 0, 2, 6, 2, 4, 2, 5, 6, 9, 0, 1, 2, 3, 4, 5, 6, 7, 8, 2, 9, 5, 9, 2, 5, 9, 2, 5, 2, 2, 3, 4, 5, 6, 7, 1, 5, 1, 6, 7, 0, 4, 8, 0, 1, 2, 3, 4, 5, 6, 7, 9, 0, 2, 8, 0, 2, 3, 5, 2, 4, 6, 2, 3, 4, 2, 3, 4, 5, 9, 6, 8, 0, 2, 4, 6, 7, 8, 9, 8, 1, 7, 8, 9, 5, 6, 7, 0, 1, 3, 4, 5, 7, 9, 0, 1, 3, 5, 8, 9, 1, 6, 8, 0, 2, 4, 7, 8, 9, 4, 2, 4, 5, 6, 7, 8, 9, 2, 5, 6, 9, 0, 2, 4, 5, 7, 8, 9, 0, 5, 6, 9, 3, 5, 7, 8, 9, 1, 2, 1, 6, 2, 3, 4, 5, 8, 9, 0, 3, 4, 6, 7, 8, 9, 0, 3, 4, 5, 6, 3, 5, 6, 6, 7, 7, 2, 4, 7, 4, 7, 1, 3, 5, 6, 8, 9, 5, 5, 4, 8, 9, 1, 6, 6, 1, 3, 5, 7, 9, 5, 9, 4, 5, 6, 9, 8, 0, 2, 3, 4, 5, 8, 9, 3, 0, 2, 3, 4, 5, 7, 3, 4, 5, 6, 7, 4, 9, 4, 4, 1, 3, 5, 7, 9, 0, 4, 8, 9, 0, 4, 1, 3, 9, 3, 8, 5, 8, 0, 3, 5, 7, 9, 6, 7, 1, 7, 0, 1, 6, 7, 0, 1, 2, 3, 4, 5, 6, 9, 0, 1, 2, 3, 7, 5, 6, 5, 6, 8, 9, 0, 0, 2, 4, 0, 1, 3, 9, 1, 3, 5, 8, 9, 0, 2, 3, 5, 6, 7, 4, 7, 0, 3, 4, 5, 6, 7, 1, 3, 5, 6, 7, 1, 6, 3, 4, 6, 0, 1, 6, 7, 4, 5, 6, 3, 4, 6, 1, 2, 4, 5, 5, 1, 6, 0, 2, 8, 3, 5, 7, 2, 4, 6, 8, 0, 1, 5, 6, 7, 8, 0, 6, 8, 9, 3, 9, 2, 4, 6, 8, 9, 3, 5, 9, 8, 9, 0, 0, 4, 8, 0, 5, 6, 7, 8, 0, 3, 4, 5, 7, 2, 4, 6, 8, 4, 7, 8, 9, 2, 4, 8, 1, 3, 4, 6, 0, 1, 3, 5, 7, 8, 9, 0, 5, 7, 8, 9, 9, 0, 5, 7, 0, 8, 9, 1, 6, 7, 1, 2, 5, 8, 1, 2, 2, 9, 3, 8, 8, 9, 1, 2, 4, 5, 6, 7, 9, 0, 2, 3, 4, 5, 6, 7, 5, 6, 8, 9, 4, 5, 8, 9, 0, 8, 9, 0, 6, 0, 5, 6, 9, 0, 2, 3, 4, 5, 7, 1, 7, 9, 2, 4, 5, 6, 2, 5, 0, 4, 5, 6, 7, 8, 0, 3, 6, 2, 4, 5, 9, 0, 7, 0, 4, 8, 0, 4, 6, 3, 4, 8, 0, 4, 9, 0, 4, 5, 9, 0, 3, 4, 5, 6, 7, 9, 4, 7, 0, 1, 2, 3, 5, 7, 8, 9, 8, 2, 5, 6, 0, 2, 7, 2, 4, 0, 4, 5, 6, 8, 2, 5, 0, 1, 2, 7, 4, 0, 7, 8, 9, 2, 8, 9, 3, 5, 6, 8, 9, 0, 6, 7, 2, 9, 4, 8, 9, 3, 4, 1, 3, 5, 6, 7, 1, 5, 6, 7, 0, 1, 3, 4, 6, 7, 8, 9, 3, 6, 0, 2, 9, 8, 8, 9, 2, 4, 6, 8, 3, 5, 3, 9, 0, 4, 6, 7, 8, 9, 1, 3, 4, 6, 8, 8, 2, 8, 9, 0, 4, 7, 0, 2, 9, 3, 4, 5, 6, 7, 9, 3, 4, 5, 6, 3, 3, 5, 3, 4, 5, 9, 0, 2, 4, 0, 1, 2, 3, 4, 5, 7, 8, 3, 7, 0, 2, 3, 4, 5, 7, 1, 2, 7, 1, 6, 7, 3, 4, 5, 3, 4, 6, 7, 8, 4, 5, 9, 2, 4, 8, 9, 0, 2, 7, 0, 4, 8, 9, 1, 3, 1, 4, 5, 3, 5, 8, 9, 6, 8, 3, 4, 5, 6, 7, 3, 4, 5, 6, 3, 4, 5, 6, 8, 3, 4, 0, 1, 6, 7, 9, 0, 3, 7, 0, 3, 4, 5, 6, 0, 2, 4, 5, 6, 7, 5, 6, 8, 9, 0, 7, 0, 7, 0, 1, 4, 6, 7, 8, 0, 7, 3, 5, 7, 3, 5, 7, 4, 3, 4, 7, 2, 3, 5, 4, 6, 0, 1, 3, 5, 6, 9, 0, 1, 3, 4, 5, 6, 7, 8, 9, 0, 7, 1, 3, 6, 8, 0, 1, 4, 6, 7, 0, 4, 5, 6, 7, 0, 1, 6, 7, 8, 0, 3, 4, 8, 9, 0, 1, 3, 4, 5, 6, 7, 1, 4, 5, 6, 0, 3, 4, 5, 6, 7, 8, 9, 1, 4, 5, 6, 8, 9, 0, 2, 3, 4, 5, 2, 8, 9, 2, 8, 9, 0, 4, 5, 6, 7, 9, 0, 1, 2, 4, 6, 7, 8, 9, 1, 4, 6, 8, 5, 6, 0, 5, 7, 4, 7, 1, 8, 9, 0, 1, 6, 7, 1, 6, 8, 8, 8, 0, 3, 4, 5, 6, 7, 9, 0, 2, 3, 4, 5, 7, 8, 9, 1, 8, 0, 6, 7, 0, 0, 4, 8, 9, 8, 2, 4, 5, 7, 9, 2, 5, 0, 2, 4, 5, 7, 3, 4, 5, 7, 0, 3, 4, 5, 7, 8, 9, 2, 8, 9, 2, 4, 8, 3, 4, 5, 7, 8, 3, 5, 3, 5, 7, 9, 3, 6, 8, 0, 3, 5, 7, 3, 9, 9, 5, 6, 7, 6, 0, 2, 5, 7, 9, 3, 5, 7, 3, 5, 6, 7, 1, 5, 5, 0, 1, 2, 4, 5, 6, 7, 0, 1, 3, 4, 5, 6, 7, 9, 3, 5, 8, 1, 3, 5, 6, 2, 3, 4, 8, 7, 0, 2, 4, 8, 1, 5, 6, 0, 2, 4, 5, 7, 6, 8, 3, 6, 9, 0, 3, 8, 0, 2, 4, 7, 0, 8, 0, 8, 3, 8, 4, 5, 9, 0, 4, 7, 0, 2, 3, 4, 5, 7, 5, 6, 7, 3, 4, 5, 1, 5, 6, 8, 3, 4, 5, 6, 7, 8, 2, 4, 5, 6, 7, 0, 8, 9, 4, 7, 2, 5, 9, 4, 3, 5, 9, 0, 4, 5, 6, 7, 0, 3, 4, 5, 6, 7, 9, 8, 9, 3, 4, 5, 6, 0, 7, 0, 1, 2, 3, 4, 5, 7, 9, 2, 5, 2, 3, 5, 2, 4, 5, 4, 6, 0, 2, 0, 5, 7, 0, 7, 1, 6, 7, 2, 8, 9, 6, 6, 1, 2, 3, 3, 2, 6, 8, 9, 0, 1, 7, 4, 7, 4, 7, 2, 5, 2, 3, 5, 0, 8, 5, 6, 0, 2, 3, 4, 5, 6, 7, 8, 1, 4, 5, 6, 7, 8, 9, 0, 5, 8, 9, 1, 4, 6, 1, 2, 5, 7, 0, 5, 1, 4, 6, 7, 8, 3, 4, 5, 6, 8, 0, 8, 9, 0, 1, 4, 1, 4, 8, 4, 5, 6, 7, 2, 9, 0, 4, 7, 0, 3, 6, 1, 6, 8, 0, 0, 2, 3, 6, 7, 8, 9, 3, 8, 0, 3, 4, 5, 6, 7, 9, 7, 9, 5, 9, 0, 1, 4, 7, 8, 9, 4, 8, 9, 9, 0, 4, 4, 7, 1, 2, 3, 4, 5, 7, 9, 7, 8, 8, 2, 3, 9, 0, 2, 3, 4, 5, 6, 7, 8, 3, 3, 8, 9, 0, 3, 8, 9, 5, 6, 3, 4, 5, 0, 1, 5, 6, 7, 1, 4, 5, 6, 7, 7, 0, 6, 7, 0, 1, 3, 4, 5, 6, 7, 8, 9, 3, 9, 1, 3, 6, 8, 1, 3, 6, 7], \"Freq\": [0.08204669114964065, 0.8204669114964065, 0.09782490098611, 0.5693362702174344, 0.18454348069116838, 0.2454035647488941, 0.8158257848560003, 0.18471527204286797, 0.00729806916934318, 0.9378018882605986, 0.05473551877007385, 0.8327323549946883, 0.16725820805448868, 0.13305715198479914, 0.8648714879011944, 0.2983796342061757, 0.4332635784363647, 0.26568049621097833, 0.1774785948603415, 0.023440569132497934, 0.7986536768715368, 0.23049101185831744, 0.06804516358395235, 0.6033018376915211, 0.09775502374032591, 0.0483907118393253, 0.333291027793353, 0.12581585078224578, 0.49237549296513494, 0.8824263044245454, 0.11765684058993939, 0.8025760812575363, 0.19629079699395363, 0.5712045234502872, 0.4273760463225171, 0.29408732289416234, 0.055141373042655435, 0.011028274608531088, 0.1139588376214879, 0.5220049981371381, 0.9125120516699697, 0.012166827355599596, 0.07452181755304753, 0.14328096400404391, 0.03235376606542927, 0.20028521850027645, 0.051355184230840116, 0.030813110538504072, 0.06111266923469974, 0.14122675663481032, 0.2552352656272754, 0.08422250213857779, 0.06293633505565371, 0.025857564015113542, 0.20198172645767937, 0.018539385520270086, 0.12489691297866164, 0.08342723484121539, 0.36737256044114147, 0.1151393416522037, 0.08335685146612512, 0.6352366956556431, 0.2788142962832461, 0.12257845866742685, 0.1494204569157685, 0.571734562689677, 0.08589439439469326, 0.070683928720633, 0.8993727449735324, 0.10138383670610729, 0.7625114852586857, 0.23716912417745076, 0.13084464412242713, 0.025210512641423065, 0.18751620972959304, 0.19814212828093664, 0.09855018578010834, 0.1183435634737876, 0.10105040190983625, 0.03166940430988682, 0.10896775298730796, 0.027637642069166007, 0.8318930262818968, 0.14095197455274663, 0.08405526422082023, 0.04849342166585782, 0.16811052844164046, 0.6983052719883527, 0.04768379344838444, 0.9523871177934082, 0.998988028017209, 0.7303124405416362, 0.07673572744821541, 0.1905162888369486, 1.0004435456264489, 0.008746566183630549, 0.9927352618420673, 0.021965175870704044, 0.10067372274072686, 0.08786070348281617, 0.7898311156840662, 0.015999777172326132, 0.7183899950374434, 0.06559908640653715, 0.1999972146540767, 0.02625347803142925, 0.04958990294825525, 0.46454070850056756, 0.11303580819087594, 0.022607161638175187, 0.17210613376159176, 0.151686761959369, 0.953914500192457, 0.048177500009720056, 0.814780188659855, 0.07386109358956193, 0.11079164038434289, 0.21514995826841224, 0.7096174062186228, 0.07549121342751307, 1.0008130748853272, 0.04137937420189395, 0.23062104555188895, 0.5395870395926972, 0.05958629885072729, 0.12910364750990913, 0.004953956817967569, 0.7653863283759895, 0.23035899203549198, 0.8542720674096924, 0.14500559077802896, 0.7339808133060736, 0.12805622700233624, 0.03279488740303733, 0.10541213808119142, 0.2201814289213792, 0.09376691886824252, 0.036443822718021386, 0.23119050036744818, 0.06377668975653743, 0.029610605958392378, 0.11350732284050412, 0.14273830564558376, 0.0683321675962901, 0.6134106491068617, 0.3869205632827897, 0.10771388180409497, 0.8923845439531312, 0.8846719560797344, 0.004928534574260359, 0.11089202792085806, 0.8392926074000845, 0.16112494182179274, 1.0002404483172675, 0.9988864031996256, 0.5484461164383747, 0.1588031138659163, 0.1739929769313518, 0.1065591908984337, 0.012428069780810841, 0.9072185202986572, 0.09272470567238933, 0.7233852454067909, 0.23277247995763076, 0.042973380915254905, 0.7454048226422917, 0.06830402757279963, 0.18709364074288595, 0.03828825215952789, 0.03333718506993377, 0.026075620005195723, 0.46044923933225357, 0.07624643317974951, 0.06865479697570519, 0.028056046841033373, 0.060072947353742044, 0.20893503118087206, 0.9321216251372028, 0.06178327774684629, 0.0053724589345083736, 0.12267056301406955, 0.07180715883750413, 0.06432724645859744, 0.7420073079875427, 0.5021840219709741, 0.40096863769775454, 0.09732248487809576, 0.5478083686308823, 0.1690766569848402, 0.28066725059483477, 0.5878927859806413, 0.1483215744446572, 0.0916897005657881, 0.008090267696981302, 0.1591085980406323, 0.0993307543596065, 0.900454881912085, 0.1748373607546318, 0.11073032847793347, 0.06604966961841646, 0.04623476873289152, 0.10179419670603007, 0.3722093146731939, 0.12821406455339665, 0.9975041315202477, 0.12134275743761795, 0.8791158957215178, 0.15715898503819326, 0.8414968439386804, 0.7106687060465219, 0.046601226626001434, 0.2419679074811613, 0.018323697613350544, 0.022759961246056466, 0.7163601361682518, 0.026424700768726574, 0.07618800586603648, 0.11052082876263013, 0.029510797208869826, 0.22540132447110106, 0.13429599871182368, 0.03711698456859449, 0.0013497085297670723, 0.2989604393434065, 0.3030095649327077, 0.0439578929709733, 0.0827442691218321, 0.8739863425993515, 0.06218487583328861, 0.021425041253485995, 0.5837017336620453, 0.06897818159658906, 0.18916743740882755, 0.07420380141451247, 0.9992104363111772, 0.055317201872577236, 0.160270379479467, 0.2984138782099031, 0.2218668312943368, 0.0983749157625833, 0.03797451155576924, 0.12767808215994852, 0.3679026863468629, 0.14946046632841306, 0.21460990036900338, 0.2682623754612542, 0.04630648555030163, 0.0550671720057641, 0.5051995855983358, 0.09428167328259611, 0.0679996139162087, 0.04588931000480342, 0.1848087666557083, 0.06630727862457746, 0.19697162179653893, 0.6162676483931318, 0.11896305870880074, 0.6965499462810294, 0.06434405662126812, 0.08477074126294054, 0.06740805931751898, 0.08681340972710777, 0.9820001140192713, 0.018073621730416035, 0.9994658791292848, 0.999780085152192, 0.07273036408943719, 0.3578178340228995, 0.16996347116087726, 0.15285044431630382, 0.0902323233622964, 0.15635083617087567, 0.11189655110932462, 0.06538533408195475, 0.45500103613731396, 0.15301516326395595, 0.05594827555466231, 0.1341410462093711, 0.02426672192732341, 0.003869164077087057, 0.03611219805281253, 0.029663591257667436, 0.4152902776073441, 0.5158885436116076, 0.8038099654258597, 0.05636472318534992, 0.13968648789412805, 0.027791532811019454, 0.9727036483856809, 0.9993321957590658, 0.14131911897727759, 0.05888296624053233, 0.7968828097885375, 0.2177758931945521, 0.7821198744836603, 0.03890953817358067, 0.13042915613115774, 0.22249679575315146, 0.11946872284282517, 0.35018584356222604, 0.13810145943299057, 0.9998609279111268, 1.0002511866666648, 0.9981581330060664, 0.017207860681993817, 0.9833063246853609, 0.02639453985316226, 0.97439842957924, 1.0011933656787093, 0.23765560483996803, 0.31159290412351365, 0.14048086863873666, 0.18695574247410818, 0.12146842025153921, 0.04157778031723394, 0.9590607993175295, 0.5597251197644629, 0.1387249758036923, 0.06152151100859398, 0.23884821920983546, 0.9993804459258236, 0.1829135142266107, 0.02525298517307685, 0.13138377421127823, 0.05733110147401231, 0.06449748915826385, 0.043339582661902167, 0.4951632633261421, 0.998629300555333, 0.20844144234615955, 0.27651956480050155, 0.07113781335116638, 0.31208847147608476, 0.076492272420609, 0.05545689750494153, 0.07285882068743019, 0.04714394279774895, 0.1671467062829281, 0.681444264076553, 0.030000690871294786, 0.9510507576354181, 0.04874632544365637, 1.0009824608816533, 0.9981581330060664, 0.31971262135774403, 0.33408172793562013, 0.26942074833517754, 0.02873821315575227, 0.04669959637809744, 0.10551614647386676, 0.1341306946701696, 0.720728932694378, 0.03934500376991642, 0.7509068908429876, 0.2496146532747294, 0.11893213084186156, 0.1287073744726995, 0.7510645523027148, 0.9962642869336225, 0.0035203685050658037, 0.09185277818867504, 0.9068018953094729, 0.12802153277588804, 0.5425070893869315, 0.03802619785422417, 0.1952011489850174, 0.09569926459979748, 0.08487510521545026, 0.9146540750276758, 0.13749217018626503, 0.8613480073433663, 0.0055547354774535835, 0.4258630532714414, 0.42771463176392593, 0.1388683869363396, 0.9988852059557349, 0.025605775567059022, 0.0707924383324573, 0.10744384257550256, 0.11397080497494898, 0.4292732962712836, 0.14861391309508765, 0.10392932436041602, 0.27378269216713425, 0.2727215189416803, 0.06473156675269454, 0.005305866127270044, 0.3830835343888972, 0.6809279060446518, 0.3173555399212631, 0.014949047039244443, 0.04057598482080634, 0.781621602337638, 0.16657509558015238, 0.9995008568745101, 0.9992625766368037, 0.0071914326802446586, 0.992417709873763, 0.9999768796780313, 0.05663305634878292, 0.0036934601966597557, 0.9381388899515779, 0.0016380133544538955, 0.13759312177412722, 0.0027300222574231595, 0.07480260985339457, 0.7829703834289621, 0.9852074314857188, 0.014319875457641261, 0.12772216469144415, 0.03238026710487316, 0.6440075346413663, 0.1960805063572875, 0.10343011027449779, 0.8971437825983613, 0.06955464377174901, 0.45100695329891993, 0.14862729142805314, 0.12519835878914823, 0.024893240928836487, 0.18084207380654743, 0.228195143887227, 0.048252717650162535, 0.11158440956600087, 0.4775008517464001, 0.13370023848899204, 0.1874417067492917, 0.8111973023183632, 0.05625306731115643, 0.78754294235619, 0.15821175181262745, 0.12942339656681268, 0.033171542817544426, 0.03697811330480362, 0.8004673938922195, 0.9993723642017671, 0.2965686515159815, 0.7034884291774445, 0.13295372261995372, 0.05841905993907058, 0.8077945874333552, 0.003970724267375748, 0.04566332907482111, 0.8497349932184102, 0.09926810668439372, 1.0008910893428782, 0.9549866650671633, 0.04498866516376358, 0.6060658771835957, 0.36434018050343325, 0.028026167731033325, 0.1609742116547446, 0.6277994254535039, 0.20926647515116797, 0.056441826576254676, 0.16498380076135982, 0.651251845110631, 0.1302503690221262, 0.1784290425691641, 0.1292854503361316, 0.03477854219568453, 0.1421383898432324, 0.43473177744605657, 0.0808979133682227, 0.08270638268602365, 0.015315996793708084, 0.1654127653720473, 0.7366994457773588, 0.12895598075834294, 0.8697031260446385, 0.38168132802916466, 0.16907813215327033, 0.04352506372262404, 0.16238196850363584, 0.24106189138684087, 0.7320724398062975, 0.1536044851379285, 0.11111813818488445, 0.09400217735397075, 0.9050442191754393, 0.9980893730035177, 0.7613387413933156, 0.17764570632510698, 0.061137808020978374, 0.019959799462945075, 0.5459374779031458, 0.27537130740544596, 0.025873814118632505, 0.1326957038369867, 0.04326049199079833, 0.04640670959012912, 0.6111527686700055, 0.18012095756168758, 0.11876971437473723, 0.016031071677462726, 0.28979244955413386, 0.1714091510128707, 0.521626409197441, 0.11109284859530072, 0.45793998657604873, 0.05173025774284995, 0.379072544443507, 0.2536148307311602, 0.6482935318098297, 0.09904484513761287, 0.6945147800707263, 0.14923458084164368, 0.07318234252811373, 0.08466192566977862, 0.07313835461591693, 0.049796326547007275, 0.10515027882470733, 0.3474627606829124, 0.07625062502510489, 0.17562097308989172, 0.17228639765147608, 0.06800990311532196, 0.30793372799437446, 0.329659113711769, 0.05289659131191708, 0.24181298885447808, 0.9983132328975317, 0.1709264749151966, 0.7855344379081376, 0.04000406859717367, 0.5392947114267336, 0.1477378232452546, 0.3130388842189661, 0.5014492038769616, 0.49168071289234544, 0.006512327323077423, 0.6794460364698229, 0.2246331794043088, 0.09151722123879248, 0.005546498256896514, 0.4667296980653505, 0.532340262649617, 0.24512778013183004, 0.755810655406476, 0.9411736455247914, 0.05742754447269914, 0.8850434852324531, 0.11554734390534804, 0.044404342609466387, 0.3587870882844884, 0.15452711228094304, 0.10479424855834069, 0.07104694817514623, 0.1278845067152632, 0.1403177226459138, 0.25906156831579, 0.01604806175407549, 0.1662120681672104, 0.2017470620512347, 0.012036046315556615, 0.2567689880652078, 0.08883748471006073, 0.1311069936590242, 0.06141949252494827, 0.08228637139560378, 0.7252224694291969, 0.9365537978650804, 0.06290286702078898, 0.03760436902988719, 0.962671847165112, 0.8061716018224024, 0.1196189783252692, 0.07438491089134387, 0.8654063710502496, 0.13481204775154643, 0.9993059774652955, 0.634909352396006, 0.024419590476769462, 0.34187426667477244, 0.17353361914972462, 0.05023341606965713, 0.07966309417107242, 0.41303030990606976, 0.18571141698479302, 0.09742238268054716, 0.07228050506227089, 0.9272556220845609, 0.9990206465200626, 0.23472547213480421, 0.3106141586144778, 0.3759137260504759, 0.07941839282756534, 0.34745913215868457, 0.6530557182741541, 0.4206206989279526, 0.10501402684644187, 0.031052534820184424, 0.3325444183470659, 0.0570237457607023, 0.053071604965406104, 0.1197138803812672, 0.0598569401906336, 0.8189517726082142, 0.6599540249688299, 0.2351836161707103, 0.06719531890591722, 0.03839732508909556, 0.7777157775236305, 0.22300093979172203, 0.8144251744270093, 0.11823944960392126, 0.06727416960223107, 0.8890269040249931, 0.00716957180665317, 0.10395879119647096, 0.22146074167726904, 0.7650461985214748, 0.012079676818760128, 0.06279798495229867, 0.7410162224371244, 0.19524464412441953, 0.013967126229464078, 0.3240373285235666, 0.15014660696673884, 0.5118951763098585, 0.033839417940380506, 0.17671696035532042, 0.07472871461834028, 0.2725953111863985, 0.06955880354411549, 0.12031793045468625, 0.2523856588053379, 0.010359347402826468, 0.9900576303558439, 0.12413756657340252, 0.08106943123160981, 0.0196340028764055, 0.039268005752811, 0.02660090712287197, 0.021534067670896356, 0.3591122461587716, 0.3287112094469179, 1.0004468423831074, 0.0037313255995641633, 0.8096976551054235, 0.18656627997820815, 0.12340959382806506, 0.7780170045682363, 0.09926423851387842, 0.17596594244811817, 0.8233353833493529, 0.047447059097264314, 0.29469895594856393, 0.23670810594079641, 0.3695598714131365, 0.05219176500699074, 0.5881572327175834, 0.4127419176965497, 0.25008835462670137, 0.473244117216681, 0.06925523666585576, 0.2077657099975673, 0.999079194013877, 0.2086850852806301, 0.18110555859156002, 0.009193175563023352, 0.6012336818217272, 0.11359690986627329, 0.04057032495224046, 0.8452151031716761, 0.2923708107226444, 0.19697709663879281, 0.39723107658580953, 0.04332767929762726, 0.07027094205413496, 0.561579546300095, 0.040861198331536765, 0.397087029939806, 0.7791660440895396, 0.21802352609844913, 0.9988562624729608, 0.06180136367881557, 0.9393807279179968, 0.08130407963399015, 0.9189251791190516, 0.06409109842665063, 0.07163122765331541, 0.1606047525279598, 0.478044192970547, 0.2262038767999434, 0.003809889366469231, 0.11429668099407694, 0.822936103157354, 0.059053285180273085, 0.059421251386419516, 0.029884372042292856, 0.34367027848636783, 0.12266492245266719, 0.03579174791111819, 0.16853395861060505, 0.12926728371782492, 0.11015518531868414, 0.315182461925371, 0.6836351991057343, 0.8167574071165752, 0.14160499937624832, 0.040458571250356665, 1.000316367176703, 0.1948091998048434, 0.8050882570133813, 0.07356354428753356, 0.03423254041103047, 0.02622066925100206, 0.866010437206707, 0.9635013651012283, 0.03718209965994673, 0.9981149356659011, 1.0008179785064557, 0.10482756628237642, 0.4830713621466213, 0.04106646926526087, 0.09131885928722483, 0.2161393119224256, 0.0632207487373095, 0.012188215994340697, 0.05119050717623092, 0.20719967190379185, 0.7288553164615736, 1.0000531733246583, 0.9988663150953294, 0.08108309857044892, 0.8359947059504905, 0.0824810830285601, 0.05051935314024384, 0.08335693268140233, 0.8664069063551818, 0.09764166127644398, 0.04031077759119247, 0.8617548453939368, 0.11480325622847043, 0.1393413567963878, 0.4653475500558611, 0.10691600961735415, 0.16563217883344208, 0.00788724661111629, 0.16487317521874817, 0.10491929332102155, 0.5153178896447453, 0.21483474346685366, 1.00012185378834, 0.9061153908781421, 0.09400620769917324, 0.15607673582858608, 0.046244958764025505, 0.6156360135460895, 0.18208952513335044, 0.08928118256262693, 0.034338916370241127, 0.8756423674411488, 0.06042441727865082, 0.02215561966883863, 0.06780962383493036, 0.37933106402708566, 0.07586621280541714, 0.040282944852433875, 0.3155497346773987, 0.038940180024019416, 0.866653809562194, 0.13346824582579989, 0.10271437983946635, 0.33267194664424177, 0.17936690210772482, 0.20236265878820237, 0.0705203204867978, 0.11191268251165737, 0.12070106320129917, 0.08421004409392965, 0.7943814159527364, 0.5092966258301491, 0.10259212606650486, 0.3883844772517684, 0.7653375598247352, 0.1626342314627562, 0.07334484948320379, 0.12654906757608822, 0.6380182156961115, 0.09359358122814858, 0.10084378822469531, 0.04152391279840395, 0.4484938920709443, 0.39037919056316, 0.1617104737607912, 0.24123688693797604, 0.7563102401298708, 0.5940344128195523, 0.40607821188836585, 0.3126198909326589, 0.05540099332983829, 0.6311756025792291, 0.14145404794941277, 0.8578503553061162, 0.7654874505661242, 0.23405191833856315, 0.9963689353666396, 0.004884161447875684, 0.9983382418310819, 0.8819172373381496, 0.11575163740063214, 0.7676498145828766, 0.08939719359699322, 0.04469859679849661, 0.09717086260542741, 0.2125242836468389, 0.7881108851903609, 0.2030543966237805, 0.15593680182710215, 0.5126843052876667, 0.09199149460303868, 0.03702096734024727, 0.08794972339721661, 0.8524357806191764, 0.054122906705979454, 0.006765363338247432, 0.08955831020680542, 0.6616709365937006, 0.02415717577946725, 0.10723429248446438, 0.11725068244180446, 0.19334223420679952, 0.8091730542729016, 0.07180022926135661, 0.3726773804518033, 0.006838117072510153, 0.5231159560470267, 0.023933409753785533, 0.16291981976080602, 0.8183018219804121, 0.01851361588190978, 0.04366248810830506, 0.44357996768437347, 0.13948812572653208, 0.3659148339696008, 0.007341480301396425, 0.32932509885042227, 0.023999399916225104, 0.45332199841758525, 0.030665899892954297, 0.1026640996416296, 0.05999849979056276, 0.07123335350388521, 0.7212377042268378, 0.11575419944381347, 0.08904169187985651, 0.20318668868993728, 0.7961600862952645, 0.14649022046618432, 0.8530901074207204, 0.16761486443363252, 0.14192207499490053, 0.11745275171991768, 0.25386922897794706, 0.2847617496126129, 0.03425705258497599, 0.3781371132948182, 0.621870053694396, 0.9355529709076219, 0.004321260835601025, 0.060497651698414354, 0.6935611849141993, 0.22025946049712383, 0.08707932159188617, 0.9995880770291349, 0.18304273867078555, 0.813250288591007, 0.0036854242685393063, 0.06943687486905402, 0.3492885220685748, 0.5807447716320882, 0.8929634905135294, 0.10478653205005702, 0.04680990894481162, 0.20830409480441173, 0.2590148294946243, 0.09752064363502422, 0.18177847973568514, 0.20674376450625134, 0.24533650462166715, 0.027259611624629684, 0.3280140080106539, 0.098853536660745, 0.04583209426998178, 0.03744452146240341, 0.14288829390053143, 0.05092454918886864, 0.023664937564238955, 0.24492360339994126, 0.7554270177154815, 0.04941823531004451, 0.03882861345789211, 0.1641391387083621, 0.7465683405767438, 0.6906561855760274, 0.06154362049687372, 0.10029330747638682, 0.0888963407177065, 0.05926422714513766, 0.06609348954134485, 0.23463188787177422, 0.09005237950008237, 0.49570117156008636, 0.11318510083955306, 0.07635298077984758, 0.04940486991637196, 0.7208619655979727, 0.15046028565440553, 0.004491351810579269, 0.09092154995752942, 0.06710876306389077, 0.29513423756055185, 0.11401273724833055, 0.4329597617025211, 0.08447461051737518, 0.2886475621368613, 0.07574660647867959, 0.24656611409315043, 0.11595776794266999, 0.13715434917950214, 0.051121166512359886, 0.010900679521968376, 0.4868970186479208, 0.202570961116579, 0.29976868685413033, 0.11062417244367347, 0.32775626905404653, 0.21301584833339915, 0.006688903450082582, 0.037560765527386804, 0.14509775176332987, 0.1456122827979516, 0.013892337934786902, 0.16505992424878316, 0.0754847214552362, 0.03321327744030393, 0.6209876418384098, 0.07749764736070917, 0.027174499723885033, 0.09963578811514802, 0.012726066394769685, 0.24800309876636534, 0.45627603903198627, 0.18313119933936864, 0.11857378812918348, 0.06954808726807878, 0.8117743956536407, 0.03136304561361457, 0.1594288152025407, 0.810212011685043, 0.09023691856691159, 0.049895707913468756, 0.4575542576745752, 0.12102363196032848, 0.07218953485352926, 0.2080757181072314, 0.04864870939272862, 0.07898478673268107, 0.05234823101955209, 0.15574986048926806, 0.1170898594889628, 0.2119825892169848, 0.22696565180561984, 0.10839598366592765, 0.12878981931677014, 0.4410511689451402, 0.0014389923946007835, 0.42881973359103354, 0.06977416875185981, 0.92741499299347, 0.054560879292295424, 0.1591981820446428, 0.7862745892533533, 0.27064657926447677, 0.7292421719070624, 0.0015123001759098007, 0.04461285518933912, 0.9535052609111294, 0.015543091498572604, 0.029058823236461823, 0.010136798803416915, 0.9447496484784564, 0.049747906724060556, 0.9071677108505161, 0.04389521181534755, 1.000712666723396, 0.9982959854174239, 0.09260146866364409, 0.12531394400677923, 0.1801702488129597, 0.02717651797737381, 0.4121771893235028, 0.07448379001206155, 0.08807204900074846, 0.08694842098867883, 0.01630282893537728, 0.5964917410473335, 0.10037428011193071, 0.017261818872752417, 0.0421955572445059, 0.09462034048767991, 0.04539219036908969, 0.9674996389671023, 0.03308822294689133, 0.10101899351016254, 0.09223473320493102, 0.8081519480813003, 0.9991270670163567, 1.0010112416002097, 0.39681553016045984, 0.20142046433307506, 0.40198015745105153, 1.000987988655649, 0.43002830945104314, 0.061877779517282606, 0.1455685892241109, 0.029825980055093057, 0.3329825833016359, 0.43360617311511196, 0.5648290939262642, 0.29709516429627664, 0.0793483979176391, 0.2827939995553068, 0.18314717426338792, 0.15777414004553822, 0.41660807257767407, 0.14036660127280123, 0.3761824914111073, 0.06681450220585339, 0.017175426340128287, 0.6944064812165821, 0.03295285286187404, 0.012581998365442815, 0.08907255985694437, 0.11223941399014067, 0.04134085177216925, 0.04549977698566695, 0.14988161830572644, 0.8056136983932796, 0.6257215004353647, 0.26961070036712304, 0.10335076847406383, 0.5307391798210962, 0.1556937189359574, 0.07362855673818675, 0.11887944056686402, 0.12118033296493236, 0.8371211449040783, 0.1597559436839844, 0.8664146043290714, 0.00526162715179598, 0.07366278012514373, 0.05437014723522513, 0.7216887668557682, 0.19682420914248225, 0.08201008714270093, 0.0420476657416198, 0.7841889660812092, 0.0420476657416198, 0.13245014708610237, 0.06813897616798321, 0.9324945071877704, 0.99945400998792, 0.0909909641698811, 0.873972034001463, 0.035172977746340595, 0.9984518314009339, 0.5362071300859267, 0.203560114199287, 0.1208121002971378, 0.06399179741766203, 0.07557651936396292, 0.755503814679685, 0.16089433090400698, 0.08394486829774277, 0.1889219318908532, 0.06394280771690417, 0.6408813227989713, 0.10608693098486371, 0.1291639577231128, 0.8718567146310113, 1.0008307624066781, 0.42334043739531974, 0.06891588515737763, 0.016174136312445773, 0.11954796404851223, 0.08016745824429643, 0.18213483934449803, 0.10970283759745827, 0.29517657772899997, 0.06486743341221976, 0.11069121664837499, 0.14580294666049395, 0.12021304173640725, 0.08331596952028225, 0.12675929648442943, 0.052370037984177414, 0.7261209773721758, 0.2706841513280892, 1.0004438838527319, 0.29792181727216743, 0.21847599933292278, 0.23436516292077172, 0.2502543265086206, 0.5313266127515354, 0.09549988137690996, 0.29865417448779114, 0.07466354362194778, 1.0012107125865861, 0.0675361906702656, 0.43103980516022455, 0.3476127460969553, 0.15294960828266033, 0.07552869819483862, 0.09171341923658975, 0.8326139824811972, 0.22552211729802477, 0.020804623366976454, 0.5550673514309318, 0.14063925396076082, 0.05825294542753407, 0.26744882091425787, 0.7307756515121975, 0.045759273868803824, 0.4809591764082785, 0.47414396540654175, 0.7234136047098729, 0.17388473801283183, 0.1022070597480004, 0.15903503031562277, 0.38321694051957295, 0.3391469923598221, 0.11879725156106762, 0.0615057147812205, 0.9387714361344182, 0.037225133223469695, 0.9608737513308114, 0.009527934716359092, 0.9877292322625593, 0.24987869889367023, 0.681872381726795, 0.06776371495421565, 0.17191710431309737, 0.09395469654320437, 0.7316472113789958, 0.08638938317814068, 0.046445904934484236, 0.06130859451351919, 0.49790010089767106, 0.06223751261220888, 0.24616329615276647, 0.744877149620101, 0.12915922071797475, 0.12738991632457786, 0.29277463225676675, 0.07412016006500424, 0.6337273685557863, 0.007756126803504647, 0.1279760922578267, 0.12021996545432204, 0.7484662365381984, 0.43272474203532535, 0.08306769601570978, 0.16355964951930452, 0.2144305641335764, 0.06310569154681828, 0.04378762270595554, 0.21627636060782798, 0.06014786360099358, 0.19580049214791526, 0.519575162170285, 0.00895819245121181, 0.842724485659959, 0.12484807194962357, 0.03121201798740589, 0.9430250541535155, 0.05715303358506154, 0.10559838633141154, 0.7210861238059245, 0.17499161163491053, 0.999188517119642, 0.0694147618205321, 0.05048346314220517, 0.87925364972674, 0.32128023376582965, 0.23812057729866415, 0.08883885251858169, 0.2267621851958318, 0.12494231313115597, 0.07184600564325716, 0.36782698615650455, 0.1989581694736352, 0.13263877964909013, 0.08167110043207865, 0.08474144255358536, 0.06202091085443567, 0.718274752467398, 0.2822693764082406, 0.663163299156636, 0.10703688337265001, 0.08376799568294348, 0.14775743682963643, 0.09393410310672713, 0.9072659714698523, 0.11246511431382873, 0.274914723878248, 0.06962126124189397, 0.19547507964070232, 0.19101217827904243, 0.06248061906323818, 0.03748837143794291, 0.056232557156914366, 0.11179516393645109, 0.8890377322565396, 0.3248577572625188, 0.006986188328226211, 0.6706740795097162, 0.12405089851548898, 0.1382281440601163, 0.7372167683206202, 0.12533652132941306, 0.8740573197972226, 0.2466403461925638, 0.752050891669129, 0.8002806128476619, 0.03708965407137114, 0.16262386785139654, 0.8972208974823038, 0.1026252665347652, 0.6359456991430399, 0.3598113824098778, 1.0003447256606206, 0.7078877331114621, 0.2111765926508984, 0.0803065915714684, 1.0010242462959722, 1.0012336668870079, 0.07524414770807757, 0.038876142982506745, 0.8853728046983794, 0.999297217028905, 0.05626210219740431, 0.06519259460969071, 0.1678932573509843, 0.7108671960179973, 0.18735748464367494, 0.5157841341955286, 0.2975677697281896, 0.20446359522247093, 0.7942624275949832, 0.17711676962622164, 0.8207850299751734, 0.18058931790961827, 0.8196878780443062, 0.021867481406394444, 0.7512123024314327, 0.22767907111363625, 0.8823177729331532, 0.11727008374427986, 0.8262429607749676, 0.17455837199471147, 0.16487338611854654, 0.061478211773017356, 0.11317579894578196, 0.23892668666331746, 0.04564291480117955, 0.12435365563178512, 0.2212284135771458, 0.02980761782934175, 0.047140810933263486, 0.12916582195714196, 0.39503999562074804, 0.23758968710364797, 0.05091207580792457, 0.09616725430385752, 0.04431236227726768, 0.13034487362212935, 0.03441690483280944, 0.700786764361673, 0.1347385210475944, 0.12347046073347628, 0.798148335455686, 0.07496420830246775, 0.020154511811966872, 0.0033590853019944784, 0.7541146502977604, 0.22337917258263282, 0.007365151374399759, 0.9942954355439675, 0.023352573136525768, 0.1604547767122577, 0.3661080820758556, 0.036912131731927825, 0.41281322834890716, 0.05031937722367066, 0.07708500340647419, 0.09207375406884417, 0.2944218880108389, 0.4871343965270244, 0.8716224675404821, 0.05266601012329197, 0.07636571467877336, 0.13423505193181157, 0.033026084205445706, 0.8320442504662289, 0.07802438868630057, 0.5375650896989973, 0.3843848560280984, 0.21054037545281173, 0.10750997895462727, 0.08809845497670846, 0.5957844667068928, 0.966127736731818, 0.033899218832695366, 0.022783849319090905, 0.19442218085624238, 0.7837644165767271, 0.1322348122393751, 0.21938957485169053, 0.6491527146296596, 0.04278097084518508, 0.6447703463095752, 0.3116899304434913, 0.9997006850392735, 0.1895132701073108, 0.02238649626522205, 0.4126062846124547, 0.06484364435443629, 0.08877403691381158, 0.1374067701796388, 0.08491429617842847, 0.6475663513186453, 0.3530940736663771, 0.09738488110364625, 0.1530333845914441, 0.14640856274765865, 0.3001044295234813, 0.09076005925986079, 0.11725934663500263, 0.09407247018175352, 0.8788102372731694, 0.12102259623465257, 0.12706831152816284, 0.8723453746483989, 0.7634705967511658, 0.07690524288963815, 0.0657415785992068, 0.009303053575359453, 0.042173842874962855, 0.042173842874962855, 0.008981227387080518, 0.8936321250145116, 0.0987935012578857, 0.9989981092154132, 0.9372734294351587, 0.06067171753040089, 0.18658631224254887, 0.8127573262090688, 0.18004208299017352, 0.10947282433070851, 0.25603974616190506, 0.0931876107939089, 0.04523670426888782, 0.1718994762217737, 0.14385271957506326, 0.0053480247964048854, 0.9947326121313088, 0.9988687502664726, 0.09729553143334252, 0.845722696305208, 0.052389901541030584, 0.16249835106297533, 0.03576352598180867, 0.07187427066246986, 0.27881661517856665, 0.10555448445116346, 0.10347117225804839, 0.2104145315046219, 0.03194412029443105, 1.000766270354365, 1.00012185378834, 0.07668498489799472, 0.9229585682365792, 0.5755524774806963, 0.11679621404942998, 0.04575521787503443, 0.26249046044098695, 0.09710857943467657, 0.902903174743695, 0.32894886655893335, 0.009798476876223547, 0.6620970803505339, 0.1336404058357692, 0.007241598345780596, 0.22185624022982373, 0.03620799172890298, 0.6010526626997895, 0.05202181601379498, 0.004478699391916124, 0.20946532540653873, 0.5412335957461716, 0.19292858919023304, 0.9994405119483638, 0.12118524930959931, 0.2266321545530169, 0.6531412787465418, 0.08504410185063757, 0.10927454427735554, 0.11402561141984925, 0.047985778139186565, 0.19051779241399813, 0.10974965099160491, 0.1824409782717588, 0.056537698995675255, 0.10357326370636308, 0.03096854963900266, 0.9697027105712709, 0.6097236324478094, 0.15394012502395185, 0.188652113999941, 0.046785724271985366, 0.621559885330121, 0.1293601791803805, 0.186152452966889, 0.0631025264294539], \"Term\": [\"\\u0430\\u0431\\u0441\\u043e\\u043b\\u044e\\u0442\\u043d\\u043e\", \"\\u0430\\u0431\\u0441\\u043e\\u043b\\u044e\\u0442\\u043d\\u043e\", \"\\u0430\\u0431\\u0441\\u043e\\u043b\\u044e\\u0442\\u043d\\u043e\", \"\\u0430\\u0437\\u0438\\u044f\", \"\\u0430\\u0437\\u0438\\u044f\", \"\\u0430\\u0437\\u0438\\u044f\", \"\\u0430\\u0440\\u043a\\u0442\\u0438\\u043a\\u0430\", \"\\u0430\\u0440\\u043a\\u0442\\u0438\\u043a\\u0430\", \"\\u0430\\u0440\\u043a\\u0442\\u0438\\u0447\\u0435\\u0441\\u043a\\u0438\\u0439\", \"\\u0430\\u0440\\u043a\\u0442\\u0438\\u0447\\u0435\\u0441\\u043a\\u0438\\u0439\", \"\\u0430\\u0440\\u043a\\u0442\\u0438\\u0447\\u0435\\u0441\\u043a\\u0438\\u0439\", \"\\u0430\\u0440\\u043c\\u0438\\u044f\", \"\\u0430\\u0440\\u043c\\u0438\\u044f\", \"\\u0430\\u0444\\u0433\\u0430\\u043d\\u0438\\u0441\\u0442\\u0430\\u043d\", \"\\u0430\\u0444\\u0433\\u0430\\u043d\\u0438\\u0441\\u0442\\u0430\\u043d\", \"\\u0430\\u0444\\u0440\\u0438\\u043a\\u0430\", \"\\u0430\\u0444\\u0440\\u0438\\u043a\\u0430\", \"\\u0430\\u0444\\u0440\\u0438\\u043a\\u0430\", \"\\u0431\\u0430\\u043d\\u043a\", \"\\u0431\\u0430\\u043d\\u043a\", \"\\u0431\\u0430\\u043d\\u043a\", \"\\u0431\\u0435\\u0437\\u043e\\u043f\\u0430\\u0441\\u043d\\u043e\\u0441\\u0442\\u044c\", \"\\u0431\\u0435\\u0437\\u043e\\u043f\\u0430\\u0441\\u043d\\u043e\\u0441\\u0442\\u044c\", \"\\u0431\\u0435\\u0437\\u043e\\u043f\\u0430\\u0441\\u043d\\u043e\\u0441\\u0442\\u044c\", \"\\u0431\\u0435\\u0437\\u043e\\u043f\\u0430\\u0441\\u043d\\u043e\\u0441\\u0442\\u044c\", \"\\u0431\\u0438\\u0437\\u043d\\u0435\\u0441\", \"\\u0431\\u0438\\u0437\\u043d\\u0435\\u0441\", \"\\u0431\\u0438\\u0437\\u043d\\u0435\\u0441\", \"\\u0431\\u0438\\u0437\\u043d\\u0435\\u0441\", \"\\u0431\\u043b\\u0430\\u0433\\u043e\\u0434\\u0430\\u0440\\u0438\\u0442\\u044c\", \"\\u0431\\u043b\\u0430\\u0433\\u043e\\u0434\\u0430\\u0440\\u0438\\u0442\\u044c\", \"\\u0431\\u043b\\u0430\\u0433\\u043e\\u0434\\u0430\\u0440\\u043d\\u043e\\u0441\\u0442\\u044c\", \"\\u0431\\u043b\\u0430\\u0433\\u043e\\u0434\\u0430\\u0440\\u043d\\u043e\\u0441\\u0442\\u044c\", \"\\u0431\\u043b\\u0438\\u0436\\u043d\\u0438\\u0439\", \"\\u0431\\u043b\\u0438\\u0436\\u043d\\u0438\\u0439\", \"\\u0431\\u043e\\u0433\\u0430\\u0442\\u044b\\u0439\", \"\\u0431\\u043e\\u0433\\u0430\\u0442\\u044b\\u0439\", \"\\u0431\\u043e\\u0433\\u0430\\u0442\\u044b\\u0439\", \"\\u0431\\u043e\\u0433\\u0430\\u0442\\u044b\\u0439\", \"\\u0431\\u043e\\u0433\\u0430\\u0442\\u044b\\u0439\", \"\\u0431\\u043e\\u0435\\u0432\\u043e\\u0439\", \"\\u0431\\u043e\\u0435\\u0432\\u043e\\u0439\", \"\\u0431\\u043e\\u0435\\u0432\\u043e\\u0439\", \"\\u0431\\u043e\\u043b\\u044c\\u0448\\u0438\\u0439\", \"\\u0431\\u043e\\u043b\\u044c\\u0448\\u0438\\u0439\", \"\\u0431\\u043e\\u043b\\u044c\\u0448\\u0438\\u0439\", \"\\u0431\\u043e\\u043b\\u044c\\u0448\\u0438\\u0439\", \"\\u0431\\u043e\\u043b\\u044c\\u0448\\u0438\\u0439\", \"\\u0431\\u043e\\u043b\\u044c\\u0448\\u0438\\u0439\", \"\\u0431\\u043e\\u043b\\u044c\\u0448\\u0438\\u0439\", \"\\u0431\\u043e\\u043b\\u044c\\u0448\\u0438\\u0439\", \"\\u0431\\u043e\\u043b\\u044c\\u0448\\u0438\\u0439\", \"\\u0431\\u043e\\u043b\\u044c\\u0448\\u043e\\u0439\", \"\\u0431\\u043e\\u043b\\u044c\\u0448\\u043e\\u0439\", \"\\u0431\\u043e\\u043b\\u044c\\u0448\\u043e\\u0439\", \"\\u0431\\u043e\\u043b\\u044c\\u0448\\u043e\\u0439\", \"\\u0431\\u043e\\u043b\\u044c\\u0448\\u043e\\u0439\", \"\\u0431\\u043e\\u043b\\u044c\\u0448\\u043e\\u0439\", \"\\u0431\\u043e\\u043b\\u044c\\u0448\\u043e\\u0439\", \"\\u0431\\u043e\\u043b\\u044c\\u0448\\u043e\\u0439\", \"\\u0431\\u043e\\u0440\\u043e\\u0442\\u044c\\u0441\\u044f\", \"\\u0431\\u043e\\u0440\\u043e\\u0442\\u044c\\u0441\\u044f\", \"\\u0431\\u043e\\u0440\\u043e\\u0442\\u044c\\u0441\\u044f\", \"\\u0431\\u043e\\u0440\\u044c\\u0431\\u0430\", \"\\u0431\\u043e\\u0440\\u044c\\u0431\\u0430\", \"\\u0431\\u043e\\u0440\\u044c\\u0431\\u0430\", \"\\u0431\\u043e\\u0440\\u044c\\u0431\\u0430\", \"\\u0431\\u043e\\u0440\\u044c\\u0431\\u0430\", \"\\u0431\\u0440\\u0438\\u043a\\u0441\", \"\\u0431\\u0440\\u0438\\u043a\\u0441\", \"\\u0431\\u044e\\u0434\\u0436\\u0435\\u0442\\u043d\\u044b\\u0439\", \"\\u0431\\u044e\\u0434\\u0436\\u0435\\u0442\\u043d\\u044b\\u0439\", \"\\u0432\\u0430\\u0436\\u043d\\u044b\\u0439\", \"\\u0432\\u0430\\u0436\\u043d\\u044b\\u0439\", \"\\u0432\\u0430\\u0436\\u043d\\u044b\\u0439\", \"\\u0432\\u0430\\u0436\\u043d\\u044b\\u0439\", \"\\u0432\\u0430\\u0436\\u043d\\u044b\\u0439\", \"\\u0432\\u0430\\u0436\\u043d\\u044b\\u0439\", \"\\u0432\\u0430\\u0436\\u043d\\u044b\\u0439\", \"\\u0432\\u0430\\u0436\\u043d\\u044b\\u0439\", \"\\u0432\\u0430\\u0436\\u043d\\u044b\\u0439\", \"\\u0432\\u0435\\u0434\\u043e\\u043c\\u0441\\u0442\\u0432\\u043e\", \"\\u0432\\u0435\\u0434\\u043e\\u043c\\u0441\\u0442\\u0432\\u043e\", \"\\u0432\\u0435\\u0434\\u043e\\u043c\\u0441\\u0442\\u0432\\u043e\", \"\\u0432\\u0435\\u043a\", \"\\u0432\\u0435\\u043a\", \"\\u0432\\u0435\\u043a\", \"\\u0432\\u0435\\u043a\", \"\\u0432\\u0435\\u043b\\u0438\\u043a\\u0438\\u0439\", \"\\u0432\\u0435\\u043b\\u0438\\u043a\\u0438\\u0439\", \"\\u0432\\u0435\\u043b\\u0438\\u043a\\u0438\\u0439_\\u043e\\u0442\\u0435\\u0447\\u0435\\u0441\\u0442\\u0432\\u0435\\u043d\\u043d\\u044b\\u0439\", \"\\u0432\\u0435\\u0440\\u043d\\u0443\\u0442\\u044c\\u0441\\u044f\", \"\\u0432\\u0435\\u0440\\u043d\\u0443\\u0442\\u044c\\u0441\\u044f\", \"\\u0432\\u0435\\u0440\\u043d\\u0443\\u0442\\u044c\\u0441\\u044f\", \"\\u0432\\u0435\\u0449\\u044c\", \"\\u0432\\u0437\\u0430\\u0438\\u043c\\u043e\\u0432\\u044b\\u0433\\u043e\\u0434\\u043d\\u044b\\u0439\", \"\\u0432\\u0437\\u0430\\u0438\\u043c\\u043e\\u0432\\u044b\\u0433\\u043e\\u0434\\u043d\\u044b\\u0439\", \"\\u0432\\u0437\\u0430\\u0438\\u043c\\u043e\\u0434\\u0435\\u0439\\u0441\\u0442\\u0432\\u0438\\u0435\", \"\\u0432\\u0437\\u0430\\u0438\\u043c\\u043e\\u0434\\u0435\\u0439\\u0441\\u0442\\u0432\\u0438\\u0435\", \"\\u0432\\u0437\\u0430\\u0438\\u043c\\u043e\\u0434\\u0435\\u0439\\u0441\\u0442\\u0432\\u0438\\u0435\", \"\\u0432\\u0437\\u0430\\u0438\\u043c\\u043e\\u0434\\u0435\\u0439\\u0441\\u0442\\u0432\\u0438\\u0435\", \"\\u0432\\u0437\\u0433\\u043b\\u044f\\u0434\", \"\\u0432\\u0437\\u0433\\u043b\\u044f\\u0434\", \"\\u0432\\u0437\\u0433\\u043b\\u044f\\u0434\", \"\\u0432\\u0437\\u0433\\u043b\\u044f\\u0434\", \"\\u0432\\u0438\\u0434\", \"\\u0432\\u0438\\u0434\", \"\\u0432\\u0438\\u0434\", \"\\u0432\\u0438\\u0434\", \"\\u0432\\u0438\\u0434\", \"\\u0432\\u0438\\u0434\", \"\\u0432\\u0438\\u0434\", \"\\u0432\\u0438\\u0437\\u0438\\u0442\", \"\\u0432\\u0438\\u0437\\u0438\\u0442\", \"\\u0432\\u043b\\u0430\\u0434\\u0438\\u0432\\u043e\\u0441\\u0442\\u043e\\u043a\", \"\\u0432\\u043b\\u0430\\u0434\\u0438\\u0432\\u043e\\u0441\\u0442\\u043e\\u043a\", \"\\u0432\\u043b\\u0430\\u0434\\u0438\\u0432\\u043e\\u0441\\u0442\\u043e\\u043a\", \"\\u0432\\u043b\\u0430\\u0441\\u0442\\u044c\", \"\\u0432\\u043b\\u0430\\u0441\\u0442\\u044c\", \"\\u0432\\u043b\\u0430\\u0441\\u0442\\u044c\", \"\\u0432\\u043d\\u0435\\u0434\\u0440\\u0435\\u043d\\u0438\\u0435\", \"\\u0432\\u043d\\u0438\\u043c\\u0430\\u043d\\u0438\\u0435\", \"\\u0432\\u043d\\u0438\\u043c\\u0430\\u043d\\u0438\\u0435\", \"\\u0432\\u043d\\u0438\\u043c\\u0430\\u043d\\u0438\\u0435\", \"\\u0432\\u043d\\u0438\\u043c\\u0430\\u043d\\u0438\\u0435\", \"\\u0432\\u043d\\u0438\\u043c\\u0430\\u043d\\u0438\\u0435\", \"\\u0432\\u043e\\u0435\\u043d\\u043d\\u043e\", \"\\u0432\\u043e\\u0435\\u043d\\u043d\\u043e\", \"\\u0432\\u043e\\u0435\\u043d\\u043d\\u043e\", \"\\u0432\\u043e\\u0435\\u043d\\u043d\\u043e\\u0441\\u043b\\u0443\\u0436\\u0430\\u0449\\u0438\\u0439\", \"\\u0432\\u043e\\u0435\\u043d\\u043d\\u043e\\u0441\\u043b\\u0443\\u0436\\u0430\\u0449\\u0438\\u0439\", \"\\u0432\\u043e\\u0435\\u043d\\u043d\\u044b\\u0439\", \"\\u0432\\u043e\\u0435\\u043d\\u043d\\u044b\\u0439\", \"\\u0432\\u043e\\u0435\\u043d\\u043d\\u044b\\u0439\", \"\\u0432\\u043e\\u0435\\u043d\\u043d\\u044b\\u0439\", \"\\u0432\\u043e\\u0437\\u043c\\u043e\\u0436\\u043d\\u043e\\u0441\\u0442\\u044c\", \"\\u0432\\u043e\\u0437\\u043c\\u043e\\u0436\\u043d\\u043e\\u0441\\u0442\\u044c\", \"\\u0432\\u043e\\u0437\\u043c\\u043e\\u0436\\u043d\\u043e\\u0441\\u0442\\u044c\", \"\\u0432\\u043e\\u0437\\u043c\\u043e\\u0436\\u043d\\u043e\\u0441\\u0442\\u044c\", \"\\u0432\\u043e\\u0437\\u043c\\u043e\\u0436\\u043d\\u043e\\u0441\\u0442\\u044c\", \"\\u0432\\u043e\\u0437\\u043c\\u043e\\u0436\\u043d\\u043e\\u0441\\u0442\\u044c\", \"\\u0432\\u043e\\u0437\\u043c\\u043e\\u0436\\u043d\\u043e\\u0441\\u0442\\u044c\", \"\\u0432\\u043e\\u0437\\u043c\\u043e\\u0436\\u043d\\u043e\\u0441\\u0442\\u044c\", \"\\u0432\\u043e\\u0437\\u043c\\u043e\\u0436\\u043d\\u043e\\u0441\\u0442\\u044c\", \"\\u0432\\u043e\\u0438\\u043d\\u0441\\u043a\\u0438\\u0439\", \"\\u0432\\u043e\\u0438\\u043d\\u0441\\u043a\\u0438\\u0439\", \"\\u0432\\u043e\\u0439\\u043d\\u0430\", \"\\u0432\\u043e\\u0439\\u043d\\u0430\", \"\\u0432\\u043e\\u0439\\u0441\\u043a\\u043e\", \"\\u0432\\u043e\\u0439\\u0441\\u043a\\u043e\", \"\\u0432\\u043e\\u0439\\u0441\\u043a\\u043e\", \"\\u0432\\u043e\\u043e\\u0440\\u0443\\u0436\\u0435\\u043d\\u0438\\u0435\", \"\\u0432\\u043e\\u043e\\u0440\\u0443\\u0436\\u0435\\u043d\\u0438\\u0435\", \"\\u0432\\u043e\\u043e\\u0440\\u0443\\u0436\\u0451\\u043d\\u043d\\u044b\\u0439\", \"\\u0432\\u043e\\u043e\\u0440\\u0443\\u0436\\u0451\\u043d\\u043d\\u044b\\u0439_\\u0441\\u0438\\u043b\\u0430\", \"\\u0432\\u043e\\u043f\\u0440\\u043e\\u0441\", \"\\u0432\\u043e\\u043f\\u0440\\u043e\\u0441\", \"\\u0432\\u043e\\u043f\\u0440\\u043e\\u0441\", \"\\u0432\\u043e\\u043f\\u0440\\u043e\\u0441\", \"\\u0432\\u043e\\u043f\\u0440\\u043e\\u0441\", \"\\u0432\\u043e\\u0441\\u0442\\u043e\\u043a\", \"\\u0432\\u043e\\u0441\\u0442\\u043e\\u043a\", \"\\u0432\\u043e\\u0441\\u0442\\u043e\\u0447\\u043d\\u044b\\u0439\", \"\\u0432\\u043e\\u0441\\u0442\\u043e\\u0447\\u043d\\u044b\\u0439\", \"\\u0432\\u043e\\u0441\\u0442\\u043e\\u0447\\u043d\\u044b\\u0439\", \"\\u0432\\u0440\\u0430\\u0447\", \"\\u0432\\u0440\\u0430\\u0447\", \"\\u0432\\u0440\\u0430\\u0447\", \"\\u0432\\u0440\\u0435\\u043c\\u044f\", \"\\u0432\\u0440\\u0435\\u043c\\u044f\", \"\\u0432\\u0440\\u0435\\u043c\\u044f\", \"\\u0432\\u0440\\u0435\\u043c\\u044f\", \"\\u0432\\u0440\\u0435\\u043c\\u044f\", \"\\u0432\\u0440\\u0435\\u043c\\u044f\", \"\\u0432\\u0440\\u0435\\u043c\\u044f\", \"\\u0432\\u0440\\u0435\\u043c\\u044f\", \"\\u0432\\u0440\\u0435\\u043c\\u044f\", \"\\u0432\\u0443\\u0437\", \"\\u0432\\u0443\\u0437\", \"\\u0432\\u0443\\u0437\", \"\\u0432\\u044b\\u0437\\u043e\\u0432\", \"\\u0432\\u044b\\u0437\\u043e\\u0432\", \"\\u0432\\u044b\\u0437\\u043e\\u0432\", \"\\u0432\\u044b\\u0437\\u043e\\u0432\", \"\\u0432\\u044b\\u043f\\u043e\\u043b\\u043d\\u0435\\u043d\\u0438\\u0435\", \"\\u0432\\u044b\\u043f\\u043e\\u043b\\u043d\\u0435\\u043d\\u0438\\u0435\", \"\\u0432\\u044b\\u043f\\u043e\\u043b\\u043d\\u0435\\u043d\\u0438\\u0435\", \"\\u0432\\u044b\\u043f\\u043e\\u043b\\u043d\\u0438\\u0442\\u044c\", \"\\u0432\\u044b\\u043f\\u043e\\u043b\\u043d\\u0438\\u0442\\u044c\", \"\\u0432\\u044b\\u043f\\u043e\\u043b\\u043d\\u0438\\u0442\\u044c\", \"\\u0432\\u044b\\u043f\\u043e\\u043b\\u043d\\u044f\\u0442\\u044c\", \"\\u0432\\u044b\\u043f\\u043e\\u043b\\u043d\\u044f\\u0442\\u044c\", \"\\u0432\\u044b\\u043f\\u043e\\u043b\\u043d\\u044f\\u0442\\u044c\", \"\\u0432\\u044b\\u043f\\u043e\\u043b\\u043d\\u044f\\u0442\\u044c\", \"\\u0432\\u044b\\u043f\\u043e\\u043b\\u043d\\u044f\\u0442\\u044c\", \"\\u0432\\u044b\\u0440\\u0430\\u0437\\u0438\\u0442\\u044c\", \"\\u0432\\u044b\\u0440\\u0430\\u0437\\u0438\\u0442\\u044c\", \"\\u0432\\u044b\\u0441\\u043e\\u043a\\u0438\\u0439\", \"\\u0432\\u044b\\u0441\\u043e\\u043a\\u0438\\u0439\", \"\\u0432\\u044b\\u0441\\u043e\\u043a\\u0438\\u0439\", \"\\u0432\\u044b\\u0441\\u043e\\u043a\\u0438\\u0439\", \"\\u0432\\u044b\\u0441\\u043e\\u043a\\u0438\\u0439\", \"\\u0432\\u044b\\u0441\\u043e\\u043a\\u0438\\u0439\", \"\\u0432\\u044b\\u0441\\u043e\\u043a\\u0438\\u0439\", \"\\u0432\\u044b\\u0441\\u043e\\u043a\\u0438\\u0439_\\u043d\\u0430\\u0433\\u0440\\u0430\\u0434\\u0430\", \"\\u0433\\u0430\\u0437\", \"\\u0433\\u0430\\u0437\", \"\\u0433\\u0435\\u0440\\u043e\\u0439\", \"\\u0433\\u0435\\u0440\\u043e\\u0439\", \"\\u0433\\u043b\\u043e\\u0431\\u0430\\u043b\\u044c\\u043d\\u044b\\u0439\", \"\\u0433\\u043b\\u043e\\u0431\\u0430\\u043b\\u044c\\u043d\\u044b\\u0439\", \"\\u0433\\u043b\\u043e\\u0431\\u0430\\u043b\\u044c\\u043d\\u044b\\u0439\", \"\\u0433\\u043e\\u0432\\u043e\\u0440\\u0438\\u0442\\u044c\", \"\\u0433\\u043e\\u0432\\u043e\\u0440\\u0438\\u0442\\u044c\", \"\\u0433\\u043e\\u0432\\u043e\\u0440\\u0438\\u0442\\u044c\", \"\\u0433\\u043e\\u0432\\u043e\\u0440\\u0438\\u0442\\u044c\", \"\\u0433\\u043e\\u0432\\u043e\\u0440\\u0438\\u0442\\u044c\", \"\\u0433\\u043e\\u0432\\u043e\\u0440\\u0438\\u0442\\u044c\", \"\\u0433\\u043e\\u0432\\u043e\\u0440\\u0438\\u0442\\u044c\", \"\\u0433\\u043e\\u0440\\u043e\\u0434\", \"\\u0433\\u043e\\u0440\\u043e\\u0434\", \"\\u0433\\u043e\\u0440\\u043e\\u0434\", \"\\u0433\\u043e\\u0440\\u043e\\u0434\", \"\\u0433\\u043e\\u0440\\u043e\\u0434\", \"\\u0433\\u043e\\u0440\\u043e\\u0434\", \"\\u0433\\u043e\\u0441\\u0442\\u044c\", \"\\u0433\\u043e\\u0441\\u0442\\u044c\", \"\\u0433\\u043e\\u0441\\u0442\\u044c\", \"\\u0433\\u043e\\u0441\\u0443\\u0434\\u0430\\u0440\\u0441\\u0442\\u0432\\u0435\\u043d\\u043d\\u044b\\u0439\", \"\\u0433\\u043e\\u0441\\u0443\\u0434\\u0430\\u0440\\u0441\\u0442\\u0432\\u0435\\u043d\\u043d\\u044b\\u0439\", \"\\u0433\\u043e\\u0441\\u0443\\u0434\\u0430\\u0440\\u0441\\u0442\\u0432\\u0435\\u043d\\u043d\\u044b\\u0439\", \"\\u0433\\u043e\\u0441\\u0443\\u0434\\u0430\\u0440\\u0441\\u0442\\u0432\\u0435\\u043d\\u043d\\u044b\\u0439\", \"\\u0433\\u043e\\u0441\\u0443\\u0434\\u0430\\u0440\\u0441\\u0442\\u0432\\u0435\\u043d\\u043d\\u044b\\u0439\", \"\\u0433\\u043e\\u0441\\u0443\\u0434\\u0430\\u0440\\u0441\\u0442\\u0432\\u0435\\u043d\\u043d\\u044b\\u0439\", \"\\u0433\\u043e\\u0441\\u0443\\u0434\\u0430\\u0440\\u0441\\u0442\\u0432\\u0435\\u043d\\u043d\\u044b\\u0439_\\u0434\\u0443\\u043c\\u0430\", \"\\u0433\\u043e\\u0441\\u0443\\u0434\\u0430\\u0440\\u0441\\u0442\\u0432\\u043e\", \"\\u0433\\u043e\\u0441\\u0443\\u0434\\u0430\\u0440\\u0441\\u0442\\u0432\\u043e\", \"\\u0433\\u043e\\u0441\\u0443\\u0434\\u0430\\u0440\\u0441\\u0442\\u0432\\u043e\", \"\\u0433\\u043e\\u0441\\u0443\\u0434\\u0430\\u0440\\u0441\\u0442\\u0432\\u043e\", \"\\u0433\\u043e\\u0441\\u0443\\u0434\\u0430\\u0440\\u0441\\u0442\\u0432\\u043e\", \"\\u0433\\u043e\\u0441\\u0443\\u0434\\u0430\\u0440\\u0441\\u0442\\u0432\\u043e\", \"\\u0433\\u043e\\u0441\\u0443\\u0434\\u0430\\u0440\\u0441\\u0442\\u0432\\u043e\", \"\\u0433\\u043e\\u0442\\u043e\\u0432\\u043d\\u043e\\u0441\\u0442\\u044c\", \"\\u0433\\u043e\\u0442\\u043e\\u0432\\u043d\\u043e\\u0441\\u0442\\u044c\", \"\\u0433\\u043e\\u0442\\u043e\\u0432\\u043d\\u043e\\u0441\\u0442\\u044c\", \"\\u0433\\u043e\\u0442\\u043e\\u0432\\u043d\\u043e\\u0441\\u0442\\u044c\", \"\\u0433\\u0440\\u0430\\u0436\\u0434\\u0430\\u043d\\u0438\\u043d\", \"\\u0433\\u0440\\u0430\\u0436\\u0434\\u0430\\u043d\\u0438\\u043d\", \"\\u0433\\u0440\\u0430\\u0436\\u0434\\u0430\\u043d\\u0438\\u043d\", \"\\u0433\\u0440\\u0430\\u0436\\u0434\\u0430\\u043d\\u0438\\u043d\", \"\\u0433\\u0440\\u0430\\u0436\\u0434\\u0430\\u043d\\u0438\\u043d\", \"\\u0433\\u0440\\u0430\\u0436\\u0434\\u0430\\u043d\\u0438\\u043d\", \"\\u0433\\u0440\\u0430\\u0436\\u0434\\u0430\\u043d\\u0438\\u043d\", \"\\u0433\\u0443\\u043c\\u0430\\u043d\\u0438\\u0442\\u0430\\u0440\\u043d\\u044b\\u0439\", \"\\u0433\\u0443\\u043c\\u0430\\u043d\\u0438\\u0442\\u0430\\u0440\\u043d\\u044b\\u0439\", \"\\u0433\\u0443\\u043c\\u0430\\u043d\\u0438\\u0442\\u0430\\u0440\\u043d\\u044b\\u0439\", \"\\u0433\\u0443\\u043c\\u0430\\u043d\\u0438\\u0442\\u0430\\u0440\\u043d\\u044b\\u0439\", \"\\u0434\\u0430\\u0432\\u0430\\u0442\\u044c\", \"\\u0434\\u0430\\u0432\\u0430\\u0442\\u044c\", \"\\u0434\\u0430\\u0432\\u0430\\u0442\\u044c\", \"\\u0434\\u0430\\u0432\\u0430\\u0442\\u044c\", \"\\u0434\\u0430\\u0432\\u0430\\u0442\\u044c\", \"\\u0434\\u0430\\u043b\\u044c\\u043d\\u0438\\u0439\", \"\\u0434\\u0430\\u043b\\u044c\\u043d\\u0438\\u0439\", \"\\u0434\\u0430\\u043b\\u044c\\u043d\\u0438\\u0439_\\u0432\\u043e\\u0441\\u0442\\u043e\\u043a\", \"\\u0434\\u0432\\u0443\\u0441\\u0442\\u043e\\u0440\\u043e\\u043d\\u043d\\u0438\\u0439\", \"\\u0434\\u0435\\u043b\\u043e\", \"\\u0434\\u0435\\u043b\\u043e\", \"\\u0434\\u0435\\u043b\\u043e\", \"\\u0434\\u0435\\u043b\\u043e\", \"\\u0434\\u0435\\u043b\\u043e\", \"\\u0434\\u0435\\u043b\\u043e\", \"\\u0434\\u0435\\u044f\\u0442\\u0435\\u043b\\u044c\\u043d\\u043e\\u0441\\u0442\\u044c\", \"\\u0434\\u0435\\u044f\\u0442\\u0435\\u043b\\u044c\\u043d\\u043e\\u0441\\u0442\\u044c\", \"\\u0434\\u0435\\u044f\\u0442\\u0435\\u043b\\u044c\\u043d\\u043e\\u0441\\u0442\\u044c\", \"\\u0434\\u0435\\u044f\\u0442\\u0435\\u043b\\u044c\\u043d\\u043e\\u0441\\u0442\\u044c\", \"\\u0434\\u0435\\u044f\\u0442\\u0435\\u043b\\u044c\\u043d\\u043e\\u0441\\u0442\\u044c\", \"\\u0434\\u0435\\u044f\\u0442\\u0435\\u043b\\u044c\\u043d\\u043e\\u0441\\u0442\\u044c\", \"\\u0434\\u0435\\u044f\\u0442\\u0435\\u043b\\u044c\\u043d\\u043e\\u0441\\u0442\\u044c\", \"\\u0434\\u0438\\u0430\\u043b\\u043e\\u0433\", \"\\u0434\\u0438\\u0430\\u043b\\u043e\\u0433\", \"\\u0434\\u0438\\u0430\\u043b\\u043e\\u0433\", \"\\u0434\\u0438\\u0430\\u043b\\u043e\\u0433\", \"\\u0434\\u0438\\u0430\\u043b\\u043e\\u0433\", \"\\u0434\\u0438\\u0441\\u043a\\u0443\\u0441\\u0441\\u0438\\u044f\", \"\\u0434\\u0438\\u0441\\u043a\\u0443\\u0441\\u0441\\u0438\\u044f\", \"\\u0434\\u0438\\u0441\\u043a\\u0443\\u0441\\u0441\\u0438\\u044f\", \"\\u0434\\u043e\\u0431\\u044b\\u0447\\u0430\", \"\\u0434\\u043e\\u0431\\u044b\\u0447\\u0430\", \"\\u0434\\u043e\\u043b\\u043b\\u0430\\u0440\", \"\\u0434\\u043e\\u043b\\u044f\", \"\\u0434\\u043e\\u043b\\u044f\", \"\\u0434\\u043e\\u043b\\u044f\", \"\\u0434\\u043e\\u0445\\u043e\\u0434\", \"\\u0434\\u043e\\u0445\\u043e\\u0434\", \"\\u0434\\u0440\\u0443\\u0433\", \"\\u0434\\u0440\\u0443\\u0433\", \"\\u0434\\u0440\\u0443\\u0433\", \"\\u0434\\u0440\\u0443\\u0433\", \"\\u0434\\u0440\\u0443\\u0433\", \"\\u0434\\u0440\\u0443\\u0433\", \"\\u0434\\u0440\\u0443\\u0433_\\u0434\\u0440\\u0443\\u0433\\u0430\", \"\\u0434\\u0440\\u0443\\u0433\\u0430\", \"\\u0434\\u0443\\u043c\\u0430\", \"\\u0434\\u0443\\u0445\\u043e\\u0432\\u043d\\u044b\\u0439\", \"\\u0434\\u0443\\u0445\\u043e\\u0432\\u043d\\u044b\\u0439\", \"\\u0435\\u0432\\u0440\\u0430\\u0437\\u0438\\u0439\\u0441\\u043a\\u0438\\u0439\", \"\\u0435\\u0432\\u0440\\u0430\\u0437\\u0438\\u0439\\u0441\\u043a\\u0438\\u0439\", \"\\u0435\\u0432\\u0440\\u0430\\u0437\\u0438\\u0439\\u0441\\u043a\\u0438\\u0439_\\u044d\\u043a\\u043e\\u043d\\u043e\\u043c\\u0438\\u0447\\u0435\\u0441\\u043a\\u0438\\u0439\", \"\\u0435\\u0432\\u0440\\u043e\\u043f\\u0430\", \"\\u0435\\u0432\\u0440\\u043e\\u043f\\u0430\", \"\\u0435\\u0432\\u0440\\u043e\\u043f\\u0430\", \"\\u0435\\u0432\\u0440\\u043e\\u043f\\u0430\", \"\\u0435\\u0432\\u0440\\u043e\\u043f\\u0430\", \"\\u0435\\u0434\\u0438\\u043d\\u0441\\u0442\\u0432\\u043e\", \"\\u0435\\u0434\\u0438\\u043d\\u0441\\u0442\\u0432\\u043e\", \"\\u0435\\u0434\\u0438\\u043d\\u044b\\u0439\", \"\\u0435\\u0434\\u0438\\u043d\\u044b\\u0439\", \"\\u0435\\u0434\\u0438\\u043d\\u044b\\u0439\", \"\\u0435\\u0434\\u0438\\u043d\\u044b\\u0439\", \"\\u0436\\u0435\\u043b\\u0430\\u0442\\u044c\", \"\\u0436\\u0438\\u0437\\u043d\\u044c\", \"\\u0436\\u0438\\u0437\\u043d\\u044c\", \"\\u0436\\u0438\\u0437\\u043d\\u044c\", \"\\u0436\\u0438\\u0437\\u043d\\u044c\", \"\\u0436\\u0438\\u0437\\u043d\\u044c\", \"\\u0436\\u0438\\u0437\\u043d\\u044c\", \"\\u0436\\u0438\\u0437\\u043d\\u044c\", \"\\u0437\\u0430\\u0434\\u0430\\u0442\\u044c\", \"\\u0437\\u0430\\u0434\\u0430\\u0447\\u0430\", \"\\u0437\\u0430\\u0434\\u0430\\u0447\\u0430\", \"\\u0437\\u0430\\u0434\\u0430\\u0447\\u0430\", \"\\u0437\\u0430\\u0434\\u0430\\u0447\\u0430\", \"\\u0437\\u0430\\u0434\\u0430\\u0447\\u0430\", \"\\u0437\\u0430\\u0434\\u0430\\u0447\\u0430\", \"\\u0437\\u0430\\u0438\\u043d\\u0442\\u0435\\u0440\\u0435\\u0441\\u043e\\u0432\\u0430\\u043d\\u044b\", \"\\u0437\\u0430\\u0438\\u043d\\u0442\\u0435\\u0440\\u0435\\u0441\\u043e\\u0432\\u0430\\u043d\\u044b\", \"\\u0437\\u0430\\u0438\\u043d\\u0442\\u0435\\u0440\\u0435\\u0441\\u043e\\u0432\\u0430\\u043d\\u044b\", \"\\u0437\\u0430\\u0438\\u043d\\u0442\\u0435\\u0440\\u0435\\u0441\\u043e\\u0432\\u0430\\u043d\\u044b\", \"\\u0437\\u0430\\u0438\\u043d\\u0442\\u0435\\u0440\\u0435\\u0441\\u043e\\u0432\\u0430\\u043d\\u044b\", \"\\u0437\\u0430\\u043a\\u043e\\u043d\", \"\\u0437\\u0430\\u043a\\u043e\\u043d\", \"\\u0437\\u0430\\u043a\\u043e\\u043d\\u043e\\u0434\\u0430\\u0442\\u0435\\u043b\\u044c\\u043d\\u044b\\u0439\", \"\\u0437\\u0430\\u043a\\u043e\\u043d\\u043e\\u0434\\u0430\\u0442\\u0435\\u043b\\u044c\\u0441\\u0442\\u0432\\u043e\", \"\\u0437\\u0430\\u043f\\u0430\\u0434\\u043d\\u044b\\u0439\", \"\\u0437\\u0430\\u043f\\u0430\\u0434\\u043d\\u044b\\u0439\", \"\\u0437\\u0430\\u043f\\u0430\\u0434\\u043d\\u044b\\u0439\", \"\\u0437\\u0430\\u043f\\u0430\\u0434\\u043d\\u044b\\u0439\", \"\\u0437\\u0430\\u043f\\u0430\\u0434\\u043d\\u044b\\u0439\", \"\\u0437\\u0434\\u043e\\u0440\\u043e\\u0432\\u044c\\u0435\", \"\\u0437\\u0434\\u043e\\u0440\\u043e\\u0432\\u044c\\u0435\", \"\\u0437\\u0434\\u043e\\u0440\\u043e\\u0432\\u044c\\u0435\", \"\\u0437\\u0434\\u043e\\u0440\\u043e\\u0432\\u044c\\u0435\", \"\\u0437\\u0434\\u0440\\u0430\\u0432\\u043e\\u043e\\u0445\\u0440\\u0430\\u043d\\u0435\\u043d\\u0438\\u0435\", \"\\u0437\\u0434\\u0440\\u0430\\u0432\\u043e\\u043e\\u0445\\u0440\\u0430\\u043d\\u0435\\u043d\\u0438\\u0435\", \"\\u0437\\u0435\\u043c\\u043b\\u044f\", \"\\u0437\\u0435\\u043c\\u043b\\u044f\", \"\\u0437\\u0435\\u043c\\u043b\\u044f\", \"\\u0437\\u0440\\u0435\\u043d\\u0438\\u0435\", \"\\u0437\\u0440\\u0435\\u043d\\u0438\\u0435\", \"\\u0438\\u0433\\u0440\\u0430\", \"\\u0438\\u0433\\u0440\\u0430\", \"\\u0438\\u0434\\u0442\\u0438\", \"\\u0438\\u0434\\u0442\\u0438\", \"\\u0438\\u0434\\u0442\\u0438\", \"\\u0438\\u0434\\u0442\\u0438\", \"\\u0438\\u0434\\u0442\\u0438\", \"\\u0438\\u043d\\u0432\\u0435\\u0441\\u0442\\u0438\\u0446\\u0438\\u044f\", \"\\u0438\\u043d\\u0432\\u0435\\u0441\\u0442\\u0438\\u0446\\u0438\\u044f\", \"\\u0438\\u043d\\u0432\\u0435\\u0441\\u0442\\u043e\\u0440\", \"\\u0438\\u043d\\u0432\\u0435\\u0441\\u0442\\u043e\\u0440\", \"\\u0438\\u043d\\u0434\\u0438\\u044f\", \"\\u0438\\u043d\\u0434\\u0438\\u044f\", \"\\u0438\\u043d\\u0434\\u0438\\u044f\", \"\\u0438\\u043d\\u0434\\u0438\\u044f\", \"\\u0438\\u043d\\u0442\\u0435\\u043b\\u043b\\u0435\\u043a\\u0442\", \"\\u0438\\u043d\\u0442\\u0435\\u0440\\u0435\\u0441\", \"\\u0438\\u043d\\u0442\\u0435\\u0440\\u0435\\u0441\", \"\\u0438\\u043d\\u0442\\u0435\\u0440\\u0435\\u0441\", \"\\u0438\\u043d\\u0442\\u0435\\u0440\\u0435\\u0441\", \"\\u0438\\u043d\\u0442\\u0435\\u0440\\u0435\\u0441\", \"\\u0438\\u043d\\u0442\\u0435\\u0440\\u0435\\u0441\", \"\\u0438\\u043d\\u0442\\u0435\\u0440\\u0435\\u0441\", \"\\u0438\\u043d\\u0444\\u0440\\u0430\\u0441\\u0442\\u0440\\u0443\\u043a\\u0442\\u0443\\u0440\\u0430\", \"\\u0438\\u043d\\u0444\\u0440\\u0430\\u0441\\u0442\\u0440\\u0443\\u043a\\u0442\\u0443\\u0440\\u0430\", \"\\u0438\\u043d\\u0444\\u0440\\u0430\\u0441\\u0442\\u0440\\u0443\\u043a\\u0442\\u0443\\u0440\\u0430\", \"\\u0438\\u043d\\u0444\\u0440\\u0430\\u0441\\u0442\\u0440\\u0443\\u043a\\u0442\\u0443\\u0440\\u0430\", \"\\u0438\\u043d\\u0444\\u0440\\u0430\\u0441\\u0442\\u0440\\u0443\\u043a\\u0442\\u0443\\u0440\\u0430\", \"\\u0438\\u0440\\u0430\\u043d\", \"\\u0438\\u0440\\u0430\\u043d\", \"\\u0438\\u0441\\u043a\\u0440\\u0435\\u043d\\u043d\\u0435\", \"\\u0438\\u0441\\u043a\\u0440\\u0435\\u043d\\u043d\\u0435\", \"\\u0438\\u0441\\u043a\\u0440\\u0435\\u043d\\u043d\\u0435\", \"\\u0438\\u0441\\u043a\\u0440\\u0435\\u043d\\u043d\\u0435\", \"\\u0438\\u0441\\u043a\\u0443\\u0441\\u0441\\u0442\\u0432\\u0435\\u043d\\u043d\\u044b\\u0439\", \"\\u0438\\u0441\\u043a\\u0443\\u0441\\u0441\\u0442\\u0432\\u0435\\u043d\\u043d\\u044b\\u0439_\\u0438\\u043d\\u0442\\u0435\\u043b\\u043b\\u0435\\u043a\\u0442\", \"\\u0438\\u0441\\u043f\\u043e\\u043b\\u043d\\u0435\\u043d\\u0438\\u0435\", \"\\u0438\\u0441\\u043f\\u043e\\u043b\\u043d\\u0435\\u043d\\u0438\\u0435\", \"\\u0438\\u0441\\u0441\\u043b\\u0435\\u0434\\u043e\\u0432\\u0430\\u043d\\u0438\\u0435\", \"\\u0438\\u0441\\u0442\\u043e\\u0440\\u0438\\u0447\\u0435\\u0441\\u043a\\u0438\\u0439\", \"\\u0438\\u0441\\u0442\\u043e\\u0440\\u0438\\u0447\\u0435\\u0441\\u043a\\u0438\\u0439\", \"\\u0438\\u0441\\u0442\\u043e\\u0440\\u0438\\u0447\\u0435\\u0441\\u043a\\u0438\\u0439\", \"\\u0438\\u0441\\u0442\\u043e\\u0440\\u0438\\u044f\", \"\\u0438\\u0441\\u0442\\u043e\\u0440\\u0438\\u044f\", \"\\u0438\\u0441\\u0442\\u043e\\u0440\\u0438\\u044f\", \"\\u0438\\u0441\\u0442\\u043e\\u0440\\u0438\\u044f\", \"\\u0438\\u0441\\u0442\\u043e\\u0440\\u0438\\u044f\", \"\\u043a\\u0430\\u0434\\u0440\", \"\\u043a\\u0430\\u0434\\u0440\", \"\\u043a\\u0430\\u0437\\u0430\\u0445\\u0441\\u0442\\u0430\\u043d\", \"\\u043a\\u0430\\u0437\\u0430\\u0445\\u0441\\u0442\\u0430\\u043d\", \"\\u043a\\u0430\\u0437\\u0430\\u0445\\u0441\\u0442\\u0430\\u043d\", \"\\u043a\\u0430\\u0437\\u0430\\u0445\\u0441\\u0442\\u0430\\u043d\", \"\\u043a\\u0430\\u043f\\u0438\\u0442\\u0430\\u043b\", \"\\u043a\\u0430\\u043f\\u0438\\u0442\\u0430\\u043b\", \"\\u043a\\u0430\\u0441\\u0430\\u0442\\u044c\\u0441\\u044f\", \"\\u043a\\u0430\\u0441\\u0430\\u0442\\u044c\\u0441\\u044f\", \"\\u043a\\u0430\\u0441\\u0430\\u0442\\u044c\\u0441\\u044f\", \"\\u043a\\u0430\\u0441\\u0430\\u0442\\u044c\\u0441\\u044f\", \"\\u043a\\u0430\\u0441\\u0430\\u0442\\u044c\\u0441\\u044f\", \"\\u043a\\u0430\\u0441\\u0430\\u0442\\u044c\\u0441\\u044f\", \"\\u043a\\u0438\\u0442\\u0430\\u0439\", \"\\u043a\\u0438\\u0442\\u0430\\u0439\", \"\\u043a\\u0438\\u0442\\u0430\\u0439\", \"\\u043a\\u0438\\u0442\\u0430\\u0439\", \"\\u043a\\u0438\\u0442\\u0430\\u0439\", \"\\u043a\\u0438\\u0442\\u0430\\u0439\\u0441\\u043a\\u0438\\u0439\", \"\\u043a\\u0438\\u0442\\u0430\\u0439\\u0441\\u043a\\u0438\\u0439\", \"\\u043a\\u043e\\u043c\\u0438\\u0441\\u0441\\u0438\\u044f\", \"\\u043a\\u043e\\u043c\\u0438\\u0441\\u0441\\u0438\\u044f\", \"\\u043a\\u043e\\u043c\\u0438\\u0441\\u0441\\u0438\\u044f\", \"\\u043a\\u043e\\u043c\\u043f\\u0430\\u043d\\u0438\\u044f\", \"\\u043a\\u043e\\u043c\\u043f\\u0430\\u043d\\u0438\\u044f\", \"\\u043a\\u043e\\u043c\\u043f\\u0430\\u043d\\u0438\\u044f\", \"\\u043a\\u043e\\u043c\\u043f\\u0430\\u043d\\u0438\\u044f\", \"\\u043a\\u043e\\u043d\\u0441\\u0442\\u0438\\u0442\\u0443\\u0446\\u0438\\u044f\", \"\\u043a\\u043e\\u043d\\u0441\\u0442\\u0440\\u0443\\u043a\\u0442\\u0438\\u0432\\u043d\\u044b\\u0439\", \"\\u043a\\u043e\\u043d\\u0441\\u0442\\u0440\\u0443\\u043a\\u0442\\u0438\\u0432\\u043d\\u044b\\u0439\", \"\\u043a\\u043e\\u043d\\u0442\\u0430\\u043a\\u0442\", \"\\u043a\\u043e\\u043d\\u0442\\u0430\\u043a\\u0442\", \"\\u043a\\u043e\\u043d\\u0442\\u0430\\u043a\\u0442\", \"\\u043a\\u043e\\u043d\\u0442\\u0440\\u043e\\u043b\\u044c\", \"\\u043a\\u043e\\u043d\\u0442\\u0440\\u043e\\u043b\\u044c\", \"\\u043a\\u043e\\u043d\\u0442\\u0440\\u043e\\u043b\\u044c\", \"\\u043a\\u043e\\u043d\\u0442\\u0440\\u043e\\u043b\\u044c\", \"\\u043a\\u043e\\u043d\\u0444\\u043b\\u0438\\u043a\\u0442\", \"\\u043a\\u043e\\u0440\\u0435\\u044f\", \"\\u043a\\u043e\\u0440\\u0435\\u044f\", \"\\u043a\\u043e\\u0441\\u043c\\u0438\\u0447\\u0435\\u0441\\u043a\\u0438\\u0439\", \"\\u043a\\u043e\\u0441\\u043c\\u0438\\u0447\\u0435\\u0441\\u043a\\u0438\\u0439\", \"\\u043a\\u043e\\u0441\\u043c\\u0438\\u0447\\u0435\\u0441\\u043a\\u0438\\u0439\", \"\\u043a\\u0440\\u0438\\u0437\\u0438\\u0441\", \"\\u043a\\u0440\\u0438\\u0437\\u0438\\u0441\", \"\\u043a\\u0440\\u0438\\u0437\\u0438\\u0441\", \"\\u043a\\u0440\\u0443\\u0433\", \"\\u043a\\u0440\\u0443\\u0433\", \"\\u043a\\u0440\\u0443\\u0433\", \"\\u043a\\u0440\\u0443\\u0433\", \"\\u043a\\u0440\\u0443\\u043f\\u043d\\u044b\\u0439\", \"\\u043a\\u0440\\u0443\\u043f\\u043d\\u044b\\u0439\", \"\\u043a\\u0440\\u0443\\u043f\\u043d\\u044b\\u0439\", \"\\u043a\\u0440\\u0443\\u043f\\u043d\\u044b\\u0439\", \"\\u043a\\u0440\\u0443\\u043f\\u043d\\u044b\\u0439\", \"\\u043a\\u0440\\u0443\\u043f\\u043d\\u044b\\u0439\", \"\\u043a\\u0443\\u043b\\u044c\\u0442\\u0443\\u0440\\u0430\", \"\\u043a\\u0443\\u043b\\u044c\\u0442\\u0443\\u0440\\u0430\", \"\\u043a\\u0443\\u043b\\u044c\\u0442\\u0443\\u0440\\u0430\", \"\\u043a\\u0443\\u043b\\u044c\\u0442\\u0443\\u0440\\u0430\", \"\\u043b\\u0438\\u0442\\u0435\\u0440\\u0430\\u0442\\u0443\\u0440\\u0430\", \"\\u043b\\u0438\\u0442\\u0435\\u0440\\u0430\\u0442\\u0443\\u0440\\u0430\", \"\\u043b\\u0438\\u0447\\u043d\\u044b\\u0439\", \"\\u043b\\u0438\\u0447\\u043d\\u044b\\u0439\", \"\\u043b\\u0438\\u0447\\u043d\\u044b\\u0439\", \"\\u043b\\u0438\\u0447\\u043d\\u044b\\u0439\", \"\\u043b\\u0438\\u0447\\u043d\\u044b\\u0439\", \"\\u043b\\u0443\\u0447\\u0448\\u0435\", \"\\u043b\\u0443\\u0447\\u0448\\u0435\", \"\\u043b\\u0443\\u0447\\u0448\\u0435\", \"\\u043b\\u044e\\u0431\\u043e\\u0432\\u044c\", \"\\u043b\\u044e\\u0431\\u043e\\u0432\\u044c\", \"\\u043c\\u0435\\u0434\\u0438\\u0446\\u0438\\u043d\\u0430\", \"\\u043c\\u0435\\u0434\\u0438\\u0446\\u0438\\u043d\\u0441\\u043a\\u0438\\u0439\", \"\\u043c\\u0435\\u0434\\u0438\\u0446\\u0438\\u043d\\u0441\\u043a\\u0438\\u0439\", \"\\u043c\\u0435\\u0434\\u0438\\u0446\\u0438\\u043d\\u0441\\u043a\\u0438\\u0439\", \"\\u043c\\u0435\\u0436\\u0434\\u0443\\u043d\\u0430\\u0440\\u043e\\u0434\\u043d\\u044b\\u0439\", \"\\u043c\\u0435\\u0436\\u0434\\u0443\\u043d\\u0430\\u0440\\u043e\\u0434\\u043d\\u044b\\u0439\", \"\\u043c\\u0435\\u0436\\u0434\\u0443\\u043d\\u0430\\u0440\\u043e\\u0434\\u043d\\u044b\\u0439\", \"\\u043c\\u0435\\u0436\\u0434\\u0443\\u043d\\u0430\\u0440\\u043e\\u0434\\u043d\\u044b\\u0439\", \"\\u043c\\u0435\\u0436\\u0434\\u0443\\u043d\\u0430\\u0440\\u043e\\u0434\\u043d\\u044b\\u0439\", \"\\u043c\\u0435\\u0440\\u0430\", \"\\u043c\\u0435\\u0440\\u0430\", \"\\u043c\\u0435\\u0440\\u0430\", \"\\u043c\\u0435\\u0440\\u0430\", \"\\u043c\\u0435\\u0440\\u0430\", \"\\u043c\\u0435\\u0440\\u043e\\u043f\\u0440\\u0438\\u044f\\u0442\\u0438\\u0435\", \"\\u043c\\u0435\\u0440\\u043e\\u043f\\u0440\\u0438\\u044f\\u0442\\u0438\\u0435\", \"\\u043c\\u0435\\u0440\\u043e\\u043f\\u0440\\u0438\\u044f\\u0442\\u0438\\u0435\", \"\\u043c\\u0435\\u0440\\u043e\\u043f\\u0440\\u0438\\u044f\\u0442\\u0438\\u0435\", \"\\u043c\\u0438\\u043b\\u043b\\u0438\\u043e\\u043d\", \"\\u043c\\u0438\\u043b\\u043b\\u0438\\u043e\\u043d\", \"\\u043c\\u0438\\u043b\\u043b\\u0438\\u043e\\u043d\", \"\\u043c\\u0438\\u043b\\u043b\\u0438\\u043e\\u043d\", \"\\u043c\\u0438\\u043d\\u0438\\u0441\\u0442\\u0435\\u0440\\u0441\\u0442\\u0432\\u043e\", \"\\u043c\\u0438\\u043d\\u0438\\u0441\\u0442\\u0435\\u0440\\u0441\\u0442\\u0432\\u043e\", \"\\u043c\\u0438\\u043d\\u0438\\u0441\\u0442\\u0435\\u0440\\u0441\\u0442\\u0432\\u043e\", \"\\u043c\\u0438\\u043d\\u0438\\u0441\\u0442\\u0440\", \"\\u043c\\u0438\\u043d\\u0438\\u0441\\u0442\\u0440\", \"\\u043c\\u0438\\u043d\\u0438\\u0441\\u0442\\u0440\", \"\\u043c\\u0438\\u043d\\u0438\\u0441\\u0442\\u0440\", \"\\u043c\\u0438\\u0440\", \"\\u043c\\u0438\\u0440\", \"\\u043c\\u0438\\u0440\", \"\\u043c\\u0438\\u0440\", \"\\u043c\\u0438\\u0440\", \"\\u043c\\u0438\\u0440\", \"\\u043c\\u0438\\u0440\", \"\\u043c\\u0438\\u0440\\u043e\\u0432\\u043e\\u0439\", \"\\u043c\\u0438\\u0440\\u043e\\u0432\\u043e\\u0439\", \"\\u043c\\u0438\\u0440\\u043e\\u0432\\u043e\\u0439\", \"\\u043c\\u0438\\u0440\\u043e\\u0432\\u043e\\u0439\", \"\\u043c\\u0438\\u0440\\u043e\\u0432\\u043e\\u0439\", \"\\u043c\\u0438\\u0440\\u043e\\u0432\\u043e\\u0439_\\u0432\\u043e\\u0439\\u043d\\u0430\", \"\\u043c\\u043e\\u0434\\u0435\\u043b\\u044c\", \"\\u043c\\u043e\\u0434\\u0435\\u043b\\u044c\", \"\\u043c\\u043e\\u0434\\u0435\\u043b\\u044c\", \"\\u043c\\u043e\\u043b\\u043e\\u0434\\u043e\\u0439\", \"\\u043c\\u043e\\u043b\\u043e\\u0434\\u043e\\u0439\", \"\\u043c\\u043e\\u043b\\u043e\\u0434\\u043e\\u0439\", \"\\u043c\\u043e\\u043d\\u0433\\u043e\\u043b\\u0438\\u044f\", \"\\u043c\\u043e\\u043d\\u0433\\u043e\\u043b\\u0438\\u044f\", \"\\u043c\\u043e\\u043d\\u0433\\u043e\\u043b\\u0438\\u044f\", \"\\u043c\\u043e\\u0440\\u0435\", \"\\u043c\\u043e\\u0440\\u0435\", \"\\u043c\\u043e\\u0440\\u0435\", \"\\u043c\\u043e\\u0440\\u0435\", \"\\u043c\\u043e\\u0440\\u0441\\u043a\\u043e\\u0439\", \"\\u043c\\u043e\\u0440\\u0441\\u043a\\u043e\\u0439\", \"\\u043c\\u0443\\u0436\\u0435\\u0441\\u0442\\u0432\\u043e\", \"\\u043c\\u0443\\u0436\\u0435\\u0441\\u0442\\u0432\\u043e\", \"\\u043d\\u0430\\u0432\\u0435\\u0440\\u043d\\u043e\\u0435\", \"\\u043d\\u0430\\u0432\\u0435\\u0440\\u043d\\u043e\\u0435\", \"\\u043d\\u0430\\u0433\\u0440\\u0430\\u0434\\u0430\", \"\\u043d\\u0430\\u0433\\u0440\\u0430\\u0434\\u0430\", \"\\u043d\\u0430\\u0434\\u0451\\u0436\\u043d\\u044b\\u0439\", \"\\u043d\\u0430\\u0434\\u0451\\u0436\\u043d\\u044b\\u0439\", \"\\u043d\\u0430\\u0434\\u0451\\u0436\\u043d\\u044b\\u0439\", \"\\u043d\\u0430\\u0434\\u0451\\u0436\\u043d\\u044b\\u0439\", \"\\u043d\\u0430\\u0434\\u0451\\u0436\\u043d\\u044b\\u0439\", \"\\u043d\\u0430\\u0434\\u0451\\u0436\\u043d\\u044b\\u0439\", \"\\u043d\\u0430\\u0434\\u0451\\u0436\\u043d\\u044b\\u0439\", \"\\u043d\\u0430\\u043f\\u0440\\u0430\\u0432\\u043b\\u0435\\u043d\\u0438\\u0435\", \"\\u043d\\u0430\\u043f\\u0440\\u0430\\u0432\\u043b\\u0435\\u043d\\u0438\\u0435\", \"\\u043d\\u0430\\u043f\\u0440\\u0430\\u0432\\u043b\\u0435\\u043d\\u0438\\u0435\", \"\\u043d\\u0430\\u043f\\u0440\\u0430\\u0432\\u043b\\u0435\\u043d\\u0438\\u0435\", \"\\u043d\\u0430\\u043f\\u0440\\u0430\\u0432\\u043b\\u0435\\u043d\\u0438\\u0435\", \"\\u043d\\u0430\\u043f\\u0440\\u0430\\u0432\\u043b\\u0435\\u043d\\u0438\\u0435\", \"\\u043d\\u0430\\u043f\\u0440\\u0430\\u0432\\u043b\\u0435\\u043d\\u0438\\u0435\", \"\\u043d\\u0430\\u0440\\u043e\\u0434\", \"\\u043d\\u0430\\u0440\\u043e\\u0434\", \"\\u043d\\u0430\\u0440\\u043e\\u0434\", \"\\u043d\\u0430\\u0440\\u043e\\u0434\", \"\\u043d\\u0430\\u0440\\u0443\\u0448\\u0435\\u043d\\u0438\\u0435\", \"\\u043d\\u0430\\u0440\\u0443\\u0448\\u0435\\u043d\\u0438\\u0435\", \"\\u043d\\u0430\\u0441\\u043b\\u0435\\u0434\\u0438\\u0435\", \"\\u043d\\u0430\\u0441\\u043b\\u0435\\u0434\\u0438\\u0435\", \"\\u043d\\u0430\\u0443\\u043a\\u0430\", \"\\u043d\\u0430\\u0443\\u043a\\u0430\", \"\\u043d\\u0430\\u0443\\u043a\\u0430\", \"\\u043d\\u0430\\u0443\\u0447\\u043d\\u043e\", \"\\u043d\\u0430\\u0443\\u0447\\u043d\\u043e\", \"\\u043d\\u0430\\u0443\\u0447\\u043d\\u044b\\u0439\", \"\\u043d\\u0430\\u0446\\u0438\\u044f\", \"\\u043d\\u0430\\u0446\\u0438\\u044f\", \"\\u043d\\u0430\\u0446\\u0438\\u044f\", \"\\u043d\\u0435\\u043e\\u0431\\u0445\\u043e\\u0434\\u0438\\u043c\\u044b\\u0439\", \"\\u043d\\u0435\\u043e\\u0431\\u0445\\u043e\\u0434\\u0438\\u043c\\u044b\\u0439\", \"\\u043d\\u0435\\u043e\\u0431\\u0445\\u043e\\u0434\\u0438\\u043c\\u044b\\u0439\", \"\\u043d\\u0435\\u043e\\u0431\\u0445\\u043e\\u0434\\u0438\\u043c\\u044b\\u0439\", \"\\u043d\\u0435\\u043e\\u0431\\u0445\\u043e\\u0434\\u0438\\u043c\\u044b\\u0439\", \"\\u043d\\u0435\\u043e\\u0431\\u0445\\u043e\\u0434\\u0438\\u043c\\u044b\\u0439\", \"\\u043d\\u0435\\u0444\\u0442\\u044c\", \"\\u043d\\u0435\\u0444\\u0442\\u044c\", \"\\u043d\\u0440\\u0430\\u0432\\u0441\\u0442\\u0432\\u0435\\u043d\\u043d\\u044b\\u0439\", \"\\u043e\\u0431\\u0435\\u0441\\u043f\\u0435\\u0447\\u0435\\u043d\\u0438\\u0435\", \"\\u043e\\u0431\\u0435\\u0441\\u043f\\u0435\\u0447\\u0435\\u043d\\u0438\\u0435\", \"\\u043e\\u0431\\u0435\\u0441\\u043f\\u0435\\u0447\\u0435\\u043d\\u0438\\u0435\", \"\\u043e\\u0431\\u0435\\u0441\\u043f\\u0435\\u0447\\u0435\\u043d\\u0438\\u0435\", \"\\u043e\\u0431\\u0435\\u0441\\u043f\\u0435\\u0447\\u0435\\u043d\\u0438\\u0435_\\u0431\\u0435\\u0437\\u043e\\u043f\\u0430\\u0441\\u043d\\u043e\\u0441\\u0442\\u044c\", \"\\u043e\\u0431\\u0435\\u0441\\u043f\\u0435\\u0447\\u0435\\u043d\\u0438\\u0435_\\u0431\\u0435\\u0437\\u043e\\u043f\\u0430\\u0441\\u043d\\u043e\\u0441\\u0442\\u044c\", \"\\u043e\\u0431\\u043b\\u0430\\u0441\\u0442\\u044c\", \"\\u043e\\u0431\\u043b\\u0430\\u0441\\u0442\\u044c\", \"\\u043e\\u0431\\u043b\\u0430\\u0441\\u0442\\u044c\", \"\\u043e\\u0431\\u043b\\u0430\\u0441\\u0442\\u044c\", \"\\u043e\\u0431\\u043b\\u0430\\u0441\\u0442\\u044c\", \"\\u043e\\u0431\\u043b\\u0430\\u0441\\u0442\\u044c\", \"\\u043e\\u0431\\u043c\\u0435\\u043d\", \"\\u043e\\u0431\\u043c\\u0435\\u043d\", \"\\u043e\\u0431\\u043c\\u0435\\u043d\", \"\\u043e\\u0431\\u043e\\u0440\\u043e\\u043d\\u0430\", \"\\u043e\\u0431\\u043e\\u0440\\u043e\\u043d\\u0430\", \"\\u043e\\u0431\\u043e\\u0440\\u043e\\u043d\\u0430\", \"\\u043e\\u0431\\u043e\\u0440\\u043e\\u043d\\u0430\", \"\\u043e\\u0431\\u043e\\u0440\\u0443\\u0434\\u043e\\u0432\\u0430\\u043d\\u0438\\u0435\", \"\\u043e\\u0431\\u043e\\u0440\\u0443\\u0434\\u043e\\u0432\\u0430\\u043d\\u0438\\u0435\", \"\\u043e\\u0431\\u0440\\u0430\\u0437\\u043e\\u0432\\u0430\\u043d\\u0438\\u0435\", \"\\u043e\\u0431\\u0440\\u0430\\u0437\\u043e\\u0432\\u0430\\u043d\\u0438\\u0435\", \"\\u043e\\u0431\\u0440\\u0430\\u0437\\u043e\\u0432\\u0430\\u043d\\u0438\\u0435\", \"\\u043e\\u0431\\u0440\\u0430\\u0437\\u043e\\u0432\\u0430\\u0442\\u0435\\u043b\\u044c\\u043d\\u044b\\u0439\", \"\\u043e\\u0431\\u0440\\u0430\\u0437\\u043e\\u0432\\u0430\\u0442\\u0435\\u043b\\u044c\\u043d\\u044b\\u0439\", \"\\u043e\\u0431\\u0440\\u0430\\u0437\\u043e\\u0432\\u0430\\u0442\\u0435\\u043b\\u044c\\u043d\\u044b\\u0439\", \"\\u043e\\u0431\\u0440\\u0430\\u0449\\u0430\\u0442\\u044c\", \"\\u043e\\u0431\\u0440\\u0430\\u0449\\u0430\\u0442\\u044c\", \"\\u043e\\u0431\\u0440\\u0430\\u0449\\u0430\\u0442\\u044c\", \"\\u043e\\u0431\\u0449\\u0435\\u0441\\u0442\\u0432\\u0435\\u043d\\u043d\\u044b\\u0439\", \"\\u043e\\u0431\\u0449\\u0435\\u0441\\u0442\\u0432\\u0435\\u043d\\u043d\\u044b\\u0439\", \"\\u043e\\u0431\\u0449\\u0435\\u0441\\u0442\\u0432\\u0435\\u043d\\u043d\\u044b\\u0439\", \"\\u043e\\u0431\\u0449\\u0435\\u0441\\u0442\\u0432\\u043e\", \"\\u043e\\u0431\\u0449\\u0435\\u0441\\u0442\\u0432\\u043e\", \"\\u043e\\u0431\\u0449\\u0435\\u0441\\u0442\\u0432\\u043e\", \"\\u043e\\u0431\\u0449\\u0435\\u0441\\u0442\\u0432\\u043e\", \"\\u043e\\u0431\\u0449\\u0438\\u0439\", \"\\u043e\\u0431\\u0449\\u0438\\u0439\", \"\\u043e\\u0431\\u0449\\u0438\\u0439\", \"\\u043e\\u0431\\u0449\\u0438\\u0439\", \"\\u043e\\u0431\\u0449\\u0438\\u0439\", \"\\u043e\\u0431\\u0449\\u0438\\u0439\", \"\\u043e\\u0431\\u0449\\u0438\\u0439\", \"\\u043e\\u0431\\u044a\\u0451\\u043c\", \"\\u043e\\u0431\\u044a\\u0451\\u043c\", \"\\u043e\\u0433\\u0440\\u043e\\u043c\\u043d\\u044b\\u0439\", \"\\u043e\\u0433\\u0440\\u043e\\u043c\\u043d\\u044b\\u0439\", \"\\u043e\\u0433\\u0440\\u043e\\u043c\\u043d\\u044b\\u0439\", \"\\u043e\\u0433\\u0440\\u043e\\u043c\\u043d\\u044b\\u0439\", \"\\u043e\\u0433\\u0440\\u043e\\u043c\\u043d\\u044b\\u0439\", \"\\u043e\\u0433\\u0440\\u043e\\u043c\\u043d\\u044b\\u0439\", \"\\u043e\\u0433\\u0440\\u043e\\u043c\\u043d\\u044b\\u0439\", \"\\u043e\\u0433\\u0440\\u043e\\u043c\\u043d\\u044b\\u0439\", \"\\u043e\\u043b\\u0438\\u043c\\u043f\\u0438\\u0439\\u0441\\u043a\\u0438\\u0439\", \"\\u043e\\u043e\\u043d\", \"\\u043e\\u043e\\u043d\", \"\\u043e\\u043e\\u043d\", \"\\u043e\\u043f\\u0435\\u0440\\u0430\\u0446\\u0438\\u044f\", \"\\u043e\\u043f\\u0435\\u0440\\u0430\\u0446\\u0438\\u044f\", \"\\u043e\\u043f\\u0435\\u0440\\u0430\\u0446\\u0438\\u044f\", \"\\u043e\\u0440\\u0433\\u0430\\u043d\", \"\\u043e\\u0440\\u0433\\u0430\\u043d\", \"\\u043e\\u0440\\u0433\\u0430\\u043d\\u0438\\u0437\\u0430\\u0446\\u0438\\u044f\", \"\\u043e\\u0440\\u0433\\u0430\\u043d\\u0438\\u0437\\u0430\\u0446\\u0438\\u044f\", \"\\u043e\\u0440\\u0433\\u0430\\u043d\\u0438\\u0437\\u0430\\u0446\\u0438\\u044f\", \"\\u043e\\u0440\\u0433\\u0430\\u043d\\u0438\\u0437\\u0430\\u0446\\u0438\\u044f\", \"\\u043e\\u0440\\u0433\\u0430\\u043d\\u0438\\u0437\\u0430\\u0446\\u0438\\u044f\", \"\\u043e\\u0440\\u0443\\u0436\\u0438\\u0435\", \"\\u043e\\u0440\\u0443\\u0436\\u0438\\u0435\", \"\\u043e\\u0441\\u0432\\u043e\\u0435\\u043d\\u0438\\u0435\", \"\\u043e\\u0441\\u0432\\u043e\\u0435\\u043d\\u0438\\u0435\", \"\\u043e\\u0441\\u0432\\u043e\\u0435\\u043d\\u0438\\u0435\", \"\\u043e\\u0441\\u0432\\u043e\\u0435\\u043d\\u0438\\u0435\", \"\\u043e\\u0441\\u043e\\u0431\\u044b\\u0439_\\u0432\\u043d\\u0438\\u043c\\u0430\\u043d\\u0438\\u0435\", \"\\u043e\\u0442\\u0435\\u0447\\u0435\\u0441\\u0442\\u0432\\u0435\\u043d\\u043d\\u044b\\u0439\", \"\\u043e\\u0442\\u0435\\u0447\\u0435\\u0441\\u0442\\u0432\\u0435\\u043d\\u043d\\u044b\\u0439\", \"\\u043e\\u0442\\u0435\\u0447\\u0435\\u0441\\u0442\\u0432\\u0435\\u043d\\u043d\\u044b\\u0439\", \"\\u043e\\u0442\\u0435\\u0447\\u0435\\u0441\\u0442\\u0432\\u0435\\u043d\\u043d\\u044b\\u0439\", \"\\u043e\\u0442\\u0435\\u0447\\u0435\\u0441\\u0442\\u0432\\u043e\", \"\\u043e\\u0442\\u0435\\u0447\\u0435\\u0441\\u0442\\u0432\\u043e\", \"\\u043e\\u0442\\u0435\\u0447\\u0435\\u0441\\u0442\\u0432\\u043e\", \"\\u043e\\u0442\\u043d\\u043e\\u0448\\u0435\\u043d\\u0438\\u0435\", \"\\u043e\\u0442\\u043d\\u043e\\u0448\\u0435\\u043d\\u0438\\u0435\", \"\\u043e\\u0442\\u043d\\u043e\\u0448\\u0435\\u043d\\u0438\\u0435\", \"\\u043e\\u0442\\u043d\\u043e\\u0448\\u0435\\u043d\\u0438\\u0435\", \"\\u043e\\u0442\\u043d\\u043e\\u0448\\u0435\\u043d\\u0438\\u0435\", \"\\u043e\\u0442\\u0440\\u0430\\u0441\\u043b\\u044c\", \"\\u043e\\u0442\\u0440\\u0430\\u0441\\u043b\\u044c\", \"\\u043e\\u0442\\u0440\\u0430\\u0441\\u043b\\u044c\", \"\\u043e\\u0444\\u0438\\u0446\\u0435\\u0440\", \"\\u043e\\u0444\\u0438\\u0446\\u0435\\u0440\", \"\\u043f\\u0430\\u043b\\u0430\\u0442\\u0430\", \"\\u043f\\u0430\\u043c\\u044f\\u0442\\u044c\", \"\\u043f\\u0430\\u043c\\u044f\\u0442\\u044c\", \"\\u043f\\u0430\\u0440\\u0442\\u0438\\u044f\", \"\\u043f\\u0430\\u0440\\u0442\\u0438\\u044f\", \"\\u043f\\u0430\\u0440\\u0442\\u043d\\u0451\\u0440\", \"\\u043f\\u0430\\u0440\\u0442\\u043d\\u0451\\u0440\", \"\\u043f\\u0430\\u0440\\u0442\\u043d\\u0451\\u0440\", \"\\u043f\\u0430\\u0440\\u0442\\u043d\\u0451\\u0440\", \"\\u043f\\u0430\\u0440\\u0442\\u043d\\u0451\\u0440\", \"\\u043f\\u0430\\u0440\\u0442\\u043d\\u0451\\u0440\\u0441\\u0442\\u0432\\u043e\", \"\\u043f\\u0430\\u0440\\u0442\\u043d\\u0451\\u0440\\u0441\\u0442\\u0432\\u043e\", \"\\u043f\\u0430\\u0440\\u0442\\u043d\\u0451\\u0440\\u0441\\u0442\\u0432\\u043e\", \"\\u043f\\u0430\\u0440\\u0442\\u043d\\u0451\\u0440\\u0441\\u0442\\u0432\\u043e\", \"\\u043f\\u0435\\u0440\\u0432\\u044b\\u0439\", \"\\u043f\\u0435\\u0440\\u0432\\u044b\\u0439\", \"\\u043f\\u0435\\u0440\\u0432\\u044b\\u0439\", \"\\u043f\\u0435\\u0440\\u0432\\u044b\\u0439\", \"\\u043f\\u0435\\u0440\\u0432\\u044b\\u0439\", \"\\u043f\\u0435\\u0440\\u0432\\u044b\\u0439\", \"\\u043f\\u0435\\u0440\\u0432\\u044b\\u0439\", \"\\u043f\\u0435\\u0440\\u0432\\u044b\\u0439\", \"\\u043f\\u0435\\u0440\\u0435\\u0433\\u043e\\u0432\\u043e\\u0440\\u044b\", \"\\u043f\\u0435\\u0440\\u0435\\u0433\\u043e\\u0432\\u043e\\u0440\\u044b\", \"\\u043f\\u0435\\u0440\\u0435\\u0434\\u043e\\u0432\\u043e\\u0439\", \"\\u043f\\u0435\\u0440\\u0435\\u0434\\u043e\\u0432\\u043e\\u0439\", \"\\u043f\\u0435\\u0440\\u0435\\u0434\\u043e\\u0432\\u043e\\u0439\", \"\\u043f\\u0435\\u0442\\u0435\\u0440\\u0431\\u0443\\u0440\\u0433\", \"\\u043f\\u043e\\u0431\\u0435\\u0434\\u0430\", \"\\u043f\\u043e\\u0431\\u0435\\u0434\\u0430\", \"\\u043f\\u043e\\u0431\\u043b\\u0430\\u0433\\u043e\\u0434\\u0430\\u0440\\u0438\\u0442\\u044c\", \"\\u043f\\u043e\\u0431\\u043b\\u0430\\u0433\\u043e\\u0434\\u0430\\u0440\\u0438\\u0442\\u044c\", \"\\u043f\\u043e\\u0431\\u043b\\u0430\\u0433\\u043e\\u0434\\u0430\\u0440\\u0438\\u0442\\u044c\", \"\\u043f\\u043e\\u0431\\u043b\\u0430\\u0433\\u043e\\u0434\\u0430\\u0440\\u0438\\u0442\\u044c\", \"\\u043f\\u043e\\u0432\\u043e\\u0434\", \"\\u043f\\u043e\\u0432\\u043e\\u0434\", \"\\u043f\\u043e\\u0433\\u043e\\u0432\\u043e\\u0440\\u0438\\u0442\\u044c\", \"\\u043f\\u043e\\u0434\\u0432\\u0438\\u0433\", \"\\u043f\\u043e\\u0434\\u0434\\u0435\\u0440\\u0436\\u043a\\u0430\", \"\\u043f\\u043e\\u0434\\u0434\\u0435\\u0440\\u0436\\u043a\\u0430\", \"\\u043f\\u043e\\u0434\\u0434\\u0435\\u0440\\u0436\\u043a\\u0430\", \"\\u043f\\u043e\\u0434\\u0434\\u0435\\u0440\\u0436\\u043a\\u0430\", \"\\u043f\\u043e\\u0434\\u0434\\u0435\\u0440\\u0436\\u043a\\u0430\", \"\\u043f\\u043e\\u0434\\u0434\\u0435\\u0440\\u0436\\u043a\\u0430\", \"\\u043f\\u043e\\u0434\\u043f\\u0438\\u0441\\u0430\\u0442\\u044c\", \"\\u043f\\u043e\\u0434\\u043f\\u0438\\u0441\\u0430\\u0442\\u044c\", \"\\u043f\\u043e\\u0434\\u043f\\u0438\\u0441\\u0430\\u0442\\u044c\", \"\\u043f\\u043e\\u0434\\u043f\\u0438\\u0441\\u0430\\u0442\\u044c\", \"\\u043f\\u043e\\u0436\\u0435\\u043b\\u0430\\u0442\\u044c\", \"\\u043f\\u043e\\u0437\\u0434\\u0440\\u0430\\u0432\\u0438\\u0442\\u044c\", \"\\u043f\\u043e\\u0437\\u0434\\u0440\\u0430\\u0432\\u043b\\u044f\\u0442\\u044c\", \"\\u043f\\u043e\\u0437\\u0434\\u0440\\u0430\\u0432\\u043b\\u044f\\u0442\\u044c\", \"\\u043f\\u043e\\u0437\\u0434\\u0440\\u0430\\u0432\\u043b\\u044f\\u0442\\u044c\", \"\\u043f\\u043e\\u043a\\u0430\\u0437\\u0430\\u0442\\u0435\\u043b\\u044c\", \"\\u043f\\u043e\\u043a\\u0430\\u0437\\u0430\\u0442\\u0435\\u043b\\u044c\", \"\\u043f\\u043e\\u043a\\u0430\\u0437\\u0430\\u0442\\u0435\\u043b\\u044c\", \"\\u043f\\u043e\\u043a\\u043e\\u043b\\u0435\\u043d\\u0438\\u0435\", \"\\u043f\\u043e\\u043a\\u043e\\u043b\\u0435\\u043d\\u0438\\u0435\", \"\\u043f\\u043e\\u043a\\u043e\\u043b\\u0435\\u043d\\u0438\\u0435\", \"\\u043f\\u043e\\u043b\\u0438\\u0442\\u0438\\u043a\\u0430\", \"\\u043f\\u043e\\u043b\\u0438\\u0442\\u0438\\u043a\\u0430\", \"\\u043f\\u043e\\u043b\\u0438\\u0442\\u0438\\u043a\\u0430\", \"\\u043f\\u043e\\u043b\\u0438\\u0442\\u0438\\u043a\\u0430\", \"\\u043f\\u043e\\u043b\\u0438\\u0442\\u0438\\u043a\\u0430\", \"\\u043f\\u043e\\u043b\\u0438\\u0442\\u0438\\u043a\\u0430\", \"\\u043f\\u043e\\u043b\\u0438\\u0442\\u0438\\u0447\\u0435\\u0441\\u043a\\u0438\\u0439\", \"\\u043f\\u043e\\u043b\\u0438\\u0442\\u0438\\u0447\\u0435\\u0441\\u043a\\u0438\\u0439\", \"\\u043f\\u043e\\u043b\\u0438\\u0442\\u0438\\u0447\\u0435\\u0441\\u043a\\u0438\\u0439\", \"\\u043f\\u043e\\u043b\\u0438\\u0442\\u0438\\u0447\\u0435\\u0441\\u043a\\u0438\\u0439\", \"\\u043f\\u043e\\u043b\\u0443\\u0447\\u0438\\u0442\\u044c\\u0441\\u044f\", \"\\u043f\\u043e\\u043d\\u044f\\u0442\\u044c\", \"\\u043f\\u043e\\u043d\\u044f\\u0442\\u044c\", \"\\u043f\\u043e\\u043f\\u044b\\u0442\\u043a\\u0430\", \"\\u043f\\u043e\\u043f\\u044b\\u0442\\u043a\\u0430\", \"\\u043f\\u043e\\u043f\\u044b\\u0442\\u043a\\u0430\", \"\\u043f\\u043e\\u043f\\u044b\\u0442\\u043a\\u0430\", \"\\u043f\\u043e\\u0440\\u0443\\u0447\\u0435\\u043d\\u0438\\u0435\", \"\\u043f\\u043e\\u0440\\u0443\\u0447\\u0435\\u043d\\u0438\\u0435\", \"\\u043f\\u043e\\u0440\\u0443\\u0447\\u0435\\u043d\\u0438\\u0435\", \"\\u043f\\u043e\\u0441\\u043b\\u0435\\u0434\\u043d\\u0438\\u0439\", \"\\u043f\\u043e\\u0441\\u043b\\u0435\\u0434\\u043d\\u0438\\u0439\", \"\\u043f\\u043e\\u0441\\u043b\\u0435\\u0434\\u043d\\u0438\\u0439\", \"\\u043f\\u043e\\u0441\\u043b\\u0435\\u0434\\u043d\\u0438\\u0439\", \"\\u043f\\u043e\\u0441\\u043b\\u0435\\u0434\\u043d\\u0438\\u0439\", \"\\u043f\\u043e\\u0441\\u043b\\u0435\\u0434\\u043d\\u0438\\u0439\", \"\\u043f\\u043e\\u0441\\u043b\\u0435\\u0434\\u043d\\u0438\\u0439\", \"\\u043f\\u043e\\u0441\\u043b\\u0435\\u0434\\u043d\\u0438\\u0439\", \"\\u043f\\u043e\\u0441\\u043c\\u043e\\u0442\\u0440\\u0435\\u0442\\u044c\", \"\\u043f\\u043e\\u0441\\u043c\\u043e\\u0442\\u0440\\u0435\\u0442\\u044c\", \"\\u043f\\u043e\\u0441\\u0442\\u0430\\u0432\\u0438\\u0442\\u044c\", \"\\u043f\\u043e\\u0441\\u0442\\u0430\\u0432\\u0438\\u0442\\u044c\", \"\\u043f\\u043e\\u0441\\u0442\\u0430\\u0432\\u0438\\u0442\\u044c\", \"\\u043f\\u043e\\u0441\\u0442\\u0430\\u0432\\u0438\\u0442\\u044c\", \"\\u043f\\u043e\\u0441\\u0442\\u0430\\u0432\\u0438\\u0442\\u044c\", \"\\u043f\\u043e\\u0441\\u0442\\u0430\\u0432\\u0438\\u0442\\u044c\", \"\\u043f\\u043e\\u0441\\u0442\\u0430\\u0432\\u043a\\u0430\", \"\\u043f\\u043e\\u0441\\u0442\\u0430\\u0432\\u043a\\u0430\", \"\\u043f\\u043e\\u0441\\u0442\\u0430\\u0432\\u043a\\u0430\", \"\\u043f\\u043e\\u0442\\u043e\\u043a\", \"\\u043f\\u043e\\u0442\\u043e\\u043a\", \"\\u043f\\u043e\\u0442\\u043e\\u043a\", \"\\u043f\\u0440\\u0430\\u0432\\u0438\\u043b\\u044c\\u043d\\u044b\\u0439\", \"\\u043f\\u0440\\u0430\\u0432\\u0438\\u043b\\u044c\\u043d\\u044b\\u0439\", \"\\u043f\\u0440\\u0430\\u0432\\u0438\\u043b\\u044c\\u043d\\u044b\\u0439\", \"\\u043f\\u0440\\u0430\\u0432\\u0438\\u0442\\u0435\\u043b\\u044c\\u0441\\u0442\\u0432\\u043e\", \"\\u043f\\u0440\\u0430\\u0432\\u0438\\u0442\\u0435\\u043b\\u044c\\u0441\\u0442\\u0432\\u043e\", \"\\u043f\\u0440\\u0430\\u0432\\u0438\\u0442\\u0435\\u043b\\u044c\\u0441\\u0442\\u0432\\u043e\", \"\\u043f\\u0440\\u0430\\u0432\\u0438\\u0442\\u0435\\u043b\\u044c\\u0441\\u0442\\u0432\\u043e\", \"\\u043f\\u0440\\u0430\\u0432\\u0438\\u0442\\u0435\\u043b\\u044c\\u0441\\u0442\\u0432\\u043e\", \"\\u043f\\u0440\\u0430\\u0432\\u043e\", \"\\u043f\\u0440\\u0430\\u0432\\u043e\", \"\\u043f\\u0440\\u0430\\u0432\\u043e\", \"\\u043f\\u0440\\u0430\\u0432\\u043e\\u043e\\u0445\\u0440\\u0430\\u043d\\u0438\\u0442\\u0435\\u043b\\u044c\\u043d\\u044b\\u0439\", \"\\u043f\\u0440\\u0430\\u0432\\u043e\\u043e\\u0445\\u0440\\u0430\\u043d\\u0438\\u0442\\u0435\\u043b\\u044c\\u043d\\u044b\\u0439\", \"\\u043f\\u0440\\u0430\\u0437\\u0434\\u043d\\u0438\\u043a\", \"\\u043f\\u0440\\u0430\\u0437\\u0434\\u043d\\u0438\\u043a\", \"\\u043f\\u0440\\u0435\\u0434\\u043f\\u0440\\u0438\\u044f\\u0442\\u0438\\u0435\", \"\\u043f\\u0440\\u0435\\u0434\\u043f\\u0440\\u0438\\u044f\\u0442\\u0438\\u0435\", \"\\u043f\\u0440\\u0435\\u0434\\u043f\\u0440\\u0438\\u044f\\u0442\\u0438\\u0435\", \"\\u043f\\u0440\\u0435\\u0434\\u0443\\u0441\\u043c\\u043e\\u0442\\u0440\\u0435\\u0442\\u044c\", \"\\u043f\\u0440\\u0435\\u0434\\u0443\\u0441\\u043c\\u043e\\u0442\\u0440\\u0435\\u0442\\u044c\", \"\\u043f\\u0440\\u0435\\u043c\\u0438\\u044f\", \"\\u043f\\u0440\\u0435\\u043c\\u0438\\u044f\", \"\\u043f\\u0440\\u0435\\u043c\\u044c\\u0435\\u0440\", \"\\u043f\\u0440\\u0435\\u043c\\u044c\\u0435\\u0440\", \"\\u043f\\u0440\\u0435\\u043c\\u044c\\u0435\\u0440_\\u043c\\u0438\\u043d\\u0438\\u0441\\u0442\\u0440\", \"\\u043f\\u0440\\u0435\\u0441\\u0442\\u0443\\u043f\\u043b\\u0435\\u043d\\u0438\\u0435\", \"\\u043f\\u0440\\u0435\\u0441\\u0442\\u0443\\u043f\\u043b\\u0435\\u043d\\u0438\\u0435\", \"\\u043f\\u0440\\u0438\\u0439\\u0442\\u0438\", \"\\u043f\\u0440\\u0438\\u0439\\u0442\\u0438\", \"\\u043f\\u0440\\u0438\\u0439\\u0442\\u0438\", \"\\u043f\\u0440\\u0438\\u0439\\u0442\\u0438\", \"\\u043f\\u0440\\u0438\\u043d\\u0438\\u043c\\u0430\\u0442\\u044c_\\u0443\\u0447\\u0430\\u0441\\u0442\\u0438\\u0435\", \"\\u043f\\u0440\\u0438\\u043d\\u0438\\u043c\\u0430\\u0442\\u044c_\\u0443\\u0447\\u0430\\u0441\\u0442\\u0438\\u0435\", \"\\u043f\\u0440\\u0438\\u043d\\u0446\\u0438\\u043f\", \"\\u043f\\u0440\\u0438\\u043d\\u0446\\u0438\\u043f\", \"\\u043f\\u0440\\u0438\\u043d\\u0446\\u0438\\u043f\", \"\\u043f\\u0440\\u0438\\u043d\\u0446\\u0438\\u043f\", \"\\u043f\\u0440\\u0438\\u043d\\u0446\\u0438\\u043f\", \"\\u043f\\u0440\\u0438\\u043d\\u044f\\u0442\\u0438\\u0435\", \"\\u043f\\u0440\\u0438\\u043d\\u044f\\u0442\\u0438\\u0435\", \"\\u043f\\u0440\\u0438\\u043d\\u044f\\u0442\\u0438\\u0435\", \"\\u043f\\u0440\\u0438\\u043d\\u044f\\u0442\\u0438\\u0435\", \"\\u043f\\u0440\\u0438\\u043d\\u044f\\u0442\\u044c\", \"\\u043f\\u0440\\u0438\\u043d\\u044f\\u0442\\u044c\", \"\\u043f\\u0440\\u0438\\u043d\\u044f\\u0442\\u044c\", \"\\u043f\\u0440\\u0438\\u043d\\u044f\\u0442\\u044c\", \"\\u043f\\u0440\\u0438\\u043d\\u044f\\u0442\\u044c\", \"\\u043f\\u0440\\u0438\\u043d\\u044f\\u0442\\u044c_\\u0440\\u0435\\u0448\\u0435\\u043d\\u0438\\u0435\", \"\\u043f\\u0440\\u0438\\u043d\\u044f\\u0442\\u044c_\\u0440\\u0435\\u0448\\u0435\\u043d\\u0438\\u0435\", \"\\u043f\\u0440\\u0438\\u0440\\u043e\\u0434\\u043d\\u044b\\u0439\", \"\\u043f\\u0440\\u0438\\u0440\\u043e\\u0434\\u043d\\u044b\\u0439\", \"\\u043f\\u0440\\u0438\\u0440\\u043e\\u0434\\u043d\\u044b\\u0439\", \"\\u043f\\u0440\\u0438\\u0440\\u043e\\u0434\\u043d\\u044b\\u0439\", \"\\u043f\\u0440\\u0438\\u0440\\u043e\\u0434\\u043d\\u044b\\u0439\", \"\\u043f\\u0440\\u0438\\u0445\\u043e\\u0434\\u0438\\u0442\\u044c\", \"\\u043f\\u0440\\u0438\\u0445\\u043e\\u0434\\u0438\\u0442\\u044c\", \"\\u043f\\u0440\\u0438\\u0445\\u043e\\u0434\\u0438\\u0442\\u044c\", \"\\u043f\\u0440\\u043e\\u0431\\u043b\\u0435\\u043c\\u0430\", \"\\u043f\\u0440\\u043e\\u0431\\u043b\\u0435\\u043c\\u0430\", \"\\u043f\\u0440\\u043e\\u0431\\u043b\\u0435\\u043c\\u0430\", \"\\u043f\\u0440\\u043e\\u0431\\u043b\\u0435\\u043c\\u0430\", \"\\u043f\\u0440\\u043e\\u0431\\u043b\\u0435\\u043c\\u0430\", \"\\u043f\\u0440\\u043e\\u0433\\u0440\\u0430\\u043c\\u043c\\u0430\", \"\\u043f\\u0440\\u043e\\u0433\\u0440\\u0430\\u043c\\u043c\\u0430\", \"\\u043f\\u0440\\u043e\\u0433\\u0440\\u0430\\u043c\\u043c\\u0430\", \"\\u043f\\u0440\\u043e\\u0433\\u0440\\u0430\\u043c\\u043c\\u0430\", \"\\u043f\\u0440\\u043e\\u0433\\u0440\\u0430\\u043c\\u043c\\u0430\", \"\\u043f\\u0440\\u043e\\u0433\\u0440\\u0430\\u043c\\u043c\\u0430\", \"\\u043f\\u0440\\u043e\\u0434\\u0432\\u0438\\u0436\\u0435\\u043d\\u0438\\u0435\", \"\\u043f\\u0440\\u043e\\u0434\\u0432\\u0438\\u0436\\u0435\\u043d\\u0438\\u0435\", \"\\u043f\\u0440\\u043e\\u0434\\u0432\\u0438\\u0436\\u0435\\u043d\\u0438\\u0435\", \"\\u043f\\u0440\\u043e\\u0434\\u0432\\u0438\\u0436\\u0435\\u043d\\u0438\\u0435\", \"\\u043f\\u0440\\u043e\\u0434\\u0443\\u043a\\u0442\", \"\\u043f\\u0440\\u043e\\u0434\\u0443\\u043a\\u0442\", \"\\u043f\\u0440\\u043e\\u0434\\u0443\\u043a\\u0446\\u0438\\u044f\", \"\\u043f\\u0440\\u043e\\u0434\\u0443\\u043a\\u0446\\u0438\\u044f\", \"\\u043f\\u0440\\u043e\\u0435\\u043a\\u0442\", \"\\u043f\\u0440\\u043e\\u0435\\u043a\\u0442\", \"\\u043f\\u0440\\u043e\\u0435\\u043a\\u0442\", \"\\u043f\\u0440\\u043e\\u0435\\u043a\\u0442\", \"\\u043f\\u0440\\u043e\\u0435\\u043a\\u0442\", \"\\u043f\\u0440\\u043e\\u0435\\u043a\\u0442\", \"\\u043f\\u0440\\u043e\\u0438\\u0437\\u0432\\u043e\\u0434\\u0441\\u0442\\u0432\\u043e\", \"\\u043f\\u0440\\u043e\\u0438\\u0437\\u0432\\u043e\\u0434\\u0441\\u0442\\u0432\\u043e\", \"\\u043f\\u0440\\u043e\\u0438\\u0437\\u043e\\u0439\\u0442\\u0438\", \"\\u043f\\u0440\\u043e\\u0438\\u0437\\u043e\\u0439\\u0442\\u0438\", \"\\u043f\\u0440\\u043e\\u0438\\u0437\\u043e\\u0439\\u0442\\u0438\", \"\\u043f\\u0440\\u043e\\u0438\\u0441\\u0445\\u043e\\u0434\\u0438\\u0442\\u044c\", \"\\u043f\\u0440\\u043e\\u0438\\u0441\\u0445\\u043e\\u0434\\u0438\\u0442\\u044c\", \"\\u043f\\u0440\\u043e\\u0438\\u0441\\u0445\\u043e\\u0434\\u0438\\u0442\\u044c\", \"\\u043f\\u0440\\u043e\\u043a\\u0443\\u0440\\u043e\\u0440\", \"\\u043f\\u0440\\u043e\\u0441\\u0438\\u0442\\u044c\", \"\\u043f\\u0440\\u043e\\u0441\\u0438\\u0442\\u044c\", \"\\u043f\\u0440\\u043e\\u0441\\u0438\\u0442\\u044c\", \"\\u043f\\u0440\\u043e\\u0442\\u0438\\u0432\", \"\\u043f\\u0440\\u043e\\u0442\\u0438\\u0432\", \"\\u043f\\u0440\\u043e\\u0442\\u0438\\u0432\", \"\\u043f\\u0440\\u043e\\u0446\\u0435\\u0434\\u0443\\u0440\\u0430\", \"\\u043f\\u0440\\u043e\\u0446\\u0435\\u0434\\u0443\\u0440\\u0430\", \"\\u043f\\u0443\\u0442\\u044c\", \"\\u043f\\u0443\\u0442\\u044c\", \"\\u043f\\u0443\\u0442\\u044c\", \"\\u043f\\u0443\\u0442\\u044c\", \"\\u043f\\u0443\\u0442\\u044c\", \"\\u043f\\u0443\\u0442\\u044c\", \"\\u0440\\u0430\\u0431\\u043e\\u0442\\u0430\\u0442\\u044c\", \"\\u0440\\u0430\\u0431\\u043e\\u0442\\u0430\\u0442\\u044c\", \"\\u0440\\u0430\\u0431\\u043e\\u0442\\u0430\\u0442\\u044c\", \"\\u0440\\u0430\\u0431\\u043e\\u0442\\u0430\\u0442\\u044c\", \"\\u0440\\u0430\\u0431\\u043e\\u0442\\u0430\\u0442\\u044c\", \"\\u0440\\u0430\\u0431\\u043e\\u0442\\u0430\\u0442\\u044c\", \"\\u0440\\u0430\\u0431\\u043e\\u0442\\u0430\\u0442\\u044c\", \"\\u0440\\u0430\\u0431\\u043e\\u0442\\u0430\\u0442\\u044c\", \"\\u0440\\u0430\\u0431\\u043e\\u0442\\u0430\\u0442\\u044c\", \"\\u0440\\u0430\\u0431\\u043e\\u0447\\u0438\\u0439_\\u043c\\u0435\\u0441\\u0442\\u043e\", \"\\u0440\\u0430\\u0431\\u043e\\u0447\\u0438\\u0439_\\u043c\\u0435\\u0441\\u0442\\u043e\", \"\\u0440\\u0430\\u0434\", \"\\u0440\\u0430\\u0434\", \"\\u0440\\u0430\\u0434\", \"\\u0440\\u0430\\u0434\", \"\\u0440\\u0430\\u0437\\u0440\\u0430\\u0431\\u043e\\u0442\\u043a\\u0430\", \"\\u0440\\u0430\\u0437\\u0440\\u0430\\u0431\\u043e\\u0442\\u043a\\u0430\", \"\\u0440\\u0430\\u0437\\u0440\\u0430\\u0431\\u043e\\u0442\\u043a\\u0430\", \"\\u0440\\u0430\\u0437\\u0440\\u0430\\u0431\\u043e\\u0442\\u043a\\u0430\", \"\\u0440\\u0430\\u0437\\u0440\\u0430\\u0431\\u043e\\u0442\\u043a\\u0430\", \"\\u0440\\u0430\\u043c\\u043a\\u0430\", \"\\u0440\\u0430\\u043c\\u043a\\u0430\", \"\\u0440\\u0430\\u043c\\u043a\\u0430\", \"\\u0440\\u0430\\u043c\\u043a\\u0430\", \"\\u0440\\u0430\\u043c\\u043a\\u0430\", \"\\u0440\\u0430\\u0441\\u0448\\u0438\\u0440\\u0435\\u043d\\u0438\\u0435\", \"\\u0440\\u0430\\u0441\\u0448\\u0438\\u0440\\u0435\\u043d\\u0438\\u0435\", \"\\u0440\\u0430\\u0441\\u0448\\u0438\\u0440\\u0435\\u043d\\u0438\\u0435\", \"\\u0440\\u0430\\u0441\\u0448\\u0438\\u0440\\u0435\\u043d\\u0438\\u0435\", \"\\u0440\\u0430\\u0441\\u0448\\u0438\\u0440\\u0435\\u043d\\u0438\\u0435\", \"\\u0440\\u0435\\u0431\\u0451\\u043d\\u043e\\u043a\", \"\\u0440\\u0435\\u0431\\u0451\\u043d\\u043e\\u043a\", \"\\u0440\\u0435\\u0431\\u0451\\u043d\\u043e\\u043a\", \"\\u0440\\u0435\\u0431\\u0451\\u043d\\u043e\\u043a\", \"\\u0440\\u0435\\u0431\\u0451\\u043d\\u043e\\u043a\", \"\\u0440\\u0435\\u0433\\u0438\\u043e\\u043d\", \"\\u0440\\u0435\\u0433\\u0438\\u043e\\u043d\", \"\\u0440\\u0435\\u0433\\u0438\\u043e\\u043d\", \"\\u0440\\u0435\\u0433\\u0438\\u043e\\u043d\", \"\\u0440\\u0435\\u0433\\u0438\\u043e\\u043d\", \"\\u0440\\u0435\\u0433\\u0438\\u043e\\u043d\", \"\\u0440\\u0435\\u0433\\u0438\\u043e\\u043d\", \"\\u0440\\u0435\\u0433\\u0438\\u043e\\u043d\\u0430\\u043b\\u044c\\u043d\\u044b\\u0439\", \"\\u0440\\u0435\\u0433\\u0438\\u043e\\u043d\\u0430\\u043b\\u044c\\u043d\\u044b\\u0439\", \"\\u0440\\u0435\\u0433\\u0438\\u043e\\u043d\\u0430\\u043b\\u044c\\u043d\\u044b\\u0439\", \"\\u0440\\u0435\\u0433\\u0438\\u043e\\u043d\\u0430\\u043b\\u044c\\u043d\\u044b\\u0439\", \"\\u0440\\u0435\\u0437\\u0443\\u043b\\u044c\\u0442\\u0430\\u0442\", \"\\u0440\\u0435\\u0437\\u0443\\u043b\\u044c\\u0442\\u0430\\u0442\", \"\\u0440\\u0435\\u0437\\u0443\\u043b\\u044c\\u0442\\u0430\\u0442\", \"\\u0440\\u0435\\u0437\\u0443\\u043b\\u044c\\u0442\\u0430\\u0442\", \"\\u0440\\u0435\\u0437\\u0443\\u043b\\u044c\\u0442\\u0430\\u0442\", \"\\u0440\\u0435\\u0437\\u0443\\u043b\\u044c\\u0442\\u0430\\u0442\", \"\\u0440\\u0435\\u0437\\u0443\\u043b\\u044c\\u0442\\u0430\\u0442\", \"\\u0440\\u0435\\u0437\\u0443\\u043b\\u044c\\u0442\\u0430\\u0442\", \"\\u0440\\u0435\\u0441\\u043f\\u0443\\u0431\\u043b\\u0438\\u043a\\u0430\", \"\\u0440\\u0435\\u0441\\u043f\\u0443\\u0431\\u043b\\u0438\\u043a\\u0430\", \"\\u0440\\u0435\\u0441\\u043f\\u0443\\u0431\\u043b\\u0438\\u043a\\u0430\", \"\\u0440\\u0435\\u0441\\u043f\\u0443\\u0431\\u043b\\u0438\\u043a\\u0430\", \"\\u0440\\u0435\\u0441\\u043f\\u0443\\u0431\\u043b\\u0438\\u043a\\u0430\", \"\\u0440\\u0435\\u0441\\u043f\\u0443\\u0431\\u043b\\u0438\\u043a\\u0430\", \"\\u0440\\u0435\\u0448\\u0435\\u043d\\u0438\\u0435\", \"\\u0440\\u0435\\u0448\\u0435\\u043d\\u0438\\u0435\", \"\\u0440\\u0435\\u0448\\u0435\\u043d\\u0438\\u0435\", \"\\u0440\\u0435\\u0448\\u0435\\u043d\\u0438\\u0435\", \"\\u0440\\u0435\\u0448\\u0435\\u043d\\u0438\\u0435\", \"\\u0440\\u043e\\u0434\\u0438\\u043d\\u0430\", \"\\u0440\\u043e\\u0434\\u0438\\u043d\\u0430\", \"\\u0440\\u043e\\u0434\\u0438\\u043d\\u0430\", \"\\u0440\\u043e\\u0434\\u043d\\u044b\\u0439\", \"\\u0440\\u043e\\u0434\\u043d\\u044b\\u0439\", \"\\u0440\\u043e\\u0434\\u043d\\u044b\\u0439\", \"\\u0440\\u043e\\u043b\\u044c\", \"\\u0440\\u043e\\u043b\\u044c\", \"\\u0440\\u043e\\u043b\\u044c\", \"\\u0440\\u043e\\u043b\\u044c\", \"\\u0440\\u043e\\u043b\\u044c\", \"\\u0440\\u043e\\u043b\\u044c\", \"\\u0440\\u043e\\u0441\\u0441\\u0438\\u0439\\u0441\\u043a\\u0438\\u0439\", \"\\u0440\\u043e\\u0441\\u0441\\u0438\\u0439\\u0441\\u043a\\u0438\\u0439\", \"\\u0440\\u043e\\u0441\\u0441\\u0438\\u0439\\u0441\\u043a\\u0438\\u0439\", \"\\u0440\\u043e\\u0441\\u0441\\u0438\\u0439\\u0441\\u043a\\u0438\\u0439\", \"\\u0440\\u043e\\u0441\\u0441\\u0438\\u0439\\u0441\\u043a\\u0438\\u0439\", \"\\u0440\\u043e\\u0441\\u0441\\u0438\\u0439\\u0441\\u043a\\u0438\\u0439\", \"\\u0440\\u043e\\u0441\\u0441\\u0438\\u0439\\u0441\\u043a\\u0438\\u0439\", \"\\u0440\\u043e\\u0441\\u0441\\u0438\\u0439\\u0441\\u043a\\u0438\\u0439\", \"\\u0440\\u043e\\u0441\\u0441\\u0438\\u0439\\u0441\\u043a\\u0438\\u0439_\\u0444\\u0435\\u0434\\u0435\\u0440\\u0430\\u0446\\u0438\\u044f\", \"\\u0440\\u043e\\u0441\\u0441\\u0438\\u0439\\u0441\\u043a\\u0438\\u0439_\\u0444\\u0435\\u0434\\u0435\\u0440\\u0430\\u0446\\u0438\\u044f\", \"\\u0440\\u043e\\u0441\\u0441\\u0438\\u0439\\u0441\\u043a\\u0438\\u0439_\\u0444\\u0435\\u0434\\u0435\\u0440\\u0430\\u0446\\u0438\\u044f\", \"\\u0440\\u043e\\u0441\\u0441\\u0438\\u0439\\u0441\\u043a\\u0438\\u0439_\\u0444\\u0435\\u0434\\u0435\\u0440\\u0430\\u0446\\u0438\\u044f\", \"\\u0440\\u043e\\u0441\\u0441\\u0438\\u0439\\u0441\\u043a\\u043e\", \"\\u0440\\u043e\\u0441\\u0441\\u0438\\u0439\\u0441\\u043a\\u043e\", \"\\u0440\\u043e\\u0441\\u0442\", \"\\u0440\\u043e\\u0441\\u0442\", \"\\u0440\\u043e\\u0441\\u0442\", \"\\u0440\\u0443\\u0431\\u043b\\u044c\", \"\\u0440\\u0443\\u0431\\u043b\\u044c\", \"\\u0440\\u0443\\u0441\\u0441\\u043a\\u0438\\u0439\", \"\\u0440\\u0443\\u0441\\u0441\\u043a\\u0438\\u0439\", \"\\u0440\\u0443\\u0441\\u0441\\u043a\\u0438\\u0439\", \"\\u0440\\u044b\\u043d\\u043e\\u043a\", \"\\u0440\\u044b\\u043d\\u043e\\u043a\", \"\\u0440\\u044b\\u043d\\u043e\\u043a\", \"\\u0440\\u044b\\u043d\\u043e\\u043a\", \"\\u0441\\u0430\\u043c\\u043c\\u0438\\u0442\", \"\\u0441\\u0430\\u043c\\u043c\\u0438\\u0442\", \"\\u0441\\u0430\\u043c\\u043c\\u0438\\u0442\", \"\\u0441\\u0430\\u043d\\u043a\\u0442\", \"\\u0441\\u0430\\u043d\\u043a\\u0442_\\u043f\\u0435\\u0442\\u0435\\u0440\\u0431\\u0443\\u0440\\u0433\", \"\\u0441\\u0432\\u044f\\u0437\\u044c\", \"\\u0441\\u0432\\u044f\\u0437\\u044c\", \"\\u0441\\u0432\\u044f\\u0437\\u044c\", \"\\u0441\\u0432\\u044f\\u0437\\u044c\", \"\\u0441\\u0432\\u044f\\u0437\\u044c\", \"\\u0441\\u0432\\u044f\\u0437\\u044c\", \"\\u0441\\u0432\\u044f\\u0437\\u044c\", \"\\u0441\\u0434\\u0435\\u043b\\u0430\\u0442\\u044c\", \"\\u0441\\u0434\\u0435\\u043b\\u0430\\u0442\\u044c\", \"\\u0441\\u0434\\u0435\\u043b\\u0430\\u0442\\u044c\", \"\\u0441\\u0434\\u0435\\u043b\\u0430\\u0442\\u044c\", \"\\u0441\\u0434\\u0435\\u043b\\u0430\\u0442\\u044c\", \"\\u0441\\u0434\\u0435\\u043b\\u0430\\u0442\\u044c\", \"\\u0441\\u0434\\u0435\\u043b\\u0430\\u0442\\u044c\", \"\\u0441\\u0434\\u0435\\u043b\\u0430\\u0442\\u044c\", \"\\u0441\\u0435\\u0432\\u0435\\u0440\\u043d\\u044b\\u0439\", \"\\u0441\\u0435\\u0432\\u0435\\u0440\\u043d\\u044b\\u0439\", \"\\u0441\\u0435\\u043a\\u0442\\u043e\\u0440\", \"\\u0441\\u0435\\u043a\\u0442\\u043e\\u0440\", \"\\u0441\\u0435\\u043a\\u0442\\u043e\\u0440\", \"\\u0441\\u0435\\u043b\\u044c\\u0441\\u043a\\u0438\\u0439\", \"\\u0441\\u0435\\u043b\\u044c\\u0441\\u043a\\u0438\\u0439_\\u0445\\u043e\\u0437\\u044f\\u0439\\u0441\\u0442\\u0432\\u043e\", \"\\u0441\\u0435\\u043c\\u044c\\u044f\", \"\\u0441\\u0435\\u043c\\u044c\\u044f\", \"\\u0441\\u0435\\u043c\\u044c\\u044f\", \"\\u0441\\u0435\\u0440\\u0434\\u0435\\u0447\\u043d\\u043e\", \"\\u0441\\u0438\\u043b\\u0430\", \"\\u0441\\u0438\\u043b\\u0430\", \"\\u0441\\u0438\\u043b\\u0430\", \"\\u0441\\u0438\\u043b\\u0430\", \"\\u0441\\u0438\\u043b\\u0430\", \"\\u0441\\u0438\\u0440\\u0438\\u044f\", \"\\u0441\\u0438\\u0440\\u0438\\u044f\", \"\\u0441\\u0438\\u0441\\u0442\\u0435\\u043c\\u0430\", \"\\u0441\\u0438\\u0441\\u0442\\u0435\\u043c\\u0430\", \"\\u0441\\u0438\\u0441\\u0442\\u0435\\u043c\\u0430\", \"\\u0441\\u0438\\u0441\\u0442\\u0435\\u043c\\u0430\", \"\\u0441\\u0438\\u0441\\u0442\\u0435\\u043c\\u0430\", \"\\u0441\\u0438\\u0442\\u0443\\u0430\\u0446\\u0438\\u044f\", \"\\u0441\\u0438\\u0442\\u0443\\u0430\\u0446\\u0438\\u044f\", \"\\u0441\\u0438\\u0442\\u0443\\u0430\\u0446\\u0438\\u044f\", \"\\u0441\\u0438\\u0442\\u0443\\u0430\\u0446\\u0438\\u044f\", \"\\u0441\\u043a\\u0430\\u0437\\u0430\\u0442\\u044c\", \"\\u0441\\u043a\\u0430\\u0437\\u0430\\u0442\\u044c\", \"\\u0441\\u043a\\u0430\\u0437\\u0430\\u0442\\u044c\", \"\\u0441\\u043a\\u0430\\u0437\\u0430\\u0442\\u044c\", \"\\u0441\\u043a\\u0430\\u0437\\u0430\\u0442\\u044c\", \"\\u0441\\u043a\\u0430\\u0437\\u0430\\u0442\\u044c\", \"\\u0441\\u043a\\u0430\\u0437\\u0430\\u0442\\u044c\", \"\\u0441\\u043b\\u0430\\u0432\\u0430\", \"\\u0441\\u043b\\u0430\\u0432\\u0430\", \"\\u0441\\u043b\\u0430\\u0432\\u0430\", \"\\u0441\\u043b\\u0443\\u0436\\u0431\\u0430\", \"\\u0441\\u043b\\u0443\\u0436\\u0431\\u0430\", \"\\u0441\\u043b\\u0443\\u0436\\u0431\\u0430\", \"\\u0441\\u043b\\u0443\\u0447\\u0430\\u0439\", \"\\u0441\\u043b\\u0443\\u0447\\u0430\\u0439\", \"\\u0441\\u043b\\u0443\\u0447\\u0430\\u0439\", \"\\u0441\\u043b\\u0443\\u0447\\u0430\\u0439\", \"\\u0441\\u043b\\u0443\\u0447\\u0430\\u0439\", \"\\u0441\\u043b\\u044b\\u0448\\u0430\\u0442\\u044c\", \"\\u0441\\u043b\\u044b\\u0448\\u0430\\u0442\\u044c\", \"\\u0441\\u043c\\u043e\\u0442\\u0440\\u0435\\u0442\\u044c\", \"\\u0441\\u043c\\u043e\\u0442\\u0440\\u0435\\u0442\\u044c\", \"\\u0441\\u043c\\u043e\\u0442\\u0440\\u0435\\u0442\\u044c\", \"\\u0441\\u043c\\u043e\\u0442\\u0440\\u0435\\u0442\\u044c\", \"\\u0441\\u043e\\u0431\\u0438\\u0440\\u0430\\u0442\\u044c\\u0441\\u044f\", \"\\u0441\\u043e\\u0431\\u0438\\u0440\\u0430\\u0442\\u044c\\u0441\\u044f\", \"\\u0441\\u043e\\u0431\\u0438\\u0440\\u0430\\u0442\\u044c\\u0441\\u044f\", \"\\u0441\\u043e\\u0432\\u0435\\u0440\\u0448\\u0435\\u043d\\u043d\\u043e\", \"\\u0441\\u043e\\u0432\\u0435\\u0440\\u0448\\u0435\\u043d\\u043d\\u043e\", \"\\u0441\\u043e\\u0432\\u0435\\u0440\\u0448\\u0435\\u043d\\u043d\\u043e\", \"\\u0441\\u043e\\u0432\\u0435\\u0440\\u0448\\u0435\\u043d\\u043d\\u043e\", \"\\u0441\\u043e\\u0432\\u0435\\u0442\\u0441\\u043a\\u0438\\u0439\", \"\\u0441\\u043e\\u0432\\u0435\\u0442\\u0441\\u043a\\u0438\\u0439\", \"\\u0441\\u043e\\u0432\\u0435\\u0442\\u0441\\u043a\\u0438\\u0439_\\u0441\\u043e\\u044e\\u0437\", \"\\u0441\\u043e\\u0432\\u043c\\u0435\\u0441\\u0442\\u043d\\u044b\\u0439\", \"\\u0441\\u043e\\u0432\\u043c\\u0435\\u0441\\u0442\\u043d\\u044b\\u0439\", \"\\u0441\\u043e\\u0432\\u043c\\u0435\\u0441\\u0442\\u043d\\u044b\\u0439\", \"\\u0441\\u043e\\u0432\\u043c\\u0435\\u0441\\u0442\\u043d\\u044b\\u0439_\\u0440\\u0430\\u0431\\u043e\\u0442\\u0430\", \"\\u0441\\u043e\\u0432\\u0440\\u0435\\u043c\\u0435\\u043d\\u043d\\u044b\\u0439\", \"\\u0441\\u043e\\u0432\\u0440\\u0435\\u043c\\u0435\\u043d\\u043d\\u044b\\u0439\", \"\\u0441\\u043e\\u0432\\u0440\\u0435\\u043c\\u0435\\u043d\\u043d\\u044b\\u0439\", \"\\u0441\\u043e\\u0432\\u0440\\u0435\\u043c\\u0435\\u043d\\u043d\\u044b\\u0439\", \"\\u0441\\u043e\\u0432\\u0440\\u0435\\u043c\\u0435\\u043d\\u043d\\u044b\\u0439\", \"\\u0441\\u043e\\u0433\\u043b\\u0430\\u0441\\u043d\\u044b\\u0439\", \"\\u0441\\u043e\\u0433\\u043b\\u0430\\u0441\\u043d\\u044b\\u0439\", \"\\u0441\\u043e\\u0433\\u043b\\u0430\\u0441\\u043d\\u044b\\u0439\", \"\\u0441\\u043e\\u0433\\u043b\\u0430\\u0448\\u0435\\u043d\\u0438\\u0435\", \"\\u0441\\u043e\\u0433\\u043b\\u0430\\u0448\\u0435\\u043d\\u0438\\u0435\", \"\\u0441\\u043e\\u0433\\u043b\\u0430\\u0448\\u0435\\u043d\\u0438\\u0435\", \"\\u0441\\u043e\\u0433\\u043b\\u0430\\u0448\\u0435\\u043d\\u0438\\u0435\", \"\\u0441\\u043e\\u0435\\u0434\\u0438\\u043d\\u0438\\u0442\\u044c\", \"\\u0441\\u043e\\u0435\\u0434\\u0438\\u043d\\u0438\\u0442\\u044c\", \"\\u0441\\u043e\\u0435\\u0434\\u0438\\u043d\\u0438\\u0442\\u044c_\\u0448\\u0442\\u0430\\u0442\", \"\\u0441\\u043e\\u0437\\u0434\\u0430\\u043d\\u0438\\u0435\", \"\\u0441\\u043e\\u0437\\u0434\\u0430\\u043d\\u0438\\u0435\", \"\\u0441\\u043e\\u0437\\u0434\\u0430\\u043d\\u0438\\u0435\", \"\\u0441\\u043e\\u0437\\u0434\\u0430\\u043d\\u0438\\u0435\", \"\\u0441\\u043e\\u0437\\u0434\\u0430\\u043d\\u0438\\u0435\", \"\\u0441\\u043e\\u0437\\u0434\\u0430\\u043d\\u0438\\u0435\", \"\\u0441\\u043e\\u0437\\u0434\\u0430\\u043d\\u0438\\u0435\", \"\\u0441\\u043e\\u0437\\u0434\\u0430\\u0442\\u044c\", \"\\u0441\\u043e\\u0437\\u0434\\u0430\\u0442\\u044c\", \"\\u0441\\u043e\\u0437\\u0434\\u0430\\u0442\\u044c\", \"\\u0441\\u043e\\u0437\\u0434\\u0430\\u0442\\u044c\", \"\\u0441\\u043e\\u0437\\u0434\\u0430\\u0442\\u044c\", \"\\u0441\\u043e\\u0437\\u0434\\u0430\\u0442\\u044c\", \"\\u0441\\u043e\\u0437\\u0434\\u0430\\u0442\\u044c\", \"\\u0441\\u043e\\u0437\\u0434\\u0430\\u0442\\u044c\", \"\\u0441\\u043e\\u043c\\u043d\\u0435\\u043d\\u0438\\u0435\", \"\\u0441\\u043e\\u043c\\u043d\\u0435\\u043d\\u0438\\u0435\", \"\\u0441\\u043e\\u0440\\u0435\\u0432\\u043d\\u043e\\u0432\\u0430\\u043d\\u0438\\u0435\", \"\\u0441\\u043e\\u0441\\u0435\\u0434\", \"\\u0441\\u043e\\u0441\\u0435\\u0434\", \"\\u0441\\u043e\\u0441\\u0435\\u0434\", \"\\u0441\\u043e\\u0441\\u0435\\u0434\", \"\\u0441\\u043e\\u0441\\u0442\\u0430\\u0432\", \"\\u0441\\u043e\\u0441\\u0442\\u0430\\u0432\", \"\\u0441\\u043e\\u0441\\u0442\\u0430\\u0432\", \"\\u0441\\u043e\\u0441\\u0442\\u0430\\u0432\", \"\\u0441\\u043e\\u0441\\u0442\\u0430\\u0432\\u0438\\u0442\\u044c\", \"\\u0441\\u043e\\u0442\\u0440\\u0443\\u0434\\u043d\\u0438\\u043a\", \"\\u0441\\u043e\\u0442\\u0440\\u0443\\u0434\\u043d\\u0438\\u043a\", \"\\u0441\\u043e\\u0442\\u0440\\u0443\\u0434\\u043d\\u0438\\u043a\", \"\\u0441\\u043e\\u0442\\u0440\\u0443\\u0434\\u043d\\u0438\\u043a\", \"\\u0441\\u043e\\u0442\\u0440\\u0443\\u0434\\u043d\\u0438\\u0447\\u0435\\u0441\\u0442\\u0432\\u043e\", \"\\u0441\\u043e\\u0442\\u0440\\u0443\\u0434\\u043d\\u0438\\u0447\\u0435\\u0441\\u0442\\u0432\\u043e\", \"\\u0441\\u043e\\u0442\\u0440\\u0443\\u0434\\u043d\\u0438\\u0447\\u0435\\u0441\\u0442\\u0432\\u043e\", \"\\u0441\\u043e\\u0446\\u0438\\u0430\\u043b\\u044c\\u043d\\u044b\\u0439\", \"\\u0441\\u043e\\u0446\\u0438\\u0430\\u043b\\u044c\\u043d\\u044b\\u0439\", \"\\u0441\\u043e\\u0446\\u0438\\u0430\\u043b\\u044c\\u043d\\u044b\\u0439\", \"\\u0441\\u043e\\u0446\\u0438\\u0430\\u043b\\u044c\\u043d\\u044b\\u0439\", \"\\u0441\\u043e\\u0446\\u0438\\u0430\\u043b\\u044c\\u043d\\u044b\\u0439\", \"\\u0441\\u043e\\u0447\\u0438\", \"\\u0441\\u043e\\u0447\\u0438\", \"\\u0441\\u043e\\u044e\\u0437\", \"\\u0441\\u043e\\u044e\\u0437\", \"\\u0441\\u043e\\u044e\\u0437\", \"\\u0441\\u043f\\u0435\\u0446\\u0438\\u0430\\u043b\\u0438\\u0441\\u0442\", \"\\u0441\\u043f\\u0435\\u0446\\u0438\\u0430\\u043b\\u0438\\u0441\\u0442\", \"\\u0441\\u043f\\u0435\\u0446\\u0438\\u0430\\u043b\\u0438\\u0441\\u0442\", \"\\u0441\\u043f\\u0435\\u0446\\u0438\\u0430\\u043b\\u044c\\u043d\\u044b\\u0439\", \"\\u0441\\u043f\\u0435\\u0446\\u0438\\u0430\\u043b\\u044c\\u043d\\u044b\\u0439\", \"\\u0441\\u043f\\u0435\\u0446\\u0438\\u0430\\u043b\\u044c\\u043d\\u044b\\u0439\", \"\\u0441\\u043f\\u0435\\u0446\\u0438\\u0430\\u043b\\u044c\\u043d\\u044b\\u0439\", \"\\u0441\\u043f\\u043e\\u0440\\u0442\", \"\\u0441\\u043f\\u043e\\u0440\\u0442\", \"\\u0441\\u043f\\u043e\\u0440\\u0442\\u0438\\u0432\\u043d\\u044b\\u0439\", \"\\u0441\\u043f\\u043e\\u0440\\u0442\\u0438\\u0432\\u043d\\u044b\\u0439\", \"\\u0441\\u043f\\u043e\\u0440\\u0442\\u0441\\u043c\\u0435\\u043d\", \"\\u0441\\u043f\\u043e\\u0440\\u0442\\u0441\\u043c\\u0435\\u043d\", \"\\u0441\\u043f\\u0440\\u0430\\u0432\\u0435\\u0434\\u043b\\u0438\\u0432\\u044b\\u0439\", \"\\u0441\\u043f\\u0440\\u0430\\u0432\\u0435\\u0434\\u043b\\u0438\\u0432\\u044b\\u0439\", \"\\u0441\\u043f\\u0440\\u0430\\u0432\\u0435\\u0434\\u043b\\u0438\\u0432\\u044b\\u0439\", \"\\u0441\\u0440\\u0435\\u0434\\u043d\\u0438\\u0439\", \"\\u0441\\u0440\\u0435\\u0434\\u043d\\u0438\\u0439\", \"\\u0441\\u0440\\u0435\\u0434\\u043d\\u0438\\u0439\", \"\\u0441\\u0440\\u0435\\u0434\\u0441\\u0442\\u0432\\u043e\", \"\\u0441\\u0440\\u0435\\u0434\\u0441\\u0442\\u0432\\u043e\", \"\\u0441\\u0440\\u0435\\u0434\\u0441\\u0442\\u0432\\u043e\", \"\\u0441\\u0440\\u0435\\u0434\\u0441\\u0442\\u0432\\u043e\", \"\\u0441\\u0440\\u0435\\u0434\\u0441\\u0442\\u0432\\u043e\", \"\\u0441\\u0440\\u0435\\u0434\\u0441\\u0442\\u0432\\u043e\", \"\\u0441\\u0442\\u0430\\u0431\\u0438\\u043b\\u044c\\u043d\\u043e\\u0441\\u0442\\u044c\", \"\\u0441\\u0442\\u0430\\u0431\\u0438\\u043b\\u044c\\u043d\\u043e\\u0441\\u0442\\u044c\", \"\\u0441\\u0442\\u0430\\u0431\\u0438\\u043b\\u044c\\u043d\\u043e\\u0441\\u0442\\u044c\", \"\\u0441\\u0442\\u0430\\u043b\\u043a\\u0438\\u0432\\u0430\\u0442\\u044c\\u0441\\u044f\", \"\\u0441\\u0442\\u0430\\u043b\\u043a\\u0438\\u0432\\u0430\\u0442\\u044c\\u0441\\u044f\", \"\\u0441\\u0442\\u0430\\u043b\\u043a\\u0438\\u0432\\u0430\\u0442\\u044c\\u0441\\u044f\", \"\\u0441\\u0442\\u043e\\u043b\\u044c\", \"\\u0441\\u0442\\u043e\\u043b\\u044c\", \"\\u0441\\u0442\\u043e\\u043b\\u044c\", \"\\u0441\\u0442\\u043e\\u043b\\u044c\", \"\\u0441\\u0442\\u043e\\u0440\\u043e\\u043d\\u0430\", \"\\u0441\\u0442\\u043e\\u0440\\u043e\\u043d\\u0430\", \"\\u0441\\u0442\\u043e\\u0440\\u043e\\u043d\\u0430\", \"\\u0441\\u0442\\u043e\\u0440\\u043e\\u043d\\u0430\", \"\\u0441\\u0442\\u043e\\u0440\\u043e\\u043d\\u0430\", \"\\u0441\\u0442\\u043e\\u0440\\u043e\\u043d\\u0430\", \"\\u0441\\u0442\\u0440\\u0430\\u0442\\u0435\\u0433\\u0438\\u0447\\u0435\\u0441\\u043a\\u0438\\u0439\", \"\\u0441\\u0442\\u0440\\u0430\\u0442\\u0435\\u0433\\u0438\\u0447\\u0435\\u0441\\u043a\\u0438\\u0439\", \"\\u0441\\u0442\\u0440\\u0430\\u0442\\u0435\\u0433\\u0438\\u0447\\u0435\\u0441\\u043a\\u0438\\u0439\", \"\\u0441\\u0442\\u0440\\u0430\\u0442\\u0435\\u0433\\u0438\\u0447\\u0435\\u0441\\u043a\\u0438\\u0439\", \"\\u0441\\u0442\\u0440\\u0430\\u0442\\u0435\\u0433\\u0438\\u0447\\u0435\\u0441\\u043a\\u0438\\u0439\", \"\\u0441\\u0442\\u0443\\u0434\\u0435\\u043d\\u0442\", \"\\u0441\\u0442\\u0443\\u0434\\u0435\\u043d\\u0442\", \"\\u0441\\u0442\\u0443\\u0434\\u0435\\u043d\\u0442\", \"\\u0441\\u0443\\u0431\\u044a\\u0435\\u043a\\u0442\", \"\\u0441\\u0443\\u0431\\u044a\\u0435\\u043a\\u0442\", \"\\u0441\\u0443\\u0432\\u0435\\u0440\\u0435\\u043d\\u0438\\u0442\\u0435\\u0442\", \"\\u0441\\u0443\\u0432\\u0435\\u0440\\u0435\\u043d\\u0438\\u0442\\u0435\\u0442\", \"\\u0441\\u0443\\u0432\\u0435\\u0440\\u0435\\u043d\\u0438\\u0442\\u0435\\u0442\", \"\\u0441\\u0443\\u0434\", \"\\u0441\\u0443\\u0434\\u044c\\u0431\\u0430\", \"\\u0441\\u0443\\u0434\\u044c\\u0431\\u0430\", \"\\u0441\\u0443\\u0434\\u044c\\u0431\\u0430\", \"\\u0441\\u0444\\u0435\\u0440\\u0430\", \"\\u0441\\u0444\\u0435\\u0440\\u0430\", \"\\u0441\\u0444\\u0435\\u0440\\u0430\", \"\\u0441\\u0444\\u0435\\u0440\\u0430\", \"\\u0441\\u0444\\u0435\\u0440\\u0430\", \"\\u0441\\u0447\\u0438\\u0442\\u0430\\u0442\\u044c\", \"\\u0441\\u0447\\u0438\\u0442\\u0430\\u0442\\u044c\", \"\\u0441\\u0447\\u0438\\u0442\\u0430\\u0442\\u044c\", \"\\u0441\\u0447\\u0438\\u0442\\u0430\\u0442\\u044c\", \"\\u0441\\u0447\\u0438\\u0442\\u0430\\u0442\\u044c\", \"\\u0441\\u0447\\u0438\\u0442\\u0430\\u0442\\u044c\", \"\\u0441\\u0447\\u0438\\u0442\\u0430\\u0442\\u044c\", \"\\u0442\\u0435\\u0430\\u0442\\u0440\", \"\\u0442\\u0435\\u0430\\u0442\\u0440\", \"\\u0442\\u0435\\u043c\\u0430\", \"\\u0442\\u0435\\u043c\\u0430\", \"\\u0442\\u0435\\u043c\\u0430\", \"\\u0442\\u0435\\u043c\\u0430\", \"\\u0442\\u0435\\u043c\\u043f\", \"\\u0442\\u0435\\u043c\\u043f\", \"\\u0442\\u0435\\u0440\\u0440\\u0438\\u0442\\u043e\\u0440\\u0438\\u044f\", \"\\u0442\\u0435\\u0440\\u0440\\u0438\\u0442\\u043e\\u0440\\u0438\\u044f\", \"\\u0442\\u0435\\u0440\\u0440\\u0438\\u0442\\u043e\\u0440\\u0438\\u044f\", \"\\u0442\\u0435\\u0440\\u0440\\u0438\\u0442\\u043e\\u0440\\u0438\\u044f\", \"\\u0442\\u0435\\u0440\\u0440\\u0438\\u0442\\u043e\\u0440\\u0438\\u044f\", \"\\u0442\\u0435\\u0440\\u0440\\u0438\\u0442\\u043e\\u0440\\u0438\\u044f\", \"\\u0442\\u0435\\u0440\\u0440\\u0438\\u0442\\u043e\\u0440\\u0438\\u044f\", \"\\u0442\\u0435\\u0440\\u0440\\u0438\\u0442\\u043e\\u0440\\u0438\\u044f\", \"\\u0442\\u0435\\u0440\\u0440\\u043e\\u0440\\u0438\\u0437\\u043c\", \"\\u0442\\u0435\\u0440\\u0440\\u043e\\u0440\\u0438\\u0437\\u043c\", \"\\u0442\\u0435\\u0440\\u0440\\u043e\\u0440\\u0438\\u0441\\u0442\", \"\\u0442\\u0435\\u0440\\u0440\\u043e\\u0440\\u0438\\u0441\\u0442\", \"\\u0442\\u0435\\u0440\\u0440\\u043e\\u0440\\u0438\\u0441\\u0442\", \"\\u0442\\u0435\\u0440\\u0440\\u043e\\u0440\\u0438\\u0441\\u0442\\u0438\\u0447\\u0435\\u0441\\u043a\\u0438\\u0439\", \"\\u0442\\u0435\\u0440\\u0440\\u043e\\u0440\\u0438\\u0441\\u0442\\u0438\\u0447\\u0435\\u0441\\u043a\\u0438\\u0439\", \"\\u0442\\u0435\\u0440\\u0440\\u043e\\u0440\\u0438\\u0441\\u0442\\u0438\\u0447\\u0435\\u0441\\u043a\\u0438\\u0439\", \"\\u0442\\u0435\\u0441\\u043d\\u044b\\u0439\", \"\\u0442\\u0435\\u0441\\u043d\\u044b\\u0439\", \"\\u0442\\u0435\\u0445\\u043d\\u0438\\u043a\\u0430\", \"\\u0442\\u0435\\u0445\\u043d\\u0438\\u043a\\u0430\", \"\\u0442\\u0435\\u0445\\u043d\\u043e\\u043b\\u043e\\u0433\\u0438\\u0447\\u0435\\u0441\\u043a\\u0438\\u0439\", \"\\u0442\\u0435\\u0445\\u043d\\u043e\\u043b\\u043e\\u0433\\u0438\\u0447\\u0435\\u0441\\u043a\\u0438\\u0439\", \"\\u0442\\u0435\\u0445\\u043d\\u043e\\u043b\\u043e\\u0433\\u0438\\u0447\\u0435\\u0441\\u043a\\u0438\\u0439\", \"\\u0442\\u0435\\u0445\\u043d\\u043e\\u043b\\u043e\\u0433\\u0438\\u044f\", \"\\u0442\\u0435\\u0445\\u043d\\u043e\\u043b\\u043e\\u0433\\u0438\\u044f\", \"\\u0442\\u0438\\u0445\\u043e\\u043e\\u043a\\u0435\\u0430\\u043d\\u0441\\u043a\\u0438\\u0439\", \"\\u0442\\u0438\\u0445\\u043e\\u043e\\u043a\\u0435\\u0430\\u043d\\u0441\\u043a\\u0438\\u0439\", \"\\u0442\\u043e\\u0432\\u0430\\u0440\", \"\\u0442\\u043e\\u0432\\u0430\\u0440\\u0438\\u0449\", \"\\u0442\\u043e\\u0432\\u0430\\u0440\\u0438\\u0449\", \"\\u0442\\u043e\\u0432\\u0430\\u0440\\u0438\\u0449\", \"\\u0442\\u043e\\u0440\\u0433\\u043e\\u0432\\u043e\", \"\\u0442\\u043e\\u0440\\u0433\\u043e\\u0432\\u043e_\\u044d\\u043a\\u043e\\u043d\\u043e\\u043c\\u0438\\u0447\\u0435\\u0441\\u043a\\u0438\\u0439\", \"\\u0442\\u043e\\u0447\\u043a\\u0430\", \"\\u0442\\u043e\\u0447\\u043a\\u0430\", \"\\u0442\\u043e\\u0447\\u043a\\u0430\", \"\\u0442\\u043e\\u0447\\u043a\\u0430_\\u0437\\u0440\\u0435\\u043d\\u0438\\u0435\", \"\\u0442\\u0440\\u0430\\u0434\\u0438\\u0446\\u0438\\u044f\", \"\\u0442\\u0440\\u0430\\u0434\\u0438\\u0446\\u0438\\u044f\", \"\\u0442\\u0440\\u0430\\u0434\\u0438\\u0446\\u0438\\u044f\", \"\\u0442\\u0440\\u0430\\u0434\\u0438\\u0446\\u0438\\u044f\", \"\\u0442\\u0440\\u0430\\u043d\\u0441\\u043f\\u043e\\u0440\\u0442\\u043d\\u044b\\u0439\", \"\\u0442\\u0440\\u0430\\u043d\\u0441\\u043f\\u043e\\u0440\\u0442\\u043d\\u044b\\u0439\", \"\\u0442\\u0440\\u0430\\u043d\\u0441\\u043f\\u043e\\u0440\\u0442\\u043d\\u044b\\u0439\", \"\\u0443\\u0432\\u0435\\u043b\\u0438\\u0447\\u0435\\u043d\\u0438\\u0435\", \"\\u0443\\u0432\\u0435\\u043b\\u0438\\u0447\\u0435\\u043d\\u0438\\u0435\", \"\\u0443\\u0432\\u0435\\u043b\\u0438\\u0447\\u0438\\u0442\\u044c\\u0441\\u044f\", \"\\u0443\\u0432\\u0435\\u043b\\u0438\\u0447\\u0438\\u0442\\u044c\\u0441\\u044f\", \"\\u0443\\u0433\\u0440\\u043e\\u0437\\u0430\", \"\\u0443\\u0433\\u0440\\u043e\\u0437\\u0430\", \"\\u0443\\u043a\\u0440\\u0430\\u0438\\u043d\\u0430\", \"\\u0443\\u043a\\u0440\\u0430\\u0438\\u043d\\u0430\", \"\\u0443\\u043a\\u0440\\u0430\\u0438\\u043d\\u0430\", \"\\u0443\\u043d\\u0438\\u0432\\u0435\\u0440\\u0441\\u0438\\u0442\\u0435\\u0442\", \"\\u0443\\u043d\\u0438\\u0432\\u0435\\u0440\\u0441\\u0438\\u0442\\u0435\\u0442\", \"\\u0443\\u0440\\u0435\\u0433\\u0443\\u043b\\u0438\\u0440\\u043e\\u0432\\u0430\\u043d\\u0438\\u0435\", \"\\u0443\\u0440\\u0435\\u0433\\u0443\\u043b\\u0438\\u0440\\u043e\\u0432\\u0430\\u043d\\u0438\\u0435\", \"\\u0443\\u0440\\u043e\\u0432\\u0435\\u043d\\u044c\", \"\\u0443\\u0440\\u043e\\u0432\\u0435\\u043d\\u044c\", \"\\u0443\\u0440\\u043e\\u0432\\u0435\\u043d\\u044c\", \"\\u0443\\u0440\\u043e\\u0432\\u0435\\u043d\\u044c\", \"\\u0443\\u0440\\u043e\\u0432\\u0435\\u043d\\u044c\", \"\\u0443\\u0440\\u043e\\u0432\\u0435\\u043d\\u044c\", \"\\u0443\\u0440\\u043e\\u0432\\u0435\\u043d\\u044c\", \"\\u0443\\u0440\\u043e\\u0432\\u0435\\u043d\\u044c\", \"\\u0443\\u0441\\u0438\\u043b\\u0438\\u0435\", \"\\u0443\\u0441\\u0438\\u043b\\u0438\\u0435\", \"\\u0443\\u0441\\u0438\\u043b\\u0438\\u0435\", \"\\u0443\\u0441\\u0438\\u043b\\u0438\\u0435\", \"\\u0443\\u0441\\u0438\\u043b\\u0438\\u0435\", \"\\u0443\\u0441\\u0438\\u043b\\u0438\\u0435\", \"\\u0443\\u0441\\u0438\\u043b\\u0438\\u0435\", \"\\u0443\\u0441\\u043f\\u0435\\u0445\", \"\\u0443\\u0441\\u043f\\u0435\\u0445\", \"\\u0443\\u0441\\u043f\\u0435\\u0445\", \"\\u0443\\u0441\\u043f\\u0435\\u0445\", \"\\u0443\\u0441\\u0442\\u0430\\u043d\\u043e\\u0432\\u0438\\u0442\\u044c\", \"\\u0443\\u0441\\u0442\\u0430\\u043d\\u043e\\u0432\\u0438\\u0442\\u044c\", \"\\u0443\\u0441\\u0442\\u0430\\u043d\\u043e\\u0432\\u0438\\u0442\\u044c\", \"\\u0443\\u0441\\u0442\\u043e\\u0439\\u0447\\u0438\\u0432\\u044b\\u0439\", \"\\u0443\\u0441\\u0442\\u043e\\u0439\\u0447\\u0438\\u0432\\u044b\\u0439\", \"\\u0443\\u0441\\u0442\\u043e\\u0439\\u0447\\u0438\\u0432\\u044b\\u0439\", \"\\u0443\\u0441\\u0442\\u043e\\u0439\\u0447\\u0438\\u0432\\u044b\\u0439\", \"\\u0443\\u0441\\u0442\\u043e\\u0439\\u0447\\u0438\\u0432\\u044b\\u0439_\\u0440\\u0430\\u0437\\u0432\\u0438\\u0442\\u0438\\u0435\", \"\\u0443\\u0441\\u0442\\u043e\\u0439\\u0447\\u0438\\u0432\\u044b\\u0439_\\u0440\\u0430\\u0437\\u0432\\u0438\\u0442\\u0438\\u0435\", \"\\u0443\\u0447\\u0430\\u0441\\u0442\\u0438\\u0435\", \"\\u0443\\u0447\\u0430\\u0441\\u0442\\u0438\\u0435\", \"\\u0443\\u0447\\u0430\\u0441\\u0442\\u0438\\u0435\", \"\\u0443\\u0447\\u0430\\u0441\\u0442\\u0438\\u0435\", \"\\u0443\\u0447\\u0430\\u0441\\u0442\\u0438\\u0435\", \"\\u0443\\u0447\\u0430\\u0441\\u0442\\u043d\\u0438\\u043a\", \"\\u0443\\u0447\\u0430\\u0441\\u0442\\u043d\\u0438\\u043a\", \"\\u0443\\u0447\\u0430\\u0441\\u0442\\u043d\\u0438\\u043a\", \"\\u0443\\u0447\\u0430\\u0441\\u0442\\u043d\\u0438\\u043a\", \"\\u0443\\u0447\\u0430\\u0441\\u0442\\u043d\\u0438\\u043a\", \"\\u0443\\u0447\\u0451\\u043d\\u044b\\u0439\", \"\\u0443\\u0447\\u0451\\u043d\\u044b\\u0439\", \"\\u0443\\u0447\\u0451\\u043d\\u044b\\u0439\", \"\\u0444\\u0435\\u0434\\u0435\\u0440\\u0430\\u043b\\u044c\\u043d\\u044b\\u0439\", \"\\u0444\\u0435\\u0434\\u0435\\u0440\\u0430\\u043b\\u044c\\u043d\\u044b\\u0439\", \"\\u0444\\u0435\\u0434\\u0435\\u0440\\u0430\\u043b\\u044c\\u043d\\u044b\\u0439\", \"\\u0444\\u0435\\u0434\\u0435\\u0440\\u0430\\u0446\\u0438\\u044f\", \"\\u0444\\u0435\\u0434\\u0435\\u0440\\u0430\\u0446\\u0438\\u044f\", \"\\u0444\\u0435\\u0434\\u0435\\u0440\\u0430\\u0446\\u0438\\u044f\", \"\\u0444\\u0438\\u043d\\u0430\\u043d\\u0441\\u043e\\u0432\\u044b\\u0439\", \"\\u0444\\u0438\\u043d\\u0430\\u043d\\u0441\\u043e\\u0432\\u044b\\u0439\", \"\\u0444\\u0438\\u043d\\u0430\\u043d\\u0441\\u043e\\u0432\\u044b\\u0439\", \"\\u0444\\u0438\\u043d\\u0430\\u043d\\u0441\\u043e\\u0432\\u044b\\u0439\", \"\\u0444\\u043b\\u043e\\u0442\", \"\\u0444\\u043b\\u043e\\u0442\", \"\\u0444\\u043e\\u043d\\u0434\", \"\\u0444\\u043e\\u043d\\u0434\", \"\\u0444\\u043e\\u043d\\u0434\", \"\\u0444\\u043e\\u0440\\u043c\\u0430\\u0442\", \"\\u0444\\u043e\\u0440\\u043c\\u0430\\u0442\", \"\\u0444\\u043e\\u0440\\u043c\\u0430\\u0442\", \"\\u0444\\u043e\\u0440\\u0443\\u043c\", \"\\u0444\\u043e\\u0440\\u0443\\u043c\", \"\\u0444\\u043e\\u0440\\u0443\\u043c\", \"\\u0445\\u043e\\u0437\\u044f\\u0439\\u0441\\u0442\\u0432\\u043e\", \"\\u0445\\u043e\\u0440\\u043e\\u0448\\u0438\\u0439\", \"\\u0445\\u043e\\u0440\\u043e\\u0448\\u0438\\u0439\", \"\\u0445\\u043e\\u0440\\u043e\\u0448\\u0438\\u0439\", \"\\u0445\\u043e\\u0440\\u043e\\u0448\\u0438\\u0439\", \"\\u0445\\u043e\\u0440\\u043e\\u0448\\u0438\\u0439\", \"\\u0445\\u043e\\u0440\\u043e\\u0448\\u0438\\u0439\", \"\\u0445\\u043e\\u0440\\u043e\\u0448\\u0438\\u0439\", \"\\u0445\\u043e\\u0442\\u0435\\u0442\\u044c\\u0441\\u044f\", \"\\u0445\\u043e\\u0442\\u0435\\u0442\\u044c\\u0441\\u044f\", \"\\u0446\\u0435\\u043b\\u044c\", \"\\u0446\\u0435\\u043b\\u044c\", \"\\u0446\\u0435\\u043b\\u044c\", \"\\u0446\\u0435\\u043b\\u044c\", \"\\u0446\\u0435\\u043b\\u044c\", \"\\u0446\\u0435\\u043b\\u044c\", \"\\u0446\\u0435\\u043b\\u044c\", \"\\u0446\\u0435\\u043d\\u0430\", \"\\u0446\\u0435\\u043d\\u0430\", \"\\u0446\\u0435\\u043d\\u043d\\u043e\\u0441\\u0442\\u044c\", \"\\u0446\\u0435\\u043d\\u043d\\u043e\\u0441\\u0442\\u044c\", \"\\u0446\\u0435\\u043d\\u0442\\u0440\", \"\\u0446\\u0435\\u043d\\u0442\\u0440\", \"\\u0446\\u0435\\u043d\\u0442\\u0440\", \"\\u0446\\u0435\\u043d\\u0442\\u0440\", \"\\u0446\\u0435\\u043d\\u0442\\u0440\", \"\\u0446\\u0435\\u043d\\u0442\\u0440\", \"\\u0446\\u0435\\u0440\\u0435\\u043c\\u043e\\u043d\\u0438\\u044f\", \"\\u0446\\u0435\\u0440\\u0435\\u043c\\u043e\\u043d\\u0438\\u044f\", \"\\u0446\\u0435\\u0440\\u0435\\u043c\\u043e\\u043d\\u0438\\u044f\", \"\\u0446\\u0435\\u0440\\u043a\\u043e\\u0432\\u044c\", \"\\u0446\\u0438\\u0444\\u0440\\u043e\\u0432\\u043e\\u0439\", \"\\u0446\\u0438\\u0444\\u0440\\u043e\\u0432\\u043e\\u0439\", \"\\u0447\\u0430\\u0441\\u0442\\u043d\\u044b\\u0439\", \"\\u0447\\u0430\\u0441\\u0442\\u043d\\u044b\\u0439\", \"\\u0447\\u0430\\u0441\\u0442\\u044c\", \"\\u0447\\u0430\\u0441\\u0442\\u044c\", \"\\u0447\\u0430\\u0441\\u0442\\u044c\", \"\\u0447\\u0430\\u0441\\u0442\\u044c\", \"\\u0447\\u0430\\u0441\\u0442\\u044c\", \"\\u0447\\u0430\\u0441\\u0442\\u044c\", \"\\u0447\\u0430\\u0441\\u0442\\u044c\", \"\\u0447\\u0435\\u043c\\u043f\\u0438\\u043e\\u043d\\u0430\\u0442\", \"\\u0447\\u0435\\u043c\\u043f\\u0438\\u043e\\u043d\\u0430\\u0442\", \"\\u0447\\u0435\\u043c\\u043f\\u0438\\u043e\\u043d\\u0430\\u0442_\\u043c\\u0438\\u0440\", \"\\u0447\\u0435\\u0441\\u0442\\u043d\\u043e\", \"\\u0447\\u0435\\u0441\\u0442\\u043d\\u043e\", \"\\u0447\\u0435\\u0441\\u0442\\u043d\\u043e\", \"\\u0447\\u0438\\u0441\\u043b\\u043e\", \"\\u0447\\u0438\\u0441\\u043b\\u043e\", \"\\u0447\\u0438\\u0441\\u043b\\u043e\", \"\\u0447\\u0438\\u0441\\u043b\\u043e\", \"\\u0447\\u0438\\u0441\\u043b\\u043e\", \"\\u0447\\u0438\\u0441\\u043b\\u043e\", \"\\u0447\\u0438\\u0441\\u043b\\u043e\", \"\\u0447\\u0438\\u0441\\u043b\\u043e\", \"\\u0447\\u0440\\u0435\\u0437\\u0432\\u044b\\u0447\\u0430\\u0439\\u043d\\u043e\", \"\\u0447\\u0440\\u0435\\u0437\\u0432\\u044b\\u0447\\u0430\\u0439\\u043d\\u043e_\\u0432\\u0430\\u0436\\u043d\\u044b\\u0439\", \"\\u0447\\u0443\\u0432\\u0441\\u0442\\u0432\\u043e\", \"\\u0447\\u0443\\u0432\\u0441\\u0442\\u0432\\u043e\", \"\\u0448\\u043a\\u043e\\u043b\\u0430\", \"\\u0448\\u043a\\u043e\\u043b\\u0430\", \"\\u0448\\u043a\\u043e\\u043b\\u0430\", \"\\u0448\\u043a\\u043e\\u043b\\u0430\", \"\\u0448\\u043e\\u0441\", \"\\u0448\\u043e\\u0441\", \"\\u0448\\u0442\\u0430\\u0442\", \"\\u0448\\u0442\\u0430\\u0442\", \"\\u0448\\u0442\\u0430\\u0442\", \"\\u044d\\u043a\\u043e\\u043d\\u043e\\u043c\\u0438\\u043a\\u0430\", \"\\u044d\\u043a\\u043e\\u043d\\u043e\\u043c\\u0438\\u043a\\u0430\", \"\\u044d\\u043a\\u043e\\u043d\\u043e\\u043c\\u0438\\u043a\\u0430\", \"\\u044d\\u043a\\u043e\\u043d\\u043e\\u043c\\u0438\\u043a\\u0430\", \"\\u044d\\u043a\\u043e\\u043d\\u043e\\u043c\\u0438\\u043a\\u0430\", \"\\u044d\\u043a\\u043e\\u043d\\u043e\\u043c\\u0438\\u0447\\u0435\\u0441\\u043a\\u0438\\u0439\", \"\\u044d\\u043a\\u043e\\u043d\\u043e\\u043c\\u0438\\u0447\\u0435\\u0441\\u043a\\u0438\\u0439\", \"\\u044d\\u043a\\u043e\\u043d\\u043e\\u043c\\u0438\\u0447\\u0435\\u0441\\u043a\\u0438\\u0439\", \"\\u044d\\u043a\\u043e\\u043d\\u043e\\u043c\\u0438\\u0447\\u0435\\u0441\\u043a\\u0438\\u0439\", \"\\u044d\\u043a\\u043e\\u043d\\u043e\\u043c\\u0438\\u0447\\u0435\\u0441\\u043a\\u0438\\u0439\", \"\\u044d\\u043a\\u0441\\u043f\\u043e\\u0440\\u0442\", \"\\u044d\\u043d\\u0435\\u0440\\u0433\\u0435\\u0442\\u0438\\u043a\\u0430\", \"\\u044d\\u043d\\u0435\\u0440\\u0433\\u0435\\u0442\\u0438\\u043a\\u0430\", \"\\u044d\\u043d\\u0435\\u0440\\u0433\\u0435\\u0442\\u0438\\u043a\\u0430\", \"\\u044f\\u0432\\u043b\\u044f\\u0442\\u044c\\u0441\\u044f\", \"\\u044f\\u0432\\u043b\\u044f\\u0442\\u044c\\u0441\\u044f\", \"\\u044f\\u0432\\u043b\\u044f\\u0442\\u044c\\u0441\\u044f\", \"\\u044f\\u0432\\u043b\\u044f\\u0442\\u044c\\u0441\\u044f\", \"\\u044f\\u0432\\u043b\\u044f\\u0442\\u044c\\u0441\\u044f\", \"\\u044f\\u0432\\u043b\\u044f\\u0442\\u044c\\u0441\\u044f\", \"\\u044f\\u0432\\u043b\\u044f\\u0442\\u044c\\u0441\\u044f\", \"\\u044f\\u0432\\u043b\\u044f\\u0442\\u044c\\u0441\\u044f\", \"\\u044f\\u0432\\u043b\\u044f\\u0442\\u044c\\u0441\\u044f\", \"\\u044f\\u0437\\u044b\\u043a\", \"\\u044f\\u0437\\u044b\\u043a\", \"\\u044f\\u043f\\u043e\\u043d\\u0438\\u044f\", \"\\u044f\\u043f\\u043e\\u043d\\u0438\\u044f\", \"\\u044f\\u043f\\u043e\\u043d\\u0438\\u044f\", \"\\u044f\\u043f\\u043e\\u043d\\u0438\\u044f\", \"\\u044f\\u043f\\u043e\\u043d\\u0441\\u043a\\u0438\\u0439\", \"\\u044f\\u043f\\u043e\\u043d\\u0441\\u043a\\u0438\\u0439\", \"\\u044f\\u043f\\u043e\\u043d\\u0441\\u043a\\u0438\\u0439\", \"\\u044f\\u043f\\u043e\\u043d\\u0441\\u043a\\u0438\\u0439\"]}, \"R\": 30, \"lambda.step\": 0.01, \"plot.opts\": {\"xlab\": \"PC1\", \"ylab\": \"PC2\"}, \"topic.order\": [0, 1, 2, 3, 4, 5, 6, 7, 8, 9]};\n",
       "\n",
       "function LDAvis_load_lib(url, callback){\n",
       "  var s = document.createElement('script');\n",
       "  s.src = url;\n",
       "  s.async = true;\n",
       "  s.onreadystatechange = s.onload = callback;\n",
       "  s.onerror = function(){console.warn(\"failed to load library \" + url);};\n",
       "  document.getElementsByTagName(\"head\")[0].appendChild(s);\n",
       "}\n",
       "\n",
       "if(typeof(LDAvis) !== \"undefined\"){\n",
       "   // already loaded: just create the visualization\n",
       "   !function(LDAvis){\n",
       "       new LDAvis(\"#\" + \"ldavis_el579250803947684039780749\", ldavis_el579250803947684039780749_data);\n",
       "   }(LDAvis);\n",
       "}else if(typeof define === \"function\" && define.amd){\n",
       "   // require.js is available: use it to load d3/LDAvis\n",
       "   require.config({paths: {d3: \"https://d3js.org/d3.v5\"}});\n",
       "   require([\"d3\"], function(d3){\n",
       "      window.d3 = d3;\n",
       "      LDAvis_load_lib(\"https://cdn.jsdelivr.net/gh/bmabey/pyLDAvis@3.3.1/pyLDAvis/js/ldavis.v3.0.0.js\", function(){\n",
       "        new LDAvis(\"#\" + \"ldavis_el579250803947684039780749\", ldavis_el579250803947684039780749_data);\n",
       "      });\n",
       "    });\n",
       "}else{\n",
       "    // require.js not available: dynamically load d3 & LDAvis\n",
       "    LDAvis_load_lib(\"https://d3js.org/d3.v5.js\", function(){\n",
       "         LDAvis_load_lib(\"https://cdn.jsdelivr.net/gh/bmabey/pyLDAvis@3.3.1/pyLDAvis/js/ldavis.v3.0.0.js\", function(){\n",
       "                 new LDAvis(\"#\" + \"ldavis_el579250803947684039780749\", ldavis_el579250803947684039780749_data);\n",
       "            })\n",
       "         });\n",
       "}\n",
       "</script>"
      ],
      "text/plain": [
       "PreparedData(topic_coordinates=              x         y  topics  cluster       Freq\n",
       "topic                                                \n",
       "0     -0.019265  0.044876       0        1  10.298589\n",
       "1     -0.216311 -0.265571       1        1   3.442372\n",
       "2      0.154038  0.169502       2        1   4.229972\n",
       "3     -0.016711  0.032908       3        1  15.805373\n",
       "4     -0.033710  0.149561       4        1  14.066221\n",
       "5     -0.035582  0.145297       5        1  10.823456\n",
       "6     -0.138067 -0.045499       6        1   9.875501\n",
       "7     -0.162888  0.066079       7        1  11.379317\n",
       "8      0.211594 -0.196235       8        1   8.506977\n",
       "9      0.256901 -0.100917       9        1  11.572223, topic_info=               Term         Freq        Total Category  logprob  loglift\n",
       "14   сотрудничество  2780.000000  2780.000000  Default  30.0000  30.0000\n",
       "9            регион  3208.000000  3208.000000  Default  29.0000  29.0000\n",
       "95           восток  1348.000000  1348.000000  Default  28.0000  28.0000\n",
       "31             сила  2246.000000  2246.000000  Default  27.0000  27.0000\n",
       "1          говорить  5184.000000  5184.000000  Default  26.0000  26.0000\n",
       "..              ...          ...          ...      ...      ...      ...\n",
       "36            общий   537.006219  2127.696172   Topic9  -4.9572   0.7798\n",
       "0        российский   585.659528  5406.104361   Topic9  -4.8705  -0.0660\n",
       "35          мировой   511.778597  2117.338702   Topic9  -5.0053   0.7365\n",
       "127           семья   466.729265  1161.748886   Topic9  -5.0974   1.2446\n",
       "3            важный   522.590456  4799.585067   Topic9  -4.9844  -0.0609\n",
       "\n",
       "[531 rows x 6 columns], token_table=      Topic      Freq       Term\n",
       "term                            \n",
       "317       0  0.082047  абсолютно\n",
       "317       3  0.820467  абсолютно\n",
       "317       5  0.097825  абсолютно\n",
       "411       1  0.569336       азия\n",
       "411       5  0.184543       азия\n",
       "...     ...       ...        ...\n",
       "288       8  0.046786     япония\n",
       "733       1  0.621560   японский\n",
       "733       3  0.129360   японский\n",
       "733       6  0.186152   японский\n",
       "733       7  0.063103   японский\n",
       "\n",
       "[1427 rows x 3 columns], R=30, lambda_step=0.01, plot_opts={'xlab': 'PC1', 'ylab': 'PC2'}, topic_order=[0, 1, 2, 3, 4, 5, 6, 7, 8, 9])"
      ]
     },
     "execution_count": 24,
     "metadata": {},
     "output_type": "execute_result"
    }
   ],
   "source": [
    "prepared_data"
   ]
  },
  {
   "cell_type": "code",
   "execution_count": 25,
   "metadata": {},
   "outputs": [
    {
     "name": "stdout",
     "output_type": "stream",
     "text": [
      "==== Coherence : u_mass ====\n",
      "Average: -2.63346697752815 \n",
      "Per Topic: [-2.7491387108343517, -2.5849568723413365, -2.464662819103826, -2.578214070312209, -2.630182852546383, -2.6619203456011036, -2.3046299932305585, -2.7628413164005923, -2.932979811171651, -2.6651429837394858]\n",
      "\n",
      "==== Coherence : c_uci ====\n",
      "Average: 0.543712272782622 \n",
      "Per Topic: [0.6130031067675314, 0.4619738954135745, 1.4416420906857648, -0.032157406698623464, 0.3524557948660905, 0.39450450808226617, 0.4246566309832346, 0.5236521532809738, 0.36448072403969095, 0.8929112304057166]\n",
      "\n",
      "==== Coherence : c_npmi ====\n",
      "Average: 0.07932308901790985 \n",
      "Per Topic: [0.0860016679409476, 0.10430741299544181, 0.1773291079614933, -0.0021187663911886602, 0.05182916119281506, 0.05483892843279806, 0.06462442401581366, 0.07389198675264821, 0.05408590745503484, 0.12844105982329468]\n",
      "\n",
      "==== Coherence : c_v ====\n",
      "Average: 0.6102857897803188 \n",
      "Per Topic: [0.6015780627727508, 0.6455084323883057, 0.737009871006012, 0.46137031614780427, 0.5397900760173797, 0.596189895272255, 0.6379972785711289, 0.6993400648236274, 0.45391109548509123, 0.7301628053188324]\n",
      "\n"
     ]
    }
   ],
   "source": [
    "# calculate coherence using preset\n",
    "for preset in ('u_mass', 'c_uci', 'c_npmi', 'c_v'):\n",
    "    coh = tp.coherence.Coherence(lda, coherence=preset)\n",
    "    average_coherence = coh.get_score()\n",
    "    coherence_per_topic = [coh.get_score(topic_id=k) for k in range(lda.k)]\n",
    "    print('==== Coherence : {} ===='.format(preset))\n",
    "    print('Average:', average_coherence, '\\nPer Topic:', coherence_per_topic)\n",
    "    print()"
   ]
  },
  {
   "cell_type": "code",
   "execution_count": 71,
   "metadata": {},
   "outputs": [],
   "source": [
    "def corpus_and_labeling_example(model):\n",
    "    # extract candidates for auto topic labeling\n",
    "    extractor = tp.label.PMIExtractor(min_cf=10, min_df=5, max_len=5, max_cand=10000)\n",
    "    cands = extractor.extract(lda)\n",
    "\n",
    "    labeler = tp.label.FoRelevance(lda, cands, min_df=5, smoothing=1e-2, mu=0.25)\n",
    "    for k in range(lda.k):\n",
    "        print(\"== Topic #{} ==\".format(k))\n",
    "        print(\"Labels:\", ', '.join(label for label, score in labeler.get_topic_labels(k, top_n=5)))\n",
    "        for word, prob in lda.get_topic_words(k, top_n=10):\n",
    "            print(word, prob, sep='\\t')\n",
    "        print()"
   ]
  },
  {
   "cell_type": "code",
   "execution_count": 72,
   "metadata": {},
   "outputs": [
    {
     "name": "stdout",
     "output_type": "stream",
     "text": [
      "Running LDA and Labeling\n",
      "== Topic #0 ==\n",
      "Labels: передовой, технология, внедрение, образовательный, технологический\n",
      "технология\t0.02200279012322426\n",
      "центр\t0.018115753307938576\n",
      "современный\t0.014300697483122349\n",
      "научный\t0.012117238715291023\n",
      "работать\t0.012045256793498993\n",
      "наука\t0.011805315501987934\n",
      "образование\t0.011757328175008297\n",
      "сфера\t0.011661351658403873\n",
      "область\t0.01096552424132824\n",
      "медицинский\t0.009717833250761032\n",
      "\n",
      "== Topic #1 ==\n",
      "Labels: морской путь, северный морской путь, дальний восток, дальний_восток, северный морской\n",
      "восток\t0.05383401736617088\n",
      "дальний\t0.04303818196058273\n",
      "регион\t0.04077689349651337\n",
      "дальний_восток\t0.039901554584503174\n",
      "северный\t0.0321694016456604\n",
      "министр\t0.021300621330738068\n",
      "корея\t0.02057117223739624\n",
      "проект\t0.020425282418727875\n",
      "российский\t0.018820496276021004\n",
      "премьер\t0.01794515736401081\n",
      "\n",
      "== Topic #2 ==\n",
      "Labels: армия_флот, армия флот, личный состав, вооружённый_сила, вооружённый сила\n",
      "сила\t0.03461212292313576\n",
      "военный\t0.03366386145353317\n",
      "задача\t0.02589997462928295\n",
      "боевой\t0.02151426672935486\n",
      "вооружённый\t0.020447472110390663\n",
      "служба\t0.01997334323823452\n",
      "флот\t0.0183731522411108\n",
      "безопасность\t0.017247091978788376\n",
      "вооружённый_сила\t0.017247091978788376\n",
      "армия\t0.016772961243987083\n",
      "\n",
      "== Topic #3 ==\n",
      "Labels: вещь, наверное, штат, происходить, определённый\n",
      "говорить\t0.035610396414995193\n",
      "сказать\t0.03334233537316322\n",
      "вопрос\t0.022846339270472527\n",
      "сделать\t0.017896335572004318\n",
      "время\t0.013376765884459019\n",
      "проблема\t0.011009372770786285\n",
      "работать\t0.010496160946786404\n",
      "хороший\t0.010247833095490932\n",
      "первый\t0.009486294351518154\n",
      "дело\t0.008824086748063564\n",
      "\n",
      "== Topic #4 ==\n",
      "Labels: субъект, орган, закон, контроль, федеральный\n",
      "решение\t0.015835171565413475\n",
      "гражданин\t0.013052158057689667\n",
      "принять\t0.012101001106202602\n",
      "государственный\t0.012030545622110367\n",
      "внимание\t0.010533354245126247\n",
      "правительство\t0.010427670553326607\n",
      "закон\t0.010304372757673264\n",
      "важный\t0.010251530446112156\n",
      "федерация\t0.010093004442751408\n",
      "поддержка\t0.00963503960520029\n",
      "\n",
      "== Topic #5 ==\n",
      "Labels: международный право, оон, конфликт, стабильность, глобальный\n",
      "мир\t0.02188924141228199\n",
      "международный\t0.020683297887444496\n",
      "безопасность\t0.017634307965636253\n",
      "государство\t0.013970970176160336\n",
      "проблема\t0.013265606947243214\n",
      "интерес\t0.011968648992478848\n",
      "глобальный\t0.011104010045528412\n",
      "вопрос\t0.010580675676465034\n",
      "политический\t0.010102849453687668\n",
      "угроза\t0.00978429801762104\n",
      "\n",
      "== Topic #6 ==\n",
      "Labels: торгово, торгово экономический, торгово_экономический, евразийский экономический, евразийский_экономический\n",
      "сотрудничество\t0.035521700978279114\n",
      "экономический\t0.024107471108436584\n",
      "совместный\t0.017547840252518654\n",
      "отношение\t0.016742687672376633\n",
      "взаимодействие\t0.013237902894616127\n",
      "форум\t0.01295373123139143\n",
      "проект\t0.01274060271680355\n",
      "связь\t0.012574835680425167\n",
      "международный\t0.011438149027526379\n",
      "государство\t0.011390786617994308\n",
      "\n",
      "== Topic #7 ==\n",
      "Labels: инвестиция, объём, рынок, доллар, российский экономика\n",
      "экономика\t0.024323845282197\n",
      "компания\t0.019597863778471947\n",
      "рынок\t0.018622316420078278\n",
      "российский\t0.015262100845575333\n",
      "рост\t0.014004729688167572\n",
      "проект\t0.012400497682392597\n",
      "инвестиция\t0.012205388396978378\n",
      "бизнес\t0.010839623399078846\n",
      "доллар\t0.010752907954156399\n",
      "газ\t0.009452179074287415\n",
      "\n",
      "== Topic #8 ==\n",
      "Labels: поздравить, искренне, награда, олимпийский, замечательный\n",
      "российский\t0.021856781095266342\n",
      "поблагодарить\t0.021182017400860786\n",
      "высокий\t0.01707475818693638\n",
      "успех\t0.01704542152583599\n",
      "спорт\t0.015490529127418995\n",
      "мир\t0.014082326553761959\n",
      "большой\t0.013407561928033829\n",
      "награда\t0.01282081101089716\n",
      "федерация\t0.011940684169530869\n",
      "друг\t0.011383269913494587\n",
      "\n",
      "== Topic #9 ==\n",
      "Labels: любовь, отечество, подвиг, патриотизм, нравственный\n",
      "народ\t0.02411823719739914\n",
      "великий\t0.019351273775100708\n",
      "жизнь\t0.01899729110300541\n",
      "история\t0.01878490298986435\n",
      "русский\t0.016519414260983467\n",
      "война\t0.016377821564674377\n",
      "культура\t0.012602009810507298\n",
      "поколение\t0.012602009810507298\n",
      "победа\t0.011422067880630493\n",
      "традиция\t0.010430917143821716\n",
      "\n"
     ]
    }
   ],
   "source": [
    "print('Running LDA and Labeling')\n",
    "corpus_and_labeling_example(lda)"
   ]
  },
  {
   "cell_type": "code",
   "execution_count": 74,
   "metadata": {},
   "outputs": [
    {
     "data": {
      "text/html": [
       "<div>\n",
       "<style scoped>\n",
       "    .dataframe tbody tr th:only-of-type {\n",
       "        vertical-align: middle;\n",
       "    }\n",
       "\n",
       "    .dataframe tbody tr th {\n",
       "        vertical-align: top;\n",
       "    }\n",
       "\n",
       "    .dataframe thead th {\n",
       "        text-align: right;\n",
       "    }\n",
       "</style>\n",
       "<table border=\"1\" class=\"dataframe\">\n",
       "  <thead>\n",
       "    <tr style=\"text-align: right;\">\n",
       "      <th>docs</th>\n",
       "      <th>0</th>\n",
       "      <th>1</th>\n",
       "      <th>2</th>\n",
       "      <th>3</th>\n",
       "      <th>4</th>\n",
       "      <th>5</th>\n",
       "      <th>6</th>\n",
       "      <th>7</th>\n",
       "      <th>8</th>\n",
       "      <th>9</th>\n",
       "      <th>...</th>\n",
       "      <th>25926</th>\n",
       "      <th>25927</th>\n",
       "      <th>25928</th>\n",
       "      <th>25929</th>\n",
       "      <th>25930</th>\n",
       "      <th>25931</th>\n",
       "      <th>25932</th>\n",
       "      <th>25933</th>\n",
       "      <th>25934</th>\n",
       "      <th>25935</th>\n",
       "    </tr>\n",
       "    <tr>\n",
       "      <th>topics</th>\n",
       "      <th></th>\n",
       "      <th></th>\n",
       "      <th></th>\n",
       "      <th></th>\n",
       "      <th></th>\n",
       "      <th></th>\n",
       "      <th></th>\n",
       "      <th></th>\n",
       "      <th></th>\n",
       "      <th></th>\n",
       "      <th></th>\n",
       "      <th></th>\n",
       "      <th></th>\n",
       "      <th></th>\n",
       "      <th></th>\n",
       "      <th></th>\n",
       "      <th></th>\n",
       "      <th></th>\n",
       "      <th></th>\n",
       "      <th></th>\n",
       "      <th></th>\n",
       "    </tr>\n",
       "  </thead>\n",
       "  <tbody>\n",
       "    <tr>\n",
       "      <th>0</th>\n",
       "      <td>0.006495</td>\n",
       "      <td>0.004345</td>\n",
       "      <td>0.207953</td>\n",
       "      <td>0.006157</td>\n",
       "      <td>0.009694</td>\n",
       "      <td>0.004047</td>\n",
       "      <td>0.010560</td>\n",
       "      <td>0.007779</td>\n",
       "      <td>0.037081</td>\n",
       "      <td>0.007298</td>\n",
       "      <td>...</td>\n",
       "      <td>0.004047</td>\n",
       "      <td>0.004884</td>\n",
       "      <td>0.099961</td>\n",
       "      <td>0.004047</td>\n",
       "      <td>0.006873</td>\n",
       "      <td>0.004511</td>\n",
       "      <td>0.003559</td>\n",
       "      <td>0.004047</td>\n",
       "      <td>0.016439</td>\n",
       "      <td>0.008959</td>\n",
       "    </tr>\n",
       "    <tr>\n",
       "      <th>1</th>\n",
       "      <td>0.002290</td>\n",
       "      <td>0.001532</td>\n",
       "      <td>0.004089</td>\n",
       "      <td>0.002171</td>\n",
       "      <td>0.003418</td>\n",
       "      <td>0.001427</td>\n",
       "      <td>0.003723</td>\n",
       "      <td>0.002743</td>\n",
       "      <td>0.013074</td>\n",
       "      <td>0.002573</td>\n",
       "      <td>...</td>\n",
       "      <td>0.275535</td>\n",
       "      <td>0.043069</td>\n",
       "      <td>0.003723</td>\n",
       "      <td>0.001427</td>\n",
       "      <td>0.002423</td>\n",
       "      <td>0.001590</td>\n",
       "      <td>0.001255</td>\n",
       "      <td>0.001427</td>\n",
       "      <td>0.005796</td>\n",
       "      <td>0.003159</td>\n",
       "    </tr>\n",
       "    <tr>\n",
       "      <th>2</th>\n",
       "      <td>0.002735</td>\n",
       "      <td>0.001830</td>\n",
       "      <td>0.004883</td>\n",
       "      <td>0.002592</td>\n",
       "      <td>0.660596</td>\n",
       "      <td>0.001704</td>\n",
       "      <td>0.004447</td>\n",
       "      <td>0.003275</td>\n",
       "      <td>0.015613</td>\n",
       "      <td>0.003073</td>\n",
       "      <td>...</td>\n",
       "      <td>0.001704</td>\n",
       "      <td>0.002056</td>\n",
       "      <td>0.004447</td>\n",
       "      <td>0.104495</td>\n",
       "      <td>0.002894</td>\n",
       "      <td>0.001899</td>\n",
       "      <td>0.543903</td>\n",
       "      <td>0.001704</td>\n",
       "      <td>0.006922</td>\n",
       "      <td>0.003772</td>\n",
       "    </tr>\n",
       "    <tr>\n",
       "      <th>3</th>\n",
       "      <td>0.066734</td>\n",
       "      <td>0.007857</td>\n",
       "      <td>0.413683</td>\n",
       "      <td>0.480236</td>\n",
       "      <td>0.099593</td>\n",
       "      <td>0.007319</td>\n",
       "      <td>0.019096</td>\n",
       "      <td>0.014066</td>\n",
       "      <td>0.067052</td>\n",
       "      <td>0.013197</td>\n",
       "      <td>...</td>\n",
       "      <td>0.178636</td>\n",
       "      <td>0.256913</td>\n",
       "      <td>0.019096</td>\n",
       "      <td>0.007319</td>\n",
       "      <td>0.186994</td>\n",
       "      <td>0.008157</td>\n",
       "      <td>0.006436</td>\n",
       "      <td>0.007319</td>\n",
       "      <td>0.447229</td>\n",
       "      <td>0.016199</td>\n",
       "    </tr>\n",
       "    <tr>\n",
       "      <th>4</th>\n",
       "      <td>0.173635</td>\n",
       "      <td>0.410425</td>\n",
       "      <td>0.113656</td>\n",
       "      <td>0.112462</td>\n",
       "      <td>0.012937</td>\n",
       "      <td>0.245246</td>\n",
       "      <td>0.282297</td>\n",
       "      <td>0.339642</td>\n",
       "      <td>0.049489</td>\n",
       "      <td>0.812925</td>\n",
       "      <td>...</td>\n",
       "      <td>0.005402</td>\n",
       "      <td>0.047865</td>\n",
       "      <td>0.014094</td>\n",
       "      <td>0.073929</td>\n",
       "      <td>0.009173</td>\n",
       "      <td>0.006020</td>\n",
       "      <td>0.004751</td>\n",
       "      <td>0.210983</td>\n",
       "      <td>0.021940</td>\n",
       "      <td>0.011956</td>\n",
       "    </tr>\n",
       "    <tr>\n",
       "      <th>5</th>\n",
       "      <td>0.391758</td>\n",
       "      <td>0.004574</td>\n",
       "      <td>0.110385</td>\n",
       "      <td>0.058603</td>\n",
       "      <td>0.010204</td>\n",
       "      <td>0.004260</td>\n",
       "      <td>0.189918</td>\n",
       "      <td>0.008188</td>\n",
       "      <td>0.039031</td>\n",
       "      <td>0.007682</td>\n",
       "      <td>...</td>\n",
       "      <td>0.415422</td>\n",
       "      <td>0.625346</td>\n",
       "      <td>0.458120</td>\n",
       "      <td>0.758057</td>\n",
       "      <td>0.472742</td>\n",
       "      <td>0.806717</td>\n",
       "      <td>0.184548</td>\n",
       "      <td>0.586740</td>\n",
       "      <td>0.017304</td>\n",
       "      <td>0.161111</td>\n",
       "    </tr>\n",
       "    <tr>\n",
       "      <th>6</th>\n",
       "      <td>0.006332</td>\n",
       "      <td>0.335294</td>\n",
       "      <td>0.109483</td>\n",
       "      <td>0.006002</td>\n",
       "      <td>0.009450</td>\n",
       "      <td>0.209527</td>\n",
       "      <td>0.010295</td>\n",
       "      <td>0.007583</td>\n",
       "      <td>0.036148</td>\n",
       "      <td>0.007114</td>\n",
       "      <td>...</td>\n",
       "      <td>0.106736</td>\n",
       "      <td>0.004761</td>\n",
       "      <td>0.367898</td>\n",
       "      <td>0.003945</td>\n",
       "      <td>0.297642</td>\n",
       "      <td>0.157153</td>\n",
       "      <td>0.244539</td>\n",
       "      <td>0.175263</td>\n",
       "      <td>0.016025</td>\n",
       "      <td>0.691298</td>\n",
       "    </tr>\n",
       "    <tr>\n",
       "      <th>7</th>\n",
       "      <td>0.116849</td>\n",
       "      <td>0.004597</td>\n",
       "      <td>0.012269</td>\n",
       "      <td>0.319249</td>\n",
       "      <td>0.010256</td>\n",
       "      <td>0.072809</td>\n",
       "      <td>0.011172</td>\n",
       "      <td>0.008229</td>\n",
       "      <td>0.039230</td>\n",
       "      <td>0.007721</td>\n",
       "      <td>...</td>\n",
       "      <td>0.004282</td>\n",
       "      <td>0.005167</td>\n",
       "      <td>0.011172</td>\n",
       "      <td>0.004282</td>\n",
       "      <td>0.007272</td>\n",
       "      <td>0.004772</td>\n",
       "      <td>0.003766</td>\n",
       "      <td>0.004282</td>\n",
       "      <td>0.017392</td>\n",
       "      <td>0.085318</td>\n",
       "    </tr>\n",
       "    <tr>\n",
       "      <th>8</th>\n",
       "      <td>0.006209</td>\n",
       "      <td>0.004154</td>\n",
       "      <td>0.011086</td>\n",
       "      <td>0.005886</td>\n",
       "      <td>0.009266</td>\n",
       "      <td>0.003869</td>\n",
       "      <td>0.457099</td>\n",
       "      <td>0.336696</td>\n",
       "      <td>0.663278</td>\n",
       "      <td>0.130543</td>\n",
       "      <td>...</td>\n",
       "      <td>0.003869</td>\n",
       "      <td>0.004669</td>\n",
       "      <td>0.010095</td>\n",
       "      <td>0.003869</td>\n",
       "      <td>0.006570</td>\n",
       "      <td>0.004312</td>\n",
       "      <td>0.003403</td>\n",
       "      <td>0.003869</td>\n",
       "      <td>0.433218</td>\n",
       "      <td>0.008564</td>\n",
       "    </tr>\n",
       "    <tr>\n",
       "      <th>9</th>\n",
       "      <td>0.226962</td>\n",
       "      <td>0.225393</td>\n",
       "      <td>0.012512</td>\n",
       "      <td>0.006642</td>\n",
       "      <td>0.174587</td>\n",
       "      <td>0.449792</td>\n",
       "      <td>0.011393</td>\n",
       "      <td>0.271800</td>\n",
       "      <td>0.040005</td>\n",
       "      <td>0.007874</td>\n",
       "      <td>...</td>\n",
       "      <td>0.004366</td>\n",
       "      <td>0.005269</td>\n",
       "      <td>0.011393</td>\n",
       "      <td>0.038630</td>\n",
       "      <td>0.007415</td>\n",
       "      <td>0.004867</td>\n",
       "      <td>0.003840</td>\n",
       "      <td>0.004366</td>\n",
       "      <td>0.017735</td>\n",
       "      <td>0.009665</td>\n",
       "    </tr>\n",
       "  </tbody>\n",
       "</table>\n",
       "<p>10 rows × 25936 columns</p>\n",
       "</div>"
      ],
      "text/plain": [
       "docs       0         1         2         3         4         5         6      \\\n",
       "topics                                                                         \n",
       "0       0.006495  0.004345  0.207953  0.006157  0.009694  0.004047  0.010560   \n",
       "1       0.002290  0.001532  0.004089  0.002171  0.003418  0.001427  0.003723   \n",
       "2       0.002735  0.001830  0.004883  0.002592  0.660596  0.001704  0.004447   \n",
       "3       0.066734  0.007857  0.413683  0.480236  0.099593  0.007319  0.019096   \n",
       "4       0.173635  0.410425  0.113656  0.112462  0.012937  0.245246  0.282297   \n",
       "5       0.391758  0.004574  0.110385  0.058603  0.010204  0.004260  0.189918   \n",
       "6       0.006332  0.335294  0.109483  0.006002  0.009450  0.209527  0.010295   \n",
       "7       0.116849  0.004597  0.012269  0.319249  0.010256  0.072809  0.011172   \n",
       "8       0.006209  0.004154  0.011086  0.005886  0.009266  0.003869  0.457099   \n",
       "9       0.226962  0.225393  0.012512  0.006642  0.174587  0.449792  0.011393   \n",
       "\n",
       "docs       7         8         9      ...     25926     25927     25928  \\\n",
       "topics                                ...                                 \n",
       "0       0.007779  0.037081  0.007298  ...  0.004047  0.004884  0.099961   \n",
       "1       0.002743  0.013074  0.002573  ...  0.275535  0.043069  0.003723   \n",
       "2       0.003275  0.015613  0.003073  ...  0.001704  0.002056  0.004447   \n",
       "3       0.014066  0.067052  0.013197  ...  0.178636  0.256913  0.019096   \n",
       "4       0.339642  0.049489  0.812925  ...  0.005402  0.047865  0.014094   \n",
       "5       0.008188  0.039031  0.007682  ...  0.415422  0.625346  0.458120   \n",
       "6       0.007583  0.036148  0.007114  ...  0.106736  0.004761  0.367898   \n",
       "7       0.008229  0.039230  0.007721  ...  0.004282  0.005167  0.011172   \n",
       "8       0.336696  0.663278  0.130543  ...  0.003869  0.004669  0.010095   \n",
       "9       0.271800  0.040005  0.007874  ...  0.004366  0.005269  0.011393   \n",
       "\n",
       "docs       25929     25930     25931     25932     25933     25934     25935  \n",
       "topics                                                                        \n",
       "0       0.004047  0.006873  0.004511  0.003559  0.004047  0.016439  0.008959  \n",
       "1       0.001427  0.002423  0.001590  0.001255  0.001427  0.005796  0.003159  \n",
       "2       0.104495  0.002894  0.001899  0.543903  0.001704  0.006922  0.003772  \n",
       "3       0.007319  0.186994  0.008157  0.006436  0.007319  0.447229  0.016199  \n",
       "4       0.073929  0.009173  0.006020  0.004751  0.210983  0.021940  0.011956  \n",
       "5       0.758057  0.472742  0.806717  0.184548  0.586740  0.017304  0.161111  \n",
       "6       0.003945  0.297642  0.157153  0.244539  0.175263  0.016025  0.691298  \n",
       "7       0.004282  0.007272  0.004772  0.003766  0.004282  0.017392  0.085318  \n",
       "8       0.003869  0.006570  0.004312  0.003403  0.003869  0.433218  0.008564  \n",
       "9       0.038630  0.007415  0.004867  0.003840  0.004366  0.017735  0.009665  \n",
       "\n",
       "[10 rows x 25936 columns]"
      ]
     },
     "execution_count": 74,
     "metadata": {},
     "output_type": "execute_result"
    }
   ],
   "source": [
    "# theta(topics vs documents probability) matrix\n",
    "tmp.get_theta(lda).head(10)"
   ]
  },
  {
   "cell_type": "code",
   "execution_count": 75,
   "metadata": {},
   "outputs": [
    {
     "data": {
      "text/html": [
       "<div>\n",
       "<style scoped>\n",
       "    .dataframe tbody tr th:only-of-type {\n",
       "        vertical-align: middle;\n",
       "    }\n",
       "\n",
       "    .dataframe tbody tr th {\n",
       "        vertical-align: top;\n",
       "    }\n",
       "\n",
       "    .dataframe thead th {\n",
       "        text-align: right;\n",
       "    }\n",
       "</style>\n",
       "<table border=\"1\" class=\"dataframe\">\n",
       "  <thead>\n",
       "    <tr style=\"text-align: right;\">\n",
       "      <th></th>\n",
       "      <th>topic0</th>\n",
       "      <th>topic1</th>\n",
       "      <th>topic2</th>\n",
       "      <th>topic3</th>\n",
       "      <th>topic4</th>\n",
       "      <th>topic5</th>\n",
       "      <th>topic6</th>\n",
       "      <th>topic7</th>\n",
       "      <th>topic8</th>\n",
       "      <th>topic9</th>\n",
       "    </tr>\n",
       "  </thead>\n",
       "  <tbody>\n",
       "    <tr>\n",
       "      <th>0</th>\n",
       "      <td>[молодой, смело, браться, сложный, задача, дос...</td>\n",
       "      <td>[уникальный, возможность, иметься, реализация,...</td>\n",
       "      <td>[соответствие, утвердить, план, повышаться, ка...</td>\n",
       "      <td>[история, пример, подход, решение, надеяться, ...</td>\n",
       "      <td>[завершение, остановиться, важный, тема, прошл...</td>\n",
       "      <td>[случай, сказать, чувствительный, серьёзный, в...</td>\n",
       "      <td>[полагать, полезный, дополнять, взаимодействие...</td>\n",
       "      <td>[смотреть, вид, производство, достигнуть, уров...</td>\n",
       "      <td>[первый, очередь, хотеться, поздравить, спортс...</td>\n",
       "      <td>[город, герое, севастополь, крым, огромный, ст...</td>\n",
       "    </tr>\n",
       "    <tr>\n",
       "      <th>1</th>\n",
       "      <td>[прогноз, эксперт, результат, внедрение, машин...</td>\n",
       "      <td>[уважаемые, председатель, китайский, народный,...</td>\n",
       "      <td>[современный, облик, вооружённый, сила, послед...</td>\n",
       "      <td>[история, решить, провести, сегодняшний, встре...</td>\n",
       "      <td>[статус, получить, предполагать, первый, чётки...</td>\n",
       "      <td>[нынешний, сложный, условие, страна, важный, п...</td>\n",
       "      <td>[вестись, работа, организация, интеграционный,...</td>\n",
       "      <td>[пандемия, валовой, внутренний, продукт, монго...</td>\n",
       "      <td>[выразить, огромный, благодарность, студент, а...</td>\n",
       "      <td>[возрождать, исторический, правда, первый, мир...</td>\n",
       "    </tr>\n",
       "    <tr>\n",
       "      <th>2</th>\n",
       "      <td>[эксплуатация, обслуживание, аэс, будущее, раб...</td>\n",
       "      <td>[превосходительство, российский, федерация, пр...</td>\n",
       "      <td>[продолжать, традиция, фронтовик, дед, отец, л...</td>\n",
       "      <td>[повод, событие, украина, говорить, уйти, врем...</td>\n",
       "      <td>[вместе, зона, личный, ответственность, прокур...</td>\n",
       "      <td>[очевидный, подчеркнуть, суверенный, растворим...</td>\n",
       "      <td>[китайский, сторона, уверена, появление, полно...</td>\n",
       "      <td>[показателен, факт, россия, поступить, доллар,...</td>\n",
       "      <td>[заключение, выразить, искренний, признательно...</td>\n",
       "      <td>[исполняться, начало, первый, мировой, война, ...</td>\n",
       "    </tr>\n",
       "    <tr>\n",
       "      <th>3</th>\n",
       "      <td>[предстоять, кардинальный, образ, обновить, ин...</td>\n",
       "      <td>[усилие, нефтяник, газовик, укреплялась, эконо...</td>\n",
       "      <td>[росгвардия, достойно, продолжать, развивать, ...</td>\n",
       "      <td>[уверенный, процитировать, марк, твен, говорит...</td>\n",
       "      <td>[момент, достаточно, существенный, принять, до...</td>\n",
       "      <td>[повторить, фон, фундаментальный, трансформаци...</td>\n",
       "      <td>[россия, придаёт, большой, значение, выстраива...</td>\n",
       "      <td>[считать, поставить, задача, национальный, уро...</td>\n",
       "      <td>[глава, государство, прекрасный, спортсмен, за...</td>\n",
       "      <td>[война, длиться, малый, четыре, целый, эпоха, ...</td>\n",
       "    </tr>\n",
       "    <tr>\n",
       "      <th>4</th>\n",
       "      <td>[отличный, школа, область, математика, теорети...</td>\n",
       "      <td>[россия, председатель, китайский, народный, ре...</td>\n",
       "      <td>[дело, доказывать, готовый, сложный, условие, ...</td>\n",
       "      <td>[помнить, шум, повод, rt, спутник, рекламный, ...</td>\n",
       "      <td>[осуществляться, активный, целенаправленный, м...</td>\n",
       "      <td>[россия, серьёзный, вызов, учитывать, формиров...</td>\n",
       "      <td>[узбекистан, рамка, председательство, шос, нам...</td>\n",
       "      <td>[потребоваться, строительство, завод, тысяча, ...</td>\n",
       "      <td>[собраться, чемпион, зимний, летний, игра, раз...</td>\n",
       "      <td>[июнь, особый, дата, россия, народ, нацист, ве...</td>\n",
       "    </tr>\n",
       "  </tbody>\n",
       "</table>\n",
       "</div>"
      ],
      "text/plain": [
       "                                              topic0  \\\n",
       "0  [молодой, смело, браться, сложный, задача, дос...   \n",
       "1  [прогноз, эксперт, результат, внедрение, машин...   \n",
       "2  [эксплуатация, обслуживание, аэс, будущее, раб...   \n",
       "3  [предстоять, кардинальный, образ, обновить, ин...   \n",
       "4  [отличный, школа, область, математика, теорети...   \n",
       "\n",
       "                                              topic1  \\\n",
       "0  [уникальный, возможность, иметься, реализация,...   \n",
       "1  [уважаемые, председатель, китайский, народный,...   \n",
       "2  [превосходительство, российский, федерация, пр...   \n",
       "3  [усилие, нефтяник, газовик, укреплялась, эконо...   \n",
       "4  [россия, председатель, китайский, народный, ре...   \n",
       "\n",
       "                                              topic2  \\\n",
       "0  [соответствие, утвердить, план, повышаться, ка...   \n",
       "1  [современный, облик, вооружённый, сила, послед...   \n",
       "2  [продолжать, традиция, фронтовик, дед, отец, л...   \n",
       "3  [росгвардия, достойно, продолжать, развивать, ...   \n",
       "4  [дело, доказывать, готовый, сложный, условие, ...   \n",
       "\n",
       "                                              topic3  \\\n",
       "0  [история, пример, подход, решение, надеяться, ...   \n",
       "1  [история, решить, провести, сегодняшний, встре...   \n",
       "2  [повод, событие, украина, говорить, уйти, врем...   \n",
       "3  [уверенный, процитировать, марк, твен, говорит...   \n",
       "4  [помнить, шум, повод, rt, спутник, рекламный, ...   \n",
       "\n",
       "                                              topic4  \\\n",
       "0  [завершение, остановиться, важный, тема, прошл...   \n",
       "1  [статус, получить, предполагать, первый, чётки...   \n",
       "2  [вместе, зона, личный, ответственность, прокур...   \n",
       "3  [момент, достаточно, существенный, принять, до...   \n",
       "4  [осуществляться, активный, целенаправленный, м...   \n",
       "\n",
       "                                              topic5  \\\n",
       "0  [случай, сказать, чувствительный, серьёзный, в...   \n",
       "1  [нынешний, сложный, условие, страна, важный, п...   \n",
       "2  [очевидный, подчеркнуть, суверенный, растворим...   \n",
       "3  [повторить, фон, фундаментальный, трансформаци...   \n",
       "4  [россия, серьёзный, вызов, учитывать, формиров...   \n",
       "\n",
       "                                              topic6  \\\n",
       "0  [полагать, полезный, дополнять, взаимодействие...   \n",
       "1  [вестись, работа, организация, интеграционный,...   \n",
       "2  [китайский, сторона, уверена, появление, полно...   \n",
       "3  [россия, придаёт, большой, значение, выстраива...   \n",
       "4  [узбекистан, рамка, председательство, шос, нам...   \n",
       "\n",
       "                                              topic7  \\\n",
       "0  [смотреть, вид, производство, достигнуть, уров...   \n",
       "1  [пандемия, валовой, внутренний, продукт, монго...   \n",
       "2  [показателен, факт, россия, поступить, доллар,...   \n",
       "3  [считать, поставить, задача, национальный, уро...   \n",
       "4  [потребоваться, строительство, завод, тысяча, ...   \n",
       "\n",
       "                                              topic8  \\\n",
       "0  [первый, очередь, хотеться, поздравить, спортс...   \n",
       "1  [выразить, огромный, благодарность, студент, а...   \n",
       "2  [заключение, выразить, искренний, признательно...   \n",
       "3  [глава, государство, прекрасный, спортсмен, за...   \n",
       "4  [собраться, чемпион, зимний, летний, игра, раз...   \n",
       "\n",
       "                                              topic9  \n",
       "0  [город, герое, севастополь, крым, огромный, ст...  \n",
       "1  [возрождать, исторический, правда, первый, мир...  \n",
       "2  [исполняться, начало, первый, мировой, война, ...  \n",
       "3  [война, длиться, малый, четыре, целый, эпоха, ...  \n",
       "4  [июнь, особый, дата, россия, народ, нацист, ве...  "
      ]
     },
     "execution_count": 75,
     "metadata": {},
     "output_type": "execute_result"
    }
   ],
   "source": [
    "#get documents with maximum probabilities 𝑃(𝑡|𝑑) for each topic\n",
    "tmp.get_top_docs(docs, model=lda)"
   ]
  },
  {
   "attachments": {},
   "cell_type": "markdown",
   "metadata": {},
   "source": [
    "### Examine topics distribution"
   ]
  },
  {
   "cell_type": "code",
   "execution_count": 103,
   "metadata": {},
   "outputs": [
    {
     "data": {
      "text/plain": [
       "array([0.00649545, 0.00229016, 0.002735  , 0.06673408, 0.17363493,\n",
       "       0.39175776, 0.00633196, 0.11684921, 0.00620914, 0.22696228],\n",
       "      dtype=float32)"
      ]
     },
     "execution_count": 103,
     "metadata": {},
     "output_type": "execute_result"
    }
   ],
   "source": [
    "lda.docs[0].get_topic_dist()"
   ]
  },
  {
   "cell_type": "code",
   "execution_count": 106,
   "metadata": {},
   "outputs": [],
   "source": [
    "#for each document, get the topic distribution\n",
    "topic_distributions = [list(doc.get_topic_dist()) for doc in lda.docs]"
   ]
  },
  {
   "cell_type": "code",
   "execution_count": 110,
   "metadata": {},
   "outputs": [],
   "source": [
    "topics = np.zeros((len(docs),params['num_topics']))"
   ]
  },
  {
   "cell_type": "code",
   "execution_count": 115,
   "metadata": {},
   "outputs": [
    {
     "data": {
      "text/plain": [
       "array([0., 0., 0., 0., 0., 0., 0., 0., 0., 0., 0., 0., 0., 0., 0.])"
      ]
     },
     "execution_count": 115,
     "metadata": {},
     "output_type": "execute_result"
    }
   ],
   "source": [
    "topics[2,:]"
   ]
  },
  {
   "cell_type": "code",
   "execution_count": 117,
   "metadata": {},
   "outputs": [
    {
     "data": {
      "text/html": [
       "<div>\n",
       "<style scoped>\n",
       "    .dataframe tbody tr th:only-of-type {\n",
       "        vertical-align: middle;\n",
       "    }\n",
       "\n",
       "    .dataframe tbody tr th {\n",
       "        vertical-align: top;\n",
       "    }\n",
       "\n",
       "    .dataframe thead th {\n",
       "        text-align: right;\n",
       "    }\n",
       "</style>\n",
       "<table border=\"1\" class=\"dataframe\">\n",
       "  <thead>\n",
       "    <tr style=\"text-align: right;\">\n",
       "      <th></th>\n",
       "      <th>0</th>\n",
       "      <th>1</th>\n",
       "      <th>2</th>\n",
       "      <th>3</th>\n",
       "      <th>4</th>\n",
       "      <th>5</th>\n",
       "      <th>6</th>\n",
       "      <th>7</th>\n",
       "      <th>8</th>\n",
       "      <th>9</th>\n",
       "    </tr>\n",
       "  </thead>\n",
       "  <tbody>\n",
       "    <tr>\n",
       "      <th>0</th>\n",
       "      <td>0.006495</td>\n",
       "      <td>0.002290</td>\n",
       "      <td>0.002735</td>\n",
       "      <td>0.066734</td>\n",
       "      <td>0.173635</td>\n",
       "      <td>0.391758</td>\n",
       "      <td>0.006332</td>\n",
       "      <td>0.116849</td>\n",
       "      <td>0.006209</td>\n",
       "      <td>0.226962</td>\n",
       "    </tr>\n",
       "    <tr>\n",
       "      <th>1</th>\n",
       "      <td>0.004345</td>\n",
       "      <td>0.001532</td>\n",
       "      <td>0.001830</td>\n",
       "      <td>0.007857</td>\n",
       "      <td>0.410425</td>\n",
       "      <td>0.004574</td>\n",
       "      <td>0.335294</td>\n",
       "      <td>0.004597</td>\n",
       "      <td>0.004154</td>\n",
       "      <td>0.225393</td>\n",
       "    </tr>\n",
       "    <tr>\n",
       "      <th>2</th>\n",
       "      <td>0.207953</td>\n",
       "      <td>0.004089</td>\n",
       "      <td>0.004883</td>\n",
       "      <td>0.413683</td>\n",
       "      <td>0.113656</td>\n",
       "      <td>0.110385</td>\n",
       "      <td>0.109483</td>\n",
       "      <td>0.012269</td>\n",
       "      <td>0.011086</td>\n",
       "      <td>0.012512</td>\n",
       "    </tr>\n",
       "    <tr>\n",
       "      <th>3</th>\n",
       "      <td>0.006157</td>\n",
       "      <td>0.002171</td>\n",
       "      <td>0.002592</td>\n",
       "      <td>0.480236</td>\n",
       "      <td>0.112462</td>\n",
       "      <td>0.058603</td>\n",
       "      <td>0.006002</td>\n",
       "      <td>0.319249</td>\n",
       "      <td>0.005886</td>\n",
       "      <td>0.006642</td>\n",
       "    </tr>\n",
       "    <tr>\n",
       "      <th>4</th>\n",
       "      <td>0.009694</td>\n",
       "      <td>0.003418</td>\n",
       "      <td>0.660596</td>\n",
       "      <td>0.099593</td>\n",
       "      <td>0.012937</td>\n",
       "      <td>0.010204</td>\n",
       "      <td>0.009450</td>\n",
       "      <td>0.010256</td>\n",
       "      <td>0.009266</td>\n",
       "      <td>0.174587</td>\n",
       "    </tr>\n",
       "    <tr>\n",
       "      <th>...</th>\n",
       "      <td>...</td>\n",
       "      <td>...</td>\n",
       "      <td>...</td>\n",
       "      <td>...</td>\n",
       "      <td>...</td>\n",
       "      <td>...</td>\n",
       "      <td>...</td>\n",
       "      <td>...</td>\n",
       "      <td>...</td>\n",
       "      <td>...</td>\n",
       "    </tr>\n",
       "    <tr>\n",
       "      <th>25931</th>\n",
       "      <td>0.004511</td>\n",
       "      <td>0.001590</td>\n",
       "      <td>0.001899</td>\n",
       "      <td>0.008157</td>\n",
       "      <td>0.006020</td>\n",
       "      <td>0.806717</td>\n",
       "      <td>0.157153</td>\n",
       "      <td>0.004772</td>\n",
       "      <td>0.004312</td>\n",
       "      <td>0.004867</td>\n",
       "    </tr>\n",
       "    <tr>\n",
       "      <th>25932</th>\n",
       "      <td>0.003559</td>\n",
       "      <td>0.001255</td>\n",
       "      <td>0.543903</td>\n",
       "      <td>0.006436</td>\n",
       "      <td>0.004751</td>\n",
       "      <td>0.184548</td>\n",
       "      <td>0.244539</td>\n",
       "      <td>0.003766</td>\n",
       "      <td>0.003403</td>\n",
       "      <td>0.003840</td>\n",
       "    </tr>\n",
       "    <tr>\n",
       "      <th>25933</th>\n",
       "      <td>0.004047</td>\n",
       "      <td>0.001427</td>\n",
       "      <td>0.001704</td>\n",
       "      <td>0.007319</td>\n",
       "      <td>0.210983</td>\n",
       "      <td>0.586740</td>\n",
       "      <td>0.175263</td>\n",
       "      <td>0.004282</td>\n",
       "      <td>0.003869</td>\n",
       "      <td>0.004366</td>\n",
       "    </tr>\n",
       "    <tr>\n",
       "      <th>25934</th>\n",
       "      <td>0.016439</td>\n",
       "      <td>0.005796</td>\n",
       "      <td>0.006922</td>\n",
       "      <td>0.447229</td>\n",
       "      <td>0.021940</td>\n",
       "      <td>0.017304</td>\n",
       "      <td>0.016025</td>\n",
       "      <td>0.017392</td>\n",
       "      <td>0.433218</td>\n",
       "      <td>0.017735</td>\n",
       "    </tr>\n",
       "    <tr>\n",
       "      <th>25935</th>\n",
       "      <td>0.008959</td>\n",
       "      <td>0.003159</td>\n",
       "      <td>0.003772</td>\n",
       "      <td>0.016199</td>\n",
       "      <td>0.011956</td>\n",
       "      <td>0.161111</td>\n",
       "      <td>0.691298</td>\n",
       "      <td>0.085318</td>\n",
       "      <td>0.008564</td>\n",
       "      <td>0.009665</td>\n",
       "    </tr>\n",
       "  </tbody>\n",
       "</table>\n",
       "<p>25936 rows × 10 columns</p>\n",
       "</div>"
      ],
      "text/plain": [
       "              0         1         2         3         4         5         6  \\\n",
       "0      0.006495  0.002290  0.002735  0.066734  0.173635  0.391758  0.006332   \n",
       "1      0.004345  0.001532  0.001830  0.007857  0.410425  0.004574  0.335294   \n",
       "2      0.207953  0.004089  0.004883  0.413683  0.113656  0.110385  0.109483   \n",
       "3      0.006157  0.002171  0.002592  0.480236  0.112462  0.058603  0.006002   \n",
       "4      0.009694  0.003418  0.660596  0.099593  0.012937  0.010204  0.009450   \n",
       "...         ...       ...       ...       ...       ...       ...       ...   \n",
       "25931  0.004511  0.001590  0.001899  0.008157  0.006020  0.806717  0.157153   \n",
       "25932  0.003559  0.001255  0.543903  0.006436  0.004751  0.184548  0.244539   \n",
       "25933  0.004047  0.001427  0.001704  0.007319  0.210983  0.586740  0.175263   \n",
       "25934  0.016439  0.005796  0.006922  0.447229  0.021940  0.017304  0.016025   \n",
       "25935  0.008959  0.003159  0.003772  0.016199  0.011956  0.161111  0.691298   \n",
       "\n",
       "              7         8         9  \n",
       "0      0.116849  0.006209  0.226962  \n",
       "1      0.004597  0.004154  0.225393  \n",
       "2      0.012269  0.011086  0.012512  \n",
       "3      0.319249  0.005886  0.006642  \n",
       "4      0.010256  0.009266  0.174587  \n",
       "...         ...       ...       ...  \n",
       "25931  0.004772  0.004312  0.004867  \n",
       "25932  0.003766  0.003403  0.003840  \n",
       "25933  0.004282  0.003869  0.004366  \n",
       "25934  0.017392  0.433218  0.017735  \n",
       "25935  0.085318  0.008564  0.009665  \n",
       "\n",
       "[25936 rows x 10 columns]"
      ]
     },
     "execution_count": 117,
     "metadata": {},
     "output_type": "execute_result"
    }
   ],
   "source": [
    "df_topic_distributions  = pd.DataFrame(topic_distributions )\n",
    "df_topic_distributions "
   ]
  },
  {
   "cell_type": "code",
   "execution_count": 118,
   "metadata": {},
   "outputs": [],
   "source": [
    "time = read_lemma.date.tolist()"
   ]
  },
  {
   "cell_type": "code",
   "execution_count": 119,
   "metadata": {},
   "outputs": [],
   "source": [
    "df_topic_distributions[\"year\"] = time"
   ]
  },
  {
   "cell_type": "code",
   "execution_count": 121,
   "metadata": {},
   "outputs": [
    {
     "data": {
      "text/html": [
       "<div>\n",
       "<style scoped>\n",
       "    .dataframe tbody tr th:only-of-type {\n",
       "        vertical-align: middle;\n",
       "    }\n",
       "\n",
       "    .dataframe tbody tr th {\n",
       "        vertical-align: top;\n",
       "    }\n",
       "\n",
       "    .dataframe thead th {\n",
       "        text-align: right;\n",
       "    }\n",
       "</style>\n",
       "<table border=\"1\" class=\"dataframe\">\n",
       "  <thead>\n",
       "    <tr style=\"text-align: right;\">\n",
       "      <th></th>\n",
       "      <th>0</th>\n",
       "      <th>1</th>\n",
       "      <th>2</th>\n",
       "      <th>3</th>\n",
       "      <th>4</th>\n",
       "      <th>5</th>\n",
       "      <th>6</th>\n",
       "      <th>7</th>\n",
       "      <th>8</th>\n",
       "      <th>9</th>\n",
       "      <th>year</th>\n",
       "    </tr>\n",
       "  </thead>\n",
       "  <tbody>\n",
       "    <tr>\n",
       "      <th>0</th>\n",
       "      <td>0.006495</td>\n",
       "      <td>0.002290</td>\n",
       "      <td>0.002735</td>\n",
       "      <td>0.066734</td>\n",
       "      <td>0.173635</td>\n",
       "      <td>0.391758</td>\n",
       "      <td>0.006332</td>\n",
       "      <td>0.116849</td>\n",
       "      <td>0.006209</td>\n",
       "      <td>0.226962</td>\n",
       "      <td>2012-05-07</td>\n",
       "    </tr>\n",
       "    <tr>\n",
       "      <th>1</th>\n",
       "      <td>0.004345</td>\n",
       "      <td>0.001532</td>\n",
       "      <td>0.001830</td>\n",
       "      <td>0.007857</td>\n",
       "      <td>0.410425</td>\n",
       "      <td>0.004574</td>\n",
       "      <td>0.335294</td>\n",
       "      <td>0.004597</td>\n",
       "      <td>0.004154</td>\n",
       "      <td>0.225393</td>\n",
       "      <td>2012-05-07</td>\n",
       "    </tr>\n",
       "    <tr>\n",
       "      <th>2</th>\n",
       "      <td>0.207953</td>\n",
       "      <td>0.004089</td>\n",
       "      <td>0.004883</td>\n",
       "      <td>0.413683</td>\n",
       "      <td>0.113656</td>\n",
       "      <td>0.110385</td>\n",
       "      <td>0.109483</td>\n",
       "      <td>0.012269</td>\n",
       "      <td>0.011086</td>\n",
       "      <td>0.012512</td>\n",
       "      <td>2012-05-07</td>\n",
       "    </tr>\n",
       "    <tr>\n",
       "      <th>3</th>\n",
       "      <td>0.006157</td>\n",
       "      <td>0.002171</td>\n",
       "      <td>0.002592</td>\n",
       "      <td>0.480236</td>\n",
       "      <td>0.112462</td>\n",
       "      <td>0.058603</td>\n",
       "      <td>0.006002</td>\n",
       "      <td>0.319249</td>\n",
       "      <td>0.005886</td>\n",
       "      <td>0.006642</td>\n",
       "      <td>2012-05-07</td>\n",
       "    </tr>\n",
       "    <tr>\n",
       "      <th>4</th>\n",
       "      <td>0.009694</td>\n",
       "      <td>0.003418</td>\n",
       "      <td>0.660596</td>\n",
       "      <td>0.099593</td>\n",
       "      <td>0.012937</td>\n",
       "      <td>0.010204</td>\n",
       "      <td>0.009450</td>\n",
       "      <td>0.010256</td>\n",
       "      <td>0.009266</td>\n",
       "      <td>0.174587</td>\n",
       "      <td>2012-05-07</td>\n",
       "    </tr>\n",
       "    <tr>\n",
       "      <th>...</th>\n",
       "      <td>...</td>\n",
       "      <td>...</td>\n",
       "      <td>...</td>\n",
       "      <td>...</td>\n",
       "      <td>...</td>\n",
       "      <td>...</td>\n",
       "      <td>...</td>\n",
       "      <td>...</td>\n",
       "      <td>...</td>\n",
       "      <td>...</td>\n",
       "      <td>...</td>\n",
       "    </tr>\n",
       "    <tr>\n",
       "      <th>25931</th>\n",
       "      <td>0.004511</td>\n",
       "      <td>0.001590</td>\n",
       "      <td>0.001899</td>\n",
       "      <td>0.008157</td>\n",
       "      <td>0.006020</td>\n",
       "      <td>0.806717</td>\n",
       "      <td>0.157153</td>\n",
       "      <td>0.004772</td>\n",
       "      <td>0.004312</td>\n",
       "      <td>0.004867</td>\n",
       "      <td>2022-08-16</td>\n",
       "    </tr>\n",
       "    <tr>\n",
       "      <th>25932</th>\n",
       "      <td>0.003559</td>\n",
       "      <td>0.001255</td>\n",
       "      <td>0.543903</td>\n",
       "      <td>0.006436</td>\n",
       "      <td>0.004751</td>\n",
       "      <td>0.184548</td>\n",
       "      <td>0.244539</td>\n",
       "      <td>0.003766</td>\n",
       "      <td>0.003403</td>\n",
       "      <td>0.003840</td>\n",
       "      <td>2022-08-16</td>\n",
       "    </tr>\n",
       "    <tr>\n",
       "      <th>25933</th>\n",
       "      <td>0.004047</td>\n",
       "      <td>0.001427</td>\n",
       "      <td>0.001704</td>\n",
       "      <td>0.007319</td>\n",
       "      <td>0.210983</td>\n",
       "      <td>0.586740</td>\n",
       "      <td>0.175263</td>\n",
       "      <td>0.004282</td>\n",
       "      <td>0.003869</td>\n",
       "      <td>0.004366</td>\n",
       "      <td>2022-08-16</td>\n",
       "    </tr>\n",
       "    <tr>\n",
       "      <th>25934</th>\n",
       "      <td>0.016439</td>\n",
       "      <td>0.005796</td>\n",
       "      <td>0.006922</td>\n",
       "      <td>0.447229</td>\n",
       "      <td>0.021940</td>\n",
       "      <td>0.017304</td>\n",
       "      <td>0.016025</td>\n",
       "      <td>0.017392</td>\n",
       "      <td>0.433218</td>\n",
       "      <td>0.017735</td>\n",
       "      <td>2022-08-16</td>\n",
       "    </tr>\n",
       "    <tr>\n",
       "      <th>25935</th>\n",
       "      <td>0.008959</td>\n",
       "      <td>0.003159</td>\n",
       "      <td>0.003772</td>\n",
       "      <td>0.016199</td>\n",
       "      <td>0.011956</td>\n",
       "      <td>0.161111</td>\n",
       "      <td>0.691298</td>\n",
       "      <td>0.085318</td>\n",
       "      <td>0.008564</td>\n",
       "      <td>0.009665</td>\n",
       "      <td>2022-08-16</td>\n",
       "    </tr>\n",
       "  </tbody>\n",
       "</table>\n",
       "<p>25936 rows × 11 columns</p>\n",
       "</div>"
      ],
      "text/plain": [
       "              0         1         2         3         4         5         6  \\\n",
       "0      0.006495  0.002290  0.002735  0.066734  0.173635  0.391758  0.006332   \n",
       "1      0.004345  0.001532  0.001830  0.007857  0.410425  0.004574  0.335294   \n",
       "2      0.207953  0.004089  0.004883  0.413683  0.113656  0.110385  0.109483   \n",
       "3      0.006157  0.002171  0.002592  0.480236  0.112462  0.058603  0.006002   \n",
       "4      0.009694  0.003418  0.660596  0.099593  0.012937  0.010204  0.009450   \n",
       "...         ...       ...       ...       ...       ...       ...       ...   \n",
       "25931  0.004511  0.001590  0.001899  0.008157  0.006020  0.806717  0.157153   \n",
       "25932  0.003559  0.001255  0.543903  0.006436  0.004751  0.184548  0.244539   \n",
       "25933  0.004047  0.001427  0.001704  0.007319  0.210983  0.586740  0.175263   \n",
       "25934  0.016439  0.005796  0.006922  0.447229  0.021940  0.017304  0.016025   \n",
       "25935  0.008959  0.003159  0.003772  0.016199  0.011956  0.161111  0.691298   \n",
       "\n",
       "              7         8         9        year  \n",
       "0      0.116849  0.006209  0.226962  2012-05-07  \n",
       "1      0.004597  0.004154  0.225393  2012-05-07  \n",
       "2      0.012269  0.011086  0.012512  2012-05-07  \n",
       "3      0.319249  0.005886  0.006642  2012-05-07  \n",
       "4      0.010256  0.009266  0.174587  2012-05-07  \n",
       "...         ...       ...       ...         ...  \n",
       "25931  0.004772  0.004312  0.004867  2022-08-16  \n",
       "25932  0.003766  0.003403  0.003840  2022-08-16  \n",
       "25933  0.004282  0.003869  0.004366  2022-08-16  \n",
       "25934  0.017392  0.433218  0.017735  2022-08-16  \n",
       "25935  0.085318  0.008564  0.009665  2022-08-16  \n",
       "\n",
       "[25936 rows x 11 columns]"
      ]
     },
     "execution_count": 121,
     "metadata": {},
     "output_type": "execute_result"
    }
   ],
   "source": [
    "df_topic_distributions"
   ]
  },
  {
   "cell_type": "code",
   "execution_count": 126,
   "metadata": {},
   "outputs": [],
   "source": [
    "from_which_year = '2011.01.01'\n",
    "grouped = df_topic_distributions.groupby('year')\n",
    "df_grouped = grouped.aggregate(np.mean)\n",
    "df_grouped = df_grouped[df_grouped.index >= from_which_year]"
   ]
  },
  {
   "cell_type": "code",
   "execution_count": 127,
   "metadata": {},
   "outputs": [
    {
     "data": {
      "text/html": [
       "<div>\n",
       "<style scoped>\n",
       "    .dataframe tbody tr th:only-of-type {\n",
       "        vertical-align: middle;\n",
       "    }\n",
       "\n",
       "    .dataframe tbody tr th {\n",
       "        vertical-align: top;\n",
       "    }\n",
       "\n",
       "    .dataframe thead th {\n",
       "        text-align: right;\n",
       "    }\n",
       "</style>\n",
       "<table border=\"1\" class=\"dataframe\">\n",
       "  <thead>\n",
       "    <tr style=\"text-align: right;\">\n",
       "      <th></th>\n",
       "      <th>0</th>\n",
       "      <th>1</th>\n",
       "      <th>2</th>\n",
       "      <th>3</th>\n",
       "      <th>4</th>\n",
       "      <th>5</th>\n",
       "      <th>6</th>\n",
       "      <th>7</th>\n",
       "      <th>8</th>\n",
       "      <th>9</th>\n",
       "    </tr>\n",
       "    <tr>\n",
       "      <th>year</th>\n",
       "      <th></th>\n",
       "      <th></th>\n",
       "      <th></th>\n",
       "      <th></th>\n",
       "      <th></th>\n",
       "      <th></th>\n",
       "      <th></th>\n",
       "      <th></th>\n",
       "      <th></th>\n",
       "      <th></th>\n",
       "    </tr>\n",
       "  </thead>\n",
       "  <tbody>\n",
       "    <tr>\n",
       "      <th>2012-05-07</th>\n",
       "      <td>0.037704</td>\n",
       "      <td>0.003032</td>\n",
       "      <td>0.056590</td>\n",
       "      <td>0.087613</td>\n",
       "      <td>0.188119</td>\n",
       "      <td>0.059043</td>\n",
       "      <td>0.053117</td>\n",
       "      <td>0.036819</td>\n",
       "      <td>0.246970</td>\n",
       "      <td>0.230993</td>\n",
       "    </tr>\n",
       "    <tr>\n",
       "      <th>2012-05-09</th>\n",
       "      <td>0.016936</td>\n",
       "      <td>0.012930</td>\n",
       "      <td>0.018629</td>\n",
       "      <td>0.070029</td>\n",
       "      <td>0.031871</td>\n",
       "      <td>0.046737</td>\n",
       "      <td>0.016510</td>\n",
       "      <td>0.017918</td>\n",
       "      <td>0.078970</td>\n",
       "      <td>0.689471</td>\n",
       "    </tr>\n",
       "    <tr>\n",
       "      <th>2012-05-22</th>\n",
       "      <td>0.277685</td>\n",
       "      <td>0.008478</td>\n",
       "      <td>0.064963</td>\n",
       "      <td>0.119632</td>\n",
       "      <td>0.216592</td>\n",
       "      <td>0.071591</td>\n",
       "      <td>0.033495</td>\n",
       "      <td>0.092688</td>\n",
       "      <td>0.068495</td>\n",
       "      <td>0.046380</td>\n",
       "    </tr>\n",
       "    <tr>\n",
       "      <th>2012-05-24</th>\n",
       "      <td>0.013574</td>\n",
       "      <td>0.004786</td>\n",
       "      <td>0.010771</td>\n",
       "      <td>0.250123</td>\n",
       "      <td>0.052233</td>\n",
       "      <td>0.069368</td>\n",
       "      <td>0.123088</td>\n",
       "      <td>0.031336</td>\n",
       "      <td>0.158473</td>\n",
       "      <td>0.286247</td>\n",
       "    </tr>\n",
       "    <tr>\n",
       "      <th>2012-05-26</th>\n",
       "      <td>0.056446</td>\n",
       "      <td>0.007485</td>\n",
       "      <td>0.018135</td>\n",
       "      <td>0.092800</td>\n",
       "      <td>0.419664</td>\n",
       "      <td>0.142148</td>\n",
       "      <td>0.093255</td>\n",
       "      <td>0.037426</td>\n",
       "      <td>0.038260</td>\n",
       "      <td>0.094382</td>\n",
       "    </tr>\n",
       "    <tr>\n",
       "      <th>...</th>\n",
       "      <td>...</td>\n",
       "      <td>...</td>\n",
       "      <td>...</td>\n",
       "      <td>...</td>\n",
       "      <td>...</td>\n",
       "      <td>...</td>\n",
       "      <td>...</td>\n",
       "      <td>...</td>\n",
       "      <td>...</td>\n",
       "      <td>...</td>\n",
       "    </tr>\n",
       "    <tr>\n",
       "      <th>2022-07-31</th>\n",
       "      <td>0.030275</td>\n",
       "      <td>0.012753</td>\n",
       "      <td>0.427880</td>\n",
       "      <td>0.052674</td>\n",
       "      <td>0.020088</td>\n",
       "      <td>0.064838</td>\n",
       "      <td>0.015686</td>\n",
       "      <td>0.041787</td>\n",
       "      <td>0.064253</td>\n",
       "      <td>0.269766</td>\n",
       "    </tr>\n",
       "    <tr>\n",
       "      <th>2022-08-07</th>\n",
       "      <td>0.397211</td>\n",
       "      <td>0.034109</td>\n",
       "      <td>0.016471</td>\n",
       "      <td>0.039391</td>\n",
       "      <td>0.078901</td>\n",
       "      <td>0.016737</td>\n",
       "      <td>0.045025</td>\n",
       "      <td>0.091008</td>\n",
       "      <td>0.250389</td>\n",
       "      <td>0.030759</td>\n",
       "    </tr>\n",
       "    <tr>\n",
       "      <th>2022-08-09</th>\n",
       "      <td>0.026693</td>\n",
       "      <td>0.017575</td>\n",
       "      <td>0.014310</td>\n",
       "      <td>0.121244</td>\n",
       "      <td>0.051751</td>\n",
       "      <td>0.010597</td>\n",
       "      <td>0.009814</td>\n",
       "      <td>0.010651</td>\n",
       "      <td>0.076125</td>\n",
       "      <td>0.661241</td>\n",
       "    </tr>\n",
       "    <tr>\n",
       "      <th>2022-08-15</th>\n",
       "      <td>0.056578</td>\n",
       "      <td>0.011355</td>\n",
       "      <td>0.030257</td>\n",
       "      <td>0.137344</td>\n",
       "      <td>0.050229</td>\n",
       "      <td>0.082024</td>\n",
       "      <td>0.072743</td>\n",
       "      <td>0.012504</td>\n",
       "      <td>0.153208</td>\n",
       "      <td>0.393757</td>\n",
       "    </tr>\n",
       "    <tr>\n",
       "      <th>2022-08-16</th>\n",
       "      <td>0.014576</td>\n",
       "      <td>0.026449</td>\n",
       "      <td>0.095797</td>\n",
       "      <td>0.100000</td>\n",
       "      <td>0.062383</td>\n",
       "      <td>0.428403</td>\n",
       "      <td>0.134633</td>\n",
       "      <td>0.011724</td>\n",
       "      <td>0.032405</td>\n",
       "      <td>0.093630</td>\n",
       "    </tr>\n",
       "  </tbody>\n",
       "</table>\n",
       "<p>717 rows × 10 columns</p>\n",
       "</div>"
      ],
      "text/plain": [
       "                   0         1         2         3         4         5  \\\n",
       "year                                                                     \n",
       "2012-05-07  0.037704  0.003032  0.056590  0.087613  0.188119  0.059043   \n",
       "2012-05-09  0.016936  0.012930  0.018629  0.070029  0.031871  0.046737   \n",
       "2012-05-22  0.277685  0.008478  0.064963  0.119632  0.216592  0.071591   \n",
       "2012-05-24  0.013574  0.004786  0.010771  0.250123  0.052233  0.069368   \n",
       "2012-05-26  0.056446  0.007485  0.018135  0.092800  0.419664  0.142148   \n",
       "...              ...       ...       ...       ...       ...       ...   \n",
       "2022-07-31  0.030275  0.012753  0.427880  0.052674  0.020088  0.064838   \n",
       "2022-08-07  0.397211  0.034109  0.016471  0.039391  0.078901  0.016737   \n",
       "2022-08-09  0.026693  0.017575  0.014310  0.121244  0.051751  0.010597   \n",
       "2022-08-15  0.056578  0.011355  0.030257  0.137344  0.050229  0.082024   \n",
       "2022-08-16  0.014576  0.026449  0.095797  0.100000  0.062383  0.428403   \n",
       "\n",
       "                   6         7         8         9  \n",
       "year                                                \n",
       "2012-05-07  0.053117  0.036819  0.246970  0.230993  \n",
       "2012-05-09  0.016510  0.017918  0.078970  0.689471  \n",
       "2012-05-22  0.033495  0.092688  0.068495  0.046380  \n",
       "2012-05-24  0.123088  0.031336  0.158473  0.286247  \n",
       "2012-05-26  0.093255  0.037426  0.038260  0.094382  \n",
       "...              ...       ...       ...       ...  \n",
       "2022-07-31  0.015686  0.041787  0.064253  0.269766  \n",
       "2022-08-07  0.045025  0.091008  0.250389  0.030759  \n",
       "2022-08-09  0.009814  0.010651  0.076125  0.661241  \n",
       "2022-08-15  0.072743  0.012504  0.153208  0.393757  \n",
       "2022-08-16  0.134633  0.011724  0.032405  0.093630  \n",
       "\n",
       "[717 rows x 10 columns]"
      ]
     },
     "execution_count": 127,
     "metadata": {},
     "output_type": "execute_result"
    }
   ],
   "source": [
    "df_grouped"
   ]
  },
  {
   "cell_type": "code",
   "execution_count": 128,
   "metadata": {},
   "outputs": [
    {
     "ename": "ValueError",
     "evalue": "invalid literal for int() with base 10: '2012-05-07'",
     "output_type": "error",
     "traceback": [
      "\u001b[0;31m---------------------------------------------------------------------------\u001b[0m",
      "\u001b[0;31mValueError\u001b[0m                                Traceback (most recent call last)",
      "Cell \u001b[0;32mIn[128], line 3\u001b[0m\n\u001b[1;32m      1\u001b[0m fig \u001b[39m=\u001b[39m plt\u001b[39m.\u001b[39mfigure(figsize\u001b[39m=\u001b[39m(\u001b[39m16\u001b[39m, \u001b[39m12\u001b[39m))\n\u001b[1;32m      2\u001b[0m plt\u001b[39m.\u001b[39mpcolor(df_grouped\u001b[39m.\u001b[39mto_numpy(), norm\u001b[39m=\u001b[39m\u001b[39mNone\u001b[39;00m, cmap\u001b[39m=\u001b[39m\u001b[39m'\u001b[39m\u001b[39mBlues\u001b[39m\u001b[39m'\u001b[39m)\n\u001b[0;32m----> 3\u001b[0m plt\u001b[39m.\u001b[39myticks(np\u001b[39m.\u001b[39marange(df_grouped\u001b[39m.\u001b[39mto_numpy()\u001b[39m.\u001b[39mshape[\u001b[39m0\u001b[39m])\u001b[39m+\u001b[39m\u001b[39m0.5\u001b[39m, [\u001b[39mint\u001b[39m(x) \u001b[39mfor\u001b[39;00m x \u001b[39min\u001b[39;00m df_grouped\u001b[39m.\u001b[39mindex\u001b[39m.\u001b[39mvalues])\n\u001b[1;32m      4\u001b[0m plt\u001b[39m.\u001b[39mxticks(np\u001b[39m.\u001b[39marange(df_grouped\u001b[39m.\u001b[39mto_numpy()\u001b[39m.\u001b[39mshape[\u001b[39m1\u001b[39m])\u001b[39m+\u001b[39m\u001b[39m0.5\u001b[39m, [\u001b[39m\"\u001b[39m\u001b[39mTopic #\u001b[39m\u001b[39m\"\u001b[39m\u001b[39m+\u001b[39m\u001b[39mstr\u001b[39m(n) \u001b[39mfor\u001b[39;00m n \u001b[39min\u001b[39;00m \u001b[39mrange\u001b[39m(lda\u001b[39m.\u001b[39mnum_topics)], rotation \u001b[39m=\u001b[39m \u001b[39m45\u001b[39m)\n\u001b[1;32m      5\u001b[0m plt\u001b[39m.\u001b[39mcolorbar(cmap\u001b[39m=\u001b[39m\u001b[39m'\u001b[39m\u001b[39mBlues\u001b[39m\u001b[39m'\u001b[39m)  \u001b[39m# plot colorbar\u001b[39;00m\n",
      "Cell \u001b[0;32mIn[128], line 3\u001b[0m, in \u001b[0;36m<listcomp>\u001b[0;34m(.0)\u001b[0m\n\u001b[1;32m      1\u001b[0m fig \u001b[39m=\u001b[39m plt\u001b[39m.\u001b[39mfigure(figsize\u001b[39m=\u001b[39m(\u001b[39m16\u001b[39m, \u001b[39m12\u001b[39m))\n\u001b[1;32m      2\u001b[0m plt\u001b[39m.\u001b[39mpcolor(df_grouped\u001b[39m.\u001b[39mto_numpy(), norm\u001b[39m=\u001b[39m\u001b[39mNone\u001b[39;00m, cmap\u001b[39m=\u001b[39m\u001b[39m'\u001b[39m\u001b[39mBlues\u001b[39m\u001b[39m'\u001b[39m)\n\u001b[0;32m----> 3\u001b[0m plt\u001b[39m.\u001b[39myticks(np\u001b[39m.\u001b[39marange(df_grouped\u001b[39m.\u001b[39mto_numpy()\u001b[39m.\u001b[39mshape[\u001b[39m0\u001b[39m])\u001b[39m+\u001b[39m\u001b[39m0.5\u001b[39m, [\u001b[39mint\u001b[39;49m(x) \u001b[39mfor\u001b[39;00m x \u001b[39min\u001b[39;00m df_grouped\u001b[39m.\u001b[39mindex\u001b[39m.\u001b[39mvalues])\n\u001b[1;32m      4\u001b[0m plt\u001b[39m.\u001b[39mxticks(np\u001b[39m.\u001b[39marange(df_grouped\u001b[39m.\u001b[39mto_numpy()\u001b[39m.\u001b[39mshape[\u001b[39m1\u001b[39m])\u001b[39m+\u001b[39m\u001b[39m0.5\u001b[39m, [\u001b[39m\"\u001b[39m\u001b[39mTopic #\u001b[39m\u001b[39m\"\u001b[39m\u001b[39m+\u001b[39m\u001b[39mstr\u001b[39m(n) \u001b[39mfor\u001b[39;00m n \u001b[39min\u001b[39;00m \u001b[39mrange\u001b[39m(lda\u001b[39m.\u001b[39mnum_topics)], rotation \u001b[39m=\u001b[39m \u001b[39m45\u001b[39m)\n\u001b[1;32m      5\u001b[0m plt\u001b[39m.\u001b[39mcolorbar(cmap\u001b[39m=\u001b[39m\u001b[39m'\u001b[39m\u001b[39mBlues\u001b[39m\u001b[39m'\u001b[39m)  \u001b[39m# plot colorbar\u001b[39;00m\n",
      "\u001b[0;31mValueError\u001b[0m: invalid literal for int() with base 10: '2012-05-07'"
     ]
    },
    {
     "data": {
      "image/png": "[encoded data removed]",
      "text/plain": [
       "<Figure size 1600x1200 with 1 Axes>"
      ]
     },
     "metadata": {},
     "output_type": "display_data"
    }
   ],
   "source": [
    "fig = plt.figure(figsize=(16, 12))\n",
    "plt.pcolor(df_grouped.to_numpy(), norm=None, cmap='Blues')\n",
    "plt.yticks(np.arange(df_grouped.to_numpy().shape[0])+0.5, [int(x) for x in df_grouped.index.values])\n",
    "plt.xticks(np.arange(df_grouped.to_numpy().shape[1])+0.5, [\"Topic #\"+str(n) for n in range(lda.num_topics)], rotation = 45)\n",
    "plt.colorbar(cmap='Blues')  # plot colorbar\n",
    "plt.tight_layout()  # fixes margins\n",
    "#plt.savefig(\"figures/nb2_topic_model_all_time_15.pdf\")\n",
    "plt.show()"
   ]
  },
  {
   "cell_type": "code",
   "execution_count": 57,
   "metadata": {},
   "outputs": [],
   "source": [
    "topic_list = []\n",
    "# Iterate over the topics\n",
    "for k in range(lda.k):\n",
    "    # Get the topic words\n",
    "    topic_words = lda.get_topic_words(k)\n",
    "    for word, prob in topic_words:\n",
    "        topic_list.append({'topic': \"Topic #{}\".format(k), 'word': word, 'prob': prob})\n",
    "topic_df = pd.DataFrame(topic_list)\n",
    "# Set the topic column as the index\n",
    "topic_df.set_index('topic', inplace=True)"
   ]
  },
  {
   "cell_type": "code",
   "execution_count": 65,
   "metadata": {},
   "outputs": [
    {
     "data": {
      "text/plain": [
       "0        2012-05-07\n",
       "1        2012-05-07\n",
       "2        2012-05-07\n",
       "3        2012-05-07\n",
       "4        2012-05-07\n",
       "            ...    \n",
       "25931    2022-08-16\n",
       "25932    2022-08-16\n",
       "25933    2022-08-16\n",
       "25934    2022-08-16\n",
       "25935    2022-08-16\n",
       "Name: date, Length: 25936, dtype: object"
      ]
     },
     "execution_count": 65,
     "metadata": {},
     "output_type": "execute_result"
    }
   ],
   "source": [
    "read_lemma[\"date\"]"
   ]
  },
  {
   "cell_type": "code",
   "execution_count": 67,
   "metadata": {},
   "outputs": [],
   "source": [
    "import numpy as np \n",
    "before_2014 = np.array(read_lemma[\"date\"] < '2014-01-01') \n",
    "after_2014 = ~ before_2014"
   ]
  },
  {
   "attachments": {},
   "cell_type": "markdown",
   "metadata": {},
   "source": [
    "## LDA 20 topics"
   ]
  },
  {
   "cell_type": "code",
   "execution_count": null,
   "metadata": {},
   "outputs": [],
   "source": [
    "params = {'num_topics': 20, 'min_cf': 100, 'min_df': int(len(docs)*0.005), 'rm_top': 30, 'random_state': seed}"
   ]
  },
  {
   "cell_type": "code",
   "execution_count": null,
   "metadata": {},
   "outputs": [],
   "source": [
    "lda = tp.LDAModel(k=params['num_topics'],min_cf=params['min_cf'],min_df=params['min_df'],seed=params['random_state'],rm_top=params['rm_top'])"
   ]
  },
  {
   "cell_type": "code",
   "execution_count": null,
   "metadata": {},
   "outputs": [],
   "source": [
    "for doc in docs:\n",
    "    lda.add_doc(doc)\n",
    "\n",
    "for i in range(0, 1000, 10):\n",
    "    lda.train(10)\n",
    "    print('Iteration: {}\\tLog-likelihood: {}'.format(i, lda.ll_per_word))"
   ]
  },
  {
   "cell_type": "code",
   "execution_count": null,
   "metadata": {},
   "outputs": [],
   "source": [
    "for k in range(lda.k):\n",
    "        print('Topic #{}'.format(k))\n",
    "        for word, prob in lda.get_topic_words(k):\n",
    "            print('\\t', word, prob, sep='\\t')"
   ]
  },
  {
   "cell_type": "code",
   "execution_count": null,
   "metadata": {},
   "outputs": [],
   "source": [
    "print('Num docs:{}, Num Vocabs:{}, Total Words:{}'.format(\n",
    "    len(lda.docs), len(lda.used_vocabs), lda.num_words\n",
    "))"
   ]
  },
  {
   "cell_type": "code",
   "execution_count": null,
   "metadata": {},
   "outputs": [],
   "source": [
    "print('Removed Top words: ', *lda.removed_top_words)"
   ]
  },
  {
   "cell_type": "code",
   "execution_count": null,
   "metadata": {},
   "outputs": [],
   "source": [
    "lda.save('models/lda_tomotopy_20t.bin')"
   ]
  },
  {
   "cell_type": "code",
   "execution_count": null,
   "metadata": {},
   "outputs": [],
   "source": [
    "lda = tp.LDAModel.load('models/lda_tomotopy_20t.bin')\n",
    "for k in range(lda.k):\n",
    "    #if not mdl.is_live_topic(k): continue\n",
    "    print('Top 10 words of topic #{}'.format(k))\n",
    "    print(lda.get_topic_words(k, top_n=10))\n",
    "\n",
    "lda.load('models/lda_tomotopy_20t.bin')"
   ]
  },
  {
   "cell_type": "code",
   "execution_count": null,
   "metadata": {},
   "outputs": [],
   "source": [
    "topic_term_dists = np.stack([lda.get_topic_word_dist(k) for k in range(lda.k)])"
   ]
  },
  {
   "cell_type": "code",
   "execution_count": null,
   "metadata": {},
   "outputs": [],
   "source": [
    "doc_topic_dists = np.stack([doc.get_topic_dist() for doc in lda.docs])"
   ]
  },
  {
   "cell_type": "code",
   "execution_count": null,
   "metadata": {},
   "outputs": [],
   "source": [
    "doc_topic_dists /= doc_topic_dists.sum(axis=1, keepdims=True)"
   ]
  },
  {
   "cell_type": "code",
   "execution_count": null,
   "metadata": {},
   "outputs": [],
   "source": [
    "from collections import Counter\n",
    "doc_lengths = np.array([len(doc.words) for doc in lda.docs])\n",
    "counter = Counter(doc_lengths)"
   ]
  },
  {
   "cell_type": "code",
   "execution_count": null,
   "metadata": {},
   "outputs": [],
   "source": [
    "vocab = list(lda.used_vocabs)\n",
    "term_frequency = lda.used_vocab_freq"
   ]
  },
  {
   "cell_type": "code",
   "execution_count": null,
   "metadata": {},
   "outputs": [],
   "source": [
    "pyLDAvis.enable_notebook()"
   ]
  },
  {
   "cell_type": "code",
   "execution_count": null,
   "metadata": {},
   "outputs": [],
   "source": [
    "prepared_data = pyLDAvis.prepare(\n",
    "    topic_term_dists, \n",
    "    doc_topic_dists, \n",
    "    doc_lengths, \n",
    "    vocab, \n",
    "    term_frequency,\n",
    "    start_index=0, # tomotopy starts topic ids with 0, pyLDAvis with 1\n",
    "    sort_topics=False # IMPORTANT: otherwise the topic_ids between pyLDAvis and tomotopy are not matching!\n",
    ")"
   ]
  },
  {
   "cell_type": "code",
   "execution_count": null,
   "metadata": {},
   "outputs": [],
   "source": [
    "prepared_data"
   ]
  },
  {
   "cell_type": "code",
   "execution_count": null,
   "metadata": {},
   "outputs": [],
   "source": [
    "# calculate coherence using preset\n",
    "for preset in ('u_mass', 'c_uci', 'c_npmi', 'c_v'):\n",
    "    coh = tp.coherence.Coherence(lda, coherence=preset)\n",
    "    average_coherence = coh.get_score()\n",
    "    coherence_per_topic = [coh.get_score(topic_id=k) for k in range(lda.k)]\n",
    "    print('==== Coherence : {} ===='.format(preset))\n",
    "    print('Average:', average_coherence, '\\nPer Topic:', coherence_per_topic)\n",
    "    print()"
   ]
  },
  {
   "attachments": {},
   "cell_type": "markdown",
   "metadata": {},
   "source": [
    "## LDA 25 topics"
   ]
  },
  {
   "cell_type": "code",
   "execution_count": null,
   "metadata": {},
   "outputs": [],
   "source": [
    "params = {'num_topics': 25, 'min_cf': 100, 'min_df': int(len(docs)*0.005), 'rm_top': 30, 'random_state': seed}"
   ]
  },
  {
   "cell_type": "code",
   "execution_count": null,
   "metadata": {},
   "outputs": [],
   "source": [
    "lda = tp.LDAModel(k=params['num_topics'],min_cf=params['min_cf'],min_df=params['min_df'],seed=params['random_state'],rm_top=params['rm_top'])"
   ]
  },
  {
   "cell_type": "code",
   "execution_count": null,
   "metadata": {},
   "outputs": [],
   "source": [
    "for doc in docs:\n",
    "    lda.add_doc(doc)\n",
    "\n",
    "for i in range(0, 1000, 10):\n",
    "    lda.train(10)\n",
    "    print('Iteration: {}\\tLog-likelihood: {}'.format(i, lda.ll_per_word))"
   ]
  },
  {
   "cell_type": "code",
   "execution_count": null,
   "metadata": {},
   "outputs": [],
   "source": [
    "for k in range(lda.k):\n",
    "        print('Topic #{}'.format(k))\n",
    "        for word, prob in lda.get_topic_words(k):\n",
    "            print('\\t', word, prob, sep='\\t')"
   ]
  },
  {
   "cell_type": "code",
   "execution_count": null,
   "metadata": {},
   "outputs": [],
   "source": [
    "print('Num docs:{}, Num Vocabs:{}, Total Words:{}'.format(\n",
    "    len(lda.docs), len(lda.used_vocabs), lda.num_words\n",
    "))"
   ]
  },
  {
   "cell_type": "code",
   "execution_count": null,
   "metadata": {},
   "outputs": [],
   "source": [
    "print('Removed Top words: ', *lda.removed_top_words)"
   ]
  },
  {
   "cell_type": "code",
   "execution_count": null,
   "metadata": {},
   "outputs": [],
   "source": [
    "lda.save('models/lda_tomotopy_25t.bin')"
   ]
  },
  {
   "cell_type": "code",
   "execution_count": null,
   "metadata": {},
   "outputs": [],
   "source": [
    "lda = tp.LDAModel.load('models/lda_tomotopy_25t.bin')\n",
    "for k in range(lda.k):\n",
    "    #if not mdl.is_live_topic(k): continue\n",
    "    print('Top 10 words of topic #{}'.format(k))\n",
    "    print(lda.get_topic_words(k, top_n=10))\n",
    "\n",
    "lda.load('models/lda_tomotopy_25t.bin')"
   ]
  },
  {
   "cell_type": "code",
   "execution_count": null,
   "metadata": {},
   "outputs": [],
   "source": [
    "topic_term_dists = np.stack([lda.get_topic_word_dist(k) for k in range(lda.k)])"
   ]
  },
  {
   "cell_type": "code",
   "execution_count": null,
   "metadata": {},
   "outputs": [],
   "source": [
    "doc_topic_dists = np.stack([doc.get_topic_dist() for doc in lda.docs])"
   ]
  },
  {
   "cell_type": "code",
   "execution_count": null,
   "metadata": {},
   "outputs": [],
   "source": [
    "doc_topic_dists /= doc_topic_dists.sum(axis=1, keepdims=True)"
   ]
  },
  {
   "cell_type": "code",
   "execution_count": null,
   "metadata": {},
   "outputs": [],
   "source": [
    "from collections import Counter\n",
    "doc_lengths = np.array([len(doc.words) for doc in lda.docs])\n",
    "counter = Counter(doc_lengths)"
   ]
  },
  {
   "cell_type": "code",
   "execution_count": null,
   "metadata": {},
   "outputs": [],
   "source": [
    "vocab = list(lda.used_vocabs)\n",
    "term_frequency = lda.used_vocab_freq"
   ]
  },
  {
   "cell_type": "code",
   "execution_count": null,
   "metadata": {},
   "outputs": [],
   "source": [
    "pyLDAvis.enable_notebook()"
   ]
  },
  {
   "cell_type": "code",
   "execution_count": null,
   "metadata": {},
   "outputs": [],
   "source": [
    "prepared_data = pyLDAvis.prepare(\n",
    "    topic_term_dists, \n",
    "    doc_topic_dists, \n",
    "    doc_lengths, \n",
    "    vocab, \n",
    "    term_frequency,\n",
    "    start_index=0, # tomotopy starts topic ids with 0, pyLDAvis with 1\n",
    "    sort_topics=False # IMPORTANT: otherwise the topic_ids between pyLDAvis and tomotopy are not matching!\n",
    ")"
   ]
  },
  {
   "cell_type": "code",
   "execution_count": null,
   "metadata": {},
   "outputs": [],
   "source": [
    "prepared_data"
   ]
  },
  {
   "cell_type": "code",
   "execution_count": null,
   "metadata": {},
   "outputs": [],
   "source": [
    "# calculate coherence using preset\n",
    "for preset in ('u_mass', 'c_uci', 'c_npmi', 'c_v'):\n",
    "    coh = tp.coherence.Coherence(lda, coherence=preset)\n",
    "    average_coherence = coh.get_score()\n",
    "    coherence_per_topic = [coh.get_score(topic_id=k) for k in range(lda.k)]\n",
    "    print('==== Coherence : {} ===='.format(preset))\n",
    "    print('Average:', average_coherence, '\\nPer Topic:', coherence_per_topic)\n",
    "    print()"
   ]
  },
  {
   "attachments": {},
   "cell_type": "markdown",
   "metadata": {},
   "source": [
    "## LDA gensim 10 topics"
   ]
  },
  {
   "cell_type": "code",
   "execution_count": 51,
   "metadata": {},
   "outputs": [
    {
     "name": "stdout",
     "output_type": "stream",
     "text": [
      "CPU times: user 2min 10s, sys: 2.05 s, total: 2min 12s\n",
      "Wall time: 2min 29s\n"
     ]
    }
   ],
   "source": [
    "%%time\n",
    "\n",
    "from gensim.models import LdaMulticore, LdaModel\n",
    "params = {'num_topics': 10,'passes': 10, 'random_state': seed}\n",
    "\n",
    "model = LdaModel(corpus=corpus, num_topics=params['num_topics'], id2word=dictionary, #workers=6,\n",
    "                passes=params['passes'], random_state=params['random_state'])"
   ]
  },
  {
   "cell_type": "code",
   "execution_count": 52,
   "metadata": {},
   "outputs": [
    {
     "data": {
      "text/plain": [
       "[(0,\n",
       "  '0.014*\"тысяча\" + 0.014*\"военный\" + 0.012*\"участие\" + 0.011*\"работа\" + 0.010*\"принять\" + 0.009*\"оружие\" + 0.009*\"состав\" + 0.008*\"техника\" + 0.008*\"мероприятие\" + 0.007*\"оборона\" + 0.007*\"боевой\" + 0.007*\"современный\" + 0.007*\"вооружение\" + 0.007*\"принимать\" + 0.007*\"министерство\" + 0.007*\"флот\" + 0.006*\"служба\" + 0.006*\"конституция\" + 0.006*\"морской\" + 0.006*\"медицинский\" + 0.006*\"инфекция\" + 0.006*\"ход\" + 0.005*\"военно\" + 0.005*\"задача\" + 0.005*\"подготовка\" + 0.005*\"войско\" + 0.005*\"сила\" + 0.005*\"операция\" + 0.005*\"специальный\" + 0.005*\"дело\"'),\n",
       " (1,\n",
       "  '0.027*\"безопасность\" + 0.014*\"борьба\" + 0.013*\"право\" + 0.012*\"угроза\" + 0.011*\"орган\" + 0.011*\"международный\" + 0.010*\"внимание\" + 0.009*\"число\" + 0.009*\"обеспечение\" + 0.008*\"санкция\" + 0.008*\"гражданин\" + 0.008*\"сила\" + 0.007*\"работа\" + 0.007*\"защита\" + 0.007*\"мера\" + 0.007*\"государство\" + 0.007*\"терроризм\" + 0.006*\"интерес\" + 0.006*\"против\" + 0.006*\"преступление\" + 0.006*\"дело\" + 0.006*\"нарушение\" + 0.006*\"страна\" + 0.006*\"ситуация\" + 0.006*\"сирия\" + 0.006*\"действие\" + 0.006*\"необходимый\" + 0.005*\"оон\" + 0.005*\"задача\" + 0.005*\"правоохранительный\"'),\n",
       " (2,\n",
       "  '0.033*\"человек\" + 0.025*\"страна\" + 0.017*\"россия\" + 0.013*\"жизнь\" + 0.012*\"народ\" + 0.011*\"общество\" + 0.011*\"развитие\" + 0.011*\"важный\" + 0.011*\"мир\" + 0.010*\"культура\" + 0.009*\"государство\" + 0.008*\"интерес\" + 0.008*\"гражданин\" + 0.008*\"русский\" + 0.007*\"история\" + 0.006*\"общий\" + 0.006*\"цель\" + 0.006*\"право\" + 0.006*\"ценность\" + 0.005*\"задача\" + 0.005*\"политический\" + 0.005*\"партия\" + 0.005*\"основа\" + 0.005*\"будущее\" + 0.005*\"исторический\" + 0.005*\"дело\" + 0.004*\"современный\" + 0.004*\"национальный\" + 0.004*\"уважение\" + 0.004*\"достижение\"'),\n",
       " (3,\n",
       "  '0.021*\"россия\" + 0.021*\"страна\" + 0.018*\"сотрудничество\" + 0.016*\"развитие\" + 0.015*\"экономический\" + 0.011*\"международный\" + 0.010*\"отношение\" + 0.009*\"совместный\" + 0.009*\"форум\" + 0.008*\"государство\" + 0.008*\"китай\" + 0.008*\"российский\" + 0.008*\"партнёр\" + 0.008*\"регион\" + 0.007*\"важный\" + 0.007*\"связь\" + 0.007*\"проект\" + 0.006*\"работа\" + 0.006*\"взаимодействие\" + 0.006*\"сфера\" + 0.006*\"республика\" + 0.006*\"организация\" + 0.006*\"рамка\" + 0.005*\"область\" + 0.005*\"вопрос\" + 0.005*\"друг\" + 0.005*\"мир\" + 0.005*\"экономика\" + 0.005*\"являться\" + 0.005*\"китайский\"'),\n",
       " (4,\n",
       "  '0.016*\"проект\" + 0.013*\"восток\" + 0.011*\"дальний\" + 0.011*\"доллар\" + 0.010*\"регион\" + 0.010*\"российский\" + 0.010*\"дальний_восток\" + 0.010*\"россия\" + 0.009*\"крупный\" + 0.009*\"компания\" + 0.009*\"территория\" + 0.008*\"инфраструктура\" + 0.008*\"газ\" + 0.008*\"строительство\" + 0.007*\"объём\" + 0.007*\"развитие\" + 0.007*\"центр\" + 0.007*\"город\" + 0.007*\"тысяча\" + 0.007*\"производство\" + 0.006*\"северный\" + 0.006*\"транспортный\" + 0.006*\"миллион\" + 0.005*\"инвестиция\" + 0.005*\"арктика\" + 0.005*\"восточный\" + 0.005*\"возможность\" + 0.005*\"технология\" + 0.005*\"первый\" + 0.005*\"страна\"'),\n",
       " (5,\n",
       "  '0.034*\"российский\" + 0.025*\"федерация\" + 0.023*\"российский_федерация\" + 0.017*\"поблагодарить\" + 0.015*\"высокий\" + 0.014*\"москва\" + 0.012*\"успех\" + 0.012*\"награда\" + 0.012*\"министр\" + 0.011*\"город\" + 0.010*\"россия\" + 0.009*\"работа\" + 0.008*\"желать\" + 0.008*\"государственный\" + 0.008*\"петербург\" + 0.008*\"поздравлять\" + 0.007*\"благодарить\" + 0.007*\"большой\" + 0.007*\"благодарность\" + 0.007*\"первый\" + 0.007*\"премьер\" + 0.006*\"поздравить\" + 0.006*\"санкт\" + 0.006*\"огромный\" + 0.006*\"премьер_министр\" + 0.006*\"пожелать\" + 0.006*\"больший\" + 0.006*\"выразить\" + 0.006*\"сказать\" + 0.006*\"труд\"'),\n",
       " (6,\n",
       "  '0.015*\"россия\" + 0.014*\"великий\" + 0.013*\"ребёнок\" + 0.013*\"война\" + 0.012*\"жизнь\" + 0.012*\"семья\" + 0.010*\"человек\" + 0.010*\"поколение\" + 0.010*\"родина\" + 0.010*\"советский\" + 0.010*\"победа\" + 0.009*\"страна\" + 0.009*\"история\" + 0.008*\"народ\" + 0.008*\"сила\" + 0.007*\"отечество\" + 0.007*\"отечественный\" + 0.007*\"здоровье\" + 0.006*\"время\" + 0.006*\"память\" + 0.006*\"праздник\" + 0.005*\"герой\" + 0.005*\"земля\" + 0.005*\"ветеран\" + 0.005*\"советский_союз\" + 0.004*\"любовь\" + 0.004*\"традиция\" + 0.004*\"великий_отечественный\" + 0.004*\"дом\" + 0.004*\"сердце\"'),\n",
       " (7,\n",
       "  '0.010*\"работа\" + 0.010*\"решение\" + 0.009*\"развитие\" + 0.008*\"важный\" + 0.008*\"сфера\" + 0.007*\"бизнес\" + 0.007*\"технология\" + 0.007*\"необходимый\" + 0.007*\"задача\" + 0.006*\"поддержка\" + 0.006*\"система\" + 0.006*\"число\" + 0.006*\"программа\" + 0.006*\"гражданин\" + 0.006*\"правительство\" + 0.006*\"государственный\" + 0.006*\"регион\" + 0.005*\"медицинский\" + 0.005*\"вопрос\" + 0.005*\"экономика\" + 0.005*\"условие\" + 0.005*\"уровень\" + 0.005*\"социальный\" + 0.005*\"помощь\" + 0.005*\"компания\" + 0.005*\"внимание\" + 0.005*\"средство\" + 0.005*\"работать\" + 0.005*\"отрасль\" + 0.004*\"обеспечить\"'),\n",
       " (8,\n",
       "  '0.022*\"говорить\" + 0.017*\"сказать\" + 0.015*\"вопрос\" + 0.012*\"страна\" + 0.010*\"экономика\" + 0.009*\"проблема\" + 0.009*\"ситуация\" + 0.008*\"мир\" + 0.007*\"время\" + 0.007*\"россия\" + 0.007*\"сделать\" + 0.006*\"мировой\" + 0.006*\"происходить\" + 0.005*\"отношение\" + 0.005*\"украина\" + 0.005*\"искусственный\" + 0.005*\"касаться\" + 0.005*\"интеллект\" + 0.005*\"решение\" + 0.005*\"искусственный_интеллект\" + 0.005*\"первый\" + 0.005*\"рост\" + 0.004*\"штат\" + 0.004*\"дело\" + 0.004*\"сторона\" + 0.004*\"случай\" + 0.004*\"последний\" + 0.004*\"глобальный\" + 0.004*\"сша\" + 0.004*\"точка\"'),\n",
       " (9,\n",
       "  '0.019*\"человек\" + 0.012*\"сказать\" + 0.011*\"работать\" + 0.010*\"страна\" + 0.009*\"россия\" + 0.009*\"работа\" + 0.009*\"хороший\" + 0.009*\"мир\" + 0.008*\"сделать\" + 0.008*\"школа\" + 0.008*\"молодой\" + 0.008*\"спорт\" + 0.007*\"большой\" + 0.007*\"наука\" + 0.007*\"говорить\" + 0.007*\"возможность\" + 0.007*\"результат\" + 0.006*\"научный\" + 0.006*\"команда\" + 0.006*\"интересный\" + 0.006*\"специалист\" + 0.006*\"важный\" + 0.005*\"заниматься\" + 0.005*\"игра\" + 0.005*\"центр\" + 0.005*\"первый\" + 0.005*\"больший\" + 0.005*\"университет\" + 0.004*\"огромный\" + 0.004*\"надеяться\"')]"
      ]
     },
     "execution_count": 52,
     "metadata": {},
     "output_type": "execute_result"
    }
   ],
   "source": [
    "model.show_topics(num_words=30, num_topics=params['num_topics'])"
   ]
  },
  {
   "cell_type": "code",
   "execution_count": 57,
   "metadata": {},
   "outputs": [],
   "source": [
    "from imp import reload\n",
    "import pyLDAvis\n",
    "import pyLDAvis.gensim_models\n",
    "\n",
    "pyLDAvis.enable_notebook()"
   ]
  },
  {
   "cell_type": "code",
   "execution_count": 59,
   "metadata": {},
   "outputs": [
    {
     "name": "stderr",
     "output_type": "stream",
     "text": [
      "/opt/anaconda3/envs/nlp/lib/python3.9/site-packages/past/builtins/misc.py:45: DeprecationWarning: the imp module is deprecated in favour of importlib; see the module's documentation for alternative uses\n",
      "  from imp import reload\n",
      "/opt/anaconda3/envs/nlp/lib/python3.9/site-packages/past/builtins/misc.py:45: DeprecationWarning: the imp module is deprecated in favour of importlib; see the module's documentation for alternative uses\n",
      "  from imp import reload\n",
      "/opt/anaconda3/envs/nlp/lib/python3.9/site-packages/past/builtins/misc.py:45: DeprecationWarning: the imp module is deprecated in favour of importlib; see the module's documentation for alternative uses\n",
      "  from imp import reload\n",
      "/opt/anaconda3/envs/nlp/lib/python3.9/site-packages/past/builtins/misc.py:45: DeprecationWarning: the imp module is deprecated in favour of importlib; see the module's documentation for alternative uses\n",
      "  from imp import reload\n"
     ]
    },
    {
     "data": {
      "text/html": [
       "\n",
       "<link rel=\"stylesheet\" type=\"text/css\" href=\"https://cdn.jsdelivr.net/gh/bmabey/pyLDAvis@3.3.1/pyLDAvis/js/ldavis.v1.0.0.css\">\n",
       "\n",
       "\n",
       "<div id=\"ldavis_el237651546488002000754445\"></div>\n",
       "<script type=\"text/javascript\">\n",
       "\n",
       "var ldavis_el237651546488002000754445_data = {\"mdsDat\": {\"x\": [-0.15494800561994787, -0.18356089823977484, 0.09768963631635623, -0.07126103694054334, -0.08641427132453931, 0.207376641395823, 0.2638969409813322, -0.16141360879288882, -0.042776468042533704, 0.13141107026671614], \"y\": [0.289349422731329, 0.10758533918068387, -0.1052107691777481, -0.11311596981994, -0.07249767908700581, 0.17387527900399022, 0.04193336166157451, -0.07789932906723532, -0.18890041829675958, -0.055119237128888506], \"topics\": [1, 2, 3, 4, 5, 6, 7, 8, 9, 10], \"cluster\": [1, 1, 1, 1, 1, 1, 1, 1, 1, 1], \"Freq\": [5.702079700221466, 5.910691676950289, 10.24166128203495, 14.461295433145654, 7.891672859896039, 5.85192017108944, 8.371188931428389, 16.73759188195486, 15.474206579156508, 9.357691484122407]}, \"tinfo\": {\"Term\": [\"\\u0447\\u0435\\u043b\\u043e\\u0432\\u0435\\u043a\", \"\\u0440\\u043e\\u0441\\u0441\\u0438\\u0439\\u0441\\u043a\\u0438\\u0439\", \"\\u0431\\u0435\\u0437\\u043e\\u043f\\u0430\\u0441\\u043d\\u043e\\u0441\\u0442\\u044c\", \"\\u0441\\u043e\\u0442\\u0440\\u0443\\u0434\\u043d\\u0438\\u0447\\u0435\\u0441\\u0442\\u0432\\u043e\", \"\\u0433\\u043e\\u0432\\u043e\\u0440\\u0438\\u0442\\u044c\", \"\\u0444\\u0435\\u0434\\u0435\\u0440\\u0430\\u0446\\u0438\\u044f\", \"\\u0440\\u0430\\u0437\\u0432\\u0438\\u0442\\u0438\\u0435\", \"\\u0441\\u043a\\u0430\\u0437\\u0430\\u0442\\u044c\", \"\\u0440\\u043e\\u0441\\u0441\\u0438\\u0439\\u0441\\u043a\\u0438\\u0439_\\u0444\\u0435\\u0434\\u0435\\u0440\\u0430\\u0446\\u0438\\u044f\", \"\\u044d\\u043a\\u043e\\u043d\\u043e\\u043c\\u0438\\u0447\\u0435\\u0441\\u043a\\u0438\\u0439\", \"\\u043f\\u0440\\u043e\\u0435\\u043a\\u0442\", \"\\u0436\\u0438\\u0437\\u043d\\u044c\", \"\\u0441\\u0442\\u0440\\u0430\\u043d\\u0430\", \"\\u0440\\u0430\\u0431\\u043e\\u0442\\u0430\", \"\\u043c\\u0435\\u0436\\u0434\\u0443\\u043d\\u0430\\u0440\\u043e\\u0434\\u043d\\u044b\\u0439\", \"\\u0432\\u043e\\u043f\\u0440\\u043e\\u0441\", \"\\u043d\\u0430\\u0440\\u043e\\u0434\", \"\\u043f\\u043e\\u0431\\u043b\\u0430\\u0433\\u043e\\u0434\\u0430\\u0440\\u0438\\u0442\\u044c\", \"\\u0432\\u0435\\u043b\\u0438\\u043a\\u0438\\u0439\", \"\\u0442\\u044b\\u0441\\u044f\\u0447\\u0430\", \"\\u0440\\u043e\\u0441\\u0441\\u0438\\u044f\", \"\\u043f\\u0440\\u0430\\u0432\\u043e\", \"\\u0432\\u043e\\u0439\\u043d\\u0430\", \"\\u0440\\u0435\\u0431\\u0451\\u043d\\u043e\\u043a\", \"\\u0440\\u0435\\u0433\\u0438\\u043e\\u043d\", \"\\u0432\\u043e\\u0441\\u0442\\u043e\\u043a\", \"\\u0441\\u0435\\u043c\\u044c\\u044f\", \"\\u0433\\u0440\\u0430\\u0436\\u0434\\u0430\\u043d\\u0438\\u043d\", \"\\u0432\\u043e\\u0435\\u043d\\u043d\\u044b\\u0439\", \"\\u0441\\u0438\\u0442\\u0443\\u0430\\u0446\\u0438\\u044f\", \"\\u043e\\u0440\\u0443\\u0436\\u0438\\u0435\", \"\\u0442\\u0435\\u0445\\u043d\\u0438\\u043a\\u0430\", \"\\u0441\\u043e\\u0441\\u0442\\u0430\\u0432\", \"\\u043e\\u0431\\u043e\\u0440\\u043e\\u043d\\u0430\", \"\\u043a\\u043e\\u043d\\u0441\\u0442\\u0438\\u0442\\u0443\\u0446\\u0438\\u044f\", \"\\u0432\\u043e\\u043e\\u0440\\u0443\\u0436\\u0435\\u043d\\u0438\\u0435\", \"\\u0432\\u043e\\u0441\\u0435\\u043c\\u044c\", \"\\u0432\\u043e\\u0435\\u043d\\u043d\\u043e\\u0441\\u043b\\u0443\\u0436\\u0430\\u0449\\u0438\\u0439\", \"\\u043a\\u043e\\u0440\\u043e\\u043d\\u0430\\u0432\\u0438\\u0440\\u0443\\u0441\\u043d\\u043e\\u0439\", \"\\u0437\\u0430\\u0432\\u0435\\u0440\\u0448\\u0438\\u0442\\u044c\", \"\\u0443\\u0433\\u043e\\u043b\\u043e\\u0432\\u043d\\u044b\\u0439\", \"\\u043c\\u0438\\u043d\\u0438\\u0441\\u0442\\u0435\\u0440\\u0441\\u0442\\u0432\\u043e_\\u043e\\u0431\\u043e\\u0440\\u043e\\u043d\\u0430\", \"\\u043f\\u0440\\u0438\\u043d\\u0438\\u043c\\u0430\\u0442\\u044c_\\u0443\\u0447\\u0430\\u0441\\u0442\\u0438\\u0435\", \"\\u0438\\u043d\\u0442\\u0435\\u0440\\u043d\\u0435\\u0442\", \"\\u0432\\u043e\\u0439\\u0441\\u043a\\u043e\", \"\\u043f\\u0440\\u0438\\u043d\\u044f\\u0442\\u044c_\\u0443\\u0447\\u0430\\u0441\\u0442\\u0438\\u0435\", \"\\u043e\\u0431\\u0443\\u0447\\u0435\\u043d\\u0438\\u0435\", \"\\u0430\\u0432\\u0438\\u0430\\u0446\\u0438\\u044f\", \"\\u0432\\u043e\\u0441\\u0442\\u043e\\u0447\\u043d\\u044b\\u0439_\\u0430\\u0437\\u0438\\u044f\", \"\\u043f\\u0435\\u0440\\u0441\\u043e\\u043d\\u0430\\u043b\", \"\\u0438\\u044e\\u043b\\u044c\", \"\\u043f\\u0440\\u0435\\u0432\\u044b\\u0441\\u0438\\u0442\\u044c\", \"\\u0433\\u043e\\u043b\\u043e\\u0441\\u043e\\u0432\\u0430\\u043d\\u0438\\u0435\", \"\\u043d\\u0435\\u0437\\u0430\\u043a\\u043e\\u043d\\u043d\\u044b\\u0439\", \"\\u0441\\u0430\\u043c\\u043e\\u043b\\u0451\\u0442\", \"\\u043f\\u0430\\u0440\\u0430\\u043b\\u0438\\u043c\\u043f\\u0438\\u0439\\u0441\\u043a\\u0438\\u0439\", \"\\u0443\\u0447\\u0435\\u043d\\u0438\\u0435\", \"\\u043f\\u043e\\u0441\\u0442\\u0443\\u043f\\u0438\\u0442\\u044c\", \"\\u043f\\u043e\\u0436\\u0435\\u043b\\u0430\\u043d\\u0438\\u0435\", \"\\u043b\\u0435\\u0442\\u043d\\u0438\\u0439\", \"\\u0438\\u043d\\u0444\\u0435\\u043a\\u0446\\u0438\\u044f\", \"\\u0441\\u0443\\u0434\", \"\\u043e\\u0431\\u044f\\u0437\\u0430\\u043d\\u043d\\u043e\\u0441\\u0442\\u044c\", \"\\u043a\\u043e\\u043c\\u0438\\u0442\\u0435\\u0442\", \"\\u0432\\u043e\\u0435\\u043d\\u043d\\u044b\\u0439\", \"\\u0431\\u043e\\u0435\\u0432\\u043e\\u0439\", \"\\u0444\\u043b\\u043e\\u0442\", \"\\u0432\\u043e\\u0435\\u043d\\u043d\\u043e\", \"\\u043a\\u043e\\u0440\\u0430\\u0431\\u043b\\u044c\", \"\\u0443\\u0447\\u0430\\u0441\\u0442\\u0438\\u0435\", \"\\u043c\\u0435\\u0440\\u043e\\u043f\\u0440\\u0438\\u044f\\u0442\\u0438\\u0435\", \"\\u0442\\u044b\\u0441\\u044f\\u0447\\u0430\", \"\\u043c\\u0438\\u043d\\u0438\\u0441\\u0442\\u0435\\u0440\\u0441\\u0442\\u0432\\u043e\", \"\\u043f\\u0440\\u0438\\u043d\\u044f\\u0442\\u044c\", \"\\u043e\\u043f\\u0435\\u0440\\u0430\\u0446\\u0438\\u044f\", \"\\u043f\\u0440\\u0438\\u043d\\u0438\\u043c\\u0430\\u0442\\u044c\", \"\\u0441\\u043b\\u0443\\u0436\\u0431\\u0430\", \"\\u043c\\u043e\\u0440\\u0441\\u043a\\u043e\\u0439\", \"\\u0440\\u0430\\u0431\\u043e\\u0442\\u0430\", \"\\u0441\\u043e\\u0432\\u0440\\u0435\\u043c\\u0435\\u043d\\u043d\\u044b\\u0439\", \"\\u0445\\u043e\\u0434\", \"\\u043f\\u043e\\u0434\\u0433\\u043e\\u0442\\u043e\\u0432\\u043a\\u0430\", \"\\u0441\\u043f\\u0435\\u0446\\u0438\\u0430\\u043b\\u044c\\u043d\\u044b\\u0439\", \"\\u043c\\u0435\\u0434\\u0438\\u0446\\u0438\\u043d\\u0441\\u043a\\u0438\\u0439\", \"\\u0437\\u0430\\u0434\\u0430\\u0447\\u0430\", \"\\u0441\\u0438\\u043b\\u0430\", \"\\u043f\\u0440\\u043e\\u0439\\u0442\\u0438\", \"\\u0434\\u0435\\u043b\\u043e\", \"\\u0441\\u0430\\u043d\\u043a\\u0446\\u0438\\u044f\", \"\\u0442\\u0435\\u0440\\u0440\\u043e\\u0440\\u0438\\u0437\\u043c\", \"\\u043d\\u0430\\u0440\\u0443\\u0448\\u0435\\u043d\\u0438\\u0435\", \"\\u0441\\u0438\\u0440\\u0438\\u044f\", \"\\u043f\\u0440\\u0430\\u0432\\u043e\\u043e\\u0445\\u0440\\u0430\\u043d\\u0438\\u0442\\u0435\\u043b\\u044c\\u043d\\u044b\\u0439\", \"\\u0430\\u0444\\u0433\\u0430\\u043d\\u0438\\u0441\\u0442\\u0430\\u043d\", \"\\u043e\\u0431\\u0440\\u0430\\u0449\\u0430\\u0442\\u044c\", \"\\u043e\\u0431\\u0435\\u0441\\u043f\\u0435\\u0447\\u0435\\u043d\\u0438\\u0435_\\u0431\\u0435\\u0437\\u043e\\u043f\\u0430\\u0441\\u043d\\u043e\\u0441\\u0442\\u044c\", \"\\u043e\\u0431\\u0440\\u0430\\u0449\\u0430\\u0442\\u044c_\\u0432\\u043d\\u0438\\u043c\\u0430\\u043d\\u0438\\u0435\", \"\\u0431\\u043b\\u0438\\u0436\\u043d\\u0438\\u0439\", \"\\u043f\\u0440\\u043e\\u0442\\u0438\\u0432\\u043e\\u0434\\u0435\\u0439\\u0441\\u0442\\u0432\\u0438\\u0435\", \"\\u043e\\u043a\\u0430\\u0437\\u0430\\u043d\\u0438\\u0435\", \"\\u0442\\u0435\\u0440\\u0440\\u043e\\u0440\\u0438\\u0441\\u0442\\u0438\\u0447\\u0435\\u0441\\u043a\\u0438\\u0439\", \"\\u043f\\u0440\\u0430\\u0432\\u043e\\u043e\\u0445\\u0440\\u0430\\u043d\\u0438\\u0442\\u0435\\u043b\\u044c\\u043d\\u044b\\u0439_\\u043e\\u0440\\u0433\\u0430\\u043d\", \"\\u043a\\u043e\\u0440\\u0440\\u0443\\u043f\\u0446\\u0438\\u044f\", \"\\u0431\\u043b\\u0438\\u0436\\u043d\\u0438\\u0439_\\u0432\\u043e\\u0441\\u0442\\u043e\\u043a\", \"\\u0442\\u0435\\u0440\\u0440\\u043e\\u0440\\u0438\\u0441\\u0442\", \"\\u0431\\u044b\\u0432\\u0448\\u0438\\u0439\", \"\\u043f\\u0440\\u0435\\u0441\\u0442\\u0443\\u043f\\u043d\\u043e\\u0441\\u0442\\u044c\", \"\\u044d\\u043a\\u0441\\u0442\\u0440\\u0435\\u043c\\u0438\\u0437\\u043c\", \"\\u0441\\u043b\\u0435\\u0434\\u0438\\u0442\\u044c\", \"\\u043e\\u043f\\u0430\\u0441\\u043d\\u043e\\u0441\\u0442\\u044c\", \"\\u0441\\u0435\\u0432\\u0435\\u0440\\u043d\\u044b\\u0439_\\u043a\\u043e\\u0440\\u0435\\u044f\", \"\\u0441\\u0438\\u0440\\u0438\\u0439\\u0441\\u043a\\u0438\\u0439\", \"\\u043c\\u0435\\u0442\\u0440\", \"\\u0437\\u0430\\u043a\\u043e\\u043d\\u043d\\u043e\\u0441\\u0442\\u044c\", \"\\u043f\\u043e\\u043b\\u0443\\u0447\\u0435\\u043d\\u0438\\u0435\", \"\\u043e\\u0442\\u043a\\u0430\\u0437\\u0430\\u0442\\u044c\\u0441\\u044f\", \"\\u0432\\u043c\\u0435\\u0448\\u0430\\u0442\\u0435\\u043b\\u044c\\u0441\\u0442\\u0432\\u043e\", \"\\u0432\\u0432\\u043e\\u0434\\u0438\\u0442\\u044c\", \"\\u0434\\u0430\\u0432\\u043b\\u0435\\u043d\\u0438\\u0435\", \"\\u0443\\u0433\\u0440\\u043e\\u0437\\u0430\", \"\\u0431\\u0435\\u0437\\u043e\\u043f\\u0430\\u0441\\u043d\\u043e\\u0441\\u0442\\u044c\", \"\\u043f\\u0440\\u0435\\u0441\\u0442\\u0443\\u043f\\u043b\\u0435\\u043d\\u0438\\u0435\", \"\\u0431\\u043e\\u0440\\u044c\\u0431\\u0430\", \"\\u0432\\u043d\\u0438\\u043c\\u0430\\u0442\\u0435\\u043b\\u044c\\u043d\\u043e\", \"\\u043e\\u0440\\u0433\\u0430\\u043d\", \"\\u043f\\u0440\\u043e\\u0442\\u0438\\u0432\", \"\\u043f\\u0440\\u0430\\u0432\\u043e\", \"\\u043e\\u0431\\u0435\\u0441\\u043f\\u0435\\u0447\\u0435\\u043d\\u0438\\u0435\", \"\\u0432\\u043e\\u043e\\u0440\\u0443\\u0436\\u0451\\u043d\\u043d\\u044b\\u0439\", \"\\u0431\\u043e\\u0440\\u043e\\u0442\\u044c\\u0441\\u044f\", \"\\u043e\\u043e\\u043d\", \"\\u0437\\u0430\\u0449\\u0438\\u0442\\u0430\", \"\\u0432\\u043d\\u0438\\u043c\\u0430\\u043d\\u0438\\u0435\", \"\\u043c\\u0435\\u0436\\u0434\\u0443\\u043d\\u0430\\u0440\\u043e\\u0434\\u043d\\u044b\\u0439\", \"\\u043a\\u043e\\u043d\\u0444\\u043b\\u0438\\u043a\\u0442\", \"\\u0434\\u0435\\u0439\\u0441\\u0442\\u0432\\u0438\\u0435\", \"\\u0447\\u0438\\u0441\\u043b\\u043e\", \"\\u043c\\u0435\\u0440\\u0430\", \"\\u0441\\u0438\\u043b\\u0430\", \"\\u0433\\u0440\\u0430\\u0436\\u0434\\u0430\\u043d\\u0438\\u043d\", \"\\u0438\\u043d\\u0442\\u0435\\u0440\\u0435\\u0441\", \"\\u0441\\u0438\\u0442\\u0443\\u0430\\u0446\\u0438\\u044f\", \"\\u0433\\u043e\\u0441\\u0443\\u0434\\u0430\\u0440\\u0441\\u0442\\u0432\\u043e\", \"\\u0440\\u0430\\u0431\\u043e\\u0442\\u0430\", \"\\u0434\\u0435\\u043b\\u043e\", \"\\u043d\\u0435\\u043e\\u0431\\u0445\\u043e\\u0434\\u0438\\u043c\\u044b\\u0439\", \"\\u0441\\u0442\\u0440\\u0430\\u043d\\u0430\", \"\\u0437\\u0430\\u0434\\u0430\\u0447\\u0430\", \"\\u043a\\u0443\\u043b\\u044c\\u0442\\u0443\\u0440\\u0430\", \"\\u044f\\u0437\\u044b\\u043a\", \"\\u043d\\u0430\\u0446\\u0438\\u044f\", \"\\u0430\\u0437\\u0435\\u0440\\u0431\\u0430\\u0439\\u0434\\u0436\\u0430\\u043d\", \"\\u0442\\u0443\\u0440\\u0446\\u0438\\u044f\", \"\\u0432\\u043e\\u0437\\u0432\\u0440\\u0430\\u0449\\u0430\\u0442\\u044c\\u0441\\u044f\", \"\\u043e\\u0431\\u044a\\u0435\\u0434\\u0438\\u043d\\u0451\\u043d\\u043d\\u044b\\u0445\", \"\\u043e\\u0440\\u0433\\u0430\\u043d\\u0438\\u0437\\u0430\\u0446\\u0438\\u044f_\\u043e\\u0431\\u044a\\u0435\\u0434\\u0438\\u043d\\u0451\\u043d\\u043d\\u044b\\u0445\", \"\\u043d\\u0435\\u0437\\u0430\\u0432\\u0438\\u0441\\u0438\\u043c\\u043e\\u0441\\u0442\\u044c\", \"\\u0434\\u0435\\u044f\\u0442\\u0435\\u043b\\u044c\", \"\\u0440\\u0443\\u0441\\u0441\\u043a\\u0438\\u0439_\\u044f\\u0437\\u044b\\u043a\", \"\\u0437\\u0430\\u043f\\u0440\\u043e\\u0441\", \"\\u043c\\u0438\\u043b\\u043b\\u0438\\u043e\\u043d_\\u0447\\u0435\\u043b\\u043e\\u0432\\u0435\\u043a\", \"\\u0432\\u044b\\u043d\\u0443\\u0436\\u0434\\u0435\\u043d\\u043d\\u044b\\u0439\", \"\\u043b\\u0438\\u0442\\u0435\\u0440\\u0430\\u0442\\u0443\\u0440\\u0430\", \"\\u0434\\u0435\\u043c\\u043e\\u043a\\u0440\\u0430\\u0442\\u0438\\u0447\\u0435\\u0441\\u043a\\u0438\\u0439\", \"\\u0446\\u0438\\u0432\\u0438\\u043b\\u0438\\u0437\\u0430\\u0446\\u0438\\u044f\", \"\\u0440\\u0435\\u0430\\u043b\\u044c\\u043d\\u043e\", \"\\u043f\\u0440\\u0435\\u043e\\u0434\\u043e\\u043b\\u0435\\u043d\\u0438\\u0435\", \"\\u0443\\u043c\\u0435\\u043d\\u0438\\u0435\", \"\\u0433\\u043e\\u0441\\u0443\\u0434\\u0430\\u0440\\u0441\\u0442\\u0432\\u0435\\u043d\\u043d\\u043e\\u0441\\u0442\\u044c\", \"\\u0441\\u0432\\u044f\\u0449\\u0435\\u043d\\u043d\\u044b\\u0439\", \"\\u0441\\u0442\\u0440\\u0430\\u0448\\u043d\\u044b\\u0439\", \"\\u0431\\u0435\\u0434\\u043d\\u043e\\u0441\\u0442\\u044c\", \"\\u0441\\u043d\\u0438\\u0436\\u0430\\u0442\\u044c\\u0441\\u044f\", \"\\u0441\\u043f\\u043b\\u043e\\u0447\\u0451\\u043d\\u043d\\u043e\\u0441\\u0442\\u044c\", \"\\u0443\\u0447\\u0435\\u0441\\u0442\\u044c\", \"\\u043f\\u0440\\u0430\\u0432\\u044b\\u0439\", \"\\u043e\\u0431\\u0449\\u0435\\u043d\\u0430\\u0446\\u0438\\u043e\\u043d\\u0430\\u043b\\u044c\\u043d\\u044b\\u0439\", \"\\u0433\\u0435\\u043e\\u0433\\u0440\\u0430\\u0444\\u0438\\u0447\\u0435\\u0441\\u043a\\u0438\\u0439\", \"\\u043e\\u0431\\u0449\\u0435\\u0441\\u0442\\u0432\\u043e\", \"\\u0446\\u0435\\u043d\\u043d\\u043e\\u0441\\u0442\\u044c\", \"\\u0440\\u0443\\u0441\\u0441\\u043a\\u0438\\u0439\", \"\\u0437\\u0432\\u0435\\u043d\\u043e\", \"\\u043a\\u0443\\u043b\\u044c\\u0442\\u0443\\u0440\\u043d\\u044b\\u0439\", \"\\u0441\\u0443\\u0432\\u0435\\u0440\\u0435\\u043d\\u0438\\u0442\\u0435\\u0442\", \"\\u043f\\u0430\\u0440\\u0442\\u0438\\u044f\", \"\\u043d\\u0430\\u0440\\u043e\\u0434\", \"\\u0447\\u0435\\u043b\\u043e\\u0432\\u0435\\u043a\", \"\\u0438\\u0441\\u0442\\u043e\\u0440\\u0438\\u0447\\u0435\\u0441\\u043a\\u0438\\u0439\", \"\\u0443\\u0432\\u0430\\u0436\\u0435\\u043d\\u0438\\u0435\", \"\\u0432\\u0435\\u043a\", \"\\u0441\\u0432\\u043e\\u0431\\u043e\\u0434\\u0430\", \"\\u0432\\u043e\\u043b\\u044f\", \"\\u0436\\u0438\\u0437\\u043d\\u044c\", \"\\u043e\\u0431\\u044a\\u0435\\u0434\\u0438\\u043d\\u044f\\u0442\\u044c\", \"\\u0441\\u0442\\u0440\\u0430\\u043d\\u0430\", \"\\u0438\\u043d\\u0442\\u0435\\u0440\\u0435\\u0441\", \"\\u0438\\u0441\\u0442\\u043e\\u0440\\u0438\\u044f\", \"\\u0434\\u043e\\u0441\\u0442\\u0438\\u0436\\u0435\\u043d\\u0438\\u0435\", \"\\u0446\\u0435\\u043b\\u044c\", \"\\u0433\\u0440\\u0430\\u0436\\u0434\\u0430\\u043d\\u0438\\u043d\", \"\\u043e\\u0441\\u043d\\u043e\\u0432\\u0430\", \"\\u0440\\u043e\\u0441\\u0441\\u0438\\u044f\", \"\\u043c\\u0438\\u0440\", \"\\u043f\\u0440\\u0430\\u0432\\u043e\", \"\\u0432\\u0430\\u0436\\u043d\\u044b\\u0439\", \"\\u0433\\u043e\\u0441\\u0443\\u0434\\u0430\\u0440\\u0441\\u0442\\u0432\\u043e\", \"\\u0440\\u0430\\u0437\\u0432\\u0438\\u0442\\u0438\\u0435\", \"\\u043f\\u043e\\u043b\\u0438\\u0442\\u0438\\u0447\\u0435\\u0441\\u043a\\u0438\\u0439\", \"\\u043e\\u0431\\u0449\\u0438\\u0439\", \"\\u0435\\u0434\\u0438\\u043d\\u044b\\u0439\", \"\\u0432\\u043a\\u043b\\u0430\\u0434\", \"\\u0437\\u0430\\u0434\\u0430\\u0447\\u0430\", \"\\u0431\\u0443\\u0434\\u0443\\u0449\\u0435\\u0435\", \"\\u0434\\u0435\\u043b\\u043e\", \"\\u043d\\u0430\\u0446\\u0438\\u043e\\u043d\\u0430\\u043b\\u044c\\u043d\\u044b\\u0439\", \"\\u0441\\u043e\\u0432\\u0440\\u0435\\u043c\\u0435\\u043d\\u043d\\u044b\\u0439\", \"\\u0441\\u043e\\u0442\\u0440\\u0443\\u0434\\u043d\\u0438\\u0447\\u0435\\u0441\\u0442\\u0432\\u043e\", \"\\u0441\\u043e\\u0432\\u043c\\u0435\\u0441\\u0442\\u043d\\u044b\\u0439\", \"\\u043a\\u0438\\u0442\\u0430\\u0439\", \"\\u043a\\u0438\\u0442\\u0430\\u0439\\u0441\\u043a\\u0438\\u0439\", \"\\u043f\\u0430\\u0440\\u0442\\u043d\\u0451\\u0440\\u0441\\u0442\\u0432\\u043e\", \"\\u0435\\u0432\\u0440\\u0430\\u0437\\u0438\\u0439\\u0441\\u043a\\u0438\\u0439\", \"\\u0434\\u0432\\u0443\\u0441\\u0442\\u043e\\u0440\\u043e\\u043d\\u043d\\u0438\\u0439\", \"\\u043c\\u043e\\u043d\\u0433\\u043e\\u043b\\u0438\\u044f\", \"\\u0441\\u043e\\u0432\\u043c\\u0435\\u0441\\u0442\\u043d\\u044b\\u0439_\\u0440\\u0430\\u0431\\u043e\\u0442\\u0430\", \"\\u0437\\u0430\\u043f\\u0430\\u0434\", \"\\u043e\\u0431\\u043c\\u0435\\u043d\", \"\\u0440\\u043e\\u0441\\u0441\\u0438\\u0439\\u0441\\u043a\\u043e\", \"\\u0443\\u0441\\u0442\\u043e\\u0439\\u0447\\u0438\\u0432\\u044b\\u0439_\\u0440\\u0430\\u0437\\u0432\\u0438\\u0442\\u0438\\u0435\", \"\\u043a\\u043e\\u043e\\u043f\\u0435\\u0440\\u0430\\u0446\\u0438\\u044f\", \"\\u0434\\u043e\\u0433\\u043e\\u0432\\u043e\\u0440\\u0451\\u043d\\u043d\\u043e\\u0441\\u0442\\u044c\", \"\\u0441\\u0430\\u043c\\u043c\\u0438\\u0442\", \"\\u0442\\u0435\\u0441\\u043d\\u044b\\u0439\", \"\\u0442\\u0443\\u0440\\u0438\\u0437\\u043c\", \"\\u0431\\u0440\\u0438\\u043a\\u0441\", \"\\u0438\\u0440\\u0430\\u043d\", \"\\u0437\\u0430\\u0438\\u043d\\u0442\\u0435\\u0440\\u0435\\u0441\\u043e\\u0432\\u0430\\u043d\\u043d\\u044b\\u0439\", \"\\u0432\\u0437\\u0430\\u0438\\u043c\\u043e\\u0432\\u044b\\u0433\\u043e\\u0434\\u043d\\u044b\\u0439\", \"\\u0435\\u0432\\u0440\\u0430\\u0437\\u0438\\u0439\\u0441\\u043a\\u0438\\u0439_\\u044d\\u043a\\u043e\\u043d\\u043e\\u043c\\u0438\\u0447\\u0435\\u0441\\u043a\\u0438\\u0439\", \"\\u0440\\u0430\\u043a\\u0435\\u0442\\u0430\", \"\\u043d\\u0430\\u0440\\u043e\\u0434\\u043d\\u044b\\u0439_\\u0440\\u0435\\u0441\\u043f\\u0443\\u0431\\u043b\\u0438\\u043a\\u0430\", \"\\u043d\\u0430\\u0440\\u0430\\u0449\\u0438\\u0432\\u0430\\u043d\\u0438\\u0435\", \"\\u0448\\u043e\\u0441\", \"\\u0430\\u044d\\u0441\", \"\\u0430\\u0437\\u0438\\u0430\\u0442\\u0441\\u043a\\u043e\", \"\\u0430\\u0437\\u0438\\u0430\\u0442\\u0441\\u043a\\u043e_\\u0442\\u0438\\u0445\\u043e\\u043e\\u043a\\u0435\\u0430\\u043d\\u0441\\u043a\\u0438\\u0439\", \"\\u043a\\u043e\\u043d\\u0442\\u0430\\u043a\\u0442\", \"\\u0444\\u043e\\u0440\\u0443\\u043c\", \"\\u043f\\u043e\\u0434\\u043f\\u0438\\u0441\\u0430\\u0442\\u044c\", \"\\u0432\\u0437\\u0430\\u0438\\u043c\\u043e\\u0434\\u0435\\u0439\\u0441\\u0442\\u0432\\u0438\\u0435\", \"\\u044d\\u043a\\u043e\\u043d\\u043e\\u043c\\u0438\\u0447\\u0435\\u0441\\u043a\\u0438\\u0439\", \"\\u043f\\u0430\\u0440\\u0442\\u043d\\u0451\\u0440\", \"\\u0430\\u0437\\u0438\\u044f\", \"\\u0440\\u0430\\u0441\\u0448\\u0438\\u0440\\u0435\\u043d\\u0438\\u0435\", \"\\u0440\\u0435\\u0441\\u043f\\u0443\\u0431\\u043b\\u0438\\u043a\\u0430\", \"\\u043a\\u0430\\u0437\\u0430\\u0445\\u0441\\u0442\\u0430\\u043d\", \"\\u043f\\u043e\\u0432\\u0435\\u0441\\u0442\\u043a\\u0430\", \"\\u044f\\u043f\\u043e\\u043d\\u0438\\u044f\", \"\\u0432\\u0437\\u0430\\u0438\\u043c\\u043d\\u044b\\u0439\", \"\\u043c\\u0435\\u0436\\u0434\\u0443\\u043d\\u0430\\u0440\\u043e\\u0434\\u043d\\u044b\\u0439\", \"\\u0434\\u0438\\u0430\\u043b\\u043e\\u0433\", \"\\u0442\\u043e\\u0440\\u0433\\u043e\\u0432\\u043b\\u044f\", \"\\u043e\\u0442\\u043d\\u043e\\u0448\\u0435\\u043d\\u0438\\u0435\", \"\\u0441\\u0442\\u0440\\u0430\\u0442\\u0435\\u0433\\u0438\\u0447\\u0435\\u0441\\u043a\\u0438\\u0439\", \"\\u0440\\u0430\\u0437\\u0432\\u0438\\u0442\\u0438\\u0435\", \"\\u0440\\u0430\\u043c\\u043a\\u0430\", \"\\u0440\\u043e\\u0441\\u0441\\u0438\\u044f\", \"\\u0441\\u0442\\u0440\\u0430\\u043d\\u0430\", \"\\u0441\\u0432\\u044f\\u0437\\u044c\", \"\\u0443\\u0441\\u0442\\u043e\\u0439\\u0447\\u0438\\u0432\\u044b\\u0439\", \"\\u0433\\u043e\\u0441\\u0443\\u0434\\u0430\\u0440\\u0441\\u0442\\u0432\\u043e\", \"\\u0440\\u0435\\u0433\\u0438\\u043e\\u043d\", \"\\u043e\\u0440\\u0433\\u0430\\u043d\\u0438\\u0437\\u0430\\u0446\\u0438\\u044f\", \"\\u0441\\u0444\\u0435\\u0440\\u0430\", \"\\u043f\\u0440\\u043e\\u0435\\u043a\\u0442\", \"\\u0440\\u043e\\u0441\\u0441\\u0438\\u0439\\u0441\\u043a\\u0438\\u0439\", \"\\u043e\\u0431\\u043b\\u0430\\u0441\\u0442\\u044c\", \"\\u0432\\u0430\\u0436\\u043d\\u044b\\u0439\", \"\\u0434\\u0440\\u0443\\u0433\", \"\\u0440\\u0430\\u0431\\u043e\\u0442\\u0430\", \"\\u044f\\u0432\\u043b\\u044f\\u0442\\u044c\\u0441\\u044f\", \"\\u0432\\u043e\\u043f\\u0440\\u043e\\u0441\", \"\\u044d\\u043a\\u043e\\u043d\\u043e\\u043c\\u0438\\u043a\\u0430\", \"\\u043c\\u0438\\u0440\", \"\\u0434\\u0430\\u043b\\u044c\\u043d\\u0438\\u0439\", \"\\u0434\\u043e\\u043b\\u043b\\u0430\\u0440\", \"\\u0434\\u0430\\u043b\\u044c\\u043d\\u0438\\u0439_\\u0432\\u043e\\u0441\\u0442\\u043e\\u043a\", \"\\u0430\\u0440\\u043a\\u0442\\u0438\\u043a\\u0430\", \"\\u0430\\u0444\\u0440\\u0438\\u043a\\u0430\\u043d\\u0441\\u043a\\u0438\\u0439\", \"\\u0442\\u043e\\u0440\\u0433\\u043e\\u0432\\u043e\", \"\\u043c\\u043e\\u0434\\u0435\\u0440\\u043d\\u0438\\u0437\\u0430\\u0446\\u0438\\u044f\", \"\\u0430\\u0440\\u043a\\u0442\\u0438\\u0447\\u0435\\u0441\\u043a\\u0438\\u0439\", \"\\u043f\\u0440\\u0438\\u0440\\u043e\\u0434\\u043d\\u044b\\u0439\", \"\\u0432\\u044b\\u0431\\u0440\\u043e\\u0441\", \"\\u0434\\u043e\\u0441\\u0442\\u0443\\u043f\\u043d\\u044b\\u0439\", \"\\u0442\\u043e\\u0440\\u0433\\u043e\\u0432\\u043e_\\u044d\\u043a\\u043e\\u043d\\u043e\\u043c\\u0438\\u0447\\u0435\\u0441\\u043a\\u0438\\u0439\", \"\\u0447\\u0438\\u0441\\u0442\\u044b\\u0439\", \"\\u043e\\u0441\\u0432\\u043e\\u0435\\u043d\\u0438\\u0435\", \"\\u043f\\u043e\\u0440\\u044f\\u0434\\u043a\\u0430\", \"\\u0434\\u043e\\u0431\\u044b\\u0447\\u0430\", \"\\u043e\\u0441\\u0443\\u0449\\u0435\\u0441\\u0442\\u0432\\u043b\\u044f\\u0442\\u044c\\u0441\\u044f\", \"\\u0434\\u043e\\u043d\\u0431\\u0430\\u0441\\u0441\", \"\\u043a\\u0440\\u044b\\u043c\", \"\\u043f\\u043b\\u0430\\u0442\\u0444\\u043e\\u0440\\u043c\\u0430\", \"\\u0441\\u0435\\u0432\\u0435\\u0440\", \"\\u0441\\u0438\\u0431\\u0438\\u0440\\u044c\", \"\\u0441\\u0442\\u0440\\u043e\\u0438\\u0442\\u0435\\u043b\\u044c\", \"\\u043c\\u043e\\u0449\\u043d\\u043e\\u0441\\u0442\\u044c\", \"\\u043f\\u043e\\u0440\\u0442\", \"\\u0441\\u0442\\u0430\\u043d\\u0446\\u0438\\u044f\", \"\\u0441\\u0435\\u0432\\u0430\\u0441\\u0442\\u043e\\u043f\\u043e\\u043b\\u044c\", \"\\u043a\\u043e\\u0440\\u0435\\u0439\\u0441\\u043a\\u0438\\u0439\", \"\\u0441\\u043a\\u043e\\u0440\\u044b\\u0439\", \"\\u0436\\u0435\\u043b\\u0435\\u0437\\u043d\\u044b\\u0439\", \"\\u0442\\u0440\\u0430\\u043d\\u0441\\u043f\\u043e\\u0440\\u0442\\u043d\\u044b\\u0439\", \"\\u0432\\u043e\\u0441\\u0442\\u043e\\u043a\", \"\\u0433\\u0430\\u0437\", \"\\u043c\\u043e\\u0440\\u0435\", \"\\u043e\\u0431\\u044a\\u0451\\u043c\", \"\\u0438\\u043d\\u0444\\u0440\\u0430\\u0441\\u0442\\u0440\\u0443\\u043a\\u0442\\u0443\\u0440\\u0430\", \"\\u0432\\u043b\\u0430\\u0434\\u0438\\u0432\\u043e\\u0441\\u0442\\u043e\\u043a\", \"\\u0437\\u0430\\u043f\\u0443\\u0441\\u0442\\u0438\\u0442\\u044c\", \"\\u0440\\u0430\\u0439\\u043e\\u043d\", \"\\u0441\\u0435\\u0432\\u0435\\u0440\\u043d\\u044b\\u0439\", \"\\u0437\\u0430\\u0432\\u043e\\u0434\", \"\\u0442\\u0435\\u0440\\u0440\\u0438\\u0442\\u043e\\u0440\\u0438\\u044f\", \"\\u043a\\u0440\\u0443\\u043f\\u043d\\u044b\\u0439\", \"\\u0441\\u0442\\u0440\\u043e\\u0438\\u0442\\u0435\\u043b\\u044c\\u0441\\u0442\\u0432\\u043e\", \"\\u043f\\u0440\\u043e\\u0435\\u043a\\u0442\", \"\\u0432\\u043e\\u0441\\u0442\\u043e\\u0447\\u043d\\u044b\\u0439\", \"\\u0434\\u043e\\u0440\\u043e\\u0433\\u0430\", \"\\u043f\\u0440\\u043e\\u0438\\u0437\\u0432\\u043e\\u0434\\u0441\\u0442\\u0432\\u043e\", \"\\u043a\\u043e\\u043c\\u043f\\u0430\\u043d\\u0438\\u044f\", \"\\u0438\\u043d\\u0434\\u0438\\u044f\", \"\\u0440\\u0435\\u0433\\u0438\\u043e\\u043d\", \"\\u0433\\u043e\\u0440\\u043e\\u0434\", \"\\u0446\\u0435\\u043d\\u0442\\u0440\", \"\\u0440\\u043e\\u0441\\u0441\\u0438\\u0439\\u0441\\u043a\\u0438\\u0439\", \"\\u043c\\u0438\\u043b\\u043b\\u0438\\u043e\\u043d\", \"\\u0442\\u044b\\u0441\\u044f\\u0447\\u0430\", \"\\u0438\\u043d\\u0432\\u0435\\u0441\\u0442\\u0438\\u0446\\u0438\\u044f\", \"\\u0440\\u043e\\u0441\\u0441\\u0438\\u044f\", \"\\u0440\\u0430\\u0437\\u0432\\u0438\\u0442\\u0438\\u0435\", \"\\u043c\\u043e\\u0440\\u0441\\u043a\\u043e\\u0439\", \"\\u0442\\u0435\\u0445\\u043d\\u043e\\u043b\\u043e\\u0433\\u0438\\u044f\", \"\\u0432\\u043e\\u0437\\u043c\\u043e\\u0436\\u043d\\u043e\\u0441\\u0442\\u044c\", \"\\u043f\\u0435\\u0440\\u0432\\u044b\\u0439\", \"\\u0441\\u0442\\u0440\\u0430\\u043d\\u0430\", \"\\u0440\\u043e\\u0441\\u0441\\u0438\\u0439\\u0441\\u043a\\u0438\\u0439_\\u0444\\u0435\\u0434\\u0435\\u0440\\u0430\\u0446\\u0438\\u044f\", \"\\u043c\\u043e\\u0441\\u043a\\u0432\\u0430\", \"\\u043d\\u0430\\u0433\\u0440\\u0430\\u0434\\u0430\", \"\\u043c\\u0438\\u043d\\u0438\\u0441\\u0442\\u0440\", \"\\u043f\\u0435\\u0442\\u0435\\u0440\\u0431\\u0443\\u0440\\u0433\", \"\\u043f\\u0440\\u0435\\u043c\\u044c\\u0435\\u0440\", \"\\u0441\\u0430\\u043d\\u043a\\u0442\", \"\\u043f\\u0440\\u0435\\u043c\\u044c\\u0435\\u0440_\\u043c\\u0438\\u043d\\u0438\\u0441\\u0442\\u0440\", \"\\u0441\\u0430\\u043d\\u043a\\u0442_\\u043f\\u0435\\u0442\\u0435\\u0440\\u0431\\u0443\\u0440\\u0433\", \"\\u0447\\u0440\\u0435\\u0437\\u0432\\u044b\\u0447\\u0430\\u0439\\u043d\\u043e\", \"\\u043f\\u0440\\u0435\\u043c\\u0438\\u044f\", \"\\u0447\\u0440\\u0435\\u0437\\u0432\\u044b\\u0447\\u0430\\u0439\\u043d\\u043e_\\u0432\\u0430\\u0436\\u043d\\u044b\\u0439\", \"\\u044f\\u043f\\u043e\\u043d\\u0441\\u043a\\u0438\\u0439\", \"\\u0441\\u0442\\u043e\\u043b\\u0438\\u0446\\u0430\", \"\\u0447\\u0430\\u0441\", \"\\u043a\\u043e\\u0440\\u043f\\u0443\\u0441\", \"\\u0432\\u044b\\u0441\\u043e\\u043a\\u0438\\u0439_\\u043d\\u0430\\u0433\\u0440\\u0430\\u0434\\u0430\", \"\\u0441\\u043f\\u0440\\u043e\\u0441\\u0438\\u0442\\u044c\", \"\\u0446\\u0435\\u0440\\u0435\\u043c\\u043e\\u043d\\u0438\\u044f\", \"\\u0441\\u0435\\u0440\\u0434\\u0435\\u0447\\u043d\\u043e\", \"\\u0432\\u043e\\u0438\\u043d\", \"\\u0442\\u043e\\u0440\\u0436\\u0435\\u0441\\u0442\\u0432\\u0435\\u043d\\u043d\\u044b\\u0439\", \"\\u044d\\u043b\\u0435\\u043a\\u0442\\u0440\\u043e\\u0441\\u0442\\u0430\\u043d\\u0446\\u0438\\u044f\", \"\\u0445\\u0432\\u0430\\u0442\\u0430\\u0442\\u044c\", \"\\u0441\\u0442\\u0440\\u043e\\u0438\\u0442\\u0435\\u043b\\u044c\\u043d\\u044b\\u0439\", \"\\u0442\\u0440\\u0435\\u043d\\u0435\\u0440\", \"\\u043f\\u0440\\u0438\\u0451\\u043c\", \"\\u0443\\u0433\\u043e\\u043b\\u044c\", \"\\u0436\\u0435\\u043b\\u0430\\u0442\\u044c_\\u0443\\u0441\\u043f\\u0435\\u0445\", \"\\u043c\\u0430\\u0440\\u0442\", \"\\u0444\\u0435\\u0434\\u0435\\u0440\\u0430\\u0446\\u0438\\u044f\", \"\\u0431\\u043b\\u0430\\u0433\\u043e\\u0434\\u0430\\u0440\\u0438\\u0442\\u044c\", \"\\u0436\\u0435\\u043b\\u0430\\u0442\\u044c\", \"\\u043f\\u043e\\u0437\\u0434\\u0440\\u0430\\u0432\\u0438\\u0442\\u044c\", \"\\u043f\\u043e\\u0431\\u043b\\u0430\\u0433\\u043e\\u0434\\u0430\\u0440\\u0438\\u0442\\u044c\", \"\\u043f\\u043e\\u0437\\u0434\\u0440\\u0430\\u0432\\u043b\\u044f\\u0442\\u044c\", \"\\u043f\\u043e\\u0436\\u0435\\u043b\\u0430\\u0442\\u044c\", \"\\u0440\\u043e\\u0441\\u0441\\u0438\\u0439\\u0441\\u043a\\u0438\\u0439\", \"\\u0443\\u0441\\u043f\\u0435\\u0445\", \"\\u0432\\u044b\\u0440\\u0430\\u0437\\u0438\\u0442\\u044c\", \"\\u0431\\u043b\\u0430\\u0433\\u043e\\u0434\\u0430\\u0440\\u043d\\u043e\\u0441\\u0442\\u044c\", \"\\u0432\\u044b\\u0441\\u043e\\u043a\\u0438\\u0439\", \"\\u0433\\u043e\\u0440\\u043e\\u0434\", \"\\u0438\\u0441\\u043a\\u0440\\u0435\\u043d\\u043d\\u0435\", \"\\u0440\\u0430\\u0434\", \"\\u0433\\u043e\\u0441\\u0443\\u0434\\u0430\\u0440\\u0441\\u0442\\u0432\\u0435\\u043d\\u043d\\u044b\\u0439\", \"\\u0436\\u0438\\u0442\\u0435\\u043b\\u044c\", \"\\u0440\\u0430\\u0431\\u043e\\u0442\\u0430\", \"\\u0431\\u043e\\u043b\\u044c\\u0448\\u043e\\u0439\", \"\\u0440\\u043e\\u0441\\u0441\\u0438\\u044f\", \"\\u043f\\u0435\\u0440\\u0432\\u044b\\u0439\", \"\\u043e\\u0433\\u0440\\u043e\\u043c\\u043d\\u044b\\u0439\", \"\\u0431\\u043e\\u043b\\u044c\\u0448\\u0438\\u0439\", \"\\u0442\\u0440\\u0443\\u0434\", \"\\u0441\\u043a\\u0430\\u0437\\u0430\\u0442\\u044c\", \"\\u0441\\u043e\\u0432\\u0435\\u0442\\u0441\\u043a\\u0438\\u0439\", \"\\u043e\\u0442\\u0435\\u0447\\u0435\\u0441\\u0442\\u0432\\u043e\", \"\\u043f\\u0430\\u043c\\u044f\\u0442\\u044c\", \"\\u0433\\u0435\\u0440\\u043e\\u0439\", \"\\u0432\\u0435\\u0442\\u0435\\u0440\\u0430\\u043d\", \"\\u0441\\u043e\\u0432\\u0435\\u0442\\u0441\\u043a\\u0438\\u0439_\\u0441\\u043e\\u044e\\u0437\", \"\\u043b\\u044e\\u0431\\u043e\\u0432\\u044c\", \"\\u0432\\u0435\\u043b\\u0438\\u043a\\u0438\\u0439_\\u043e\\u0442\\u0435\\u0447\\u0435\\u0441\\u0442\\u0432\\u0435\\u043d\\u043d\\u044b\\u0439\", \"\\u0440\\u043e\\u0434\\u043d\\u044b\\u0439\", \"\\u043c\\u0443\\u0436\\u0435\\u0441\\u0442\\u0432\\u043e\", \"\\u0436\\u0435\\u043d\\u0449\\u0438\\u043d\\u0430\", \"\\u043f\\u043e\\u0434\\u0432\\u0438\\u0433\", \"\\u0441\\u0435\\u0440\\u0434\\u0446\\u0435\", \"\\u0440\\u043e\\u0434\\u0438\\u043d\\u0430\", \"\\u0432\\u043e\\u0437\\u0440\\u0430\\u0441\\u0442\", \"\\u043e\\u0444\\u0438\\u0446\\u0435\\u0440\", \"\\u043c\\u0438\\u0440\\u043e\\u0432\\u043e\\u0439_\\u0432\\u043e\\u0439\\u043d\\u0430\", \"\\u0432\\u0435\\u0440\\u043d\\u043e\\u0441\\u0442\\u044c\", \"\\u0444\\u0440\\u043e\\u043d\\u0442\", \"\\u0430\\u0440\\u043c\\u0438\\u044f_\\u0444\\u043b\\u043e\\u0442\", \"\\u0437\\u0430\\u0431\\u043e\\u0442\\u0430\", \"\\u0437\\u0430\\u0432\\u0435\\u0434\\u0435\\u043d\\u0438\\u0435\", \"\\u043f\\u0440\\u0438\\u0435\\u0437\\u0436\\u0430\\u0442\\u044c\", \"\\u0441\\u0440\\u0430\\u0436\\u0430\\u0442\\u044c\\u0441\\u044f\", \"\\u0433\\u043e\\u0440\\u0434\\u043e\\u0441\\u0442\\u044c\", \"\\u043f\\u043e\\u0433\\u0438\\u0431\\u043d\\u0443\\u0442\\u044c\", \"\\u043d\\u0430\\u0446\\u0438\\u0437\\u043c\", \"\\u0437\\u0430\\u0449\\u0438\\u0442\\u043d\\u0438\\u043a\", \"\\u0440\\u0430\\u0442\\u043d\\u044b\\u0439\", \"\\u044d\\u043a\\u0441\\u043f\\u043b\\u0443\\u0430\\u0442\\u0430\\u0446\\u0438\\u044f\", \"\\u0432\\u0435\\u043b\\u0438\\u043a\\u0438\\u0439\", \"\\u0432\\u043e\\u0439\\u043d\\u0430\", \"\\u043f\\u043e\\u0431\\u0435\\u0434\\u0430\", \"\\u043f\\u043e\\u043a\\u043e\\u043b\\u0435\\u043d\\u0438\\u0435\", \"\\u0441\\u043b\\u0430\\u0432\\u0430\", \"\\u0441\\u0435\\u043c\\u044c\\u044f\", \"\\u0437\\u0434\\u043e\\u0440\\u043e\\u0432\\u044c\\u0435\", \"\\u0440\\u0435\\u0431\\u0451\\u043d\\u043e\\u043a\", \"\\u0434\\u043e\\u043c\", \"\\u043e\\u0442\\u0435\\u0447\\u0435\\u0441\\u0442\\u0432\\u0435\\u043d\\u043d\\u044b\\u0439\", \"\\u0437\\u0435\\u043c\\u043b\\u044f\", \"\\u0431\\u043b\\u0430\\u0433\\u043e\\u043f\\u043e\\u043b\\u0443\\u0447\\u0438\\u0435\", \"\\u043f\\u0440\\u0430\\u0437\\u0434\\u043d\\u0438\\u043a\", \"\\u0438\\u0441\\u0442\\u043e\\u0440\\u0438\\u044f\", \"\\u0436\\u0438\\u0437\\u043d\\u044c\", \"\\u043d\\u0430\\u0440\\u043e\\u0434\", \"\\u0441\\u0438\\u043b\\u0430\", \"\\u0440\\u043e\\u0441\\u0441\\u0438\\u044f\", \"\\u0447\\u0435\\u043b\\u043e\\u0432\\u0435\\u043a\", \"\\u0441\\u0442\\u0440\\u0430\\u043d\\u0430\", \"\\u0432\\u0440\\u0435\\u043c\\u044f\", \"\\u0442\\u0440\\u0430\\u0434\\u0438\\u0446\\u0438\\u044f\", \"\\u0440\\u0443\\u0431\\u043b\\u044c\", \"\\u0437\\u0434\\u0440\\u0430\\u0432\\u043e\\u043e\\u0445\\u0440\\u0430\\u043d\\u0435\\u043d\\u0438\\u0435\", \"\\u0446\\u0438\\u0444\\u0440\\u043e\\u0432\\u043e\\u0439\", \"\\u0434\\u043e\\u0445\\u043e\\u0434\", \"\\u0441\\u0440\\u0435\\u0434\\u043d\\u0438\\u0439\", \"\\u043e\\u0431\\u043e\\u0440\\u0443\\u0434\\u043e\\u0432\\u0430\\u043d\\u0438\\u0435\", \"\\u0441\\u0435\\u043b\\u044c\\u0441\\u043a\\u0438\\u0439\", \"\\u0445\\u043e\\u0437\\u044f\\u0439\\u0441\\u0442\\u0432\\u043e\", \"\\u0431\\u044e\\u0434\\u0436\\u0435\\u0442\", \"\\u0441\\u0443\\u0431\\u044a\\u0435\\u043a\\u0442\", \"\\u0432\\u044b\\u043f\\u043b\\u0430\\u0442\\u0430\", \"\\u043e\\u0431\\u0440\\u0430\\u0442\\u0438\\u0442\\u044c_\\u0432\\u043d\\u0438\\u043c\\u0430\\u043d\\u0438\\u0435\", \"\\u0447\\u0430\\u0441\\u0442\\u043d\\u044b\\u0439\", \"\\u0440\\u0430\\u0431\\u043e\\u0447\\u0438\\u0439_\\u043c\\u0435\\u0441\\u0442\\u043e\", \"\\u0431\\u044e\\u0434\\u0436\\u0435\\u0442\\u043d\\u044b\\u0439\", \"\\u043f\\u0430\\u0446\\u0438\\u0435\\u043d\\u0442\", \"\\u043c\\u0435\\u0434\\u0438\\u0446\\u0438\\u043d\\u0441\\u043a\\u0438\\u0439_\\u043f\\u043e\\u043c\\u043e\\u0449\\u044c\", \"\\u043d\\u0430\\u043b\\u043e\\u0433\\u043e\\u0432\\u044b\\u0439\", \"\\u0437\\u0430\\u043a\\u043e\\u043d\\u043e\\u0434\\u0430\\u0442\\u0435\\u043b\\u044c\\u0441\\u0442\\u0432\\u043e\", \"\\u0444\\u0438\\u043d\\u0430\\u043d\\u0441\\u0438\\u0440\\u043e\\u0432\\u0430\\u043d\\u0438\\u0435\", \"\\u0441\\u0435\\u043b\\u044c\\u0441\\u043a\\u0438\\u0439_\\u0445\\u043e\\u0437\\u044f\\u0439\\u0441\\u0442\\u0432\\u043e\", \"\\u043f\\u043e\\u043f\\u0440\\u0430\\u0432\\u043a\\u0430\", \"\\u043c\\u0430\\u043b\\u044b\\u0439_\\u0441\\u0440\\u0435\\u0434\\u043d\\u0438\\u0439\", \"\\u0434\\u0443\\u043c\\u0430\", \"\\u043d\\u0430\\u043b\\u043e\\u0433\", \"\\u043a\\u0440\\u0435\\u0434\\u0438\\u0442\", \"\\u0437\\u0430\\u043a\\u043e\\u043d\\u043e\\u0434\\u0430\\u0442\\u0435\\u043b\\u044c\\u043d\\u044b\\u0439\", \"\\u0436\\u0438\\u043b\\u044c\\u0451\", \"\\u043f\\u0440\\u0435\\u0434\\u0443\\u0441\\u043c\\u043e\\u0442\\u0440\\u0435\\u0442\\u044c\", \"\\u043e\\u0431\\u044a\\u0451\\u043c\\u0435\", \"\\u0432\\u043d\\u0435\\u0434\\u0440\\u0435\\u043d\\u0438\\u0435\", \"\\u0443\\u0441\\u043b\\u0443\\u0433\\u0430\", \"\\u043e\\u0431\\u0440\\u0430\\u0442\\u0438\\u0442\\u044c\", \"\\u043f\\u043e\\u0432\\u044b\\u0448\\u0435\\u043d\\u0438\\u0435\", \"\\u043c\\u0430\\u043b\\u044b\\u0439\", \"\\u0431\\u0438\\u0437\\u043d\\u0435\\u0441\", \"\\u0441\\u043e\\u0446\\u0438\\u0430\\u043b\\u044c\\u043d\\u044b\\u0439\", \"\\u0441\\u0440\\u0435\\u0434\\u0430\", \"\\u043f\\u0440\\u043e\\u0441\\u0438\\u0442\\u044c\", \"\\u0444\\u0435\\u0434\\u0435\\u0440\\u0430\\u043b\\u044c\\u043d\\u044b\\u0439\", \"\\u0441\\u0440\\u0435\\u0434\\u0441\\u0442\\u0432\\u043e\", \"\\u0434\\u043e\\u043f\\u043e\\u043b\\u043d\\u0438\\u0442\\u0435\\u043b\\u044c\\u043d\\u044b\\u0439\", \"\\u043f\\u0440\\u0430\\u0432\\u0438\\u0442\\u0435\\u043b\\u044c\\u0441\\u0442\\u0432\\u043e\", \"\\u043e\\u0442\\u0440\\u0430\\u0441\\u043b\\u044c\", \"\\u0442\\u0435\\u0445\\u043d\\u043e\\u043b\\u043e\\u0433\\u0438\\u044f\", \"\\u043f\\u0440\\u043e\\u0433\\u0440\\u0430\\u043c\\u043c\\u0430\", \"\\u043c\\u0435\\u0434\\u0438\\u0446\\u0438\\u043d\\u0441\\u043a\\u0438\\u0439\", \"\\u043d\\u0435\\u043e\\u0431\\u0445\\u043e\\u0434\\u0438\\u043c\\u044b\\u0439\", \"\\u0440\\u0435\\u0448\\u0435\\u043d\\u0438\\u0435\", \"\\u0441\\u0444\\u0435\\u0440\\u0430\", \"\\u043f\\u043e\\u0434\\u0434\\u0435\\u0440\\u0436\\u043a\\u0430\", \"\\u043e\\u0431\\u0435\\u0441\\u043f\\u0435\\u0447\\u0438\\u0442\\u044c\", \"\\u0441\\u0438\\u0441\\u0442\\u0435\\u043c\\u0430\", \"\\u0433\\u043e\\u0441\\u0443\\u0434\\u0430\\u0440\\u0441\\u0442\\u0432\\u0435\\u043d\\u043d\\u044b\\u0439\", \"\\u0440\\u0430\\u0431\\u043e\\u0442\\u0430\", \"\\u043f\\u043e\\u043c\\u043e\\u0449\\u044c\", \"\\u0437\\u0430\\u0434\\u0430\\u0447\\u0430\", \"\\u0443\\u0441\\u043b\\u043e\\u0432\\u0438\\u0435\", \"\\u0440\\u0430\\u0437\\u0432\\u0438\\u0442\\u0438\\u0435\", \"\\u0432\\u0430\\u0436\\u043d\\u044b\\u0439\", \"\\u0433\\u0440\\u0430\\u0436\\u0434\\u0430\\u043d\\u0438\\u043d\", \"\\u043a\\u043e\\u043c\\u043f\\u0430\\u043d\\u0438\\u044f\", \"\\u0447\\u0438\\u0441\\u043b\\u043e\", \"\\u0443\\u0440\\u043e\\u0432\\u0435\\u043d\\u044c\", \"\\u0432\\u043d\\u0438\\u043c\\u0430\\u043d\\u0438\\u0435\", \"\\u0440\\u0435\\u0433\\u0438\\u043e\\u043d\", \"\\u044d\\u043a\\u043e\\u043d\\u043e\\u043c\\u0438\\u043a\\u0430\", \"\\u0432\\u043e\\u043f\\u0440\\u043e\\u0441\", \"\\u0440\\u0430\\u0431\\u043e\\u0442\\u0430\\u0442\\u044c\", \"\\u0438\\u0441\\u043a\\u0443\\u0441\\u0441\\u0442\\u0432\\u0435\\u043d\\u043d\\u044b\\u0439\", \"\\u0438\\u043d\\u0442\\u0435\\u043b\\u043b\\u0435\\u043a\\u0442\", \"\\u0438\\u0441\\u043a\\u0443\\u0441\\u0441\\u0442\\u0432\\u0435\\u043d\\u043d\\u044b\\u0439_\\u0438\\u043d\\u0442\\u0435\\u043b\\u043b\\u0435\\u043a\\u0442\", \"\\u0448\\u0442\\u0430\\u0442\", \"\\u0443\\u043a\\u0440\\u0430\\u0438\\u043d\\u0430\", \"\\u0437\\u0440\\u0435\\u043d\\u0438\\u0435\", \"\\u0442\\u043e\\u0447\\u043a\\u0430_\\u0437\\u0440\\u0435\\u043d\\u0438\\u0435\", \"\\u043e\\u043a\\u0430\\u0437\\u0430\\u0442\\u044c\\u0441\\u044f\", \"\\u0430\\u043c\\u0435\\u0440\\u0438\\u043a\\u0430\\u043d\\u0441\\u043a\\u0438\\u0439\", \"\\u044d\\u043f\\u0438\\u0434\\u0435\\u043c\\u0438\\u044f\", \"\\u043d\\u0430\\u0442\\u043e\", \"\\u0438\\u043d\\u0444\\u043b\\u044f\\u0446\\u0438\\u044f\", \"\\u0441\\u043e\\u0435\\u0434\\u0438\\u043d\\u0438\\u0442\\u044c\", \"\\u043c\\u0438\\u0440\\u043e\\u0432\\u043e\\u0439_\\u044d\\u043a\\u043e\\u043d\\u043e\\u043c\\u0438\\u043a\\u0430\", \"\\u043f\\u0440\\u043e\\u0432\\u0435\\u0440\\u043a\\u0430\", \"\\u0441\\u043e\\u0433\\u043b\\u0430\\u0441\\u043d\\u044b\\u0439\", \"\\u0441\\u043e\\u0435\\u0434\\u0438\\u043d\\u0438\\u0442\\u044c_\\u0448\\u0442\\u0430\\u0442\", \"\\u0435\\u0441\\u0442\\u0435\\u0441\\u0442\\u0432\\u0435\\u043d\\u043d\\u044b\\u0439\", \"\\u043f\\u043e\\u043b\\u043e\\u0436\\u0438\\u0442\\u0435\\u043b\\u044c\\u043d\\u044b\\u0439\", \"\\u0437\\u0435\\u043b\\u0451\\u043d\\u044b\\u0439\", \"\\u043d\\u043e\\u0440\\u043c\\u0430\\u043b\\u044c\\u043d\\u044b\\u0439\", \"\\u043e\\u0442\\u0432\\u0435\\u0442\\u0438\\u0442\\u044c\", \"\\u0435\\u0432\\u0440\\u043e\\u0441\\u043e\\u044e\\u0437\", \"\\u0442\\u0440\\u0430\\u043c\\u043f\", \"\\u0441\\u0442\\u043e\\u043b\\u043a\\u043d\\u0443\\u0442\\u044c\\u0441\\u044f\", \"\\u043d\\u0435\\u0433\\u0430\\u0442\\u0438\\u0432\\u043d\\u044b\\u0439\", \"\\u0440\\u0435\\u0430\\u043b\\u0438\\u044f\", \"\\u043f\\u043e\\u0442\\u0435\\u0440\\u044f\", \"\\u043f\\u043e\\u044f\\u0432\\u043b\\u044f\\u0442\\u044c\\u0441\\u044f\", \"\\u043a\\u043e\\u0440\\u0438\\u0434\\u043e\\u0440\", \"\\u0441\\u0448\\u0430\", \"\\u043e\\u043f\\u0440\\u0435\\u0434\\u0435\\u043b\\u0451\\u043d\\u043d\\u044b\\u0439\", \"\\u0432\\u0435\\u0449\\u044c\", \"\\u0442\\u043e\\u0447\\u043a\\u0430\", \"\\u043f\\u0440\\u043e\\u0438\\u0441\\u0445\\u043e\\u0434\\u0438\\u0442\\u044c\", \"\\u043a\\u0440\\u0438\\u0437\\u0438\\u0441\", \"\\u0433\\u043e\\u0432\\u043e\\u0440\\u0438\\u0442\\u044c\", \"\\u0441\\u0438\\u0442\\u0443\\u0430\\u0446\\u0438\\u044f\", \"\\u0446\\u0435\\u043d\\u0430\", \"\\u0435\\u0432\\u0440\\u043e\\u043f\\u0435\\u0439\\u0441\\u043a\\u0438\\u0439\", \"\\u043f\\u0440\\u043e\\u0438\\u0437\\u043e\\u0439\\u0442\\u0438\", \"\\u043f\\u043e\\u0432\\u043e\\u0434\", \"\\u0441\\u043a\\u0430\\u0437\\u0430\\u0442\\u044c\", \"\\u0441\\u043e\\u0436\\u0430\\u043b\\u0435\\u043d\\u0438\\u0435\", \"\\u0432\\u043e\\u043f\\u0440\\u043e\\u0441\", \"\\u0441\\u043c\\u043e\\u0442\\u0440\\u0435\\u0442\\u044c\", \"\\u043f\\u0440\\u043e\\u0431\\u043b\\u0435\\u043c\\u0430\", \"\\u044d\\u043a\\u043e\\u043d\\u043e\\u043c\\u0438\\u043a\\u0430\", \"\\u043d\\u0435\\u0441\\u043c\\u043e\\u0442\\u0440\\u044f\", \"\\u043a\\u0430\\u0441\\u0430\\u0442\\u044c\\u0441\\u044f\", \"\\u043c\\u0438\\u0440\\u043e\\u0432\\u043e\\u0439\", \"\\u0432\\u0440\\u0435\\u043c\\u044f\", \"\\u0441\\u0434\\u0435\\u043b\\u0430\\u0442\\u044c\", \"\\u0440\\u043e\\u0441\\u0442\", \"\\u043c\\u0438\\u0440\", \"\\u0441\\u0442\\u0440\\u0430\\u043d\\u0430\", \"\\u0433\\u043b\\u043e\\u0431\\u0430\\u043b\\u044c\\u043d\\u044b\\u0439\", \"\\u0441\\u043b\\u0443\\u0447\\u0430\\u0439\", \"\\u0441\\u0442\\u043e\\u0440\\u043e\\u043d\\u0430\", \"\\u043e\\u0442\\u043d\\u043e\\u0448\\u0435\\u043d\\u0438\\u0435\", \"\\u043f\\u043e\\u0441\\u043b\\u0435\\u0434\\u043d\\u0438\\u0439\", \"\\u0440\\u0435\\u0448\\u0435\\u043d\\u0438\\u0435\", \"\\u0440\\u043e\\u0441\\u0441\\u0438\\u044f\", \"\\u043f\\u0435\\u0440\\u0432\\u044b\\u0439\", \"\\u0440\\u044b\\u043d\\u043e\\u043a\", \"\\u0434\\u0435\\u043b\\u043e\", \"\\u0441\\u043f\\u043e\\u0440\\u0442\", \"\\u0438\\u0433\\u0440\\u0430\", \"\\u0443\\u043d\\u0438\\u0432\\u0435\\u0440\\u0441\\u0438\\u0442\\u0435\\u0442\", \"\\u0443\\u0447\\u0451\\u043d\\u044b\\u0439\", \"\\u0441\\u043f\\u043e\\u0440\\u0442\\u0438\\u0432\\u043d\\u044b\\u0439\", \"\\u043e\\u043b\\u0438\\u043c\\u043f\\u0438\\u0439\\u0441\\u043a\\u0438\\u0439\", \"\\u043b\\u0435\\u0447\\u0435\\u043d\\u0438\\u0435\", \"\\u0447\\u0435\\u043c\\u043f\\u0438\\u043e\\u043d\\u0430\\u0442\", \"\\u0443\\u0447\\u0438\\u0442\\u0435\\u043b\\u044c\", \"\\u043a\\u043e\\u043d\\u043a\\u0443\\u0440\\u0441\", \"\\u0441\\u043f\\u043e\\u0440\\u0442\\u0441\\u043c\\u0435\\u043d\", \"\\u0448\\u043a\\u043e\\u043b\\u044c\\u043d\\u0438\\u043a\", \"\\u0441\\u0442\\u0443\\u0434\\u0435\\u043d\\u0442\", \"\\u043f\\u0440\\u0435\\u0434\\u043e\\u0441\\u0442\\u0430\\u0432\\u0438\\u0442\\u044c\", \"\\u0437\\u0430\\u0431\\u043e\\u043b\\u0435\\u0432\\u0430\\u043d\\u0438\\u0435\", \"\\u0441\\u043e\\u0440\\u0435\\u0432\\u043d\\u043e\\u0432\\u0430\\u043d\\u0438\\u0435\", \"\\u0447\\u0435\\u043c\\u043f\\u0438\\u043e\\u043d\\u0430\\u0442_\\u043c\\u0438\\u0440\", \"\\u0442\\u0443\\u0440\\u0435\\u0446\\u043a\\u0438\\u0439\", \"\\u0441\\u0438\", \"\\u0444\\u0443\\u0442\\u0431\\u043e\\u043b\", \"\\u0433\\u043e\\u0441\\u043f\\u0438\\u0442\\u0430\\u043b\\u044c\", \"\\u0430\\u043a\\u0430\\u0434\\u0435\\u043c\\u0438\\u044f\", \"\\u043a\\u0430\\u043c\\u043f\\u0430\\u043d\\u0438\\u044f\", \"\\u043a\\u043e\\u043c\\u043f\\u0435\\u0442\\u0435\\u043d\\u0446\\u0438\\u044f\", \"\\u0445\\u043e\\u043a\\u043a\\u0435\\u0439\", \"\\u0437\\u0432\\u0430\\u0442\\u044c\", \"\\u043d\\u0430\\u0441\\u0442\\u0430\\u0432\\u043d\\u0438\\u043a\", \"\\u0440\\u0435\\u0431\\u044f\\u0442\", \"\\u0441\\u044a\\u0435\\u0437\\u0434\", \"\\u0444\\u0435\\u0441\\u0442\\u0438\\u0432\\u0430\\u043b\\u044c\", \"\\u043c\\u043e\\u043b\\u043e\\u0434\\u043e\\u0439_\\u0447\\u0435\\u043b\\u043e\\u0432\\u0435\\u043a\", \"\\u0448\\u043a\\u043e\\u043b\\u0430\", \"\\u043a\\u043e\\u043c\\u0430\\u043d\\u0434\\u0430\", \"\\u043c\\u043e\\u043b\\u043e\\u0434\\u043e\\u0439\", \"\\u0438\\u043d\\u0442\\u0435\\u0440\\u0435\\u0441\\u043d\\u044b\\u0439\", \"\\u043d\\u0430\\u0443\\u0447\\u043d\\u044b\\u0439\", \"\\u043d\\u0430\\u0443\\u043a\\u0430\", \"\\u0432\\u0443\\u0437\", \"\\u0437\\u0430\\u043c\\u0435\\u0447\\u0430\\u0442\\u0435\\u043b\\u044c\\u043d\\u044b\\u0439\", \"\\u0441\\u043f\\u0435\\u0446\\u0438\\u0430\\u043b\\u0438\\u0441\\u0442\", \"\\u0437\\u043d\\u0430\\u043d\\u0438\\u0435\", \"\\u0447\\u0435\\u0441\\u0442\\u043d\\u043e\", \"\\u0437\\u0430\\u043d\\u0438\\u043c\\u0430\\u0442\\u044c\\u0441\\u044f\", \"\\u0447\\u0435\\u043b\\u043e\\u0432\\u0435\\u043a\", \"\\u0440\\u0430\\u0431\\u043e\\u0442\\u0430\\u0442\\u044c\", \"\\u0445\\u043e\\u0440\\u043e\\u0448\\u0438\\u0439\", \"\\u0441\\u043a\\u0430\\u0437\\u0430\\u0442\\u044c\", \"\\u0441\\u0434\\u0435\\u043b\\u0430\\u0442\\u044c\", \"\\u0431\\u043e\\u043b\\u044c\\u0448\\u043e\\u0439\", \"\\u0440\\u0435\\u0437\\u0443\\u043b\\u044c\\u0442\\u0430\\u0442\", \"\\u043c\\u0438\\u0440\", \"\\u0440\\u0430\\u0431\\u043e\\u0442\\u0430\", \"\\u0432\\u043e\\u0437\\u043c\\u043e\\u0436\\u043d\\u043e\\u0441\\u0442\\u044c\", \"\\u0441\\u0442\\u0440\\u0430\\u043d\\u0430\", \"\\u0440\\u043e\\u0441\\u0441\\u0438\\u044f\", \"\\u0433\\u043e\\u0432\\u043e\\u0440\\u0438\\u0442\\u044c\", \"\\u0446\\u0435\\u043d\\u0442\\u0440\", \"\\u043d\\u0430\\u0434\\u0435\\u044f\\u0442\\u044c\\u0441\\u044f\", \"\\u0432\\u0430\\u0436\\u043d\\u044b\\u0439\", \"\\u0431\\u043e\\u043b\\u044c\\u0448\\u0438\\u0439\", \"\\u043f\\u0435\\u0440\\u0432\\u044b\\u0439\", \"\\u043e\\u0433\\u0440\\u043e\\u043c\\u043d\\u044b\\u0439\"], \"Freq\": [4498.0, 3136.0, 1374.0, 1641.0, 2914.0, 1015.0, 3463.0, 2808.0, 839.0, 1825.0, 1989.0, 1844.0, 6393.0, 3169.0, 1670.0, 2540.0, 1348.0, 846.0, 785.0, 1130.0, 6214.0, 1051.0, 735.0, 928.0, 1897.0, 744.0, 779.0, 1572.0, 797.0, 1077.0, 331.43186117898074, 291.9855289966333, 321.2392967803919, 267.88991670857615, 224.93836324088988, 252.95027054438296, 166.8393545607605, 155.47988675850578, 153.70560298376157, 143.21610668813003, 144.41385518683015, 141.6954917764329, 139.4962348358909, 141.78488096171822, 185.9782116795161, 132.60059161648311, 123.14245009588093, 117.34910703468425, 114.69688662758892, 103.72045231658332, 94.50488507951376, 91.69862230358598, 90.60293894260968, 86.95180687447404, 86.61171181962037, 80.94295597579202, 79.5885350353963, 74.29055288114805, 73.03638266112121, 70.91483771527278, 201.42656054432743, 137.35171836756692, 106.55086016015662, 114.56869554455685, 513.3499727831578, 260.18751528442994, 232.63816788423452, 196.49279354353217, 137.05006732079823, 429.6562935131334, 276.0462387460455, 516.752854271265, 235.54945879136486, 368.91406160554493, 175.66241671506748, 237.60219736898668, 228.3810786806522, 208.26974379773395, 398.8064044220624, 256.0588502083106, 198.10582721811647, 190.82045880308627, 174.99752430764636, 208.0437406378422, 190.99870450067195, 185.9075492788576, 173.7553142607345, 173.83080401031904, 307.0339655179411, 242.22705842429215, 219.1700765177328, 214.61260900679503, 194.44876070449513, 187.07183856686788, 176.35893248321665, 157.5578174203945, 150.66051609319734, 142.85601431524572, 140.51453264363317, 122.54607630250166, 122.0954698248079, 117.81665379133575, 117.2663132409594, 116.41627870418377, 107.36989791600507, 105.5179328144564, 100.88215335042692, 100.57520362396484, 93.79789377452454, 93.33201659539064, 90.44137634294823, 87.6283147048278, 83.10717765929368, 82.57397998109901, 79.44096695150502, 74.64201529745425, 74.12816050775045, 73.38217380112638, 138.12218314394653, 440.32779443692834, 1004.527722849835, 222.33590861415072, 509.9453866049437, 143.3858472626146, 404.54483113121796, 225.18176343655028, 491.58506853533083, 340.9931066758304, 192.90766222119038, 159.2706207059942, 201.95663126385043, 251.58758428639118, 360.70449358472484, 400.2223081070702, 152.30283258175402, 212.35011223443934, 347.79828339852025, 248.7974977205505, 278.38488725405614, 287.45114583665185, 225.67165098975647, 217.78058072691755, 242.97135413798838, 252.35044641223385, 220.72763629953914, 207.18578532276672, 218.99033087151574, 200.57698809509432, 619.5204957010006, 256.7431650281897, 190.24485281349837, 164.5464980042389, 157.1574544765751, 124.99347542322273, 123.36494743325986, 109.25260037784976, 109.47902836821095, 107.26527674554978, 103.46853238256364, 100.39119563151074, 232.32038022741736, 89.55175070330678, 83.97891484110775, 80.87324936449222, 80.50006512144058, 80.28613465855715, 78.90721338665197, 77.83984082455584, 77.1692124376943, 71.02667020777534, 70.07356182184701, 70.01821242533215, 69.07233197545106, 67.72504320132455, 67.13779395262955, 66.92292169042662, 66.39931116717761, 66.00905494281065, 725.4182648854458, 357.7871995038604, 490.6223726213294, 113.92772209822196, 201.2057823793196, 187.87169791871352, 338.11955946722634, 791.9969589245965, 2117.7554232492594, 306.0914162792169, 285.66988831111917, 258.61199386198194, 195.01113472831963, 155.2796262270633, 844.4954242549709, 223.6830190747497, 1612.3646207529262, 519.5483484444815, 424.72305972303343, 283.3763528318206, 398.80091545642694, 516.6094561933945, 334.8471207650822, 1122.8784467899939, 677.3152816235308, 398.59105864933025, 700.3529487108435, 560.4720702398516, 702.4609646733968, 340.6529697382811, 400.0524023108869, 275.6083023494394, 271.5539310249843, 352.9008456504011, 306.35003736218977, 303.69368490695183, 286.81532557236466, 288.0693537900677, 1640.1429928129517, 790.675817250281, 740.0446998769316, 417.3849212926769, 303.6530038507722, 288.55182561792304, 282.4393916839115, 247.25945035764826, 225.82044306019094, 222.98613834341572, 218.817911554818, 216.40486649540523, 212.067603913043, 204.63159100647778, 186.69093650721896, 182.11350293816187, 178.56871173508299, 167.90690780441818, 167.81548747190143, 165.8547313676575, 157.29517291756073, 151.5545734022628, 146.96122412535127, 137.9086164656202, 135.83500448333407, 132.89084127646802, 126.6419945281204, 122.4094505487634, 120.51696945387653, 120.51696945387653, 294.52901825190344, 782.928878114676, 216.55682562119327, 568.2857158335047, 1401.7990618329911, 689.202963229084, 311.5145403046025, 246.49720615826885, 516.943626481437, 383.6353461618263, 271.11823628322605, 296.4598849100971, 276.9835545781765, 978.5197560255817, 365.92306307274964, 321.2617292969657, 913.0025968841744, 365.1543808217845, 1431.7086874810163, 499.3658458995866, 1934.790450105666, 1876.5337244836444, 625.0804760364291, 325.72450222270004, 765.2553499853085, 683.3370750082555, 503.49721748140195, 561.1801332860291, 617.1772505600358, 737.6206995756403, 476.9222914711036, 648.3165229525613, 448.8008399280942, 588.481102648266, 418.27337241150155, 470.84012693372773, 419.6497645154237, 422.8780357725113, 541.194976577166, 526.9476683725516, 489.4404587281346, 250.11515121623893, 192.93125805039028, 191.13322722342153, 176.14376996491615, 172.63341000839196, 172.26754208994527, 169.56975863058963, 150.78718340932272, 149.08577433476032, 145.4257819791233, 145.40155742674958, 144.55055339428924, 144.0261834118092, 136.07402197261266, 132.50321006608507, 121.21062914643149, 111.80506367908515, 108.97870463551875, 103.96462546075047, 103.28864180335717, 102.43988398474032, 102.03766195916505, 98.04707300194687, 97.80074973615554, 96.4458796219404, 91.19795806701889, 91.03667415353324, 293.72455209739485, 639.9972381923415, 418.10130604907346, 175.82554481804226, 369.02678625337535, 418.86667749839256, 214.0104774957006, 154.57261816883496, 142.5056348683069, 305.89276476846976, 172.10901698782124, 447.48445554051705, 464.2017235255299, 396.48471161908157, 814.1087145049803, 242.85190932236515, 221.82868395650732, 323.2627479392664, 452.4212879971598, 217.49934291359932, 508.816644913488, 355.37948208301736, 361.30932536321075, 505.4372334645169, 286.1574147490642, 328.741390213051, 261.02382539242575, 482.8216613454824, 365.0607789389368, 213.88418268246937, 234.33405908501362, 238.33890862037666, 230.10686893628056, 225.01570431002168, 838.8322643485265, 499.077325282771, 438.33158686175983, 428.68927274633427, 296.4792580552329, 240.36241944728334, 235.73369046880913, 221.1373954039733, 205.98108747820712, 200.58462786399235, 183.50248455109516, 170.50612373102226, 169.25619538890848, 161.67640141398644, 153.53975501800076, 148.56383890756936, 145.77094965558797, 137.39425503912815, 135.2747957306468, 123.71073771645824, 106.61438950761938, 105.62491557744374, 99.65229069206067, 94.00928260132147, 88.11106472047707, 87.83778063102577, 82.02029063445356, 80.20851295959493, 99.52715435679588, 77.5259230589633, 924.9113029023495, 272.6453389290449, 306.06160923048384, 236.7691018195345, 620.2628032118565, 281.3565703762655, 220.84424325200828, 1264.2016402242332, 448.27767904048625, 215.75602048382527, 250.66673467231243, 533.701840287, 385.48582059936115, 199.0446565594041, 208.51446190848102, 300.0273899346165, 200.04282597007798, 322.3627138932826, 260.80388825357824, 363.641031074933, 242.15187758329915, 224.96557642246893, 220.48554186886088, 211.3091620070888, 213.55498765986417, 507.3673642959282, 392.1510412043679, 296.19931548638544, 267.70287169253686, 259.88815684295673, 252.63106685636816, 235.2676677239226, 230.0552999867207, 209.6923395021272, 205.2159935733038, 180.08175790846195, 174.9445001728555, 220.48088255543166, 507.8080291889716, 156.425687563777, 153.3947234616534, 151.8088968068524, 123.67921758236916, 118.7959677714684, 117.61953766839262, 113.36819183219625, 103.78498896229532, 103.1947027955353, 100.56444755827599, 100.60736668640418, 97.80617418424828, 97.4226757370263, 96.8250948458556, 94.11478703409612, 93.71855642131983, 759.0789048695467, 657.125148332679, 502.63368688286863, 530.4594070379378, 168.42566806594718, 609.7711210180498, 347.80625266522543, 664.7795503107883, 226.00502950211933, 372.80741154018995, 260.61574756282033, 183.69478481130133, 294.0297886890411, 461.62154878705536, 611.7292840920172, 439.73063068419185, 404.83953616398065, 800.2333206387904, 547.2259828552822, 495.6229801844158, 299.2153724464972, 232.31634686084232, 440.2585548477488, 379.682938016634, 354.1708920762209, 321.10315893813817, 295.0671179416227, 286.9189801606594, 248.7376289137676, 241.73664647872405, 231.5783055454313, 223.8608121534048, 222.601787478788, 213.5785085702303, 207.7557820828605, 195.76674441623837, 185.31072454966142, 185.10102147412735, 184.1650839227587, 175.56869925202295, 166.19996668376328, 165.47496597099908, 162.60355954912765, 159.58416263619225, 156.7121454405236, 155.01806659015415, 149.3778148824388, 148.043701677193, 137.52709304993283, 133.72671189798098, 133.58496351512446, 130.88099462202018, 166.98912307618642, 213.28567918089595, 244.39602888463202, 361.43848948922255, 318.8997802492272, 760.6848542638189, 542.5096132338824, 260.6352581738993, 406.4304327630916, 416.3502787440498, 497.8440674772425, 311.8126054159214, 611.8021448368745, 473.5023374251394, 733.7188979455752, 632.8004991230501, 568.8499905980717, 716.0988556865276, 1000.9301377154675, 865.5184597121714, 659.4979104181365, 470.53583352304236, 659.3923198440748, 584.0546912296247, 1084.6306766089317, 520.2462731208293, 683.621276622261, 556.9674108043033, 948.2503602251645, 883.2366655359068, 630.5050646074236, 514.8478145439534, 648.047905058504, 547.8619950354968, 501.33290513071347, 578.7433534271829, 559.1776790216468, 560.4804839620476, 493.97811365042213, 515.7428295622581, 494.2683751511043, 480.38080087436833, 433.0661236121733, 516.21765047273, 288.8322136634456, 281.07846182859174, 254.61495465519886, 234.8073425392646, 210.60703844975035, 190.23615529084438, 174.49569077675415, 166.6991594345064, 160.19094854235658, 146.6993444578709, 143.1628637707393, 137.65177227320927, 126.40771858061493, 124.19054751155612, 123.9721438965904, 123.53914255208446, 121.81089788577194, 121.38548572525984, 118.73182364226933, 107.2443062167296, 105.57467444465524, 103.82151647493436, 103.05411671069965, 99.05183856251728, 98.2865506694237, 401.0016857170376, 294.8258620700128, 312.23386907189337, 386.99774395239604, 569.7560910418771, 204.5913452706296, 2125.742362536405, 831.4713597553169, 281.24095167874566, 300.799385586882, 206.99070192925495, 250.22361789304634, 1625.2797676874675, 316.4978159598635, 1425.7905675726997, 297.3887475742198, 835.5444025268705, 929.4649814746925, 295.36302270614857, 505.1297171365805, 577.3137889568899, 723.4661136154903, 667.4610075534868, 437.8015937294753, 802.9500317898788, 1165.30248798055, 402.7365822127733, 413.58093888169185, 422.7676461062406, 518.3975984012476, 405.8097951668521, 490.75250497109886, 670.8518820661651, 453.89762054842, 385.24644939838794, 428.48410860217547, 467.9461075338147, 297.2971947097876, 273.35546964912743, 211.2004770187412, 209.98021705400464, 196.38625223943257, 196.26064487598455, 190.11545896500743, 174.03984723408294, 169.96331734763422, 161.11062073583577, 157.6532493732124, 151.02688727698666, 151.01448498403204, 146.17655265434217, 131.0565867676586, 130.85544561562125, 122.24419760796269, 120.45609565533752, 120.34823121980588, 119.79896535352333, 110.6068993906778, 109.08304959735521, 108.05232753810867, 104.2993977877113, 99.30825343151034, 98.55770299460453, 103.73891795390038, 94.76522386177308, 92.02192680903421, 227.23662815016576, 475.6054249215536, 348.99150886076427, 471.23703138328267, 331.7644780863492, 359.55859027202035, 400.97864278746925, 183.25109031070414, 210.9134622810147, 325.8818301411, 240.0324753634989, 159.5032398603942, 302.71798017269333, 1097.0700103373317, 659.8256970592278, 505.1588324124476, 699.5101388245016, 494.93529997959996, 414.7041565926207, 386.0587663165262, 501.50469074992947, 511.14771938258787, 388.1882727982274, 568.0456695984607, 527.3074153816057, 390.240032747442, 290.015136497607, 246.89654352171738, 324.86948614922176, 275.52671776879043, 278.7325465906071, 259.0046234914993], \"Total\": [4498.0, 3136.0, 1374.0, 1641.0, 2914.0, 1015.0, 3463.0, 2808.0, 839.0, 1825.0, 1989.0, 1844.0, 6393.0, 3169.0, 1670.0, 2540.0, 1348.0, 846.0, 785.0, 1130.0, 6214.0, 1051.0, 735.0, 928.0, 1897.0, 744.0, 779.0, 1572.0, 797.0, 1077.0, 332.3469890134995, 292.89997527670016, 322.3307633265923, 268.8037199725449, 225.8519872319961, 254.0469366463033, 167.75305679187136, 156.39609562058564, 154.61951414483428, 144.12991603424518, 145.34033577129, 142.60899551867402, 140.40978393243003, 142.73820294188735, 187.2328108828203, 133.51411163710026, 124.05619104021169, 118.26270321809277, 115.6105393497319, 104.63407148965105, 95.41859137556065, 92.61238707847461, 91.51655176840413, 87.8655012788787, 87.5253201402054, 81.8567550224838, 80.50205237221475, 75.20419147257986, 73.95009834086238, 71.82856192463015, 218.0092040481976, 145.92704417077996, 111.84730930968144, 125.48850582975443, 797.078359603504, 345.4307875375719, 312.04407642737795, 254.45199748537547, 160.1292672729145, 809.8801842259843, 441.8592305323597, 1130.4114594512707, 374.27434774653256, 978.2649710726364, 252.4416417699294, 538.0396382931626, 513.1686756178644, 423.75937889377457, 3169.8963887150576, 1083.0193565568454, 464.5983071386144, 445.022381509064, 346.42524137676793, 841.326024508948, 1511.7859307248584, 1194.3708753403096, 620.7416081491858, 1571.0410868358401, 307.9456385533353, 243.13863721918133, 220.0817126161459, 215.5242073846651, 195.36034713973473, 187.98352490594667, 177.2705735542031, 158.46941971904246, 151.57215449275748, 143.76767976488728, 141.42617353042763, 123.45789116836502, 123.00704787010257, 118.72823465480535, 118.17791693681811, 117.32789804361202, 108.28147831882548, 106.42980344149177, 101.79374850938962, 101.48678618402779, 94.70962308316628, 94.24369378329487, 91.35298479766006, 88.53990154202722, 84.01898955153443, 83.48560057181489, 80.35269830724911, 75.55388746336334, 75.03982061389695, 74.2939366336889, 146.42150364465434, 522.5425345166474, 1374.5351209861092, 255.5095676286952, 702.3464172774992, 160.86293253580558, 644.4741608568198, 320.91844260242635, 1051.7514730970804, 705.8182048259164, 294.7168978793099, 226.3844130488474, 345.28966194693504, 552.5147326760758, 1129.1857432600955, 1670.3997861196183, 216.3150229086405, 492.7048914815659, 1923.67880288577, 829.9493987051228, 1194.3708753403096, 1572.0899865060412, 1231.6791964648087, 1077.747400796411, 2029.0394412252704, 3169.8963887150576, 1571.0410868358401, 1159.231232558092, 6393.782968845861, 1511.7859307248584, 620.428197501391, 257.65085906044754, 191.15255726802903, 165.45433850610155, 158.06551029806866, 125.90143003421892, 124.27270531162966, 110.16029839318017, 110.39667882125656, 108.17300591032435, 104.37619670812106, 101.29905809458195, 234.4869973578976, 90.4753932089918, 84.88658197537353, 81.78097634033819, 81.40774156054695, 81.19407713947373, 79.81513436125404, 78.74762536946986, 78.07692871014778, 71.93449772723383, 70.98135529914553, 70.92596102559511, 69.98033916542744, 68.63274609550463, 68.04602037781055, 67.8308019223803, 67.30704934288528, 66.91685937259747, 768.6875411569476, 382.45102229630936, 630.9459131560261, 125.63687284204337, 245.0457472696038, 228.64914401974994, 467.82595262741, 1348.4842269102169, 4498.249817029632, 447.93342894637095, 417.5048142175118, 370.24852048794025, 257.0461628108405, 191.62324086632657, 1844.9024313276825, 316.70615597683747, 6393.782968845861, 1231.6791964648087, 983.4202029731186, 545.9571028500974, 977.8535362917028, 1572.0899865060412, 747.8712154507396, 6214.748205626158, 2623.4502975194137, 1051.7514730970804, 3054.732202287903, 2029.0394412252704, 3463.972825788496, 840.2337307913052, 1219.5490624809443, 538.6208161204248, 548.8369474262129, 1511.7859307248584, 890.9898925217797, 1571.0410868358401, 931.465177982978, 1083.0193565568454, 1641.0500072691966, 791.5828712555325, 740.9517940192815, 418.2919739283119, 304.56001598892755, 289.4588048496882, 283.34641408339405, 248.16652473272586, 226.7274709623349, 223.89362649275594, 219.72495991798593, 217.31188188462008, 212.9746852961098, 205.53868222687726, 187.59802625595879, 183.0208334651328, 179.4757657958214, 168.8139959202329, 168.72247514288406, 166.7617626520394, 158.20259144317976, 152.4615744241448, 147.86819206189855, 138.8161082575719, 136.7420850109568, 133.79796254699266, 127.54897528780064, 123.31677567445615, 121.4239755763854, 121.4239755763854, 307.593937003746, 894.5335394628203, 227.57373847867325, 651.0388865023612, 1825.6154189552274, 830.2733644902406, 350.20988747875623, 269.43582933716635, 665.3984127591973, 469.78936320797834, 307.35005381665025, 345.46731730989376, 322.3205363379851, 1670.3997861196183, 466.91508085529415, 393.5024280015655, 1637.7622829383367, 474.2962216096409, 3463.972825788496, 775.7655848599375, 6214.748205626158, 6393.782968845861, 1238.1096274933539, 431.32052318488974, 2029.0394412252704, 1897.8072585482946, 1043.9602037128034, 1568.9668229726283, 1989.6788046773545, 3136.0825182563144, 1196.094669836844, 3054.732202287903, 1042.1311179669874, 3169.8963887150576, 1253.7305777279696, 2540.862105632096, 1952.328940429909, 2623.4502975194137, 542.1073702816744, 527.860087333535, 490.35283935878505, 251.0276812708989, 193.8439485565786, 192.04570122098673, 177.0562914432689, 173.54596976192198, 173.18605182425802, 170.4822325610082, 151.69978217256926, 149.99822651686554, 146.33826168096832, 146.31405782800422, 145.46309110150918, 144.93857290850156, 136.98663490560483, 133.4168078682305, 122.12310370237746, 112.71763095565471, 109.89114497973894, 104.87707594106172, 104.20146391500535, 103.3523027099886, 102.95005381165205, 98.95953458865797, 98.71327558744454, 97.35831207328962, 92.11076643218105, 91.94908499190821, 313.8986931507928, 744.9079254193496, 485.0742268948008, 190.55783151664605, 455.7819584888275, 537.0285697415807, 261.6977444549819, 173.8584490557262, 157.1010338340261, 423.6060324768142, 204.38133038772776, 778.0213950728428, 821.5286407431736, 677.9449447826254, 1989.6788046773545, 341.22732973545754, 301.76695232031847, 596.2380690238397, 1097.1023013917056, 298.1275508419971, 1897.8072585482946, 936.2357346704434, 1119.5076959142016, 3136.0825182563144, 759.0354956303546, 1130.4114594512707, 589.3708272337154, 6214.748205626158, 3463.972825788496, 423.75937889377457, 1111.4658019019084, 1695.8195066916562, 1685.7329107554497, 6393.782968845861, 839.7346914184183, 499.98510023067786, 439.23396259294503, 429.59170897446205, 297.3816735655478, 241.26480805114466, 236.63609394616873, 222.0397771297774, 206.88348191273025, 201.48713989342008, 184.40490887773237, 171.40861260777427, 170.15866685332463, 162.57887043332184, 154.4422863329005, 149.4664055323183, 146.67331977729975, 138.2968729609218, 136.17723856499217, 124.61316838277202, 107.51696194087428, 106.52731704991857, 100.55483202894186, 94.91193567932478, 89.01394746316697, 88.7402586952921, 82.92285622799216, 81.1110956037572, 100.65298284210569, 78.42847031742407, 1015.3282342313948, 306.3928343659743, 348.6483328425992, 275.7185723489582, 846.703336436705, 392.2445489337209, 287.25868497020736, 3136.0825182563144, 808.2629850768552, 290.9510409526274, 371.3812046818698, 1513.6821424316554, 936.2357346704434, 282.3625703478623, 333.61352312143845, 1054.3945873019939, 366.88434306841367, 3169.8963887150576, 1231.1785809904864, 6214.748205626158, 1685.7329107554497, 928.9338636882042, 1189.7029263334273, 602.6254128244484, 2808.4045462354916, 508.277970250165, 393.0615875332215, 297.1098788790758, 268.6134573809249, 260.7995079480219, 253.54164164649228, 236.17821976638655, 230.96581879341514, 210.60292651393482, 206.12657059542144, 180.99239455278217, 175.85502171011686, 221.67974766538288, 510.7001169026493, 157.3364040525464, 154.3055318847695, 152.7195516672146, 124.58977278270308, 119.70656928963957, 118.5302623627537, 114.27883343675451, 104.69576098835914, 104.10549143205827, 101.47502486856921, 101.52380360007513, 98.71673372520816, 98.33321196535566, 97.73566308503725, 95.02531685467449, 94.62959245454016, 785.2844499527977, 735.845781455725, 575.1454415730402, 610.574710937002, 179.8584545365145, 779.2923075289378, 423.90663352367164, 928.5942738633556, 298.44892834532294, 593.931903818194, 367.18318487140766, 228.83178583176993, 478.2497826048347, 983.4202029731186, 1844.9024313276825, 1348.4842269102169, 1194.3708753403096, 6214.748205626158, 4498.249817029632, 6393.782968845861, 1798.382018427866, 557.2585532836143, 441.17569390304584, 380.6001319444554, 355.088062909604, 322.02032564932955, 295.9842945514506, 287.8362094451953, 249.654766520133, 242.65380165328872, 232.49541732531515, 224.77802550914308, 223.51898231002724, 214.49567801528997, 208.69796829667533, 196.69085736621494, 186.22782503384124, 186.01856995407843, 185.08229062090277, 176.48578605626588, 167.11710946194296, 166.3920701664127, 163.5206878068093, 160.50145218912095, 157.62922168086317, 155.9351984615134, 150.2949025378488, 148.9608311301025, 138.44419959140774, 134.6438677826322, 134.5021969132687, 131.79905125220063, 168.63267826047888, 221.48710230266786, 258.21323796325066, 397.59615658838925, 348.11042244867514, 932.4473885629125, 667.3855705913343, 292.3784660260775, 506.06002387480805, 523.8589573772211, 658.8166432016486, 367.1094832903361, 853.8710505348483, 620.1699304543395, 1111.4658019019084, 926.3862797043884, 841.326024508948, 1159.231232558092, 1874.268563491846, 1568.9668229726283, 1159.289766274448, 726.3516383060481, 1251.9702786528467, 1054.3945873019939, 3169.8963887150576, 913.8017653755991, 1511.7859307248584, 1073.4918365528608, 3463.972825788496, 3054.732202287903, 1572.0899865060412, 1097.1023013917056, 1923.67880288577, 1280.120867842466, 1129.1857432600955, 1897.8072585482946, 1952.328940429909, 2540.862105632096, 1961.9149480748642, 516.6649349596779, 495.1904507060364, 481.30286311717504, 433.9881526798694, 517.8354060128329, 289.7541500685415, 282.0003832652554, 255.53704659803623, 235.72928654807848, 211.530274443274, 191.15830748886427, 175.41765580208752, 167.62112370851753, 161.11290294788435, 147.62164637846024, 144.08483738997336, 138.573684341065, 127.32979104902559, 125.11259468634616, 124.89425314749458, 124.46229258490686, 122.73296968096787, 122.3074340147386, 119.65373474400124, 108.16643083939775, 106.49671991884344, 104.74353470409025, 103.97614444634276, 99.97401380113955, 99.20884136739821, 410.3296775640253, 305.1415695235994, 324.7328917774227, 409.33323100380386, 612.560934617132, 214.0897724338288, 2914.0208386053896, 1077.747400796411, 319.6385775285978, 350.39540565599987, 228.47212564706146, 290.7389404201452, 2808.4045462354916, 386.7550200193898, 2540.862105632096, 360.22922050607076, 1382.0757411007087, 1952.328940429909, 386.4139253618389, 874.5410572176285, 1202.3772340021849, 1798.382018427866, 1670.1564114394318, 805.7159171856666, 2623.4502975194137, 6393.782968845861, 756.6661984581862, 808.3380230132972, 921.0588849360413, 1637.7622829383367, 880.0838307869768, 1874.268563491846, 6214.748205626158, 1685.7329107554497, 889.94688053475, 1571.0410868358401, 468.855831098408, 298.20696683953906, 274.26530252557274, 212.11026252258372, 210.8899418809066, 197.2959579421765, 197.1707129712059, 191.02514720147443, 174.94957781500946, 170.8730608772034, 162.02033504920732, 158.56301293079875, 151.93661958732554, 151.924432063694, 147.08650593186286, 131.9662944400527, 131.7651309846373, 123.15407753738097, 121.36604665016046, 121.25792477937166, 120.70950510383823, 111.51665018003402, 109.9929484957599, 108.96222086395188, 105.20916835299057, 100.21805297830196, 99.46745542759112, 104.72895623126857, 95.67504077193725, 92.93168874927639, 235.4819584416542, 512.0962051798125, 377.5905149630504, 548.4849527756099, 382.107489470658, 453.0655719393118, 534.1356881126775, 206.69335739346303, 272.63335220947295, 506.0251083822684, 345.88716791929596, 188.3703058671722, 537.2498026356424, 4498.249817029632, 1961.9149480748642, 1474.831214726882, 2808.4045462354916, 1670.1564114394318, 1231.1785809904864, 1158.8181833901517, 2623.4502975194137, 3169.8963887150576, 1695.8195066916562, 6393.782968845861, 6214.748205626158, 2914.0208386053896, 1119.5076959142016, 601.8288942090661, 3054.732202287903, 1189.7029263334273, 1685.7329107554497, 928.9338636882042], \"Category\": [\"Default\", \"Default\", \"Default\", \"Default\", \"Default\", \"Default\", \"Default\", \"Default\", \"Default\", \"Default\", \"Default\", \"Default\", \"Default\", \"Default\", \"Default\", \"Default\", \"Default\", \"Default\", \"Default\", \"Default\", \"Default\", \"Default\", \"Default\", \"Default\", \"Default\", \"Default\", \"Default\", \"Default\", \"Default\", \"Default\", \"Topic1\", \"Topic1\", \"Topic1\", \"Topic1\", \"Topic1\", \"Topic1\", \"Topic1\", \"Topic1\", \"Topic1\", \"Topic1\", \"Topic1\", \"Topic1\", \"Topic1\", \"Topic1\", \"Topic1\", \"Topic1\", \"Topic1\", \"Topic1\", \"Topic1\", \"Topic1\", \"Topic1\", \"Topic1\", \"Topic1\", \"Topic1\", \"Topic1\", \"Topic1\", \"Topic1\", \"Topic1\", \"Topic1\", \"Topic1\", \"Topic1\", \"Topic1\", \"Topic1\", \"Topic1\", \"Topic1\", \"Topic1\", \"Topic1\", \"Topic1\", \"Topic1\", \"Topic1\", \"Topic1\", \"Topic1\", \"Topic1\", \"Topic1\", \"Topic1\", \"Topic1\", \"Topic1\", \"Topic1\", \"Topic1\", \"Topic1\", \"Topic1\", \"Topic1\", \"Topic1\", \"Topic1\", \"Topic1\", \"Topic1\", \"Topic1\", \"Topic1\", \"Topic2\", \"Topic2\", \"Topic2\", \"Topic2\", \"Topic2\", \"Topic2\", \"Topic2\", \"Topic2\", \"Topic2\", \"Topic2\", \"Topic2\", \"Topic2\", \"Topic2\", \"Topic2\", \"Topic2\", \"Topic2\", \"Topic2\", \"Topic2\", \"Topic2\", \"Topic2\", \"Topic2\", \"Topic2\", \"Topic2\", \"Topic2\", \"Topic2\", \"Topic2\", \"Topic2\", \"Topic2\", \"Topic2\", \"Topic2\", \"Topic2\", \"Topic2\", \"Topic2\", \"Topic2\", \"Topic2\", \"Topic2\", \"Topic2\", \"Topic2\", \"Topic2\", \"Topic2\", \"Topic2\", \"Topic2\", \"Topic2\", \"Topic2\", \"Topic2\", \"Topic2\", \"Topic2\", \"Topic2\", \"Topic2\", \"Topic2\", \"Topic2\", \"Topic2\", \"Topic2\", \"Topic2\", \"Topic2\", \"Topic2\", \"Topic2\", \"Topic2\", \"Topic2\", \"Topic2\", \"Topic3\", \"Topic3\", \"Topic3\", \"Topic3\", \"Topic3\", \"Topic3\", \"Topic3\", \"Topic3\", \"Topic3\", \"Topic3\", \"Topic3\", \"Topic3\", \"Topic3\", \"Topic3\", \"Topic3\", \"Topic3\", \"Topic3\", \"Topic3\", \"Topic3\", \"Topic3\", \"Topic3\", \"Topic3\", \"Topic3\", \"Topic3\", \"Topic3\", \"Topic3\", \"Topic3\", \"Topic3\", \"Topic3\", \"Topic3\", \"Topic3\", \"Topic3\", \"Topic3\", \"Topic3\", \"Topic3\", \"Topic3\", \"Topic3\", \"Topic3\", \"Topic3\", \"Topic3\", \"Topic3\", \"Topic3\", \"Topic3\", \"Topic3\", \"Topic3\", \"Topic3\", \"Topic3\", \"Topic3\", \"Topic3\", \"Topic3\", \"Topic3\", \"Topic3\", \"Topic3\", \"Topic3\", \"Topic3\", \"Topic3\", \"Topic3\", \"Topic3\", \"Topic3\", \"Topic3\", \"Topic3\", \"Topic3\", \"Topic3\", \"Topic3\", \"Topic3\", \"Topic3\", \"Topic3\", \"Topic3\", \"Topic4\", \"Topic4\", \"Topic4\", \"Topic4\", \"Topic4\", \"Topic4\", \"Topic4\", \"Topic4\", \"Topic4\", \"Topic4\", \"Topic4\", \"Topic4\", \"Topic4\", \"Topic4\", \"Topic4\", \"Topic4\", \"Topic4\", \"Topic4\", \"Topic4\", \"Topic4\", \"Topic4\", \"Topic4\", \"Topic4\", \"Topic4\", \"Topic4\", \"Topic4\", \"Topic4\", \"Topic4\", \"Topic4\", \"Topic4\", \"Topic4\", \"Topic4\", \"Topic4\", \"Topic4\", \"Topic4\", \"Topic4\", \"Topic4\", \"Topic4\", \"Topic4\", \"Topic4\", \"Topic4\", \"Topic4\", \"Topic4\", \"Topic4\", \"Topic4\", \"Topic4\", \"Topic4\", \"Topic4\", \"Topic4\", \"Topic4\", \"Topic4\", \"Topic4\", \"Topic4\", \"Topic4\", \"Topic4\", \"Topic4\", \"Topic4\", \"Topic4\", \"Topic4\", \"Topic4\", \"Topic4\", \"Topic4\", \"Topic4\", \"Topic4\", \"Topic4\", \"Topic4\", \"Topic4\", \"Topic4\", \"Topic5\", \"Topic5\", \"Topic5\", \"Topic5\", \"Topic5\", \"Topic5\", \"Topic5\", \"Topic5\", \"Topic5\", \"Topic5\", \"Topic5\", \"Topic5\", \"Topic5\", \"Topic5\", \"Topic5\", \"Topic5\", \"Topic5\", \"Topic5\", \"Topic5\", \"Topic5\", \"Topic5\", \"Topic5\", \"Topic5\", \"Topic5\", \"Topic5\", \"Topic5\", \"Topic5\", \"Topic5\", \"Topic5\", \"Topic5\", \"Topic5\", \"Topic5\", \"Topic5\", \"Topic5\", \"Topic5\", \"Topic5\", \"Topic5\", \"Topic5\", \"Topic5\", \"Topic5\", \"Topic5\", \"Topic5\", \"Topic5\", \"Topic5\", \"Topic5\", \"Topic5\", \"Topic5\", \"Topic5\", \"Topic5\", \"Topic5\", \"Topic5\", \"Topic5\", \"Topic5\", \"Topic5\", \"Topic5\", \"Topic5\", \"Topic5\", \"Topic5\", \"Topic5\", \"Topic5\", \"Topic5\", \"Topic5\", \"Topic5\", \"Topic5\", \"Topic6\", \"Topic6\", \"Topic6\", \"Topic6\", \"Topic6\", \"Topic6\", \"Topic6\", \"Topic6\", \"Topic6\", \"Topic6\", \"Topic6\", \"Topic6\", \"Topic6\", \"Topic6\", \"Topic6\", \"Topic6\", \"Topic6\", \"Topic6\", \"Topic6\", \"Topic6\", \"Topic6\", \"Topic6\", \"Topic6\", \"Topic6\", \"Topic6\", \"Topic6\", \"Topic6\", \"Topic6\", \"Topic6\", \"Topic6\", \"Topic6\", \"Topic6\", \"Topic6\", \"Topic6\", \"Topic6\", \"Topic6\", \"Topic6\", \"Topic6\", \"Topic6\", \"Topic6\", \"Topic6\", \"Topic6\", \"Topic6\", \"Topic6\", \"Topic6\", \"Topic6\", \"Topic6\", \"Topic6\", \"Topic6\", \"Topic6\", \"Topic6\", \"Topic6\", \"Topic6\", \"Topic6\", \"Topic6\", \"Topic7\", \"Topic7\", \"Topic7\", \"Topic7\", \"Topic7\", \"Topic7\", \"Topic7\", \"Topic7\", \"Topic7\", \"Topic7\", \"Topic7\", \"Topic7\", \"Topic7\", \"Topic7\", \"Topic7\", \"Topic7\", \"Topic7\", \"Topic7\", \"Topic7\", \"Topic7\", \"Topic7\", \"Topic7\", \"Topic7\", \"Topic7\", \"Topic7\", \"Topic7\", \"Topic7\", \"Topic7\", \"Topic7\", \"Topic7\", \"Topic7\", \"Topic7\", \"Topic7\", \"Topic7\", \"Topic7\", \"Topic7\", \"Topic7\", \"Topic7\", \"Topic7\", \"Topic7\", \"Topic7\", \"Topic7\", \"Topic7\", \"Topic7\", \"Topic7\", \"Topic7\", \"Topic7\", \"Topic7\", \"Topic7\", \"Topic7\", \"Topic7\", \"Topic7\", \"Topic8\", \"Topic8\", \"Topic8\", \"Topic8\", \"Topic8\", \"Topic8\", \"Topic8\", \"Topic8\", \"Topic8\", \"Topic8\", \"Topic8\", \"Topic8\", \"Topic8\", \"Topic8\", \"Topic8\", \"Topic8\", \"Topic8\", \"Topic8\", \"Topic8\", \"Topic8\", \"Topic8\", \"Topic8\", \"Topic8\", \"Topic8\", \"Topic8\", \"Topic8\", \"Topic8\", \"Topic8\", \"Topic8\", \"Topic8\", \"Topic8\", \"Topic8\", \"Topic8\", \"Topic8\", \"Topic8\", \"Topic8\", \"Topic8\", \"Topic8\", \"Topic8\", \"Topic8\", \"Topic8\", \"Topic8\", \"Topic8\", \"Topic8\", \"Topic8\", \"Topic8\", \"Topic8\", \"Topic8\", \"Topic8\", \"Topic8\", \"Topic8\", \"Topic8\", \"Topic8\", \"Topic8\", \"Topic8\", \"Topic8\", \"Topic8\", \"Topic8\", \"Topic8\", \"Topic8\", \"Topic8\", \"Topic8\", \"Topic8\", \"Topic8\", \"Topic8\", \"Topic8\", \"Topic8\", \"Topic8\", \"Topic8\", \"Topic9\", \"Topic9\", \"Topic9\", \"Topic9\", \"Topic9\", \"Topic9\", \"Topic9\", \"Topic9\", \"Topic9\", \"Topic9\", \"Topic9\", \"Topic9\", \"Topic9\", \"Topic9\", \"Topic9\", \"Topic9\", \"Topic9\", \"Topic9\", \"Topic9\", \"Topic9\", \"Topic9\", \"Topic9\", \"Topic9\", \"Topic9\", \"Topic9\", \"Topic9\", \"Topic9\", \"Topic9\", \"Topic9\", \"Topic9\", \"Topic9\", \"Topic9\", \"Topic9\", \"Topic9\", \"Topic9\", \"Topic9\", \"Topic9\", \"Topic9\", \"Topic9\", \"Topic9\", \"Topic9\", \"Topic9\", \"Topic9\", \"Topic9\", \"Topic9\", \"Topic9\", \"Topic9\", \"Topic9\", \"Topic9\", \"Topic9\", \"Topic9\", \"Topic9\", \"Topic9\", \"Topic9\", \"Topic9\", \"Topic9\", \"Topic9\", \"Topic9\", \"Topic9\", \"Topic9\", \"Topic9\", \"Topic9\", \"Topic9\", \"Topic9\", \"Topic9\", \"Topic9\", \"Topic10\", \"Topic10\", \"Topic10\", \"Topic10\", \"Topic10\", \"Topic10\", \"Topic10\", \"Topic10\", \"Topic10\", \"Topic10\", \"Topic10\", \"Topic10\", \"Topic10\", \"Topic10\", \"Topic10\", \"Topic10\", \"Topic10\", \"Topic10\", \"Topic10\", \"Topic10\", \"Topic10\", \"Topic10\", \"Topic10\", \"Topic10\", \"Topic10\", \"Topic10\", \"Topic10\", \"Topic10\", \"Topic10\", \"Topic10\", \"Topic10\", \"Topic10\", \"Topic10\", \"Topic10\", \"Topic10\", \"Topic10\", \"Topic10\", \"Topic10\", \"Topic10\", \"Topic10\", \"Topic10\", \"Topic10\", \"Topic10\", \"Topic10\", \"Topic10\", \"Topic10\", \"Topic10\", \"Topic10\", \"Topic10\", \"Topic10\", \"Topic10\", \"Topic10\", \"Topic10\", \"Topic10\", \"Topic10\", \"Topic10\", \"Topic10\", \"Topic10\", \"Topic10\", \"Topic10\", \"Topic10\", \"Topic10\"], \"logprob\": [30.0, 29.0, 28.0, 27.0, 26.0, 25.0, 24.0, 23.0, 22.0, 21.0, 20.0, 19.0, 18.0, 17.0, 16.0, 15.0, 14.0, 13.0, 12.0, 11.0, 10.0, 9.0, 8.0, 7.0, 6.0, 5.0, 4.0, 3.0, 2.0, 1.0, -4.6808, -4.8075, -4.712, -4.8936, -5.0684, -4.951, -5.3672, -5.4377, -5.4492, -5.5199, -5.5115, -5.5305, -5.5462, -5.5299, -5.2586, -5.5969, -5.6709, -5.7191, -5.7419, -5.8425, -5.9356, -5.9657, -5.9777, -6.0189, -6.0228, -6.0905, -6.1074, -6.1762, -6.1933, -6.2227, -5.1788, -5.5617, -5.8156, -5.743, -4.2433, -4.9228, -5.0347, -5.2036, -5.5639, -4.4212, -4.8637, -4.2367, -5.0223, -4.5737, -5.3157, -5.0136, -5.0532, -5.1454, -4.4957, -4.9388, -5.1954, -5.2329, -5.3195, -5.1465, -5.232, -5.259, -5.3266, -5.3261, -4.7932, -5.0303, -5.1303, -5.1513, -5.25, -5.2887, -5.3476, -5.4604, -5.5051, -5.5583, -5.5748, -5.7117, -5.7154, -5.751, -5.7557, -5.763, -5.8439, -5.8613, -5.9062, -5.9092, -5.979, -5.984, -6.0155, -6.0471, -6.1, -6.1065, -6.1451, -6.2075, -6.2144, -6.2245, -5.592, -4.4326, -3.6079, -5.116, -4.2859, -5.5546, -4.5174, -5.1032, -4.3225, -4.6883, -5.2579, -5.4496, -5.2121, -4.9924, -4.6321, -4.5281, -5.4943, -5.1619, -4.6685, -5.0035, -4.8912, -4.8591, -5.1011, -5.1367, -5.0272, -4.9893, -5.1232, -5.1865, -5.1311, -5.219, -4.6409, -5.5218, -5.8215, -5.9667, -6.0126, -6.2416, -6.2547, -6.3762, -6.3741, -6.3946, -6.4306, -6.4608, -5.6217, -6.575, -6.6393, -6.677, -6.6816, -6.6843, -6.7016, -6.7152, -6.7239, -6.8068, -6.8203, -6.8211, -6.8347, -6.8544, -6.8631, -6.8663, -6.8742, -6.8801, -4.4831, -5.1899, -4.8742, -6.3343, -5.7655, -5.8341, -5.2465, -4.3953, -3.4117, -5.346, -5.415, -5.5145, -5.7968, -6.0246, -4.3311, -5.6596, -3.6844, -4.8169, -5.0184, -5.4231, -5.0814, -4.8226, -5.2562, -4.0462, -4.5517, -5.0819, -4.5183, -4.7411, -4.5153, -5.239, -5.0783, -5.4509, -5.4657, -5.2037, -5.3451, -5.3538, -5.411, -5.4067, -4.0123, -4.742, -4.8082, -5.3809, -5.699, -5.75, -5.7714, -5.9044, -5.9951, -6.0078, -6.0266, -6.0377, -6.058, -6.0937, -6.1854, -6.2102, -6.2299, -6.2915, -6.292, -6.3038, -6.3567, -6.3939, -6.4247, -6.4883, -6.5034, -6.5253, -6.5735, -6.6075, -6.6231, -6.6231, -5.7295, -4.7518, -6.037, -5.0722, -4.1694, -4.8793, -5.6734, -5.9075, -5.1669, -5.4652, -5.8123, -5.723, -5.7909, -4.5288, -5.5124, -5.6426, -4.5981, -5.5145, -4.1482, -5.2015, -3.8471, -3.8777, -4.977, -5.6288, -4.7747, -4.8879, -5.1933, -5.0848, -4.9897, -4.8114, -5.2475, -4.9405, -5.3083, -5.0373, -5.3787, -5.2604, -5.3754, -5.3678, -4.5154, -4.5421, -4.6159, -5.2873, -5.5469, -5.5562, -5.6379, -5.658, -5.6602, -5.6759, -5.7933, -5.8047, -5.8295, -5.8297, -5.8356, -5.8392, -5.896, -5.9226, -6.0117, -6.0924, -6.118, -6.1652, -6.1717, -6.1799, -6.1839, -6.2238, -6.2263, -6.2402, -6.2962, -6.2979, -5.1266, -4.3477, -4.7735, -5.6397, -4.8983, -4.7716, -5.4432, -5.7685, -5.8498, -5.086, -5.6611, -4.7056, -4.6689, -4.8266, -4.1071, -5.3167, -5.4073, -5.0307, -4.6946, -5.427, -4.5771, -4.936, -4.9195, -4.5838, -5.1527, -5.0139, -5.2446, -4.6296, -4.9091, -5.4438, -5.3525, -5.3355, -5.3707, -5.393, -3.7782, -4.2974, -4.4272, -4.4494, -4.8182, -5.028, -5.0475, -5.1114, -5.1824, -5.2089, -5.2979, -5.3714, -5.3787, -5.4246, -5.4762, -5.5091, -5.5281, -5.5873, -5.6029, -5.6922, -5.8409, -5.8503, -5.9085, -5.9668, -6.0316, -6.0347, -6.1032, -6.1255, -5.9097, -6.1596, -3.6805, -4.902, -4.7864, -5.0431, -4.08, -4.8705, -5.1127, -3.368, -4.4047, -5.136, -4.986, -4.2303, -4.5557, -5.2166, -5.1702, -4.8063, -5.2116, -4.7345, -4.9464, -4.614, -5.0206, -5.0942, -5.1143, -5.1568, -5.1463, -4.639, -4.8965, -5.1772, -5.2783, -5.3079, -5.3363, -5.4075, -5.4299, -5.5225, -5.5441, -5.6748, -5.7037, -5.4724, -4.6381, -5.8156, -5.8352, -5.8456, -6.0505, -6.0908, -6.1007, -6.1375, -6.2259, -6.2316, -6.2574, -6.257, -6.2852, -6.2891, -6.2953, -6.3237, -6.3279, -4.2361, -4.3803, -4.6483, -4.5944, -5.7417, -4.4551, -5.0165, -4.3687, -5.4476, -4.9471, -5.3051, -5.6549, -5.1845, -4.7334, -4.4519, -4.782, -4.8647, -4.1833, -4.5633, -4.6624, -5.167, -5.4201, -5.4737, -5.6217, -5.6913, -5.7893, -5.8738, -5.9019, -6.0447, -6.0732, -6.1161, -6.15, -6.1557, -6.197, -6.2247, -6.2841, -6.339, -6.3401, -6.3452, -6.393, -6.4479, -6.4522, -6.4697, -6.4885, -6.5066, -6.5175, -6.5546, -6.5635, -6.6372, -6.6653, -6.6663, -6.6868, -6.4431, -6.1984, -6.0623, -5.671, -5.7962, -4.9268, -5.2648, -5.9979, -5.5536, -5.5295, -5.3508, -5.8186, -5.1446, -5.4009, -4.9629, -5.1109, -5.2174, -4.9872, -4.6524, -4.7977, -5.0696, -5.4072, -5.0697, -5.1911, -4.5721, -5.3067, -5.0336, -5.2385, -4.7064, -4.7775, -5.1145, -5.3172, -5.0871, -5.255, -5.3438, -5.2002, -5.2346, -5.2323, -5.3586, -5.237, -5.2795, -5.308, -5.4117, -5.236, -5.8167, -5.8439, -5.9428, -6.0238, -6.1326, -6.2343, -6.3207, -6.3664, -6.4062, -6.4942, -6.5186, -6.5578, -6.6431, -6.6608, -6.6625, -6.666, -6.6801, -6.6836, -6.7057, -6.8075, -6.8231, -6.8399, -6.8473, -6.8869, -6.8947, -5.4886, -5.7962, -5.7388, -5.5241, -5.1374, -6.1616, -3.8207, -4.7594, -5.8434, -5.7761, -6.1499, -5.9602, -4.0891, -5.7253, -4.2201, -5.7875, -4.7545, -4.648, -5.7944, -5.2578, -5.1242, -4.8985, -4.9791, -5.4008, -4.7943, -4.4218, -5.4843, -5.4577, -5.4357, -5.2318, -5.4767, -5.2866, -4.974, -5.3647, -5.5287, -5.4223, -4.8312, -5.2849, -5.3688, -5.6268, -5.6326, -5.6995, -5.7001, -5.732, -5.8203, -5.844, -5.8975, -5.9192, -5.9621, -5.9622, -5.9948, -6.104, -6.1055, -6.1736, -6.1883, -6.1892, -6.1938, -6.2736, -6.2875, -6.297, -6.3323, -6.3814, -6.3889, -6.3377, -6.4282, -6.4576, -5.5536, -4.815, -5.1245, -4.8242, -5.1752, -5.0947, -4.9857, -5.7687, -5.6281, -5.1931, -5.4988, -5.9075, -5.2668, -3.9792, -4.4876, -4.7547, -4.4292, -4.7752, -4.952, -5.0236, -4.762, -4.7429, -5.0181, -4.6374, -4.7118, -5.0128, -5.3097, -5.4706, -5.1962, -5.3609, -5.3493, -5.4227], \"loglift\": [30.0, 29.0, 28.0, 27.0, 26.0, 25.0, 24.0, 23.0, 22.0, 21.0, 20.0, 19.0, 18.0, 17.0, 16.0, 15.0, 14.0, 13.0, 12.0, 11.0, 10.0, 9.0, 8.0, 7.0, 6.0, 5.0, 4.0, 3.0, 2.0, 1.0, 2.8616, 2.8612, 2.8609, 2.8609, 2.8603, 2.86, 2.8589, 2.8585, 2.8584, 2.858, 2.8579, 2.8579, 2.8578, 2.8576, 2.8576, 2.8575, 2.8569, 2.8566, 2.8564, 2.8556, 2.8547, 2.8544, 2.8543, 2.8539, 2.8538, 2.8531, 2.8529, 2.8521, 2.8519, 2.8515, 2.7852, 2.8038, 2.8158, 2.7733, 2.4243, 2.5809, 2.5707, 2.6059, 2.7087, 2.2304, 2.3939, 2.0816, 2.4013, 1.8891, 2.5017, 2.047, 2.0548, 2.154, 0.7914, 1.4222, 2.012, 2.0175, 2.1814, 1.4671, 0.7956, 1.0042, 1.5911, 0.6629, 2.8254, 2.8247, 2.8243, 2.8242, 2.8237, 2.8235, 2.8233, 2.8226, 2.8224, 2.822, 2.8219, 2.821, 2.821, 2.8207, 2.8207, 2.8206, 2.82, 2.8198, 2.8194, 2.8194, 2.8187, 2.8187, 2.8184, 2.8181, 2.8175, 2.8174, 2.817, 2.8163, 2.8162, 2.8161, 2.7701, 2.6572, 2.5148, 2.6893, 2.5083, 2.7134, 2.3627, 2.4741, 2.0678, 2.1009, 2.4046, 2.4768, 2.2921, 2.0417, 1.6872, 1.3996, 2.4775, 1.9867, 1.118, 1.6237, 1.372, 1.1293, 1.1314, 1.2293, 0.706, 0.2978, 0.8658, 1.1065, -0.5456, 0.8086, 2.2772, 2.2752, 2.2739, 2.2732, 2.2729, 2.2715, 2.2714, 2.2704, 2.2704, 2.2703, 2.27, 2.2697, 2.2694, 2.2684, 2.268, 2.2675, 2.2675, 2.2675, 2.2673, 2.2671, 2.267, 2.266, 2.2658, 2.2658, 2.2656, 2.2654, 2.2653, 2.2652, 2.2651, 2.265, 2.2208, 2.212, 2.0272, 2.1809, 2.0816, 2.0823, 1.954, 1.7465, 1.5254, 1.8979, 1.8992, 1.9199, 2.0025, 2.0684, 1.4973, 1.931, 0.9011, 1.4155, 1.4391, 1.6229, 1.3818, 1.1658, 1.4751, 0.5677, 0.9246, 1.3084, 0.8058, 0.9922, 0.6831, 1.3759, 1.1641, 1.6087, 1.5751, 0.8238, 1.2111, 0.6352, 1.1008, 0.9544, 1.9331, 1.9325, 1.9325, 1.9315, 1.9307, 1.9306, 1.9305, 1.93, 1.9297, 1.9296, 1.9296, 1.9295, 1.9294, 1.9293, 1.9288, 1.9287, 1.9286, 1.9283, 1.9283, 1.9282, 1.9279, 1.9277, 1.9275, 1.9271, 1.927, 1.9269, 1.9266, 1.9263, 1.9262, 1.9262, 1.8903, 1.8004, 1.8841, 1.7977, 1.6695, 1.7475, 1.8166, 1.8447, 1.6812, 1.7311, 1.8083, 1.7807, 1.7821, 1.3989, 1.69, 1.7309, 1.3493, 1.6722, 1.0501, 1.4932, 0.7668, 0.7078, 1.2502, 1.6529, 0.9586, 0.9122, 1.2045, 0.9056, 0.7631, 0.4864, 1.0142, 0.3836, 1.0913, 0.2498, 0.836, 0.248, 0.3963, 0.1085, 2.5377, 2.5376, 2.5375, 2.5357, 2.5346, 2.5346, 2.5342, 2.5341, 2.534, 2.534, 2.5333, 2.5333, 2.5331, 2.5331, 2.5331, 2.533, 2.5327, 2.5325, 2.5319, 2.5312, 2.531, 2.5306, 2.5306, 2.5305, 2.5305, 2.5301, 2.5301, 2.5299, 2.5294, 2.5294, 2.4729, 2.3876, 2.3908, 2.4589, 2.3282, 2.2909, 2.3382, 2.4218, 2.4419, 2.2138, 2.3675, 1.9862, 1.9685, 2.0029, 1.6457, 2.1993, 2.2316, 1.9272, 1.6535, 2.224, 1.223, 1.5707, 1.4085, 0.7141, 1.5639, 1.3043, 1.7249, -0.0157, 0.2893, 1.8556, 0.9827, 0.5771, 0.548, -0.8075, 2.8373, 2.8366, 2.8363, 2.8363, 2.8354, 2.8347, 2.8346, 2.8343, 2.834, 2.8339, 2.8335, 2.8331, 2.8331, 2.8328, 2.8325, 2.8323, 2.8322, 2.8319, 2.8318, 2.8311, 2.83, 2.8299, 2.8294, 2.8288, 2.8282, 2.8282, 2.8275, 2.8272, 2.8272, 2.8268, 2.7451, 2.7217, 2.7081, 2.6861, 2.5272, 2.5061, 2.5755, 1.9299, 2.2489, 2.5394, 2.4453, 1.7959, 1.951, 2.4887, 2.3684, 1.5816, 2.2319, 0.5526, 1.2864, -0.0001, 0.898, 1.4203, 1.1528, 1.7904, 0.2619, 2.4786, 2.4781, 2.4773, 2.477, 2.4769, 2.4768, 2.4765, 2.4764, 2.476, 2.4759, 2.4753, 2.4752, 2.475, 2.4747, 2.4746, 2.4745, 2.4744, 2.473, 2.4727, 2.4727, 2.4724, 2.4716, 2.4716, 2.4714, 2.4713, 2.4711, 2.4711, 2.471, 2.4707, 2.4707, 2.4464, 2.3672, 2.3456, 2.3397, 2.4147, 2.2351, 2.2825, 2.1462, 2.2023, 2.0147, 2.1376, 2.2607, 1.9939, 1.7241, 1.3765, 1.3598, 1.3985, 0.4306, 0.3738, -0.0769, 0.6869, 1.6054, 1.7854, 1.7851, 1.7849, 1.7847, 1.7844, 1.7843, 1.7838, 1.7837, 1.7836, 1.7834, 1.7834, 1.7832, 1.783, 1.7828, 1.7826, 1.7826, 1.7825, 1.7823, 1.782, 1.782, 1.7819, 1.7818, 1.7817, 1.7816, 1.7814, 1.7813, 1.7809, 1.7807, 1.7807, 1.7805, 1.7777, 1.7498, 1.7325, 1.6922, 1.6999, 1.5839, 1.5804, 1.6726, 1.5683, 1.5578, 1.5074, 1.6243, 1.4541, 1.5177, 1.3722, 1.4064, 1.3962, 1.3058, 1.1602, 1.1927, 1.2234, 1.3534, 1.1464, 1.1968, 0.7151, 1.2242, 0.9939, 1.1313, 0.492, 0.5467, 0.8739, 1.031, 0.6995, 0.9388, 0.9755, 0.5999, 0.5372, 0.276, 0.4083, 1.8642, 1.8641, 1.8641, 1.8639, 1.8629, 1.8628, 1.8627, 1.8624, 1.8621, 1.8616, 1.8612, 1.8607, 1.8605, 1.8603, 1.8597, 1.8596, 1.8593, 1.8587, 1.8586, 1.8586, 1.8586, 1.8585, 1.8584, 1.8583, 1.8574, 1.8573, 1.8572, 1.8571, 1.8567, 1.8567, 1.843, 1.8316, 1.8267, 1.8099, 1.7936, 1.8206, 1.5506, 1.6066, 1.738, 1.7134, 1.7673, 1.7159, 1.3191, 1.6655, 1.2882, 1.6743, 1.3627, 1.1238, 1.5973, 1.3171, 1.1323, 0.9554, 0.9488, 1.256, 0.682, 0.1637, 1.2354, 1.1959, 1.0873, 0.7157, 1.0919, 0.526, -0.3601, 0.5539, 1.0287, 0.5668, 2.367, 2.3659, 2.3656, 2.3647, 2.3646, 2.3644, 2.3643, 2.3642, 2.3638, 2.3636, 2.3633, 2.3632, 2.363, 2.363, 2.3628, 2.3621, 2.362, 2.3616, 2.3614, 2.3614, 2.3614, 2.3608, 2.3607, 2.3606, 2.3603, 2.3599, 2.3598, 2.3595, 2.3594, 2.3591, 2.3333, 2.295, 2.2902, 2.2172, 2.2277, 2.1378, 2.0822, 2.2486, 2.1123, 1.9289, 2.0036, 2.2026, 1.7953, 0.9579, 1.2793, 1.2975, 0.979, 1.1527, 1.2808, 1.2698, 0.7143, 0.5442, 0.8945, -0.0519, -0.0979, 0.3584, 1.0183, 1.478, 0.1279, 0.9062, 0.5693, 1.0918]}, \"token.table\": {\"Topic\": [1, 3, 4, 4, 4, 5, 10, 9, 5, 5, 7, 2, 5, 4, 3, 1, 2, 4, 4, 8, 6, 7, 6, 7, 10, 5, 7, 2, 2, 1, 7, 2, 3, 4, 5, 6, 7, 8, 9, 10, 1, 3, 4, 5, 6, 7, 8, 9, 10, 2, 7, 1, 2, 7, 9, 10, 4, 3, 4, 7, 9, 10, 2, 8, 8, 1, 2, 3, 4, 5, 6, 7, 8, 9, 10, 2, 3, 7, 3, 7, 7, 7, 7, 6, 9, 3, 4, 4, 1, 2, 4, 8, 3, 4, 6, 5, 6, 2, 5, 8, 2, 4, 6, 8, 10, 2, 5, 1, 4, 1, 1, 2, 7, 9, 3, 3, 4, 5, 6, 8, 9, 10, 7, 6, 7, 9, 1, 3, 7, 10, 1, 2, 7, 1, 2, 4, 8, 9, 1, 2, 5, 1, 5, 1, 1, 3, 4, 5, 6, 7, 8, 9, 10, 8, 10, 5, 3, 8, 3, 4, 6, 10, 1, 3, 4, 5, 6, 7, 8, 9, 10, 6, 5, 9, 3, 7, 4, 5, 9, 2, 3, 5, 8, 9, 10, 1, 7, 3, 5, 6, 7, 10, 10, 3, 1, 2, 3, 6, 8, 1, 2, 3, 4, 6, 7, 8, 9, 2, 3, 6, 7, 8, 2, 4, 5, 5, 4, 1, 2, 8, 9, 1, 2, 3, 4, 6, 7, 8, 9, 10, 3, 3, 2, 3, 4, 9, 5, 4, 5, 3, 6, 7, 8, 9, 5, 4, 8, 9, 2, 5, 7, 3, 4, 6, 7, 8, 9, 10, 5, 8, 3, 4, 6, 7, 9, 10, 8, 4, 4, 4, 9, 9, 1, 3, 4, 8, 10, 9, 6, 7, 10, 6, 5, 7, 3, 7, 8, 9, 10, 8, 3, 5, 6, 10, 7, 7, 1, 5, 6, 1, 2, 3, 4, 5, 7, 8, 9, 10, 4, 2, 8, 8, 6, 7, 10, 8, 9, 10, 4, 3, 5, 10, 1, 2, 7, 8, 7, 10, 3, 4, 7, 8, 8, 9, 3, 5, 7, 3, 7, 10, 9, 10, 4, 5, 8, 5, 6, 9, 2, 3, 4, 9, 4, 9, 10, 1, 1, 8, 9, 4, 5, 8, 4, 4, 6, 7, 10, 9, 9, 3, 6, 7, 3, 7, 9, 10, 1, 4, 5, 10, 2, 4, 5, 8, 9, 4, 4, 8, 10, 1, 2, 4, 5, 8, 10, 10, 1, 4, 8, 2, 3, 9, 4, 1, 5, 5, 9, 1, 6, 2, 8, 3, 9, 4, 5, 6, 8, 9, 10, 5, 3, 3, 4, 6, 1, 10, 3, 7, 7, 8, 8, 6, 1, 6, 8, 8, 2, 3, 4, 9, 10, 1, 2, 3, 4, 8, 9, 1, 4, 10, 2, 3, 5, 7, 8, 10, 3, 10, 1, 8, 1, 6, 2, 3, 4, 5, 7, 9, 10, 3, 4, 5, 7, 9, 10, 7, 9, 5, 7, 10, 7, 10, 4, 1, 5, 1, 5, 7, 6, 5, 7, 6, 1, 3, 4, 8, 9, 10, 8, 8, 4, 3, 4, 6, 7, 4, 2, 10, 9, 3, 6, 8, 10, 5, 8, 10, 7, 2, 3, 4, 5, 7, 8, 9, 10, 3, 9, 3, 1, 1, 2, 3, 4, 8, 9, 1, 3, 4, 9, 10, 9, 1, 2, 4, 8, 2, 1, 2, 3, 4, 8, 9, 4, 5, 6, 8, 9, 10, 4, 1, 8, 8, 10, 8, 2, 2, 1, 3, 2, 3, 1, 3, 4, 5, 7, 8, 9, 10, 3, 4, 7, 3, 5, 8, 8, 1, 6, 3, 4, 5, 6, 7, 8, 9, 10, 2, 9, 10, 2, 4, 2, 1, 2, 9, 10, 1, 2, 8, 1, 2, 3, 4, 8, 3, 1, 5, 3, 4, 5, 8, 9, 5, 9, 3, 5, 6, 7, 8, 7, 2, 3, 4, 6, 7, 9, 4, 6, 8, 7, 7, 1, 3, 10, 4, 9, 4, 8, 4, 5, 6, 7, 8, 9, 10, 1, 6, 5, 7, 10, 1, 6, 10, 2, 4, 9, 8, 9, 10, 1, 4, 8, 7, 7, 1, 4, 8, 10, 2, 3, 4, 6, 7, 8, 10, 4, 6, 1, 6, 10, 6, 10, 6, 7, 3, 7, 2, 3, 4, 9, 9, 2, 1, 2, 3, 4, 6, 7, 8, 8, 5, 5, 2, 4, 5, 6, 7, 8, 9, 10, 1, 9, 9, 2, 4, 6, 8, 9, 1, 2, 3, 7, 8, 9, 2, 2, 3, 6, 7, 10, 1, 10, 8, 6, 6, 6, 3, 1, 2, 2, 7, 1, 3, 4, 6, 8, 9, 10, 1, 1, 3, 4, 8, 9, 1, 5, 6, 2, 3, 4, 8, 9, 9, 1, 4, 8, 10, 4, 5, 8, 10, 5, 8, 3, 7, 9, 2, 3, 9, 1, 3, 4, 7, 8, 9, 10, 1, 5, 8, 10, 2, 9, 2, 1, 2, 4, 5, 6, 8, 10, 2, 3, 4, 5, 6, 7, 8, 9, 10, 8, 4, 6, 10, 3, 4, 5, 8, 9, 10, 5, 6, 4, 1, 4, 5, 8, 9, 10, 4, 8, 7, 9, 3, 10, 7, 8, 10, 1, 2, 4, 5, 6, 8, 9, 10, 1, 2, 3, 4, 6, 8, 9, 10, 4, 6, 1, 2, 3, 4, 8, 9, 6, 7, 7, 1, 3, 4, 5, 6, 7, 8, 9, 10, 6, 4, 1, 2, 3, 4, 5, 6, 7, 8, 9, 10, 4, 5, 8, 9, 8, 3, 7, 3, 4, 5, 8, 9, 4, 1, 6, 6, 2, 2, 3, 7, 1, 2, 3, 4, 5, 6, 7, 8, 9, 3, 1, 3, 5, 7, 8, 9, 10, 5, 5, 2, 5, 2, 8, 8, 7, 8, 6, 7, 10, 5, 1, 2, 3, 4, 5, 7, 9, 2, 2, 1, 2, 3, 4, 5, 8, 9, 1, 2, 8, 9, 3, 5, 6, 7, 8, 9, 10, 5, 6, 7, 2, 1, 2, 6, 7, 1, 2, 5, 6, 8, 9, 10, 6, 9, 10, 3, 7, 7, 4, 4, 1, 2, 3, 5, 7, 8, 9, 10, 9, 9, 9, 2, 8, 9, 10, 1, 4, 2, 3, 8, 5, 6, 8, 9, 10, 1, 2, 7, 8, 3, 10, 10, 10, 6, 7, 3, 8, 9, 8, 1, 2, 8, 9, 5, 6, 9, 1, 2, 4, 6, 8, 9, 10, 2, 3, 4, 5, 6, 7, 8, 9, 10, 1, 4, 9, 3, 5, 6, 1, 4, 5, 6, 8, 10, 8, 3, 9, 1, 6, 8, 2, 4, 8, 9, 5, 9, 10, 1, 2, 5, 8, 9, 2, 2, 2, 4, 1, 5, 8, 9, 10, 4, 5, 9, 5, 5, 6, 2, 9, 9, 3, 4, 6, 7, 10, 9, 4, 5, 6, 3, 6, 7, 8, 10, 10, 4, 3, 1, 5, 7, 8, 10, 3, 4, 7, 1, 6, 2, 9, 3, 9, 3, 10, 1, 2, 4, 8, 9, 10, 1, 2, 3, 4, 5, 8, 9, 10, 4, 8, 3, 6, 7, 10, 3, 4, 8, 9, 4, 1, 4, 8, 10, 1, 3, 10, 10, 1, 8, 6, 8, 10, 8, 1, 7, 1, 4, 10, 7, 10, 6, 1, 4, 7, 8, 9, 10, 8, 10, 3, 4, 5, 6, 7, 8, 9, 10, 2, 3, 4, 7, 8, 9, 10, 7, 8, 9, 3, 7, 1, 5, 6, 8, 10, 6, 3, 8, 6, 8, 1, 2, 3, 7, 8, 9, 10, 10, 10, 2, 10, 1, 2, 3, 4, 5, 7, 8, 9, 10, 5, 6, 6, 7, 8, 10, 10, 4, 9, 4, 5, 8, 9, 4, 5, 8, 9, 7, 2, 6, 9, 2, 3, 4, 5, 6, 7, 8, 9, 10, 3, 4, 9, 6], \"Freq\": [0.9893228956912631, 0.9972539946053769, 0.9965083042753885, 0.9965083042753885, 0.8908943212487853, 0.10850635963927513, 0.9953670579308118, 0.9969062539544499, 0.9959061037982107, 0.9968540337602136, 0.9955263546019085, 0.9947680260467573, 0.9956462475983239, 0.9893220069430594, 0.9869446812957393, 0.0029100747874163803, 0.7311562903383655, 0.2655443243517447, 0.1833883628153489, 0.8161318368566112, 0.8910130048077827, 0.10770486871302867, 0.6758554198105152, 0.22079738814526792, 0.10232074084780708, 0.19228097984756123, 0.804084097544347, 0.994660275757787, 0.9886821628465684, 0.7526833431768737, 0.24317461856483613, 0.0008405459698093901, 0.035302930731994385, 0.11515479786388644, 0.0941411486186517, 0.18492011335806582, 0.04791112027913524, 0.1017060623469362, 0.187441751267494, 0.23199068766739167, 0.027615815061245552, 0.04142372259186833, 0.19087401586449132, 0.06660284808888634, 0.21199199208779673, 0.03167696433495813, 0.010558988111652711, 0.08203521532899415, 0.3370753897181442, 0.7023451741162599, 0.29153950623693803, 0.08685172800689138, 0.7261373980904033, 0.03559497049462761, 0.06976614216947012, 0.08115653272775096, 0.9957179673764729, 0.3434382393877942, 0.11672410750434836, 0.09315481656597033, 0.18518728594439884, 0.2603845475097002, 0.9959616251501577, 0.9978691307939977, 0.9934068658450039, 0.0029462484447112156, 0.05434191575800686, 0.22915265681087232, 0.2121298880192075, 0.01538596410015857, 0.02880776257050966, 0.0075293015809286615, 0.28905970852000035, 0.05368719388140437, 0.106392304947905, 0.9825835499864715, 0.6995301416969096, 0.2997986321558184, 0.03183559791805723, 0.9665287527922174, 0.9958183475006793, 0.9952662825404481, 0.9969343962559114, 0.0369534479070417, 0.9607896455830842, 0.13961257483393186, 0.8593929606444249, 0.9969725196274, 0.018432078711102428, 0.06144026237034142, 0.8724517256588482, 0.046080196777756065, 0.4955934568099908, 0.3625849187690741, 0.14211871187933559, 0.8177372733788043, 0.17959650396637292, 0.9861430823609354, 0.005930048732638566, 0.9903181383506406, 0.319699395918469, 0.07704666882245653, 0.14080942922724815, 0.44368254115000827, 0.018597471784730885, 0.8889555707196276, 0.10568003288275293, 0.7702828114417338, 0.22401081761315728, 0.9910733345672993, 0.6436004613839785, 0.1856781058183798, 0.13925857936378483, 0.03010996310568321, 0.9928401922521936, 0.04304703402216099, 0.22113202408644347, 0.14034512462019613, 0.007076224770766191, 0.20049303517170874, 0.15862537194467544, 0.22879793425477352, 0.9915060722240729, 0.9951918103753846, 0.8928501277811985, 0.10600047179137517, 0.9934156258349833, 0.8088789193797511, 0.09393432612151949, 0.08871575244810173, 0.9958789637059828, 0.6548657419671804, 0.3427017613403379, 0.0007871344122007974, 0.03187894369413229, 0.18537015407328777, 0.22039763541622326, 0.5612268358991686, 0.9955109205979735, 0.13961457040674213, 0.8591665871184131, 0.28719856664463606, 0.7121352213739445, 0.99471899920919, 0.012789273782945436, 0.09953391335422752, 0.030583046002695607, 0.06728270120593033, 0.017793772219750172, 0.16626055917829066, 0.10787474408223541, 0.4020280410899804, 0.09619758106302437, 0.11127595143861845, 0.8853695266637903, 0.9971713617673582, 0.9947456077046973, 0.9976781287000162, 0.0034370043727144453, 0.1821612317538656, 0.7423929445063201, 0.07217709182700335, 0.10900571221309097, 0.05417253576650581, 0.0521906137262678, 0.014534094961745462, 0.3527821231623671, 0.09315033589118683, 0.1816761870218183, 0.01717665768206282, 0.12618236989515377, 0.9954093915763134, 0.861723787462022, 0.13606165065189824, 0.9862985295306174, 0.9977162075686515, 0.44140996476461086, 0.025110147696190438, 0.5325994485034077, 0.00034316844504055994, 0.04564140319039447, 0.021619612037555275, 0.06863368900811198, 0.7295761141562304, 0.13383569356581837, 0.9943556465095916, 0.9948405833755155, 0.002136214124217341, 0.379178007048578, 0.4112212189118381, 0.08010802965815028, 0.12603663332882312, 0.9941222101504941, 0.9862068253972212, 0.005690469272374511, 0.06259516199611963, 0.09199591990338793, 0.28452346361872555, 0.553872342511119, 0.003942752337613044, 0.11976110225499623, 0.2759926636329131, 0.37702569228424737, 0.018728073603661962, 0.006899816590822828, 0.12863229501462556, 0.06899816590822827, 0.18255952424062916, 0.3288615819944435, 0.00890534264588435, 0.07823979610312679, 0.4013765149680732, 0.942484516037397, 0.047807185596099845, 0.9979572860610638, 0.9972410899862351, 0.9952481696733322, 0.11568791174084092, 0.430277847176461, 0.13598403660765512, 0.3145899354356201, 0.11075458271460309, 0.14067105045935221, 0.1935022594553985, 0.00700172649345192, 0.06237901785075347, 0.11521022684679977, 0.016549535348159082, 0.27243081265431107, 0.0821111561504816, 0.9904503910898779, 0.9891562049103381, 0.04069262437442765, 0.10708585361691488, 0.7838684484758168, 0.06639322924248722, 0.9935243400727143, 0.9968121932416131, 0.9983706149523831, 0.06031182654867148, 0.010051971091445247, 0.7572484888888752, 0.1373769382497517, 0.03350657030481749, 0.9968758968611948, 0.06809957557056143, 0.8498827031206067, 0.07899550766185126, 0.053021047788613974, 0.7356670380670189, 0.2087703756676675, 0.5183557435605025, 0.11539368142866312, 0.07143418374155336, 0.020148103106591972, 0.003663291473925813, 0.009158228684814532, 0.2600936946487327, 0.9953870588174398, 0.9968314868098088, 0.14105710640976815, 0.4308478964488837, 0.18231870896500646, 0.11131036968389868, 0.022070159506290255, 0.11226994183634609, 0.9940026467998229, 0.998414956318477, 0.9941286083924316, 0.13984201621668998, 0.8590295281882385, 0.9893102653549166, 0.031562092461348806, 0.5124198540783688, 0.08540330901306147, 0.2580665207133814, 0.1132522141260163, 0.9895563242657519, 0.8776752136031202, 0.014341098261488893, 0.1061241271350178, 0.9935125336212836, 0.9896781464221016, 0.9945169267734465, 0.4574767671548983, 0.33172485959573195, 0.12900411206500687, 0.015176954360589044, 0.06667019236973044, 0.9952179940071859, 0.01635392764329866, 0.436104737154631, 0.5451309214432887, 0.9926131501664321, 0.9888095336791983, 0.993354449293926, 0.992160433688335, 0.8415641471444687, 0.15167725907836355, 0.12634063865670514, 0.13295533178009283, 0.23349866725558593, 0.031089057679922205, 0.003968815874032622, 0.005953223811048933, 0.4524450096397189, 0.004630285186371393, 0.009260570372742786, 0.9923984086972957, 0.9941834212308605, 0.9967914900536193, 0.9933154093824406, 0.08069445583861176, 0.14304926262299358, 0.7739331900885037, 0.2680317410887155, 0.1656585066451089, 0.5639834552075056, 0.9960087006193324, 0.9871760101326013, 0.8915298672100683, 0.103532500708266, 0.01085943893466753, 0.45609643525603627, 0.11040429583578655, 0.4217082119629224, 0.9924729309464329, 0.9878459724360672, 0.9073769302052448, 0.08755391431804993, 0.8209354902217333, 0.17692575220295975, 0.9984231956479116, 0.9928399175705986, 0.06808590651762914, 0.2205983371171184, 0.7108168640440482, 0.18792255402538122, 0.11853576484677893, 0.6938678917860229, 0.9973972760412125, 0.995952586714084, 0.2629923179732387, 0.4428451289742922, 0.29353336135077607, 0.727876371664176, 0.2683415195075303, 0.9975959740250664, 0.18348933768522674, 0.42218785662087566, 0.32638368915690774, 0.06819957683875684, 0.06804368068267487, 0.06280955139939218, 0.8688654610249252, 0.9948282735338353, 0.9219794222796337, 0.0733913967983788, 0.9919183972924198, 0.007448393298562885, 0.7802191980244622, 0.21041711068440147, 0.9954320304611503, 0.02479082121747301, 0.7047676317538756, 0.1522864731930485, 0.11332946842273377, 0.9987130247967577, 0.9972930493104966, 0.6831372258144993, 0.08483403457827116, 0.22994488319899814, 0.4321652114885596, 0.469789006371093, 0.048809247415178496, 0.04982610673632804, 0.9956131046421226, 0.8173875997911879, 0.18093215099544524, 0.9909726167964469, 0.038877534358617474, 0.06746395668113032, 0.038877534358617474, 0.27671656808192435, 0.5774457309147595, 0.9987154440721191, 0.9969113107378595, 0.07415440507752155, 0.9242816918591078, 0.9164185933970416, 0.07968857333887318, 0.1175824714216348, 0.41199439598898396, 0.4694183936600149, 0.9911692249265616, 0.9948905879445162, 0.9962276744055347, 0.9590566149436403, 0.03901247247228367, 0.7026788891319694, 0.15717817256899314, 0.13406373542649416, 0.9973791686263579, 0.8555587765633474, 0.137389000616012, 0.9860483194052593, 0.9878151851111583, 0.9959932991106545, 0.9968795293453587, 0.9900326815081039, 0.9935497733007189, 0.04203843975209854, 0.9575422387978001, 0.18015196629799274, 0.5648007592045178, 0.002434486031053956, 0.1448519188477104, 0.013389673170796758, 0.09372771219557731, 0.9908035116343379, 0.9993098355246982, 0.8202550023398535, 0.12242611975221694, 0.05713218921770124, 0.9884647290377391, 0.9940624398341712, 0.989555687662972, 0.99501131066382, 0.08043424785458206, 0.916375895200417, 0.9960082167877661, 0.9945368012956275, 0.24722877212957034, 0.07607039142448317, 0.6763133237582958, 0.994152381531091, 0.23946363219382966, 0.023946363219382965, 0.5860872397943981, 0.06764847609475688, 0.08261495310687124, 0.0012048927338946063, 0.30001829073975694, 0.05422017302525728, 0.036146782016838186, 0.5373821593169944, 0.06988377856588716, 0.6246333242093198, 0.004526328436299419, 0.37115893177655235, 0.9878719137545755, 0.36888920427557736, 0.3767939729386255, 0.07773022518663952, 0.12515883716492804, 0.05138099630981256, 0.9893938794648742, 0.004264628790796871, 0.6305535001822374, 0.3687134873946981, 0.9957296135741011, 0.9986226247804582, 0.006861193450861175, 0.2580571092351675, 0.1612380460952376, 0.024776531905887574, 0.051458950881458805, 0.30608546339119574, 0.19135106179623942, 0.07651508810905581, 0.19544614897421866, 0.017465400546632308, 0.13889151863274263, 0.4798826721622305, 0.09065374569442483, 0.9952884116057219, 0.9930924033549048, 0.9940341490570114, 0.13856350956466854, 0.8587291184863011, 0.029726268824685365, 0.9639804318862254, 0.9952994275356751, 0.07346851026050347, 0.9236041289891864, 0.4908445933231844, 0.5050035719767378, 0.0023598297755922327, 0.9980297408258298, 0.9869156015441356, 0.9945345687740925, 0.9971906484970776, 0.023262425806921484, 0.0016616018433515346, 0.27416430415300325, 0.03489363871038223, 0.2542250820327848, 0.4104156553078291, 0.9913842551145559, 0.9972474494001969, 0.9940360635408599, 0.5873261134204812, 0.06600003042225105, 0.020022481139334587, 0.3262922852336007, 0.9945731044623363, 0.9950849500247548, 0.9953004183571238, 0.9939405851407649, 0.1722408782028291, 0.048676769926886486, 0.02808275188089605, 0.7507455669492877, 0.05297246466393347, 0.1522958359088087, 0.794586969959002, 0.9864418954826232, 0.1256085603257389, 0.3081167249015988, 0.1449329542220064, 0.0021471548773630577, 0.0010735774386815289, 0.34461835781677075, 0.004294309754726115, 0.06978253351429937, 0.9939704847034144, 0.995335819551795, 0.9873485431249438, 0.9901497030543118, 0.0060384846468922344, 0.1785666174152418, 0.04744523651129613, 0.048307877175137875, 0.6176507153106915, 0.10179159833332624, 0.023291086084882628, 0.08281275052402712, 0.0025878984538758474, 0.763430043893375, 0.12939492269379238, 0.9962856815883293, 0.05100463512255124, 0.4831272382441659, 0.22668726721133883, 0.23802163057190578, 0.9970377898784843, 0.013767436421457484, 0.09086508038161939, 0.12666041507740886, 0.05506974568582994, 0.6484462554506475, 0.06470695118085018, 0.3987978644408358, 0.06270406673598047, 0.11119521167847203, 0.26753735140685003, 0.009196596454610469, 0.14965370594320673, 0.9967006027978955, 0.9970100117192314, 0.9970948427690626, 0.9449554249218101, 0.05034598575403087, 0.9976891002192845, 0.9928325749235836, 0.996225200501555, 0.9914861883848317, 0.9805807956871394, 0.05463858557767961, 0.9431660605670885, 0.04345868619027218, 0.3279900844548844, 0.20007395151747948, 0.05001848787936987, 0.06887791773552572, 0.09757705012532811, 0.21073362926226322, 0.001639950422274422, 0.7072802210272869, 0.13577254242934525, 0.15471754834971901, 0.9897587703716741, 0.8095976445040556, 0.18868671389525415, 0.9939373520172643, 0.9566613686140606, 0.03576304181734806, 0.29280878933626275, 0.0021530058039431086, 0.06136066541237859, 0.2422131529435997, 0.09473225537349678, 0.004306011607886217, 0.023683063843374194, 0.27881425161063256, 0.9962911146138032, 0.9978983610979859, 0.9934314014554909, 0.58501606697696, 0.41414503751339243, 0.9868034270159801, 0.6971908389044749, 0.30105968043602327, 0.9667643791062854, 0.02949450648120871, 0.023274788829481852, 0.62841929839601, 0.3491218324422278, 0.11207323764248302, 0.13123105604290747, 0.09770487384216468, 0.4818191327706749, 0.17625192928390493, 0.9894671818240827, 0.9959470401176259, 0.9910189229421213, 0.4479380848988774, 0.30620245206520275, 0.00534851444655376, 0.1510955331151437, 0.08825048836813704, 0.9927975827256089, 0.9940279316725315, 0.0016836947023241673, 0.0033673894046483345, 0.037041283451131675, 0.6280181239669144, 0.33000416165553675, 0.9972991827059882, 0.9926689746621983, 0.0983048649228551, 0.5574679607115944, 0.026255336594302917, 0.0012211784462466473, 0.31628521757788164, 0.1386716700969297, 0.09674767681181141, 0.7643066468133102, 0.9915393060195378, 0.9962644161033518, 0.9895334841669637, 0.7224909137719276, 0.27574357359934515, 0.8298471677734988, 0.1686191632631202, 0.998161229447309, 0.9945243641302592, 0.042711392499143706, 0.13643917048337573, 0.14355773589989967, 0.059914592255743256, 0.18211663190607108, 0.2693190582584895, 0.16550664593418185, 0.9939401049713165, 0.995353871175107, 0.9936333743925381, 0.8745613955042045, 0.12518572659304716, 0.005905256049943266, 0.732251750192965, 0.2610123174074923, 0.11062304879335635, 0.8817307712646932, 0.0032536190821575396, 0.04127414092745495, 0.8598779359886447, 0.0963063288307282, 0.010060459422752905, 0.08048367538202324, 0.9079564629034497, 0.9927394910856422, 0.9951379170079869, 0.42919189671387303, 0.020223701939397157, 0.2696493591919621, 0.28088474915829387, 0.012076359515353184, 0.0853971137157118, 0.06296958890148446, 0.08625971082395131, 0.012938956623592698, 0.5684514943298392, 0.1716568245396631, 0.9535370884647828, 0.04394180131174114, 0.9871521693388015, 0.7693414039785106, 0.22975806634652352, 0.8595721281337741, 0.13782169143073172, 0.7163898153941756, 0.2804372942824175, 0.12938629554238298, 0.8680346409805441, 0.023802900630000463, 0.4058394557415079, 0.32014901347350627, 0.24874031158350485, 0.9911072527179585, 0.9831654899493639, 0.16743237515755133, 0.07332005970951594, 0.010943292493957603, 0.024075243486706727, 0.039395852978247374, 0.11490457118655484, 0.5690512096857954, 0.9968757155634325, 0.9907717016506841, 0.9968164357157375, 0.05681276970546052, 0.011362553941092104, 0.21588852488074997, 0.02840638485273026, 0.026133874064511838, 0.08294664376997236, 0.46131969000833944, 0.11476179480503025, 0.9839877080120072, 0.9906118422495797, 0.9902573302390661, 0.02927842557062976, 0.08900641373471448, 0.10540233205426713, 0.7167358579690165, 0.059727988164084714, 0.017114309283537875, 0.46779112041670196, 0.37936718911842293, 0.0351794135272723, 0.08271916153709974, 0.017114309283537875, 0.9930367284883983, 0.9938663734290109, 0.9877518487348712, 0.3052798042161077, 0.6147415235584635, 0.07736542983558893, 0.9933876331472192, 0.9939151849960087, 0.9962662549401142, 0.9978042402439469, 0.9947575941084763, 0.995317158289302, 0.9897872205844491, 0.12523992857481636, 0.8688520044877885, 0.9922023845175876, 0.9893810459289774, 0.4423465913311028, 0.024161788602119063, 0.12266754213383524, 0.05947517194367769, 0.08177836142255683, 0.20072870530991221, 0.07062676668311726, 0.9899595035833937, 0.37719841853828545, 0.011244397300599295, 0.05826642237583271, 0.45386476376964424, 0.0981329218961393, 0.9961493835311008, 0.9931515742072486, 0.9888709064066147, 0.12300338899271114, 0.07235493470159479, 0.03762456604482929, 0.16279860307858826, 0.6048872541053324, 0.9957889212475891, 0.006476779861112161, 0.12629720729168714, 0.683300275347333, 0.18350876273151123, 0.3101003028979104, 0.40911125860437453, 0.19098559983988, 0.08946167571447011, 0.5417299175961965, 0.4561936148178497, 0.05252281855396805, 0.03939211391547604, 0.9060186200559489, 0.014692415874716619, 0.053872191540627605, 0.9305196720653859, 0.2803098708314422, 0.03383050165207061, 0.16754153199120683, 0.1868732472209615, 0.05155124061267903, 0.05316221688182525, 0.22553667768047075, 0.021736551952424604, 0.01778445159743831, 0.8022763720622171, 0.15808401419945164, 0.7011127131722497, 0.29602536778383876, 0.9969866007133683, 0.12587162199384624, 0.0794978665224292, 0.18549502188566813, 0.003785612691544248, 0.10158060722310398, 0.34228248086045904, 0.16120400711492588, 0.013762064469967897, 0.015800888835889065, 0.09378592083237382, 0.11264504621714463, 0.006626179189243802, 0.009684415738125557, 0.25179480919126446, 0.15953800663333154, 0.336406020376993, 0.9964875979724434, 0.26078079565237283, 0.6264734056476543, 0.11390425557230077, 0.20265747894260847, 0.4133981621735261, 0.10537034161545882, 0.2736742023327533, 0.004618973879033811, 0.0002886858674396132, 0.910242259456271, 0.08911462679991464, 0.9941209397971479, 0.005156196766220546, 0.6432355465860131, 0.019335737873327048, 0.2771455761843543, 0.02578098383110273, 0.027070033022657865, 0.9130188832167557, 0.08165209524702693, 0.9892100664474233, 0.9929013785319466, 0.9852935437960263, 0.9930395923200185, 0.7161362273248909, 0.12061241723366582, 0.1626113839489602, 0.0005269238988815641, 0.04584237920269608, 0.3598890229361083, 0.26820426453071616, 0.004742315089934077, 0.3050889374524256, 0.0026346194944078206, 0.013173097472039102, 0.003451792573963501, 0.05868047375737952, 0.046599199748507264, 0.042284459031052886, 0.04832509603548901, 0.22781830988159105, 0.23903663574697243, 0.3330979833874778, 0.7769781082827717, 0.2224231335122828, 0.0005335414675776002, 0.03041186365192321, 0.13445244982955526, 0.038414985665587216, 0.5340750090451778, 0.2619688605806017, 0.003916192563514224, 0.9947129111326128, 0.9971371408559466, 0.0019132149632771925, 0.04145299087100584, 0.23532544048309467, 0.16102892607583036, 0.40305061893039523, 0.024234056201511107, 0.08641354250801986, 0.015624588866763739, 0.03093030857298128, 0.9991250910246696, 0.9939631378034055, 0.004666319381008316, 0.030894252453572305, 0.1806991953404255, 0.31135613800865836, 0.07771835382851783, 0.05857035360989749, 0.1287260518898846, 0.01480349596733673, 0.1079689760226407, 0.08479828668246148, 0.1439713396815882, 0.05585095073854715, 0.25443210892004814, 0.5436159205218589, 0.9973350891282233, 0.7781966564201851, 0.22188906700371877, 0.9868150330101654, 0.19776461252861, 0.2112485633828334, 0.15731275996593977, 0.43261008990633437, 0.9944223100408551, 0.9939980780491418, 0.9973119318546839, 0.9957295676553678, 0.996929202966544, 0.18673688599398802, 0.7586185993505763, 0.05057457329003842, 0.01292292673015814, 0.013730609650793023, 0.050884023999997675, 0.5048018253968023, 0.01938439009523721, 0.01292292673015814, 0.04684560939682326, 0.2592662175237977, 0.07834524330158373, 0.9870090463302138, 0.0005987463169022268, 0.028141076894404662, 0.011974926338044537, 0.05508466115500487, 0.20836371828197495, 0.3993637933737853, 0.2963794268666023, 0.9927742688792381, 0.9918906570688363, 0.27620003264803344, 0.7223693161563951, 0.9851894844962448, 0.9973773121608708, 0.9968157679997992, 0.7827614800077423, 0.2168634264283745, 0.9950794254673907, 0.9924226381386974, 0.9887444084415298, 0.9916371053140859, 0.15573052210185837, 0.23275852228127217, 0.22773495705217997, 0.018419739173338084, 0.00669808697212294, 0.33909065296372387, 0.019257000044853454, 0.9939021669030098, 0.9975677563507774, 0.1174149278992277, 0.12859730198486843, 0.017572302134578294, 0.0007987410061171952, 0.06549676250161, 0.5263703230312317, 0.14297464009497796, 0.024124391282026817, 0.20227374228776332, 0.0009278612031548776, 0.7710526598217032, 0.006053258966122792, 0.009257925477599564, 0.07619984816178102, 0.030622368887444712, 0.05020644201313609, 0.5786203423499727, 0.2492518397815267, 0.9879409706899043, 0.06115920448858745, 0.9340678503711538, 0.9925073814036495, 0.4442983580895382, 0.3078909674480133, 0.11302326653154919, 0.1325100366231956, 0.018556593371772206, 0.05072135521617736, 0.011133956023063324, 0.06927794858794957, 0.18556593371772206, 0.5121619770609129, 0.15340117187331692, 0.016656061358850498, 0.8244750372630996, 0.15545657268260463, 0.9859912201467044, 0.9974856863272354, 0.9978636974858455, 0.9992636636330849, 0.9967914299963424, 0.2363761999728978, 0.010156789842585452, 0.26592322496951004, 0.15973860388793484, 0.00461672265572066, 0.28716014918582505, 0.002770033593432396, 0.03231705859004462, 0.9924708428060532, 0.9962944783164822, 0.9958600773026067, 0.16289381323826518, 0.0155136964988824, 0.8170546822744731, 0.9926777178661202, 0.9958714355624693, 0.999360161320773, 0.07641759463695276, 0.10938204722544217, 0.8136226252522617, 0.05335703614849738, 0.023714238288221057, 0.2035472119738974, 0.0731189013886816, 0.6442368068300054, 0.5051594950313453, 0.10103189900626906, 0.008659877057680206, 0.38103459053792904, 0.9907806968028914, 0.998174639107286, 0.9957800648387054, 0.9937024260016656, 0.9906225431337969, 0.9953188001758614, 0.03762246977182957, 0.8926786009497744, 0.06840449049423558, 0.9966745041221114, 0.10928685658289063, 0.06526853934811523, 0.7559007580316602, 0.06982215837240235, 0.9903037681750784, 0.9964394485471637, 0.9892163323653562, 0.001085706914460133, 0.04668539732178571, 0.2996551083909967, 0.028228379775963455, 0.11617063984723422, 0.45925402481663624, 0.04885681115070598, 0.0342520227957521, 0.25211991208562734, 0.2935664236877931, 0.03519043437919737, 0.027683141711635263, 0.07757535756480842, 0.008602106181581578, 0.18220824911895525, 0.08883629656615157, 0.20240515447118762, 0.7695612643956613, 0.02740903133463999, 0.9861744637727797, 0.988469798121211, 0.9886091169747693, 0.10915340628983845, 0.051626611083031695, 0.58411822825373, 0.07227725551624438, 0.18143066180608283, 0.9938354585624618, 0.996538694085506, 0.8222204408679579, 0.17494051933360807, 0.9388252929982427, 0.047969175554654735, 0.0068527393649506765, 0.015934052673359903, 0.3575601419901962, 0.551955584605187, 0.07457136651132434, 0.021933582901996398, 0.9772629715222839, 0.9929444422861929, 0.08097463694311592, 0.23007079385425, 0.57453432878687, 0.07069214336303771, 0.0437005977153324, 0.9953169219330826, 0.9881653045495715, 0.9918130880503203, 0.9973491362819277, 0.9969273630841042, 0.21053279336133052, 0.6603891894325495, 0.0566819059049736, 0.07197702337139504, 0.8157510021735443, 0.002541280380602942, 0.17788962664220592, 0.9945549355474328, 0.9933450778716153, 0.9950499358800948, 0.05374594177474821, 0.9454399757648889, 0.9964525464339018, 0.3947898129219597, 0.08434146003332775, 0.0807524617340372, 0.4163238027177029, 0.023328488945388526, 0.9945364451398035, 0.06052908283652093, 0.9366079133651133, 0.9916581413422072, 0.06969503626332313, 0.35013458694193283, 0.20410689191401774, 0.290395984430513, 0.0862890925164953, 0.9906289945046223, 0.9951781490877241, 0.993259058879705, 0.45735559001760684, 0.2910444663748407, 0.07519385909380384, 0.06015508727504307, 0.11588700636809768, 0.685022041089566, 0.06706509493184562, 0.24670374207071782, 0.9907779504968313, 0.9863015584306108, 0.8420367165076823, 0.15501130462982332, 0.0019311155405530888, 0.9964556189253938, 0.9905060582339832, 0.9953865745541955, 0.06639997998256228, 0.008592938585978649, 0.15232936584234877, 0.4280845768287545, 0.25388227640391464, 0.0906164432703203, 0.013973091819838326, 0.002794618363967665, 0.07545469582712695, 0.10433241892145949, 0.026083104730364872, 0.5188674762433299, 0.1909655882044571, 0.06800238018987985, 0.03160454910116761, 0.9616812797926716, 0.19671815106673626, 0.5542750419993575, 0.008660547531239961, 0.23878366764704465, 0.030139998681276346, 0.7558184284689299, 0.14606307053233922, 0.06723538167361647, 0.9954234687810213, 0.5309427349564776, 0.35807765845901973, 0.09631054262001221, 0.013582256010514542, 0.9937634835706619, 0.9846277508662116, 0.9945722771848381, 0.994765635055185, 0.20425345122609267, 0.7941068757949024, 0.9110354354522866, 0.08864128561157383, 0.9899744773627215, 0.9916337950178727, 0.7466893865367963, 0.253169362817197, 0.011179010689755846, 0.8753165370078827, 0.11179010689755846, 0.9940974894374429, 0.9896260406760181, 0.9903917702995132, 0.4261746049387263, 0.340078725153125, 0.03443835191424051, 0.019371572951760285, 0.11622943771056171, 0.06241951284456092, 0.9973056195747434, 0.9885070058824754, 0.027121747628190414, 0.14238917504799967, 0.02034131072114281, 0.05220936418426655, 0.08814567979161884, 0.0718726312147046, 0.2563005150863994, 0.34241206380590394, 0.048064457769654644, 0.4080365670232383, 0.18305399873974854, 0.0010226480376522265, 0.26895643390253554, 0.07772125086156921, 0.01431707252713117, 0.04692800260837715, 0.06882773715895316, 0.8791179155302653, 0.9360675723926668, 0.06275313334475979, 0.07145998217964118, 0.3224631695856308, 0.0661004835161681, 0.2804804300550916, 0.25904243540119926, 0.9913551003280896, 0.9949913662665154, 0.9969357941782431, 0.9971362355258899, 0.9966556056948138, 0.000444617369277342, 0.00889234738554684, 0.4708497940647052, 0.12160285049735303, 0.0927027214943258, 0.06157950564491187, 0.2438726270486221, 0.9946334437298289, 0.9941932210826967, 0.14864338554370654, 0.8493907745354659, 0.07433673427470391, 0.18090338131186684, 0.0015595119078609212, 0.13931639710224228, 0.06445982552491808, 0.009876908749785834, 0.336854572097959, 0.1034476232214411, 0.08889217874807251, 0.9908550117679691, 0.9975822779871819, 0.9976161489113194, 0.017574822677781467, 0.0527244680333444, 0.9295128438471087, 0.9964492795615302, 0.9956959647338448, 0.9977230883521414, 0.2151276822785379, 0.022024976995183642, 0.2863247009373874, 0.47584194484943265, 0.7679602097151128, 0.000547760491950865, 0.05477604919508651, 0.17637887840817856, 0.9933467698823429, 0.9952034525643063, 0.9944822937123283, 0.9974931510646897, 0.01036905395061737, 0.16111914600190066, 0.33340496548908155, 0.0941191050902192, 0.032702400921177856, 0.018345249297246114, 0.08534529020892757, 0.2233334697056049, 0.0406785962678066, 0.9974738719567209, 0.8568104279875477, 0.13894223156554827, 0.9931906680115014], \"Term\": [\"\\u0430\\u0432\\u0438\\u0430\\u0446\\u0438\\u044f\", \"\\u0430\\u0437\\u0435\\u0440\\u0431\\u0430\\u0439\\u0434\\u0436\\u0430\\u043d\", \"\\u0430\\u0437\\u0438\\u0430\\u0442\\u0441\\u043a\\u043e\", \"\\u0430\\u0437\\u0438\\u0430\\u0442\\u0441\\u043a\\u043e_\\u0442\\u0438\\u0445\\u043e\\u043e\\u043a\\u0435\\u0430\\u043d\\u0441\\u043a\\u0438\\u0439\", \"\\u0430\\u0437\\u0438\\u044f\", \"\\u0430\\u0437\\u0438\\u044f\", \"\\u0430\\u043a\\u0430\\u0434\\u0435\\u043c\\u0438\\u044f\", \"\\u0430\\u043c\\u0435\\u0440\\u0438\\u043a\\u0430\\u043d\\u0441\\u043a\\u0438\\u0439\", \"\\u0430\\u0440\\u043a\\u0442\\u0438\\u043a\\u0430\", \"\\u0430\\u0440\\u043a\\u0442\\u0438\\u0447\\u0435\\u0441\\u043a\\u0438\\u0439\", \"\\u0430\\u0440\\u043c\\u0438\\u044f_\\u0444\\u043b\\u043e\\u0442\", \"\\u0430\\u0444\\u0433\\u0430\\u043d\\u0438\\u0441\\u0442\\u0430\\u043d\", \"\\u0430\\u0444\\u0440\\u0438\\u043a\\u0430\\u043d\\u0441\\u043a\\u0438\\u0439\", \"\\u0430\\u044d\\u0441\", \"\\u0431\\u0435\\u0434\\u043d\\u043e\\u0441\\u0442\\u044c\", \"\\u0431\\u0435\\u0437\\u043e\\u043f\\u0430\\u0441\\u043d\\u043e\\u0441\\u0442\\u044c\", \"\\u0431\\u0435\\u0437\\u043e\\u043f\\u0430\\u0441\\u043d\\u043e\\u0441\\u0442\\u044c\", \"\\u0431\\u0435\\u0437\\u043e\\u043f\\u0430\\u0441\\u043d\\u043e\\u0441\\u0442\\u044c\", \"\\u0431\\u0438\\u0437\\u043d\\u0435\\u0441\", \"\\u0431\\u0438\\u0437\\u043d\\u0435\\u0441\", \"\\u0431\\u043b\\u0430\\u0433\\u043e\\u0434\\u0430\\u0440\\u0438\\u0442\\u044c\", \"\\u0431\\u043b\\u0430\\u0433\\u043e\\u0434\\u0430\\u0440\\u0438\\u0442\\u044c\", \"\\u0431\\u043b\\u0430\\u0433\\u043e\\u0434\\u0430\\u0440\\u043d\\u043e\\u0441\\u0442\\u044c\", \"\\u0431\\u043b\\u0430\\u0433\\u043e\\u0434\\u0430\\u0440\\u043d\\u043e\\u0441\\u0442\\u044c\", \"\\u0431\\u043b\\u0430\\u0433\\u043e\\u0434\\u0430\\u0440\\u043d\\u043e\\u0441\\u0442\\u044c\", \"\\u0431\\u043b\\u0430\\u0433\\u043e\\u043f\\u043e\\u043b\\u0443\\u0447\\u0438\\u0435\", \"\\u0431\\u043b\\u0430\\u0433\\u043e\\u043f\\u043e\\u043b\\u0443\\u0447\\u0438\\u0435\", \"\\u0431\\u043b\\u0438\\u0436\\u043d\\u0438\\u0439\", \"\\u0431\\u043b\\u0438\\u0436\\u043d\\u0438\\u0439_\\u0432\\u043e\\u0441\\u0442\\u043e\\u043a\", \"\\u0431\\u043e\\u0435\\u0432\\u043e\\u0439\", \"\\u0431\\u043e\\u0435\\u0432\\u043e\\u0439\", \"\\u0431\\u043e\\u043b\\u044c\\u0448\\u0438\\u0439\", \"\\u0431\\u043e\\u043b\\u044c\\u0448\\u0438\\u0439\", \"\\u0431\\u043e\\u043b\\u044c\\u0448\\u0438\\u0439\", \"\\u0431\\u043e\\u043b\\u044c\\u0448\\u0438\\u0439\", \"\\u0431\\u043e\\u043b\\u044c\\u0448\\u0438\\u0439\", \"\\u0431\\u043e\\u043b\\u044c\\u0448\\u0438\\u0439\", \"\\u0431\\u043e\\u043b\\u044c\\u0448\\u0438\\u0439\", \"\\u0431\\u043e\\u043b\\u044c\\u0448\\u0438\\u0439\", \"\\u0431\\u043e\\u043b\\u044c\\u0448\\u0438\\u0439\", \"\\u0431\\u043e\\u043b\\u044c\\u0448\\u043e\\u0439\", \"\\u0431\\u043e\\u043b\\u044c\\u0448\\u043e\\u0439\", \"\\u0431\\u043e\\u043b\\u044c\\u0448\\u043e\\u0439\", \"\\u0431\\u043e\\u043b\\u044c\\u0448\\u043e\\u0439\", \"\\u0431\\u043e\\u043b\\u044c\\u0448\\u043e\\u0439\", \"\\u0431\\u043e\\u043b\\u044c\\u0448\\u043e\\u0439\", \"\\u0431\\u043e\\u043b\\u044c\\u0448\\u043e\\u0439\", \"\\u0431\\u043e\\u043b\\u044c\\u0448\\u043e\\u0439\", \"\\u0431\\u043e\\u043b\\u044c\\u0448\\u043e\\u0439\", \"\\u0431\\u043e\\u0440\\u043e\\u0442\\u044c\\u0441\\u044f\", \"\\u0431\\u043e\\u0440\\u043e\\u0442\\u044c\\u0441\\u044f\", \"\\u0431\\u043e\\u0440\\u044c\\u0431\\u0430\", \"\\u0431\\u043e\\u0440\\u044c\\u0431\\u0430\", \"\\u0431\\u043e\\u0440\\u044c\\u0431\\u0430\", \"\\u0431\\u043e\\u0440\\u044c\\u0431\\u0430\", \"\\u0431\\u043e\\u0440\\u044c\\u0431\\u0430\", \"\\u0431\\u0440\\u0438\\u043a\\u0441\", \"\\u0431\\u0443\\u0434\\u0443\\u0449\\u0435\\u0435\", \"\\u0431\\u0443\\u0434\\u0443\\u0449\\u0435\\u0435\", \"\\u0431\\u0443\\u0434\\u0443\\u0449\\u0435\\u0435\", \"\\u0431\\u0443\\u0434\\u0443\\u0449\\u0435\\u0435\", \"\\u0431\\u0443\\u0434\\u0443\\u0449\\u0435\\u0435\", \"\\u0431\\u044b\\u0432\\u0448\\u0438\\u0439\", \"\\u0431\\u044e\\u0434\\u0436\\u0435\\u0442\", \"\\u0431\\u044e\\u0434\\u0436\\u0435\\u0442\\u043d\\u044b\\u0439\", \"\\u0432\\u0430\\u0436\\u043d\\u044b\\u0439\", \"\\u0432\\u0430\\u0436\\u043d\\u044b\\u0439\", \"\\u0432\\u0430\\u0436\\u043d\\u044b\\u0439\", \"\\u0432\\u0430\\u0436\\u043d\\u044b\\u0439\", \"\\u0432\\u0430\\u0436\\u043d\\u044b\\u0439\", \"\\u0432\\u0430\\u0436\\u043d\\u044b\\u0439\", \"\\u0432\\u0430\\u0436\\u043d\\u044b\\u0439\", \"\\u0432\\u0430\\u0436\\u043d\\u044b\\u0439\", \"\\u0432\\u0430\\u0436\\u043d\\u044b\\u0439\", \"\\u0432\\u0430\\u0436\\u043d\\u044b\\u0439\", \"\\u0432\\u0432\\u043e\\u0434\\u0438\\u0442\\u044c\", \"\\u0432\\u0435\\u043a\", \"\\u0432\\u0435\\u043a\", \"\\u0432\\u0435\\u043b\\u0438\\u043a\\u0438\\u0439\", \"\\u0432\\u0435\\u043b\\u0438\\u043a\\u0438\\u0439\", \"\\u0432\\u0435\\u043b\\u0438\\u043a\\u0438\\u0439_\\u043e\\u0442\\u0435\\u0447\\u0435\\u0441\\u0442\\u0432\\u0435\\u043d\\u043d\\u044b\\u0439\", \"\\u0432\\u0435\\u0440\\u043d\\u043e\\u0441\\u0442\\u044c\", \"\\u0432\\u0435\\u0442\\u0435\\u0440\\u0430\\u043d\", \"\\u0432\\u0435\\u0449\\u044c\", \"\\u0432\\u0435\\u0449\\u044c\", \"\\u0432\\u0437\\u0430\\u0438\\u043c\\u043d\\u044b\\u0439\", \"\\u0432\\u0437\\u0430\\u0438\\u043c\\u043d\\u044b\\u0439\", \"\\u0432\\u0437\\u0430\\u0438\\u043c\\u043e\\u0432\\u044b\\u0433\\u043e\\u0434\\u043d\\u044b\\u0439\", \"\\u0432\\u0437\\u0430\\u0438\\u043c\\u043e\\u0434\\u0435\\u0439\\u0441\\u0442\\u0432\\u0438\\u0435\", \"\\u0432\\u0437\\u0430\\u0438\\u043c\\u043e\\u0434\\u0435\\u0439\\u0441\\u0442\\u0432\\u0438\\u0435\", \"\\u0432\\u0437\\u0430\\u0438\\u043c\\u043e\\u0434\\u0435\\u0439\\u0441\\u0442\\u0432\\u0438\\u0435\", \"\\u0432\\u0437\\u0430\\u0438\\u043c\\u043e\\u0434\\u0435\\u0439\\u0441\\u0442\\u0432\\u0438\\u0435\", \"\\u0432\\u043a\\u043b\\u0430\\u0434\", \"\\u0432\\u043a\\u043b\\u0430\\u0434\", \"\\u0432\\u043a\\u043b\\u0430\\u0434\", \"\\u0432\\u043b\\u0430\\u0434\\u0438\\u0432\\u043e\\u0441\\u0442\\u043e\\u043a\", \"\\u0432\\u043b\\u0430\\u0434\\u0438\\u0432\\u043e\\u0441\\u0442\\u043e\\u043a\", \"\\u0432\\u043c\\u0435\\u0448\\u0430\\u0442\\u0435\\u043b\\u044c\\u0441\\u0442\\u0432\\u043e\", \"\\u0432\\u043d\\u0435\\u0434\\u0440\\u0435\\u043d\\u0438\\u0435\", \"\\u0432\\u043d\\u0435\\u0434\\u0440\\u0435\\u043d\\u0438\\u0435\", \"\\u0432\\u043d\\u0438\\u043c\\u0430\\u043d\\u0438\\u0435\", \"\\u0432\\u043d\\u0438\\u043c\\u0430\\u043d\\u0438\\u0435\", \"\\u0432\\u043d\\u0438\\u043c\\u0430\\u043d\\u0438\\u0435\", \"\\u0432\\u043d\\u0438\\u043c\\u0430\\u043d\\u0438\\u0435\", \"\\u0432\\u043d\\u0438\\u043c\\u0430\\u043d\\u0438\\u0435\", \"\\u0432\\u043d\\u0438\\u043c\\u0430\\u0442\\u0435\\u043b\\u044c\\u043d\\u043e\", \"\\u0432\\u043d\\u0438\\u043c\\u0430\\u0442\\u0435\\u043b\\u044c\\u043d\\u043e\", \"\\u0432\\u043e\\u0435\\u043d\\u043d\\u043e\", \"\\u0432\\u043e\\u0435\\u043d\\u043d\\u043e\", \"\\u0432\\u043e\\u0435\\u043d\\u043d\\u043e\\u0441\\u043b\\u0443\\u0436\\u0430\\u0449\\u0438\\u0439\", \"\\u0432\\u043e\\u0435\\u043d\\u043d\\u044b\\u0439\", \"\\u0432\\u043e\\u0435\\u043d\\u043d\\u044b\\u0439\", \"\\u0432\\u043e\\u0435\\u043d\\u043d\\u044b\\u0439\", \"\\u0432\\u043e\\u0435\\u043d\\u043d\\u044b\\u0439\", \"\\u0432\\u043e\\u0437\\u0432\\u0440\\u0430\\u0449\\u0430\\u0442\\u044c\\u0441\\u044f\", \"\\u0432\\u043e\\u0437\\u043c\\u043e\\u0436\\u043d\\u043e\\u0441\\u0442\\u044c\", \"\\u0432\\u043e\\u0437\\u043c\\u043e\\u0436\\u043d\\u043e\\u0441\\u0442\\u044c\", \"\\u0432\\u043e\\u0437\\u043c\\u043e\\u0436\\u043d\\u043e\\u0441\\u0442\\u044c\", \"\\u0432\\u043e\\u0437\\u043c\\u043e\\u0436\\u043d\\u043e\\u0441\\u0442\\u044c\", \"\\u0432\\u043e\\u0437\\u043c\\u043e\\u0436\\u043d\\u043e\\u0441\\u0442\\u044c\", \"\\u0432\\u043e\\u0437\\u043c\\u043e\\u0436\\u043d\\u043e\\u0441\\u0442\\u044c\", \"\\u0432\\u043e\\u0437\\u043c\\u043e\\u0436\\u043d\\u043e\\u0441\\u0442\\u044c\", \"\\u0432\\u043e\\u0437\\u0440\\u0430\\u0441\\u0442\", \"\\u0432\\u043e\\u0438\\u043d\", \"\\u0432\\u043e\\u0439\\u043d\\u0430\", \"\\u0432\\u043e\\u0439\\u043d\\u0430\", \"\\u0432\\u043e\\u0439\\u0441\\u043a\\u043e\", \"\\u0432\\u043e\\u043b\\u044f\", \"\\u0432\\u043e\\u043b\\u044f\", \"\\u0432\\u043e\\u043b\\u044f\", \"\\u0432\\u043e\\u043e\\u0440\\u0443\\u0436\\u0435\\u043d\\u0438\\u0435\", \"\\u0432\\u043e\\u043e\\u0440\\u0443\\u0436\\u0451\\u043d\\u043d\\u044b\\u0439\", \"\\u0432\\u043e\\u043e\\u0440\\u0443\\u0436\\u0451\\u043d\\u043d\\u044b\\u0439\", \"\\u0432\\u043e\\u043f\\u0440\\u043e\\u0441\", \"\\u0432\\u043e\\u043f\\u0440\\u043e\\u0441\", \"\\u0432\\u043e\\u043f\\u0440\\u043e\\u0441\", \"\\u0432\\u043e\\u043f\\u0440\\u043e\\u0441\", \"\\u0432\\u043e\\u043f\\u0440\\u043e\\u0441\", \"\\u0432\\u043e\\u0441\\u0435\\u043c\\u044c\", \"\\u0432\\u043e\\u0441\\u0442\\u043e\\u043a\", \"\\u0432\\u043e\\u0441\\u0442\\u043e\\u043a\", \"\\u0432\\u043e\\u0441\\u0442\\u043e\\u0447\\u043d\\u044b\\u0439\", \"\\u0432\\u043e\\u0441\\u0442\\u043e\\u0447\\u043d\\u044b\\u0439\", \"\\u0432\\u043e\\u0441\\u0442\\u043e\\u0447\\u043d\\u044b\\u0439_\\u0430\\u0437\\u0438\\u044f\", \"\\u0432\\u0440\\u0435\\u043c\\u044f\", \"\\u0432\\u0440\\u0435\\u043c\\u044f\", \"\\u0432\\u0440\\u0435\\u043c\\u044f\", \"\\u0432\\u0440\\u0435\\u043c\\u044f\", \"\\u0432\\u0440\\u0435\\u043c\\u044f\", \"\\u0432\\u0440\\u0435\\u043c\\u044f\", \"\\u0432\\u0440\\u0435\\u043c\\u044f\", \"\\u0432\\u0440\\u0435\\u043c\\u044f\", \"\\u0432\\u0440\\u0435\\u043c\\u044f\", \"\\u0432\\u0443\\u0437\", \"\\u0432\\u0443\\u0437\", \"\\u0432\\u044b\\u0431\\u0440\\u043e\\u0441\", \"\\u0432\\u044b\\u043d\\u0443\\u0436\\u0434\\u0435\\u043d\\u043d\\u044b\\u0439\", \"\\u0432\\u044b\\u043f\\u043b\\u0430\\u0442\\u0430\", \"\\u0432\\u044b\\u0440\\u0430\\u0437\\u0438\\u0442\\u044c\", \"\\u0432\\u044b\\u0440\\u0430\\u0437\\u0438\\u0442\\u044c\", \"\\u0432\\u044b\\u0440\\u0430\\u0437\\u0438\\u0442\\u044c\", \"\\u0432\\u044b\\u0440\\u0430\\u0437\\u0438\\u0442\\u044c\", \"\\u0432\\u044b\\u0441\\u043e\\u043a\\u0438\\u0439\", \"\\u0432\\u044b\\u0441\\u043e\\u043a\\u0438\\u0439\", \"\\u0432\\u044b\\u0441\\u043e\\u043a\\u0438\\u0439\", \"\\u0432\\u044b\\u0441\\u043e\\u043a\\u0438\\u0439\", \"\\u0432\\u044b\\u0441\\u043e\\u043a\\u0438\\u0439\", \"\\u0432\\u044b\\u0441\\u043e\\u043a\\u0438\\u0439\", \"\\u0432\\u044b\\u0441\\u043e\\u043a\\u0438\\u0439\", \"\\u0432\\u044b\\u0441\\u043e\\u043a\\u0438\\u0439\", \"\\u0432\\u044b\\u0441\\u043e\\u043a\\u0438\\u0439\", \"\\u0432\\u044b\\u0441\\u043e\\u043a\\u0438\\u0439_\\u043d\\u0430\\u0433\\u0440\\u0430\\u0434\\u0430\", \"\\u0433\\u0430\\u0437\", \"\\u0433\\u0430\\u0437\", \"\\u0433\\u0435\\u043e\\u0433\\u0440\\u0430\\u0444\\u0438\\u0447\\u0435\\u0441\\u043a\\u0438\\u0439\", \"\\u0433\\u0435\\u0440\\u043e\\u0439\", \"\\u0433\\u043b\\u043e\\u0431\\u0430\\u043b\\u044c\\u043d\\u044b\\u0439\", \"\\u0433\\u043b\\u043e\\u0431\\u0430\\u043b\\u044c\\u043d\\u044b\\u0439\", \"\\u0433\\u043b\\u043e\\u0431\\u0430\\u043b\\u044c\\u043d\\u044b\\u0439\", \"\\u0433\\u043e\\u0432\\u043e\\u0440\\u0438\\u0442\\u044c\", \"\\u0433\\u043e\\u0432\\u043e\\u0440\\u0438\\u0442\\u044c\", \"\\u0433\\u043e\\u0432\\u043e\\u0440\\u0438\\u0442\\u044c\", \"\\u0433\\u043e\\u0432\\u043e\\u0440\\u0438\\u0442\\u044c\", \"\\u0433\\u043e\\u0432\\u043e\\u0440\\u0438\\u0442\\u044c\", \"\\u0433\\u043e\\u0432\\u043e\\u0440\\u0438\\u0442\\u044c\", \"\\u0433\\u043e\\u043b\\u043e\\u0441\\u043e\\u0432\\u0430\\u043d\\u0438\\u0435\", \"\\u0433\\u043e\\u0440\\u0434\\u043e\\u0441\\u0442\\u044c\", \"\\u0433\\u043e\\u0440\\u043e\\u0434\", \"\\u0433\\u043e\\u0440\\u043e\\u0434\", \"\\u0433\\u043e\\u0440\\u043e\\u0434\", \"\\u0433\\u043e\\u0440\\u043e\\u0434\", \"\\u0433\\u043e\\u0440\\u043e\\u0434\", \"\\u0433\\u043e\\u0441\\u043f\\u0438\\u0442\\u0430\\u043b\\u044c\", \"\\u0433\\u043e\\u0441\\u0443\\u0434\\u0430\\u0440\\u0441\\u0442\\u0432\\u0435\\u043d\\u043d\\u043e\\u0441\\u0442\\u044c\", \"\\u0433\\u043e\\u0441\\u0443\\u0434\\u0430\\u0440\\u0441\\u0442\\u0432\\u0435\\u043d\\u043d\\u044b\\u0439\", \"\\u0433\\u043e\\u0441\\u0443\\u0434\\u0430\\u0440\\u0441\\u0442\\u0432\\u0435\\u043d\\u043d\\u044b\\u0439\", \"\\u0433\\u043e\\u0441\\u0443\\u0434\\u0430\\u0440\\u0441\\u0442\\u0432\\u0435\\u043d\\u043d\\u044b\\u0439\", \"\\u0433\\u043e\\u0441\\u0443\\u0434\\u0430\\u0440\\u0441\\u0442\\u0432\\u0435\\u043d\\u043d\\u044b\\u0439\", \"\\u0433\\u043e\\u0441\\u0443\\u0434\\u0430\\u0440\\u0441\\u0442\\u0432\\u0435\\u043d\\u043d\\u044b\\u0439\", \"\\u0433\\u043e\\u0441\\u0443\\u0434\\u0430\\u0440\\u0441\\u0442\\u0432\\u043e\", \"\\u0433\\u043e\\u0441\\u0443\\u0434\\u0430\\u0440\\u0441\\u0442\\u0432\\u043e\", \"\\u0433\\u043e\\u0441\\u0443\\u0434\\u0430\\u0440\\u0441\\u0442\\u0432\\u043e\", \"\\u0433\\u043e\\u0441\\u0443\\u0434\\u0430\\u0440\\u0441\\u0442\\u0432\\u043e\", \"\\u0433\\u043e\\u0441\\u0443\\u0434\\u0430\\u0440\\u0441\\u0442\\u0432\\u043e\", \"\\u0433\\u043e\\u0441\\u0443\\u0434\\u0430\\u0440\\u0441\\u0442\\u0432\\u043e\", \"\\u0433\\u043e\\u0441\\u0443\\u0434\\u0430\\u0440\\u0441\\u0442\\u0432\\u043e\", \"\\u0433\\u043e\\u0441\\u0443\\u0434\\u0430\\u0440\\u0441\\u0442\\u0432\\u043e\", \"\\u0433\\u0440\\u0430\\u0436\\u0434\\u0430\\u043d\\u0438\\u043d\", \"\\u0433\\u0440\\u0430\\u0436\\u0434\\u0430\\u043d\\u0438\\u043d\", \"\\u0433\\u0440\\u0430\\u0436\\u0434\\u0430\\u043d\\u0438\\u043d\", \"\\u0433\\u0440\\u0430\\u0436\\u0434\\u0430\\u043d\\u0438\\u043d\", \"\\u0433\\u0440\\u0430\\u0436\\u0434\\u0430\\u043d\\u0438\\u043d\", \"\\u0434\\u0430\\u0432\\u043b\\u0435\\u043d\\u0438\\u0435\", \"\\u0434\\u0430\\u0432\\u043b\\u0435\\u043d\\u0438\\u0435\", \"\\u0434\\u0430\\u043b\\u044c\\u043d\\u0438\\u0439\", \"\\u0434\\u0430\\u043b\\u044c\\u043d\\u0438\\u0439_\\u0432\\u043e\\u0441\\u0442\\u043e\\u043a\", \"\\u0434\\u0432\\u0443\\u0441\\u0442\\u043e\\u0440\\u043e\\u043d\\u043d\\u0438\\u0439\", \"\\u0434\\u0435\\u0439\\u0441\\u0442\\u0432\\u0438\\u0435\", \"\\u0434\\u0435\\u0439\\u0441\\u0442\\u0432\\u0438\\u0435\", \"\\u0434\\u0435\\u0439\\u0441\\u0442\\u0432\\u0438\\u0435\", \"\\u0434\\u0435\\u0439\\u0441\\u0442\\u0432\\u0438\\u0435\", \"\\u0434\\u0435\\u043b\\u043e\", \"\\u0434\\u0435\\u043b\\u043e\", \"\\u0434\\u0435\\u043b\\u043e\", \"\\u0434\\u0435\\u043b\\u043e\", \"\\u0434\\u0435\\u043b\\u043e\", \"\\u0434\\u0435\\u043b\\u043e\", \"\\u0434\\u0435\\u043b\\u043e\", \"\\u0434\\u0435\\u043b\\u043e\", \"\\u0434\\u0435\\u043b\\u043e\", \"\\u0434\\u0435\\u043c\\u043e\\u043a\\u0440\\u0430\\u0442\\u0438\\u0447\\u0435\\u0441\\u043a\\u0438\\u0439\", \"\\u0434\\u0435\\u044f\\u0442\\u0435\\u043b\\u044c\", \"\\u0434\\u0438\\u0430\\u043b\\u043e\\u0433\", \"\\u0434\\u0438\\u0430\\u043b\\u043e\\u0433\", \"\\u0434\\u0438\\u0430\\u043b\\u043e\\u0433\", \"\\u0434\\u0438\\u0430\\u043b\\u043e\\u0433\", \"\\u0434\\u043e\\u0431\\u044b\\u0447\\u0430\", \"\\u0434\\u043e\\u0433\\u043e\\u0432\\u043e\\u0440\\u0451\\u043d\\u043d\\u043e\\u0441\\u0442\\u044c\", \"\\u0434\\u043e\\u043b\\u043b\\u0430\\u0440\", \"\\u0434\\u043e\\u043c\", \"\\u0434\\u043e\\u043c\", \"\\u0434\\u043e\\u043c\", \"\\u0434\\u043e\\u043c\", \"\\u0434\\u043e\\u043c\", \"\\u0434\\u043e\\u043d\\u0431\\u0430\\u0441\\u0441\", \"\\u0434\\u043e\\u043f\\u043e\\u043b\\u043d\\u0438\\u0442\\u0435\\u043b\\u044c\\u043d\\u044b\\u0439\", \"\\u0434\\u043e\\u043f\\u043e\\u043b\\u043d\\u0438\\u0442\\u0435\\u043b\\u044c\\u043d\\u044b\\u0439\", \"\\u0434\\u043e\\u043f\\u043e\\u043b\\u043d\\u0438\\u0442\\u0435\\u043b\\u044c\\u043d\\u044b\\u0439\", \"\\u0434\\u043e\\u0440\\u043e\\u0433\\u0430\", \"\\u0434\\u043e\\u0440\\u043e\\u0433\\u0430\", \"\\u0434\\u043e\\u0440\\u043e\\u0433\\u0430\", \"\\u0434\\u043e\\u0441\\u0442\\u0438\\u0436\\u0435\\u043d\\u0438\\u0435\", \"\\u0434\\u043e\\u0441\\u0442\\u0438\\u0436\\u0435\\u043d\\u0438\\u0435\", \"\\u0434\\u043e\\u0441\\u0442\\u0438\\u0436\\u0435\\u043d\\u0438\\u0435\", \"\\u0434\\u043e\\u0441\\u0442\\u0438\\u0436\\u0435\\u043d\\u0438\\u0435\", \"\\u0434\\u043e\\u0441\\u0442\\u0438\\u0436\\u0435\\u043d\\u0438\\u0435\", \"\\u0434\\u043e\\u0441\\u0442\\u0438\\u0436\\u0435\\u043d\\u0438\\u0435\", \"\\u0434\\u043e\\u0441\\u0442\\u0438\\u0436\\u0435\\u043d\\u0438\\u0435\", \"\\u0434\\u043e\\u0441\\u0442\\u0443\\u043f\\u043d\\u044b\\u0439\", \"\\u0434\\u043e\\u0445\\u043e\\u0434\", \"\\u0434\\u0440\\u0443\\u0433\", \"\\u0434\\u0440\\u0443\\u0433\", \"\\u0434\\u0440\\u0443\\u0433\", \"\\u0434\\u0440\\u0443\\u0433\", \"\\u0434\\u0440\\u0443\\u0433\", \"\\u0434\\u0440\\u0443\\u0433\", \"\\u0434\\u0443\\u043c\\u0430\", \"\\u0435\\u0432\\u0440\\u0430\\u0437\\u0438\\u0439\\u0441\\u043a\\u0438\\u0439\", \"\\u0435\\u0432\\u0440\\u0430\\u0437\\u0438\\u0439\\u0441\\u043a\\u0438\\u0439_\\u044d\\u043a\\u043e\\u043d\\u043e\\u043c\\u0438\\u0447\\u0435\\u0441\\u043a\\u0438\\u0439\", \"\\u0435\\u0432\\u0440\\u043e\\u043f\\u0435\\u0439\\u0441\\u043a\\u0438\\u0439\", \"\\u0435\\u0432\\u0440\\u043e\\u043f\\u0435\\u0439\\u0441\\u043a\\u0438\\u0439\", \"\\u0435\\u0432\\u0440\\u043e\\u0441\\u043e\\u044e\\u0437\", \"\\u0435\\u0434\\u0438\\u043d\\u044b\\u0439\", \"\\u0435\\u0434\\u0438\\u043d\\u044b\\u0439\", \"\\u0435\\u0434\\u0438\\u043d\\u044b\\u0439\", \"\\u0435\\u0434\\u0438\\u043d\\u044b\\u0439\", \"\\u0435\\u0434\\u0438\\u043d\\u044b\\u0439\", \"\\u0435\\u0441\\u0442\\u0435\\u0441\\u0442\\u0432\\u0435\\u043d\\u043d\\u044b\\u0439\", \"\\u0436\\u0435\\u043b\\u0430\\u0442\\u044c\", \"\\u0436\\u0435\\u043b\\u0430\\u0442\\u044c\", \"\\u0436\\u0435\\u043b\\u0430\\u0442\\u044c\", \"\\u0436\\u0435\\u043b\\u0430\\u0442\\u044c_\\u0443\\u0441\\u043f\\u0435\\u0445\", \"\\u0436\\u0435\\u043b\\u0435\\u0437\\u043d\\u044b\\u0439\", \"\\u0436\\u0435\\u043d\\u0449\\u0438\\u043d\\u0430\", \"\\u0436\\u0438\\u0437\\u043d\\u044c\", \"\\u0436\\u0438\\u0437\\u043d\\u044c\", \"\\u0436\\u0438\\u0437\\u043d\\u044c\", \"\\u0436\\u0438\\u0437\\u043d\\u044c\", \"\\u0436\\u0438\\u0437\\u043d\\u044c\", \"\\u0436\\u0438\\u043b\\u044c\\u0451\", \"\\u0436\\u0438\\u0442\\u0435\\u043b\\u044c\", \"\\u0436\\u0438\\u0442\\u0435\\u043b\\u044c\", \"\\u0436\\u0438\\u0442\\u0435\\u043b\\u044c\", \"\\u0437\\u0430\\u0431\\u043e\\u043b\\u0435\\u0432\\u0430\\u043d\\u0438\\u0435\", \"\\u0437\\u0430\\u0431\\u043e\\u0442\\u0430\", \"\\u0437\\u0430\\u0432\\u0435\\u0434\\u0435\\u043d\\u0438\\u0435\", \"\\u0437\\u0430\\u0432\\u0435\\u0440\\u0448\\u0438\\u0442\\u044c\", \"\\u0437\\u0430\\u0432\\u043e\\u0434\", \"\\u0437\\u0430\\u0432\\u043e\\u0434\", \"\\u0437\\u0430\\u0434\\u0430\\u0447\\u0430\", \"\\u0437\\u0430\\u0434\\u0430\\u0447\\u0430\", \"\\u0437\\u0430\\u0434\\u0430\\u0447\\u0430\", \"\\u0437\\u0430\\u0434\\u0430\\u0447\\u0430\", \"\\u0437\\u0430\\u0434\\u0430\\u0447\\u0430\", \"\\u0437\\u0430\\u0434\\u0430\\u0447\\u0430\", \"\\u0437\\u0430\\u0434\\u0430\\u0447\\u0430\", \"\\u0437\\u0430\\u0434\\u0430\\u0447\\u0430\", \"\\u0437\\u0430\\u0434\\u0430\\u0447\\u0430\", \"\\u0437\\u0430\\u0438\\u043d\\u0442\\u0435\\u0440\\u0435\\u0441\\u043e\\u0432\\u0430\\u043d\\u043d\\u044b\\u0439\", \"\\u0437\\u0430\\u043a\\u043e\\u043d\\u043d\\u043e\\u0441\\u0442\\u044c\", \"\\u0437\\u0430\\u043a\\u043e\\u043d\\u043e\\u0434\\u0430\\u0442\\u0435\\u043b\\u044c\\u043d\\u044b\\u0439\", \"\\u0437\\u0430\\u043a\\u043e\\u043d\\u043e\\u0434\\u0430\\u0442\\u0435\\u043b\\u044c\\u0441\\u0442\\u0432\\u043e\", \"\\u0437\\u0430\\u043c\\u0435\\u0447\\u0430\\u0442\\u0435\\u043b\\u044c\\u043d\\u044b\\u0439\", \"\\u0437\\u0430\\u043c\\u0435\\u0447\\u0430\\u0442\\u0435\\u043b\\u044c\\u043d\\u044b\\u0439\", \"\\u0437\\u0430\\u043c\\u0435\\u0447\\u0430\\u0442\\u0435\\u043b\\u044c\\u043d\\u044b\\u0439\", \"\\u0437\\u0430\\u043d\\u0438\\u043c\\u0430\\u0442\\u044c\\u0441\\u044f\", \"\\u0437\\u0430\\u043d\\u0438\\u043c\\u0430\\u0442\\u044c\\u0441\\u044f\", \"\\u0437\\u0430\\u043d\\u0438\\u043c\\u0430\\u0442\\u044c\\u0441\\u044f\", \"\\u0437\\u0430\\u043f\\u0430\\u0434\", \"\\u0437\\u0430\\u043f\\u0440\\u043e\\u0441\", \"\\u0437\\u0430\\u043f\\u0443\\u0441\\u0442\\u0438\\u0442\\u044c\", \"\\u0437\\u0430\\u043f\\u0443\\u0441\\u0442\\u0438\\u0442\\u044c\", \"\\u0437\\u0430\\u0449\\u0438\\u0442\\u0430\", \"\\u0437\\u0430\\u0449\\u0438\\u0442\\u0430\", \"\\u0437\\u0430\\u0449\\u0438\\u0442\\u0430\", \"\\u0437\\u0430\\u0449\\u0438\\u0442\\u0430\", \"\\u0437\\u0430\\u0449\\u0438\\u0442\\u043d\\u0438\\u043a\", \"\\u0437\\u0432\\u0430\\u0442\\u044c\", \"\\u0437\\u0432\\u0435\\u043d\\u043e\", \"\\u0437\\u0432\\u0435\\u043d\\u043e\", \"\\u0437\\u0434\\u043e\\u0440\\u043e\\u0432\\u044c\\u0435\", \"\\u0437\\u0434\\u043e\\u0440\\u043e\\u0432\\u044c\\u0435\", \"\\u0437\\u0434\\u0440\\u0430\\u0432\\u043e\\u043e\\u0445\\u0440\\u0430\\u043d\\u0435\\u043d\\u0438\\u0435\", \"\\u0437\\u0435\\u043b\\u0451\\u043d\\u044b\\u0439\", \"\\u0437\\u0435\\u043c\\u043b\\u044f\", \"\\u0437\\u0435\\u043c\\u043b\\u044f\", \"\\u0437\\u0435\\u043c\\u043b\\u044f\", \"\\u0437\\u043d\\u0430\\u043d\\u0438\\u0435\", \"\\u0437\\u043d\\u0430\\u043d\\u0438\\u0435\", \"\\u0437\\u043d\\u0430\\u043d\\u0438\\u0435\", \"\\u0437\\u0440\\u0435\\u043d\\u0438\\u0435\", \"\\u0438\\u0433\\u0440\\u0430\", \"\\u0438\\u043d\\u0432\\u0435\\u0441\\u0442\\u0438\\u0446\\u0438\\u044f\", \"\\u0438\\u043d\\u0432\\u0435\\u0441\\u0442\\u0438\\u0446\\u0438\\u044f\", \"\\u0438\\u043d\\u0432\\u0435\\u0441\\u0442\\u0438\\u0446\\u0438\\u044f\", \"\\u0438\\u043d\\u0434\\u0438\\u044f\", \"\\u0438\\u043d\\u0434\\u0438\\u044f\", \"\\u0438\\u043d\\u0442\\u0435\\u043b\\u043b\\u0435\\u043a\\u0442\", \"\\u0438\\u043d\\u0442\\u0435\\u0440\\u0435\\u0441\", \"\\u0438\\u043d\\u0442\\u0435\\u0440\\u0435\\u0441\", \"\\u0438\\u043d\\u0442\\u0435\\u0440\\u0435\\u0441\", \"\\u0438\\u043d\\u0442\\u0435\\u0440\\u0435\\u0441\", \"\\u0438\\u043d\\u0442\\u0435\\u0440\\u0435\\u0441\\u043d\\u044b\\u0439\", \"\\u0438\\u043d\\u0442\\u0435\\u0440\\u0435\\u0441\\u043d\\u044b\\u0439\", \"\\u0438\\u043d\\u0442\\u0435\\u0440\\u0435\\u0441\\u043d\\u044b\\u0439\", \"\\u0438\\u043d\\u0442\\u0435\\u0440\\u043d\\u0435\\u0442\", \"\\u0438\\u043d\\u0444\\u0435\\u043a\\u0446\\u0438\\u044f\", \"\\u0438\\u043d\\u0444\\u0435\\u043a\\u0446\\u0438\\u044f\", \"\\u0438\\u043d\\u0444\\u043b\\u044f\\u0446\\u0438\\u044f\", \"\\u0438\\u043d\\u0444\\u0440\\u0430\\u0441\\u0442\\u0440\\u0443\\u043a\\u0442\\u0443\\u0440\\u0430\", \"\\u0438\\u043d\\u0444\\u0440\\u0430\\u0441\\u0442\\u0440\\u0443\\u043a\\u0442\\u0443\\u0440\\u0430\", \"\\u0438\\u043d\\u0444\\u0440\\u0430\\u0441\\u0442\\u0440\\u0443\\u043a\\u0442\\u0443\\u0440\\u0430\", \"\\u0438\\u0440\\u0430\\u043d\", \"\\u0438\\u0441\\u043a\\u0440\\u0435\\u043d\\u043d\\u0435\", \"\\u0438\\u0441\\u043a\\u0440\\u0435\\u043d\\u043d\\u0435\", \"\\u0438\\u0441\\u043a\\u0440\\u0435\\u043d\\u043d\\u0435\", \"\\u0438\\u0441\\u043a\\u0440\\u0435\\u043d\\u043d\\u0435\", \"\\u0438\\u0441\\u043a\\u0443\\u0441\\u0441\\u0442\\u0432\\u0435\\u043d\\u043d\\u044b\\u0439\", \"\\u0438\\u0441\\u043a\\u0443\\u0441\\u0441\\u0442\\u0432\\u0435\\u043d\\u043d\\u044b\\u0439_\\u0438\\u043d\\u0442\\u0435\\u043b\\u043b\\u0435\\u043a\\u0442\", \"\\u0438\\u0441\\u0442\\u043e\\u0440\\u0438\\u0447\\u0435\\u0441\\u043a\\u0438\\u0439\", \"\\u0438\\u0441\\u0442\\u043e\\u0440\\u0438\\u0447\\u0435\\u0441\\u043a\\u0438\\u0439\", \"\\u0438\\u0441\\u0442\\u043e\\u0440\\u0438\\u0447\\u0435\\u0441\\u043a\\u0438\\u0439\", \"\\u0438\\u0441\\u0442\\u043e\\u0440\\u0438\\u044f\", \"\\u0438\\u0441\\u0442\\u043e\\u0440\\u0438\\u044f\", \"\\u0438\\u0441\\u0442\\u043e\\u0440\\u0438\\u044f\", \"\\u0438\\u0441\\u0442\\u043e\\u0440\\u0438\\u044f\", \"\\u0438\\u044e\\u043b\\u044c\", \"\\u043a\\u0430\\u0437\\u0430\\u0445\\u0441\\u0442\\u0430\\u043d\", \"\\u043a\\u0430\\u0437\\u0430\\u0445\\u0441\\u0442\\u0430\\u043d\", \"\\u043a\\u0430\\u043c\\u043f\\u0430\\u043d\\u0438\\u044f\", \"\\u043a\\u0430\\u0441\\u0430\\u0442\\u044c\\u0441\\u044f\", \"\\u043a\\u0430\\u0441\\u0430\\u0442\\u044c\\u0441\\u044f\", \"\\u043a\\u0430\\u0441\\u0430\\u0442\\u044c\\u0441\\u044f\", \"\\u043a\\u0430\\u0441\\u0430\\u0442\\u044c\\u0441\\u044f\", \"\\u043a\\u0430\\u0441\\u0430\\u0442\\u044c\\u0441\\u044f\", \"\\u043a\\u0438\\u0442\\u0430\\u0439\", \"\\u043a\\u0438\\u0442\\u0430\\u0439\\u0441\\u043a\\u0438\\u0439\", \"\\u043a\\u043e\\u043c\\u0430\\u043d\\u0434\\u0430\", \"\\u043a\\u043e\\u043c\\u0430\\u043d\\u0434\\u0430\", \"\\u043a\\u043e\\u043c\\u0438\\u0442\\u0435\\u0442\", \"\\u043a\\u043e\\u043c\\u0438\\u0442\\u0435\\u0442\", \"\\u043a\\u043e\\u043c\\u043f\\u0430\\u043d\\u0438\\u044f\", \"\\u043a\\u043e\\u043c\\u043f\\u0430\\u043d\\u0438\\u044f\", \"\\u043a\\u043e\\u043c\\u043f\\u0430\\u043d\\u0438\\u044f\", \"\\u043a\\u043e\\u043c\\u043f\\u0435\\u0442\\u0435\\u043d\\u0446\\u0438\\u044f\", \"\\u043a\\u043e\\u043d\\u043a\\u0443\\u0440\\u0441\", \"\\u043a\\u043e\\u043d\\u0441\\u0442\\u0438\\u0442\\u0443\\u0446\\u0438\\u044f\", \"\\u043a\\u043e\\u043d\\u0442\\u0430\\u043a\\u0442\", \"\\u043a\\u043e\\u043d\\u0442\\u0430\\u043a\\u0442\", \"\\u043a\\u043e\\u043d\\u0444\\u043b\\u0438\\u043a\\u0442\", \"\\u043a\\u043e\\u043d\\u0444\\u043b\\u0438\\u043a\\u0442\", \"\\u043a\\u043e\\u043d\\u0444\\u043b\\u0438\\u043a\\u0442\", \"\\u043a\\u043e\\u043e\\u043f\\u0435\\u0440\\u0430\\u0446\\u0438\\u044f\", \"\\u043a\\u043e\\u0440\\u0430\\u0431\\u043b\\u044c\", \"\\u043a\\u043e\\u0440\\u0430\\u0431\\u043b\\u044c\", \"\\u043a\\u043e\\u0440\\u0435\\u0439\\u0441\\u043a\\u0438\\u0439\", \"\\u043a\\u043e\\u0440\\u0438\\u0434\\u043e\\u0440\", \"\\u043a\\u043e\\u0440\\u043e\\u043d\\u0430\\u0432\\u0438\\u0440\\u0443\\u0441\\u043d\\u043e\\u0439\", \"\\u043a\\u043e\\u0440\\u043f\\u0443\\u0441\", \"\\u043a\\u043e\\u0440\\u0440\\u0443\\u043f\\u0446\\u0438\\u044f\", \"\\u043a\\u0440\\u0435\\u0434\\u0438\\u0442\", \"\\u043a\\u0440\\u0438\\u0437\\u0438\\u0441\", \"\\u043a\\u0440\\u0438\\u0437\\u0438\\u0441\", \"\\u043a\\u0440\\u0443\\u043f\\u043d\\u044b\\u0439\", \"\\u043a\\u0440\\u0443\\u043f\\u043d\\u044b\\u0439\", \"\\u043a\\u0440\\u0443\\u043f\\u043d\\u044b\\u0439\", \"\\u043a\\u0440\\u0443\\u043f\\u043d\\u044b\\u0439\", \"\\u043a\\u0440\\u0443\\u043f\\u043d\\u044b\\u0439\", \"\\u043a\\u0440\\u0443\\u043f\\u043d\\u044b\\u0439\", \"\\u043a\\u0440\\u044b\\u043c\", \"\\u043a\\u0443\\u043b\\u044c\\u0442\\u0443\\u0440\\u0430\", \"\\u043a\\u0443\\u043b\\u044c\\u0442\\u0443\\u0440\\u043d\\u044b\\u0439\", \"\\u043a\\u0443\\u043b\\u044c\\u0442\\u0443\\u0440\\u043d\\u044b\\u0439\", \"\\u043a\\u0443\\u043b\\u044c\\u0442\\u0443\\u0440\\u043d\\u044b\\u0439\", \"\\u043b\\u0435\\u0442\\u043d\\u0438\\u0439\", \"\\u043b\\u0435\\u0447\\u0435\\u043d\\u0438\\u0435\", \"\\u043b\\u0438\\u0442\\u0435\\u0440\\u0430\\u0442\\u0443\\u0440\\u0430\", \"\\u043b\\u044e\\u0431\\u043e\\u0432\\u044c\", \"\\u043c\\u0430\\u043b\\u044b\\u0439\", \"\\u043c\\u0430\\u043b\\u044b\\u0439\", \"\\u043c\\u0430\\u043b\\u044b\\u0439_\\u0441\\u0440\\u0435\\u0434\\u043d\\u0438\\u0439\", \"\\u043c\\u0430\\u0440\\u0442\", \"\\u043c\\u0435\\u0434\\u0438\\u0446\\u0438\\u043d\\u0441\\u043a\\u0438\\u0439\", \"\\u043c\\u0435\\u0434\\u0438\\u0446\\u0438\\u043d\\u0441\\u043a\\u0438\\u0439\", \"\\u043c\\u0435\\u0434\\u0438\\u0446\\u0438\\u043d\\u0441\\u043a\\u0438\\u0439\", \"\\u043c\\u0435\\u0434\\u0438\\u0446\\u0438\\u043d\\u0441\\u043a\\u0438\\u0439_\\u043f\\u043e\\u043c\\u043e\\u0449\\u044c\", \"\\u043c\\u0435\\u0436\\u0434\\u0443\\u043d\\u0430\\u0440\\u043e\\u0434\\u043d\\u044b\\u0439\", \"\\u043c\\u0435\\u0436\\u0434\\u0443\\u043d\\u0430\\u0440\\u043e\\u0434\\u043d\\u044b\\u0439\", \"\\u043c\\u0435\\u0436\\u0434\\u0443\\u043d\\u0430\\u0440\\u043e\\u0434\\u043d\\u044b\\u0439\", \"\\u043c\\u0435\\u0436\\u0434\\u0443\\u043d\\u0430\\u0440\\u043e\\u0434\\u043d\\u044b\\u0439\", \"\\u043c\\u0435\\u0436\\u0434\\u0443\\u043d\\u0430\\u0440\\u043e\\u0434\\u043d\\u044b\\u0439\", \"\\u043c\\u0435\\u0440\\u0430\", \"\\u043c\\u0435\\u0440\\u0430\", \"\\u043c\\u0435\\u0440\\u0430\", \"\\u043c\\u0435\\u0440\\u0430\", \"\\u043c\\u0435\\u0440\\u0430\", \"\\u043c\\u0435\\u0440\\u0430\", \"\\u043c\\u0435\\u0440\\u043e\\u043f\\u0440\\u0438\\u044f\\u0442\\u0438\\u0435\", \"\\u043c\\u0435\\u0440\\u043e\\u043f\\u0440\\u0438\\u044f\\u0442\\u0438\\u0435\", \"\\u043c\\u0435\\u0440\\u043e\\u043f\\u0440\\u0438\\u044f\\u0442\\u0438\\u0435\", \"\\u043c\\u0435\\u0442\\u0440\", \"\\u043c\\u0438\\u043b\\u043b\\u0438\\u043e\\u043d\", \"\\u043c\\u0438\\u043b\\u043b\\u0438\\u043e\\u043d\", \"\\u043c\\u0438\\u043b\\u043b\\u0438\\u043e\\u043d\", \"\\u043c\\u0438\\u043b\\u043b\\u0438\\u043e\\u043d\", \"\\u043c\\u0438\\u043b\\u043b\\u0438\\u043e\\u043d\", \"\\u043c\\u0438\\u043b\\u043b\\u0438\\u043e\\u043d_\\u0447\\u0435\\u043b\\u043e\\u0432\\u0435\\u043a\", \"\\u043c\\u0438\\u043b\\u043b\\u0438\\u043e\\u043d_\\u0447\\u0435\\u043b\\u043e\\u0432\\u0435\\u043a\", \"\\u043c\\u0438\\u043d\\u0438\\u0441\\u0442\\u0435\\u0440\\u0441\\u0442\\u0432\\u043e\", \"\\u043c\\u0438\\u043d\\u0438\\u0441\\u0442\\u0435\\u0440\\u0441\\u0442\\u0432\\u043e\", \"\\u043c\\u0438\\u043d\\u0438\\u0441\\u0442\\u0435\\u0440\\u0441\\u0442\\u0432\\u043e_\\u043e\\u0431\\u043e\\u0440\\u043e\\u043d\\u0430\", \"\\u043c\\u0438\\u043d\\u0438\\u0441\\u0442\\u0440\", \"\\u043c\\u0438\\u0440\", \"\\u043c\\u0438\\u0440\", \"\\u043c\\u0438\\u0440\", \"\\u043c\\u0438\\u0440\", \"\\u043c\\u0438\\u0440\", \"\\u043c\\u0438\\u0440\", \"\\u043c\\u0438\\u0440\", \"\\u043c\\u0438\\u0440\\u043e\\u0432\\u043e\\u0439\", \"\\u043c\\u0438\\u0440\\u043e\\u0432\\u043e\\u0439\", \"\\u043c\\u0438\\u0440\\u043e\\u0432\\u043e\\u0439\", \"\\u043c\\u0438\\u0440\\u043e\\u0432\\u043e\\u0439\", \"\\u043c\\u0438\\u0440\\u043e\\u0432\\u043e\\u0439\", \"\\u043c\\u0438\\u0440\\u043e\\u0432\\u043e\\u0439\", \"\\u043c\\u0438\\u0440\\u043e\\u0432\\u043e\\u0439_\\u0432\\u043e\\u0439\\u043d\\u0430\", \"\\u043c\\u0438\\u0440\\u043e\\u0432\\u043e\\u0439_\\u044d\\u043a\\u043e\\u043d\\u043e\\u043c\\u0438\\u043a\\u0430\", \"\\u043c\\u043e\\u0434\\u0435\\u0440\\u043d\\u0438\\u0437\\u0430\\u0446\\u0438\\u044f\", \"\\u043c\\u043e\\u043b\\u043e\\u0434\\u043e\\u0439\", \"\\u043c\\u043e\\u043b\\u043e\\u0434\\u043e\\u0439\", \"\\u043c\\u043e\\u043b\\u043e\\u0434\\u043e\\u0439_\\u0447\\u0435\\u043b\\u043e\\u0432\\u0435\\u043a\", \"\\u043c\\u043e\\u043b\\u043e\\u0434\\u043e\\u0439_\\u0447\\u0435\\u043b\\u043e\\u0432\\u0435\\u043a\", \"\\u043c\\u043e\\u043d\\u0433\\u043e\\u043b\\u0438\\u044f\", \"\\u043c\\u043e\\u0440\\u0435\", \"\\u043c\\u043e\\u0440\\u0435\", \"\\u043c\\u043e\\u0440\\u0441\\u043a\\u043e\\u0439\", \"\\u043c\\u043e\\u0440\\u0441\\u043a\\u043e\\u0439\", \"\\u043c\\u043e\\u0440\\u0441\\u043a\\u043e\\u0439\", \"\\u043c\\u043e\\u0441\\u043a\\u0432\\u0430\", \"\\u043c\\u043e\\u0449\\u043d\\u043e\\u0441\\u0442\\u044c\", \"\\u043c\\u0443\\u0436\\u0435\\u0441\\u0442\\u0432\\u043e\", \"\\u043d\\u0430\\u0433\\u0440\\u0430\\u0434\\u0430\", \"\\u043d\\u0430\\u0434\\u0435\\u044f\\u0442\\u044c\\u0441\\u044f\", \"\\u043d\\u0430\\u0434\\u0435\\u044f\\u0442\\u044c\\u0441\\u044f\", \"\\u043d\\u0430\\u0434\\u0435\\u044f\\u0442\\u044c\\u0441\\u044f\", \"\\u043d\\u0430\\u0434\\u0435\\u044f\\u0442\\u044c\\u0441\\u044f\", \"\\u043d\\u0430\\u0434\\u0435\\u044f\\u0442\\u044c\\u0441\\u044f\", \"\\u043d\\u0430\\u0434\\u0435\\u044f\\u0442\\u044c\\u0441\\u044f\", \"\\u043d\\u0430\\u043b\\u043e\\u0433\", \"\\u043d\\u0430\\u043b\\u043e\\u0433\\u043e\\u0432\\u044b\\u0439\", \"\\u043d\\u0430\\u0440\\u0430\\u0449\\u0438\\u0432\\u0430\\u043d\\u0438\\u0435\", \"\\u043d\\u0430\\u0440\\u043e\\u0434\", \"\\u043d\\u0430\\u0440\\u043e\\u0434\", \"\\u043d\\u0430\\u0440\\u043e\\u0434\", \"\\u043d\\u0430\\u0440\\u043e\\u0434\", \"\\u043d\\u0430\\u0440\\u043e\\u0434\\u043d\\u044b\\u0439_\\u0440\\u0435\\u0441\\u043f\\u0443\\u0431\\u043b\\u0438\\u043a\\u0430\", \"\\u043d\\u0430\\u0440\\u0443\\u0448\\u0435\\u043d\\u0438\\u0435\", \"\\u043d\\u0430\\u0441\\u0442\\u0430\\u0432\\u043d\\u0438\\u043a\", \"\\u043d\\u0430\\u0442\\u043e\", \"\\u043d\\u0430\\u0443\\u043a\\u0430\", \"\\u043d\\u0430\\u0443\\u043a\\u0430\", \"\\u043d\\u0430\\u0443\\u043a\\u0430\", \"\\u043d\\u0430\\u0443\\u043a\\u0430\", \"\\u043d\\u0430\\u0443\\u0447\\u043d\\u044b\\u0439\", \"\\u043d\\u0430\\u0443\\u0447\\u043d\\u044b\\u0439\", \"\\u043d\\u0430\\u0443\\u0447\\u043d\\u044b\\u0439\", \"\\u043d\\u0430\\u0446\\u0438\\u0437\\u043c\", \"\\u043d\\u0430\\u0446\\u0438\\u043e\\u043d\\u0430\\u043b\\u044c\\u043d\\u044b\\u0439\", \"\\u043d\\u0430\\u0446\\u0438\\u043e\\u043d\\u0430\\u043b\\u044c\\u043d\\u044b\\u0439\", \"\\u043d\\u0430\\u0446\\u0438\\u043e\\u043d\\u0430\\u043b\\u044c\\u043d\\u044b\\u0439\", \"\\u043d\\u0430\\u0446\\u0438\\u043e\\u043d\\u0430\\u043b\\u044c\\u043d\\u044b\\u0439\", \"\\u043d\\u0430\\u0446\\u0438\\u043e\\u043d\\u0430\\u043b\\u044c\\u043d\\u044b\\u0439\", \"\\u043d\\u0430\\u0446\\u0438\\u043e\\u043d\\u0430\\u043b\\u044c\\u043d\\u044b\\u0439\", \"\\u043d\\u0430\\u0446\\u0438\\u043e\\u043d\\u0430\\u043b\\u044c\\u043d\\u044b\\u0439\", \"\\u043d\\u0430\\u0446\\u0438\\u043e\\u043d\\u0430\\u043b\\u044c\\u043d\\u044b\\u0439\", \"\\u043d\\u0430\\u0446\\u0438\\u044f\", \"\\u043d\\u0435\\u0433\\u0430\\u0442\\u0438\\u0432\\u043d\\u044b\\u0439\", \"\\u043d\\u0435\\u0437\\u0430\\u0432\\u0438\\u0441\\u0438\\u043c\\u043e\\u0441\\u0442\\u044c\", \"\\u043d\\u0435\\u0437\\u0430\\u043a\\u043e\\u043d\\u043d\\u044b\\u0439\", \"\\u043d\\u0435\\u043e\\u0431\\u0445\\u043e\\u0434\\u0438\\u043c\\u044b\\u0439\", \"\\u043d\\u0435\\u043e\\u0431\\u0445\\u043e\\u0434\\u0438\\u043c\\u044b\\u0439\", \"\\u043d\\u0435\\u043e\\u0431\\u0445\\u043e\\u0434\\u0438\\u043c\\u044b\\u0439\", \"\\u043d\\u0435\\u043e\\u0431\\u0445\\u043e\\u0434\\u0438\\u043c\\u044b\\u0439\", \"\\u043d\\u0435\\u043e\\u0431\\u0445\\u043e\\u0434\\u0438\\u043c\\u044b\\u0439\", \"\\u043d\\u0435\\u043e\\u0431\\u0445\\u043e\\u0434\\u0438\\u043c\\u044b\\u0439\", \"\\u043d\\u0435\\u0441\\u043c\\u043e\\u0442\\u0440\\u044f\", \"\\u043d\\u0435\\u0441\\u043c\\u043e\\u0442\\u0440\\u044f\", \"\\u043d\\u0435\\u0441\\u043c\\u043e\\u0442\\u0440\\u044f\", \"\\u043d\\u0435\\u0441\\u043c\\u043e\\u0442\\u0440\\u044f\", \"\\u043d\\u0435\\u0441\\u043c\\u043e\\u0442\\u0440\\u044f\", \"\\u043d\\u043e\\u0440\\u043c\\u0430\\u043b\\u044c\\u043d\\u044b\\u0439\", \"\\u043e\\u0431\\u0435\\u0441\\u043f\\u0435\\u0447\\u0435\\u043d\\u0438\\u0435\", \"\\u043e\\u0431\\u0435\\u0441\\u043f\\u0435\\u0447\\u0435\\u043d\\u0438\\u0435\", \"\\u043e\\u0431\\u0435\\u0441\\u043f\\u0435\\u0447\\u0435\\u043d\\u0438\\u0435\", \"\\u043e\\u0431\\u0435\\u0441\\u043f\\u0435\\u0447\\u0435\\u043d\\u0438\\u0435\", \"\\u043e\\u0431\\u0435\\u0441\\u043f\\u0435\\u0447\\u0435\\u043d\\u0438\\u0435_\\u0431\\u0435\\u0437\\u043e\\u043f\\u0430\\u0441\\u043d\\u043e\\u0441\\u0442\\u044c\", \"\\u043e\\u0431\\u0435\\u0441\\u043f\\u0435\\u0447\\u0438\\u0442\\u044c\", \"\\u043e\\u0431\\u0435\\u0441\\u043f\\u0435\\u0447\\u0438\\u0442\\u044c\", \"\\u043e\\u0431\\u0435\\u0441\\u043f\\u0435\\u0447\\u0438\\u0442\\u044c\", \"\\u043e\\u0431\\u0435\\u0441\\u043f\\u0435\\u0447\\u0438\\u0442\\u044c\", \"\\u043e\\u0431\\u0435\\u0441\\u043f\\u0435\\u0447\\u0438\\u0442\\u044c\", \"\\u043e\\u0431\\u0435\\u0441\\u043f\\u0435\\u0447\\u0438\\u0442\\u044c\", \"\\u043e\\u0431\\u043b\\u0430\\u0441\\u0442\\u044c\", \"\\u043e\\u0431\\u043b\\u0430\\u0441\\u0442\\u044c\", \"\\u043e\\u0431\\u043b\\u0430\\u0441\\u0442\\u044c\", \"\\u043e\\u0431\\u043b\\u0430\\u0441\\u0442\\u044c\", \"\\u043e\\u0431\\u043b\\u0430\\u0441\\u0442\\u044c\", \"\\u043e\\u0431\\u043b\\u0430\\u0441\\u0442\\u044c\", \"\\u043e\\u0431\\u043c\\u0435\\u043d\", \"\\u043e\\u0431\\u043e\\u0440\\u043e\\u043d\\u0430\", \"\\u043e\\u0431\\u043e\\u0440\\u0443\\u0434\\u043e\\u0432\\u0430\\u043d\\u0438\\u0435\", \"\\u043e\\u0431\\u0440\\u0430\\u0442\\u0438\\u0442\\u044c\", \"\\u043e\\u0431\\u0440\\u0430\\u0442\\u0438\\u0442\\u044c\", \"\\u043e\\u0431\\u0440\\u0430\\u0442\\u0438\\u0442\\u044c_\\u0432\\u043d\\u0438\\u043c\\u0430\\u043d\\u0438\\u0435\", \"\\u043e\\u0431\\u0440\\u0430\\u0449\\u0430\\u0442\\u044c\", \"\\u043e\\u0431\\u0440\\u0430\\u0449\\u0430\\u0442\\u044c_\\u0432\\u043d\\u0438\\u043c\\u0430\\u043d\\u0438\\u0435\", \"\\u043e\\u0431\\u0443\\u0447\\u0435\\u043d\\u0438\\u0435\", \"\\u043e\\u0431\\u0449\\u0435\\u043d\\u0430\\u0446\\u0438\\u043e\\u043d\\u0430\\u043b\\u044c\\u043d\\u044b\\u0439\", \"\\u043e\\u0431\\u0449\\u0435\\u0441\\u0442\\u0432\\u043e\", \"\\u043e\\u0431\\u0449\\u0435\\u0441\\u0442\\u0432\\u043e\", \"\\u043e\\u0431\\u0449\\u0438\\u0439\", \"\\u043e\\u0431\\u0449\\u0438\\u0439\", \"\\u043e\\u0431\\u0449\\u0438\\u0439\", \"\\u043e\\u0431\\u0449\\u0438\\u0439\", \"\\u043e\\u0431\\u0449\\u0438\\u0439\", \"\\u043e\\u0431\\u0449\\u0438\\u0439\", \"\\u043e\\u0431\\u0449\\u0438\\u0439\", \"\\u043e\\u0431\\u0449\\u0438\\u0439\", \"\\u043e\\u0431\\u044a\\u0435\\u0434\\u0438\\u043d\\u044f\\u0442\\u044c\", \"\\u043e\\u0431\\u044a\\u0435\\u0434\\u0438\\u043d\\u044f\\u0442\\u044c\", \"\\u043e\\u0431\\u044a\\u0435\\u0434\\u0438\\u043d\\u044f\\u0442\\u044c\", \"\\u043e\\u0431\\u044a\\u0435\\u0434\\u0438\\u043d\\u0451\\u043d\\u043d\\u044b\\u0445\", \"\\u043e\\u0431\\u044a\\u0451\\u043c\", \"\\u043e\\u0431\\u044a\\u0451\\u043c\", \"\\u043e\\u0431\\u044a\\u0451\\u043c\\u0435\", \"\\u043e\\u0431\\u044f\\u0437\\u0430\\u043d\\u043d\\u043e\\u0441\\u0442\\u044c\", \"\\u043e\\u0431\\u044f\\u0437\\u0430\\u043d\\u043d\\u043e\\u0441\\u0442\\u044c\", \"\\u043e\\u0433\\u0440\\u043e\\u043c\\u043d\\u044b\\u0439\", \"\\u043e\\u0433\\u0440\\u043e\\u043c\\u043d\\u044b\\u0439\", \"\\u043e\\u0433\\u0440\\u043e\\u043c\\u043d\\u044b\\u0439\", \"\\u043e\\u0433\\u0440\\u043e\\u043c\\u043d\\u044b\\u0439\", \"\\u043e\\u0433\\u0440\\u043e\\u043c\\u043d\\u044b\\u0439\", \"\\u043e\\u0433\\u0440\\u043e\\u043c\\u043d\\u044b\\u0439\", \"\\u043e\\u0433\\u0440\\u043e\\u043c\\u043d\\u044b\\u0439\", \"\\u043e\\u0433\\u0440\\u043e\\u043c\\u043d\\u044b\\u0439\", \"\\u043e\\u043a\\u0430\\u0437\\u0430\\u043d\\u0438\\u0435\", \"\\u043e\\u043a\\u0430\\u0437\\u0430\\u0442\\u044c\\u0441\\u044f\", \"\\u043e\\u043b\\u0438\\u043c\\u043f\\u0438\\u0439\\u0441\\u043a\\u0438\\u0439\", \"\\u043e\\u043e\\u043d\", \"\\u043e\\u043e\\u043d\", \"\\u043e\\u043f\\u0430\\u0441\\u043d\\u043e\\u0441\\u0442\\u044c\", \"\\u043e\\u043f\\u0435\\u0440\\u0430\\u0446\\u0438\\u044f\", \"\\u043e\\u043f\\u0435\\u0440\\u0430\\u0446\\u0438\\u044f\", \"\\u043e\\u043f\\u0440\\u0435\\u0434\\u0435\\u043b\\u0451\\u043d\\u043d\\u044b\\u0439\", \"\\u043e\\u043f\\u0440\\u0435\\u0434\\u0435\\u043b\\u0451\\u043d\\u043d\\u044b\\u0439\", \"\\u043e\\u0440\\u0433\\u0430\\u043d\", \"\\u043e\\u0440\\u0433\\u0430\\u043d\", \"\\u043e\\u0440\\u0433\\u0430\\u043d\", \"\\u043e\\u0440\\u0433\\u0430\\u043d\\u0438\\u0437\\u0430\\u0446\\u0438\\u044f\", \"\\u043e\\u0440\\u0433\\u0430\\u043d\\u0438\\u0437\\u0430\\u0446\\u0438\\u044f\", \"\\u043e\\u0440\\u0433\\u0430\\u043d\\u0438\\u0437\\u0430\\u0446\\u0438\\u044f\", \"\\u043e\\u0440\\u0433\\u0430\\u043d\\u0438\\u0437\\u0430\\u0446\\u0438\\u044f\", \"\\u043e\\u0440\\u0433\\u0430\\u043d\\u0438\\u0437\\u0430\\u0446\\u0438\\u044f\", \"\\u043e\\u0440\\u0433\\u0430\\u043d\\u0438\\u0437\\u0430\\u0446\\u0438\\u044f_\\u043e\\u0431\\u044a\\u0435\\u0434\\u0438\\u043d\\u0451\\u043d\\u043d\\u044b\\u0445\", \"\\u043e\\u0440\\u0443\\u0436\\u0438\\u0435\", \"\\u043e\\u0441\\u0432\\u043e\\u0435\\u043d\\u0438\\u0435\", \"\\u043e\\u0441\\u043d\\u043e\\u0432\\u0430\", \"\\u043e\\u0441\\u043d\\u043e\\u0432\\u0430\", \"\\u043e\\u0441\\u043d\\u043e\\u0432\\u0430\", \"\\u043e\\u0441\\u043d\\u043e\\u0432\\u0430\", \"\\u043e\\u0441\\u043d\\u043e\\u0432\\u0430\", \"\\u043e\\u0441\\u0443\\u0449\\u0435\\u0441\\u0442\\u0432\\u043b\\u044f\\u0442\\u044c\\u0441\\u044f\", \"\\u043e\\u0442\\u0432\\u0435\\u0442\\u0438\\u0442\\u044c\", \"\\u043e\\u0442\\u0435\\u0447\\u0435\\u0441\\u0442\\u0432\\u0435\\u043d\\u043d\\u044b\\u0439\", \"\\u043e\\u0442\\u0435\\u0447\\u0435\\u0441\\u0442\\u0432\\u0435\\u043d\\u043d\\u044b\\u0439\", \"\\u043e\\u0442\\u0435\\u0447\\u0435\\u0441\\u0442\\u0432\\u0435\\u043d\\u043d\\u044b\\u0439\", \"\\u043e\\u0442\\u0435\\u0447\\u0435\\u0441\\u0442\\u0432\\u0435\\u043d\\u043d\\u044b\\u0439\", \"\\u043e\\u0442\\u0435\\u0447\\u0435\\u0441\\u0442\\u0432\\u0435\\u043d\\u043d\\u044b\\u0439\", \"\\u043e\\u0442\\u0435\\u0447\\u0435\\u0441\\u0442\\u0432\\u043e\", \"\\u043e\\u0442\\u043a\\u0430\\u0437\\u0430\\u0442\\u044c\\u0441\\u044f\", \"\\u043e\\u0442\\u043d\\u043e\\u0448\\u0435\\u043d\\u0438\\u0435\", \"\\u043e\\u0442\\u043d\\u043e\\u0448\\u0435\\u043d\\u0438\\u0435\", \"\\u043e\\u0442\\u043d\\u043e\\u0448\\u0435\\u043d\\u0438\\u0435\", \"\\u043e\\u0442\\u043d\\u043e\\u0448\\u0435\\u043d\\u0438\\u0435\", \"\\u043e\\u0442\\u043d\\u043e\\u0448\\u0435\\u043d\\u0438\\u0435\", \"\\u043e\\u0442\\u0440\\u0430\\u0441\\u043b\\u044c\", \"\\u043e\\u0442\\u0440\\u0430\\u0441\\u043b\\u044c\", \"\\u043e\\u0442\\u0440\\u0430\\u0441\\u043b\\u044c\", \"\\u043e\\u0444\\u0438\\u0446\\u0435\\u0440\", \"\\u043f\\u0430\\u043c\\u044f\\u0442\\u044c\", \"\\u043f\\u0430\\u0440\\u0430\\u043b\\u0438\\u043c\\u043f\\u0438\\u0439\\u0441\\u043a\\u0438\\u0439\", \"\\u043f\\u0430\\u0440\\u0442\\u0438\\u044f\", \"\\u043f\\u0430\\u0440\\u0442\\u0438\\u044f\", \"\\u043f\\u0430\\u0440\\u0442\\u043d\\u0451\\u0440\", \"\\u043f\\u0430\\u0440\\u0442\\u043d\\u0451\\u0440\", \"\\u043f\\u0430\\u0440\\u0442\\u043d\\u0451\\u0440\\u0441\\u0442\\u0432\\u043e\", \"\\u043f\\u0430\\u0446\\u0438\\u0435\\u043d\\u0442\", \"\\u043f\\u0435\\u0440\\u0432\\u044b\\u0439\", \"\\u043f\\u0435\\u0440\\u0432\\u044b\\u0439\", \"\\u043f\\u0435\\u0440\\u0432\\u044b\\u0439\", \"\\u043f\\u0435\\u0440\\u0432\\u044b\\u0439\", \"\\u043f\\u0435\\u0440\\u0432\\u044b\\u0439\", \"\\u043f\\u0435\\u0440\\u0432\\u044b\\u0439\", \"\\u043f\\u0435\\u0440\\u0432\\u044b\\u0439\", \"\\u043f\\u0435\\u0440\\u0441\\u043e\\u043d\\u0430\\u043b\", \"\\u043f\\u0435\\u0442\\u0435\\u0440\\u0431\\u0443\\u0440\\u0433\", \"\\u043f\\u043b\\u0430\\u0442\\u0444\\u043e\\u0440\\u043c\\u0430\", \"\\u043f\\u043e\\u0431\\u0435\\u0434\\u0430\", \"\\u043f\\u043e\\u0431\\u0435\\u0434\\u0430\", \"\\u043f\\u043e\\u0431\\u043b\\u0430\\u0433\\u043e\\u0434\\u0430\\u0440\\u0438\\u0442\\u044c\", \"\\u043f\\u043e\\u0431\\u043b\\u0430\\u0433\\u043e\\u0434\\u0430\\u0440\\u0438\\u0442\\u044c\", \"\\u043f\\u043e\\u0431\\u043b\\u0430\\u0433\\u043e\\u0434\\u0430\\u0440\\u0438\\u0442\\u044c\", \"\\u043f\\u043e\\u0432\\u0435\\u0441\\u0442\\u043a\\u0430\", \"\\u043f\\u043e\\u0432\\u0435\\u0441\\u0442\\u043a\\u0430\", \"\\u043f\\u043e\\u0432\\u0435\\u0441\\u0442\\u043a\\u0430\", \"\\u043f\\u043e\\u0432\\u043e\\u0434\", \"\\u043f\\u043e\\u0432\\u043e\\u0434\", \"\\u043f\\u043e\\u0432\\u043e\\u0434\", \"\\u043f\\u043e\\u0432\\u044b\\u0448\\u0435\\u043d\\u0438\\u0435\", \"\\u043f\\u043e\\u0432\\u044b\\u0448\\u0435\\u043d\\u0438\\u0435\", \"\\u043f\\u043e\\u0432\\u044b\\u0448\\u0435\\u043d\\u0438\\u0435\", \"\\u043f\\u043e\\u0433\\u0438\\u0431\\u043d\\u0443\\u0442\\u044c\", \"\\u043f\\u043e\\u0434\\u0432\\u0438\\u0433\", \"\\u043f\\u043e\\u0434\\u0433\\u043e\\u0442\\u043e\\u0432\\u043a\\u0430\", \"\\u043f\\u043e\\u0434\\u0433\\u043e\\u0442\\u043e\\u0432\\u043a\\u0430\", \"\\u043f\\u043e\\u0434\\u0433\\u043e\\u0442\\u043e\\u0432\\u043a\\u0430\", \"\\u043f\\u043e\\u0434\\u0433\\u043e\\u0442\\u043e\\u0432\\u043a\\u0430\", \"\\u043f\\u043e\\u0434\\u0434\\u0435\\u0440\\u0436\\u043a\\u0430\", \"\\u043f\\u043e\\u0434\\u0434\\u0435\\u0440\\u0436\\u043a\\u0430\", \"\\u043f\\u043e\\u0434\\u0434\\u0435\\u0440\\u0436\\u043a\\u0430\", \"\\u043f\\u043e\\u0434\\u0434\\u0435\\u0440\\u0436\\u043a\\u0430\", \"\\u043f\\u043e\\u0434\\u0434\\u0435\\u0440\\u0436\\u043a\\u0430\", \"\\u043f\\u043e\\u0434\\u0434\\u0435\\u0440\\u0436\\u043a\\u0430\", \"\\u043f\\u043e\\u0434\\u0434\\u0435\\u0440\\u0436\\u043a\\u0430\", \"\\u043f\\u043e\\u0434\\u043f\\u0438\\u0441\\u0430\\u0442\\u044c\", \"\\u043f\\u043e\\u0434\\u043f\\u0438\\u0441\\u0430\\u0442\\u044c\", \"\\u043f\\u043e\\u0436\\u0435\\u043b\\u0430\\u043d\\u0438\\u0435\", \"\\u043f\\u043e\\u0436\\u0435\\u043b\\u0430\\u0442\\u044c\", \"\\u043f\\u043e\\u0436\\u0435\\u043b\\u0430\\u0442\\u044c\", \"\\u043f\\u043e\\u0437\\u0434\\u0440\\u0430\\u0432\\u0438\\u0442\\u044c\", \"\\u043f\\u043e\\u0437\\u0434\\u0440\\u0430\\u0432\\u0438\\u0442\\u044c\", \"\\u043f\\u043e\\u0437\\u0434\\u0440\\u0430\\u0432\\u043b\\u044f\\u0442\\u044c\", \"\\u043f\\u043e\\u0437\\u0434\\u0440\\u0430\\u0432\\u043b\\u044f\\u0442\\u044c\", \"\\u043f\\u043e\\u043a\\u043e\\u043b\\u0435\\u043d\\u0438\\u0435\", \"\\u043f\\u043e\\u043a\\u043e\\u043b\\u0435\\u043d\\u0438\\u0435\", \"\\u043f\\u043e\\u043b\\u0438\\u0442\\u0438\\u0447\\u0435\\u0441\\u043a\\u0438\\u0439\", \"\\u043f\\u043e\\u043b\\u0438\\u0442\\u0438\\u0447\\u0435\\u0441\\u043a\\u0438\\u0439\", \"\\u043f\\u043e\\u043b\\u0438\\u0442\\u0438\\u0447\\u0435\\u0441\\u043a\\u0438\\u0439\", \"\\u043f\\u043e\\u043b\\u0438\\u0442\\u0438\\u0447\\u0435\\u0441\\u043a\\u0438\\u0439\", \"\\u043f\\u043e\\u043b\\u043e\\u0436\\u0438\\u0442\\u0435\\u043b\\u044c\\u043d\\u044b\\u0439\", \"\\u043f\\u043e\\u043b\\u0443\\u0447\\u0435\\u043d\\u0438\\u0435\", \"\\u043f\\u043e\\u043c\\u043e\\u0449\\u044c\", \"\\u043f\\u043e\\u043c\\u043e\\u0449\\u044c\", \"\\u043f\\u043e\\u043c\\u043e\\u0449\\u044c\", \"\\u043f\\u043e\\u043c\\u043e\\u0449\\u044c\", \"\\u043f\\u043e\\u043c\\u043e\\u0449\\u044c\", \"\\u043f\\u043e\\u043c\\u043e\\u0449\\u044c\", \"\\u043f\\u043e\\u043c\\u043e\\u0449\\u044c\", \"\\u043f\\u043e\\u043f\\u0440\\u0430\\u0432\\u043a\\u0430\", \"\\u043f\\u043e\\u0440\\u0442\", \"\\u043f\\u043e\\u0440\\u044f\\u0434\\u043a\\u0430\", \"\\u043f\\u043e\\u0441\\u043b\\u0435\\u0434\\u043d\\u0438\\u0439\", \"\\u043f\\u043e\\u0441\\u043b\\u0435\\u0434\\u043d\\u0438\\u0439\", \"\\u043f\\u043e\\u0441\\u043b\\u0435\\u0434\\u043d\\u0438\\u0439\", \"\\u043f\\u043e\\u0441\\u043b\\u0435\\u0434\\u043d\\u0438\\u0439\", \"\\u043f\\u043e\\u0441\\u043b\\u0435\\u0434\\u043d\\u0438\\u0439\", \"\\u043f\\u043e\\u0441\\u043b\\u0435\\u0434\\u043d\\u0438\\u0439\", \"\\u043f\\u043e\\u0441\\u043b\\u0435\\u0434\\u043d\\u0438\\u0439\", \"\\u043f\\u043e\\u0441\\u043b\\u0435\\u0434\\u043d\\u0438\\u0439\", \"\\u043f\\u043e\\u0441\\u0442\\u0443\\u043f\\u0438\\u0442\\u044c\", \"\\u043f\\u043e\\u0442\\u0435\\u0440\\u044f\", \"\\u043f\\u043e\\u044f\\u0432\\u043b\\u044f\\u0442\\u044c\\u0441\\u044f\", \"\\u043f\\u0440\\u0430\\u0432\\u0438\\u0442\\u0435\\u043b\\u044c\\u0441\\u0442\\u0432\\u043e\", \"\\u043f\\u0440\\u0430\\u0432\\u0438\\u0442\\u0435\\u043b\\u044c\\u0441\\u0442\\u0432\\u043e\", \"\\u043f\\u0440\\u0430\\u0432\\u0438\\u0442\\u0435\\u043b\\u044c\\u0441\\u0442\\u0432\\u043e\", \"\\u043f\\u0440\\u0430\\u0432\\u0438\\u0442\\u0435\\u043b\\u044c\\u0441\\u0442\\u0432\\u043e\", \"\\u043f\\u0440\\u0430\\u0432\\u0438\\u0442\\u0435\\u043b\\u044c\\u0441\\u0442\\u0432\\u043e\", \"\\u043f\\u0440\\u0430\\u0432\\u043e\", \"\\u043f\\u0440\\u0430\\u0432\\u043e\", \"\\u043f\\u0440\\u0430\\u0432\\u043e\", \"\\u043f\\u0440\\u0430\\u0432\\u043e\", \"\\u043f\\u0440\\u0430\\u0432\\u043e\", \"\\u043f\\u0440\\u0430\\u0432\\u043e\", \"\\u043f\\u0440\\u0430\\u0432\\u043e\\u043e\\u0445\\u0440\\u0430\\u043d\\u0438\\u0442\\u0435\\u043b\\u044c\\u043d\\u044b\\u0439\", \"\\u043f\\u0440\\u0430\\u0432\\u043e\\u043e\\u0445\\u0440\\u0430\\u043d\\u0438\\u0442\\u0435\\u043b\\u044c\\u043d\\u044b\\u0439_\\u043e\\u0440\\u0433\\u0430\\u043d\", \"\\u043f\\u0440\\u0430\\u0432\\u044b\\u0439\", \"\\u043f\\u0440\\u0430\\u0437\\u0434\\u043d\\u0438\\u043a\", \"\\u043f\\u0440\\u0430\\u0437\\u0434\\u043d\\u0438\\u043a\", \"\\u043f\\u0440\\u0430\\u0437\\u0434\\u043d\\u0438\\u043a\", \"\\u043f\\u0440\\u0435\\u0432\\u044b\\u0441\\u0438\\u0442\\u044c\", \"\\u043f\\u0440\\u0435\\u0434\\u043e\\u0441\\u0442\\u0430\\u0432\\u0438\\u0442\\u044c\", \"\\u043f\\u0440\\u0435\\u0434\\u0443\\u0441\\u043c\\u043e\\u0442\\u0440\\u0435\\u0442\\u044c\", \"\\u043f\\u0440\\u0435\\u043c\\u0438\\u044f\", \"\\u043f\\u0440\\u0435\\u043c\\u044c\\u0435\\u0440\", \"\\u043f\\u0440\\u0435\\u043c\\u044c\\u0435\\u0440_\\u043c\\u0438\\u043d\\u0438\\u0441\\u0442\\u0440\", \"\\u043f\\u0440\\u0435\\u043e\\u0434\\u043e\\u043b\\u0435\\u043d\\u0438\\u0435\", \"\\u043f\\u0440\\u0435\\u0441\\u0442\\u0443\\u043f\\u043b\\u0435\\u043d\\u0438\\u0435\", \"\\u043f\\u0440\\u0435\\u0441\\u0442\\u0443\\u043f\\u043b\\u0435\\u043d\\u0438\\u0435\", \"\\u043f\\u0440\\u0435\\u0441\\u0442\\u0443\\u043f\\u043d\\u043e\\u0441\\u0442\\u044c\", \"\\u043f\\u0440\\u0438\\u0435\\u0437\\u0436\\u0430\\u0442\\u044c\", \"\\u043f\\u0440\\u0438\\u043d\\u0438\\u043c\\u0430\\u0442\\u044c\", \"\\u043f\\u0440\\u0438\\u043d\\u0438\\u043c\\u0430\\u0442\\u044c\", \"\\u043f\\u0440\\u0438\\u043d\\u0438\\u043c\\u0430\\u0442\\u044c\", \"\\u043f\\u0440\\u0438\\u043d\\u0438\\u043c\\u0430\\u0442\\u044c\", \"\\u043f\\u0440\\u0438\\u043d\\u0438\\u043c\\u0430\\u0442\\u044c\", \"\\u043f\\u0440\\u0438\\u043d\\u0438\\u043c\\u0430\\u0442\\u044c\", \"\\u043f\\u0440\\u0438\\u043d\\u0438\\u043c\\u0430\\u0442\\u044c\", \"\\u043f\\u0440\\u0438\\u043d\\u0438\\u043c\\u0430\\u0442\\u044c_\\u0443\\u0447\\u0430\\u0441\\u0442\\u0438\\u0435\", \"\\u043f\\u0440\\u0438\\u043d\\u044f\\u0442\\u044c\", \"\\u043f\\u0440\\u0438\\u043d\\u044f\\u0442\\u044c\", \"\\u043f\\u0440\\u0438\\u043d\\u044f\\u0442\\u044c\", \"\\u043f\\u0440\\u0438\\u043d\\u044f\\u0442\\u044c\", \"\\u043f\\u0440\\u0438\\u043d\\u044f\\u0442\\u044c\", \"\\u043f\\u0440\\u0438\\u043d\\u044f\\u0442\\u044c_\\u0443\\u0447\\u0430\\u0441\\u0442\\u0438\\u0435\", \"\\u043f\\u0440\\u0438\\u0440\\u043e\\u0434\\u043d\\u044b\\u0439\", \"\\u043f\\u0440\\u0438\\u0451\\u043c\", \"\\u043f\\u0440\\u043e\\u0431\\u043b\\u0435\\u043c\\u0430\", \"\\u043f\\u0440\\u043e\\u0431\\u043b\\u0435\\u043c\\u0430\", \"\\u043f\\u0440\\u043e\\u0431\\u043b\\u0435\\u043c\\u0430\", \"\\u043f\\u0440\\u043e\\u0431\\u043b\\u0435\\u043c\\u0430\", \"\\u043f\\u0440\\u043e\\u0431\\u043b\\u0435\\u043c\\u0430\", \"\\u043f\\u0440\\u043e\\u0432\\u0435\\u0440\\u043a\\u0430\", \"\\u043f\\u0440\\u043e\\u0433\\u0440\\u0430\\u043c\\u043c\\u0430\", \"\\u043f\\u0440\\u043e\\u0433\\u0440\\u0430\\u043c\\u043c\\u0430\", \"\\u043f\\u0440\\u043e\\u0433\\u0440\\u0430\\u043c\\u043c\\u0430\", \"\\u043f\\u0440\\u043e\\u0433\\u0440\\u0430\\u043c\\u043c\\u0430\", \"\\u043f\\u0440\\u043e\\u0435\\u043a\\u0442\", \"\\u043f\\u0440\\u043e\\u0435\\u043a\\u0442\", \"\\u043f\\u0440\\u043e\\u0435\\u043a\\u0442\", \"\\u043f\\u0440\\u043e\\u0435\\u043a\\u0442\", \"\\u043f\\u0440\\u043e\\u0438\\u0437\\u0432\\u043e\\u0434\\u0441\\u0442\\u0432\\u043e\", \"\\u043f\\u0440\\u043e\\u0438\\u0437\\u0432\\u043e\\u0434\\u0441\\u0442\\u0432\\u043e\", \"\\u043f\\u0440\\u043e\\u0438\\u0437\\u043e\\u0439\\u0442\\u0438\", \"\\u043f\\u0440\\u043e\\u0438\\u0437\\u043e\\u0439\\u0442\\u0438\", \"\\u043f\\u0440\\u043e\\u0438\\u0437\\u043e\\u0439\\u0442\\u0438\", \"\\u043f\\u0440\\u043e\\u0438\\u0441\\u0445\\u043e\\u0434\\u0438\\u0442\\u044c\", \"\\u043f\\u0440\\u043e\\u0438\\u0441\\u0445\\u043e\\u0434\\u0438\\u0442\\u044c\", \"\\u043f\\u0440\\u043e\\u0438\\u0441\\u0445\\u043e\\u0434\\u0438\\u0442\\u044c\", \"\\u043f\\u0440\\u043e\\u0439\\u0442\\u0438\", \"\\u043f\\u0440\\u043e\\u0439\\u0442\\u0438\", \"\\u043f\\u0440\\u043e\\u0439\\u0442\\u0438\", \"\\u043f\\u0440\\u043e\\u0439\\u0442\\u0438\", \"\\u043f\\u0440\\u043e\\u0439\\u0442\\u0438\", \"\\u043f\\u0440\\u043e\\u0439\\u0442\\u0438\", \"\\u043f\\u0440\\u043e\\u0439\\u0442\\u0438\", \"\\u043f\\u0440\\u043e\\u0441\\u0438\\u0442\\u044c\", \"\\u043f\\u0440\\u043e\\u0441\\u0438\\u0442\\u044c\", \"\\u043f\\u0440\\u043e\\u0441\\u0438\\u0442\\u044c\", \"\\u043f\\u0440\\u043e\\u0441\\u0438\\u0442\\u044c\", \"\\u043f\\u0440\\u043e\\u0442\\u0438\\u0432\", \"\\u043f\\u0440\\u043e\\u0442\\u0438\\u0432\", \"\\u043f\\u0440\\u043e\\u0442\\u0438\\u0432\\u043e\\u0434\\u0435\\u0439\\u0441\\u0442\\u0432\\u0438\\u0435\", \"\\u0440\\u0430\\u0431\\u043e\\u0442\\u0430\", \"\\u0440\\u0430\\u0431\\u043e\\u0442\\u0430\", \"\\u0440\\u0430\\u0431\\u043e\\u0442\\u0430\", \"\\u0440\\u0430\\u0431\\u043e\\u0442\\u0430\", \"\\u0440\\u0430\\u0431\\u043e\\u0442\\u0430\", \"\\u0440\\u0430\\u0431\\u043e\\u0442\\u0430\", \"\\u0440\\u0430\\u0431\\u043e\\u0442\\u0430\", \"\\u0440\\u0430\\u0431\\u043e\\u0442\\u0430\\u0442\\u044c\", \"\\u0440\\u0430\\u0431\\u043e\\u0442\\u0430\\u0442\\u044c\", \"\\u0440\\u0430\\u0431\\u043e\\u0442\\u0430\\u0442\\u044c\", \"\\u0440\\u0430\\u0431\\u043e\\u0442\\u0430\\u0442\\u044c\", \"\\u0440\\u0430\\u0431\\u043e\\u0442\\u0430\\u0442\\u044c\", \"\\u0440\\u0430\\u0431\\u043e\\u0442\\u0430\\u0442\\u044c\", \"\\u0440\\u0430\\u0431\\u043e\\u0442\\u0430\\u0442\\u044c\", \"\\u0440\\u0430\\u0431\\u043e\\u0442\\u0430\\u0442\\u044c\", \"\\u0440\\u0430\\u0431\\u043e\\u0442\\u0430\\u0442\\u044c\", \"\\u0440\\u0430\\u0431\\u043e\\u0447\\u0438\\u0439_\\u043c\\u0435\\u0441\\u0442\\u043e\", \"\\u0440\\u0430\\u0434\", \"\\u0440\\u0430\\u0434\", \"\\u0440\\u0430\\u0434\", \"\\u0440\\u0430\\u0437\\u0432\\u0438\\u0442\\u0438\\u0435\", \"\\u0440\\u0430\\u0437\\u0432\\u0438\\u0442\\u0438\\u0435\", \"\\u0440\\u0430\\u0437\\u0432\\u0438\\u0442\\u0438\\u0435\", \"\\u0440\\u0430\\u0437\\u0432\\u0438\\u0442\\u0438\\u0435\", \"\\u0440\\u0430\\u0437\\u0432\\u0438\\u0442\\u0438\\u0435\", \"\\u0440\\u0430\\u0437\\u0432\\u0438\\u0442\\u0438\\u0435\", \"\\u0440\\u0430\\u0439\\u043e\\u043d\", \"\\u0440\\u0430\\u0439\\u043e\\u043d\", \"\\u0440\\u0430\\u043a\\u0435\\u0442\\u0430\", \"\\u0440\\u0430\\u043c\\u043a\\u0430\", \"\\u0440\\u0430\\u043c\\u043a\\u0430\", \"\\u0440\\u0430\\u043c\\u043a\\u0430\", \"\\u0440\\u0430\\u043c\\u043a\\u0430\", \"\\u0440\\u0430\\u043c\\u043a\\u0430\", \"\\u0440\\u0430\\u043c\\u043a\\u0430\", \"\\u0440\\u0430\\u0441\\u0448\\u0438\\u0440\\u0435\\u043d\\u0438\\u0435\", \"\\u0440\\u0430\\u0441\\u0448\\u0438\\u0440\\u0435\\u043d\\u0438\\u0435\", \"\\u0440\\u0430\\u0442\\u043d\\u044b\\u0439\", \"\\u0440\\u0435\\u0430\\u043b\\u0438\\u044f\", \"\\u0440\\u0435\\u0430\\u043b\\u044c\\u043d\\u043e\", \"\\u0440\\u0435\\u0431\\u044f\\u0442\", \"\\u0440\\u0435\\u0431\\u0451\\u043d\\u043e\\u043a\", \"\\u0440\\u0435\\u0431\\u0451\\u043d\\u043e\\u043a\", \"\\u0440\\u0435\\u0431\\u0451\\u043d\\u043e\\u043a\", \"\\u0440\\u0435\\u0433\\u0438\\u043e\\u043d\", \"\\u0440\\u0435\\u0433\\u0438\\u043e\\u043d\", \"\\u0440\\u0435\\u0433\\u0438\\u043e\\u043d\", \"\\u0440\\u0435\\u0433\\u0438\\u043e\\u043d\", \"\\u0440\\u0435\\u0433\\u0438\\u043e\\u043d\", \"\\u0440\\u0435\\u0433\\u0438\\u043e\\u043d\", \"\\u0440\\u0435\\u0433\\u0438\\u043e\\u043d\", \"\\u0440\\u0435\\u0433\\u0438\\u043e\\u043d\", \"\\u0440\\u0435\\u0437\\u0443\\u043b\\u044c\\u0442\\u0430\\u0442\", \"\\u0440\\u0435\\u0437\\u0443\\u043b\\u044c\\u0442\\u0430\\u0442\", \"\\u0440\\u0435\\u0437\\u0443\\u043b\\u044c\\u0442\\u0430\\u0442\", \"\\u0440\\u0435\\u0437\\u0443\\u043b\\u044c\\u0442\\u0430\\u0442\", \"\\u0440\\u0435\\u0437\\u0443\\u043b\\u044c\\u0442\\u0430\\u0442\", \"\\u0440\\u0435\\u0437\\u0443\\u043b\\u044c\\u0442\\u0430\\u0442\", \"\\u0440\\u0435\\u0437\\u0443\\u043b\\u044c\\u0442\\u0430\\u0442\", \"\\u0440\\u0435\\u0437\\u0443\\u043b\\u044c\\u0442\\u0430\\u0442\", \"\\u0440\\u0435\\u0441\\u043f\\u0443\\u0431\\u043b\\u0438\\u043a\\u0430\", \"\\u0440\\u0435\\u0441\\u043f\\u0443\\u0431\\u043b\\u0438\\u043a\\u0430\", \"\\u0440\\u0435\\u0448\\u0435\\u043d\\u0438\\u0435\", \"\\u0440\\u0435\\u0448\\u0435\\u043d\\u0438\\u0435\", \"\\u0440\\u0435\\u0448\\u0435\\u043d\\u0438\\u0435\", \"\\u0440\\u0435\\u0448\\u0435\\u043d\\u0438\\u0435\", \"\\u0440\\u0435\\u0448\\u0435\\u043d\\u0438\\u0435\", \"\\u0440\\u0435\\u0448\\u0435\\u043d\\u0438\\u0435\", \"\\u0440\\u043e\\u0434\\u0438\\u043d\\u0430\", \"\\u0440\\u043e\\u0434\\u0438\\u043d\\u0430\", \"\\u0440\\u043e\\u0434\\u043d\\u044b\\u0439\", \"\\u0440\\u043e\\u0441\\u0441\\u0438\\u0439\\u0441\\u043a\\u0438\\u0439\", \"\\u0440\\u043e\\u0441\\u0441\\u0438\\u0439\\u0441\\u043a\\u0438\\u0439\", \"\\u0440\\u043e\\u0441\\u0441\\u0438\\u0439\\u0441\\u043a\\u0438\\u0439\", \"\\u0440\\u043e\\u0441\\u0441\\u0438\\u0439\\u0441\\u043a\\u0438\\u0439\", \"\\u0440\\u043e\\u0441\\u0441\\u0438\\u0439\\u0441\\u043a\\u0438\\u0439\", \"\\u0440\\u043e\\u0441\\u0441\\u0438\\u0439\\u0441\\u043a\\u0438\\u0439\", \"\\u0440\\u043e\\u0441\\u0441\\u0438\\u0439\\u0441\\u043a\\u0438\\u0439\", \"\\u0440\\u043e\\u0441\\u0441\\u0438\\u0439\\u0441\\u043a\\u0438\\u0439\", \"\\u0440\\u043e\\u0441\\u0441\\u0438\\u0439\\u0441\\u043a\\u0438\\u0439\", \"\\u0440\\u043e\\u0441\\u0441\\u0438\\u0439\\u0441\\u043a\\u0438\\u0439_\\u0444\\u0435\\u0434\\u0435\\u0440\\u0430\\u0446\\u0438\\u044f\", \"\\u0440\\u043e\\u0441\\u0441\\u0438\\u0439\\u0441\\u043a\\u043e\", \"\\u0440\\u043e\\u0441\\u0441\\u0438\\u044f\", \"\\u0440\\u043e\\u0441\\u0441\\u0438\\u044f\", \"\\u0440\\u043e\\u0441\\u0441\\u0438\\u044f\", \"\\u0440\\u043e\\u0441\\u0441\\u0438\\u044f\", \"\\u0440\\u043e\\u0441\\u0441\\u0438\\u044f\", \"\\u0440\\u043e\\u0441\\u0441\\u0438\\u044f\", \"\\u0440\\u043e\\u0441\\u0441\\u0438\\u044f\", \"\\u0440\\u043e\\u0441\\u0441\\u0438\\u044f\", \"\\u0440\\u043e\\u0441\\u0441\\u0438\\u044f\", \"\\u0440\\u043e\\u0441\\u0441\\u0438\\u044f\", \"\\u0440\\u043e\\u0441\\u0442\", \"\\u0440\\u043e\\u0441\\u0442\", \"\\u0440\\u043e\\u0441\\u0442\", \"\\u0440\\u043e\\u0441\\u0442\", \"\\u0440\\u0443\\u0431\\u043b\\u044c\", \"\\u0440\\u0443\\u0441\\u0441\\u043a\\u0438\\u0439\", \"\\u0440\\u0443\\u0441\\u0441\\u043a\\u0438\\u0439\", \"\\u0440\\u0443\\u0441\\u0441\\u043a\\u0438\\u0439_\\u044f\\u0437\\u044b\\u043a\", \"\\u0440\\u044b\\u043d\\u043e\\u043a\", \"\\u0440\\u044b\\u043d\\u043e\\u043a\", \"\\u0440\\u044b\\u043d\\u043e\\u043a\", \"\\u0440\\u044b\\u043d\\u043e\\u043a\", \"\\u0441\\u0430\\u043c\\u043c\\u0438\\u0442\", \"\\u0441\\u0430\\u043c\\u043e\\u043b\\u0451\\u0442\", \"\\u0441\\u0430\\u043d\\u043a\\u0442\", \"\\u0441\\u0430\\u043d\\u043a\\u0442_\\u043f\\u0435\\u0442\\u0435\\u0440\\u0431\\u0443\\u0440\\u0433\", \"\\u0441\\u0430\\u043d\\u043a\\u0446\\u0438\\u044f\", \"\\u0441\\u0432\\u043e\\u0431\\u043e\\u0434\\u0430\", \"\\u0441\\u0432\\u043e\\u0431\\u043e\\u0434\\u0430\", \"\\u0441\\u0432\\u043e\\u0431\\u043e\\u0434\\u0430\", \"\\u0441\\u0432\\u044f\\u0437\\u044c\", \"\\u0441\\u0432\\u044f\\u0437\\u044c\", \"\\u0441\\u0432\\u044f\\u0437\\u044c\", \"\\u0441\\u0432\\u044f\\u0437\\u044c\", \"\\u0441\\u0432\\u044f\\u0437\\u044c\", \"\\u0441\\u0432\\u044f\\u0437\\u044c\", \"\\u0441\\u0432\\u044f\\u0437\\u044c\", \"\\u0441\\u0432\\u044f\\u0437\\u044c\", \"\\u0441\\u0432\\u044f\\u0437\\u044c\", \"\\u0441\\u0432\\u044f\\u0449\\u0435\\u043d\\u043d\\u044b\\u0439\", \"\\u0441\\u0434\\u0435\\u043b\\u0430\\u0442\\u044c\", \"\\u0441\\u0434\\u0435\\u043b\\u0430\\u0442\\u044c\", \"\\u0441\\u0434\\u0435\\u043b\\u0430\\u0442\\u044c\", \"\\u0441\\u0434\\u0435\\u043b\\u0430\\u0442\\u044c\", \"\\u0441\\u0434\\u0435\\u043b\\u0430\\u0442\\u044c\", \"\\u0441\\u0434\\u0435\\u043b\\u0430\\u0442\\u044c\", \"\\u0441\\u0434\\u0435\\u043b\\u0430\\u0442\\u044c\", \"\\u0441\\u0435\\u0432\\u0430\\u0441\\u0442\\u043e\\u043f\\u043e\\u043b\\u044c\", \"\\u0441\\u0435\\u0432\\u0435\\u0440\", \"\\u0441\\u0435\\u0432\\u0435\\u0440\\u043d\\u044b\\u0439\", \"\\u0441\\u0435\\u0432\\u0435\\u0440\\u043d\\u044b\\u0439\", \"\\u0441\\u0435\\u0432\\u0435\\u0440\\u043d\\u044b\\u0439_\\u043a\\u043e\\u0440\\u0435\\u044f\", \"\\u0441\\u0435\\u043b\\u044c\\u0441\\u043a\\u0438\\u0439\", \"\\u0441\\u0435\\u043b\\u044c\\u0441\\u043a\\u0438\\u0439_\\u0445\\u043e\\u0437\\u044f\\u0439\\u0441\\u0442\\u0432\\u043e\", \"\\u0441\\u0435\\u043c\\u044c\\u044f\", \"\\u0441\\u0435\\u043c\\u044c\\u044f\", \"\\u0441\\u0435\\u0440\\u0434\\u0435\\u0447\\u043d\\u043e\", \"\\u0441\\u0435\\u0440\\u0434\\u0446\\u0435\", \"\\u0441\\u0438\", \"\\u0441\\u0438\\u0431\\u0438\\u0440\\u044c\", \"\\u0441\\u0438\\u043b\\u0430\", \"\\u0441\\u0438\\u043b\\u0430\", \"\\u0441\\u0438\\u043b\\u0430\", \"\\u0441\\u0438\\u043b\\u0430\", \"\\u0441\\u0438\\u043b\\u0430\", \"\\u0441\\u0438\\u043b\\u0430\", \"\\u0441\\u0438\\u043b\\u0430\", \"\\u0441\\u0438\\u0440\\u0438\\u0439\\u0441\\u043a\\u0438\\u0439\", \"\\u0441\\u0438\\u0440\\u0438\\u044f\", \"\\u0441\\u0438\\u0441\\u0442\\u0435\\u043c\\u0430\", \"\\u0441\\u0438\\u0441\\u0442\\u0435\\u043c\\u0430\", \"\\u0441\\u0438\\u0441\\u0442\\u0435\\u043c\\u0430\", \"\\u0441\\u0438\\u0441\\u0442\\u0435\\u043c\\u0430\", \"\\u0441\\u0438\\u0441\\u0442\\u0435\\u043c\\u0430\", \"\\u0441\\u0438\\u0441\\u0442\\u0435\\u043c\\u0430\", \"\\u0441\\u0438\\u0441\\u0442\\u0435\\u043c\\u0430\", \"\\u0441\\u0438\\u0442\\u0443\\u0430\\u0446\\u0438\\u044f\", \"\\u0441\\u0438\\u0442\\u0443\\u0430\\u0446\\u0438\\u044f\", \"\\u0441\\u0438\\u0442\\u0443\\u0430\\u0446\\u0438\\u044f\", \"\\u0441\\u0438\\u0442\\u0443\\u0430\\u0446\\u0438\\u044f\", \"\\u0441\\u043a\\u0430\\u0437\\u0430\\u0442\\u044c\", \"\\u0441\\u043a\\u0430\\u0437\\u0430\\u0442\\u044c\", \"\\u0441\\u043a\\u0430\\u0437\\u0430\\u0442\\u044c\", \"\\u0441\\u043a\\u0430\\u0437\\u0430\\u0442\\u044c\", \"\\u0441\\u043a\\u0430\\u0437\\u0430\\u0442\\u044c\", \"\\u0441\\u043a\\u0430\\u0437\\u0430\\u0442\\u044c\", \"\\u0441\\u043a\\u0430\\u0437\\u0430\\u0442\\u044c\", \"\\u0441\\u043a\\u043e\\u0440\\u044b\\u0439\", \"\\u0441\\u043b\\u0430\\u0432\\u0430\", \"\\u0441\\u043b\\u0430\\u0432\\u0430\", \"\\u0441\\u043b\\u0435\\u0434\\u0438\\u0442\\u044c\", \"\\u0441\\u043b\\u0443\\u0436\\u0431\\u0430\", \"\\u0441\\u043b\\u0443\\u0436\\u0431\\u0430\", \"\\u0441\\u043b\\u0443\\u0436\\u0431\\u0430\", \"\\u0441\\u043b\\u0443\\u0436\\u0431\\u0430\", \"\\u0441\\u043b\\u0443\\u0447\\u0430\\u0439\", \"\\u0441\\u043b\\u0443\\u0447\\u0430\\u0439\", \"\\u0441\\u043b\\u0443\\u0447\\u0430\\u0439\", \"\\u0441\\u043b\\u0443\\u0447\\u0430\\u0439\", \"\\u0441\\u043b\\u0443\\u0447\\u0430\\u0439\", \"\\u0441\\u043b\\u0443\\u0447\\u0430\\u0439\", \"\\u0441\\u043b\\u0443\\u0447\\u0430\\u0439\", \"\\u0441\\u043c\\u043e\\u0442\\u0440\\u0435\\u0442\\u044c\", \"\\u0441\\u043c\\u043e\\u0442\\u0440\\u0435\\u0442\\u044c\", \"\\u0441\\u043c\\u043e\\u0442\\u0440\\u0435\\u0442\\u044c\", \"\\u0441\\u043d\\u0438\\u0436\\u0430\\u0442\\u044c\\u0441\\u044f\", \"\\u0441\\u043e\\u0432\\u0435\\u0442\\u0441\\u043a\\u0438\\u0439\", \"\\u0441\\u043e\\u0432\\u0435\\u0442\\u0441\\u043a\\u0438\\u0439_\\u0441\\u043e\\u044e\\u0437\", \"\\u0441\\u043e\\u0432\\u043c\\u0435\\u0441\\u0442\\u043d\\u044b\\u0439\", \"\\u0441\\u043e\\u0432\\u043c\\u0435\\u0441\\u0442\\u043d\\u044b\\u0439_\\u0440\\u0430\\u0431\\u043e\\u0442\\u0430\", \"\\u0441\\u043e\\u0432\\u0440\\u0435\\u043c\\u0435\\u043d\\u043d\\u044b\\u0439\", \"\\u0441\\u043e\\u0432\\u0440\\u0435\\u043c\\u0435\\u043d\\u043d\\u044b\\u0439\", \"\\u0441\\u043e\\u0432\\u0440\\u0435\\u043c\\u0435\\u043d\\u043d\\u044b\\u0439\", \"\\u0441\\u043e\\u0432\\u0440\\u0435\\u043c\\u0435\\u043d\\u043d\\u044b\\u0439\", \"\\u0441\\u043e\\u0432\\u0440\\u0435\\u043c\\u0435\\u043d\\u043d\\u044b\\u0439\", \"\\u0441\\u043e\\u0432\\u0440\\u0435\\u043c\\u0435\\u043d\\u043d\\u044b\\u0439\", \"\\u0441\\u043e\\u0432\\u0440\\u0435\\u043c\\u0435\\u043d\\u043d\\u044b\\u0439\", \"\\u0441\\u043e\\u0432\\u0440\\u0435\\u043c\\u0435\\u043d\\u043d\\u044b\\u0439\", \"\\u0441\\u043e\\u0433\\u043b\\u0430\\u0441\\u043d\\u044b\\u0439\", \"\\u0441\\u043e\\u0435\\u0434\\u0438\\u043d\\u0438\\u0442\\u044c\", \"\\u0441\\u043e\\u0435\\u0434\\u0438\\u043d\\u0438\\u0442\\u044c_\\u0448\\u0442\\u0430\\u0442\", \"\\u0441\\u043e\\u0436\\u0430\\u043b\\u0435\\u043d\\u0438\\u0435\", \"\\u0441\\u043e\\u0436\\u0430\\u043b\\u0435\\u043d\\u0438\\u0435\", \"\\u0441\\u043e\\u0436\\u0430\\u043b\\u0435\\u043d\\u0438\\u0435\", \"\\u0441\\u043e\\u0440\\u0435\\u0432\\u043d\\u043e\\u0432\\u0430\\u043d\\u0438\\u0435\", \"\\u0441\\u043e\\u0441\\u0442\\u0430\\u0432\", \"\\u0441\\u043e\\u0442\\u0440\\u0443\\u0434\\u043d\\u0438\\u0447\\u0435\\u0441\\u0442\\u0432\\u043e\", \"\\u0441\\u043e\\u0446\\u0438\\u0430\\u043b\\u044c\\u043d\\u044b\\u0439\", \"\\u0441\\u043e\\u0446\\u0438\\u0430\\u043b\\u044c\\u043d\\u044b\\u0439\", \"\\u0441\\u043e\\u0446\\u0438\\u0430\\u043b\\u044c\\u043d\\u044b\\u0439\", \"\\u0441\\u043f\\u0435\\u0446\\u0438\\u0430\\u043b\\u0438\\u0441\\u0442\", \"\\u0441\\u043f\\u0435\\u0446\\u0438\\u0430\\u043b\\u0438\\u0441\\u0442\", \"\\u0441\\u043f\\u0435\\u0446\\u0438\\u0430\\u043b\\u0438\\u0441\\u0442\", \"\\u0441\\u043f\\u0435\\u0446\\u0438\\u0430\\u043b\\u0438\\u0441\\u0442\", \"\\u0441\\u043f\\u0435\\u0446\\u0438\\u0430\\u043b\\u0438\\u0441\\u0442\", \"\\u0441\\u043f\\u0435\\u0446\\u0438\\u0430\\u043b\\u044c\\u043d\\u044b\\u0439\", \"\\u0441\\u043f\\u0435\\u0446\\u0438\\u0430\\u043b\\u044c\\u043d\\u044b\\u0439\", \"\\u0441\\u043f\\u0435\\u0446\\u0438\\u0430\\u043b\\u044c\\u043d\\u044b\\u0439\", \"\\u0441\\u043f\\u0435\\u0446\\u0438\\u0430\\u043b\\u044c\\u043d\\u044b\\u0439\", \"\\u0441\\u043f\\u043b\\u043e\\u0447\\u0451\\u043d\\u043d\\u043e\\u0441\\u0442\\u044c\", \"\\u0441\\u043f\\u043e\\u0440\\u0442\", \"\\u0441\\u043f\\u043e\\u0440\\u0442\\u0438\\u0432\\u043d\\u044b\\u0439\", \"\\u0441\\u043f\\u043e\\u0440\\u0442\\u0441\\u043c\\u0435\\u043d\", \"\\u0441\\u043f\\u0440\\u043e\\u0441\\u0438\\u0442\\u044c\", \"\\u0441\\u0440\\u0430\\u0436\\u0430\\u0442\\u044c\\u0441\\u044f\", \"\\u0441\\u0440\\u0435\\u0434\\u0430\", \"\\u0441\\u0440\\u0435\\u0434\\u0430\", \"\\u0441\\u0440\\u0435\\u0434\\u0430\", \"\\u0441\\u0440\\u0435\\u0434\\u043d\\u0438\\u0439\", \"\\u0441\\u0440\\u0435\\u0434\\u0441\\u0442\\u0432\\u043e\", \"\\u0441\\u0440\\u0435\\u0434\\u0441\\u0442\\u0432\\u043e\", \"\\u0441\\u0440\\u0435\\u0434\\u0441\\u0442\\u0432\\u043e\", \"\\u0441\\u0440\\u0435\\u0434\\u0441\\u0442\\u0432\\u043e\", \"\\u0441\\u0442\\u0430\\u043d\\u0446\\u0438\\u044f\", \"\\u0441\\u0442\\u043e\\u043b\\u0438\\u0446\\u0430\", \"\\u0441\\u0442\\u043e\\u043b\\u043a\\u043d\\u0443\\u0442\\u044c\\u0441\\u044f\", \"\\u0441\\u0442\\u043e\\u0440\\u043e\\u043d\\u0430\", \"\\u0441\\u0442\\u043e\\u0440\\u043e\\u043d\\u0430\", \"\\u0441\\u0442\\u043e\\u0440\\u043e\\u043d\\u0430\", \"\\u0441\\u0442\\u043e\\u0440\\u043e\\u043d\\u0430\", \"\\u0441\\u0442\\u043e\\u0440\\u043e\\u043d\\u0430\", \"\\u0441\\u0442\\u043e\\u0440\\u043e\\u043d\\u0430\", \"\\u0441\\u0442\\u043e\\u0440\\u043e\\u043d\\u0430\", \"\\u0441\\u0442\\u0440\\u0430\\u043d\\u0430\", \"\\u0441\\u0442\\u0440\\u0430\\u043d\\u0430\", \"\\u0441\\u0442\\u0440\\u0430\\u043d\\u0430\", \"\\u0441\\u0442\\u0440\\u0430\\u043d\\u0430\", \"\\u0441\\u0442\\u0440\\u0430\\u043d\\u0430\", \"\\u0441\\u0442\\u0440\\u0430\\u043d\\u0430\", \"\\u0441\\u0442\\u0440\\u0430\\u043d\\u0430\", \"\\u0441\\u0442\\u0440\\u0430\\u043d\\u0430\", \"\\u0441\\u0442\\u0440\\u0430\\u043d\\u0430\", \"\\u0441\\u0442\\u0440\\u0430\\u0442\\u0435\\u0433\\u0438\\u0447\\u0435\\u0441\\u043a\\u0438\\u0439\", \"\\u0441\\u0442\\u0440\\u0430\\u0442\\u0435\\u0433\\u0438\\u0447\\u0435\\u0441\\u043a\\u0438\\u0439\", \"\\u0441\\u0442\\u0440\\u0430\\u0442\\u0435\\u0433\\u0438\\u0447\\u0435\\u0441\\u043a\\u0438\\u0439\", \"\\u0441\\u0442\\u0440\\u0430\\u0448\\u043d\\u044b\\u0439\", \"\\u0441\\u0442\\u0440\\u043e\\u0438\\u0442\\u0435\\u043b\\u044c\", \"\\u0441\\u0442\\u0440\\u043e\\u0438\\u0442\\u0435\\u043b\\u044c\\u043d\\u044b\\u0439\", \"\\u0441\\u0442\\u0440\\u043e\\u0438\\u0442\\u0435\\u043b\\u044c\\u0441\\u0442\\u0432\\u043e\", \"\\u0441\\u0442\\u0440\\u043e\\u0438\\u0442\\u0435\\u043b\\u044c\\u0441\\u0442\\u0432\\u043e\", \"\\u0441\\u0442\\u0440\\u043e\\u0438\\u0442\\u0435\\u043b\\u044c\\u0441\\u0442\\u0432\\u043e\", \"\\u0441\\u0442\\u0440\\u043e\\u0438\\u0442\\u0435\\u043b\\u044c\\u0441\\u0442\\u0432\\u043e\", \"\\u0441\\u0442\\u0440\\u043e\\u0438\\u0442\\u0435\\u043b\\u044c\\u0441\\u0442\\u0432\\u043e\", \"\\u0441\\u0442\\u0443\\u0434\\u0435\\u043d\\u0442\", \"\\u0441\\u0443\\u0431\\u044a\\u0435\\u043a\\u0442\", \"\\u0441\\u0443\\u0432\\u0435\\u0440\\u0435\\u043d\\u0438\\u0442\\u0435\\u0442\", \"\\u0441\\u0443\\u0432\\u0435\\u0440\\u0435\\u043d\\u0438\\u0442\\u0435\\u0442\", \"\\u0441\\u0443\\u0434\", \"\\u0441\\u0443\\u0434\", \"\\u0441\\u0443\\u0434\", \"\\u0441\\u0444\\u0435\\u0440\\u0430\", \"\\u0441\\u0444\\u0435\\u0440\\u0430\", \"\\u0441\\u0444\\u0435\\u0440\\u0430\", \"\\u0441\\u0444\\u0435\\u0440\\u0430\", \"\\u0441\\u0448\\u0430\", \"\\u0441\\u0448\\u0430\", \"\\u0441\\u044a\\u0435\\u0437\\u0434\", \"\\u0442\\u0435\\u0440\\u0440\\u0438\\u0442\\u043e\\u0440\\u0438\\u044f\", \"\\u0442\\u0435\\u0440\\u0440\\u0438\\u0442\\u043e\\u0440\\u0438\\u044f\", \"\\u0442\\u0435\\u0440\\u0440\\u0438\\u0442\\u043e\\u0440\\u0438\\u044f\", \"\\u0442\\u0435\\u0440\\u0440\\u0438\\u0442\\u043e\\u0440\\u0438\\u044f\", \"\\u0442\\u0435\\u0440\\u0440\\u0438\\u0442\\u043e\\u0440\\u0438\\u044f\", \"\\u0442\\u0435\\u0440\\u0440\\u043e\\u0440\\u0438\\u0437\\u043c\", \"\\u0442\\u0435\\u0440\\u0440\\u043e\\u0440\\u0438\\u0441\\u0442\", \"\\u0442\\u0435\\u0440\\u0440\\u043e\\u0440\\u0438\\u0441\\u0442\\u0438\\u0447\\u0435\\u0441\\u043a\\u0438\\u0439\", \"\\u0442\\u0435\\u0441\\u043d\\u044b\\u0439\", \"\\u0442\\u0435\\u0445\\u043d\\u0438\\u043a\\u0430\", \"\\u0442\\u0435\\u0445\\u043d\\u043e\\u043b\\u043e\\u0433\\u0438\\u044f\", \"\\u0442\\u0435\\u0445\\u043d\\u043e\\u043b\\u043e\\u0433\\u0438\\u044f\", \"\\u0442\\u0435\\u0445\\u043d\\u043e\\u043b\\u043e\\u0433\\u0438\\u044f\", \"\\u0442\\u0435\\u0445\\u043d\\u043e\\u043b\\u043e\\u0433\\u0438\\u044f\", \"\\u0442\\u043e\\u0440\\u0433\\u043e\\u0432\\u043b\\u044f\", \"\\u0442\\u043e\\u0440\\u0433\\u043e\\u0432\\u043b\\u044f\", \"\\u0442\\u043e\\u0440\\u0433\\u043e\\u0432\\u043b\\u044f\", \"\\u0442\\u043e\\u0440\\u0433\\u043e\\u0432\\u043e\", \"\\u0442\\u043e\\u0440\\u0433\\u043e\\u0432\\u043e_\\u044d\\u043a\\u043e\\u043d\\u043e\\u043c\\u0438\\u0447\\u0435\\u0441\\u043a\\u0438\\u0439\", \"\\u0442\\u043e\\u0440\\u0436\\u0435\\u0441\\u0442\\u0432\\u0435\\u043d\\u043d\\u044b\\u0439\", \"\\u0442\\u043e\\u0447\\u043a\\u0430\", \"\\u0442\\u043e\\u0447\\u043a\\u0430\", \"\\u0442\\u043e\\u0447\\u043a\\u0430_\\u0437\\u0440\\u0435\\u043d\\u0438\\u0435\", \"\\u0442\\u0440\\u0430\\u0434\\u0438\\u0446\\u0438\\u044f\", \"\\u0442\\u0440\\u0430\\u0434\\u0438\\u0446\\u0438\\u044f\", \"\\u0442\\u0440\\u0430\\u0434\\u0438\\u0446\\u0438\\u044f\", \"\\u0442\\u0440\\u0430\\u0434\\u0438\\u0446\\u0438\\u044f\", \"\\u0442\\u0440\\u0430\\u0434\\u0438\\u0446\\u0438\\u044f\", \"\\u0442\\u0440\\u0430\\u043c\\u043f\", \"\\u0442\\u0440\\u0430\\u043d\\u0441\\u043f\\u043e\\u0440\\u0442\\u043d\\u044b\\u0439\", \"\\u0442\\u0440\\u0430\\u043d\\u0441\\u043f\\u043e\\u0440\\u0442\\u043d\\u044b\\u0439\", \"\\u0442\\u0440\\u0435\\u043d\\u0435\\u0440\", \"\\u0442\\u0440\\u0443\\u0434\", \"\\u0442\\u0440\\u0443\\u0434\", \"\\u0442\\u0440\\u0443\\u0434\", \"\\u0442\\u0440\\u0443\\u0434\", \"\\u0442\\u0440\\u0443\\u0434\", \"\\u0442\\u0443\\u0440\\u0435\\u0446\\u043a\\u0438\\u0439\", \"\\u0442\\u0443\\u0440\\u0438\\u0437\\u043c\", \"\\u0442\\u0443\\u0440\\u0446\\u0438\\u044f\", \"\\u0442\\u044b\\u0441\\u044f\\u0447\\u0430\", \"\\u0442\\u044b\\u0441\\u044f\\u0447\\u0430\", \"\\u0442\\u044b\\u0441\\u044f\\u0447\\u0430\", \"\\u0442\\u044b\\u0441\\u044f\\u0447\\u0430\", \"\\u0442\\u044b\\u0441\\u044f\\u0447\\u0430\", \"\\u0443\\u0432\\u0430\\u0436\\u0435\\u043d\\u0438\\u0435\", \"\\u0443\\u0432\\u0430\\u0436\\u0435\\u043d\\u0438\\u0435\", \"\\u0443\\u0432\\u0430\\u0436\\u0435\\u043d\\u0438\\u0435\", \"\\u0443\\u0433\\u043e\\u043b\\u043e\\u0432\\u043d\\u044b\\u0439\", \"\\u0443\\u0433\\u043e\\u043b\\u044c\", \"\\u0443\\u0433\\u0440\\u043e\\u0437\\u0430\", \"\\u0443\\u0433\\u0440\\u043e\\u0437\\u0430\", \"\\u0443\\u043a\\u0440\\u0430\\u0438\\u043d\\u0430\", \"\\u0443\\u043a\\u0440\\u0430\\u0438\\u043d\\u0430\", \"\\u0443\\u043c\\u0435\\u043d\\u0438\\u0435\", \"\\u0443\\u043d\\u0438\\u0432\\u0435\\u0440\\u0441\\u0438\\u0442\\u0435\\u0442\", \"\\u0443\\u0440\\u043e\\u0432\\u0435\\u043d\\u044c\", \"\\u0443\\u0440\\u043e\\u0432\\u0435\\u043d\\u044c\", \"\\u0443\\u0440\\u043e\\u0432\\u0435\\u043d\\u044c\", \"\\u0443\\u0440\\u043e\\u0432\\u0435\\u043d\\u044c\", \"\\u0443\\u0440\\u043e\\u0432\\u0435\\u043d\\u044c\", \"\\u0443\\u0440\\u043e\\u0432\\u0435\\u043d\\u044c\", \"\\u0443\\u0441\\u043b\\u043e\\u0432\\u0438\\u0435\", \"\\u0443\\u0441\\u043b\\u043e\\u0432\\u0438\\u0435\", \"\\u0443\\u0441\\u043b\\u043e\\u0432\\u0438\\u0435\", \"\\u0443\\u0441\\u043b\\u043e\\u0432\\u0438\\u0435\", \"\\u0443\\u0441\\u043b\\u043e\\u0432\\u0438\\u0435\", \"\\u0443\\u0441\\u043b\\u043e\\u0432\\u0438\\u0435\", \"\\u0443\\u0441\\u043b\\u043e\\u0432\\u0438\\u0435\", \"\\u0443\\u0441\\u043b\\u043e\\u0432\\u0438\\u0435\", \"\\u0443\\u0441\\u043b\\u0443\\u0433\\u0430\", \"\\u0443\\u0441\\u043b\\u0443\\u0433\\u0430\", \"\\u0443\\u0441\\u043f\\u0435\\u0445\", \"\\u0443\\u0441\\u043f\\u0435\\u0445\", \"\\u0443\\u0441\\u043f\\u0435\\u0445\", \"\\u0443\\u0441\\u043f\\u0435\\u0445\", \"\\u0443\\u0441\\u0442\\u043e\\u0439\\u0447\\u0438\\u0432\\u044b\\u0439\", \"\\u0443\\u0441\\u0442\\u043e\\u0439\\u0447\\u0438\\u0432\\u044b\\u0439\", \"\\u0443\\u0441\\u0442\\u043e\\u0439\\u0447\\u0438\\u0432\\u044b\\u0439\", \"\\u0443\\u0441\\u0442\\u043e\\u0439\\u0447\\u0438\\u0432\\u044b\\u0439\", \"\\u0443\\u0441\\u0442\\u043e\\u0439\\u0447\\u0438\\u0432\\u044b\\u0439_\\u0440\\u0430\\u0437\\u0432\\u0438\\u0442\\u0438\\u0435\", \"\\u0443\\u0447\\u0430\\u0441\\u0442\\u0438\\u0435\", \"\\u0443\\u0447\\u0430\\u0441\\u0442\\u0438\\u0435\", \"\\u0443\\u0447\\u0430\\u0441\\u0442\\u0438\\u0435\", \"\\u0443\\u0447\\u0430\\u0441\\u0442\\u0438\\u0435\", \"\\u0443\\u0447\\u0435\\u043d\\u0438\\u0435\", \"\\u0443\\u0447\\u0435\\u0441\\u0442\\u044c\", \"\\u0443\\u0447\\u0438\\u0442\\u0435\\u043b\\u044c\", \"\\u0443\\u0447\\u0451\\u043d\\u044b\\u0439\", \"\\u0444\\u0435\\u0434\\u0435\\u0440\\u0430\\u043b\\u044c\\u043d\\u044b\\u0439\", \"\\u0444\\u0435\\u0434\\u0435\\u0440\\u0430\\u043b\\u044c\\u043d\\u044b\\u0439\", \"\\u0444\\u0435\\u0434\\u0435\\u0440\\u0430\\u0446\\u0438\\u044f\", \"\\u0444\\u0435\\u0434\\u0435\\u0440\\u0430\\u0446\\u0438\\u044f\", \"\\u0444\\u0435\\u0441\\u0442\\u0438\\u0432\\u0430\\u043b\\u044c\", \"\\u0444\\u0438\\u043d\\u0430\\u043d\\u0441\\u0438\\u0440\\u043e\\u0432\\u0430\\u043d\\u0438\\u0435\", \"\\u0444\\u043b\\u043e\\u0442\", \"\\u0444\\u043b\\u043e\\u0442\", \"\\u0444\\u043e\\u0440\\u0443\\u043c\", \"\\u0444\\u043e\\u0440\\u0443\\u043c\", \"\\u0444\\u043e\\u0440\\u0443\\u043c\", \"\\u0444\\u0440\\u043e\\u043d\\u0442\", \"\\u0444\\u0443\\u0442\\u0431\\u043e\\u043b\", \"\\u0445\\u0432\\u0430\\u0442\\u0430\\u0442\\u044c\", \"\\u0445\\u043e\\u0434\", \"\\u0445\\u043e\\u0434\", \"\\u0445\\u043e\\u0434\", \"\\u0445\\u043e\\u0434\", \"\\u0445\\u043e\\u0434\", \"\\u0445\\u043e\\u0434\", \"\\u0445\\u043e\\u0437\\u044f\\u0439\\u0441\\u0442\\u0432\\u043e\", \"\\u0445\\u043e\\u043a\\u043a\\u0435\\u0439\", \"\\u0445\\u043e\\u0440\\u043e\\u0448\\u0438\\u0439\", \"\\u0445\\u043e\\u0440\\u043e\\u0448\\u0438\\u0439\", \"\\u0445\\u043e\\u0440\\u043e\\u0448\\u0438\\u0439\", \"\\u0445\\u043e\\u0440\\u043e\\u0448\\u0438\\u0439\", \"\\u0445\\u043e\\u0440\\u043e\\u0448\\u0438\\u0439\", \"\\u0445\\u043e\\u0440\\u043e\\u0448\\u0438\\u0439\", \"\\u0445\\u043e\\u0440\\u043e\\u0448\\u0438\\u0439\", \"\\u0445\\u043e\\u0440\\u043e\\u0448\\u0438\\u0439\", \"\\u0446\\u0435\\u043b\\u044c\", \"\\u0446\\u0435\\u043b\\u044c\", \"\\u0446\\u0435\\u043b\\u044c\", \"\\u0446\\u0435\\u043b\\u044c\", \"\\u0446\\u0435\\u043b\\u044c\", \"\\u0446\\u0435\\u043b\\u044c\", \"\\u0446\\u0435\\u043b\\u044c\", \"\\u0446\\u0435\\u043d\\u0430\", \"\\u0446\\u0435\\u043d\\u0430\", \"\\u0446\\u0435\\u043d\\u0430\", \"\\u0446\\u0435\\u043d\\u043d\\u043e\\u0441\\u0442\\u044c\", \"\\u0446\\u0435\\u043d\\u043d\\u043e\\u0441\\u0442\\u044c\", \"\\u0446\\u0435\\u043d\\u0442\\u0440\", \"\\u0446\\u0435\\u043d\\u0442\\u0440\", \"\\u0446\\u0435\\u043d\\u0442\\u0440\", \"\\u0446\\u0435\\u043d\\u0442\\u0440\", \"\\u0446\\u0435\\u043d\\u0442\\u0440\", \"\\u0446\\u0435\\u0440\\u0435\\u043c\\u043e\\u043d\\u0438\\u044f\", \"\\u0446\\u0438\\u0432\\u0438\\u043b\\u0438\\u0437\\u0430\\u0446\\u0438\\u044f\", \"\\u0446\\u0438\\u0444\\u0440\\u043e\\u0432\\u043e\\u0439\", \"\\u0447\\u0430\\u0441\", \"\\u0447\\u0430\\u0441\\u0442\\u043d\\u044b\\u0439\", \"\\u0447\\u0435\\u043b\\u043e\\u0432\\u0435\\u043a\", \"\\u0447\\u0435\\u043b\\u043e\\u0432\\u0435\\u043a\", \"\\u0447\\u0435\\u043b\\u043e\\u0432\\u0435\\u043a\", \"\\u0447\\u0435\\u043b\\u043e\\u0432\\u0435\\u043a\", \"\\u0447\\u0435\\u043b\\u043e\\u0432\\u0435\\u043a\", \"\\u0447\\u0435\\u043b\\u043e\\u0432\\u0435\\u043a\", \"\\u0447\\u0435\\u043b\\u043e\\u0432\\u0435\\u043a\", \"\\u0447\\u0435\\u043c\\u043f\\u0438\\u043e\\u043d\\u0430\\u0442\", \"\\u0447\\u0435\\u043c\\u043f\\u0438\\u043e\\u043d\\u0430\\u0442_\\u043c\\u0438\\u0440\", \"\\u0447\\u0435\\u0441\\u0442\\u043d\\u043e\", \"\\u0447\\u0435\\u0441\\u0442\\u043d\\u043e\", \"\\u0447\\u0438\\u0441\\u043b\\u043e\", \"\\u0447\\u0438\\u0441\\u043b\\u043e\", \"\\u0447\\u0438\\u0441\\u043b\\u043e\", \"\\u0447\\u0438\\u0441\\u043b\\u043e\", \"\\u0447\\u0438\\u0441\\u043b\\u043e\", \"\\u0447\\u0438\\u0441\\u043b\\u043e\", \"\\u0447\\u0438\\u0441\\u043b\\u043e\", \"\\u0447\\u0438\\u0441\\u043b\\u043e\", \"\\u0447\\u0438\\u0441\\u043b\\u043e\", \"\\u0447\\u0438\\u0441\\u0442\\u044b\\u0439\", \"\\u0447\\u0440\\u0435\\u0437\\u0432\\u044b\\u0447\\u0430\\u0439\\u043d\\u043e\", \"\\u0447\\u0440\\u0435\\u0437\\u0432\\u044b\\u0447\\u0430\\u0439\\u043d\\u043e_\\u0432\\u0430\\u0436\\u043d\\u044b\\u0439\", \"\\u0448\\u043a\\u043e\\u043b\\u0430\", \"\\u0448\\u043a\\u043e\\u043b\\u0430\", \"\\u0448\\u043a\\u043e\\u043b\\u0430\", \"\\u0448\\u043a\\u043e\\u043b\\u044c\\u043d\\u0438\\u043a\", \"\\u0448\\u043e\\u0441\", \"\\u0448\\u0442\\u0430\\u0442\", \"\\u044d\\u043a\\u043e\\u043d\\u043e\\u043c\\u0438\\u043a\\u0430\", \"\\u044d\\u043a\\u043e\\u043d\\u043e\\u043c\\u0438\\u043a\\u0430\", \"\\u044d\\u043a\\u043e\\u043d\\u043e\\u043c\\u0438\\u043a\\u0430\", \"\\u044d\\u043a\\u043e\\u043d\\u043e\\u043c\\u0438\\u043a\\u0430\", \"\\u044d\\u043a\\u043e\\u043d\\u043e\\u043c\\u0438\\u0447\\u0435\\u0441\\u043a\\u0438\\u0439\", \"\\u044d\\u043a\\u043e\\u043d\\u043e\\u043c\\u0438\\u0447\\u0435\\u0441\\u043a\\u0438\\u0439\", \"\\u044d\\u043a\\u043e\\u043d\\u043e\\u043c\\u0438\\u0447\\u0435\\u0441\\u043a\\u0438\\u0439\", \"\\u044d\\u043a\\u043e\\u043d\\u043e\\u043c\\u0438\\u0447\\u0435\\u0441\\u043a\\u0438\\u0439\", \"\\u044d\\u043a\\u0441\\u043f\\u043b\\u0443\\u0430\\u0442\\u0430\\u0446\\u0438\\u044f\", \"\\u044d\\u043a\\u0441\\u0442\\u0440\\u0435\\u043c\\u0438\\u0437\\u043c\", \"\\u044d\\u043b\\u0435\\u043a\\u0442\\u0440\\u043e\\u0441\\u0442\\u0430\\u043d\\u0446\\u0438\\u044f\", \"\\u044d\\u043f\\u0438\\u0434\\u0435\\u043c\\u0438\\u044f\", \"\\u044f\\u0432\\u043b\\u044f\\u0442\\u044c\\u0441\\u044f\", \"\\u044f\\u0432\\u043b\\u044f\\u0442\\u044c\\u0441\\u044f\", \"\\u044f\\u0432\\u043b\\u044f\\u0442\\u044c\\u0441\\u044f\", \"\\u044f\\u0432\\u043b\\u044f\\u0442\\u044c\\u0441\\u044f\", \"\\u044f\\u0432\\u043b\\u044f\\u0442\\u044c\\u0441\\u044f\", \"\\u044f\\u0432\\u043b\\u044f\\u0442\\u044c\\u0441\\u044f\", \"\\u044f\\u0432\\u043b\\u044f\\u0442\\u044c\\u0441\\u044f\", \"\\u044f\\u0432\\u043b\\u044f\\u0442\\u044c\\u0441\\u044f\", \"\\u044f\\u0432\\u043b\\u044f\\u0442\\u044c\\u0441\\u044f\", \"\\u044f\\u0437\\u044b\\u043a\", \"\\u044f\\u043f\\u043e\\u043d\\u0438\\u044f\", \"\\u044f\\u043f\\u043e\\u043d\\u0438\\u044f\", \"\\u044f\\u043f\\u043e\\u043d\\u0441\\u043a\\u0438\\u0439\"]}, \"R\": 30, \"lambda.step\": 0.01, \"plot.opts\": {\"xlab\": \"PC1\", \"ylab\": \"PC2\"}, \"topic.order\": [1, 2, 3, 4, 5, 6, 7, 8, 9, 10]};\n",
       "\n",
       "function LDAvis_load_lib(url, callback){\n",
       "  var s = document.createElement('script');\n",
       "  s.src = url;\n",
       "  s.async = true;\n",
       "  s.onreadystatechange = s.onload = callback;\n",
       "  s.onerror = function(){console.warn(\"failed to load library \" + url);};\n",
       "  document.getElementsByTagName(\"head\")[0].appendChild(s);\n",
       "}\n",
       "\n",
       "if(typeof(LDAvis) !== \"undefined\"){\n",
       "   // already loaded: just create the visualization\n",
       "   !function(LDAvis){\n",
       "       new LDAvis(\"#\" + \"ldavis_el237651546488002000754445\", ldavis_el237651546488002000754445_data);\n",
       "   }(LDAvis);\n",
       "}else if(typeof define === \"function\" && define.amd){\n",
       "   // require.js is available: use it to load d3/LDAvis\n",
       "   require.config({paths: {d3: \"https://d3js.org/d3.v5\"}});\n",
       "   require([\"d3\"], function(d3){\n",
       "      window.d3 = d3;\n",
       "      LDAvis_load_lib(\"https://cdn.jsdelivr.net/gh/bmabey/pyLDAvis@3.3.1/pyLDAvis/js/ldavis.v3.0.0.js\", function(){\n",
       "        new LDAvis(\"#\" + \"ldavis_el237651546488002000754445\", ldavis_el237651546488002000754445_data);\n",
       "      });\n",
       "    });\n",
       "}else{\n",
       "    // require.js not available: dynamically load d3 & LDAvis\n",
       "    LDAvis_load_lib(\"https://d3js.org/d3.v5.js\", function(){\n",
       "         LDAvis_load_lib(\"https://cdn.jsdelivr.net/gh/bmabey/pyLDAvis@3.3.1/pyLDAvis/js/ldavis.v3.0.0.js\", function(){\n",
       "                 new LDAvis(\"#\" + \"ldavis_el237651546488002000754445\", ldavis_el237651546488002000754445_data);\n",
       "            })\n",
       "         });\n",
       "}\n",
       "</script>"
      ],
      "text/plain": [
       "<IPython.core.display.HTML object>"
      ]
     },
     "execution_count": 59,
     "metadata": {},
     "output_type": "execute_result"
    }
   ],
   "source": [
    "# plot topics (NOTE: the IDs here do not match those from the model)\n",
    "data =  pyLDAvis.gensim_models.prepare(model, corpus, dictionary, sort_topics=False)\n",
    "pyLDAvis.display(data)"
   ]
  },
  {
   "attachments": {},
   "cell_type": "markdown",
   "metadata": {},
   "source": [
    "## Rhetoric Ratio Score"
   ]
  },
  {
   "cell_type": "markdown",
   "metadata": {},
   "source": []
  }
 ],
 "metadata": {
  "kernelspec": {
   "display_name": "nlp",
   "language": "python",
   "name": "python3"
  },
  "language_info": {
   "codemirror_mode": {
    "name": "ipython",
    "version": 3
   },
   "file_extension": ".py",
   "mimetype": "text/x-python",
   "name": "python",
   "nbconvert_exporter": "python",
   "pygments_lexer": "ipython3",
   "version": "3.9.15"
  },
  "orig_nbformat": 4,
  "vscode": {
   "interpreter": {
    "hash": "0847cda728ef3e0f335e7e94b5a043d9a0fda1c620343fc6302f7013063303dc"
   }
  }
 },
 "nbformat": 4,
 "nbformat_minor": 2
}
