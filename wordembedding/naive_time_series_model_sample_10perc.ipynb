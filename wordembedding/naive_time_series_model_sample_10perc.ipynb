{
 "cells": [
  {
   "attachments": {},
   "cell_type": "markdown",
   "metadata": {},
   "source": [
    "### Import Libraries"
   ]
  },
  {
   "cell_type": "code",
   "execution_count": 1,
   "metadata": {},
   "outputs": [],
   "source": [
    "import numpy as np\n",
    "import os\n",
    "import pickle\n",
    "import csv\n",
    "import math\n",
    "from gensim.models import Word2Vec\n",
    "from sklearn.utils import resample\n",
    "import random\n",
    "import time\n",
    "\n",
    "random.seed(3919)"
   ]
  },
  {
   "cell_type": "code",
   "execution_count": 2,
   "metadata": {},
   "outputs": [],
   "source": [
    "import pandas as pd\n",
    "import re\n",
    "from collections import Counter"
   ]
  },
  {
   "cell_type": "code",
   "execution_count": 3,
   "metadata": {},
   "outputs": [],
   "source": [
    "from pprint import pprint\n",
    "import gensim\n",
    "from gensim.models import Word2Vec\n",
    "from gensim.models import KeyedVectors\n",
    "import gensim.corpora as corpora\n",
    "from gensim.utils import simple_preprocess\n",
    "from gensim.models import CoherenceModel\n",
    "import gensim.test.utils \n",
    "import itertools\n",
    "from sklearn.utils import resample\n",
    "from multiprocessing import Pool"
   ]
  },
  {
   "cell_type": "code",
   "execution_count": 4,
   "metadata": {},
   "outputs": [],
   "source": [
    "%matplotlib inline\n",
    "import matplotlib.pyplot as plt"
   ]
  },
  {
   "attachments": {},
   "cell_type": "markdown",
   "metadata": {},
   "source": [
    "### import dataset"
   ]
  },
  {
   "cell_type": "code",
   "execution_count": null,
   "metadata": {},
   "outputs": [],
   "source": [
    "#read df phrased lemma with preprocessed text (from office PC)\n",
    "df = pd.read_pickle('/Users/adrianacupp/Desktop/GitHub/russia_lio_contestation/corpus_president_of_russia/df_lemma_preprocessing.pkl')"
   ]
  },
  {
   "cell_type": "code",
   "execution_count": null,
   "metadata": {},
   "outputs": [],
   "source": [
    "df.info()"
   ]
  },
  {
   "cell_type": "code",
   "execution_count": null,
   "metadata": {},
   "outputs": [],
   "source": [
    "all_text = \" \".join(df['text_clean'])\n",
    "word_count = len(re.findall(r'\\w+', all_text))\n",
    "print(\"Total number of words:\", word_count)"
   ]
  },
  {
   "cell_type": "code",
   "execution_count": 127,
   "metadata": {},
   "outputs": [],
   "source": [
    "#load word2vec model on entire \n",
    "model_path = '/Users/adrianacupp/Desktop/GitHub/russia_lio_contestation/wordembedding/models/model2.bin'\n",
    "model = KeyedVectors.load_word2vec_format(model_path, binary=True)"
   ]
  },
  {
   "cell_type": "code",
   "execution_count": 128,
   "metadata": {},
   "outputs": [
    {
     "data": {
      "text/plain": [
       "[('полицентричный', 0.8527029156684875),\n",
       " ('формирование_полицентричного', 0.820906400680542),\n",
       " ('демократический_справедливый', 0.8150774240493774),\n",
       " ('справедливый_демократический', 0.8125821352005005),\n",
       " ('международный_система', 0.8066527843475342),\n",
       " ('многополярный', 0.805690586566925),\n",
       " ('демократический_полицентричного', 0.7952263951301575),\n",
       " ('демократический_система', 0.791087806224823),\n",
       " ('формирование_многополярный', 0.7885502576828003),\n",
       " ('объективный_процесс', 0.7861343622207642),\n",
       " ('многообразие_современный', 0.7795619964599609),\n",
       " ('отражать_культурно', 0.7786999344825745),\n",
       " ('объективно_формироваться', 0.7784688472747803),\n",
       " ('новый_мироустройство', 0.7783229351043701),\n",
       " ('однополярная', 0.7770311832427979),\n",
       " ('пятисотлетнее', 0.774179220199585),\n",
       " ('справедливый_демократичный', 0.7732346057891846),\n",
       " ('ооноцентричной', 0.7725827693939209),\n",
       " ('новый_миропорядок', 0.7700087428092957),\n",
       " ('тенденция_формирование', 0.7696325182914734)]"
      ]
     },
     "execution_count": 128,
     "metadata": {},
     "output_type": "execute_result"
    }
   ],
   "source": [
    "model.most_similar(positive = ['миропорядок'],topn=20)\n",
    "# check for synonyms"
   ]
  },
  {
   "cell_type": "code",
   "execution_count": 149,
   "metadata": {},
   "outputs": [],
   "source": [
    "words = model.key_to_index"
   ]
  },
  {
   "cell_type": "code",
   "execution_count": 152,
   "metadata": {},
   "outputs": [],
   "source": [
    "wv = [model[word]for word in words]"
   ]
  },
  {
   "cell_type": "code",
   "execution_count": 154,
   "metadata": {},
   "outputs": [],
   "source": [
    "reducer = UMAP(n_components=2, metric='cosine', n_neighbors=20, min_dist=0.1)"
   ]
  },
  {
   "cell_type": "code",
   "execution_count": 155,
   "metadata": {},
   "outputs": [],
   "source": [
    "reducer_wc = reducer.fit_transform(wv)"
   ]
  },
  {
   "attachments": {},
   "cell_type": "markdown",
   "metadata": {},
   "source": [
    "### chunk the df into 4 time frames according to presidential mandate"
   ]
  },
  {
   "cell_type": "code",
   "execution_count": null,
   "metadata": {},
   "outputs": [],
   "source": [
    "#trasnform date into datetime\n",
    "df['date'] = pd.to_datetime(df.date)\n",
    "df['date'] = df['date'].dt.strftime('%Y-%m-%d')\n",
    "df['date'].sort_values()"
   ]
  },
  {
   "cell_type": "code",
   "execution_count": null,
   "metadata": {},
   "outputs": [],
   "source": [
    "# create boolean masks for each date range\n",
    "mask1 = (df['date'] >= '2003-01-01') & (df['date'] <= '2008-03-02')\n",
    "mask2 = (df['date'] >= '2008-03-03') & (df['date'] <= '2012-03-04')\n",
    "mask3 = (df['date'] >= '2012-03-05') & (df['date'] <= '2018-03-18')\n",
    "mask4 = (df['date'] >= '2018-03-19') & (df['date'] <= '2023-12-31')"
   ]
  },
  {
   "cell_type": "code",
   "execution_count": null,
   "metadata": {},
   "outputs": [],
   "source": [
    "# create smaller dataframes using boolean indexing\n",
    "t1 = df.loc[mask1] # second Putin's mandate (plus_ a couple of doc from 2003 in Lavrov's):2004-2008\n",
    "t2 = df.loc[mask2] # Medvedev: 2008-2012\n",
    "t3 = df.loc[mask3] # third Putin's mandate: 2012-2018\n",
    "t4 = df.loc[mask4] # fourth Putin's mandate: 2018 - till present (2023)"
   ]
  },
  {
   "cell_type": "code",
   "execution_count": null,
   "metadata": {},
   "outputs": [],
   "source": [
    "# Save the four dataframes in separate pickle files (from office)\n",
    "t1.to_pickle('/Users/adrianacupp/Desktop/GitHub/russia_lio_contestation/corpus_president_of_russia/t1.pkl')\n",
    "t2.to_pickle('/Users/adrianacupp/Desktop/GitHub/russia_lio_contestation/corpus_president_of_russia/t2.pkl')\n",
    "t3.to_pickle('/Users/adrianacupp/Desktop/GitHub/russia_lio_contestation/corpus_president_of_russia/t3.pkl')\n",
    "t4.to_pickle('/Users/adrianacupp/Desktop/GitHub/russia_lio_contestation/corpus_president_of_russia/t4.pkl')"
   ]
  },
  {
   "cell_type": "code",
   "execution_count": 5,
   "metadata": {},
   "outputs": [],
   "source": [
    "# read each era from office\n",
    "t1 = pd.read_pickle('/Users/adrianacupp/Desktop/GitHub/russia_lio_contestation/corpus_president_of_russia/t1.pkl')\n",
    "t2 = pd.read_pickle('/Users/adrianacupp/Desktop/GitHub/russia_lio_contestation/corpus_president_of_russia/t2.pkl')\n",
    "t3 = pd.read_pickle('/Users/adrianacupp/Desktop/GitHub/russia_lio_contestation/corpus_president_of_russia/t3.pkl')\n",
    "t4 = pd.read_pickle('/Users/adrianacupp/Desktop/GitHub/russia_lio_contestation/corpus_president_of_russia/t4.pkl')\n"
   ]
  },
  {
   "cell_type": "code",
   "execution_count": 6,
   "metadata": {},
   "outputs": [],
   "source": [
    "# read each era from MAC\n",
    "t1 = pd.read_pickle('/Users/adrianacuppuleri/Desktop/GITHUB ADRIANA/russia_lio_contestation/corpus_president_of_russia/t1.pkl')\n",
    "t2 = pd.read_pickle('/Users/adrianacuppuleri/Desktop/GITHUB ADRIANA/russia_lio_contestation/corpus_president_of_russia/t2.pkl')\n",
    "t3 = pd.read_pickle('/Users/adrianacuppuleri/Desktop/GITHUB ADRIANA/russia_lio_contestation/corpus_president_of_russia/t3.pkl')\n",
    "t4 = pd.read_pickle('/Users/adrianacuppuleri/Desktop/GITHUB ADRIANA/russia_lio_contestation/corpus_president_of_russia/t4.pkl')"
   ]
  },
  {
   "cell_type": "code",
   "execution_count": 7,
   "metadata": {},
   "outputs": [],
   "source": [
    "#sample the 10% out of it\n",
    "sample_t1 = t1.sample(frac=0.1, replace=False)\n",
    "sample_t2 = t2.sample(frac=0.1, replace=False)\n",
    "sample_t3 = t3.sample(frac=0.1, replace=False)\n",
    "sample_t4 = t4.sample(frac=0.1, replace=False)"
   ]
  },
  {
   "cell_type": "code",
   "execution_count": 8,
   "metadata": {},
   "outputs": [
    {
     "name": "stdout",
     "output_type": "stream",
     "text": [
      "<class 'pandas.core.frame.DataFrame'>\n",
      "Int64Index: 104 entries, 707 to 626\n",
      "Data columns (total 9 columns):\n",
      " #   Column         Non-Null Count  Dtype \n",
      "---  ------         --------------  ----- \n",
      " 0   date           104 non-null    object\n",
      " 1   url            104 non-null    object\n",
      " 2   title          104 non-null    object\n",
      " 3   speaker        104 non-null    object\n",
      " 4   text           104 non-null    object\n",
      " 5   text_clean     104 non-null    object\n",
      " 6   word_count     104 non-null    int64 \n",
      " 7   lemma          104 non-null    object\n",
      " 8   phrased_lemma  104 non-null    object\n",
      "dtypes: int64(1), object(8)\n",
      "memory usage: 8.1+ KB\n",
      "None\n",
      "<class 'pandas.core.frame.DataFrame'>\n",
      "Int64Index: 113 entries, 2105 to 1183\n",
      "Data columns (total 9 columns):\n",
      " #   Column         Non-Null Count  Dtype \n",
      "---  ------         --------------  ----- \n",
      " 0   date           113 non-null    object\n",
      " 1   url            113 non-null    object\n",
      " 2   title          113 non-null    object\n",
      " 3   speaker        113 non-null    object\n",
      " 4   text           113 non-null    object\n",
      " 5   text_clean     113 non-null    object\n",
      " 6   word_count     113 non-null    int64 \n",
      " 7   lemma          113 non-null    object\n",
      " 8   phrased_lemma  113 non-null    object\n",
      "dtypes: int64(1), object(8)\n",
      "memory usage: 8.8+ KB\n",
      "None\n",
      "<class 'pandas.core.frame.DataFrame'>\n",
      "Int64Index: 248 entries, 4219 to 4069\n",
      "Data columns (total 9 columns):\n",
      " #   Column         Non-Null Count  Dtype \n",
      "---  ------         --------------  ----- \n",
      " 0   date           248 non-null    object\n",
      " 1   url            248 non-null    object\n",
      " 2   title          248 non-null    object\n",
      " 3   speaker        248 non-null    object\n",
      " 4   text           248 non-null    object\n",
      " 5   text_clean     248 non-null    object\n",
      " 6   word_count     248 non-null    int64 \n",
      " 7   lemma          248 non-null    object\n",
      " 8   phrased_lemma  248 non-null    object\n",
      "dtypes: int64(1), object(8)\n",
      "memory usage: 19.4+ KB\n",
      "None\n",
      "<class 'pandas.core.frame.DataFrame'>\n",
      "Int64Index: 200 entries, 6464 to 5453\n",
      "Data columns (total 9 columns):\n",
      " #   Column         Non-Null Count  Dtype \n",
      "---  ------         --------------  ----- \n",
      " 0   date           200 non-null    object\n",
      " 1   url            200 non-null    object\n",
      " 2   title          200 non-null    object\n",
      " 3   speaker        200 non-null    object\n",
      " 4   text           200 non-null    object\n",
      " 5   text_clean     200 non-null    object\n",
      " 6   word_count     200 non-null    int64 \n",
      " 7   lemma          200 non-null    object\n",
      " 8   phrased_lemma  200 non-null    object\n",
      "dtypes: int64(1), object(8)\n",
      "memory usage: 15.6+ KB\n",
      "None\n"
     ]
    }
   ],
   "source": [
    "print(sample_t1.info())\n",
    "print(sample_t2.info())\n",
    "print(sample_t3.info())\n",
    "print(sample_t4.info())"
   ]
  },
  {
   "attachments": {},
   "cell_type": "markdown",
   "metadata": {},
   "source": [
    "### Codebook"
   ]
  },
  {
   "cell_type": "code",
   "execution_count": 9,
   "metadata": {},
   "outputs": [],
   "source": [
    "eurasianism = ['евразия',\n",
    "               'русский_мир', \n",
    "               'цивилизация', \n",
    "               'доминирование_запад', \n",
    "               'правило_запад',\n",
    "               'запад', \n",
    "               'гегемония',\n",
    "               'исторический_ревизионизм']\n",
    "\n",
    "westphalianism = [ 'оон',\n",
    "                  'великодержавность',\n",
    "                  'статус',\n",
    "                  'принцип_суверенный',\n",
    "                  'международное_право',\n",
    "                  'демократический_справедливый',\n",
    "                  'международное_право_норма', \n",
    "                  'ооноцентричной',\n",
    "                  'суверенность']"
   ]
  },
  {
   "cell_type": "code",
   "execution_count": 10,
   "metadata": {},
   "outputs": [],
   "source": [
    "security_concerns = [ 'национальная_безопасность',\n",
    "                     'противовес',\n",
    "                     'дестабилизация',\n",
    "                     'нато',\n",
    "                     'угроза',\n",
    "                     'подменить_международное_право',\n",
    "                     'порядок_основать', \n",
    "                     'однополярная',\n",
    "                     'новый_мироустройство', \n",
    "                     'расширяться_восток',\n",
    "                     'однополярный_модель', \n",
    "                     'однополярный', \n",
    "                     'военный_инфраструктура']\n",
    "\n",
    "multipolarism = ['многополярный', \n",
    "                 'партнёрство', \n",
    "                 'сотрудничество', \n",
    "                 'полицентричный',\n",
    "                 'формирование_многополярный', \n",
    "                 'формирование_полицентричного', \n",
    "                 'демократический_полицентричного']"
   ]
  },
  {
   "cell_type": "code",
   "execution_count": 14,
   "metadata": {},
   "outputs": [
    {
     "name": "stdout",
     "output_type": "stream",
     "text": [
      "Similarity between 'миропорядок' and 'многополярный': 0.8056905269622803\n",
      "Similarity between 'миропорядок' and 'партнёрство': 0.38575419783592224\n",
      "Similarity between 'миропорядок' and 'сотрудничество': 0.36429068446159363\n",
      "Similarity between 'миропорядок' and 'полицентричный': 0.8527029752731323\n",
      "Similarity between 'миропорядок' and 'формирование_многополярный': 0.7885503768920898\n",
      "Similarity between 'миропорядок' and 'формирование_полицентричного': 0.820906400680542\n",
      "Similarity between 'миропорядок' and 'демократический_полицентричного': 0.7952264547348022\n"
     ]
    }
   ],
   "source": [
    "target_word = 'миропорядок'\n",
    "for word in multipolarism:\n",
    "    similarity_score = model.similarity(target_word, word)\n",
    "    print(f\"Similarity between '{target_word}' and '{word}': {similarity_score}\")"
   ]
  },
  {
   "attachments": {},
   "cell_type": "markdown",
   "metadata": {},
   "source": [
    "### transform data in list of lists"
   ]
  },
  {
   "cell_type": "code",
   "execution_count": 11,
   "metadata": {},
   "outputs": [],
   "source": [
    "# 10% SAMPLE\n",
    "#transform each timeframe df in a list\n",
    "era1 = sample_t1['phrased_lemma'].tolist()\n",
    "era2 = sample_t2['phrased_lemma'].tolist()\n",
    "era3 = sample_t3['phrased_lemma'].tolist()\n",
    "era4 = sample_t4['phrased_lemma'].tolist()"
   ]
  },
  {
   "cell_type": "code",
   "execution_count": 12,
   "metadata": {},
   "outputs": [
    {
     "data": {
      "text/plain": [
       "104"
      ]
     },
     "execution_count": 12,
     "metadata": {},
     "output_type": "execute_result"
    }
   ],
   "source": [
    "len(era1)"
   ]
  },
  {
   "cell_type": "code",
   "execution_count": 13,
   "metadata": {},
   "outputs": [],
   "source": [
    "list_of_lists = []\n",
    "list_of_lists.append(era1)\n",
    "list_of_lists.append(era2)\n",
    "list_of_lists.append(era3)\n",
    "list_of_lists.append(era4)"
   ]
  },
  {
   "cell_type": "code",
   "execution_count": 14,
   "metadata": {},
   "outputs": [
    {
     "data": {
      "text/plain": [
       "4"
      ]
     },
     "execution_count": 14,
     "metadata": {},
     "output_type": "execute_result"
    }
   ],
   "source": [
    "len(list_of_lists)"
   ]
  },
  {
   "cell_type": "code",
   "execution_count": 25,
   "metadata": {},
   "outputs": [
    {
     "name": "stdout",
     "output_type": "stream",
     "text": [
      "[('день', 3), ('октябрь', 3), ('москва', 2), ('государственный', 2), ('независимость', 2), ('новый', 2), ('переговорный_процесс', 2), ('специальный_рабочий', 2), ('группа', 2), ('каспий', 2)]\n"
     ]
    }
   ],
   "source": [
    "word_freqs =  [Counter(sent) for sent in list_of_lists[0]]\n",
    "# print the top 10 most common words in the first document\n",
    "print(word_freqs[0].most_common(10))"
   ]
  },
  {
   "attachments": {},
   "cell_type": "markdown",
   "metadata": {},
   "source": [
    "### count target_word"
   ]
  },
  {
   "cell_type": "code",
   "execution_count": 15,
   "metadata": {},
   "outputs": [
    {
     "name": "stdout",
     "output_type": "stream",
     "text": [
      "'миропорядок' appears 273 times in the 'phrased_lemma' column of the DataFrame.\n"
     ]
    }
   ],
   "source": [
    "word_count = 0\n",
    "for doc in t4['phrased_lemma']:\n",
    "    if 'миропорядок' in doc:\n",
    "        word_count += doc.count('миропорядок')\n",
    "\n",
    "print(f\"'миропорядок' appears {word_count} times in the 'phrased_lemma' column of the DataFrame.\")"
   ]
  },
  {
   "cell_type": "code",
   "execution_count": 16,
   "metadata": {},
   "outputs": [
    {
     "name": "stdout",
     "output_type": "stream",
     "text": [
      "'миропорядок' appears 26 times in the 'phrased_lemma' column of the DataFrame.\n"
     ]
    }
   ],
   "source": [
    "#sample_t4\n",
    "word_count = 0\n",
    "for doc in sample_t4['phrased_lemma']:\n",
    "    if 'миропорядок' in doc:\n",
    "        word_count += doc.count('миропорядок')\n",
    "\n",
    "print(f\"'миропорядок' appears {word_count} times in the 'phrased_lemma' column of the DataFrame.\")"
   ]
  },
  {
   "cell_type": "code",
   "execution_count": 17,
   "metadata": {},
   "outputs": [
    {
     "data": {
      "text/plain": [
       "6464    [вопрос_сегодня, встречаться, грузоперевозчика...\n",
       "5709    [уважаемые_дама, господь_рад, встреча_проводит...\n",
       "6099    [рад_видеть, слышать, насыщенный_программа, об...\n",
       "4676    [добрый_день, уважаемые_коллега, сегодня_повес...\n",
       "6603    [уважаемые_дама, господь_завершить, продолжите...\n",
       "Name: phrased_lemma, dtype: object"
      ]
     },
     "execution_count": 17,
     "metadata": {},
     "output_type": "execute_result"
    }
   ],
   "source": [
    "sample_t4['phrased_lemma'].head()"
   ]
  },
  {
   "attachments": {},
   "cell_type": "markdown",
   "metadata": {},
   "source": [
    "### Iterating over lists of sentences by era to do era-by-era word2vec modeling"
   ]
  },
  {
   "cell_type": "code",
   "execution_count": 40,
   "metadata": {},
   "outputs": [],
   "source": [
    "n_bootstraps = 2\n",
    "target_word = 'миропорядок'\n",
    "vector_size=100 \n",
    "min_count=2 \n",
    "sg=1 \n",
    "hs=0 \n",
    "negative=5 \n",
    "window=30 \n",
    "workers=4 \n",
    "epochs=100"
   ]
  },
  {
   "cell_type": "code",
   "execution_count": 45,
   "metadata": {},
   "outputs": [],
   "source": [
    "#print the progress for each run\n",
    "def word_embedding(list_of_lists, target_word, eurasianism, westphalianism, security_concerns, multipolarism, \n",
    "                   n_bootstraps=n_bootstraps, vector_size=vector_size, min_count=min_count, sg=sg, \n",
    "                   hs=hs, negative=negative, window=window, workers=workers, epochs=epochs):\n",
    "    \n",
    "    scores = {}\n",
    "    \n",
    "    for j in range(len(list_of_lists)):\n",
    "        era_scores = {}\n",
    "        start_time = time.time()\n",
    "        for k in range(n_bootstraps):\n",
    "            sentence_samples = resample(list_of_lists[j])\n",
    "            model = Word2Vec(\n",
    "                sentence_samples,\n",
    "                vector_size=vector_size, \n",
    "                min_count=min_count, \n",
    "                sg=sg, \n",
    "                hs=hs, \n",
    "                negative=negative, \n",
    "                window=window, \n",
    "                workers=workers,\n",
    "                epochs=epochs\n",
    "            )\n",
    "\n",
    "            eurasianism_scores = []\n",
    "            westphalianism_scores = []\n",
    "            security_concerns_scores = []\n",
    "            multipolarism_scores = []\n",
    "\n",
    "            for word in eurasianism:\n",
    "                if word in model.wv:\n",
    "                    similarity_score = model.wv.similarity(target_word, word)\n",
    "                    eurasianism_scores.append(similarity_score)\n",
    "                else:\n",
    "                    eurasianism_scores.append('NA')\n",
    "\n",
    "            for word in westphalianism:\n",
    "                if word in model.wv:\n",
    "                    similarity_score = model.wv.similarity(target_word, word)\n",
    "                    westphalianism_scores.append(similarity_score)\n",
    "                else:\n",
    "                    westphalianism_scores.append('NA')\n",
    "\n",
    "            for word in security_concerns:\n",
    "                if word in model.wv:\n",
    "                    similarity_score = model.wv.similarity(target_word, word)\n",
    "                    security_concerns_scores.append(similarity_score)\n",
    "                else:\n",
    "                    security_concerns_scores.append('NA')\n",
    "\n",
    "            for word in multipolarism:\n",
    "                if word in model.wv:\n",
    "                    similarity_score = model.wv.similarity(target_word, word)\n",
    "                    multipolarism_scores.append(similarity_score)\n",
    "                else:\n",
    "                    multipolarism_scores.append('NA')\n",
    "\n",
    "            era_scores[k] = {\n",
    "                'eurasianism': eurasianism_scores,\n",
    "                'westphalianism': westphalianism_scores,\n",
    "                'security_concerns': security_concerns_scores,\n",
    "                'multipolarism': multipolarism_scores\n",
    "            }\n",
    "            \n",
    "            # Print progress for each run\n",
    "            print(\"Finished with run %d out of %d for era %d\" % (k+1, n_bootstraps, j+1))\n",
    "            \n",
    "        scores[j] = era_scores\n",
    "        \n",
    "        end_time = time.time()\n",
    "        era = j+1\n",
    "        print(\"Finished with era %d in %.2f seconds.\" % (era, end_time-start_time))\n",
    "        \n",
    "    print(\"*******Finished with all eras.*******\")\n",
    "    \n",
    "    return scores"
   ]
  },
  {
   "cell_type": "code",
   "execution_count": 46,
   "metadata": {},
   "outputs": [
    {
     "name": "stdout",
     "output_type": "stream",
     "text": [
      "Finished with run 1 out of 2 for era 1\n",
      "Finished with run 2 out of 2 for era 1\n",
      "Finished with era 1 in 134.01 seconds.\n"
     ]
    },
    {
     "ename": "KeyboardInterrupt",
     "evalue": "",
     "output_type": "error",
     "traceback": [
      "\u001b[0;31m---------------------------------------------------------------------------\u001b[0m",
      "\u001b[0;31mKeyboardInterrupt\u001b[0m                         Traceback (most recent call last)",
      "Cell \u001b[0;32mIn[46], line 1\u001b[0m\n\u001b[0;32m----> 1\u001b[0m scores \u001b[39m=\u001b[39m word_embedding(list_of_lists, target_word, eurasianism, westphalianism, security_concerns, multipolarism, \n\u001b[1;32m      2\u001b[0m                n_bootstraps \u001b[39m=\u001b[39;49m n_bootstraps, vector_size\u001b[39m=\u001b[39;49mvector_size, min_count\u001b[39m=\u001b[39;49mmin_count, sg\u001b[39m=\u001b[39;49msg, hs\u001b[39m=\u001b[39;49mhs, negative\u001b[39m=\u001b[39;49mnegative, \n\u001b[1;32m      3\u001b[0m                window\u001b[39m=\u001b[39;49mwindow, workers\u001b[39m=\u001b[39;49mworkers, epochs\u001b[39m=\u001b[39;49mepochs)\n",
      "Cell \u001b[0;32mIn[45], line 13\u001b[0m, in \u001b[0;36mword_embedding\u001b[0;34m(list_of_lists, target_word, eurasianism, westphalianism, security_concerns, multipolarism, n_bootstraps, vector_size, min_count, sg, hs, negative, window, workers, epochs)\u001b[0m\n\u001b[1;32m     11\u001b[0m \u001b[39mfor\u001b[39;00m k \u001b[39min\u001b[39;00m \u001b[39mrange\u001b[39m(n_bootstraps):\n\u001b[1;32m     12\u001b[0m     sentence_samples \u001b[39m=\u001b[39m resample(list_of_lists[j])\n\u001b[0;32m---> 13\u001b[0m     model \u001b[39m=\u001b[39m Word2Vec(\n\u001b[1;32m     14\u001b[0m         sentence_samples,\n\u001b[1;32m     15\u001b[0m         vector_size\u001b[39m=\u001b[39;49mvector_size, \n\u001b[1;32m     16\u001b[0m         min_count\u001b[39m=\u001b[39;49mmin_count, \n\u001b[1;32m     17\u001b[0m         sg\u001b[39m=\u001b[39;49msg, \n\u001b[1;32m     18\u001b[0m         hs\u001b[39m=\u001b[39;49mhs, \n\u001b[1;32m     19\u001b[0m         negative\u001b[39m=\u001b[39;49mnegative, \n\u001b[1;32m     20\u001b[0m         window\u001b[39m=\u001b[39;49mwindow, \n\u001b[1;32m     21\u001b[0m         workers\u001b[39m=\u001b[39;49mworkers,\n\u001b[1;32m     22\u001b[0m         epochs\u001b[39m=\u001b[39;49mepochs\n\u001b[1;32m     23\u001b[0m     )\n\u001b[1;32m     25\u001b[0m     eurasianism_scores \u001b[39m=\u001b[39m []\n\u001b[1;32m     26\u001b[0m     westphalianism_scores \u001b[39m=\u001b[39m []\n",
      "File \u001b[0;32m/opt/anaconda3/envs/nlp/lib/python3.9/site-packages/gensim/models/word2vec.py:430\u001b[0m, in \u001b[0;36mWord2Vec.__init__\u001b[0;34m(self, sentences, corpus_file, vector_size, alpha, window, min_count, max_vocab_size, sample, seed, workers, min_alpha, sg, hs, negative, ns_exponent, cbow_mean, hashfxn, epochs, null_word, trim_rule, sorted_vocab, batch_words, compute_loss, callbacks, comment, max_final_vocab, shrink_windows)\u001b[0m\n\u001b[1;32m    428\u001b[0m     \u001b[39mself\u001b[39m\u001b[39m.\u001b[39m_check_corpus_sanity(corpus_iterable\u001b[39m=\u001b[39mcorpus_iterable, corpus_file\u001b[39m=\u001b[39mcorpus_file, passes\u001b[39m=\u001b[39m(epochs \u001b[39m+\u001b[39m \u001b[39m1\u001b[39m))\n\u001b[1;32m    429\u001b[0m     \u001b[39mself\u001b[39m\u001b[39m.\u001b[39mbuild_vocab(corpus_iterable\u001b[39m=\u001b[39mcorpus_iterable, corpus_file\u001b[39m=\u001b[39mcorpus_file, trim_rule\u001b[39m=\u001b[39mtrim_rule)\n\u001b[0;32m--> 430\u001b[0m     \u001b[39mself\u001b[39;49m\u001b[39m.\u001b[39;49mtrain(\n\u001b[1;32m    431\u001b[0m         corpus_iterable\u001b[39m=\u001b[39;49mcorpus_iterable, corpus_file\u001b[39m=\u001b[39;49mcorpus_file, total_examples\u001b[39m=\u001b[39;49m\u001b[39mself\u001b[39;49m\u001b[39m.\u001b[39;49mcorpus_count,\n\u001b[1;32m    432\u001b[0m         total_words\u001b[39m=\u001b[39;49m\u001b[39mself\u001b[39;49m\u001b[39m.\u001b[39;49mcorpus_total_words, epochs\u001b[39m=\u001b[39;49m\u001b[39mself\u001b[39;49m\u001b[39m.\u001b[39;49mepochs, start_alpha\u001b[39m=\u001b[39;49m\u001b[39mself\u001b[39;49m\u001b[39m.\u001b[39;49malpha,\n\u001b[1;32m    433\u001b[0m         end_alpha\u001b[39m=\u001b[39;49m\u001b[39mself\u001b[39;49m\u001b[39m.\u001b[39;49mmin_alpha, compute_loss\u001b[39m=\u001b[39;49m\u001b[39mself\u001b[39;49m\u001b[39m.\u001b[39;49mcompute_loss, callbacks\u001b[39m=\u001b[39;49mcallbacks)\n\u001b[1;32m    434\u001b[0m \u001b[39melse\u001b[39;00m:\n\u001b[1;32m    435\u001b[0m     \u001b[39mif\u001b[39;00m trim_rule \u001b[39mis\u001b[39;00m \u001b[39mnot\u001b[39;00m \u001b[39mNone\u001b[39;00m:\n",
      "File \u001b[0;32m/opt/anaconda3/envs/nlp/lib/python3.9/site-packages/gensim/models/word2vec.py:1073\u001b[0m, in \u001b[0;36mWord2Vec.train\u001b[0;34m(self, corpus_iterable, corpus_file, total_examples, total_words, epochs, start_alpha, end_alpha, word_count, queue_factor, report_delay, compute_loss, callbacks, **kwargs)\u001b[0m\n\u001b[1;32m   1070\u001b[0m     callback\u001b[39m.\u001b[39mon_epoch_begin(\u001b[39mself\u001b[39m)\n\u001b[1;32m   1072\u001b[0m \u001b[39mif\u001b[39;00m corpus_iterable \u001b[39mis\u001b[39;00m \u001b[39mnot\u001b[39;00m \u001b[39mNone\u001b[39;00m:\n\u001b[0;32m-> 1073\u001b[0m     trained_word_count_epoch, raw_word_count_epoch, job_tally_epoch \u001b[39m=\u001b[39m \u001b[39mself\u001b[39;49m\u001b[39m.\u001b[39;49m_train_epoch(\n\u001b[1;32m   1074\u001b[0m         corpus_iterable, cur_epoch\u001b[39m=\u001b[39;49mcur_epoch, total_examples\u001b[39m=\u001b[39;49mtotal_examples,\n\u001b[1;32m   1075\u001b[0m         total_words\u001b[39m=\u001b[39;49mtotal_words, queue_factor\u001b[39m=\u001b[39;49mqueue_factor, report_delay\u001b[39m=\u001b[39;49mreport_delay,\n\u001b[1;32m   1076\u001b[0m         callbacks\u001b[39m=\u001b[39;49mcallbacks, \u001b[39m*\u001b[39;49m\u001b[39m*\u001b[39;49mkwargs)\n\u001b[1;32m   1077\u001b[0m \u001b[39melse\u001b[39;00m:\n\u001b[1;32m   1078\u001b[0m     trained_word_count_epoch, raw_word_count_epoch, job_tally_epoch \u001b[39m=\u001b[39m \u001b[39mself\u001b[39m\u001b[39m.\u001b[39m_train_epoch_corpusfile(\n\u001b[1;32m   1079\u001b[0m         corpus_file, cur_epoch\u001b[39m=\u001b[39mcur_epoch, total_examples\u001b[39m=\u001b[39mtotal_examples, total_words\u001b[39m=\u001b[39mtotal_words,\n\u001b[1;32m   1080\u001b[0m         callbacks\u001b[39m=\u001b[39mcallbacks, \u001b[39m*\u001b[39m\u001b[39m*\u001b[39mkwargs)\n",
      "File \u001b[0;32m/opt/anaconda3/envs/nlp/lib/python3.9/site-packages/gensim/models/word2vec.py:1434\u001b[0m, in \u001b[0;36mWord2Vec._train_epoch\u001b[0;34m(self, data_iterable, cur_epoch, total_examples, total_words, queue_factor, report_delay, callbacks)\u001b[0m\n\u001b[1;32m   1431\u001b[0m     thread\u001b[39m.\u001b[39mdaemon \u001b[39m=\u001b[39m \u001b[39mTrue\u001b[39;00m  \u001b[39m# make interrupting the process with ctrl+c easier\u001b[39;00m\n\u001b[1;32m   1432\u001b[0m     thread\u001b[39m.\u001b[39mstart()\n\u001b[0;32m-> 1434\u001b[0m trained_word_count, raw_word_count, job_tally \u001b[39m=\u001b[39m \u001b[39mself\u001b[39;49m\u001b[39m.\u001b[39;49m_log_epoch_progress(\n\u001b[1;32m   1435\u001b[0m     progress_queue, job_queue, cur_epoch\u001b[39m=\u001b[39;49mcur_epoch, total_examples\u001b[39m=\u001b[39;49mtotal_examples,\n\u001b[1;32m   1436\u001b[0m     total_words\u001b[39m=\u001b[39;49mtotal_words, report_delay\u001b[39m=\u001b[39;49mreport_delay, is_corpus_file_mode\u001b[39m=\u001b[39;49m\u001b[39mFalse\u001b[39;49;00m,\n\u001b[1;32m   1437\u001b[0m )\n\u001b[1;32m   1439\u001b[0m \u001b[39mreturn\u001b[39;00m trained_word_count, raw_word_count, job_tally\n",
      "File \u001b[0;32m/opt/anaconda3/envs/nlp/lib/python3.9/site-packages/gensim/models/word2vec.py:1289\u001b[0m, in \u001b[0;36mWord2Vec._log_epoch_progress\u001b[0;34m(self, progress_queue, job_queue, cur_epoch, total_examples, total_words, report_delay, is_corpus_file_mode)\u001b[0m\n\u001b[1;32m   1286\u001b[0m unfinished_worker_count \u001b[39m=\u001b[39m \u001b[39mself\u001b[39m\u001b[39m.\u001b[39mworkers\n\u001b[1;32m   1288\u001b[0m \u001b[39mwhile\u001b[39;00m unfinished_worker_count \u001b[39m>\u001b[39m \u001b[39m0\u001b[39m:\n\u001b[0;32m-> 1289\u001b[0m     report \u001b[39m=\u001b[39m progress_queue\u001b[39m.\u001b[39;49mget()  \u001b[39m# blocks if workers too slow\u001b[39;00m\n\u001b[1;32m   1290\u001b[0m     \u001b[39mif\u001b[39;00m report \u001b[39mis\u001b[39;00m \u001b[39mNone\u001b[39;00m:  \u001b[39m# a thread reporting that it finished\u001b[39;00m\n\u001b[1;32m   1291\u001b[0m         unfinished_worker_count \u001b[39m-\u001b[39m\u001b[39m=\u001b[39m \u001b[39m1\u001b[39m\n",
      "File \u001b[0;32m/opt/anaconda3/envs/nlp/lib/python3.9/queue.py:171\u001b[0m, in \u001b[0;36mQueue.get\u001b[0;34m(self, block, timeout)\u001b[0m\n\u001b[1;32m    169\u001b[0m \u001b[39melif\u001b[39;00m timeout \u001b[39mis\u001b[39;00m \u001b[39mNone\u001b[39;00m:\n\u001b[1;32m    170\u001b[0m     \u001b[39mwhile\u001b[39;00m \u001b[39mnot\u001b[39;00m \u001b[39mself\u001b[39m\u001b[39m.\u001b[39m_qsize():\n\u001b[0;32m--> 171\u001b[0m         \u001b[39mself\u001b[39;49m\u001b[39m.\u001b[39;49mnot_empty\u001b[39m.\u001b[39;49mwait()\n\u001b[1;32m    172\u001b[0m \u001b[39melif\u001b[39;00m timeout \u001b[39m<\u001b[39m \u001b[39m0\u001b[39m:\n\u001b[1;32m    173\u001b[0m     \u001b[39mraise\u001b[39;00m \u001b[39mValueError\u001b[39;00m(\u001b[39m\"\u001b[39m\u001b[39m'\u001b[39m\u001b[39mtimeout\u001b[39m\u001b[39m'\u001b[39m\u001b[39m must be a non-negative number\u001b[39m\u001b[39m\"\u001b[39m)\n",
      "File \u001b[0;32m/opt/anaconda3/envs/nlp/lib/python3.9/threading.py:312\u001b[0m, in \u001b[0;36mCondition.wait\u001b[0;34m(self, timeout)\u001b[0m\n\u001b[1;32m    310\u001b[0m \u001b[39mtry\u001b[39;00m:    \u001b[39m# restore state no matter what (e.g., KeyboardInterrupt)\u001b[39;00m\n\u001b[1;32m    311\u001b[0m     \u001b[39mif\u001b[39;00m timeout \u001b[39mis\u001b[39;00m \u001b[39mNone\u001b[39;00m:\n\u001b[0;32m--> 312\u001b[0m         waiter\u001b[39m.\u001b[39;49macquire()\n\u001b[1;32m    313\u001b[0m         gotit \u001b[39m=\u001b[39m \u001b[39mTrue\u001b[39;00m\n\u001b[1;32m    314\u001b[0m     \u001b[39melse\u001b[39;00m:\n",
      "\u001b[0;31mKeyboardInterrupt\u001b[0m: "
     ]
    }
   ],
   "source": [
    "scores = word_embedding(list_of_lists, target_word, eurasianism, westphalianism, security_concerns, multipolarism, \n",
    "               n_bootstraps = n_bootstraps, vector_size=vector_size, min_count=min_count, sg=sg, hs=hs, negative=negative, \n",
    "               window=window, workers=workers, epochs=epochs)"
   ]
  },
  {
   "cell_type": "code",
   "execution_count": 24,
   "metadata": {},
   "outputs": [
    {
     "data": {
      "text/plain": [
       "{0: {0: {'eurasianism': [0.26043946,\n",
       "    'NA',\n",
       "    0.21788144,\n",
       "    'NA',\n",
       "    'NA',\n",
       "    0.06992233,\n",
       "    'NA',\n",
       "    'NA'],\n",
       "   'westphalianism': [0.24910375,\n",
       "    'NA',\n",
       "    0.10933363,\n",
       "    'NA',\n",
       "    0.34751895,\n",
       "    0.6953327,\n",
       "    'NA',\n",
       "    'NA',\n",
       "    0.14674398],\n",
       "   'security_concerns': ['NA',\n",
       "    'NA',\n",
       "    0.17685989,\n",
       "    0.07599416,\n",
       "    0.118990004,\n",
       "    'NA',\n",
       "    'NA',\n",
       "    'NA',\n",
       "    'NA',\n",
       "    'NA',\n",
       "    'NA',\n",
       "    'NA',\n",
       "    'NA'],\n",
       "   'multipolarism': [0.4836083,\n",
       "    0.023254517,\n",
       "    0.027282145,\n",
       "    'NA',\n",
       "    'NA',\n",
       "    'NA',\n",
       "    'NA']}},\n",
       " 1: {0: {'eurasianism': [0.14096385,\n",
       "    0.2309123,\n",
       "    0.10528213,\n",
       "    'NA',\n",
       "    'NA',\n",
       "    0.377352,\n",
       "    'NA',\n",
       "    'NA'],\n",
       "   'westphalianism': [0.1504083,\n",
       "    'NA',\n",
       "    0.30242664,\n",
       "    'NA',\n",
       "    0.36040473,\n",
       "    'NA',\n",
       "    'NA',\n",
       "    'NA',\n",
       "    0.29773146],\n",
       "   'security_concerns': ['NA',\n",
       "    'NA',\n",
       "    0.30610338,\n",
       "    0.15080869,\n",
       "    0.1002595,\n",
       "    'NA',\n",
       "    'NA',\n",
       "    'NA',\n",
       "    'NA',\n",
       "    'NA',\n",
       "    'NA',\n",
       "    'NA',\n",
       "    'NA'],\n",
       "   'multipolarism': [0.2250882,\n",
       "    0.23145317,\n",
       "    0.14671738,\n",
       "    0.40835917,\n",
       "    'NA',\n",
       "    'NA',\n",
       "    'NA']}},\n",
       " 2: {0: {'eurasianism': [0.18222846,\n",
       "    0.28308678,\n",
       "    0.21678317,\n",
       "    'NA',\n",
       "    'NA',\n",
       "    0.18088968,\n",
       "    'NA',\n",
       "    'NA'],\n",
       "   'westphalianism': [0.11074315,\n",
       "    'NA',\n",
       "    0.047669597,\n",
       "    'NA',\n",
       "    0.19109546,\n",
       "    'NA',\n",
       "    'NA',\n",
       "    'NA',\n",
       "    0.10794412],\n",
       "   'security_concerns': [0.1457794,\n",
       "    'NA',\n",
       "    0.23751716,\n",
       "    0.20375475,\n",
       "    0.18484093,\n",
       "    'NA',\n",
       "    'NA',\n",
       "    'NA',\n",
       "    'NA',\n",
       "    'NA',\n",
       "    'NA',\n",
       "    'NA',\n",
       "    0.20879424],\n",
       "   'multipolarism': [0.34117296,\n",
       "    0.34859625,\n",
       "    0.1477896,\n",
       "    0.673259,\n",
       "    'NA',\n",
       "    'NA',\n",
       "    'NA']}},\n",
       " 3: {0: {'eurasianism': [0.17163053,\n",
       "    0.119545974,\n",
       "    0.32862657,\n",
       "    0.44496208,\n",
       "    0.62367564,\n",
       "    0.28187564,\n",
       "    'NA',\n",
       "    'NA'],\n",
       "   'westphalianism': [0.33927092,\n",
       "    'NA',\n",
       "    0.18581496,\n",
       "    0.57278794,\n",
       "    0.41098183,\n",
       "    'NA',\n",
       "    'NA',\n",
       "    0.5548408,\n",
       "    0.27742612],\n",
       "   'security_concerns': [0.052718088,\n",
       "    0.4211358,\n",
       "    'NA',\n",
       "    0.33481693,\n",
       "    0.16896309,\n",
       "    'NA',\n",
       "    0.40603566,\n",
       "    'NA',\n",
       "    'NA',\n",
       "    'NA',\n",
       "    'NA',\n",
       "    'NA',\n",
       "    0.1929419],\n",
       "   'multipolarism': [0.3603421,\n",
       "    0.18748556,\n",
       "    0.019475792,\n",
       "    0.39149415,\n",
       "    'NA',\n",
       "    'NA',\n",
       "    'NA']}}}"
      ]
     },
     "execution_count": 24,
     "metadata": {},
     "output_type": "execute_result"
    }
   ],
   "source": [
    "scores"
   ]
  },
  {
   "cell_type": "code",
   "execution_count": 25,
   "metadata": {},
   "outputs": [],
   "source": [
    "# initialize empty dictionary to store the scores\n",
    "stat_types = {}\n",
    "\n",
    "# loop through each target word and its scores\n",
    "for target_word, target_scores in scores.items():\n",
    "\n",
    "    # initialize empty dictionary to store the scores for this target word\n",
    "    target_stat_types = {}\n",
    "\n",
    "    # loop through each era and its scores for this target word\n",
    "    for era, era_scores in target_scores.items():\n",
    "\n",
    "        # initialize empty dictionary to store the scores for this era\n",
    "        era_stat_types = {}\n",
    "\n",
    "        # loop through each statistical type and its score for this era\n",
    "        for stat_type, score in era_scores.items():\n",
    "            era_stat_types[stat_type] = score\n",
    "\n",
    "        # add the scores for this era to the scores for this target word\n",
    "        target_stat_types[era] = era_stat_types\n",
    "\n",
    "    # add the scores for this target word to the overall dictionary of scores\n",
    "    stat_types[target_word] = target_stat_types\n"
   ]
  },
  {
   "cell_type": "code",
   "execution_count": 26,
   "metadata": {},
   "outputs": [
    {
     "data": {
      "text/plain": [
       "{0: {0: {'eurasianism': [0.26043946,\n",
       "    'NA',\n",
       "    0.21788144,\n",
       "    'NA',\n",
       "    'NA',\n",
       "    0.06992233,\n",
       "    'NA',\n",
       "    'NA'],\n",
       "   'westphalianism': [0.24910375,\n",
       "    'NA',\n",
       "    0.10933363,\n",
       "    'NA',\n",
       "    0.34751895,\n",
       "    0.6953327,\n",
       "    'NA',\n",
       "    'NA',\n",
       "    0.14674398],\n",
       "   'security_concerns': ['NA',\n",
       "    'NA',\n",
       "    0.17685989,\n",
       "    0.07599416,\n",
       "    0.118990004,\n",
       "    'NA',\n",
       "    'NA',\n",
       "    'NA',\n",
       "    'NA',\n",
       "    'NA',\n",
       "    'NA',\n",
       "    'NA',\n",
       "    'NA'],\n",
       "   'multipolarism': [0.4836083,\n",
       "    0.023254517,\n",
       "    0.027282145,\n",
       "    'NA',\n",
       "    'NA',\n",
       "    'NA',\n",
       "    'NA']}},\n",
       " 1: {0: {'eurasianism': [0.14096385,\n",
       "    0.2309123,\n",
       "    0.10528213,\n",
       "    'NA',\n",
       "    'NA',\n",
       "    0.377352,\n",
       "    'NA',\n",
       "    'NA'],\n",
       "   'westphalianism': [0.1504083,\n",
       "    'NA',\n",
       "    0.30242664,\n",
       "    'NA',\n",
       "    0.36040473,\n",
       "    'NA',\n",
       "    'NA',\n",
       "    'NA',\n",
       "    0.29773146],\n",
       "   'security_concerns': ['NA',\n",
       "    'NA',\n",
       "    0.30610338,\n",
       "    0.15080869,\n",
       "    0.1002595,\n",
       "    'NA',\n",
       "    'NA',\n",
       "    'NA',\n",
       "    'NA',\n",
       "    'NA',\n",
       "    'NA',\n",
       "    'NA',\n",
       "    'NA'],\n",
       "   'multipolarism': [0.2250882,\n",
       "    0.23145317,\n",
       "    0.14671738,\n",
       "    0.40835917,\n",
       "    'NA',\n",
       "    'NA',\n",
       "    'NA']}},\n",
       " 2: {0: {'eurasianism': [0.18222846,\n",
       "    0.28308678,\n",
       "    0.21678317,\n",
       "    'NA',\n",
       "    'NA',\n",
       "    0.18088968,\n",
       "    'NA',\n",
       "    'NA'],\n",
       "   'westphalianism': [0.11074315,\n",
       "    'NA',\n",
       "    0.047669597,\n",
       "    'NA',\n",
       "    0.19109546,\n",
       "    'NA',\n",
       "    'NA',\n",
       "    'NA',\n",
       "    0.10794412],\n",
       "   'security_concerns': [0.1457794,\n",
       "    'NA',\n",
       "    0.23751716,\n",
       "    0.20375475,\n",
       "    0.18484093,\n",
       "    'NA',\n",
       "    'NA',\n",
       "    'NA',\n",
       "    'NA',\n",
       "    'NA',\n",
       "    'NA',\n",
       "    'NA',\n",
       "    0.20879424],\n",
       "   'multipolarism': [0.34117296,\n",
       "    0.34859625,\n",
       "    0.1477896,\n",
       "    0.673259,\n",
       "    'NA',\n",
       "    'NA',\n",
       "    'NA']}},\n",
       " 3: {0: {'eurasianism': [0.17163053,\n",
       "    0.119545974,\n",
       "    0.32862657,\n",
       "    0.44496208,\n",
       "    0.62367564,\n",
       "    0.28187564,\n",
       "    'NA',\n",
       "    'NA'],\n",
       "   'westphalianism': [0.33927092,\n",
       "    'NA',\n",
       "    0.18581496,\n",
       "    0.57278794,\n",
       "    0.41098183,\n",
       "    'NA',\n",
       "    'NA',\n",
       "    0.5548408,\n",
       "    0.27742612],\n",
       "   'security_concerns': [0.052718088,\n",
       "    0.4211358,\n",
       "    'NA',\n",
       "    0.33481693,\n",
       "    0.16896309,\n",
       "    'NA',\n",
       "    0.40603566,\n",
       "    'NA',\n",
       "    'NA',\n",
       "    'NA',\n",
       "    'NA',\n",
       "    'NA',\n",
       "    0.1929419],\n",
       "   'multipolarism': [0.3603421,\n",
       "    0.18748556,\n",
       "    0.019475792,\n",
       "    0.39149415,\n",
       "    'NA',\n",
       "    'NA',\n",
       "    'NA']}}}"
      ]
     },
     "execution_count": 26,
     "metadata": {},
     "output_type": "execute_result"
    }
   ],
   "source": [
    "stat_types"
   ]
  },
  {
   "cell_type": "code",
   "execution_count": 81,
   "metadata": {},
   "outputs": [],
   "source": [
    "### Saving the model\n",
    "with open('models/naive_model_test.pkl', 'wb') as f:\n",
    "    pickle.dump(stat_types, f)"
   ]
  },
  {
   "cell_type": "code",
   "execution_count": 83,
   "metadata": {},
   "outputs": [],
   "source": [
    "### Loading the model\n",
    "with open('models/naive_model_test.pkl', 'rb') as f:\n",
    "    stat_types = pickle.load(f)"
   ]
  },
  {
   "attachments": {},
   "cell_type": "markdown",
   "metadata": {},
   "source": [
    "get the mean of the bootstrap sample for vectors of sigle word and for vectors of all words from the corpus"
   ]
  },
  {
   "cell_type": "code",
   "execution_count": 66,
   "metadata": {},
   "outputs": [
    {
     "name": "stdout",
     "output_type": "stream",
     "text": [
      "0\n",
      "0\n",
      "eurasianism\n",
      "westphalianism\n",
      "security_concerns\n",
      "multipolarism\n",
      "1\n",
      "0\n",
      "eurasianism\n",
      "westphalianism\n",
      "security_concerns\n",
      "multipolarism\n",
      "2\n",
      "0\n",
      "eurasianism\n",
      "westphalianism\n",
      "security_concerns\n",
      "multipolarism\n",
      "3\n",
      "0\n",
      "eurasianism\n",
      "westphalianism\n",
      "security_concerns\n",
      "multipolarism\n"
     ]
    }
   ],
   "source": [
    "#how the dict is structured\n",
    "for key in stat_types.keys():\n",
    "    print(key)\n",
    "    for subkey in stat_types[key].keys():\n",
    "       print(subkey)\n",
    "       for subsubkey in stat_types[key][subkey].keys():\n",
    "            print(subsubkey)\n"
   ]
  },
  {
   "cell_type": "code",
   "execution_count": 29,
   "metadata": {},
   "outputs": [],
   "source": [
    "means_wCI = []"
   ]
  },
  {
   "cell_type": "code",
   "execution_count": 81,
   "metadata": {},
   "outputs": [
    {
     "name": "stdout",
     "output_type": "stream",
     "text": [
      "Target word: 0, Era: 0\n",
      "Topic: eurasianism, Non-NA Scores: [0.23611195, 0.3017056, 0.12120998]\n",
      "Topic: westphalianism, Non-NA Scores: [0.301473, 0.1782802, 0.086803794]\n",
      "Topic: security_concerns, Non-NA Scores: [0.2230665, 0.11874799, 0.27350312]\n",
      "Topic: multipolarism, Non-NA Scores: [0.32616457, 0.20784695, 0.16787864]\n",
      "Target word: 0, Era: 1\n",
      "Topic: eurasianism, Non-NA Scores: [0.27415803, 0.20329495, 0.1403791]\n",
      "Topic: westphalianism, Non-NA Scores: [0.2827706, 0.2041224, 0.39546254]\n",
      "Topic: security_concerns, Non-NA Scores: [0.122643426, 0.06453786, 0.051859178, 0.08714982, 0.1190715, 0.14253482]\n",
      "Topic: multipolarism, Non-NA Scores: [0.46177483, 0.17690699, 0.28429976, 0.27746]\n",
      "Target word: 0, Era: 2\n",
      "Topic: eurasianism, Non-NA Scores: [0.15980461, 0.14760372, 0.18156637, 0.10109056, 0.30702153]\n",
      "Topic: westphalianism, Non-NA Scores: [0.3314321, 0.076466344, 0.3421914, 0.47189277]\n",
      "Topic: security_concerns, Non-NA Scores: [0.1911688, 0.113584094, 0.18712348, 0.21596834, 0.15309006, 0.080082335, 0.1730899]\n",
      "Topic: multipolarism, Non-NA Scores: [0.22294466, 0.26011345, 0.47220427]\n",
      "Target word: 0, Era: 3\n",
      "Topic: eurasianism, Non-NA Scores: [0.21761805, 0.18769677, 0.24714702, 0.3463703, 0.30899698]\n",
      "Topic: westphalianism, Non-NA Scores: [0.2741456, 0.14559607, 0.28408885]\n",
      "Topic: security_concerns, Non-NA Scores: [0.18023789, 0.20112675, 0.36115912, 0.31174445, 0.17998998, 0.2608584, 0.45391068, 0.1592912]\n",
      "Topic: multipolarism, Non-NA Scores: [0.32857174, 0.12467709, 0.13657051, 0.5135204, 0.28879094]\n"
     ]
    }
   ],
   "source": [
    "for era in stat_types:\n",
    "   for target_word in stat_types[era]:\n",
    "      print(f\"Target word: {target_word}, Era: {era}\")\n",
    "      for topic in stat_types[era][target_word]:\n",
    "         scores = stat_types[era][target_word][topic]\n",
    "         non_na_scores = [score for score in scores if score != 'NA']\n",
    "         if non_na_scores:\n",
    "                print(f\"Topic: {topic}, Non-NA Scores: {non_na_scores}\")\n"
   ]
  },
  {
   "cell_type": "code",
   "execution_count": 30,
   "metadata": {},
   "outputs": [],
   "source": [
    "## calculate means for nonNA vectors and CI\n",
    "for era in stat_types:\n",
    "    stats = []\n",
    "    for boostrap in stat_types[era]:\n",
    "        for topic in stat_types[era][boostrap]:\n",
    "            scores = stat_types[era][boostrap][topic]\n",
    "            non_na_scores = [score for score in scores if score != 'NA' and score is not None] # filter out None values\n",
    "            test = np.asarray(non_na_scores)\n",
    "            if len(test) > 0: # check if there are any non-NA values\n",
    "                test_mean = test.mean()\n",
    "                test_error = 1.95 * (test.std() / math.sqrt(len(non_na_scores)))\n",
    "                test_ci = (test_mean - test_error, test_mean + test_error)\n",
    "                test_stats = test_mean, test_ci\n",
    "                stats.append(test_stats)\n",
    "    means_wCI.append(stats)\n"
   ]
  },
  {
   "cell_type": "code",
   "execution_count": 31,
   "metadata": {},
   "outputs": [
    {
     "data": {
      "text/plain": [
       "[[(0.18274774, (0.0908239607191216, 0.274671512427317)),\n",
       "  (0.3096066, (0.12646597076007013, 0.49274725269726627)),\n",
       "  (0.123948015, (0.0774204500042374, 0.17047558054099726)),\n",
       "  (0.17804831, (-0.06521019006186132, 0.4213068153899253))],\n",
       " [(0.21362758, (0.11122565120458604, 0.3160295024514198)),\n",
       "  (0.2777428, (0.20213171150535347, 0.353353894688189)),\n",
       "  (0.18572386, (0.08711550335556201, 0.28433220882743665)),\n",
       "  (0.25290447, (0.15954374596476556, 0.34626520350575446))],\n",
       " [(0.21574701, (0.17532786866649985, 0.2561661587096751)),\n",
       "  (0.11436309, (0.06467111371457576, 0.1640550646930933)),\n",
       "  (0.19613728, (0.16970332602049448, 0.22257123252366445)),\n",
       "  (0.37770444, (0.1937449350953102, 0.5616639479994774))],\n",
       " [(0.32838607, (0.19393829657251832, 0.4628338401157141)),\n",
       "  (0.3901871, (0.2785640232100824, 0.5018102057442329)),\n",
       "  (0.2627686, (0.15566985699105934, 0.36986733583044334)),\n",
       "  (0.23969941, (0.0944104716181755, 0.38498834520578384))]]"
      ]
     },
     "execution_count": 31,
     "metadata": {},
     "output_type": "execute_result"
    }
   ],
   "source": [
    "means_wCI \n",
    "#The output of the code would be a list of statistics \n",
    "# (means and confidence intervals) for each combination of target word and ideology"
   ]
  },
  {
   "cell_type": "code",
   "execution_count": 126,
   "metadata": {},
   "outputs": [],
   "source": [
    "# define the file path\n",
    "file_path = \"models/means_wCI.pkl\"\n",
    "\n",
    "# save the object to file\n",
    "with open(file_path, 'wb') as f:\n",
    "    pickle.dump(means_wCI, f)\n"
   ]
  },
  {
   "attachments": {},
   "cell_type": "markdown",
   "metadata": {},
   "source": [
    "### plot each concept cos sim evolution over time"
   ]
  },
  {
   "cell_type": "code",
   "execution_count": null,
   "metadata": {},
   "outputs": [],
   "source": [
    "# load the object from file\n",
    "with open(\"models/means_wCI.pkl\", 'rb') as f:\n",
    "    means_wCI = pickle.load(f)\n"
   ]
  },
  {
   "attachments": {},
   "cell_type": "markdown",
   "metadata": {},
   "source": [
    "#### eurasianism"
   ]
  },
  {
   "cell_type": "code",
   "execution_count": 37,
   "metadata": {},
   "outputs": [],
   "source": [
    "eurasianism_means = [era[0][0] for era in means_wCI]"
   ]
  },
  {
   "cell_type": "code",
   "execution_count": 38,
   "metadata": {},
   "outputs": [
    {
     "data": {
      "text/plain": [
       "[0.18274774, 0.21362758, 0.21574701, 0.32838607]"
      ]
     },
     "execution_count": 38,
     "metadata": {},
     "output_type": "execute_result"
    }
   ],
   "source": [
    "eurasianism_means"
   ]
  },
  {
   "cell_type": "code",
   "execution_count": 39,
   "metadata": {},
   "outputs": [
    {
     "data": {
      "image/png": "[encoded data removed]",
      "text/plain": [
       "<Figure size 640x480 with 1 Axes>"
      ]
     },
     "metadata": {},
     "output_type": "display_data"
    }
   ],
   "source": [
    "# Define x-axis labels\n",
    "x_labels = [\"2004-2008\", \"2008-2012\", \"2012-2018\", \"2018-2023\"]\n",
    "y_limits = [0.2, 0.5]\n",
    "# Plot cosine similarity over time\n",
    "plt.plot(eurasianism_means, marker=\"o\", markersize=10, linewidth=2)\n",
    "plt.xticks(range(len(x_labels)), x_labels)\n",
    "plt.xlabel(\"Era\")\n",
    "plt.ylabel(\"Cosine similarity\")\n",
    "plt.title(\"'eurasianism' - 'word order' Cosine similarity\")\n",
    "plt.ylim(0.0, 0.5)\n",
    "plt.show()"
   ]
  },
  {
   "attachments": {},
   "cell_type": "markdown",
   "metadata": {},
   "source": [
    "#### westphalianism"
   ]
  },
  {
   "cell_type": "code",
   "execution_count": 108,
   "metadata": {},
   "outputs": [],
   "source": [
    "westphalianism_means = [era[1][0] for era in means_wCI]"
   ]
  },
  {
   "cell_type": "code",
   "execution_count": 109,
   "metadata": {},
   "outputs": [
    {
     "data": {
      "text/plain": [
       "[0.18885233, 0.29411852, 0.30549568, 0.23461019]"
      ]
     },
     "execution_count": 109,
     "metadata": {},
     "output_type": "execute_result"
    }
   ],
   "source": [
    "westphalianism_means"
   ]
  },
  {
   "cell_type": "code",
   "execution_count": 125,
   "metadata": {},
   "outputs": [
    {
     "data": {
      "image/png": "[encoded data removed]",
      "text/plain": [
       "<Figure size 640x480 with 1 Axes>"
      ]
     },
     "metadata": {},
     "output_type": "display_data"
    }
   ],
   "source": [
    "# Define x-axis labels\n",
    "x_labels = [\"2004-2008\", \"2008-2012\", \"2012-2018\", \"2018-2023\"]\n",
    "y_limits = [0.2, 0.5]\n",
    "# Plot cosine similarity over time\n",
    "plt.plot(westphalianism_means, marker=\"o\", markersize=10, linewidth=2,color='purple')\n",
    "plt.xticks(range(len(x_labels)), x_labels)\n",
    "plt.xlabel(\"Era\")\n",
    "plt.ylabel(\"Cosine similarity\")\n",
    "plt.title(\"'westphalianism' - 'word order' Cosine similarity\")\n",
    "plt.ylim(0.0, 0.5)\n",
    "plt.show()"
   ]
  },
  {
   "attachments": {},
   "cell_type": "markdown",
   "metadata": {},
   "source": [
    "#### security_concerns"
   ]
  },
  {
   "cell_type": "code",
   "execution_count": 112,
   "metadata": {},
   "outputs": [],
   "source": [
    "sec_con_means = [era[2][0] for era in means_wCI]"
   ]
  },
  {
   "cell_type": "code",
   "execution_count": 113,
   "metadata": {},
   "outputs": [
    {
     "data": {
      "text/plain": [
       "[0.20510586, 0.0979661, 0.15915814, 0.2635398]"
      ]
     },
     "execution_count": 113,
     "metadata": {},
     "output_type": "execute_result"
    }
   ],
   "source": [
    "sec_con_means"
   ]
  },
  {
   "cell_type": "code",
   "execution_count": 124,
   "metadata": {},
   "outputs": [
    {
     "data": {
      "image/png": "[encoded data removed]",
      "text/plain": [
       "<Figure size 640x480 with 1 Axes>"
      ]
     },
     "metadata": {},
     "output_type": "display_data"
    }
   ],
   "source": [
    "# Define x-axis labels\n",
    "x_labels = [\"2004-2008\", \"2008-2012\", \"2012-2018\", \"2018-2023\"]\n",
    "y_limits = [0.2, 0.5]\n",
    "# Plot cosine similarity over time\n",
    "plt.plot(sec_con_means, marker=\"o\", markersize=10, linewidth=2,color='green')\n",
    "plt.xticks(range(len(x_labels)), x_labels)\n",
    "plt.xlabel(\"Era\")\n",
    "plt.ylabel(\"Cosine similarity\")\n",
    "plt.title(\"'security concerns' - 'word order' Cosine similarity\")\n",
    "plt.ylim(0.0, 0.5)\n",
    "plt.show()"
   ]
  },
  {
   "attachments": {},
   "cell_type": "markdown",
   "metadata": {},
   "source": [
    "#### multipolarism"
   ]
  },
  {
   "cell_type": "code",
   "execution_count": 119,
   "metadata": {},
   "outputs": [],
   "source": [
    "multipolarism_means = [era[3][0] for era in means_wCI]"
   ]
  },
  {
   "cell_type": "code",
   "execution_count": 120,
   "metadata": {},
   "outputs": [
    {
     "data": {
      "text/plain": [
       "[0.23396339, 0.3001104, 0.3184208, 0.2784261]"
      ]
     },
     "execution_count": 120,
     "metadata": {},
     "output_type": "execute_result"
    }
   ],
   "source": [
    "multipolarism_means"
   ]
  },
  {
   "cell_type": "code",
   "execution_count": 123,
   "metadata": {},
   "outputs": [
    {
     "data": {
      "image/png": "[encoded data removed]",
      "text/plain": [
       "<Figure size 640x480 with 1 Axes>"
      ]
     },
     "metadata": {},
     "output_type": "display_data"
    }
   ],
   "source": [
    "# Define x-axis labels\n",
    "x_labels = [\"2004-2008\", \"2008-2012\", \"2012-2018\", \"2018-2023\"]\n",
    "y_limits = [0.2, 0.5]\n",
    "# Plot cosine similarity over time\n",
    "plt.plot(multipolarism_means, marker=\"o\", markersize=10, linewidth=2,color='red')\n",
    "plt.xticks(range(len(x_labels)), x_labels)\n",
    "plt.xlabel(\"Era\")\n",
    "plt.ylabel(\"Cosine similarity\")\n",
    "plt.title(\"'multipolarism' - 'word order' Cosine similarity\")\n",
    "plt.ylim(0.0, 0.5)\n",
    "plt.show()"
   ]
  },
  {
   "cell_type": "code",
   "execution_count": null,
   "metadata": {},
   "outputs": [],
   "source": []
  }
 ],
 "metadata": {
  "kernelspec": {
   "display_name": "nlp",
   "language": "python",
   "name": "python3"
  },
  "language_info": {
   "codemirror_mode": {
    "name": "ipython",
    "version": 3
   },
   "file_extension": ".py",
   "mimetype": "text/x-python",
   "name": "python",
   "nbconvert_exporter": "python",
   "pygments_lexer": "ipython3",
   "version": "3.9.15"
  },
  "orig_nbformat": 4
 },
 "nbformat": 4,
 "nbformat_minor": 2
}
